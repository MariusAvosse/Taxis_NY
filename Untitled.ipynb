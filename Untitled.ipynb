{
 "cells": [
  {
   "cell_type": "code",
   "execution_count": 1,
   "id": "65361999",
   "metadata": {},
   "outputs": [
    {
     "name": "stderr",
     "output_type": "stream",
     "text": [
      "23/05/24 23:45:06 WARN Utils: Your hostname, marius-Latitude-3410 resolves to a loopback address: 127.0.1.1; using 10.30.204.156 instead (on interface wlp0s20f3)\n",
      "23/05/24 23:45:06 WARN Utils: Set SPARK_LOCAL_IP if you need to bind to another address\n",
      "Setting default log level to \"WARN\".\n",
      "To adjust logging level use sc.setLogLevel(newLevel). For SparkR, use setLogLevel(newLevel).\n",
      "23/05/24 23:45:06 WARN NativeCodeLoader: Unable to load native-hadoop library for your platform... using builtin-java classes where applicable\n",
      "23/05/24 23:45:07 WARN Utils: Service 'SparkUI' could not bind on port 4040. Attempting port 4041.\n"
     ]
    }
   ],
   "source": [
    "import os\n",
    "import sys\n",
    "from pyspark.sql import SparkSession\n",
    "import pyspark.sql\n",
    "\n",
    "spark = (SparkSession\n",
    "        .builder\n",
    "        .appName(\"BIG DATA PROJECT\")\n",
    "        .getOrCreate()\n",
    "        )"
   ]
  },
  {
   "cell_type": "code",
   "execution_count": 64,
   "id": "a221b490",
   "metadata": {},
   "outputs": [
    {
     "name": "stdout",
     "output_type": "stream",
     "text": [
      "Requirement already satisfied: geojson in /home/marius/anaconda3/lib/python3.9/site-packages (3.0.1)\n",
      "Requirement already satisfied: geopandas in /home/marius/anaconda3/lib/python3.9/site-packages (0.13.0)\n",
      "Requirement already satisfied: plotly in /home/marius/anaconda3/lib/python3.9/site-packages (5.9.0)\n",
      "Requirement already satisfied: fiona>=1.8.19 in /home/marius/anaconda3/lib/python3.9/site-packages (from geopandas) (1.9.4)\n",
      "Requirement already satisfied: packaging in /home/marius/anaconda3/lib/python3.9/site-packages (from geopandas) (21.3)\n",
      "Requirement already satisfied: pyproj>=3.0.1 in /home/marius/anaconda3/lib/python3.9/site-packages (from geopandas) (3.5.0)\n",
      "Requirement already satisfied: shapely>=1.7.1 in /home/marius/anaconda3/lib/python3.9/site-packages (from geopandas) (2.0.1)\n",
      "Requirement already satisfied: pandas>=1.1.0 in /home/marius/anaconda3/lib/python3.9/site-packages (from geopandas) (1.4.4)\n",
      "Requirement already satisfied: tenacity>=6.2.0 in /home/marius/anaconda3/lib/python3.9/site-packages (from plotly) (8.0.1)\n",
      "Requirement already satisfied: certifi in /home/marius/anaconda3/lib/python3.9/site-packages (from fiona>=1.8.19->geopandas) (2022.9.14)\n",
      "Requirement already satisfied: click~=8.0 in /home/marius/anaconda3/lib/python3.9/site-packages (from fiona>=1.8.19->geopandas) (8.0.4)\n",
      "Requirement already satisfied: cligj>=0.5 in /home/marius/anaconda3/lib/python3.9/site-packages (from fiona>=1.8.19->geopandas) (0.7.2)\n",
      "Requirement already satisfied: six in /home/marius/anaconda3/lib/python3.9/site-packages (from fiona>=1.8.19->geopandas) (1.16.0)\n",
      "Requirement already satisfied: attrs>=19.2.0 in /home/marius/anaconda3/lib/python3.9/site-packages (from fiona>=1.8.19->geopandas) (21.4.0)\n",
      "Requirement already satisfied: click-plugins>=1.0 in /home/marius/anaconda3/lib/python3.9/site-packages (from fiona>=1.8.19->geopandas) (1.1.1)\n",
      "Requirement already satisfied: importlib-metadata in /home/marius/anaconda3/lib/python3.9/site-packages (from fiona>=1.8.19->geopandas) (4.11.3)\n",
      "Requirement already satisfied: python-dateutil>=2.8.1 in /home/marius/anaconda3/lib/python3.9/site-packages (from pandas>=1.1.0->geopandas) (2.8.2)\n",
      "Requirement already satisfied: pytz>=2020.1 in /home/marius/anaconda3/lib/python3.9/site-packages (from pandas>=1.1.0->geopandas) (2022.1)\n",
      "Requirement already satisfied: numpy>=1.18.5 in /home/marius/anaconda3/lib/python3.9/site-packages (from pandas>=1.1.0->geopandas) (1.21.5)\n",
      "Requirement already satisfied: pyparsing!=3.0.5,>=2.0.2 in /home/marius/anaconda3/lib/python3.9/site-packages (from packaging->geopandas) (3.0.9)\n",
      "Requirement already satisfied: zipp>=0.5 in /home/marius/anaconda3/lib/python3.9/site-packages (from importlib-metadata->fiona>=1.8.19->geopandas) (3.8.0)\n"
     ]
    }
   ],
   "source": [
    "!pip install geojson geopandas plotly"
   ]
  },
  {
   "cell_type": "code",
   "execution_count": 65,
   "id": "9a479fa9",
   "metadata": {},
   "outputs": [
    {
     "name": "stdout",
     "output_type": "stream",
     "text": [
      "Requirement already satisfied: ipyleaflet in /home/marius/anaconda3/lib/python3.9/site-packages (0.17.2)\n",
      "Requirement already satisfied: branca>=0.5.0 in /home/marius/anaconda3/lib/python3.9/site-packages (from ipyleaflet) (0.6.0)\n",
      "Requirement already satisfied: traittypes<3,>=0.2.1 in /home/marius/anaconda3/lib/python3.9/site-packages (from ipyleaflet) (0.2.1)\n",
      "Requirement already satisfied: xyzservices>=2021.8.1 in /home/marius/anaconda3/lib/python3.9/site-packages (from ipyleaflet) (2023.5.0)\n",
      "Requirement already satisfied: ipywidgets<9,>=7.6.0 in /home/marius/anaconda3/lib/python3.9/site-packages (from ipyleaflet) (7.6.5)\n",
      "Requirement already satisfied: jinja2 in /home/marius/anaconda3/lib/python3.9/site-packages (from branca>=0.5.0->ipyleaflet) (2.11.3)\n",
      "Requirement already satisfied: widgetsnbextension~=3.5.0 in /home/marius/anaconda3/lib/python3.9/site-packages (from ipywidgets<9,>=7.6.0->ipyleaflet) (3.5.2)\n",
      "Requirement already satisfied: ipython>=4.0.0 in /home/marius/anaconda3/lib/python3.9/site-packages (from ipywidgets<9,>=7.6.0->ipyleaflet) (7.31.1)\n",
      "Requirement already satisfied: ipykernel>=4.5.1 in /home/marius/anaconda3/lib/python3.9/site-packages (from ipywidgets<9,>=7.6.0->ipyleaflet) (6.15.2)\n",
      "Requirement already satisfied: jupyterlab-widgets>=1.0.0 in /home/marius/anaconda3/lib/python3.9/site-packages (from ipywidgets<9,>=7.6.0->ipyleaflet) (1.0.0)\n",
      "Requirement already satisfied: traitlets>=4.3.1 in /home/marius/anaconda3/lib/python3.9/site-packages (from ipywidgets<9,>=7.6.0->ipyleaflet) (5.1.1)\n",
      "Requirement already satisfied: nbformat>=4.2.0 in /home/marius/anaconda3/lib/python3.9/site-packages (from ipywidgets<9,>=7.6.0->ipyleaflet) (5.5.0)\n",
      "Requirement already satisfied: ipython-genutils~=0.2.0 in /home/marius/anaconda3/lib/python3.9/site-packages (from ipywidgets<9,>=7.6.0->ipyleaflet) (0.2.0)\n",
      "Requirement already satisfied: jupyter-client>=6.1.12 in /home/marius/anaconda3/lib/python3.9/site-packages (from ipykernel>=4.5.1->ipywidgets<9,>=7.6.0->ipyleaflet) (7.3.4)\n",
      "Requirement already satisfied: nest-asyncio in /home/marius/anaconda3/lib/python3.9/site-packages (from ipykernel>=4.5.1->ipywidgets<9,>=7.6.0->ipyleaflet) (1.5.5)\n",
      "Requirement already satisfied: debugpy>=1.0 in /home/marius/anaconda3/lib/python3.9/site-packages (from ipykernel>=4.5.1->ipywidgets<9,>=7.6.0->ipyleaflet) (1.5.1)\n",
      "Requirement already satisfied: tornado>=6.1 in /home/marius/anaconda3/lib/python3.9/site-packages (from ipykernel>=4.5.1->ipywidgets<9,>=7.6.0->ipyleaflet) (6.1)\n",
      "Requirement already satisfied: packaging in /home/marius/anaconda3/lib/python3.9/site-packages (from ipykernel>=4.5.1->ipywidgets<9,>=7.6.0->ipyleaflet) (21.3)\n",
      "Requirement already satisfied: matplotlib-inline>=0.1 in /home/marius/anaconda3/lib/python3.9/site-packages (from ipykernel>=4.5.1->ipywidgets<9,>=7.6.0->ipyleaflet) (0.1.6)\n",
      "Requirement already satisfied: pyzmq>=17 in /home/marius/anaconda3/lib/python3.9/site-packages (from ipykernel>=4.5.1->ipywidgets<9,>=7.6.0->ipyleaflet) (23.2.0)\n",
      "Requirement already satisfied: psutil in /home/marius/anaconda3/lib/python3.9/site-packages (from ipykernel>=4.5.1->ipywidgets<9,>=7.6.0->ipyleaflet) (5.9.0)\n",
      "Requirement already satisfied: decorator in /home/marius/anaconda3/lib/python3.9/site-packages (from ipython>=4.0.0->ipywidgets<9,>=7.6.0->ipyleaflet) (5.1.1)\n",
      "Requirement already satisfied: pickleshare in /home/marius/anaconda3/lib/python3.9/site-packages (from ipython>=4.0.0->ipywidgets<9,>=7.6.0->ipyleaflet) (0.7.5)\n",
      "Requirement already satisfied: backcall in /home/marius/anaconda3/lib/python3.9/site-packages (from ipython>=4.0.0->ipywidgets<9,>=7.6.0->ipyleaflet) (0.2.0)\n",
      "Requirement already satisfied: jedi>=0.16 in /home/marius/anaconda3/lib/python3.9/site-packages (from ipython>=4.0.0->ipywidgets<9,>=7.6.0->ipyleaflet) (0.18.1)\n",
      "Requirement already satisfied: pexpect>4.3 in /home/marius/anaconda3/lib/python3.9/site-packages (from ipython>=4.0.0->ipywidgets<9,>=7.6.0->ipyleaflet) (4.8.0)\n",
      "Requirement already satisfied: setuptools>=18.5 in /home/marius/anaconda3/lib/python3.9/site-packages (from ipython>=4.0.0->ipywidgets<9,>=7.6.0->ipyleaflet) (63.4.1)\n",
      "Requirement already satisfied: prompt-toolkit!=3.0.0,!=3.0.1,<3.1.0,>=2.0.0 in /home/marius/anaconda3/lib/python3.9/site-packages (from ipython>=4.0.0->ipywidgets<9,>=7.6.0->ipyleaflet) (3.0.20)\n",
      "Requirement already satisfied: pygments in /home/marius/anaconda3/lib/python3.9/site-packages (from ipython>=4.0.0->ipywidgets<9,>=7.6.0->ipyleaflet) (2.11.2)\n",
      "Requirement already satisfied: jsonschema>=2.6 in /home/marius/anaconda3/lib/python3.9/site-packages (from nbformat>=4.2.0->ipywidgets<9,>=7.6.0->ipyleaflet) (4.16.0)\n",
      "Requirement already satisfied: jupyter_core in /home/marius/anaconda3/lib/python3.9/site-packages (from nbformat>=4.2.0->ipywidgets<9,>=7.6.0->ipyleaflet) (4.11.1)\n",
      "Requirement already satisfied: fastjsonschema in /home/marius/anaconda3/lib/python3.9/site-packages (from nbformat>=4.2.0->ipywidgets<9,>=7.6.0->ipyleaflet) (2.16.2)\n",
      "Requirement already satisfied: notebook>=4.4.1 in /home/marius/anaconda3/lib/python3.9/site-packages (from widgetsnbextension~=3.5.0->ipywidgets<9,>=7.6.0->ipyleaflet) (6.4.12)\n",
      "Requirement already satisfied: MarkupSafe>=0.23 in /home/marius/anaconda3/lib/python3.9/site-packages (from jinja2->branca>=0.5.0->ipyleaflet) (2.0.1)\n",
      "Requirement already satisfied: parso<0.9.0,>=0.8.0 in /home/marius/anaconda3/lib/python3.9/site-packages (from jedi>=0.16->ipython>=4.0.0->ipywidgets<9,>=7.6.0->ipyleaflet) (0.8.3)\n",
      "Requirement already satisfied: attrs>=17.4.0 in /home/marius/anaconda3/lib/python3.9/site-packages (from jsonschema>=2.6->nbformat>=4.2.0->ipywidgets<9,>=7.6.0->ipyleaflet) (21.4.0)\n",
      "Requirement already satisfied: pyrsistent!=0.17.0,!=0.17.1,!=0.17.2,>=0.14.0 in /home/marius/anaconda3/lib/python3.9/site-packages (from jsonschema>=2.6->nbformat>=4.2.0->ipywidgets<9,>=7.6.0->ipyleaflet) (0.18.0)\n",
      "Requirement already satisfied: entrypoints in /home/marius/anaconda3/lib/python3.9/site-packages (from jupyter-client>=6.1.12->ipykernel>=4.5.1->ipywidgets<9,>=7.6.0->ipyleaflet) (0.4)\n",
      "Requirement already satisfied: python-dateutil>=2.8.2 in /home/marius/anaconda3/lib/python3.9/site-packages (from jupyter-client>=6.1.12->ipykernel>=4.5.1->ipywidgets<9,>=7.6.0->ipyleaflet) (2.8.2)\n",
      "Requirement already satisfied: prometheus-client in /home/marius/anaconda3/lib/python3.9/site-packages (from notebook>=4.4.1->widgetsnbextension~=3.5.0->ipywidgets<9,>=7.6.0->ipyleaflet) (0.14.1)\n",
      "Requirement already satisfied: Send2Trash>=1.8.0 in /home/marius/anaconda3/lib/python3.9/site-packages (from notebook>=4.4.1->widgetsnbextension~=3.5.0->ipywidgets<9,>=7.6.0->ipyleaflet) (1.8.0)\n",
      "Requirement already satisfied: terminado>=0.8.3 in /home/marius/anaconda3/lib/python3.9/site-packages (from notebook>=4.4.1->widgetsnbextension~=3.5.0->ipywidgets<9,>=7.6.0->ipyleaflet) (0.13.1)\n",
      "Requirement already satisfied: nbconvert>=5 in /home/marius/anaconda3/lib/python3.9/site-packages (from notebook>=4.4.1->widgetsnbextension~=3.5.0->ipywidgets<9,>=7.6.0->ipyleaflet) (6.4.4)\n",
      "Requirement already satisfied: argon2-cffi in /home/marius/anaconda3/lib/python3.9/site-packages (from notebook>=4.4.1->widgetsnbextension~=3.5.0->ipywidgets<9,>=7.6.0->ipyleaflet) (21.3.0)\n",
      "Requirement already satisfied: ptyprocess>=0.5 in /home/marius/anaconda3/lib/python3.9/site-packages (from pexpect>4.3->ipython>=4.0.0->ipywidgets<9,>=7.6.0->ipyleaflet) (0.7.0)\n",
      "Requirement already satisfied: wcwidth in /home/marius/anaconda3/lib/python3.9/site-packages (from prompt-toolkit!=3.0.0,!=3.0.1,<3.1.0,>=2.0.0->ipython>=4.0.0->ipywidgets<9,>=7.6.0->ipyleaflet) (0.2.5)\n",
      "Requirement already satisfied: pyparsing!=3.0.5,>=2.0.2 in /home/marius/anaconda3/lib/python3.9/site-packages (from packaging->ipykernel>=4.5.1->ipywidgets<9,>=7.6.0->ipyleaflet) (3.0.9)\n",
      "Requirement already satisfied: bleach in /home/marius/anaconda3/lib/python3.9/site-packages (from nbconvert>=5->notebook>=4.4.1->widgetsnbextension~=3.5.0->ipywidgets<9,>=7.6.0->ipyleaflet) (4.1.0)\n",
      "Requirement already satisfied: defusedxml in /home/marius/anaconda3/lib/python3.9/site-packages (from nbconvert>=5->notebook>=4.4.1->widgetsnbextension~=3.5.0->ipywidgets<9,>=7.6.0->ipyleaflet) (0.7.1)\n",
      "Requirement already satisfied: mistune<2,>=0.8.1 in /home/marius/anaconda3/lib/python3.9/site-packages (from nbconvert>=5->notebook>=4.4.1->widgetsnbextension~=3.5.0->ipywidgets<9,>=7.6.0->ipyleaflet) (0.8.4)\n",
      "Requirement already satisfied: testpath in /home/marius/anaconda3/lib/python3.9/site-packages (from nbconvert>=5->notebook>=4.4.1->widgetsnbextension~=3.5.0->ipywidgets<9,>=7.6.0->ipyleaflet) (0.6.0)\n",
      "Requirement already satisfied: pandocfilters>=1.4.1 in /home/marius/anaconda3/lib/python3.9/site-packages (from nbconvert>=5->notebook>=4.4.1->widgetsnbextension~=3.5.0->ipywidgets<9,>=7.6.0->ipyleaflet) (1.5.0)\n",
      "Requirement already satisfied: jupyterlab-pygments in /home/marius/anaconda3/lib/python3.9/site-packages (from nbconvert>=5->notebook>=4.4.1->widgetsnbextension~=3.5.0->ipywidgets<9,>=7.6.0->ipyleaflet) (0.1.2)\n",
      "Requirement already satisfied: beautifulsoup4 in /home/marius/anaconda3/lib/python3.9/site-packages (from nbconvert>=5->notebook>=4.4.1->widgetsnbextension~=3.5.0->ipywidgets<9,>=7.6.0->ipyleaflet) (4.11.1)\n",
      "Requirement already satisfied: nbclient<0.6.0,>=0.5.0 in /home/marius/anaconda3/lib/python3.9/site-packages (from nbconvert>=5->notebook>=4.4.1->widgetsnbextension~=3.5.0->ipywidgets<9,>=7.6.0->ipyleaflet) (0.5.13)\n",
      "Requirement already satisfied: six>=1.5 in /home/marius/anaconda3/lib/python3.9/site-packages (from python-dateutil>=2.8.2->jupyter-client>=6.1.12->ipykernel>=4.5.1->ipywidgets<9,>=7.6.0->ipyleaflet) (1.16.0)\n"
     ]
    },
    {
     "name": "stdout",
     "output_type": "stream",
     "text": [
      "Requirement already satisfied: argon2-cffi-bindings in /home/marius/anaconda3/lib/python3.9/site-packages (from argon2-cffi->notebook>=4.4.1->widgetsnbextension~=3.5.0->ipywidgets<9,>=7.6.0->ipyleaflet) (21.2.0)\n",
      "Requirement already satisfied: cffi>=1.0.1 in /home/marius/anaconda3/lib/python3.9/site-packages (from argon2-cffi-bindings->argon2-cffi->notebook>=4.4.1->widgetsnbextension~=3.5.0->ipywidgets<9,>=7.6.0->ipyleaflet) (1.15.1)\n",
      "Requirement already satisfied: soupsieve>1.2 in /home/marius/anaconda3/lib/python3.9/site-packages (from beautifulsoup4->nbconvert>=5->notebook>=4.4.1->widgetsnbextension~=3.5.0->ipywidgets<9,>=7.6.0->ipyleaflet) (2.3.1)\n",
      "Requirement already satisfied: webencodings in /home/marius/anaconda3/lib/python3.9/site-packages (from bleach->nbconvert>=5->notebook>=4.4.1->widgetsnbextension~=3.5.0->ipywidgets<9,>=7.6.0->ipyleaflet) (0.5.1)\n",
      "Requirement already satisfied: pycparser in /home/marius/anaconda3/lib/python3.9/site-packages (from cffi>=1.0.1->argon2-cffi-bindings->argon2-cffi->notebook>=4.4.1->widgetsnbextension~=3.5.0->ipywidgets<9,>=7.6.0->ipyleaflet) (2.21)\n"
     ]
    }
   ],
   "source": [
    "!pip install ipyleaflet"
   ]
  },
  {
   "cell_type": "code",
   "execution_count": 3,
   "id": "44717bc9",
   "metadata": {},
   "outputs": [
    {
     "data": {
      "text/html": [
       "<div>\n",
       "<style scoped>\n",
       "    .dataframe tbody tr th:only-of-type {\n",
       "        vertical-align: middle;\n",
       "    }\n",
       "\n",
       "    .dataframe tbody tr th {\n",
       "        vertical-align: top;\n",
       "    }\n",
       "\n",
       "    .dataframe thead th {\n",
       "        text-align: right;\n",
       "    }\n",
       "</style>\n",
       "<table border=\"1\" class=\"dataframe\">\n",
       "  <thead>\n",
       "    <tr style=\"text-align: right;\">\n",
       "      <th></th>\n",
       "      <th>OBJECTID</th>\n",
       "      <th>Shape_Leng</th>\n",
       "      <th>Shape_Area</th>\n",
       "      <th>zone</th>\n",
       "      <th>LocationID</th>\n",
       "      <th>borough</th>\n",
       "      <th>geometry</th>\n",
       "    </tr>\n",
       "  </thead>\n",
       "  <tbody>\n",
       "    <tr>\n",
       "      <th>0</th>\n",
       "      <td>1</td>\n",
       "      <td>0.116357</td>\n",
       "      <td>0.000782</td>\n",
       "      <td>Newark Airport</td>\n",
       "      <td>1</td>\n",
       "      <td>EWR</td>\n",
       "      <td>POLYGON ((933100.918 192536.086, 933091.011 19...</td>\n",
       "    </tr>\n",
       "    <tr>\n",
       "      <th>1</th>\n",
       "      <td>2</td>\n",
       "      <td>0.433470</td>\n",
       "      <td>0.004866</td>\n",
       "      <td>Jamaica Bay</td>\n",
       "      <td>2</td>\n",
       "      <td>Queens</td>\n",
       "      <td>MULTIPOLYGON (((1033269.244 172126.008, 103343...</td>\n",
       "    </tr>\n",
       "    <tr>\n",
       "      <th>2</th>\n",
       "      <td>3</td>\n",
       "      <td>0.084341</td>\n",
       "      <td>0.000314</td>\n",
       "      <td>Allerton/Pelham Gardens</td>\n",
       "      <td>3</td>\n",
       "      <td>Bronx</td>\n",
       "      <td>POLYGON ((1026308.770 256767.698, 1026495.593 ...</td>\n",
       "    </tr>\n",
       "    <tr>\n",
       "      <th>3</th>\n",
       "      <td>4</td>\n",
       "      <td>0.043567</td>\n",
       "      <td>0.000112</td>\n",
       "      <td>Alphabet City</td>\n",
       "      <td>4</td>\n",
       "      <td>Manhattan</td>\n",
       "      <td>POLYGON ((992073.467 203714.076, 992068.667 20...</td>\n",
       "    </tr>\n",
       "    <tr>\n",
       "      <th>4</th>\n",
       "      <td>5</td>\n",
       "      <td>0.092146</td>\n",
       "      <td>0.000498</td>\n",
       "      <td>Arden Heights</td>\n",
       "      <td>5</td>\n",
       "      <td>Staten Island</td>\n",
       "      <td>POLYGON ((935843.310 144283.336, 936046.565 14...</td>\n",
       "    </tr>\n",
       "    <tr>\n",
       "      <th>...</th>\n",
       "      <td>...</td>\n",
       "      <td>...</td>\n",
       "      <td>...</td>\n",
       "      <td>...</td>\n",
       "      <td>...</td>\n",
       "      <td>...</td>\n",
       "      <td>...</td>\n",
       "    </tr>\n",
       "    <tr>\n",
       "      <th>258</th>\n",
       "      <td>259</td>\n",
       "      <td>0.126750</td>\n",
       "      <td>0.000395</td>\n",
       "      <td>Woodlawn/Wakefield</td>\n",
       "      <td>259</td>\n",
       "      <td>Bronx</td>\n",
       "      <td>POLYGON ((1025414.782 270986.139, 1025138.624 ...</td>\n",
       "    </tr>\n",
       "    <tr>\n",
       "      <th>259</th>\n",
       "      <td>260</td>\n",
       "      <td>0.133514</td>\n",
       "      <td>0.000422</td>\n",
       "      <td>Woodside</td>\n",
       "      <td>260</td>\n",
       "      <td>Queens</td>\n",
       "      <td>POLYGON ((1011466.966 216463.005, 1011545.889 ...</td>\n",
       "    </tr>\n",
       "    <tr>\n",
       "      <th>260</th>\n",
       "      <td>261</td>\n",
       "      <td>0.027120</td>\n",
       "      <td>0.000034</td>\n",
       "      <td>World Trade Center</td>\n",
       "      <td>261</td>\n",
       "      <td>Manhattan</td>\n",
       "      <td>POLYGON ((980555.204 196138.486, 980570.792 19...</td>\n",
       "    </tr>\n",
       "    <tr>\n",
       "      <th>261</th>\n",
       "      <td>262</td>\n",
       "      <td>0.049064</td>\n",
       "      <td>0.000122</td>\n",
       "      <td>Yorkville East</td>\n",
       "      <td>262</td>\n",
       "      <td>Manhattan</td>\n",
       "      <td>MULTIPOLYGON (((999804.795 224498.527, 999824....</td>\n",
       "    </tr>\n",
       "    <tr>\n",
       "      <th>262</th>\n",
       "      <td>263</td>\n",
       "      <td>0.037017</td>\n",
       "      <td>0.000066</td>\n",
       "      <td>Yorkville West</td>\n",
       "      <td>263</td>\n",
       "      <td>Manhattan</td>\n",
       "      <td>POLYGON ((997493.323 220912.386, 997355.264 22...</td>\n",
       "    </tr>\n",
       "  </tbody>\n",
       "</table>\n",
       "<p>263 rows × 7 columns</p>\n",
       "</div>"
      ],
      "text/plain": [
       "     OBJECTID  Shape_Leng  Shape_Area                     zone  LocationID  \\\n",
       "0           1    0.116357    0.000782           Newark Airport           1   \n",
       "1           2    0.433470    0.004866              Jamaica Bay           2   \n",
       "2           3    0.084341    0.000314  Allerton/Pelham Gardens           3   \n",
       "3           4    0.043567    0.000112            Alphabet City           4   \n",
       "4           5    0.092146    0.000498            Arden Heights           5   \n",
       "..        ...         ...         ...                      ...         ...   \n",
       "258       259    0.126750    0.000395       Woodlawn/Wakefield         259   \n",
       "259       260    0.133514    0.000422                 Woodside         260   \n",
       "260       261    0.027120    0.000034       World Trade Center         261   \n",
       "261       262    0.049064    0.000122           Yorkville East         262   \n",
       "262       263    0.037017    0.000066           Yorkville West         263   \n",
       "\n",
       "           borough                                           geometry  \n",
       "0              EWR  POLYGON ((933100.918 192536.086, 933091.011 19...  \n",
       "1           Queens  MULTIPOLYGON (((1033269.244 172126.008, 103343...  \n",
       "2            Bronx  POLYGON ((1026308.770 256767.698, 1026495.593 ...  \n",
       "3        Manhattan  POLYGON ((992073.467 203714.076, 992068.667 20...  \n",
       "4    Staten Island  POLYGON ((935843.310 144283.336, 936046.565 14...  \n",
       "..             ...                                                ...  \n",
       "258          Bronx  POLYGON ((1025414.782 270986.139, 1025138.624 ...  \n",
       "259         Queens  POLYGON ((1011466.966 216463.005, 1011545.889 ...  \n",
       "260      Manhattan  POLYGON ((980555.204 196138.486, 980570.792 19...  \n",
       "261      Manhattan  MULTIPOLYGON (((999804.795 224498.527, 999824....  \n",
       "262      Manhattan  POLYGON ((997493.323 220912.386, 997355.264 22...  \n",
       "\n",
       "[263 rows x 7 columns]"
      ]
     },
     "execution_count": 3,
     "metadata": {},
     "output_type": "execute_result"
    }
   ],
   "source": [
    "# read the parquet file\n",
    "import geopandas as gpd\n",
    "import plotly.graph_objects as go\n",
    "from plotly.subplots import make_subplots\n",
    "import plotly.express as px\n",
    "\n",
    "\n",
    "df_yel= spark.read.parquet(\"/home/marius/Téléchargements/yellow_tripdata_2019-03.parquet\")\n",
    "df_fhv= spark.read.parquet(\"/home/marius/Téléchargements/fhv_tripdata_2019-03.parquet\")\n",
    "\n",
    "df_zones = gpd.read_file(\"/home/marius/Téléchargements/taxi_zones/taxi_zones.shp\")\n",
    "\n",
    "\n",
    "df_yel.columns\n",
    "#df_fhv.columns\n",
    "#df_yel.show()\n",
    "#df_fhv.show()\n",
    "\n",
    "df_zones"
   ]
  },
  {
   "cell_type": "markdown",
   "id": "fed25f70",
   "metadata": {},
   "source": [
    "1. What is the number of partitions of the dataframe?"
   ]
  },
  {
   "cell_type": "code",
   "execution_count": 3,
   "id": "1eae547d",
   "metadata": {},
   "outputs": [
    {
     "data": {
      "text/plain": [
       "8"
      ]
     },
     "execution_count": 3,
     "metadata": {},
     "output_type": "execute_result"
    }
   ],
   "source": [
    "num_partitions = df_yel.rdd.getNumPartitions()\n",
    "num_partitions"
   ]
  },
  {
   "cell_type": "code",
   "execution_count": 4,
   "id": "98b31d57",
   "metadata": {},
   "outputs": [
    {
     "data": {
      "text/plain": [
       "DataFrame[VendorID: bigint, tpep_pickup_datetime: timestamp_ntz, tpep_dropoff_datetime: timestamp_ntz, passenger_count: double, trip_distance: double, RatecodeID: double, store_and_fwd_flag: string, PULocationID: bigint, DOLocationID: bigint, payment_type: bigint, fare_amount: double, extra: double, mta_tax: double, tip_amount: double, tolls_amount: double, improvement_surcharge: double, total_amount: double, congestion_surcharge: double, airport_fee: int]"
      ]
     },
     "execution_count": 4,
     "metadata": {},
     "output_type": "execute_result"
    }
   ],
   "source": [
    "# Dropping na values \n",
    "df_yel.na.drop()"
   ]
  },
  {
   "cell_type": "code",
   "execution_count": null,
   "id": "16a34b5d",
   "metadata": {},
   "outputs": [],
   "source": []
  },
  {
   "cell_type": "code",
   "execution_count": 5,
   "id": "92bc9d9f",
   "metadata": {},
   "outputs": [
    {
     "name": "stdout",
     "output_type": "stream",
     "text": [
      "+--------+--------------------+---------------------+---------------+-------------+----------+------------------+------------+------------+------------+-----------+-----+-------+----------+------------+---------------------+------------+--------------------+-----------+\n",
      "|VendorID|tpep_pickup_datetime|tpep_dropoff_datetime|passenger_count|trip_distance|RatecodeID|store_and_fwd_flag|PULocationID|DOLocationID|payment_type|fare_amount|extra|mta_tax|tip_amount|tolls_amount|improvement_surcharge|total_amount|congestion_surcharge|airport_fee|\n",
      "+--------+--------------------+---------------------+---------------+-------------+----------+------------------+------------+------------+------------+-----------+-----+-------+----------+------------+---------------------+------------+--------------------+-----------+\n",
      "|       1| 2019-03-01 00:24:41|  2019-03-01 00:25:31|            1.0|          0.0|       1.0|                 N|         145|         145|           2|        2.5|  0.5|    0.5|       0.0|         0.0|                  0.3|         3.8|                 0.0|       null|\n",
      "|       1| 2019-03-01 00:25:27|  2019-03-01 00:36:37|            2.0|          3.7|       1.0|                 N|          95|         130|           1|       13.0|  0.5|    0.5|       0.7|         0.0|                  0.3|        15.0|                 0.0|       null|\n",
      "|       1| 2019-03-01 00:05:21|  2019-03-01 00:38:23|            1.0|         14.1|       1.0|                 N|         249|          28|           1|       41.0|  3.0|    0.5|      10.1|        5.76|                  0.3|       60.66|                 2.5|       null|\n",
      "|       1| 2019-03-01 00:48:55|  2019-03-01 01:06:03|            1.0|          9.6|       1.0|                 N|         138|          98|           2|       27.0|  0.5|    0.5|       0.0|         0.0|                  0.3|        28.3|                 0.0|       null|\n",
      "|       1| 2019-03-01 00:11:42|  2019-03-01 00:16:40|            1.0|          0.8|       1.0|                 N|          48|          48|           1|        5.5|  3.0|    0.5|       3.0|         0.0|                  0.3|        12.3|                 2.5|       null|\n",
      "|       1| 2019-03-01 00:45:03|  2019-03-01 00:49:38|            1.0|          1.2|       1.0|                 N|         246|          48|           2|        6.0|  3.0|    0.5|       0.0|         0.0|                  0.3|         9.8|                 2.5|       null|\n",
      "|       1| 2019-03-01 00:02:37|  2019-03-01 00:07:30|            1.0|          0.6|       1.0|                 Y|         239|         238|           2|        5.5|  3.0|    0.5|       0.0|         0.0|                  0.3|         9.3|                 2.5|       null|\n",
      "|       2| 2019-02-28 19:52:45|  2019-02-28 20:01:54|            1.0|         5.65|       1.0|                 N|         132|         197|           2|       17.0|  0.5|    0.5|       0.0|         0.0|                  0.3|        18.3|                 0.0|       null|\n",
      "|       2| 2019-03-01 00:14:23|  2019-03-01 00:19:17|            1.0|         1.16|       1.0|                 N|         229|         170|           1|        6.0|  0.5|    0.5|      2.45|         0.0|                  0.3|       12.25|                 2.5|       null|\n",
      "|       2| 2019-03-01 00:19:09|  2019-03-01 00:23:30|            1.0|         0.71|       1.0|                 N|         137|         234|           1|        5.0|  0.5|    0.5|       1.0|         0.0|                  0.3|         9.8|                 2.5|       null|\n",
      "|       2| 2019-03-01 00:06:46|  2019-03-01 00:17:09|            5.0|         2.63|       1.0|                 N|         231|         246|           1|       10.5|  0.5|    0.5|      2.86|         0.0|                  0.3|       17.16|                 2.5|       null|\n",
      "|       1| 2019-03-01 00:00:46|  2019-03-01 00:26:41|            1.0|          5.0|       1.0|                 N|         230|           7|           3|       20.5|  3.0|    0.5|       0.0|         0.0|                  0.3|        24.3|                 2.5|       null|\n",
      "|       2| 2019-03-01 00:00:40|  2019-03-01 00:49:26|            2.0|        14.04|       1.0|                 N|         170|         123|           1|       45.5|  0.5|    0.5|     14.79|         0.0|                  0.3|       64.09|                 2.5|       null|\n",
      "|       1| 2019-03-01 00:21:46|  2019-03-01 00:30:25|            1.0|          2.0|       1.0|                 N|         143|         263|           1|        9.0|  3.0|    0.5|      2.55|         0.0|                  0.3|       15.35|                 2.5|       null|\n",
      "|       2| 2019-03-01 00:25:16|  2019-03-01 00:31:39|            5.0|         2.11|       1.0|                 N|         229|         236|           1|        8.0|  0.5|    0.5|       2.0|         0.0|                  0.3|        13.8|                 2.5|       null|\n",
      "|       1| 2019-03-01 00:03:09|  2019-03-01 00:49:16|            1.0|          6.8|       1.0|                 N|         162|          49|           2|       31.5|  3.0|    0.5|       0.0|         0.0|                  0.3|        35.3|                 2.5|       null|\n",
      "|       2| 2019-03-01 00:55:49|  2019-03-01 01:11:06|            1.0|         5.97|       1.0|                 N|         152|         153|           2|       19.0|  0.5|    0.5|       0.0|         0.0|                  0.3|        20.3|                 0.0|       null|\n",
      "|       1| 2019-03-01 00:35:42|  2019-03-01 00:47:06|            1.0|          3.4|       1.0|                 N|         162|          74|           1|       12.0|  3.0|    0.5|       1.5|         0.0|                  0.3|        17.3|                 2.5|       null|\n",
      "|       2| 2019-03-01 00:45:03|  2019-03-01 01:14:25|            1.0|        16.89|       2.0|                 N|         132|         229|           1|       52.0|  0.0|    0.5|     11.06|         0.0|                  0.3|       66.36|                 2.5|       null|\n",
      "|       1| 2019-03-01 00:42:38|  2019-03-01 01:02:58|            1.0|          5.4|       1.0|                 N|          25|         246|           1|       19.5|  3.0|    0.5|       3.5|         0.0|                  0.3|        26.8|                 2.5|       null|\n",
      "+--------+--------------------+---------------------+---------------+-------------+----------+------------------+------------+------------+------------+-----------+-----+-------+----------+------------+---------------------+------------+--------------------+-----------+\n",
      "only showing top 20 rows\n",
      "\n"
     ]
    },
    {
     "name": "stderr",
     "output_type": "stream",
     "text": [
      "\r",
      "[Stage 3:============================================>              (3 + 1) / 4]\r",
      "\r",
      "                                                                                \r"
     ]
    }
   ],
   "source": [
    "df_yel.show()"
   ]
  },
  {
   "cell_type": "markdown",
   "id": "bf871092",
   "metadata": {},
   "source": [
    "1. Using these boundaries, filter the 2019 data (using pickup and dropoff longitude and\n",
    "latitude) and count the number of trips for each value of passenger_count and make a\n",
    "plot of that."
   ]
  },
  {
   "cell_type": "code",
   "execution_count": 6,
   "id": "ec479a99",
   "metadata": {},
   "outputs": [
    {
     "name": "stdout",
     "output_type": "stream",
     "text": [
      "+----------+------------------+------------------+--------------------+-------------+\n",
      "|LocationID|          latitude|         longitude|                zone|      borough|\n",
      "+----------+------------------+------------------+--------------------+-------------+\n",
      "|         1|-74.17400156582248| 40.69183016020958|      Newark Airport|          EWR|\n",
      "|         2|-73.83129979354713|40.616746199373786|         Jamaica Bay|       Queens|\n",
      "|         3| -73.8474217852696| 40.86447372906585|Allerton/Pelham G...|        Bronx|\n",
      "|         4|-73.97696827424141| 40.72375208451233|       Alphabet City|    Manhattan|\n",
      "|         5|-74.18848459794721| 40.55265878064343|       Arden Heights|Staten Island|\n",
      "|         6|-74.07177024696533|40.600324409468406|Arrochar/Fort Wad...|Staten Island|\n",
      "|         7|-73.91969433569462| 40.76149261704312|             Astoria|       Queens|\n",
      "|         8|-73.92308626324494| 40.77855862576789|        Astoria Park|       Queens|\n",
      "|         9|-73.78794875477833| 40.75103435668663|          Auburndale|       Queens|\n",
      "|        10|-73.79098676199028| 40.67895308442328|        Baisley Park|       Queens|\n",
      "|        11|-74.00748784386448| 40.60427268170343|          Bath Beach|     Brooklyn|\n",
      "|        12|-74.01556349991374| 40.70294582144012|        Battery Park|    Manhattan|\n",
      "|        13|-74.01607927269924| 40.71203792466726|   Battery Park City|    Manhattan|\n",
      "|        14|    -74.0298925099| 40.62483367229869|           Bay Ridge|     Brooklyn|\n",
      "|        15|-73.78597285841018| 40.78333300468791|Bay Terrace/Fort ...|       Queens|\n",
      "|        16|-73.77342112932584|40.762737532164934|             Bayside|       Queens|\n",
      "|        17|-73.94990480444068|40.691507021611976|             Bedford|     Brooklyn|\n",
      "|        18|-73.89018381164814| 40.86768222238495|        Bedford Park|        Bronx|\n",
      "|        19|-73.72665540152784| 40.73548651046705|           Bellerose|       Queens|\n",
      "|        20|-73.88586744911127|40.857779440562844|             Belmont|        Bronx|\n",
      "+----------+------------------+------------------+--------------------+-------------+\n",
      "only showing top 20 rows\n",
      "\n"
     ]
    }
   ],
   "source": [
    "from pyspark.sql.functions import *\n",
    "  \n",
    "# Return Centroid as crs code of 3310 for calcuating distance in meters.\n",
    "     \n",
    "df_zones[\"centroid\"] = df_zones.geometry.centroid.to_crs(epsg=3310)\n",
    "    \n",
    "# Convert cordinates to the WSG84 lat/long CRS has a EPSG code of 4326.\n",
    "df_zones[\"latitude\"] = df_zones.centroid.to_crs(epsg=4326).x\n",
    "df_zones[\"longitude\"] = df_zones.centroid.to_crs(epsg=4326).y\n",
    "df_zones =df_zones[['LocationID','latitude','longitude','zone','borough']]\n",
    "\n",
    "#convert dataframe zones to spark dataframe \n",
    "df_zones=spark.createDataFrame(df_zones)\n",
    "\n",
    "\n",
    "df_zones.show()"
   ]
  },
  {
   "cell_type": "code",
   "execution_count": 8,
   "id": "4245dd1d",
   "metadata": {},
   "outputs": [
    {
     "name": "stderr",
     "output_type": "stream",
     "text": [
      "23/05/24 23:47:22 WARN package: Truncated the string representation of a plan since it was too large. This behavior can be adjusted by setting 'spark.sql.debug.maxToStringFields'.\n",
      "[Stage 5:===================================================>       (7 + 1) / 8]\r"
     ]
    },
    {
     "name": "stdout",
     "output_type": "stream",
     "text": [
      "+------------+------------+--------+--------------------+---------------------+---------------+-------------+----------+------------------+------------+-----------+-----+-------+----------+------------+---------------------+------------+--------------------+-----------+------------------+-----------------+---------------------+-----------------------+------------------+------------------+----------------------+------------------------+\n",
      "|PULocationID|DOLocationID|VendorID|tpep_pickup_datetime|tpep_dropoff_datetime|passenger_count|trip_distance|RatecodeID|store_and_fwd_flag|payment_type|fare_amount|extra|mta_tax|tip_amount|tolls_amount|improvement_surcharge|total_amount|congestion_surcharge|airport_fee|   pickup_latitude| pickup_longitude|zones_pickup_location|borough_pickup_location|  dropoff_latitude| dropoff_longitude|zones_dropoff_location|borough_dropoff_location|\n",
      "+------------+------------+--------+--------------------+---------------------+---------------+-------------+----------+------------------+------------+-----------+-----+-------+----------+------------+---------------------+------------+--------------------+-----------+------------------+-----------------+---------------------+-----------------------+------------------+------------------+----------------------+------------------------+\n",
      "|          26|          26|       2| 2019-03-01 00:23:46|  2019-03-01 00:36:34|            1.0|         0.99|       1.0|                 N|           1|        9.0|  0.5|    0.5|       0.0|         0.0|                  0.3|        10.3|                 0.0|       null|-73.98866057160336|40.63094925326426|         Borough Park|               Brooklyn|-73.98866057160336| 40.63094925326426|          Borough Park|                Brooklyn|\n",
      "|         132|          26|       2| 2019-03-01 00:12:02|  2019-03-01 00:47:04|            1.0|        19.43|       1.0|                 N|           2|       53.5|  0.5|    0.5|       0.0|         0.0|                  0.3|        54.8|                 0.0|       null|-73.98866057160336|40.63094925326426|         Borough Park|               Brooklyn|-73.78652986349012|  40.6469851002482|           JFK Airport|                  Queens|\n",
      "|         230|          26|       2| 2019-03-01 00:09:55|  2019-03-01 00:42:51|            3.0|        10.74|       1.0|                 N|           2|       33.0|  0.5|    0.5|       0.0|         0.0|                  0.3|        36.8|                 2.5|       null|-73.98866057160336|40.63094925326426|         Borough Park|               Brooklyn|-73.98419655675737|40.759817566309465|  Times Sq/Theatre ...|               Manhattan|\n",
      "|          90|          26|       1| 2019-03-01 00:27:15|  2019-03-01 00:49:30|            1.0|          9.0|       1.0|                 N|           1|       26.5|  3.0|    0.5|       5.0|        5.76|                  0.3|       41.06|                 2.5|       null|-73.98866057160336|40.63094925326426|         Borough Park|               Brooklyn|-73.99697147759031| 40.74227858331221|              Flatiron|               Manhattan|\n",
      "|          87|          26|       1| 2019-03-01 01:15:13|  2019-03-01 01:35:53|            1.0|         10.0|       1.0|                 N|           1|       29.5|  3.0|    0.5|       4.0|         0.0|                  0.3|        37.3|                 2.5|       null|-73.98866057160336|40.63094925326426|         Borough Park|               Brooklyn|-74.00749595416085|   40.706808425516|  Financial Distric...|               Manhattan|\n",
      "|         100|          26|       1| 2019-03-01 01:35:31|  2019-03-01 02:02:18|            1.0|         11.8|       1.0|                 N|           1|       33.5|  3.0|    0.5|     11.15|         0.0|                  0.3|       48.45|                 2.5|       null|-73.98866057160336|40.63094925326426|         Borough Park|               Brooklyn|-73.98878660966813| 40.75351274051303|      Garment District|               Manhattan|\n",
      "|         164|          26|       2| 2019-03-01 01:26:22|  2019-03-01 02:18:40|            5.0|        12.01|       1.0|                 N|           1|       45.5|  0.5|    0.5|      9.86|         0.0|                  0.3|       59.16|                 2.5|       null|-73.98866057160336|40.63094925326426|         Borough Park|               Brooklyn|-73.98515644835915| 40.74857453693653|         Midtown South|               Manhattan|\n",
      "|         148|          26|       2| 2019-03-01 00:59:58|  2019-03-01 01:29:30|            1.0|         9.15|       1.0|                 N|           1|       30.0|  0.5|    0.5|      8.45|         0.0|                  0.3|       42.25|                 2.5|       null|-73.98866057160336|40.63094925326426|         Borough Park|               Brooklyn|-73.99089636602756|40.718938301131104|       Lower East Side|               Manhattan|\n",
      "|          22|          26|       2| 2019-03-01 02:11:02|  2019-03-01 02:16:04|            1.0|         1.12|       1.0|                 N|           2|        6.0|  0.5|    0.5|       0.0|         0.0|                  0.3|         7.3|                 0.0|       null|-73.98866057160336|40.63094925326426|         Borough Park|               Brooklyn|-73.99525864587314| 40.61221766982796|      Bensonhurst West|                Brooklyn|\n",
      "|          26|          26|       2| 2019-03-01 02:17:18|  2019-03-01 02:21:55|            1.0|         0.51|       1.0|                 N|           2|        5.0|  0.5|    0.5|       0.0|         0.0|                  0.3|         6.3|                 0.0|       null|-73.98866057160336|40.63094925326426|         Borough Park|               Brooklyn|-73.98866057160336| 40.63094925326426|          Borough Park|                Brooklyn|\n",
      "|          26|          26|       2| 2019-03-01 02:26:20|  2019-03-01 02:33:52|            1.0|         0.25|       1.0|                 N|           2|        6.0|  0.5|    0.5|       0.0|         0.0|                  0.3|         7.3|                 0.0|       null|-73.98866057160336|40.63094925326426|         Borough Park|               Brooklyn|-73.98866057160336| 40.63094925326426|          Borough Park|                Brooklyn|\n",
      "|          48|          29|       2| 2019-03-01 01:59:35|  2019-03-01 02:38:41|            1.0|        15.86|       1.0|                 N|           2|       44.0|  0.5|    0.5|       0.0|         0.0|                  0.3|        47.8|                 2.5|       null|-73.96121662082737|40.58092175157135|       Brighton Beach|               Brooklyn|-73.98984489812494| 40.76225259858686|          Clinton East|               Manhattan|\n",
      "|          48|          26|       1| 2019-03-01 03:39:15|  2019-03-01 04:08:05|            1.0|         13.4|       1.0|                 N|           3|       38.0|  3.0|    0.5|       0.0|         0.0|                  0.3|        41.8|                 2.5|       null|-73.98866057160336|40.63094925326426|         Borough Park|               Brooklyn|-73.98984489812494| 40.76225259858686|          Clinton East|               Manhattan|\n",
      "|          85|          26|       1| 2019-03-01 03:57:07|  2019-03-01 04:10:47|            2.0|          3.1|       1.0|                 N|           1|       12.5|  0.5|    0.5|       0.0|         0.0|                  0.3|        13.8|                 0.0|       null|-73.98866057160336|40.63094925326426|         Borough Park|               Brooklyn|-73.95162326816249|  40.6461161546567|               Erasmus|                Brooklyn|\n",
      "|         132|          26|       2| 2019-03-01 04:52:01|  2019-03-01 05:22:00|            5.0|        19.28|       1.0|                 N|           2|       51.5|  0.5|    0.5|       0.0|         0.0|                  0.3|        52.8|                 0.0|       null|-73.98866057160336|40.63094925326426|         Borough Park|               Brooklyn|-73.78652986349012|  40.6469851002482|           JFK Airport|                  Queens|\n",
      "|          14|          26|       2| 2019-03-01 04:42:46|  2019-03-01 04:55:26|            1.0|         2.68|       1.0|                 N|           1|       12.0|  0.5|    0.5|       0.0|         0.0|                  0.3|        13.3|                 0.0|       null|-73.98866057160336|40.63094925326426|         Borough Park|               Brooklyn|    -74.0298925099| 40.62483367229869|             Bay Ridge|                Brooklyn|\n",
      "|          61|          29|       2| 2019-03-01 05:05:37|  2019-03-01 05:31:49|            1.0|         7.14|       5.0|                 N|           1|      21.59|  0.0|    0.5|       0.0|         0.0|                  0.3|       22.39|                 0.0|       null|-73.96121662082737|40.58092175157135|       Brighton Beach|               Brooklyn|-73.93928693565553|40.674469714192334|   Crown Heights North|                Brooklyn|\n",
      "|          29|          29|       2| 2019-03-01 06:16:08|  2019-03-01 06:16:13|            1.0|          0.0|       1.0|                 N|           3|       -2.5|  0.0|   -0.5|       0.0|         0.0|                 -0.3|        -3.3|                 0.0|       null|-73.96121662082737|40.58092175157135|       Brighton Beach|               Brooklyn|-73.96121662082737| 40.58092175157135|        Brighton Beach|                Brooklyn|\n",
      "|          29|          29|       2| 2019-03-01 06:16:08|  2019-03-01 06:16:13|            1.0|          0.0|       1.0|                 N|           2|        2.5|  0.0|    0.5|       0.0|         0.0|                  0.3|         3.3|                 0.0|       null|-73.96121662082737|40.58092175157135|       Brighton Beach|               Brooklyn|-73.96121662082737| 40.58092175157135|        Brighton Beach|                Brooklyn|\n",
      "|         132|          26|       2| 2019-03-01 06:40:03|  2019-03-01 07:56:06|            2.0|        22.06|       1.0|                 N|           2|       70.0|  0.0|    0.5|       0.0|         0.0|                  0.3|        70.8|                 0.0|       null|-73.98866057160336|40.63094925326426|         Borough Park|               Brooklyn|-73.78652986349012|  40.6469851002482|           JFK Airport|                  Queens|\n",
      "+------------+------------+--------+--------------------+---------------------+---------------+-------------+----------+------------------+------------+-----------+-----+-------+----------+------------+---------------------+------------+--------------------+-----------+------------------+-----------------+---------------------+-----------------------+------------------+------------------+----------------------+------------------------+\n",
      "only showing top 20 rows\n",
      "\n"
     ]
    },
    {
     "name": "stderr",
     "output_type": "stream",
     "text": [
      "\r",
      "                                                                                \r"
     ]
    }
   ],
   "source": [
    "# rename columns\n",
    "def renameColumns(df, old_columns, new_columns):\n",
    "    \n",
    "    for old_col, new_col in zip(old_columns,new_columns):\n",
    "        df = df.withColumnRenamed(old_col,new_col)\n",
    "    return df\n",
    "\n",
    "def renameFullColumns(df):\n",
    "    old_columns = ['LocationID','latitude','longitude','zone','borough']\n",
    "    new_columns_pickup = ['DOLocationID', 'pickup_latitude','pickup_longitude',\n",
    "                          'zones_pickup_location','borough_pickup_location']\n",
    "    new_columns_dropoff = ['PULocationID', 'dropoff_latitude','dropoff_longitude',\n",
    "                           'zones_dropoff_location','borough_dropoff_location']\n",
    "    zones_pickup = renameColumns(df, old_columns, new_columns_pickup)\n",
    "    zones_dropoff = renameColumns(df, old_columns, new_columns_dropoff)\n",
    "    return zones_pickup, zones_dropoff\n",
    "\n",
    "# Join trips data with df_zones in order to have longitudes and latitudes\n",
    "def joinDataframes(df,zones_pickup, zones_dropoff):\n",
    "    df=df.join(zones_pickup,['DOLocationID'])\n",
    "    df=df.join(zones_dropoff,['PULocationID'])\n",
    "    return df\n",
    "df_zones.show\n",
    "\n",
    "zones_pickup , zones_dropoff = renameFullColumns(df_zones)\n",
    "full_data = joinDataframes(df_yel, zones_pickup, zones_dropoff)\n",
    "full_data.show()"
   ]
  },
  {
   "cell_type": "code",
   "execution_count": 9,
   "id": "2a306a6e",
   "metadata": {},
   "outputs": [],
   "source": [
    "# filter data\n",
    "'''\n",
    " \n",
    "    return df[(df['pickup_latitude'] >= 40.58) & \n",
    "                  (df['pickup_latitude'] <= 40.90) & \n",
    "                  (df['dropoff_latitude'] >= 40.58) & \n",
    "                  (df['dropoff_latitude'] <= 40.90) & \n",
    "                  (df['pickup_longitude'] >= -74.10) & \n",
    "                  (df['pickup_longitude'] <= -73.70) & \n",
    "                  (df['dropoff_longitude'] >= -74.10) & \n",
    "                  (df['dropoff_longitude'] <= -73.70)]\n",
    "\n",
    "'''\n",
    "\n",
    "def filterData(df):\n",
    "    \n",
    "    return df[(df['pickup_latitude'] >= -74.10) & \n",
    "                  (df['pickup_latitude'] <= -73.70) & \n",
    "                  (df['dropoff_latitude'] >= -74.10) & \n",
    "                  (df['dropoff_latitude'] <= -73.70) & \n",
    "                  (df['pickup_longitude'] >= 40.58) & \n",
    "                  (df['pickup_longitude'] <= 40.90) & \n",
    "                  (df['dropoff_longitude'] >=40.58) & \n",
    "                  (df['dropoff_longitude'] <= 40.90)]\n",
    "\n",
    "df_yel_filtered = filterData(full_data)\n"
   ]
  },
  {
   "cell_type": "code",
   "execution_count": 9,
   "id": "f2c42c53",
   "metadata": {},
   "outputs": [
    {
     "name": "stderr",
     "output_type": "stream",
     "text": [
      "\r",
      "[Stage 13:==================================================>       (7 + 1) / 8]\r"
     ]
    },
    {
     "name": "stdout",
     "output_type": "stream",
     "text": [
      "+------------+------------+--------+--------------------+---------------------+---------------+-------------+----------+------------------+------------+-----------+-----+-------+----------+------------+---------------------+------------+--------------------+-----------+------------------+-----------------+---------------------+-----------------------+------------------+------------------+----------------------+------------------------+\n",
      "|PULocationID|DOLocationID|VendorID|tpep_pickup_datetime|tpep_dropoff_datetime|passenger_count|trip_distance|RatecodeID|store_and_fwd_flag|payment_type|fare_amount|extra|mta_tax|tip_amount|tolls_amount|improvement_surcharge|total_amount|congestion_surcharge|airport_fee|   pickup_latitude| pickup_longitude|zones_pickup_location|borough_pickup_location|  dropoff_latitude| dropoff_longitude|zones_dropoff_location|borough_dropoff_location|\n",
      "+------------+------------+--------+--------------------+---------------------+---------------+-------------+----------+------------------+------------+-----------+-----+-------+----------+------------+---------------------+------------+--------------------+-----------+------------------+-----------------+---------------------+-----------------------+------------------+------------------+----------------------+------------------------+\n",
      "|          26|          26|       2| 2019-03-01 00:23:46|  2019-03-01 00:36:34|            1.0|         0.99|       1.0|                 N|           1|        9.0|  0.5|    0.5|       0.0|         0.0|                  0.3|        10.3|                 0.0|       null|-73.98866057160336|40.63094925326426|         Borough Park|               Brooklyn|-73.98866057160336| 40.63094925326426|          Borough Park|                Brooklyn|\n",
      "|         132|          26|       2| 2019-03-01 00:12:02|  2019-03-01 00:47:04|            1.0|        19.43|       1.0|                 N|           2|       53.5|  0.5|    0.5|       0.0|         0.0|                  0.3|        54.8|                 0.0|       null|-73.98866057160336|40.63094925326426|         Borough Park|               Brooklyn|-73.78652986349012|  40.6469851002482|           JFK Airport|                  Queens|\n",
      "|         230|          26|       2| 2019-03-01 00:09:55|  2019-03-01 00:42:51|            3.0|        10.74|       1.0|                 N|           2|       33.0|  0.5|    0.5|       0.0|         0.0|                  0.3|        36.8|                 2.5|       null|-73.98866057160336|40.63094925326426|         Borough Park|               Brooklyn|-73.98419655675737|40.759817566309465|  Times Sq/Theatre ...|               Manhattan|\n",
      "|          90|          26|       1| 2019-03-01 00:27:15|  2019-03-01 00:49:30|            1.0|          9.0|       1.0|                 N|           1|       26.5|  3.0|    0.5|       5.0|        5.76|                  0.3|       41.06|                 2.5|       null|-73.98866057160336|40.63094925326426|         Borough Park|               Brooklyn|-73.99697147759031| 40.74227858331221|              Flatiron|               Manhattan|\n",
      "|          87|          26|       1| 2019-03-01 01:15:13|  2019-03-01 01:35:53|            1.0|         10.0|       1.0|                 N|           1|       29.5|  3.0|    0.5|       4.0|         0.0|                  0.3|        37.3|                 2.5|       null|-73.98866057160336|40.63094925326426|         Borough Park|               Brooklyn|-74.00749595416085|   40.706808425516|  Financial Distric...|               Manhattan|\n",
      "|         100|          26|       1| 2019-03-01 01:35:31|  2019-03-01 02:02:18|            1.0|         11.8|       1.0|                 N|           1|       33.5|  3.0|    0.5|     11.15|         0.0|                  0.3|       48.45|                 2.5|       null|-73.98866057160336|40.63094925326426|         Borough Park|               Brooklyn|-73.98878660966813| 40.75351274051303|      Garment District|               Manhattan|\n",
      "|         164|          26|       2| 2019-03-01 01:26:22|  2019-03-01 02:18:40|            5.0|        12.01|       1.0|                 N|           1|       45.5|  0.5|    0.5|      9.86|         0.0|                  0.3|       59.16|                 2.5|       null|-73.98866057160336|40.63094925326426|         Borough Park|               Brooklyn|-73.98515644835915| 40.74857453693653|         Midtown South|               Manhattan|\n",
      "|         148|          26|       2| 2019-03-01 00:59:58|  2019-03-01 01:29:30|            1.0|         9.15|       1.0|                 N|           1|       30.0|  0.5|    0.5|      8.45|         0.0|                  0.3|       42.25|                 2.5|       null|-73.98866057160336|40.63094925326426|         Borough Park|               Brooklyn|-73.99089636602756|40.718938301131104|       Lower East Side|               Manhattan|\n",
      "|          22|          26|       2| 2019-03-01 02:11:02|  2019-03-01 02:16:04|            1.0|         1.12|       1.0|                 N|           2|        6.0|  0.5|    0.5|       0.0|         0.0|                  0.3|         7.3|                 0.0|       null|-73.98866057160336|40.63094925326426|         Borough Park|               Brooklyn|-73.99525864587314| 40.61221766982796|      Bensonhurst West|                Brooklyn|\n",
      "|          26|          26|       2| 2019-03-01 02:17:18|  2019-03-01 02:21:55|            1.0|         0.51|       1.0|                 N|           2|        5.0|  0.5|    0.5|       0.0|         0.0|                  0.3|         6.3|                 0.0|       null|-73.98866057160336|40.63094925326426|         Borough Park|               Brooklyn|-73.98866057160336| 40.63094925326426|          Borough Park|                Brooklyn|\n",
      "|          26|          26|       2| 2019-03-01 02:26:20|  2019-03-01 02:33:52|            1.0|         0.25|       1.0|                 N|           2|        6.0|  0.5|    0.5|       0.0|         0.0|                  0.3|         7.3|                 0.0|       null|-73.98866057160336|40.63094925326426|         Borough Park|               Brooklyn|-73.98866057160336| 40.63094925326426|          Borough Park|                Brooklyn|\n",
      "|          48|          29|       2| 2019-03-01 01:59:35|  2019-03-01 02:38:41|            1.0|        15.86|       1.0|                 N|           2|       44.0|  0.5|    0.5|       0.0|         0.0|                  0.3|        47.8|                 2.5|       null|-73.96121662082737|40.58092175157135|       Brighton Beach|               Brooklyn|-73.98984489812494| 40.76225259858686|          Clinton East|               Manhattan|\n",
      "|          48|          26|       1| 2019-03-01 03:39:15|  2019-03-01 04:08:05|            1.0|         13.4|       1.0|                 N|           3|       38.0|  3.0|    0.5|       0.0|         0.0|                  0.3|        41.8|                 2.5|       null|-73.98866057160336|40.63094925326426|         Borough Park|               Brooklyn|-73.98984489812494| 40.76225259858686|          Clinton East|               Manhattan|\n",
      "|          85|          26|       1| 2019-03-01 03:57:07|  2019-03-01 04:10:47|            2.0|          3.1|       1.0|                 N|           1|       12.5|  0.5|    0.5|       0.0|         0.0|                  0.3|        13.8|                 0.0|       null|-73.98866057160336|40.63094925326426|         Borough Park|               Brooklyn|-73.95162326816249|  40.6461161546567|               Erasmus|                Brooklyn|\n",
      "|         132|          26|       2| 2019-03-01 04:52:01|  2019-03-01 05:22:00|            5.0|        19.28|       1.0|                 N|           2|       51.5|  0.5|    0.5|       0.0|         0.0|                  0.3|        52.8|                 0.0|       null|-73.98866057160336|40.63094925326426|         Borough Park|               Brooklyn|-73.78652986349012|  40.6469851002482|           JFK Airport|                  Queens|\n",
      "|          14|          26|       2| 2019-03-01 04:42:46|  2019-03-01 04:55:26|            1.0|         2.68|       1.0|                 N|           1|       12.0|  0.5|    0.5|       0.0|         0.0|                  0.3|        13.3|                 0.0|       null|-73.98866057160336|40.63094925326426|         Borough Park|               Brooklyn|    -74.0298925099| 40.62483367229869|             Bay Ridge|                Brooklyn|\n",
      "|          61|          29|       2| 2019-03-01 05:05:37|  2019-03-01 05:31:49|            1.0|         7.14|       5.0|                 N|           1|      21.59|  0.0|    0.5|       0.0|         0.0|                  0.3|       22.39|                 0.0|       null|-73.96121662082737|40.58092175157135|       Brighton Beach|               Brooklyn|-73.93928693565553|40.674469714192334|   Crown Heights North|                Brooklyn|\n",
      "|          29|          29|       2| 2019-03-01 06:16:08|  2019-03-01 06:16:13|            1.0|          0.0|       1.0|                 N|           3|       -2.5|  0.0|   -0.5|       0.0|         0.0|                 -0.3|        -3.3|                 0.0|       null|-73.96121662082737|40.58092175157135|       Brighton Beach|               Brooklyn|-73.96121662082737| 40.58092175157135|        Brighton Beach|                Brooklyn|\n",
      "|          29|          29|       2| 2019-03-01 06:16:08|  2019-03-01 06:16:13|            1.0|          0.0|       1.0|                 N|           2|        2.5|  0.0|    0.5|       0.0|         0.0|                  0.3|         3.3|                 0.0|       null|-73.96121662082737|40.58092175157135|       Brighton Beach|               Brooklyn|-73.96121662082737| 40.58092175157135|        Brighton Beach|                Brooklyn|\n",
      "|         132|          26|       2| 2019-03-01 06:40:03|  2019-03-01 07:56:06|            2.0|        22.06|       1.0|                 N|           2|       70.0|  0.0|    0.5|       0.0|         0.0|                  0.3|        70.8|                 0.0|       null|-73.98866057160336|40.63094925326426|         Borough Park|               Brooklyn|-73.78652986349012|  40.6469851002482|           JFK Airport|                  Queens|\n",
      "+------------+------------+--------+--------------------+---------------------+---------------+-------------+----------+------------------+------------+-----------+-----+-------+----------+------------+---------------------+------------+--------------------+-----------+------------------+-----------------+---------------------+-----------------------+------------------+------------------+----------------------+------------------------+\n",
      "only showing top 20 rows\n",
      "\n"
     ]
    },
    {
     "name": "stderr",
     "output_type": "stream",
     "text": [
      "\r",
      "                                                                                \r"
     ]
    }
   ],
   "source": [
    "df_yel_filtered.show()"
   ]
  },
  {
   "cell_type": "markdown",
   "id": "5cd3eace",
   "metadata": {},
   "source": [
    "count the number of trips for each value of passenger_count"
   ]
  },
  {
   "cell_type": "code",
   "execution_count": 10,
   "id": "43ad8363",
   "metadata": {},
   "outputs": [],
   "source": [
    "#  Count the number of trips for each value of passenger_count\n",
    "df_passenger=df_yel_filtered.groupby('passenger_count').count()"
   ]
  },
  {
   "cell_type": "markdown",
   "id": "2ab004fc",
   "metadata": {},
   "source": [
    "Plot the trip counts"
   ]
  },
  {
   "cell_type": "code",
   "execution_count": 11,
   "id": "70b7479d",
   "metadata": {},
   "outputs": [
    {
     "name": "stderr",
     "output_type": "stream",
     "text": [
      "                                                                                \r"
     ]
    },
    {
     "data": {
      "image/png": "[encoded data removed]",
      "text/plain": [
       "<Figure size 640x480 with 1 Axes>"
      ]
     },
     "metadata": {},
     "output_type": "display_data"
    }
   ],
   "source": [
    "# Create a bar plot\n",
    "import seaborn as sns\n",
    "import matplotlib.pyplot as plt\n",
    "\n",
    "# Plot the trip counts\n",
    "df_passenger_pd = df_passenger.toPandas() #transform to pandas dataframe for plot\n",
    "plt.bar(df_passenger_pd[\"passenger_count\"], df_passenger_pd[\"count\"])\n",
    "plt.xlabel(\"Passenger Count\")\n",
    "plt.ylabel(\"Number of Trips\")\n",
    "plt.title(\"Number of Trips by Passenger Count\")\n",
    "plt.show()"
   ]
  },
  {
   "cell_type": "markdown",
   "id": "b70a4554",
   "metadata": {},
   "source": [
    "1. What’s special with trips with zero passengers?"
   ]
  },
  {
   "cell_type": "code",
   "execution_count": 12,
   "id": "df75f6be",
   "metadata": {},
   "outputs": [],
   "source": [
    "# Filter the data for trips with zero passengers\n",
    "zero_passenger_data = df_yel_filtered.filter(col(\"passenger_count\") == 0)"
   ]
  },
  {
   "cell_type": "markdown",
   "id": "0bf23bd2",
   "metadata": {},
   "source": [
    "2. What’s special with trips with more than 6 passengers?\n"
   ]
  },
  {
   "cell_type": "code",
   "execution_count": 13,
   "id": "151a9042",
   "metadata": {},
   "outputs": [],
   "source": [
    "more_passenger_data = df_yel_filtered.filter(col(\"passenger_count\") > 6)"
   ]
  },
  {
   "cell_type": "markdown",
   "id": "6cc9852d",
   "metadata": {},
   "source": [
    "3. What is the largest distance travelled during this month? Is it the first taxi on the moon?"
   ]
  },
  {
   "cell_type": "code",
   "execution_count": 14,
   "id": "9f6a2ed2",
   "metadata": {},
   "outputs": [
    {
     "name": "stderr",
     "output_type": "stream",
     "text": [
      "[Stage 27:==================================================>       (7 + 1) / 8]\r"
     ]
    },
    {
     "name": "stdout",
     "output_type": "stream",
     "text": [
      "The largest distance travelled during this month is:  126.95 milles\n"
     ]
    },
    {
     "name": "stderr",
     "output_type": "stream",
     "text": [
      "\r",
      "                                                                                \r"
     ]
    }
   ],
   "source": [
    "max_distance = df_yel_filtered.selectExpr(\"MAX(trip_distance) AS max_distance\").collect()[0][\"max_distance\"]\n",
    "print(\"The largest distance travelled during this month is: \" ,max_distance, \"milles\")"
   ]
  },
  {
   "cell_type": "markdown",
   "id": "acadbbb3",
   "metadata": {},
   "source": [
    "4. Plot the distribution of the trip_distance (using an histogram for instance) during year 2019. Focus on trips with non-zero trip distance and trip distance less than 30 miles."
   ]
  },
  {
   "cell_type": "code",
   "execution_count": 15,
   "id": "2b20ee8d",
   "metadata": {},
   "outputs": [
    {
     "name": "stderr",
     "output_type": "stream",
     "text": [
      "                                                                                \r"
     ]
    },
    {
     "data": {
      "image/png": "[encoded data removed]",
      "text/plain": [
       "<Figure size 640x480 with 1 Axes>"
      ]
     },
     "metadata": {},
     "output_type": "display_data"
    }
   ],
   "source": [
    "# Filter the data for non-zero trip distances less than 30 miles\n",
    "yel_filtered_data = df_yel_filtered.filter((col(\"trip_distance\") > 0) & (col(\"trip_distance\") < 30))\n",
    "\n",
    "# Convert the filtered data to a Pandas DataFrame for plotting\n",
    "yel_filtered_data = yel_filtered_data.select(\"trip_distance\").toPandas()\n",
    "\n",
    "# Plot the distribution of trip distances\n",
    "plt.hist(yel_filtered_data[\"trip_distance\"], bins=30, edgecolor=\"black\")\n",
    "plt.xlabel(\"Trip Distance (miles)\")\n",
    "plt.ylabel(\"Frequency\")\n",
    "plt.title(\"Distribution of Trip Distances (2019)\")\n",
    "plt.show()"
   ]
  },
  {
   "cell_type": "markdown",
   "id": "05c1c732",
   "metadata": {},
   "source": [
    "1. Use the explain method or have a look at the Spark UI to analyze the job."
   ]
  },
  {
   "cell_type": "code",
   "execution_count": 16,
   "id": "c3b810f0",
   "metadata": {},
   "outputs": [
    {
     "name": "stdout",
     "output_type": "stream",
     "text": [
      "== Physical Plan ==\n",
      "AdaptiveSparkPlan isFinalPlan=false\n",
      "+- Project [PULocationID#7L, DOLocationID#8L, VendorID#0L, tpep_pickup_datetime#1, tpep_dropoff_datetime#2, passenger_count#3, trip_distance#4, RatecodeID#5, store_and_fwd_flag#6, payment_type#9L, fare_amount#10, extra#11, mta_tax#12, tip_amount#13, tolls_amount#14, improvement_surcharge#15, total_amount#16, congestion_surcharge#17, airport_fee#18, pickup_latitude#186, pickup_longitude#192, zones_pickup_location#198, borough_pickup_location#204, dropoff_latitude#216, ... 3 more fields]\n",
      "   +- SortMergeJoin [PULocationID#7L], [PULocationID#210L], Inner\n",
      "      :- Sort [PULocationID#7L ASC NULLS FIRST], false, 0\n",
      "      :  +- Exchange hashpartitioning(PULocationID#7L, 200), ENSURE_REQUIREMENTS, [plan_id=1372]\n",
      "      :     +- Project [DOLocationID#8L, VendorID#0L, tpep_pickup_datetime#1, tpep_dropoff_datetime#2, passenger_count#3, trip_distance#4, RatecodeID#5, store_and_fwd_flag#6, PULocationID#7L, payment_type#9L, fare_amount#10, extra#11, mta_tax#12, tip_amount#13, tolls_amount#14, improvement_surcharge#15, total_amount#16, congestion_surcharge#17, airport_fee#18, pickup_latitude#186, pickup_longitude#192, zones_pickup_location#198, borough_pickup_location#204]\n",
      "      :        +- SortMergeJoin [DOLocationID#8L], [DOLocationID#180L], Inner\n",
      "      :           :- Sort [DOLocationID#8L ASC NULLS FIRST], false, 0\n",
      "      :           :  +- Exchange hashpartitioning(DOLocationID#8L, 200), ENSURE_REQUIREMENTS, [plan_id=1364]\n",
      "      :           :     +- Filter (isnotnull(DOLocationID#8L) AND isnotnull(PULocationID#7L))\n",
      "      :           :        +- FileScan parquet [VendorID#0L,tpep_pickup_datetime#1,tpep_dropoff_datetime#2,passenger_count#3,trip_distance#4,RatecodeID#5,store_and_fwd_flag#6,PULocationID#7L,DOLocationID#8L,payment_type#9L,fare_amount#10,extra#11,mta_tax#12,tip_amount#13,tolls_amount#14,improvement_surcharge#15,total_amount#16,congestion_surcharge#17,airport_fee#18] Batched: true, DataFilters: [isnotnull(DOLocationID#8L), isnotnull(PULocationID#7L)], Format: Parquet, Location: InMemoryFileIndex(1 paths)[file:/home/marius/Téléchargements/yellow_tripdata_2019-03.parquet], PartitionFilters: [], PushedFilters: [IsNotNull(DOLocationID), IsNotNull(PULocationID)], ReadSchema: struct<VendorID:bigint,tpep_pickup_datetime:timestamp_ntz,tpep_dropoff_datetime:timestamp_ntz,pas...\n",
      "      :           +- Sort [DOLocationID#180L ASC NULLS FIRST], false, 0\n",
      "      :              +- Exchange hashpartitioning(DOLocationID#180L, 200), ENSURE_REQUIREMENTS, [plan_id=1365]\n",
      "      :                 +- Project [LocationID#149L AS DOLocationID#180L, latitude#150 AS pickup_latitude#186, longitude#151 AS pickup_longitude#192, zone#152 AS zones_pickup_location#198, borough#153 AS borough_pickup_location#204]\n",
      "      :                    +- Filter (((isnotnull(latitude#150) AND isnotnull(longitude#151)) AND ((((latitude#150 >= -74.1) AND (latitude#150 <= -73.7)) AND (longitude#151 >= 40.58)) AND (longitude#151 <= 40.9))) AND isnotnull(LocationID#149L))\n",
      "      :                       +- Scan ExistingRDD[LocationID#149L,latitude#150,longitude#151,zone#152,borough#153]\n",
      "      +- Sort [PULocationID#210L ASC NULLS FIRST], false, 0\n",
      "         +- Exchange hashpartitioning(PULocationID#210L, 200), ENSURE_REQUIREMENTS, [plan_id=1373]\n",
      "            +- Project [LocationID#263L AS PULocationID#210L, latitude#264 AS dropoff_latitude#216, longitude#265 AS dropoff_longitude#222, zone#266 AS zones_dropoff_location#228, borough#267 AS borough_dropoff_location#234]\n",
      "               +- Filter (((isnotnull(latitude#264) AND isnotnull(longitude#265)) AND ((((latitude#264 >= -74.1) AND (latitude#264 <= -73.7)) AND (longitude#265 >= 40.58)) AND (longitude#265 <= 40.9))) AND isnotnull(LocationID#263L))\n",
      "                  +- Scan ExistingRDD[LocationID#263L,latitude#264,longitude#265,zone#266,borough#267]\n",
      "\n",
      "\n"
     ]
    }
   ],
   "source": [
    "df_yel_filtered.explain()"
   ]
  },
  {
   "cell_type": "markdown",
   "id": "ebdcb500",
   "metadata": {},
   "source": [
    "2. Compare the Analyzed Logical Plan and Optimized Logical Plan: \n",
    "Analyzed Logical Plan: This plan represents the logical operations after the analysis phase, where Spark resolves references, applies type checking, and performs other logical optimizations. Optimized Logical Plan: This plan represents the logical operations after further optimization, such as predicate pushdown, column pruning, or constant folding.\n"
   ]
  },
  {
   "cell_type": "markdown",
   "id": "9541da4e",
   "metadata": {},
   "source": [
    "3. Compare the Physical Plan with the Optimized Logical Plan: Physical Plan: This plan describes the actual execution strategy that Spark will use to process the query. It includes details about how the data will be read, transformed, and distributed across the worker nodes. 3-2. Keywords and concepts in the Physical Plan that you would not expect in an RDBMS include: Shuffle: This keyword indicates data shuffling, which involves redistributing data across partitions or nodes, often required for operations like joins or aggregations. Exchange: This keyword represents the exchange of data between partitions or nodes. Sort: This keyword indicates sorting operations performed during the query execution. Broadcast: This keyword represents the broadcasting of small data to all worker nodes, typically used in join operations. Code generation: This indicates that Spark generates code dynamically for specific operations to improve performance. In an RDBMS, the physical plan might involve index scans, table scans, join algorithms, and disk-based operations. The specific keywords and concepts may vary depending on the RDBMS implementation."
   ]
  },
  {
   "cell_type": "markdown",
   "id": "5ec1116b",
   "metadata": {},
   "source": [
    "4. Tasks in Spark refer to the individual units of work performed on the data. Each task processes a subset of the data and is executed on a single partition of a stage. The number of tasks within each stage may vary depending on the size of the data and the available resources. You can find the number of tasks for each stage in the Spark UI under the \"Stages\" tab."
   ]
  },
  {
   "cell_type": "markdown",
   "id": "13f4d24e",
   "metadata": {},
   "source": [
    "1. Break down the trip distance distribution for each day of week"
   ]
  },
  {
   "cell_type": "code",
   "execution_count": 17,
   "id": "4f9613ad",
   "metadata": {},
   "outputs": [
    {
     "name": "stderr",
     "output_type": "stream",
     "text": [
      "                                                                                \r"
     ]
    },
    {
     "data": {
      "image/png": "[encoded data removed]",
      "text/plain": [
       "<Figure size 800x600 with 1 Axes>"
      ]
     },
     "metadata": {},
     "output_type": "display_data"
    }
   ],
   "source": [
    "# Extract the day of the week from the pickup datetime\n",
    "df_with_day_of_week = df_yel_filtered.withColumn('pickup_day_of_week', dayofweek('tpep_pickup_datetime'))\n",
    "\n",
    "# Group by day of the week and calculate the distribution of trip distances\n",
    "distance_breakdown = df_with_day_of_week.groupBy('pickup_day_of_week').agg(mean('trip_distance').alias('avg_distance'))\n",
    "\n",
    "# Convert the result to a Pandas DataFrame for plotting\n",
    "distance_breakdown_pd = distance_breakdown.toPandas()\n",
    "\n",
    "# Plot the breakdown of trip distance\n",
    "plt.figure(figsize=(8, 6))\n",
    "sns.barplot(x='pickup_day_of_week', y='avg_distance', data=distance_breakdown_pd)\n",
    "plt.xlabel('Day of Week')\n",
    "plt.ylabel('Average Trip Distance')\n",
    "plt.title('Breakdown of Trip Distance by Day of Week')\n",
    "plt.show()"
   ]
  },
  {
   "cell_type": "markdown",
   "id": "d77979f7",
   "metadata": {},
   "source": [
    "2. Count the number of distinct pickup location"
   ]
  },
  {
   "cell_type": "code",
   "execution_count": 18,
   "id": "a6f1e6ec",
   "metadata": {},
   "outputs": [
    {
     "name": "stdout",
     "output_type": "stream",
     "text": [
      "Number of distinct pickup locations: 261\n"
     ]
    }
   ],
   "source": [
    "distinct_pickup_locations = df_yel.select('PUlocationID').distinct().count()\n",
    "print(\"Number of distinct pickup locations:\", distinct_pickup_locations)"
   ]
  },
  {
   "cell_type": "markdown",
   "id": "976c03cd",
   "metadata": {},
   "source": [
    "3. Compute and display tips and profits as a function of the pickup location"
   ]
  },
  {
   "cell_type": "code",
   "execution_count": 19,
   "id": "6bc8ec16",
   "metadata": {},
   "outputs": [
    {
     "name": "stdout",
     "output_type": "stream",
     "text": [
      "+------------+------------------+------------------+\n",
      "|PUlocationID|        total_tips|     total_profits|\n",
      "+------------+------------------+------------------+\n",
      "|          26|            165.38|            395.75|\n",
      "|          29|             56.83|            141.25|\n",
      "|          65|20356.180000000073|           8173.65|\n",
      "|         191|36.089999999999996|             424.5|\n",
      "|         222|              34.9|             401.0|\n",
      "|         243|2214.0100000000007|             874.0|\n",
      "|          54| 558.3500000000001|            147.25|\n",
      "|          19| 97.63999999999999|             152.5|\n",
      "|         113|243919.94999999137|          157734.5|\n",
      "|         112|4622.1900000000005|           1677.05|\n",
      "|         167|             90.62|             256.0|\n",
      "|         155|              58.0|             315.0|\n",
      "|         237| 530634.1000000244|398240.79999999993|\n",
      "|         241|            128.49|            159.75|\n",
      "|         198|331.59999999999997|             233.5|\n",
      "|          22|237.54000000000002|             251.5|\n",
      "|         130|5124.3400000000065|           1349.75|\n",
      "|         196|1530.1200000000001|             565.5|\n",
      "|           7|10788.720000000021|            5527.6|\n",
      "|          77|             55.65|             274.0|\n",
      "+------------+------------------+------------------+\n",
      "only showing top 20 rows\n",
      "\n"
     ]
    }
   ],
   "source": [
    "tips_profits_by_location = df_yel.groupBy('PUlocationID').agg(sum('tip_amount').alias('total_tips'),\n",
    "                                                          sum('extra').alias('total_profits'))\n",
    "\n",
    "# Display the results\n",
    "tips_profits_by_location.show()"
   ]
  },
  {
   "cell_type": "markdown",
   "id": "a13ab013",
   "metadata": {},
   "source": [
    "### Investigate one month of trips data in 2019, 2020, 2021, 2022"
   ]
  },
  {
   "cell_type": "code",
   "execution_count": null,
   "id": "c25db197",
   "metadata": {},
   "outputs": [],
   "source": []
  },
  {
   "cell_type": "markdown",
   "id": "97db9fc3",
   "metadata": {},
   "source": [
    "1. The number of pickups"
   ]
  },
  {
   "cell_type": "code",
   "execution_count": 20,
   "id": "88561b97",
   "metadata": {},
   "outputs": [],
   "source": [
    "counts_pickup = df_yel_filtered.groupby(dayofweek('tpep_pickup_datetime').alias('pickup_day'),\n",
    "                             hour('tpep_pickup_datetime').alias('pickup_hour')).count()\n",
    "#display the result\n",
    "#print(\"The number of pickups is: \", counts_pickup.count())"
   ]
  },
  {
   "cell_type": "markdown",
   "id": "355c23fd",
   "metadata": {},
   "source": [
    "2. The average fare"
   ]
  },
  {
   "cell_type": "code",
   "execution_count": 21,
   "id": "b3e41035",
   "metadata": {},
   "outputs": [
    {
     "name": "stderr",
     "output_type": "stream",
     "text": [
      "                                                                                \r"
     ]
    },
    {
     "data": {
      "text/html": [
       "<div>\n",
       "<style scoped>\n",
       "    .dataframe tbody tr th:only-of-type {\n",
       "        vertical-align: middle;\n",
       "    }\n",
       "\n",
       "    .dataframe tbody tr th {\n",
       "        vertical-align: top;\n",
       "    }\n",
       "\n",
       "    .dataframe thead th {\n",
       "        text-align: right;\n",
       "    }\n",
       "</style>\n",
       "<table border=\"1\" class=\"dataframe\">\n",
       "  <thead>\n",
       "    <tr style=\"text-align: right;\">\n",
       "      <th></th>\n",
       "      <th>pickup_day</th>\n",
       "      <th>pickup_hour</th>\n",
       "      <th>avg(fare_amount)</th>\n",
       "    </tr>\n",
       "  </thead>\n",
       "  <tbody>\n",
       "    <tr>\n",
       "      <th>24</th>\n",
       "      <td>6</td>\n",
       "      <td>0</td>\n",
       "      <td>13.574836</td>\n",
       "    </tr>\n",
       "    <tr>\n",
       "      <th>145</th>\n",
       "      <td>3</td>\n",
       "      <td>0</td>\n",
       "      <td>14.386859</td>\n",
       "    </tr>\n",
       "    <tr>\n",
       "      <th>161</th>\n",
       "      <td>7</td>\n",
       "      <td>0</td>\n",
       "      <td>12.936819</td>\n",
       "    </tr>\n",
       "    <tr>\n",
       "      <th>4</th>\n",
       "      <td>1</td>\n",
       "      <td>0</td>\n",
       "      <td>12.049163</td>\n",
       "    </tr>\n",
       "    <tr>\n",
       "      <th>26</th>\n",
       "      <td>4</td>\n",
       "      <td>0</td>\n",
       "      <td>13.567655</td>\n",
       "    </tr>\n",
       "    <tr>\n",
       "      <th>...</th>\n",
       "      <td>...</td>\n",
       "      <td>...</td>\n",
       "      <td>...</td>\n",
       "    </tr>\n",
       "    <tr>\n",
       "      <th>79</th>\n",
       "      <td>6</td>\n",
       "      <td>23</td>\n",
       "      <td>13.354996</td>\n",
       "    </tr>\n",
       "    <tr>\n",
       "      <th>76</th>\n",
       "      <td>1</td>\n",
       "      <td>23</td>\n",
       "      <td>16.162186</td>\n",
       "    </tr>\n",
       "    <tr>\n",
       "      <th>72</th>\n",
       "      <td>4</td>\n",
       "      <td>23</td>\n",
       "      <td>13.084591</td>\n",
       "    </tr>\n",
       "    <tr>\n",
       "      <th>61</th>\n",
       "      <td>5</td>\n",
       "      <td>23</td>\n",
       "      <td>13.274168</td>\n",
       "    </tr>\n",
       "    <tr>\n",
       "      <th>48</th>\n",
       "      <td>7</td>\n",
       "      <td>23</td>\n",
       "      <td>12.457053</td>\n",
       "    </tr>\n",
       "  </tbody>\n",
       "</table>\n",
       "<p>168 rows × 3 columns</p>\n",
       "</div>"
      ],
      "text/plain": [
       "     pickup_day  pickup_hour  avg(fare_amount)\n",
       "24            6            0         13.574836\n",
       "145           3            0         14.386859\n",
       "161           7            0         12.936819\n",
       "4             1            0         12.049163\n",
       "26            4            0         13.567655\n",
       "..          ...          ...               ...\n",
       "79            6           23         13.354996\n",
       "76            1           23         16.162186\n",
       "72            4           23         13.084591\n",
       "61            5           23         13.274168\n",
       "48            7           23         12.457053\n",
       "\n",
       "[168 rows x 3 columns]"
      ]
     },
     "execution_count": 21,
     "metadata": {},
     "output_type": "execute_result"
    }
   ],
   "source": [
    "avg_fare = df_yel_filtered.groupby(dayofweek('tpep_pickup_datetime').alias('pickup_day'),\n",
    "                        hour('tpep_pickup_datetime').alias('pickup_hour')).avg('fare_amount')\n",
    "#display the result\n",
    "#print(\"The average fare is: \" ,avg_fare)\n",
    "avg_fare=avg_fare.toPandas()\n",
    "avg_fare=avg_fare.sort_values(by=['pickup_hour'])\n",
    "avg_fare\n"
   ]
  },
  {
   "cell_type": "markdown",
   "id": "d3bc8e1b",
   "metadata": {},
   "source": [
    "3. The average trip duration"
   ]
  },
  {
   "cell_type": "code",
   "execution_count": 22,
   "id": "d6db28bd",
   "metadata": {},
   "outputs": [],
   "source": [
    "avg_trip_duration = df_yel_filtered.groupby(dayofweek('tpep_pickup_datetime').alias('pickup_day'), \n",
    "                            hour('tpep_pickup_datetime').alias('pickup_hour')).avg('trip_distance')\n",
    "#display the result\n"
   ]
  },
  {
   "cell_type": "markdown",
   "id": "bf5b41cc",
   "metadata": {},
   "source": [
    "4. Plot the average of ongoing trips"
   ]
  },
  {
   "cell_type": "code",
   "execution_count": null,
   "id": "4022f33e",
   "metadata": {},
   "outputs": [],
   "source": [
    "# convert into pandas dataframe\n",
    "df_yel_filtered = df_yel_filtered.toPandas()\n",
    "\n",
    "# Convert the 'tpep_dropoff_datetime' and 'tpep_pickup_datetime' columns to datetime format\n",
    "df_yel_filtered['tpep_dropoff_datetime'] = pd.to_datetime(df['tpep_dropoff_datetime'])\n",
    "df_yel_filtered['tpep_pickup_datetime'] = pd.to_datetime(df['tpep_pickup_datetime'])\n",
    "\n",
    "# Calculate the duration of each trip by subtracting the pickup datetime \n",
    "# from the dropoff datetime to get the trip duration in seconds.\n",
    "\n",
    "df_yel_filtered['trip_duration'] = (df_yel_filtered['tpep_dropoff_datetime'] - \n",
    "                                    df_yel_filtered['tpep_pickup_datetime']).dt.total_seconds()\n",
    "\n",
    "# Group the data by the desired time interval and calculate the average trip duration for each interval.\n",
    "\n",
    "average_trip_duration = df_yel_filtered.groupby(df_yel_filtered['tpep_pickup_datetime'].dt.hour)['trip_duration'].mean()\n",
    "\n",
    "# the plot\n",
    "plt.figure(figsize=(10, 6)) \n",
    "plt.bar(average_trip_duration.index, average_trip_duration.values)\n",
    "plt.xlabel('Hour')\n",
    "plt.ylabel('Average Trip Duration (seconds)')\n",
    "plt.title('Average Trip Duration by Hour')\n",
    "plt.xticks(average_trip_duration.index)\n",
    "plt.grid(True) \n",
    "plt.show()\n"
   ]
  },
  {
   "cell_type": "markdown",
   "id": "130f0576",
   "metadata": {},
   "source": [
    "### Rides to the airports"
   ]
  },
  {
   "cell_type": "markdown",
   "id": "ea137dd2",
   "metadata": {},
   "source": [
    "1. Median duration of taxi trip leaving Midtown (Southern Manhattan) headed for JFK Airport"
   ]
  },
  {
   "cell_type": "code",
   "execution_count": null,
   "id": "9012a9a3",
   "metadata": {},
   "outputs": [],
   "source": [
    "midtown = {'longitude_min': -74.01, 'longitude_max': -73.96, 'latitude_min': 40.73, 'latitude_max': 40.78}\n",
    "jfk = {'longitude_min': -73.85, 'longitude_max': -73.74, 'latitude_min': 40.62, 'latitude_max': 40.66}\n",
    "newark = {'longitude_min': -74.20, 'longitude_max': -74.14, 'latitude_min': 40.65, 'latitude_max': 40.73}\n",
    "laguardia = {'longitude_min': -73.89, 'longitude_max': -73.85, 'latitude_min': 40.77, 'latitude_max': 40.80}\n",
    " \n",
    "\n",
    "median_trip_duration = df_yel_filtered(col(\"pickup_longitude\") >= )"
   ]
  },
  {
   "cell_type": "markdown",
   "id": "f03e0271",
   "metadata": {},
   "source": [
    "### Geographic information"
   ]
  },
  {
   "cell_type": "code",
   "execution_count": 24,
   "id": "b2645429",
   "metadata": {},
   "outputs": [
    {
     "name": "stdout",
     "output_type": "stream",
     "text": [
      "  LocationID                    geometry\n",
      "0        JFK  POINT (-73.78181 40.64245)\n",
      "1  LaGuardia  POINT (-73.87075 40.77509)\n",
      "2     Newark  POINT (-74.17331 40.69276)\n"
     ]
    }
   ],
   "source": [
    "# Load GeoJSON file\n",
    "data_geojson = gpd.read_file(\"/home/marius/Téléchargements/map.geojson\")         # Load the GeoJSON file as a GeoDataFrame\n",
    "\n",
    "print(data_geojson)"
   ]
  },
  {
   "cell_type": "code",
   "execution_count": 30,
   "id": "72dac153",
   "metadata": {},
   "outputs": [],
   "source": [
    "#Register DataFrame as a temporary view for Spark SQL operations\n",
    "#df_yel_filtered.createOrReplaceTempView(\"trips\")\n",
    "\n",
    "# Build a heatmap of number of pickups, number of dropoffs, and number of pickups with dropoff at airports\n",
    "heatmap_pickups = df_yel_filtered.groupBy(\"zones_pickup_location\").count()\n",
    "heatmap_dropoffs = df_yel_filtered.groupBy(\"zones_dropoff_location\").count()\n",
    "heatmap_airport_pickups = df_yel_filtered.filter(col(\"zones_dropoff_location\").isin(['JFK', \n",
    "                                        'LaGuardia', 'Newark'])).groupBy(\"zones_pickup_location\").count()\n",
    "\n"
   ]
  },
  {
   "cell_type": "code",
   "execution_count": 28,
   "id": "947e0223",
   "metadata": {},
   "outputs": [],
   "source": [
    "# Build a choropleth map of number of pickups in the area, ratio of card payments to cash payments, and ratio of total fare to trip duration\n",
    "choropleth_pickups = df_yel_filtered.groupBy(\"zones_pickup_location\").count()\n",
    "choropleth_payment_ratio = df_yel_filtered.groupBy(\"zones_pickup_location\").agg(\n",
    "    (sum(when(col(\"payment_type\") == 1, 1).otherwise(0)) /\n",
    "     sum(when(col(\"payment_type\") == 2, 1).otherwise(0))).alias(\"payment_ratio\")\n",
    ")\n",
    "choropleth_fare_duration_ratio = df_yel_filtered.groupBy(\"zones_dropoff_location\").agg(\n",
    "    (sum(\"total_amount\") / sum(\"trip_distance\")).alias(\"fare_duration_ratio\")\n",
    ")"
   ]
  },
  {
   "cell_type": "code",
   "execution_count": null,
   "id": "4ed98971",
   "metadata": {},
   "outputs": [],
   "source": []
  }
 ],
 "metadata": {
  "kernelspec": {
   "display_name": "Python 3 (ipykernel)",
   "language": "python",
   "name": "python3"
  },
  "language_info": {
   "codemirror_mode": {
    "name": "ipython",
    "version": 3
   },
   "file_extension": ".py",
   "mimetype": "text/x-python",
   "name": "python",
   "nbconvert_exporter": "python",
   "pygments_lexer": "ipython3",
   "version": "3.9.13"
  }
 },
 "nbformat": 4,
 "nbformat_minor": 5
}
