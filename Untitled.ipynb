{
 "cells": [
  {
   "cell_type": "code",
   "execution_count": 1,
   "id": "65361999",
   "metadata": {},
   "outputs": [
    {
     "name": "stderr",
     "output_type": "stream",
     "text": [
      "23/05/24 12:05:27 WARN Utils: Your hostname, patrick resolves to a loopback address: 127.0.1.1; using 192.168.43.137 instead (on interface wlp2s0)\n",
      "23/05/24 12:05:27 WARN Utils: Set SPARK_LOCAL_IP if you need to bind to another address\n",
      "Setting default log level to \"WARN\".\n",
      "To adjust logging level use sc.setLogLevel(newLevel). For SparkR, use setLogLevel(newLevel).\n",
      "23/05/24 12:05:28 WARN NativeCodeLoader: Unable to load native-hadoop library for your platform... using builtin-java classes where applicable\n"
     ]
    }
   ],
   "source": [
    "import os\n",
    "import sys\n",
    "from pyspark.sql import SparkSession\n",
    "from pyspark import SparkContext as sc\n",
    "\n",
    "spark = (SparkSession\n",
    "        .builder\n",
    "        .appName(\"BIG DATA\")\n",
    "        .getOrCreate()\n",
    "        )"
   ]
  },
  {
   "cell_type": "code",
   "execution_count": 3,
   "id": "44717bc9",
   "metadata": {},
   "outputs": [
    {
     "data": {
      "text/plain": [
       "['VendorID',\n",
       " 'tpep_pickup_datetime',\n",
       " 'tpep_dropoff_datetime',\n",
       " 'passenger_count',\n",
       " 'trip_distance',\n",
       " 'RatecodeID',\n",
       " 'store_and_fwd_flag',\n",
       " 'PULocationID',\n",
       " 'DOLocationID',\n",
       " 'payment_type',\n",
       " 'fare_amount',\n",
       " 'extra',\n",
       " 'mta_tax',\n",
       " 'tip_amount',\n",
       " 'tolls_amount',\n",
       " 'improvement_surcharge',\n",
       " 'total_amount',\n",
       " 'congestion_surcharge',\n",
       " 'airport_fee']"
      ]
     },
     "execution_count": 3,
     "metadata": {},
     "output_type": "execute_result"
    }
   ],
   "source": [
    "''' from pathlib import Path\n",
    "from pyspark import SparkFiles\n",
    "import itertools\n",
    "\n",
    "year  = ['19', '20', '21', '22']\n",
    "month = ['03', '04']\n",
    "\n",
    "\n",
    "for m, y in itertools.product(month, year):\n",
    "    \n",
    "    l_fhv = 'fhvhv_tripdata_20' + y + '-' + m + '.parquet'\n",
    "    l_yel = 'yellow_tripdata_20' + y + '-' + m + '.parquet'\n",
    "    \n",
    "    input_path_fhv = Path('./' + l_fhv)\n",
    "    input_path_yel = Path('./' + l_yel)\n",
    "    \n",
    "    if not input_path_fhv.exists():    \n",
    "        url_fhv = \"https://d37ci6vzurychx.cloudfront.net/trip-data/\" + l_fhv\n",
    "        \n",
    "    if not input_path_yel.exists():\n",
    "        url_yel = \"https://d37ci6vzurychx.cloudfront.net/trip-data/\" + l_yel\n",
    "    \n",
    "    \n",
    "    spark.sparkContext.addFile(url_fhv)\n",
    "    spark.sparkContext.addFile(url_yel)\n",
    "    \n",
    "#df = spark.read.parquet(SparkFiles.getRootDirectory(), header=True, inferSchema= True)\n",
    "df_fhv = spark.read.parquet(SparkFiles.get(input_path_fhv), header=True, inferSchema= True)\n",
    "df_yel = spark.read.parquet(SparkFiles.get(input_path_yel), header=True, inferSchema= True)\n",
    "'''\n",
    "\n",
    "# read the parquet file\n",
    "df_yel= spark.read.parquet(\"/home/edouard/Documents/Big Data/yellow_tripdata_2019-03.parquet\")\n",
    "df_fhv= spark.read.parquet(\"/home/edouard/Documents/Big Data/fhv_tripdata_2019-03.parquet\")\n",
    "\n",
    "\n",
    "df_yel.columns\n",
    "#df_fhv.columns\n",
    "#df_yel.show()\n",
    "#df_fhv.show()\n",
    "\n",
    "    "
   ]
  },
  {
   "cell_type": "markdown",
   "id": "b1eb46b6",
   "metadata": {},
   "source": [
    "1. What is the number of partitions of the dataframe?"
   ]
  },
  {
   "cell_type": "code",
   "execution_count": 4,
   "id": "5a341da4",
   "metadata": {},
   "outputs": [
    {
     "data": {
      "text/plain": [
       "8"
      ]
     },
     "execution_count": 4,
     "metadata": {},
     "output_type": "execute_result"
    }
   ],
   "source": [
    "num_partitions = df_yel.rdd.getNumPartitions()\n",
    "num_partitions\n",
    "#d = sc.parallelize(df_yel, 4)"
   ]
  },
  {
   "cell_type": "code",
   "execution_count": 5,
   "id": "98b31d57",
   "metadata": {},
   "outputs": [
    {
     "data": {
      "text/plain": [
       "DataFrame[VendorID: bigint, tpep_pickup_datetime: timestamp_ntz, tpep_dropoff_datetime: timestamp_ntz, passenger_count: double, trip_distance: double, RatecodeID: double, store_and_fwd_flag: string, PULocationID: bigint, DOLocationID: bigint, payment_type: bigint, fare_amount: double, extra: double, mta_tax: double, tip_amount: double, tolls_amount: double, improvement_surcharge: double, total_amount: double, congestion_surcharge: double, airport_fee: int]"
      ]
     },
     "execution_count": 5,
     "metadata": {},
     "output_type": "execute_result"
    }
   ],
   "source": [
    "# Dropping na values \n",
    "df_yel.na.drop()"
   ]
  },
  {
   "cell_type": "code",
   "execution_count": 6,
   "id": "16a34b5d",
   "metadata": {},
   "outputs": [
    {
     "name": "stdout",
     "output_type": "stream",
     "text": [
      "OrderedDict([('OBJECTID', 1), ('Shape_Leng', 0.116357453189), ('Shape_Area', 0.0007823067885), ('zone', 'Newark Airport'), ('LocationID', 1), ('borough', 'EWR')])\n",
      "OrderedDict([('OBJECTID', 2), ('Shape_Leng', 0.43346966679), ('Shape_Area', 0.00486634037837), ('zone', 'Jamaica Bay'), ('LocationID', 2), ('borough', 'Queens')])\n",
      "OrderedDict([('OBJECTID', 3), ('Shape_Leng', 0.0843411059012), ('Shape_Area', 0.000314414156821), ('zone', 'Allerton/Pelham Gardens'), ('LocationID', 3), ('borough', 'Bronx')])\n",
      "OrderedDict([('OBJECTID', 4), ('Shape_Leng', 0.0435665270921), ('Shape_Area', 0.000111871946192), ('zone', 'Alphabet City'), ('LocationID', 4), ('borough', 'Manhattan')])\n",
      "OrderedDict([('OBJECTID', 5), ('Shape_Leng', 0.0921464898574), ('Shape_Area', 0.000497957489363), ('zone', 'Arden Heights'), ('LocationID', 5), ('borough', 'Staten Island')])\n",
      "OrderedDict([('OBJECTID', 6), ('Shape_Leng', 0.150490542523), ('Shape_Area', 0.000606460984581), ('zone', 'Arrochar/Fort Wadsworth'), ('LocationID', 6), ('borough', 'Staten Island')])\n",
      "OrderedDict([('OBJECTID', 7), ('Shape_Leng', 0.107417171123), ('Shape_Area', 0.000389787989274), ('zone', 'Astoria'), ('LocationID', 7), ('borough', 'Queens')])\n",
      "OrderedDict([('OBJECTID', 8), ('Shape_Leng', 0.0275906911574), ('Shape_Area', 2.6587716279e-05), ('zone', 'Astoria Park'), ('LocationID', 8), ('borough', 'Queens')])\n",
      "OrderedDict([('OBJECTID', 9), ('Shape_Leng', 0.0997840924705), ('Shape_Area', 0.000338443803197), ('zone', 'Auburndale'), ('LocationID', 9), ('borough', 'Queens')])\n",
      "OrderedDict([('OBJECTID', 10), ('Shape_Leng', 0.0998394794152), ('Shape_Area', 0.000435823818081), ('zone', 'Baisley Park'), ('LocationID', 10), ('borough', 'Queens')])\n",
      "OrderedDict([('OBJECTID', 11), ('Shape_Leng', 0.0792110389596), ('Shape_Area', 0.00026452053504), ('zone', 'Bath Beach'), ('LocationID', 11), ('borough', 'Brooklyn')])\n",
      "OrderedDict([('OBJECTID', 12), ('Shape_Leng', 0.0366613013579), ('Shape_Area', 4.15116236727e-05), ('zone', 'Battery Park'), ('LocationID', 12), ('borough', 'Manhattan')])\n",
      "OrderedDict([('OBJECTID', 13), ('Shape_Leng', 0.0502813228631), ('Shape_Area', 0.000149358592917), ('zone', 'Battery Park City'), ('LocationID', 13), ('borough', 'Manhattan')])\n",
      "OrderedDict([('OBJECTID', 14), ('Shape_Leng', 0.175213698053), ('Shape_Area', 0.00138177826442), ('zone', 'Bay Ridge'), ('LocationID', 14), ('borough', 'Brooklyn')])\n",
      "OrderedDict([('OBJECTID', 15), ('Shape_Leng', 0.14433622262), ('Shape_Area', 0.000925219395547), ('zone', 'Bay Terrace/Fort Totten'), ('LocationID', 15), ('borough', 'Queens')])\n",
      "OrderedDict([('OBJECTID', 16), ('Shape_Leng', 0.141291873771), ('Shape_Area', 0.000871889446182), ('zone', 'Bayside'), ('LocationID', 16), ('borough', 'Queens')])\n",
      "OrderedDict([('OBJECTID', 17), ('Shape_Leng', 0.093522632948), ('Shape_Area', 0.000322957654799), ('zone', 'Bedford'), ('LocationID', 17), ('borough', 'Brooklyn')])\n",
      "OrderedDict([('OBJECTID', 18), ('Shape_Leng', 0.0697995498569), ('Shape_Area', 0.000148850163948), ('zone', 'Bedford Park'), ('LocationID', 18), ('borough', 'Bronx')])\n",
      "OrderedDict([('OBJECTID', 19), ('Shape_Leng', 0.101824875452), ('Shape_Area', 0.000546661094782), ('zone', 'Bellerose'), ('LocationID', 19), ('borough', 'Queens')])\n",
      "OrderedDict([('OBJECTID', 20), ('Shape_Leng', 0.0514401924362), ('Shape_Area', 0.000134512633032), ('zone', 'Belmont'), ('LocationID', 20), ('borough', 'Bronx')])\n",
      "OrderedDict([('OBJECTID', 21), ('Shape_Leng', 0.115973569062), ('Shape_Area', 0.000380251345507), ('zone', 'Bensonhurst East'), ('LocationID', 21), ('borough', 'Brooklyn')])\n",
      "OrderedDict([('OBJECTID', 22), ('Shape_Leng', 0.126170229196), ('Shape_Area', 0.000472062684608), ('zone', 'Bensonhurst West'), ('LocationID', 22), ('borough', 'Brooklyn')])\n",
      "OrderedDict([('OBJECTID', 23), ('Shape_Leng', 0.290556028962), ('Shape_Area', 0.00219556576201), ('zone', 'Bloomfield/Emerson Hill'), ('LocationID', 23), ('borough', 'Staten Island')])\n",
      "OrderedDict([('OBJECTID', 24), ('Shape_Leng', 0.0469999619287), ('Shape_Area', 6.07235737749e-05), ('zone', 'Bloomingdale'), ('LocationID', 24), ('borough', 'Manhattan')])\n",
      "OrderedDict([('OBJECTID', 25), ('Shape_Leng', 0.0471458199319), ('Shape_Area', 0.000124168267356), ('zone', 'Boerum Hill'), ('LocationID', 25), ('borough', 'Brooklyn')])\n",
      "OrderedDict([('OBJECTID', 26), ('Shape_Leng', 0.12354780707), ('Shape_Area', 0.000534039927626), ('zone', 'Borough Park'), ('LocationID', 26), ('borough', 'Brooklyn')])\n",
      "OrderedDict([('OBJECTID', 27), ('Shape_Leng', 0.202508808518), ('Shape_Area', 0.00134088762746), ('zone', 'Breezy Point/Fort Tilden/Riis Beach'), ('LocationID', 27), ('borough', 'Queens')])\n",
      "OrderedDict([('OBJECTID', 28), ('Shape_Leng', 0.097960782214), ('Shape_Area', 0.000291203927662), ('zone', 'Briarwood/Jamaica Hills'), ('LocationID', 28), ('borough', 'Queens')])\n",
      "OrderedDict([('OBJECTID', 29), ('Shape_Leng', 0.0714083127733), ('Shape_Area', 0.000201673837402), ('zone', 'Brighton Beach'), ('LocationID', 29), ('borough', 'Brooklyn')])\n",
      "OrderedDict([('OBJECTID', 30), ('Shape_Leng', 0.0945097669793), ('Shape_Area', 0.000145862107626), ('zone', 'Broad Channel'), ('LocationID', 30), ('borough', 'Queens')])\n",
      "OrderedDict([('OBJECTID', 31), ('Shape_Leng', 0.0964245666516), ('Shape_Area', 0.000333975927329), ('zone', 'Bronx Park'), ('LocationID', 31), ('borough', 'Bronx')])\n",
      "OrderedDict([('OBJECTID', 32), ('Shape_Leng', 0.05426721601), ('Shape_Area', 0.000150879171971), ('zone', 'Bronxdale'), ('LocationID', 32), ('borough', 'Bronx')])\n",
      "OrderedDict([('OBJECTID', 33), ('Shape_Leng', 0.0532702931967), ('Shape_Area', 0.000147416802448), ('zone', 'Brooklyn Heights'), ('LocationID', 33), ('borough', 'Brooklyn')])\n",
      "OrderedDict([('OBJECTID', 34), ('Shape_Leng', 0.0657059323545), ('Shape_Area', 0.000173946146651), ('zone', 'Brooklyn Navy Yard'), ('LocationID', 34), ('borough', 'Brooklyn')])\n",
      "OrderedDict([('OBJECTID', 35), ('Shape_Leng', 0.085787918592), ('Shape_Area', 0.000323825195932), ('zone', 'Brownsville'), ('LocationID', 35), ('borough', 'Brooklyn')])\n",
      "OrderedDict([('OBJECTID', 36), ('Shape_Leng', 0.0870507867063), ('Shape_Area', 0.000247666139269), ('zone', 'Bushwick North'), ('LocationID', 36), ('borough', 'Brooklyn')])\n",
      "OrderedDict([('OBJECTID', 37), ('Shape_Leng', 0.142810040466), ('Shape_Area', 0.000452062644782), ('zone', 'Bushwick South'), ('LocationID', 37), ('borough', 'Brooklyn')])\n",
      "OrderedDict([('OBJECTID', 38), ('Shape_Leng', 0.0832175685234), ('Shape_Area', 0.000327392684821), ('zone', 'Cambria Heights'), ('LocationID', 38), ('borough', 'Queens')])\n",
      "OrderedDict([('OBJECTID', 39), ('Shape_Leng', 0.132369620757), ('Shape_Area', 0.00090028293862), ('zone', 'Canarsie'), ('LocationID', 39), ('borough', 'Brooklyn')])\n",
      "OrderedDict([('OBJECTID', 40), ('Shape_Leng', 0.0518506648762), ('Shape_Area', 0.000108949211644), ('zone', 'Carroll Gardens'), ('LocationID', 40), ('borough', 'Brooklyn')])\n",
      "OrderedDict([('OBJECTID', 41), ('Shape_Leng', 0.052793109453), ('Shape_Area', 0.000143093037737), ('zone', 'Central Harlem'), ('LocationID', 41), ('borough', 'Manhattan')])\n",
      "OrderedDict([('OBJECTID', 42), ('Shape_Leng', 0.0927092274616), ('Shape_Area', 0.000263896952605), ('zone', 'Central Harlem North'), ('LocationID', 42), ('borough', 'Manhattan')])\n",
      "OrderedDict([('OBJECTID', 43), ('Shape_Leng', 0.0997386183576), ('Shape_Area', 0.000379662912054), ('zone', 'Central Park'), ('LocationID', 43), ('borough', 'Manhattan')])\n",
      "OrderedDict([('OBJECTID', 44), ('Shape_Leng', 0.235688967594), ('Shape_Area', 0.00194465649192), ('zone', 'Charleston/Tottenville'), ('LocationID', 44), ('borough', 'Staten Island')])\n",
      "OrderedDict([('OBJECTID', 45), ('Shape_Leng', 0.0459068626235), ('Shape_Area', 9.13594688556e-05), ('zone', 'Chinatown'), ('LocationID', 45), ('borough', 'Manhattan')])\n",
      "OrderedDict([('OBJECTID', 46), ('Shape_Leng', 0.134475429879), ('Shape_Area', 0.000926391677672), ('zone', 'City Island'), ('LocationID', 46), ('borough', 'Bronx')])\n",
      "OrderedDict([('OBJECTID', 47), ('Shape_Leng', 0.0898275563294), ('Shape_Area', 0.000163198117339), ('zone', 'Claremont/Bathgate'), ('LocationID', 47), ('borough', 'Bronx')])\n",
      "OrderedDict([('OBJECTID', 48), ('Shape_Leng', 0.0437467441431), ('Shape_Area', 9.42538425377e-05), ('zone', 'Clinton East'), ('LocationID', 48), ('borough', 'Manhattan')])\n",
      "OrderedDict([('OBJECTID', 49), ('Shape_Leng', 0.0752900183427), ('Shape_Area', 0.000203185525471), ('zone', 'Clinton Hill'), ('LocationID', 49), ('borough', 'Brooklyn')])\n",
      "OrderedDict([('OBJECTID', 50), ('Shape_Leng', 0.0557479867536), ('Shape_Area', 0.000173249283326), ('zone', 'Clinton West'), ('LocationID', 50), ('borough', 'Manhattan')])\n",
      "OrderedDict([('OBJECTID', 51), ('Shape_Leng', 0.0953613442277), ('Shape_Area', 0.000395756553505), ('zone', 'Co-Op City'), ('LocationID', 51), ('borough', 'Bronx')])\n",
      "OrderedDict([('OBJECTID', 52), ('Shape_Leng', 0.0289076710093), ('Shape_Area', 4.52027509603e-05), ('zone', 'Cobble Hill'), ('LocationID', 52), ('borough', 'Brooklyn')])\n",
      "OrderedDict([('OBJECTID', 53), ('Shape_Leng', 0.161500913385), ('Shape_Area', 0.000947530980821), ('zone', 'College Point'), ('LocationID', 53), ('borough', 'Queens')])\n",
      "OrderedDict([('OBJECTID', 54), ('Shape_Leng', 0.0762192448554), ('Shape_Area', 0.000132452130536), ('zone', 'Columbia Street'), ('LocationID', 54), ('borough', 'Brooklyn')])\n",
      "OrderedDict([('OBJECTID', 55), ('Shape_Leng', 0.149956807524), ('Shape_Area', 0.000736274713586), ('zone', 'Coney Island'), ('LocationID', 55), ('borough', 'Brooklyn')])\n",
      "OrderedDict([('OBJECTID', 56), ('Shape_Leng', 0.0568478126677), ('Shape_Area', 0.000180907844436), ('zone', 'Corona'), ('LocationID', 56), ('borough', 'Queens')])\n",
      "OrderedDict([('OBJECTID', 57), ('Shape_Leng', 0.0192705048557), ('Shape_Area', 1.80259807917e-05), ('zone', 'Corona'), ('LocationID', 56), ('borough', 'Queens')])\n",
      "OrderedDict([('OBJECTID', 58), ('Shape_Leng', 0.0598554094851), ('Shape_Area', 0.000204980931361), ('zone', 'Country Club'), ('LocationID', 58), ('borough', 'Bronx')])\n",
      "OrderedDict([('OBJECTID', 59), ('Shape_Leng', 0.0377948070893), ('Shape_Area', 6.28765230648e-05), ('zone', 'Crotona Park'), ('LocationID', 59), ('borough', 'Bronx')])\n",
      "OrderedDict([('OBJECTID', 60), ('Shape_Leng', 0.0786482878226), ('Shape_Area', 0.000161833284912), ('zone', 'Crotona Park East'), ('LocationID', 60), ('borough', 'Bronx')])\n",
      "OrderedDict([('OBJECTID', 61), ('Shape_Leng', 0.117310808097), ('Shape_Area', 0.000510772092295), ('zone', 'Crown Heights North'), ('LocationID', 61), ('borough', 'Brooklyn')])\n",
      "OrderedDict([('OBJECTID', 62), ('Shape_Leng', 0.0822593359838), ('Shape_Area', 0.000158238169004), ('zone', 'Crown Heights South'), ('LocationID', 62), ('borough', 'Brooklyn')])\n",
      "OrderedDict([('OBJECTID', 63), ('Shape_Leng', 0.119100721883), ('Shape_Area', 0.000353190910142), ('zone', 'Cypress Hills'), ('LocationID', 63), ('borough', 'Brooklyn')])\n",
      "OrderedDict([('OBJECTID', 64), ('Shape_Leng', 0.18445188474), ('Shape_Area', 0.00105790284614), ('zone', 'Douglaston'), ('LocationID', 64), ('borough', 'Queens')])\n",
      "OrderedDict([('OBJECTID', 65), ('Shape_Leng', 0.0446070683658), ('Shape_Area', 8.1803882541e-05), ('zone', 'Downtown Brooklyn/MetroTech'), ('LocationID', 65), ('borough', 'Brooklyn')])\n",
      "OrderedDict([('OBJECTID', 66), ('Shape_Leng', 0.0546334593634), ('Shape_Area', 0.000108378855948), ('zone', 'DUMBO/Vinegar Hill'), ('LocationID', 66), ('borough', 'Brooklyn')])\n",
      "OrderedDict([('OBJECTID', 67), ('Shape_Leng', 0.0997470781551), ('Shape_Area', 0.000394282272487), ('zone', 'Dyker Heights'), ('LocationID', 67), ('borough', 'Brooklyn')])\n",
      "OrderedDict([('OBJECTID', 68), ('Shape_Leng', 0.0493373795569), ('Shape_Area', 0.000111073378655), ('zone', 'East Chelsea'), ('LocationID', 68), ('borough', 'Manhattan')])\n",
      "OrderedDict([('OBJECTID', 69), ('Shape_Leng', 0.0789896450483), ('Shape_Area', 0.00019905160381), ('zone', 'East Concourse/Concourse Village'), ('LocationID', 69), ('borough', 'Bronx')])\n",
      "OrderedDict([('OBJECTID', 70), ('Shape_Leng', 0.0638403183367), ('Shape_Area', 0.000195458476728), ('zone', 'East Elmhurst'), ('LocationID', 70), ('borough', 'Queens')])\n",
      "OrderedDict([('OBJECTID', 71), ('Shape_Leng', 0.0931694551828), ('Shape_Area', 0.000382572587364), ('zone', 'East Flatbush/Farragut'), ('LocationID', 71), ('borough', 'Brooklyn')])\n",
      "OrderedDict([('OBJECTID', 72), ('Shape_Leng', 0.0952020695166), ('Shape_Area', 0.000323532461947), ('zone', 'East Flatbush/Remsen Village'), ('LocationID', 72), ('borough', 'Brooklyn')])\n",
      "OrderedDict([('OBJECTID', 73), ('Shape_Leng', 0.0853020209129), ('Shape_Area', 0.000291799754395), ('zone', 'East Flushing'), ('LocationID', 73), ('borough', 'Queens')])\n",
      "OrderedDict([('OBJECTID', 74), ('Shape_Leng', 0.11029093625), ('Shape_Area', 0.000295038418204), ('zone', 'East Harlem North'), ('LocationID', 74), ('borough', 'Manhattan')])\n",
      "OrderedDict([('OBJECTID', 75), ('Shape_Leng', 0.0876638997685), ('Shape_Area', 0.00024056392715), ('zone', 'East Harlem South'), ('LocationID', 75), ('borough', 'Manhattan')])\n",
      "OrderedDict([('OBJECTID', 76), ('Shape_Leng', 0.241203016269), ('Shape_Area', 0.00126660143241), ('zone', 'East New York'), ('LocationID', 76), ('borough', 'Brooklyn')])\n",
      "OrderedDict([('OBJECTID', 77), ('Shape_Leng', 0.075461081444), ('Shape_Area', 0.000191917981315), ('zone', 'East New York/Pennsylvania Avenue'), ('LocationID', 77), ('borough', 'Brooklyn')])\n",
      "OrderedDict([('OBJECTID', 78), ('Shape_Leng', 0.0935944495806), ('Shape_Area', 0.000191114419551), ('zone', 'East Tremont'), ('LocationID', 78), ('borough', 'Bronx')])\n",
      "OrderedDict([('OBJECTID', 79), ('Shape_Leng', 0.0426249113144), ('Shape_Area', 0.000107893068218), ('zone', 'East Village'), ('LocationID', 79), ('borough', 'Manhattan')])\n",
      "OrderedDict([('OBJECTID', 80), ('Shape_Leng', 0.117212621448), ('Shape_Area', 0.00040732245622), ('zone', 'East Williamsburg'), ('LocationID', 80), ('borough', 'Brooklyn')])\n",
      "OrderedDict([('OBJECTID', 81), ('Shape_Leng', 0.197592771731), ('Shape_Area', 0.00039956655019), ('zone', 'Eastchester'), ('LocationID', 81), ('borough', 'Bronx')])\n",
      "OrderedDict([('OBJECTID', 82), ('Shape_Leng', 0.119875649697), ('Shape_Area', 0.000323601079994), ('zone', 'Elmhurst'), ('LocationID', 82), ('borough', 'Queens')])\n",
      "OrderedDict([('OBJECTID', 83), ('Shape_Leng', 0.105984933269), ('Shape_Area', 0.000217463718718), ('zone', 'Elmhurst/Maspeth'), ('LocationID', 83), ('borough', 'Queens')])\n",
      "OrderedDict([('OBJECTID', 84), ('Shape_Leng', 0.233623987032), ('Shape_Area', 0.00207375572052), ('zone', \"Eltingville/Annadale/Prince's Bay\"), ('LocationID', 84), ('borough', 'Staten Island')])\n",
      "OrderedDict([('OBJECTID', 85), ('Shape_Leng', 0.0574751473562), ('Shape_Area', 0.000143637804933), ('zone', 'Erasmus'), ('LocationID', 85), ('borough', 'Brooklyn')])\n",
      "OrderedDict([('OBJECTID', 86), ('Shape_Leng', 0.134245282582), ('Shape_Area', 0.000623278815249), ('zone', 'Far Rockaway'), ('LocationID', 86), ('borough', 'Queens')])\n",
      "OrderedDict([('OBJECTID', 87), ('Shape_Leng', 0.0369015496117), ('Shape_Area', 6.72050210692e-05), ('zone', 'Financial District North'), ('LocationID', 87), ('borough', 'Manhattan')])\n",
      "OrderedDict([('OBJECTID', 88), ('Shape_Leng', 0.0352046035327), ('Shape_Area', 5.72999455414e-05), ('zone', 'Financial District South'), ('LocationID', 88), ('borough', 'Manhattan')])\n",
      "OrderedDict([('OBJECTID', 89), ('Shape_Leng', 0.122794569553), ('Shape_Area', 0.000447548142373), ('zone', 'Flatbush/Ditmas Park'), ('LocationID', 89), ('borough', 'Brooklyn')])\n",
      "OrderedDict([('OBJECTID', 90), ('Shape_Leng', 0.0307591620819), ('Shape_Area', 5.53132476305e-05), ('zone', 'Flatiron'), ('LocationID', 90), ('borough', 'Manhattan')])\n",
      "OrderedDict([('OBJECTID', 91), ('Shape_Leng', 0.124996624585), ('Shape_Area', 0.000537330013243), ('zone', 'Flatlands'), ('LocationID', 91), ('borough', 'Brooklyn')])\n",
      "OrderedDict([('OBJECTID', 92), ('Shape_Leng', 0.117830066799), ('Shape_Area', 0.000374946617289), ('zone', 'Flushing'), ('LocationID', 92), ('borough', 'Queens')])\n",
      "OrderedDict([('OBJECTID', 93), ('Shape_Leng', 0.170998027597), ('Shape_Area', 0.000594278183978), ('zone', 'Flushing Meadows-Corona Park'), ('LocationID', 93), ('borough', 'Queens')])\n",
      "OrderedDict([('OBJECTID', 94), ('Shape_Leng', 0.0498326083147), ('Shape_Area', 6.25819407393e-05), ('zone', 'Fordham South'), ('LocationID', 94), ('borough', 'Bronx')])\n",
      "OrderedDict([('OBJECTID', 95), ('Shape_Leng', 0.113629605476), ('Shape_Area', 0.00057277033803), ('zone', 'Forest Hills'), ('LocationID', 95), ('borough', 'Queens')])\n",
      "OrderedDict([('OBJECTID', 96), ('Shape_Leng', 0.185180248095), ('Shape_Area', 0.000547566253402), ('zone', 'Forest Park/Highland Park'), ('LocationID', 96), ('borough', 'Queens')])\n",
      "OrderedDict([('OBJECTID', 97), ('Shape_Leng', 0.0624760147423), ('Shape_Area', 0.000163303970435), ('zone', 'Fort Greene'), ('LocationID', 97), ('borough', 'Brooklyn')])\n",
      "OrderedDict([('OBJECTID', 98), ('Shape_Leng', 0.121661018278), ('Shape_Area', 0.000485773020954), ('zone', 'Fresh Meadows'), ('LocationID', 98), ('borough', 'Queens')])\n",
      "OrderedDict([('OBJECTID', 99), ('Shape_Leng', 0.1833714893), ('Shape_Area', 0.00121016463877), ('zone', 'Freshkills Park'), ('LocationID', 99), ('borough', 'Staten Island')])\n",
      "OrderedDict([('OBJECTID', 100), ('Shape_Leng', 0.0248131090342), ('Shape_Area', 3.74700210291e-05), ('zone', 'Garment District'), ('LocationID', 100), ('borough', 'Manhattan')])\n",
      "OrderedDict([('OBJECTID', 101), ('Shape_Leng', 0.101709836277), ('Shape_Area', 0.000452342528877), ('zone', 'Glen Oaks'), ('LocationID', 101), ('borough', 'Queens')])\n",
      "OrderedDict([('OBJECTID', 102), ('Shape_Leng', 0.136900484646), ('Shape_Area', 0.000296595466345), ('zone', 'Glendale'), ('LocationID', 102), ('borough', 'Queens')])\n",
      "OrderedDict([('OBJECTID', 103), ('Shape_Leng', 0.0143055167343), ('Shape_Area', 6.33056361314e-06), ('zone', \"Governor's Island/Ellis Island/Liberty Island\"), ('LocationID', 103), ('borough', 'Manhattan')])\n",
      "OrderedDict([('OBJECTID', 104), ('Shape_Leng', 0.0212208330928), ('Shape_Area', 1.19205339715e-05), ('zone', \"Governor's Island/Ellis Island/Liberty Island\"), ('LocationID', 103), ('borough', 'Manhattan')])\n",
      "OrderedDict([('OBJECTID', 105), ('Shape_Leng', 0.0774253398314), ('Shape_Area', 0.000368636392805), ('zone', \"Governor's Island/Ellis Island/Liberty Island\"), ('LocationID', 103), ('borough', 'Manhattan')])\n",
      "OrderedDict([('OBJECTID', 106), ('Shape_Leng', 0.0492110119798), ('Shape_Area', 0.000113616826567), ('zone', 'Gowanus'), ('LocationID', 106), ('borough', 'Brooklyn')])\n",
      "OrderedDict([('OBJECTID', 107), ('Shape_Leng', 0.0380413645908), ('Shape_Area', 7.46112192675e-05), ('zone', 'Gramercy'), ('LocationID', 107), ('borough', 'Manhattan')])\n",
      "OrderedDict([('OBJECTID', 108), ('Shape_Leng', 0.11117141227), ('Shape_Area', 0.000352866009465), ('zone', 'Gravesend'), ('LocationID', 108), ('borough', 'Brooklyn')])\n",
      "OrderedDict([('OBJECTID', 109), ('Shape_Leng', 0.178267819599), ('Shape_Area', 0.00116960076185), ('zone', 'Great Kills'), ('LocationID', 109), ('borough', 'Staten Island')])\n",
      "OrderedDict([('OBJECTID', 110), ('Shape_Leng', 0.103946292913), ('Shape_Area', 0.000525745098785), ('zone', 'Great Kills Park'), ('LocationID', 110), ('borough', 'Staten Island')])\n",
      "OrderedDict([('OBJECTID', 111), ('Shape_Leng', 0.0599308800658), ('Shape_Area', 0.000208683276503), ('zone', 'Green-Wood Cemetery'), ('LocationID', 111), ('borough', 'Brooklyn')])\n",
      "OrderedDict([('OBJECTID', 112), ('Shape_Leng', 0.107267875765), ('Shape_Area', 0.000462068671429), ('zone', 'Greenpoint'), ('LocationID', 112), ('borough', 'Brooklyn')])\n",
      "OrderedDict([('OBJECTID', 113), ('Shape_Leng', 0.032745350566), ('Shape_Area', 5.79634566998e-05), ('zone', 'Greenwich Village North'), ('LocationID', 113), ('borough', 'Manhattan')])\n",
      "OrderedDict([('OBJECTID', 114), ('Shape_Leng', 0.0317270347711), ('Shape_Area', 4.70207704945e-05), ('zone', 'Greenwich Village South'), ('LocationID', 114), ('borough', 'Manhattan')])\n",
      "OrderedDict([('OBJECTID', 115), ('Shape_Leng', 0.116169413964), ('Shape_Area', 0.000373168991958), ('zone', 'Grymes Hill/Clifton'), ('LocationID', 115), ('borough', 'Staten Island')])\n",
      "OrderedDict([('OBJECTID', 116), ('Shape_Leng', 0.0681164844265), ('Shape_Area', 0.000260415337217), ('zone', 'Hamilton Heights'), ('LocationID', 116), ('borough', 'Manhattan')])\n",
      "OrderedDict([('OBJECTID', 117), ('Shape_Leng', 0.169885857987), ('Shape_Area', 0.00090429427072), ('zone', 'Hammels/Arverne'), ('LocationID', 117), ('borough', 'Queens')])\n",
      "OrderedDict([('OBJECTID', 118), ('Shape_Leng', 0.243966217692), ('Shape_Area', 0.00182693922711), ('zone', 'Heartland Village/Todt Hill'), ('LocationID', 118), ('borough', 'Staten Island')])\n",
      "OrderedDict([('OBJECTID', 119), ('Shape_Leng', 0.0835070355744), ('Shape_Area', 0.000185779447534), ('zone', 'Highbridge'), ('LocationID', 119), ('borough', 'Bronx')])\n",
      "OrderedDict([('OBJECTID', 120), ('Shape_Leng', 0.0832612702158), ('Shape_Area', 9.31462821313e-05), ('zone', 'Highbridge Park'), ('LocationID', 120), ('borough', 'Manhattan')])\n",
      "OrderedDict([('OBJECTID', 121), ('Shape_Leng', 0.0969153373445), ('Shape_Area', 0.000384563286473), ('zone', 'Hillcrest/Pomonok'), ('LocationID', 121), ('borough', 'Queens')])\n",
      "OrderedDict([('OBJECTID', 122), ('Shape_Leng', 0.0665318439446), ('Shape_Area', 0.000226597104976), ('zone', 'Hollis'), ('LocationID', 122), ('borough', 'Queens')])\n",
      "OrderedDict([('OBJECTID', 123), ('Shape_Leng', 0.0834211389387), ('Shape_Area', 0.000296445173366), ('zone', 'Homecrest'), ('LocationID', 123), ('borough', 'Brooklyn')])\n",
      "OrderedDict([('OBJECTID', 124), ('Shape_Leng', 0.127724410062), ('Shape_Area', 0.000754837821479), ('zone', 'Howard Beach'), ('LocationID', 124), ('borough', 'Queens')])\n",
      "OrderedDict([('OBJECTID', 125), ('Shape_Leng', 0.0497322121757), ('Shape_Area', 7.64293209892e-05), ('zone', 'Hudson Sq'), ('LocationID', 125), ('borough', 'Manhattan')])\n",
      "OrderedDict([('OBJECTID', 126), ('Shape_Leng', 0.12994872606), ('Shape_Area', 0.0007032738273), ('zone', 'Hunts Point'), ('LocationID', 126), ('borough', 'Bronx')])\n",
      "OrderedDict([('OBJECTID', 127), ('Shape_Leng', 0.0600188855815), ('Shape_Area', 0.000163195647796), ('zone', 'Inwood'), ('LocationID', 127), ('borough', 'Manhattan')])\n",
      "OrderedDict([('OBJECTID', 128), ('Shape_Leng', 0.0702090290681), ('Shape_Area', 0.000207405982869), ('zone', 'Inwood Hill Park'), ('LocationID', 128), ('borough', 'Manhattan')])\n",
      "OrderedDict([('OBJECTID', 129), ('Shape_Leng', 0.0932727273403), ('Shape_Area', 0.00047398833179), ('zone', 'Jackson Heights'), ('LocationID', 129), ('borough', 'Queens')])\n",
      "OrderedDict([('OBJECTID', 130), ('Shape_Leng', 0.142028320665), ('Shape_Area', 0.000468322514327), ('zone', 'Jamaica'), ('LocationID', 130), ('borough', 'Queens')])\n",
      "OrderedDict([('OBJECTID', 131), ('Shape_Leng', 0.116547120922), ('Shape_Area', 0.000423696152789), ('zone', 'Jamaica Estates'), ('LocationID', 131), ('borough', 'Queens')])\n",
      "OrderedDict([('OBJECTID', 132), ('Shape_Leng', 0.24547851707), ('Shape_Area', 0.00203830095472), ('zone', 'JFK Airport'), ('LocationID', 132), ('borough', 'Queens')])\n",
      "OrderedDict([('OBJECTID', 133), ('Shape_Leng', 0.065134863162), ('Shape_Area', 0.000157188987507), ('zone', 'Kensington'), ('LocationID', 133), ('borough', 'Brooklyn')])\n",
      "OrderedDict([('OBJECTID', 134), ('Shape_Leng', 0.0695878223284), ('Shape_Area', 0.000202375182143), ('zone', 'Kew Gardens'), ('LocationID', 134), ('borough', 'Queens')])\n",
      "OrderedDict([('OBJECTID', 135), ('Shape_Leng', 0.121793045659), ('Shape_Area', 0.000467912240542), ('zone', 'Kew Gardens Hills'), ('LocationID', 135), ('borough', 'Queens')])\n",
      "OrderedDict([('OBJECTID', 136), ('Shape_Leng', 0.0906287154122), ('Shape_Area', 0.000148524994129), ('zone', 'Kingsbridge Heights'), ('LocationID', 136), ('borough', 'Bronx')])\n",
      "OrderedDict([('OBJECTID', 137), ('Shape_Leng', 0.0461076242707), ('Shape_Area', 0.000116455098947), ('zone', 'Kips Bay'), ('LocationID', 137), ('borough', 'Manhattan')])\n",
      "OrderedDict([('OBJECTID', 138), ('Shape_Leng', 0.107466933508), ('Shape_Area', 0.000536797294367), ('zone', 'LaGuardia Airport'), ('LocationID', 138), ('borough', 'Queens')])\n",
      "OrderedDict([('OBJECTID', 139), ('Shape_Leng', 0.0932997884483), ('Shape_Area', 0.000446669880154), ('zone', 'Laurelton'), ('LocationID', 139), ('borough', 'Queens')])\n",
      "OrderedDict([('OBJECTID', 140), ('Shape_Leng', 0.0475842911325), ('Shape_Area', 0.000114203907779), ('zone', 'Lenox Hill East'), ('LocationID', 140), ('borough', 'Manhattan')])\n",
      "OrderedDict([('OBJECTID', 141), ('Shape_Leng', 0.0415144638712), ('Shape_Area', 7.66545579019e-05), ('zone', 'Lenox Hill West'), ('LocationID', 141), ('borough', 'Manhattan')])\n",
      "OrderedDict([('OBJECTID', 142), ('Shape_Leng', 0.0381758942321), ('Shape_Area', 7.56537920738e-05), ('zone', 'Lincoln Square East'), ('LocationID', 142), ('borough', 'Manhattan')])\n",
      "OrderedDict([('OBJECTID', 143), ('Shape_Leng', 0.0541798538849), ('Shape_Area', 0.00015109426901), ('zone', 'Lincoln Square West'), ('LocationID', 143), ('borough', 'Manhattan')])\n",
      "OrderedDict([('OBJECTID', 144), ('Shape_Leng', 0.0276201668505), ('Shape_Area', 4.74789670369e-05), ('zone', 'Little Italy/NoLiTa'), ('LocationID', 144), ('borough', 'Manhattan')])\n",
      "OrderedDict([('OBJECTID', 145), ('Shape_Leng', 0.114313844981), ('Shape_Area', 0.000346641733797), ('zone', 'Long Island City/Hunters Point'), ('LocationID', 145), ('borough', 'Queens')])\n",
      "OrderedDict([('OBJECTID', 146), ('Shape_Leng', 0.0471405215717), ('Shape_Area', 0.000104638923425), ('zone', 'Long Island City/Queens Plaza'), ('LocationID', 146), ('borough', 'Queens')])\n",
      "OrderedDict([('OBJECTID', 147), ('Shape_Leng', 0.0587654949268), ('Shape_Area', 0.000106418172757), ('zone', 'Longwood'), ('LocationID', 147), ('borough', 'Bronx')])\n",
      "OrderedDict([('OBJECTID', 148), ('Shape_Leng', 0.0391305015633), ('Shape_Area', 6.97489921327e-05), ('zone', 'Lower East Side'), ('LocationID', 148), ('borough', 'Manhattan')])\n",
      "OrderedDict([('OBJECTID', 149), ('Shape_Leng', 0.0836805821837), ('Shape_Area', 0.000270639618955), ('zone', 'Madison'), ('LocationID', 149), ('borough', 'Brooklyn')])\n",
      "OrderedDict([('OBJECTID', 150), ('Shape_Leng', 0.089331491183), ('Shape_Area', 0.000332568036088), ('zone', 'Manhattan Beach'), ('LocationID', 150), ('borough', 'Brooklyn')])\n",
      "OrderedDict([('OBJECTID', 151), ('Shape_Leng', 0.0548899410999), ('Shape_Area', 0.000128848901918), ('zone', 'Manhattan Valley'), ('LocationID', 151), ('borough', 'Manhattan')])\n",
      "OrderedDict([('OBJECTID', 152), ('Shape_Leng', 0.0579094768782), ('Shape_Area', 0.000146637644064), ('zone', 'Manhattanville'), ('LocationID', 152), ('borough', 'Manhattan')])\n",
      "OrderedDict([('OBJECTID', 153), ('Shape_Leng', 0.024737239022), ('Shape_Area', 3.24684964817e-05), ('zone', 'Marble Hill'), ('LocationID', 153), ('borough', 'Manhattan')])\n",
      "OrderedDict([('OBJECTID', 154), ('Shape_Leng', 0.22733157076), ('Shape_Area', 0.00178968692433), ('zone', 'Marine Park/Floyd Bennett Field'), ('LocationID', 154), ('borough', 'Brooklyn')])\n",
      "OrderedDict([('OBJECTID', 155), ('Shape_Leng', 0.169808473032), ('Shape_Area', 0.000868261018498), ('zone', 'Marine Park/Mill Basin'), ('LocationID', 155), ('borough', 'Brooklyn')])\n",
      "OrderedDict([('OBJECTID', 156), ('Shape_Leng', 0.144476890476), ('Shape_Area', 0.0010521217443), ('zone', 'Mariners Harbor'), ('LocationID', 156), ('borough', 'Staten Island')])\n",
      "OrderedDict([('OBJECTID', 157), ('Shape_Leng', 0.131300217777), ('Shape_Area', 0.000354370128323), ('zone', 'Maspeth'), ('LocationID', 157), ('borough', 'Queens')])\n",
      "OrderedDict([('OBJECTID', 158), ('Shape_Leng', 0.0548099905515), ('Shape_Area', 0.000185568253002), ('zone', 'Meatpacking/West Village West'), ('LocationID', 158), ('borough', 'Manhattan')])\n",
      "OrderedDict([('OBJECTID', 159), ('Shape_Leng', 0.064363233206), ('Shape_Area', 0.00017124910387), ('zone', 'Melrose South'), ('LocationID', 159), ('borough', 'Bronx')])\n",
      "OrderedDict([('OBJECTID', 160), ('Shape_Leng', 0.14151914297), ('Shape_Area', 0.000571234977994), ('zone', 'Middle Village'), ('LocationID', 160), ('borough', 'Queens')])\n",
      "OrderedDict([('OBJECTID', 161), ('Shape_Leng', 0.0358039100611), ('Shape_Area', 7.19130682992e-05), ('zone', 'Midtown Center'), ('LocationID', 161), ('borough', 'Manhattan')])\n",
      "OrderedDict([('OBJECTID', 162), ('Shape_Leng', 0.0352698146219), ('Shape_Area', 4.78936962112e-05), ('zone', 'Midtown East'), ('LocationID', 162), ('borough', 'Manhattan')])\n",
      "OrderedDict([('OBJECTID', 163), ('Shape_Leng', 0.0341768669752), ('Shape_Area', 4.08567804196e-05), ('zone', 'Midtown North'), ('LocationID', 163), ('borough', 'Manhattan')])\n",
      "OrderedDict([('OBJECTID', 164), ('Shape_Leng', 0.0357716119908), ('Shape_Area', 5.56318237441e-05), ('zone', 'Midtown South'), ('LocationID', 164), ('borough', 'Manhattan')])\n",
      "OrderedDict([('OBJECTID', 165), ('Shape_Leng', 0.088608036213), ('Shape_Area', 0.000353959317019), ('zone', 'Midwood'), ('LocationID', 165), ('borough', 'Brooklyn')])\n",
      "OrderedDict([('OBJECTID', 166), ('Shape_Leng', 0.0688237542871), ('Shape_Area', 0.000255276270405), ('zone', 'Morningside Heights'), ('LocationID', 166), ('borough', 'Manhattan')])\n",
      "OrderedDict([('OBJECTID', 167), ('Shape_Leng', 0.0908159737292), ('Shape_Area', 0.000167529391193), ('zone', 'Morrisania/Melrose'), ('LocationID', 167), ('borough', 'Bronx')])\n",
      "OrderedDict([('OBJECTID', 168), ('Shape_Leng', 0.114517434155), ('Shape_Area', 0.000547058100444), ('zone', 'Mott Haven/Port Morris'), ('LocationID', 168), ('borough', 'Bronx')])\n",
      "OrderedDict([('OBJECTID', 169), ('Shape_Leng', 0.0601046580332), ('Shape_Area', 0.000146027537733), ('zone', 'Mount Hope'), ('LocationID', 169), ('borough', 'Bronx')])\n",
      "OrderedDict([('OBJECTID', 170), ('Shape_Leng', 0.0457690091051), ('Shape_Area', 7.43150675972e-05), ('zone', 'Murray Hill'), ('LocationID', 170), ('borough', 'Manhattan')])\n",
      "OrderedDict([('OBJECTID', 171), ('Shape_Leng', 0.107353876244), ('Shape_Area', 0.000520099538161), ('zone', 'Murray Hill-Queens'), ('LocationID', 171), ('borough', 'Queens')])\n",
      "OrderedDict([('OBJECTID', 172), ('Shape_Leng', 0.118476116148), ('Shape_Area', 0.000658402501406), ('zone', 'New Dorp/Midland Beach'), ('LocationID', 172), ('borough', 'Staten Island')])\n",
      "OrderedDict([('OBJECTID', 173), ('Shape_Leng', 0.0600639661414), ('Shape_Area', 0.000178329851357), ('zone', 'North Corona'), ('LocationID', 173), ('borough', 'Queens')])\n",
      "OrderedDict([('OBJECTID', 174), ('Shape_Leng', 0.0678177559602), ('Shape_Area', 0.000155928664422), ('zone', 'Norwood'), ('LocationID', 174), ('borough', 'Bronx')])\n",
      "OrderedDict([('OBJECTID', 175), ('Shape_Leng', 0.134897665102), ('Shape_Area', 0.000504920726134), ('zone', 'Oakland Gardens'), ('LocationID', 175), ('borough', 'Queens')])\n",
      "OrderedDict([('OBJECTID', 176), ('Shape_Leng', 0.151995190703), ('Shape_Area', 0.000657782126267), ('zone', 'Oakwood'), ('LocationID', 176), ('borough', 'Staten Island')])\n",
      "OrderedDict([('OBJECTID', 177), ('Shape_Leng', 0.0715805407056), ('Shape_Area', 0.000198894762248), ('zone', 'Ocean Hill'), ('LocationID', 177), ('borough', 'Brooklyn')])\n",
      "OrderedDict([('OBJECTID', 178), ('Shape_Leng', 0.0682528770739), ('Shape_Area', 0.000175805409143), ('zone', 'Ocean Parkway South'), ('LocationID', 178), ('borough', 'Brooklyn')])\n",
      "OrderedDict([('OBJECTID', 179), ('Shape_Leng', 0.0713808644377), ('Shape_Area', 0.000183893478476), ('zone', 'Old Astoria'), ('LocationID', 179), ('borough', 'Queens')])\n",
      "OrderedDict([('OBJECTID', 180), ('Shape_Leng', 0.0805277671523), ('Shape_Area', 0.000247682193353), ('zone', 'Ozone Park'), ('LocationID', 180), ('borough', 'Queens')])\n",
      "OrderedDict([('OBJECTID', 181), ('Shape_Leng', 0.0895372399547), ('Shape_Area', 0.000306890292807), ('zone', 'Park Slope'), ('LocationID', 181), ('borough', 'Brooklyn')])\n",
      "OrderedDict([('OBJECTID', 182), ('Shape_Leng', 0.0393606369479), ('Shape_Area', 9.10644156732e-05), ('zone', 'Parkchester'), ('LocationID', 182), ('borough', 'Bronx')])\n",
      "OrderedDict([('OBJECTID', 183), ('Shape_Leng', 0.0398262960348), ('Shape_Area', 9.51929451066e-05), ('zone', 'Pelham Bay'), ('LocationID', 183), ('borough', 'Bronx')])\n",
      "OrderedDict([('OBJECTID', 184), ('Shape_Leng', 0.260815683043), ('Shape_Area', 0.00198883363103), ('zone', 'Pelham Bay Park'), ('LocationID', 184), ('borough', 'Bronx')])\n",
      "OrderedDict([('OBJECTID', 185), ('Shape_Leng', 0.0861619681636), ('Shape_Area', 0.000228537100218), ('zone', 'Pelham Parkway'), ('LocationID', 185), ('borough', 'Bronx')])\n",
      "OrderedDict([('OBJECTID', 186), ('Shape_Leng', 0.0246963902234), ('Shape_Area', 3.70729416953e-05), ('zone', 'Penn Station/Madison Sq West'), ('LocationID', 186), ('borough', 'Manhattan')])\n",
      "OrderedDict([('OBJECTID', 187), ('Shape_Leng', 0.126868431324), ('Shape_Area', 0.000421195755741), ('zone', 'Port Richmond'), ('LocationID', 187), ('borough', 'Staten Island')])\n",
      "OrderedDict([('OBJECTID', 188), ('Shape_Leng', 0.0977983968367), ('Shape_Area', 0.000313003032771), ('zone', 'Prospect-Lefferts Gardens'), ('LocationID', 188), ('borough', 'Brooklyn')])\n",
      "OrderedDict([('OBJECTID', 189), ('Shape_Leng', 0.0486743306502), ('Shape_Area', 0.000101427594033), ('zone', 'Prospect Heights'), ('LocationID', 189), ('borough', 'Brooklyn')])\n",
      "OrderedDict([('OBJECTID', 190), ('Shape_Leng', 0.0743294660829), ('Shape_Area', 0.000270873666522), ('zone', 'Prospect Park'), ('LocationID', 190), ('borough', 'Brooklyn')])\n",
      "OrderedDict([('OBJECTID', 191), ('Shape_Leng', 0.130932637664), ('Shape_Area', 0.000688460603185), ('zone', 'Queens Village'), ('LocationID', 191), ('borough', 'Queens')])\n",
      "OrderedDict([('OBJECTID', 192), ('Shape_Leng', 0.11196461971), ('Shape_Area', 0.000373808019026), ('zone', 'Queensboro Hill'), ('LocationID', 192), ('borough', 'Queens')])\n",
      "OrderedDict([('OBJECTID', 193), ('Shape_Leng', 0.0655299584801), ('Shape_Area', 0.000145591657944), ('zone', 'Queensbridge/Ravenswood'), ('LocationID', 193), ('borough', 'Queens')])\n",
      "OrderedDict([('OBJECTID', 194), ('Shape_Leng', 0.0817938353532), ('Shape_Area', 0.000273481702719), ('zone', 'Randalls Island'), ('LocationID', 194), ('borough', 'Manhattan')])\n",
      "OrderedDict([('OBJECTID', 195), ('Shape_Leng', 0.131308244067), ('Shape_Area', 0.000801651953985), ('zone', 'Red Hook'), ('LocationID', 195), ('borough', 'Brooklyn')])\n",
      "OrderedDict([('OBJECTID', 196), ('Shape_Leng', 0.0832421106332), ('Shape_Area', 0.0001974713336), ('zone', 'Rego Park'), ('LocationID', 196), ('borough', 'Queens')])\n",
      "OrderedDict([('OBJECTID', 197), ('Shape_Leng', 0.108568532229), ('Shape_Area', 0.000504689160432), ('zone', 'Richmond Hill'), ('LocationID', 197), ('borough', 'Queens')])\n",
      "OrderedDict([('OBJECTID', 198), ('Shape_Leng', 0.134094242763), ('Shape_Area', 0.000499809882564), ('zone', 'Ridgewood'), ('LocationID', 198), ('borough', 'Queens')])\n",
      "OrderedDict([('OBJECTID', 199), ('Shape_Leng', 0.0778085005169), ('Shape_Area', 0.000288747549303), ('zone', 'Rikers Island'), ('LocationID', 199), ('borough', 'Bronx')])\n",
      "OrderedDict([('OBJECTID', 200), ('Shape_Leng', 0.112661735435), ('Shape_Area', 0.000744643168558), ('zone', 'Riverdale/North Riverdale/Fieldston'), ('LocationID', 200), ('borough', 'Bronx')])\n",
      "OrderedDict([('OBJECTID', 201), ('Shape_Leng', 0.130404117686), ('Shape_Area', 0.000619350747819), ('zone', 'Rockaway Park'), ('LocationID', 201), ('borough', 'Queens')])\n",
      "OrderedDict([('OBJECTID', 202), ('Shape_Leng', 0.0699215712618), ('Shape_Area', 0.000106175396322), ('zone', 'Roosevelt Island'), ('LocationID', 202), ('borough', 'Manhattan')])\n",
      "OrderedDict([('OBJECTID', 203), ('Shape_Leng', 0.189937815868), ('Shape_Area', 0.000615129861659), ('zone', 'Rosedale'), ('LocationID', 203), ('borough', 'Queens')])\n",
      "OrderedDict([('OBJECTID', 204), ('Shape_Leng', 0.101912418311), ('Shape_Area', 0.000641384265972), ('zone', 'Rossville/Woodrow'), ('LocationID', 204), ('borough', 'Staten Island')])\n",
      "OrderedDict([('OBJECTID', 205), ('Shape_Leng', 0.141953388327), ('Shape_Area', 0.000766216513505), ('zone', 'Saint Albans'), ('LocationID', 205), ('borough', 'Queens')])\n",
      "OrderedDict([('OBJECTID', 206), ('Shape_Leng', 0.212756793386), ('Shape_Area', 0.000944392507762), ('zone', 'Saint George/New Brighton'), ('LocationID', 206), ('borough', 'Staten Island')])\n",
      "OrderedDict([('OBJECTID', 207), ('Shape_Leng', 0.0283756831492), ('Shape_Area', 4.47230848441e-05), ('zone', 'Saint Michaels Cemetery/Woodside'), ('LocationID', 207), ('borough', 'Queens')])\n",
      "OrderedDict([('OBJECTID', 208), ('Shape_Leng', 0.214721009581), ('Shape_Area', 0.00202032598969), ('zone', 'Schuylerville/Edgewater Park'), ('LocationID', 208), ('borough', 'Bronx')])\n",
      "OrderedDict([('OBJECTID', 209), ('Shape_Leng', 0.0306953113473), ('Shape_Area', 3.88703351209e-05), ('zone', 'Seaport'), ('LocationID', 209), ('borough', 'Manhattan')])\n",
      "OrderedDict([('OBJECTID', 210), ('Shape_Leng', 0.114851983372), ('Shape_Area', 0.000453155131253), ('zone', 'Sheepshead Bay'), ('LocationID', 210), ('borough', 'Brooklyn')])\n",
      "OrderedDict([('OBJECTID', 211), ('Shape_Leng', 0.0252345082132), ('Shape_Area', 3.97291966087e-05), ('zone', 'SoHo'), ('LocationID', 211), ('borough', 'Manhattan')])\n",
      "OrderedDict([('OBJECTID', 212), ('Shape_Leng', 0.0671290653429), ('Shape_Area', 0.000161276191858), ('zone', 'Soundview/Bruckner'), ('LocationID', 212), ('borough', 'Bronx')])\n",
      "OrderedDict([('OBJECTID', 213), ('Shape_Leng', 0.159958783822), ('Shape_Area', 0.000904077906339), ('zone', 'Soundview/Castle Hill'), ('LocationID', 213), ('borough', 'Bronx')])\n",
      "OrderedDict([('OBJECTID', 214), ('Shape_Leng', 0.135300314246), ('Shape_Area', 0.000811976523012), ('zone', 'South Beach/Dongan Hills'), ('LocationID', 214), ('borough', 'Staten Island')])\n",
      "OrderedDict([('OBJECTID', 215), ('Shape_Leng', 0.103556453625), ('Shape_Area', 0.000395647022725), ('zone', 'South Jamaica'), ('LocationID', 215), ('borough', 'Queens')])\n",
      "OrderedDict([('OBJECTID', 216), ('Shape_Leng', 0.116797554681), ('Shape_Area', 0.000816076647781), ('zone', 'South Ozone Park'), ('LocationID', 216), ('borough', 'Queens')])\n",
      "OrderedDict([('OBJECTID', 217), ('Shape_Leng', 0.0553905251285), ('Shape_Area', 0.000114733270758), ('zone', 'South Williamsburg'), ('LocationID', 217), ('borough', 'Brooklyn')])\n",
      "OrderedDict([('OBJECTID', 218), ('Shape_Leng', 0.0837008281049), ('Shape_Area', 0.000281293736407), ('zone', 'Springfield Gardens North'), ('LocationID', 218), ('borough', 'Queens')])\n",
      "OrderedDict([('OBJECTID', 219), ('Shape_Leng', 0.155126669675), ('Shape_Area', 0.000428176336771), ('zone', 'Springfield Gardens South'), ('LocationID', 219), ('borough', 'Queens')])\n",
      "OrderedDict([('OBJECTID', 220), ('Shape_Leng', 0.106015943267), ('Shape_Area', 0.000313035744467), ('zone', 'Spuyten Duyvil/Kingsbridge'), ('LocationID', 220), ('borough', 'Bronx')])\n",
      "OrderedDict([('OBJECTID', 221), ('Shape_Leng', 0.166218220846), ('Shape_Area', 0.000890111567051), ('zone', 'Stapleton'), ('LocationID', 221), ('borough', 'Staten Island')])\n",
      "OrderedDict([('OBJECTID', 222), ('Shape_Leng', 0.0483893527976), ('Shape_Area', 0.000130268343918), ('zone', 'Starrett City'), ('LocationID', 222), ('borough', 'Brooklyn')])\n",
      "OrderedDict([('OBJECTID', 223), ('Shape_Leng', 0.166021925275), ('Shape_Area', 0.00076436070058), ('zone', 'Steinway'), ('LocationID', 223), ('borough', 'Queens')])\n",
      "OrderedDict([('OBJECTID', 224), ('Shape_Leng', 0.0440204462769), ('Shape_Area', 9.84786989135e-05), ('zone', 'Stuy Town/Peter Cooper Village'), ('LocationID', 224), ('borough', 'Manhattan')])\n",
      "OrderedDict([('OBJECTID', 225), ('Shape_Leng', 0.0887992073281), ('Shape_Area', 0.000310835395162), ('zone', 'Stuyvesant Heights'), ('LocationID', 225), ('borough', 'Brooklyn')])\n",
      "OrderedDict([('OBJECTID', 226), ('Shape_Leng', 0.168957762041), ('Shape_Area', 0.00076194414504), ('zone', 'Sunnyside'), ('LocationID', 226), ('borough', 'Queens')])\n",
      "OrderedDict([('OBJECTID', 227), ('Shape_Leng', 0.0828301570789), ('Shape_Area', 0.000268316529534), ('zone', 'Sunset Park East'), ('LocationID', 227), ('borough', 'Brooklyn')])\n",
      "OrderedDict([('OBJECTID', 228), ('Shape_Leng', 0.177685177706), ('Shape_Area', 0.000993414783816), ('zone', 'Sunset Park West'), ('LocationID', 228), ('borough', 'Brooklyn')])\n",
      "OrderedDict([('OBJECTID', 229), ('Shape_Leng', 0.0425252900116), ('Shape_Area', 9.47058230931e-05), ('zone', 'Sutton Place/Turtle Bay North'), ('LocationID', 229), ('borough', 'Manhattan')])\n",
      "OrderedDict([('OBJECTID', 230), ('Shape_Leng', 0.0310283096779), ('Shape_Area', 5.60914463266e-05), ('zone', 'Times Sq/Theatre District'), ('LocationID', 230), ('borough', 'Manhattan')])\n",
      "OrderedDict([('OBJECTID', 231), ('Shape_Leng', 0.0634201165587), ('Shape_Area', 0.000166929752992), ('zone', 'TriBeCa/Civic Center'), ('LocationID', 231), ('borough', 'Manhattan')])\n",
      "OrderedDict([('OBJECTID', 232), ('Shape_Leng', 0.0614709085331), ('Shape_Area', 0.000216049973456), ('zone', 'Two Bridges/Seward Park'), ('LocationID', 232), ('borough', 'Manhattan')])\n",
      "OrderedDict([('OBJECTID', 233), ('Shape_Leng', 0.048035918294), ('Shape_Area', 0.000116188094682), ('zone', 'UN/Turtle Bay South'), ('LocationID', 233), ('borough', 'Manhattan')])\n",
      "OrderedDict([('OBJECTID', 234), ('Shape_Leng', 0.0360721994984), ('Shape_Area', 7.31054382894e-05), ('zone', 'Union Sq'), ('LocationID', 234), ('borough', 'Manhattan')])\n",
      "OrderedDict([('OBJECTID', 235), ('Shape_Leng', 0.0761668426519), ('Shape_Area', 0.000212844547337), ('zone', 'University Heights/Morris Heights'), ('LocationID', 235), ('borough', 'Bronx')])\n",
      "OrderedDict([('OBJECTID', 236), ('Shape_Leng', 0.0442519223099), ('Shape_Area', 0.000102864345211), ('zone', 'Upper East Side North'), ('LocationID', 236), ('borough', 'Manhattan')])\n",
      "OrderedDict([('OBJECTID', 237), ('Shape_Leng', 0.0422126003388), ('Shape_Area', 9.59873206621e-05), ('zone', 'Upper East Side South'), ('LocationID', 237), ('borough', 'Manhattan')])\n",
      "OrderedDict([('OBJECTID', 238), ('Shape_Leng', 0.0601093114033), ('Shape_Area', 0.000184763693765), ('zone', 'Upper West Side North'), ('LocationID', 238), ('borough', 'Manhattan')])\n",
      "OrderedDict([('OBJECTID', 239), ('Shape_Leng', 0.0636261152958), ('Shape_Area', 0.000204715440774), ('zone', 'Upper West Side South'), ('LocationID', 239), ('borough', 'Manhattan')])\n",
      "OrderedDict([('OBJECTID', 240), ('Shape_Leng', 0.146069764379), ('Shape_Area', 0.000722130920707), ('zone', 'Van Cortlandt Park'), ('LocationID', 240), ('borough', 'Bronx')])\n",
      "OrderedDict([('OBJECTID', 241), ('Shape_Leng', 0.0687645777649), ('Shape_Area', 0.00025467697592), ('zone', 'Van Cortlandt Village'), ('LocationID', 241), ('borough', 'Bronx')])\n",
      "OrderedDict([('OBJECTID', 242), ('Shape_Leng', 0.138136446433), ('Shape_Area', 0.000360072450014), ('zone', 'Van Nest/Morris Park'), ('LocationID', 242), ('borough', 'Bronx')])\n",
      "OrderedDict([('OBJECTID', 243), ('Shape_Leng', 0.0943314999364), ('Shape_Area', 0.000438377341503), ('zone', 'Washington Heights North'), ('LocationID', 243), ('borough', 'Manhattan')])\n",
      "OrderedDict([('OBJECTID', 244), ('Shape_Leng', 0.0805686044599), ('Shape_Area', 0.000359702747951), ('zone', 'Washington Heights South'), ('LocationID', 244), ('borough', 'Manhattan')])\n",
      "OrderedDict([('OBJECTID', 245), ('Shape_Leng', 0.0959830596604), ('Shape_Area', 0.000466175414294), ('zone', 'West Brighton'), ('LocationID', 245), ('borough', 'Staten Island')])\n",
      "OrderedDict([('OBJECTID', 246), ('Shape_Leng', 0.0694671937437), ('Shape_Area', 0.000281298327076), ('zone', 'West Chelsea/Hudson Yards'), ('LocationID', 246), ('borough', 'Manhattan')])\n",
      "OrderedDict([('OBJECTID', 247), ('Shape_Leng', 0.0929678582271), ('Shape_Area', 0.000205617157843), ('zone', 'West Concourse'), ('LocationID', 247), ('borough', 'Bronx')])\n",
      "OrderedDict([('OBJECTID', 248), ('Shape_Leng', 0.0569191167671), ('Shape_Area', 0.000149592769799), ('zone', 'West Farms/Bronx River'), ('LocationID', 248), ('borough', 'Bronx')])\n",
      "OrderedDict([('OBJECTID', 249), ('Shape_Leng', 0.03638434365), ('Shape_Area', 7.22155957729e-05), ('zone', 'West Village'), ('LocationID', 249), ('borough', 'Manhattan')])\n",
      "OrderedDict([('OBJECTID', 250), ('Shape_Leng', 0.0796263465454), ('Shape_Area', 0.000240975845956), ('zone', 'Westchester Village/Unionport'), ('LocationID', 250), ('borough', 'Bronx')])\n",
      "OrderedDict([('OBJECTID', 251), ('Shape_Leng', 0.1377111611), ('Shape_Area', 0.000625754983157), ('zone', 'Westerleigh'), ('LocationID', 251), ('borough', 'Staten Island')])\n",
      "OrderedDict([('OBJECTID', 252), ('Shape_Leng', 0.158004373564), ('Shape_Area', 0.00102526406057), ('zone', 'Whitestone'), ('LocationID', 252), ('borough', 'Queens')])\n",
      "OrderedDict([('OBJECTID', 253), ('Shape_Leng', 0.0360514998192), ('Shape_Area', 7.83395761191e-05), ('zone', 'Willets Point'), ('LocationID', 253), ('borough', 'Queens')])\n",
      "OrderedDict([('OBJECTID', 254), ('Shape_Leng', 0.0858863754861), ('Shape_Area', 0.000360040216032), ('zone', 'Williamsbridge/Olinville'), ('LocationID', 254), ('borough', 'Bronx')])\n",
      "OrderedDict([('OBJECTID', 255), ('Shape_Leng', 0.0623841997664), ('Shape_Area', 0.000172309184842), ('zone', 'Williamsburg (North Side)'), ('LocationID', 255), ('borough', 'Brooklyn')])\n",
      "OrderedDict([('OBJECTID', 256), ('Shape_Leng', 0.0679149669603), ('Shape_Area', 0.000168611097013), ('zone', 'Williamsburg (South Side)'), ('LocationID', 256), ('borough', 'Brooklyn')])\n",
      "OrderedDict([('OBJECTID', 257), ('Shape_Leng', 0.0586690259793), ('Shape_Area', 0.00013890947321), ('zone', 'Windsor Terrace'), ('LocationID', 257), ('borough', 'Brooklyn')])\n",
      "OrderedDict([('OBJECTID', 258), ('Shape_Leng', 0.0890133787693), ('Shape_Area', 0.000366209617143), ('zone', 'Woodhaven'), ('LocationID', 258), ('borough', 'Queens')])\n",
      "OrderedDict([('OBJECTID', 259), ('Shape_Leng', 0.126750305191), ('Shape_Area', 0.000394552487366), ('zone', 'Woodlawn/Wakefield'), ('LocationID', 259), ('borough', 'Bronx')])\n",
      "OrderedDict([('OBJECTID', 260), ('Shape_Leng', 0.133514154636), ('Shape_Area', 0.000422345326907), ('zone', 'Woodside'), ('LocationID', 260), ('borough', 'Queens')])\n",
      "OrderedDict([('OBJECTID', 261), ('Shape_Leng', 0.0271204563616), ('Shape_Area', 3.43423231652e-05), ('zone', 'World Trade Center'), ('LocationID', 261), ('borough', 'Manhattan')])\n",
      "OrderedDict([('OBJECTID', 262), ('Shape_Leng', 0.0490636231541), ('Shape_Area', 0.000122330270966), ('zone', 'Yorkville East'), ('LocationID', 262), ('borough', 'Manhattan')])\n",
      "OrderedDict([('OBJECTID', 263), ('Shape_Leng', 0.0370166252994), ('Shape_Area', 6.57697664169e-05), ('zone', 'Yorkville West'), ('LocationID', 263), ('borough', 'Manhattan')])\n"
     ]
    }
   ],
   "source": [
    "from dbfread import DBF\n",
    "for f in DBF(\"/home/edouard/Documents/Big Data/taxi_zones/taxi_zones.dbf\"):\n",
    "    print(f)\n",
    "   # for i, j in enumerate(f):\n",
    "     #   print( j)"
   ]
  },
  {
   "cell_type": "code",
   "execution_count": 7,
   "id": "92bc9d9f",
   "metadata": {},
   "outputs": [
    {
     "name": "stdout",
     "output_type": "stream",
     "text": [
      "+--------+--------------------+---------------------+---------------+-------------+----------+------------------+------------+------------+------------+-----------+-----+-------+----------+------------+---------------------+------------+--------------------+-----------+\n",
      "|VendorID|tpep_pickup_datetime|tpep_dropoff_datetime|passenger_count|trip_distance|RatecodeID|store_and_fwd_flag|PULocationID|DOLocationID|payment_type|fare_amount|extra|mta_tax|tip_amount|tolls_amount|improvement_surcharge|total_amount|congestion_surcharge|airport_fee|\n",
      "+--------+--------------------+---------------------+---------------+-------------+----------+------------------+------------+------------+------------+-----------+-----+-------+----------+------------+---------------------+------------+--------------------+-----------+\n",
      "|       1| 2019-03-01 00:24:41|  2019-03-01 00:25:31|            1.0|          0.0|       1.0|                 N|         145|         145|           2|        2.5|  0.5|    0.5|       0.0|         0.0|                  0.3|         3.8|                 0.0|       null|\n",
      "|       1| 2019-03-01 00:25:27|  2019-03-01 00:36:37|            2.0|          3.7|       1.0|                 N|          95|         130|           1|       13.0|  0.5|    0.5|       0.7|         0.0|                  0.3|        15.0|                 0.0|       null|\n",
      "|       1| 2019-03-01 00:05:21|  2019-03-01 00:38:23|            1.0|         14.1|       1.0|                 N|         249|          28|           1|       41.0|  3.0|    0.5|      10.1|        5.76|                  0.3|       60.66|                 2.5|       null|\n",
      "|       1| 2019-03-01 00:48:55|  2019-03-01 01:06:03|            1.0|          9.6|       1.0|                 N|         138|          98|           2|       27.0|  0.5|    0.5|       0.0|         0.0|                  0.3|        28.3|                 0.0|       null|\n",
      "|       1| 2019-03-01 00:11:42|  2019-03-01 00:16:40|            1.0|          0.8|       1.0|                 N|          48|          48|           1|        5.5|  3.0|    0.5|       3.0|         0.0|                  0.3|        12.3|                 2.5|       null|\n",
      "|       1| 2019-03-01 00:45:03|  2019-03-01 00:49:38|            1.0|          1.2|       1.0|                 N|         246|          48|           2|        6.0|  3.0|    0.5|       0.0|         0.0|                  0.3|         9.8|                 2.5|       null|\n",
      "|       1| 2019-03-01 00:02:37|  2019-03-01 00:07:30|            1.0|          0.6|       1.0|                 Y|         239|         238|           2|        5.5|  3.0|    0.5|       0.0|         0.0|                  0.3|         9.3|                 2.5|       null|\n",
      "|       2| 2019-02-28 19:52:45|  2019-02-28 20:01:54|            1.0|         5.65|       1.0|                 N|         132|         197|           2|       17.0|  0.5|    0.5|       0.0|         0.0|                  0.3|        18.3|                 0.0|       null|\n",
      "|       2| 2019-03-01 00:14:23|  2019-03-01 00:19:17|            1.0|         1.16|       1.0|                 N|         229|         170|           1|        6.0|  0.5|    0.5|      2.45|         0.0|                  0.3|       12.25|                 2.5|       null|\n",
      "|       2| 2019-03-01 00:19:09|  2019-03-01 00:23:30|            1.0|         0.71|       1.0|                 N|         137|         234|           1|        5.0|  0.5|    0.5|       1.0|         0.0|                  0.3|         9.8|                 2.5|       null|\n",
      "|       2| 2019-03-01 00:06:46|  2019-03-01 00:17:09|            5.0|         2.63|       1.0|                 N|         231|         246|           1|       10.5|  0.5|    0.5|      2.86|         0.0|                  0.3|       17.16|                 2.5|       null|\n",
      "|       1| 2019-03-01 00:00:46|  2019-03-01 00:26:41|            1.0|          5.0|       1.0|                 N|         230|           7|           3|       20.5|  3.0|    0.5|       0.0|         0.0|                  0.3|        24.3|                 2.5|       null|\n",
      "|       2| 2019-03-01 00:00:40|  2019-03-01 00:49:26|            2.0|        14.04|       1.0|                 N|         170|         123|           1|       45.5|  0.5|    0.5|     14.79|         0.0|                  0.3|       64.09|                 2.5|       null|\n",
      "|       1| 2019-03-01 00:21:46|  2019-03-01 00:30:25|            1.0|          2.0|       1.0|                 N|         143|         263|           1|        9.0|  3.0|    0.5|      2.55|         0.0|                  0.3|       15.35|                 2.5|       null|\n",
      "|       2| 2019-03-01 00:25:16|  2019-03-01 00:31:39|            5.0|         2.11|       1.0|                 N|         229|         236|           1|        8.0|  0.5|    0.5|       2.0|         0.0|                  0.3|        13.8|                 2.5|       null|\n",
      "|       1| 2019-03-01 00:03:09|  2019-03-01 00:49:16|            1.0|          6.8|       1.0|                 N|         162|          49|           2|       31.5|  3.0|    0.5|       0.0|         0.0|                  0.3|        35.3|                 2.5|       null|\n",
      "|       2| 2019-03-01 00:55:49|  2019-03-01 01:11:06|            1.0|         5.97|       1.0|                 N|         152|         153|           2|       19.0|  0.5|    0.5|       0.0|         0.0|                  0.3|        20.3|                 0.0|       null|\n",
      "|       1| 2019-03-01 00:35:42|  2019-03-01 00:47:06|            1.0|          3.4|       1.0|                 N|         162|          74|           1|       12.0|  3.0|    0.5|       1.5|         0.0|                  0.3|        17.3|                 2.5|       null|\n",
      "|       2| 2019-03-01 00:45:03|  2019-03-01 01:14:25|            1.0|        16.89|       2.0|                 N|         132|         229|           1|       52.0|  0.0|    0.5|     11.06|         0.0|                  0.3|       66.36|                 2.5|       null|\n",
      "|       1| 2019-03-01 00:42:38|  2019-03-01 01:02:58|            1.0|          5.4|       1.0|                 N|          25|         246|           1|       19.5|  3.0|    0.5|       3.5|         0.0|                  0.3|        26.8|                 2.5|       null|\n",
      "+--------+--------------------+---------------------+---------------+-------------+----------+------------------+------------+------------+------------+-----------+-----+-------+----------+------------+---------------------+------------+--------------------+-----------+\n",
      "only showing top 20 rows\n",
      "\n"
     ]
    },
    {
     "name": "stderr",
     "output_type": "stream",
     "text": [
      "\r",
      "[Stage 5:============================================>              (3 + 1) / 4]\r",
      "\r",
      "                                                                                \r"
     ]
    }
   ],
   "source": [
    "df_yel.show()"
   ]
  },
  {
   "cell_type": "markdown",
   "id": "bf871092",
   "metadata": {},
   "source": [
    "1. Using these boundaries, filter the 2019 data (using pickup and dropoff longitude and\n",
    "latitude) and count the number of trips for each value of passenger_count and make a\n",
    "plot of that."
   ]
  },
  {
   "cell_type": "code",
   "execution_count": 8,
   "id": "ec479a99",
   "metadata": {},
   "outputs": [],
   "source": [
    "from pyspark.sql.functions import col\n",
    "\n",
    "# definition of the boundaries for filtering\n",
    "long_min = -74.10\n",
    "long_max = -73.70\n",
    "lat_min = 40.58\n",
    "lat_max = 40.90\n",
    "\n",
    "#using the id in the zone_id file\n",
    "newark_id = [1]\n",
    "jfk_id = [132]\n",
    "north_manhattan_id = [42,75, 87, 113, 163, 229, 236, 238, 243]\n",
    "zone_ID = newark_id + jfk_id + north_manhattan_id #location id of Newark and JFK airports and North manhattan\n",
    "\n",
    "df_yel_filtered = df_yel.filter(\n",
    "    (col(\"PULocationID\").isin(zone_ID)) &\n",
    "    (col(\"DOLocationID\").isin(zone_ID))\n",
    "    )"
   ]
  },
  {
   "cell_type": "code",
   "execution_count": 9,
   "id": "f2c42c53",
   "metadata": {},
   "outputs": [
    {
     "name": "stdout",
     "output_type": "stream",
     "text": [
      "+--------+--------------------+---------------------+---------------+-------------+----------+------------------+------------+------------+------------+-----------+-----+-------+----------+------------+---------------------+------------+--------------------+-----------+\n",
      "|VendorID|tpep_pickup_datetime|tpep_dropoff_datetime|passenger_count|trip_distance|RatecodeID|store_and_fwd_flag|PULocationID|DOLocationID|payment_type|fare_amount|extra|mta_tax|tip_amount|tolls_amount|improvement_surcharge|total_amount|congestion_surcharge|airport_fee|\n",
      "+--------+--------------------+---------------------+---------------+-------------+----------+------------------+------------+------------+------------+-----------+-----+-------+----------+------------+---------------------+------------+--------------------+-----------+\n",
      "|       2| 2019-03-01 00:25:16|  2019-03-01 00:31:39|            5.0|         2.11|       1.0|                 N|         229|         236|           1|        8.0|  0.5|    0.5|       2.0|         0.0|                  0.3|        13.8|                 2.5|       null|\n",
      "|       2| 2019-03-01 00:45:03|  2019-03-01 01:14:25|            1.0|        16.89|       2.0|                 N|         132|         229|           1|       52.0|  0.0|    0.5|     11.06|         0.0|                  0.3|       66.36|                 2.5|       null|\n",
      "|       1| 2019-03-01 00:56:40|  2019-03-01 01:08:23|            1.0|          5.4|       1.0|                 N|         238|         243|           1|       17.5|  3.0|    0.5|      4.25|         0.0|                  0.3|       25.55|                 2.5|       null|\n",
      "|       1| 2019-03-01 00:56:02|  2019-03-01 01:29:57|            1.0|         17.8|       2.0|                 N|         132|          42|           2|       52.0|  0.0|    0.5|       0.0|        5.76|                  0.3|       58.56|                 0.0|       null|\n",
      "|       2| 2019-03-01 00:18:31|  2019-03-01 00:28:04|            1.0|          2.3|       1.0|                 N|         238|          75|           2|        9.5|  0.5|    0.5|       0.0|         0.0|                  0.3|        13.3|                 2.5|       null|\n",
      "|       1| 2019-03-01 00:39:01|  2019-03-01 00:50:43|            1.0|          2.5|       1.0|                 N|         229|         113|           1|       10.5|  3.0|    0.5|      2.85|         0.0|                  0.3|       17.15|                 2.5|       null|\n",
      "|       1| 2019-03-01 00:05:09|  2019-03-01 00:40:39|            1.0|         19.4|       2.0|                 N|         132|         238|           2|       52.0|  2.5|    0.5|       0.0|         0.0|                  0.3|        55.3|                 2.5|       null|\n",
      "|       1| 2019-03-01 00:27:03|  2019-03-01 00:30:18|            2.0|          0.6|       1.0|                 N|         163|         163|           2|        4.5|  3.0|    0.5|       0.0|         0.0|                  0.3|         8.3|                 2.5|       null|\n",
      "|       2| 2019-03-01 00:16:47|  2019-03-01 00:18:38|            1.0|         1.08|       2.0|                 N|         132|         132|           2|       52.0|  0.0|    0.5|       0.0|         0.0|                  0.3|        52.8|                 0.0|       null|\n",
      "|       1| 2019-03-01 00:38:51|  2019-03-01 00:40:12|            1.0|          0.6|       1.0|                 N|          75|          75|           2|        3.5|  0.5|    0.5|       0.0|         0.0|                  0.3|         4.8|                 0.0|       null|\n",
      "|       1| 2019-03-01 00:05:05|  2019-03-01 00:08:42|            1.0|          1.0|       1.0|                 N|         236|          75|           1|        5.0|  3.0|    0.5|      1.75|         0.0|                  0.3|       10.55|                 2.5|       null|\n",
      "|       2| 2019-03-01 00:34:29|  2019-03-01 01:01:26|            2.0|        20.11|       2.0|                 N|         132|          87|           1|       52.0|  0.0|    0.5|     11.06|         0.0|                  0.3|       66.36|                 2.5|       null|\n",
      "|       2| 2019-03-01 00:45:36|  2019-03-01 01:10:45|            1.0|        18.36|       2.0|                 N|         132|         236|           1|       52.0|  0.0|    0.5|     12.21|        5.76|                  0.3|       73.27|                 2.5|       null|\n",
      "|       2| 2019-03-01 00:05:54|  2019-03-01 00:37:23|            1.0|        18.58|       2.0|                 N|         132|         236|           1|       52.0|  0.0|    0.5|       5.0|        5.76|                  0.3|       66.06|                 2.5|       null|\n",
      "|       2| 2019-03-01 00:39:47|  2019-03-01 00:45:43|            4.0|         0.92|       1.0|                 N|         163|         163|           1|        6.0|  0.5|    0.5|      1.96|         0.0|                  0.3|       11.76|                 2.5|       null|\n",
      "|       2| 2019-03-01 00:26:18|  2019-03-01 00:36:57|            1.0|         2.07|       1.0|                 N|         236|         229|           1|        9.5|  0.5|    0.5|      2.66|         0.0|                  0.3|       15.96|                 2.5|       null|\n",
      "|       2| 2019-03-01 00:46:48|  2019-03-01 00:56:34|            1.0|         2.39|       1.0|                 N|         163|          75|           2|        9.5|  0.5|    0.5|       0.0|         0.0|                  0.3|        13.3|                 2.5|       null|\n",
      "|       1| 2019-03-01 00:01:00|  2019-03-01 00:01:05|            1.0|          0.0|       1.0|                 N|         132|         132|           3|        2.5|  0.5|    0.5|       0.0|         0.0|                  0.3|         3.8|                 0.0|       null|\n",
      "|       2| 2019-03-01 00:35:06|  2019-03-01 00:44:18|            1.0|         1.78|       1.0|                 N|         238|         236|           1|        8.5|  0.5|    0.5|      2.46|         0.0|                  0.3|       14.76|                 2.5|       null|\n",
      "|       1| 2019-03-01 00:40:29|  2019-03-01 00:47:35|            1.0|          2.0|       1.0|                 N|         238|         236|           1|        8.5|  3.0|    0.5|      2.45|         0.0|                  0.3|       14.75|                 2.5|       null|\n",
      "+--------+--------------------+---------------------+---------------+-------------+----------+------------------+------------+------------+------------+-----------+-----+-------+----------+------------+---------------------+------------+--------------------+-----------+\n",
      "only showing top 20 rows\n",
      "\n"
     ]
    }
   ],
   "source": [
    "df_yel_filtered.show()"
   ]
  },
  {
   "cell_type": "code",
   "execution_count": 10,
   "id": "43ad8363",
   "metadata": {},
   "outputs": [
    {
     "name": "stderr",
     "output_type": "stream",
     "text": [
      "\r",
      "[Stage 8:===================================================>       (7 + 1) / 8]\r"
     ]
    },
    {
     "name": "stdout",
     "output_type": "stream",
     "text": [
      "+---------------+------+\n",
      "|passenger_count| count|\n",
      "+---------------+------+\n",
      "|            8.0|     2|\n",
      "|            0.0|  4424|\n",
      "|            7.0|     3|\n",
      "|           null|   240|\n",
      "|            1.0|169541|\n",
      "|            4.0|  3983|\n",
      "|            3.0|  9298|\n",
      "|            2.0| 34983|\n",
      "|            6.0|  6151|\n",
      "|            5.0| 10155|\n",
      "|            9.0|     3|\n",
      "+---------------+------+\n",
      "\n"
     ]
    },
    {
     "name": "stderr",
     "output_type": "stream",
     "text": [
      "\r",
      "                                                                                \r"
     ]
    },
    {
     "data": {
      "text/plain": [
       "pyspark.sql.dataframe.DataFrame"
      ]
     },
     "execution_count": 10,
     "metadata": {},
     "output_type": "execute_result"
    }
   ],
   "source": [
    "#  Count the number of trips for each value of passenger_count\n",
    "df_passenger=df_yel_filtered.groupby('passenger_count').count()\n",
    "df_passenger.show()\n",
    "type(df_passenger)"
   ]
  },
  {
   "cell_type": "code",
   "execution_count": null,
   "id": "fa449e96",
   "metadata": {},
   "outputs": [],
   "source": []
  },
  {
   "cell_type": "markdown",
   "id": "5399b6b6",
   "metadata": {},
   "source": []
  },
  {
   "cell_type": "code",
   "execution_count": 11,
   "id": "70b7479d",
   "metadata": {},
   "outputs": [
    {
     "name": "stderr",
     "output_type": "stream",
     "text": [
      "\r",
      "[Stage 11:==================================================>       (7 + 1) / 8]\r",
      "\r",
      "                                                                                \r"
     ]
    },
    {
     "data": {
      "image/png": "[encoded data removed]",
      "text/plain": [
       "<Figure size 432x288 with 1 Axes>"
      ]
     },
     "metadata": {
      "needs_background": "light"
     },
     "output_type": "display_data"
    }
   ],
   "source": [
    "# Create a bar plot\n",
    "import seaborn as sns\n",
    "import matplotlib.pyplot as plt\n",
    "\n",
    "# Plot the trip counts\n",
    "df_passenger_pd = df_passenger.toPandas()\n",
    "plt.bar(df_passenger_pd[\"passenger_count\"], df_passenger_pd[\"count\"])\n",
    "plt.xlabel(\"Passenger Count\")\n",
    "plt.ylabel(\"Number of Trips\")\n",
    "plt.title(\"Number of Trips by Passenger Count\")\n",
    "plt.show()"
   ]
  },
  {
   "cell_type": "markdown",
   "id": "b70a4554",
   "metadata": {},
   "source": [
    "1. What’s special with trips with zero passengers?"
   ]
  },
  {
   "cell_type": "code",
   "execution_count": 12,
   "id": "df75f6be",
   "metadata": {},
   "outputs": [
    {
     "data": {
      "text/plain": [
       "DataFrame[VendorID: bigint, tpep_pickup_datetime: timestamp_ntz, tpep_dropoff_datetime: timestamp_ntz, passenger_count: double, trip_distance: double, RatecodeID: double, store_and_fwd_flag: string, PULocationID: bigint, DOLocationID: bigint, payment_type: bigint, fare_amount: double, extra: double, mta_tax: double, tip_amount: double, tolls_amount: double, improvement_surcharge: double, total_amount: double, congestion_surcharge: double, airport_fee: int]"
      ]
     },
     "execution_count": 12,
     "metadata": {},
     "output_type": "execute_result"
    }
   ],
   "source": [
    "# Filter the data for trips with zero passengers\n",
    "zero_passenger_data = df_yel_filtered.filter(col(\"passenger_count\") == 0)\n",
    "zero_passenger_data\n",
    "\n"
   ]
  },
  {
   "cell_type": "markdown",
   "id": "0bf23bd2",
   "metadata": {},
   "source": [
    "2. What’s special with trips with more than 6 passengers?\n"
   ]
  },
  {
   "cell_type": "code",
   "execution_count": 13,
   "id": "151a9042",
   "metadata": {
    "scrolled": true
   },
   "outputs": [
    {
     "name": "stdout",
     "output_type": "stream",
     "text": [
      "+--------+--------------------+---------------------+---------------+-------------+----------+------------------+------------+------------+------------+-----------+-----+-------+----------+------------+---------------------+------------+--------------------+-----------+\n",
      "|VendorID|tpep_pickup_datetime|tpep_dropoff_datetime|passenger_count|trip_distance|RatecodeID|store_and_fwd_flag|PULocationID|DOLocationID|payment_type|fare_amount|extra|mta_tax|tip_amount|tolls_amount|improvement_surcharge|total_amount|congestion_surcharge|airport_fee|\n",
      "+--------+--------------------+---------------------+---------------+-------------+----------+------------------+------------+------------+------------+-----------+-----+-------+----------+------------+---------------------+------------+--------------------+-----------+\n",
      "|       2| 2019-03-01 00:25:16|  2019-03-01 00:31:39|            5.0|         2.11|       1.0|                 N|         229|         236|           1|        8.0|  0.5|    0.5|       2.0|         0.0|                  0.3|        13.8|                 2.5|       null|\n",
      "|       2| 2019-03-01 00:45:03|  2019-03-01 01:14:25|            1.0|        16.89|       2.0|                 N|         132|         229|           1|       52.0|  0.0|    0.5|     11.06|         0.0|                  0.3|       66.36|                 2.5|       null|\n",
      "|       1| 2019-03-01 00:56:40|  2019-03-01 01:08:23|            1.0|          5.4|       1.0|                 N|         238|         243|           1|       17.5|  3.0|    0.5|      4.25|         0.0|                  0.3|       25.55|                 2.5|       null|\n",
      "|       1| 2019-03-01 00:56:02|  2019-03-01 01:29:57|            1.0|         17.8|       2.0|                 N|         132|          42|           2|       52.0|  0.0|    0.5|       0.0|        5.76|                  0.3|       58.56|                 0.0|       null|\n",
      "|       2| 2019-03-01 00:18:31|  2019-03-01 00:28:04|            1.0|          2.3|       1.0|                 N|         238|          75|           2|        9.5|  0.5|    0.5|       0.0|         0.0|                  0.3|        13.3|                 2.5|       null|\n",
      "|       1| 2019-03-01 00:39:01|  2019-03-01 00:50:43|            1.0|          2.5|       1.0|                 N|         229|         113|           1|       10.5|  3.0|    0.5|      2.85|         0.0|                  0.3|       17.15|                 2.5|       null|\n",
      "|       1| 2019-03-01 00:05:09|  2019-03-01 00:40:39|            1.0|         19.4|       2.0|                 N|         132|         238|           2|       52.0|  2.5|    0.5|       0.0|         0.0|                  0.3|        55.3|                 2.5|       null|\n",
      "|       1| 2019-03-01 00:27:03|  2019-03-01 00:30:18|            2.0|          0.6|       1.0|                 N|         163|         163|           2|        4.5|  3.0|    0.5|       0.0|         0.0|                  0.3|         8.3|                 2.5|       null|\n",
      "|       2| 2019-03-01 00:16:47|  2019-03-01 00:18:38|            1.0|         1.08|       2.0|                 N|         132|         132|           2|       52.0|  0.0|    0.5|       0.0|         0.0|                  0.3|        52.8|                 0.0|       null|\n",
      "|       1| 2019-03-01 00:38:51|  2019-03-01 00:40:12|            1.0|          0.6|       1.0|                 N|          75|          75|           2|        3.5|  0.5|    0.5|       0.0|         0.0|                  0.3|         4.8|                 0.0|       null|\n",
      "|       1| 2019-03-01 00:05:05|  2019-03-01 00:08:42|            1.0|          1.0|       1.0|                 N|         236|          75|           1|        5.0|  3.0|    0.5|      1.75|         0.0|                  0.3|       10.55|                 2.5|       null|\n",
      "|       2| 2019-03-01 00:34:29|  2019-03-01 01:01:26|            2.0|        20.11|       2.0|                 N|         132|          87|           1|       52.0|  0.0|    0.5|     11.06|         0.0|                  0.3|       66.36|                 2.5|       null|\n",
      "|       2| 2019-03-01 00:45:36|  2019-03-01 01:10:45|            1.0|        18.36|       2.0|                 N|         132|         236|           1|       52.0|  0.0|    0.5|     12.21|        5.76|                  0.3|       73.27|                 2.5|       null|\n",
      "|       2| 2019-03-01 00:05:54|  2019-03-01 00:37:23|            1.0|        18.58|       2.0|                 N|         132|         236|           1|       52.0|  0.0|    0.5|       5.0|        5.76|                  0.3|       66.06|                 2.5|       null|\n",
      "|       2| 2019-03-01 00:39:47|  2019-03-01 00:45:43|            4.0|         0.92|       1.0|                 N|         163|         163|           1|        6.0|  0.5|    0.5|      1.96|         0.0|                  0.3|       11.76|                 2.5|       null|\n",
      "|       2| 2019-03-01 00:26:18|  2019-03-01 00:36:57|            1.0|         2.07|       1.0|                 N|         236|         229|           1|        9.5|  0.5|    0.5|      2.66|         0.0|                  0.3|       15.96|                 2.5|       null|\n",
      "|       2| 2019-03-01 00:46:48|  2019-03-01 00:56:34|            1.0|         2.39|       1.0|                 N|         163|          75|           2|        9.5|  0.5|    0.5|       0.0|         0.0|                  0.3|        13.3|                 2.5|       null|\n",
      "|       1| 2019-03-01 00:01:00|  2019-03-01 00:01:05|            1.0|          0.0|       1.0|                 N|         132|         132|           3|        2.5|  0.5|    0.5|       0.0|         0.0|                  0.3|         3.8|                 0.0|       null|\n",
      "|       2| 2019-03-01 00:35:06|  2019-03-01 00:44:18|            1.0|         1.78|       1.0|                 N|         238|         236|           1|        8.5|  0.5|    0.5|      2.46|         0.0|                  0.3|       14.76|                 2.5|       null|\n",
      "|       1| 2019-03-01 00:40:29|  2019-03-01 00:47:35|            1.0|          2.0|       1.0|                 N|         238|         236|           1|        8.5|  3.0|    0.5|      2.45|         0.0|                  0.3|       14.75|                 2.5|       null|\n",
      "+--------+--------------------+---------------------+---------------+-------------+----------+------------------+------------+------------+------------+-----------+-----+-------+----------+------------+---------------------+------------+--------------------+-----------+\n",
      "only showing top 20 rows\n",
      "\n"
     ]
    }
   ],
   "source": [
    "more_passenger_data = df_yel_filtered.filter(col(\"passenger_count\") > 6)\n",
    "df_yel_filtered.show()"
   ]
  },
  {
   "cell_type": "markdown",
   "id": "6cc9852d",
   "metadata": {},
   "source": [
    "3. What is the largest distance travelled during this month? Is it the first taxi on the moon?"
   ]
  },
  {
   "cell_type": "code",
   "execution_count": 14,
   "id": "9f6a2ed2",
   "metadata": {},
   "outputs": [
    {
     "name": "stderr",
     "output_type": "stream",
     "text": [
      "\r",
      "[Stage 16:==================================================>       (7 + 1) / 8]\r",
      "\r",
      "                                                                                \r"
     ]
    },
    {
     "name": "stdout",
     "output_type": "stream",
     "text": [
      "The largest distance travelled during this month is:  106.9 milles\n"
     ]
    }
   ],
   "source": [
    "max_distance = df_yel_filtered.selectExpr(\"MAX(trip_distance) AS max_distance\").collect()[0][\"max_distance\"]\n",
    "print(\"The largest distance travelled during this month is: \" ,max_distance, \"milles\")"
   ]
  },
  {
   "cell_type": "markdown",
   "id": "acadbbb3",
   "metadata": {},
   "source": [
    "4. Plot the distribution of the trip_distance (using an histogram for instance) during year 2019. Focus on trips with non-zero trip distance and trip distance less than 30 miles."
   ]
  },
  {
   "cell_type": "code",
   "execution_count": 15,
   "id": "2b20ee8d",
   "metadata": {},
   "outputs": [
    {
     "name": "stderr",
     "output_type": "stream",
     "text": [
      "                                                                                \r"
     ]
    },
    {
     "data": {
      "image/png": "[encoded data removed]",
      "text/plain": [
       "<Figure size 432x288 with 1 Axes>"
      ]
     },
     "metadata": {
      "needs_background": "light"
     },
     "output_type": "display_data"
    }
   ],
   "source": [
    "# Filter the data for non-zero trip distances less than 30 miles\n",
    "yel_filtered_data = df_yel_filtered.filter((col(\"trip_distance\") > 0) & (col(\"trip_distance\") < 30))\n",
    "\n",
    "# Convert the filtered data to a Pandas DataFrame for plotting\n",
    "yel_filtered_data = yel_filtered_data.select(\"trip_distance\").toPandas()\n",
    "\n",
    "# Plot the distribution of trip distances\n",
    "plt.hist(yel_filtered_data[\"trip_distance\"], bins=30, edgecolor=\"black\")\n",
    "plt.xlabel(\"Trip Distance (miles)\")\n",
    "plt.ylabel(\"Frequency\")\n",
    "plt.title(\"Distribution of Trip Distances (2019)\")\n",
    "plt.show()"
   ]
  },
  {
   "cell_type": "markdown",
   "id": "05c1c732",
   "metadata": {},
   "source": [
    "1. Use the explain method or have a look at the Spark UI to analyze the job."
   ]
  },
  {
   "cell_type": "code",
   "execution_count": 16,
   "id": "c3b810f0",
   "metadata": {},
   "outputs": [
    {
     "name": "stdout",
     "output_type": "stream",
     "text": [
      "== Physical Plan ==\n",
      "*(1) Filter (PULocationID#59L INSET 1, 113, 132, 163, 229, 236, 238, 243, 42, 75, 87 AND DOLocationID#60L INSET 1, 113, 132, 163, 229, 236, 238, 243, 42, 75, 87)\n",
      "+- *(1) ColumnarToRow\n",
      "   +- FileScan parquet [VendorID#52L,tpep_pickup_datetime#53,tpep_dropoff_datetime#54,passenger_count#55,trip_distance#56,RatecodeID#57,store_and_fwd_flag#58,PULocationID#59L,DOLocationID#60L,payment_type#61L,fare_amount#62,extra#63,mta_tax#64,tip_amount#65,tolls_amount#66,improvement_surcharge#67,total_amount#68,congestion_surcharge#69,airport_fee#70] Batched: true, DataFilters: [PULocationID#59L INSET 1, 113, 132, 163, 229, 236, 238, 243, 42, 75, 87, DOLocationID#60L INSET ..., Format: Parquet, Location: InMemoryFileIndex(1 paths)[file:/home/edouard/Documents/Big Data/yellow_tripdata_2019-03.parquet], PartitionFilters: [], PushedFilters: [In(PULocationID, [1,113,132,163,229,236,238,243,42,75,87]), In(DOLocationID, [1,113,132,163,229,..., ReadSchema: struct<VendorID:bigint,tpep_pickup_datetime:timestamp_ntz,tpep_dropoff_datetime:timestamp_ntz,pas...\n",
      "\n",
      "\n"
     ]
    }
   ],
   "source": [
    "df_yel_filtered.explain()"
   ]
  },
  {
   "cell_type": "markdown",
   "id": "80929b63",
   "metadata": {},
   "source": [
    "2. *Compare the Analyzed Logical Plan and Optimized Logical Plan: \n",
    "Analyzed Logical Plan: This plan represents the logical operations after the analysis phase, where Spark resolves references, applies type checking, and performs other logical optimizations. Optimized Logical Plan: This plan represents the logical operations after further optimization, such as predicate pushdown, column pruning, or constant folding.*\n"
   ]
  },
  {
   "cell_type": "markdown",
   "id": "eb1b7798",
   "metadata": {},
   "source": [
    "3. *Compare the Physical Plan with the Optimized Logical Plan: Physical Plan: \n",
    "This plan describes the actual execution strategy that Spark will use to process the query. It includes details about how the data will be read, transformed, and distributed across the worker nodes. 3-2. Keywords and concepts in the Physical Plan that you would not expect in an RDBMS include: Shuffle: This keyword indicates data shuffling, which involves redistributing data across partitions or nodes, often required for operations like joins or aggregations. Exchange: This keyword represents the exchange of data between partitions or nodes. Sort: This keyword indicates sorting operations performed during the query execution. Broadcast: This keyword represents the broadcasting of small data to all worker nodes, typically used in join operations. Code generation: This indicates that Spark generates code dynamically for specific operations to improve performance. In an RDBMS, the physical plan might involve index scans, table scans, join algorithms, and disk-based operations. The specific keywords and concepts may vary depending on the RDBMS implementation.*"
   ]
  },
  {
   "cell_type": "markdown",
   "id": "3aaec869",
   "metadata": {},
   "source": [
    "4. Tasks in Spark refer to the individual units of work performed on the data. Each task processes a subset of the data and is executed on a single partition of a stage. The number of tasks within each stage may vary depending on the size of the data and the available resources. You can find the number of tasks for each stage in the Spark UI under the \"Stages\" tab."
   ]
  },
  {
   "cell_type": "markdown",
   "id": "a3f9995e",
   "metadata": {},
   "source": [
    "1. Break down the trip distance distribution for each day of week"
   ]
  },
  {
   "cell_type": "code",
   "execution_count": 21,
   "id": "ffa9ed23",
   "metadata": {
    "scrolled": true
   },
   "outputs": [
    {
     "ename": "PySparkTypeError",
     "evalue": "[NOT_COLUMN] Argument `col` should be a Column, got str.",
     "output_type": "error",
     "traceback": [
      "\u001b[0;31m---------------------------------------------------------------------------\u001b[0m",
      "\u001b[0;31mPySparkTypeError\u001b[0m                          Traceback (most recent call last)",
      "\u001b[0;32m/tmp/ipykernel_68771/3628530458.py\u001b[0m in \u001b[0;36m<module>\u001b[0;34m\u001b[0m\n\u001b[1;32m      1\u001b[0m \u001b[0;32mimport\u001b[0m \u001b[0mpandas\u001b[0m \u001b[0;32mas\u001b[0m \u001b[0mpd\u001b[0m\u001b[0;34m\u001b[0m\u001b[0;34m\u001b[0m\u001b[0m\n\u001b[1;32m      2\u001b[0m \u001b[0;31m# Extract the day of the week from the pickup datetime\u001b[0m\u001b[0;34m\u001b[0m\u001b[0;34m\u001b[0m\u001b[0m\n\u001b[0;32m----> 3\u001b[0;31m \u001b[0mdf_with_day_of_week\u001b[0m \u001b[0;34m=\u001b[0m \u001b[0mdf_yel_filtered\u001b[0m\u001b[0;34m.\u001b[0m\u001b[0mwithColumn\u001b[0m\u001b[0;34m(\u001b[0m\u001b[0;34m'pickup_day_of_week'\u001b[0m\u001b[0;34m,\u001b[0m \u001b[0;34m'tpep_pickup_datetime'\u001b[0m\u001b[0;34m)\u001b[0m\u001b[0;34m\u001b[0m\u001b[0;34m\u001b[0m\u001b[0m\n\u001b[0m\u001b[1;32m      4\u001b[0m \u001b[0;34m\u001b[0m\u001b[0m\n\u001b[1;32m      5\u001b[0m \u001b[0;31m# Group by day of the week and calculate the distribution of trip distances\u001b[0m\u001b[0;34m\u001b[0m\u001b[0;34m\u001b[0m\u001b[0m\n",
      "\u001b[0;32m~/.local/lib/python3.10/site-packages/pyspark/sql/dataframe.py\u001b[0m in \u001b[0;36mwithColumn\u001b[0;34m(self, colName, col)\u001b[0m\n\u001b[1;32m   4783\u001b[0m         \"\"\"\n\u001b[1;32m   4784\u001b[0m         \u001b[0;32mif\u001b[0m \u001b[0;32mnot\u001b[0m \u001b[0misinstance\u001b[0m\u001b[0;34m(\u001b[0m\u001b[0mcol\u001b[0m\u001b[0;34m,\u001b[0m \u001b[0mColumn\u001b[0m\u001b[0;34m)\u001b[0m\u001b[0;34m:\u001b[0m\u001b[0;34m\u001b[0m\u001b[0;34m\u001b[0m\u001b[0m\n\u001b[0;32m-> 4785\u001b[0;31m             raise PySparkTypeError(\n\u001b[0m\u001b[1;32m   4786\u001b[0m                 \u001b[0merror_class\u001b[0m\u001b[0;34m=\u001b[0m\u001b[0;34m\"NOT_COLUMN\"\u001b[0m\u001b[0;34m,\u001b[0m\u001b[0;34m\u001b[0m\u001b[0;34m\u001b[0m\u001b[0m\n\u001b[1;32m   4787\u001b[0m                 \u001b[0mmessage_parameters\u001b[0m\u001b[0;34m=\u001b[0m\u001b[0;34m{\u001b[0m\u001b[0;34m\"arg_name\"\u001b[0m\u001b[0;34m:\u001b[0m \u001b[0;34m\"col\"\u001b[0m\u001b[0;34m,\u001b[0m \u001b[0;34m\"arg_type\"\u001b[0m\u001b[0;34m:\u001b[0m \u001b[0mtype\u001b[0m\u001b[0;34m(\u001b[0m\u001b[0mcol\u001b[0m\u001b[0;34m)\u001b[0m\u001b[0;34m.\u001b[0m\u001b[0m__name__\u001b[0m\u001b[0;34m}\u001b[0m\u001b[0;34m,\u001b[0m\u001b[0;34m\u001b[0m\u001b[0;34m\u001b[0m\u001b[0m\n",
      "\u001b[0;31mPySparkTypeError\u001b[0m: [NOT_COLUMN] Argument `col` should be a Column, got str."
     ]
    }
   ],
   "source": [
    "import pandas as pd\n",
    "# Extract the day of the week from the pickup datetime\n",
    "df_with_day_of_week = df_yel_filtered.withColumn('pickup_day_of_week', dayofweek('tpep_pickup_datetime'))\n",
    "\n",
    "# Group by day of the week and calculate the distribution of trip distances\n",
    "distance_breakdown = df_with_day_of_week.groupBy('pickup_day_of_week').agg(mean('trip_distance').alias('avg_distance'))\n",
    "\n",
    "# Convert the result to a Pandas DataFrame for plotting\n",
    "distance_breakdown_pd = distance_breakdown.toPandas()\n",
    "\n",
    "# Plot the breakdown of trip distance\n",
    "plt.figure(figsize=(8, 6))\n",
    "sns.barplot(x='pickup_day_of_week', y='avg_distance', data=distance_breakdown_pd)\n",
    "plt.xlabel('Day of Week')\n",
    "plt.ylabel('Average Trip Distance')\n",
    "plt.title('Breakdown of Trip Distance by Day of Week')\n",
    "plt.show()"
   ]
  },
  {
   "cell_type": "markdown",
   "id": "f48ccf41",
   "metadata": {},
   "source": [
    "2. Count the number of distinct pickup location"
   ]
  },
  {
   "cell_type": "code",
   "execution_count": 44,
   "id": "77ac71ce",
   "metadata": {},
   "outputs": [
    {
     "name": "stderr",
     "output_type": "stream",
     "text": [
      "\r",
      "[Stage 16:==================================================>       (7 + 1) / 8]\r"
     ]
    },
    {
     "name": "stdout",
     "output_type": "stream",
     "text": [
      "Number of distinct pickup locations: 261\n"
     ]
    },
    {
     "name": "stderr",
     "output_type": "stream",
     "text": [
      "\r",
      "                                                                                \r"
     ]
    }
   ],
   "source": [
    "distinct_pickup_locations = df_yel.select('PUlocationID').distinct().count()\n",
    "print(\"Number of distinct pickup locations:\", distinct_pickup_locations)"
   ]
  },
  {
   "cell_type": "markdown",
   "id": "03644a03",
   "metadata": {},
   "source": [
    "3. Compute and display tips and profits as a function of the pickup location"
   ]
  },
  {
   "cell_type": "code",
   "execution_count": 45,
   "id": "246de4d7",
   "metadata": {},
   "outputs": [
    {
     "name": "stderr",
     "output_type": "stream",
     "text": [
      "\r",
      "[Stage 22:==================================================>       (7 + 1) / 8]\r"
     ]
    },
    {
     "name": "stdout",
     "output_type": "stream",
     "text": [
      "+------------+------------------+------------------+\n",
      "|PUlocationID|        total_tips|     total_profits|\n",
      "+------------+------------------+------------------+\n",
      "|          26|            165.38|            395.75|\n",
      "|          29|             56.83|            141.25|\n",
      "|          65|20356.180000000073|           8173.65|\n",
      "|         191|36.089999999999996|             424.5|\n",
      "|         222|              34.9|             401.0|\n",
      "|         243|2214.0100000000007|             874.0|\n",
      "|          54| 558.3500000000001|            147.25|\n",
      "|          19| 97.63999999999999|             152.5|\n",
      "|         113|243919.94999999137|          157734.5|\n",
      "|         112|4622.1900000000005|           1677.05|\n",
      "|         167|             90.62|             256.0|\n",
      "|         155|              58.0|             315.0|\n",
      "|         237| 530634.1000000244|398240.79999999993|\n",
      "|         241|            128.49|            159.75|\n",
      "|         198|331.59999999999997|             233.5|\n",
      "|          22|237.54000000000002|             251.5|\n",
      "|         130|5124.3400000000065|           1349.75|\n",
      "|         196|1530.1200000000001|             565.5|\n",
      "|           7|10788.720000000021|            5527.6|\n",
      "|          77|             55.65|             274.0|\n",
      "+------------+------------------+------------------+\n",
      "only showing top 20 rows\n",
      "\n"
     ]
    },
    {
     "name": "stderr",
     "output_type": "stream",
     "text": [
      "\r",
      "                                                                                \r"
     ]
    }
   ],
   "source": [
    "tips_profits_by_location = df_yel.groupBy('PUlocationID').agg(sum('tip_amount').alias('total_tips'),\n",
    "                                                          sum('extra').alias('total_profits'))\n",
    "\n",
    "# Display the results\n",
    "tips_profits_by_location.show()"
   ]
  },
  {
   "cell_type": "markdown",
   "id": "9fb818a7",
   "metadata": {},
   "source": [
    "Filter and cache/persist the result: **May of 2019**"
   ]
  },
  {
   "cell_type": "code",
   "execution_count": 101,
   "id": "bca135a9",
   "metadata": {},
   "outputs": [],
   "source": [
    "df_may_2019 = spark.read.parquet(\"/home/edouard/Documents/Big Data/yellow_tripdata_2019-05.parquet\")\n",
    "df = df_may_2019.groupBy(\"passenger_count\").count()\n"
   ]
  },
  {
   "cell_type": "code",
   "execution_count": 102,
   "id": "a14ad38f",
   "metadata": {},
   "outputs": [
    {
     "name": "stderr",
     "output_type": "stream",
     "text": [
      "23/05/24 12:00:34 ERROR Executor: Exception in task 3.0 in stage 64.0 (TID 160)]\n",
      "java.lang.OutOfMemoryError: Java heap space\n",
      "\tat java.nio.HeapByteBuffer.<init>(HeapByteBuffer.java:57)\n",
      "\tat java.nio.ByteBuffer.allocate(ByteBuffer.java:335)\n",
      "\tat org.apache.spark.serializer.SerializerHelper$.$anonfun$serializeToChunkedBuffer$1(SerializerHelper.scala:40)\n",
      "\tat org.apache.spark.serializer.SerializerHelper$.$anonfun$serializeToChunkedBuffer$1$adapted(SerializerHelper.scala:40)\n",
      "\tat org.apache.spark.serializer.SerializerHelper$$$Lambda$1648/1604891457.apply(Unknown Source)\n",
      "\tat org.apache.spark.util.io.ChunkedByteBufferOutputStream.allocateNewChunkIfNeeded(ChunkedByteBufferOutputStream.scala:87)\n",
      "\tat org.apache.spark.util.io.ChunkedByteBufferOutputStream.write(ChunkedByteBufferOutputStream.scala:75)\n",
      "\tat java.io.ObjectOutputStream$BlockDataOutputStream.write(ObjectOutputStream.java:1853)\n",
      "\tat java.io.ObjectOutputStream.write(ObjectOutputStream.java:709)\n",
      "\tat org.apache.spark.util.Utils$.$anonfun$writeByteBuffer$1(Utils.scala:271)\n",
      "\tat org.apache.spark.util.Utils$.$anonfun$writeByteBuffer$1$adapted(Utils.scala:271)\n",
      "\tat org.apache.spark.util.Utils$$$Lambda$1655/158017886.apply(Unknown Source)\n",
      "\tat org.apache.spark.util.Utils$.writeByteBufferImpl(Utils.scala:249)\n",
      "\tat org.apache.spark.util.Utils$.writeByteBuffer(Utils.scala:271)\n",
      "\tat org.apache.spark.util.io.ChunkedByteBuffer.$anonfun$writeExternal$2(ChunkedByteBuffer.scala:103)\n",
      "\tat org.apache.spark.util.io.ChunkedByteBuffer.$anonfun$writeExternal$2$adapted(ChunkedByteBuffer.scala:103)\n",
      "\tat org.apache.spark.util.io.ChunkedByteBuffer$$Lambda$1654/67977397.apply(Unknown Source)\n",
      "\tat scala.collection.IndexedSeqOptimized.foreach(IndexedSeqOptimized.scala:36)\n",
      "\tat scala.collection.IndexedSeqOptimized.foreach$(IndexedSeqOptimized.scala:33)\n",
      "\tat scala.collection.mutable.ArrayOps$ofRef.foreach(ArrayOps.scala:198)\n",
      "\tat org.apache.spark.util.io.ChunkedByteBuffer.writeExternal(ChunkedByteBuffer.scala:103)\n",
      "\tat org.apache.spark.scheduler.DirectTaskResult.$anonfun$writeExternal$1(TaskResult.scala:60)\n",
      "\tat org.apache.spark.scheduler.DirectTaskResult$$Lambda$1652/1112443679.apply$mcV$sp(Unknown Source)\n",
      "\tat scala.runtime.java8.JFunction0$mcV$sp.apply(JFunction0$mcV$sp.java:23)\n",
      "\tat org.apache.spark.util.Utils$.tryOrIOException(Utils.scala:1495)\n",
      "\tat org.apache.spark.scheduler.DirectTaskResult.writeExternal(TaskResult.scala:59)\n",
      "\tat java.io.ObjectOutputStream.writeExternalData(ObjectOutputStream.java:1459)\n",
      "\tat java.io.ObjectOutputStream.writeOrdinaryObject(ObjectOutputStream.java:1430)\n",
      "\tat java.io.ObjectOutputStream.writeObject0(ObjectOutputStream.java:1178)\n",
      "\tat java.io.ObjectOutputStream.writeObject(ObjectOutputStream.java:348)\n",
      "\tat org.apache.spark.serializer.JavaSerializationStream.writeObject(JavaSerializer.scala:46)\n",
      "\tat org.apache.spark.serializer.SerializerHelper$.serializeToChunkedBuffer(SerializerHelper.scala:42)\n",
      "23/05/24 12:00:34 ERROR SparkUncaughtExceptionHandler: Uncaught exception in thread Thread[Executor task launch worker for task 3.0 in stage 64.0 (TID 160),5,main]\n",
      "java.lang.OutOfMemoryError: Java heap space\n",
      "\tat java.nio.HeapByteBuffer.<init>(HeapByteBuffer.java:57)\n",
      "\tat java.nio.ByteBuffer.allocate(ByteBuffer.java:335)\n",
      "\tat org.apache.spark.serializer.SerializerHelper$.$anonfun$serializeToChunkedBuffer$1(SerializerHelper.scala:40)\n",
      "\tat org.apache.spark.serializer.SerializerHelper$.$anonfun$serializeToChunkedBuffer$1$adapted(SerializerHelper.scala:40)\n",
      "\tat org.apache.spark.serializer.SerializerHelper$$$Lambda$1648/1604891457.apply(Unknown Source)\n",
      "\tat org.apache.spark.util.io.ChunkedByteBufferOutputStream.allocateNewChunkIfNeeded(ChunkedByteBufferOutputStream.scala:87)\n",
      "\tat org.apache.spark.util.io.ChunkedByteBufferOutputStream.write(ChunkedByteBufferOutputStream.scala:75)\n",
      "\tat java.io.ObjectOutputStream$BlockDataOutputStream.write(ObjectOutputStream.java:1853)\n",
      "\tat java.io.ObjectOutputStream.write(ObjectOutputStream.java:709)\n",
      "\tat org.apache.spark.util.Utils$.$anonfun$writeByteBuffer$1(Utils.scala:271)\n",
      "\tat org.apache.spark.util.Utils$.$anonfun$writeByteBuffer$1$adapted(Utils.scala:271)\n",
      "\tat org.apache.spark.util.Utils$$$Lambda$1655/158017886.apply(Unknown Source)\n",
      "\tat org.apache.spark.util.Utils$.writeByteBufferImpl(Utils.scala:249)\n",
      "\tat org.apache.spark.util.Utils$.writeByteBuffer(Utils.scala:271)\n",
      "\tat org.apache.spark.util.io.ChunkedByteBuffer.$anonfun$writeExternal$2(ChunkedByteBuffer.scala:103)\n",
      "\tat org.apache.spark.util.io.ChunkedByteBuffer.$anonfun$writeExternal$2$adapted(ChunkedByteBuffer.scala:103)\n",
      "\tat org.apache.spark.util.io.ChunkedByteBuffer$$Lambda$1654/67977397.apply(Unknown Source)\n",
      "\tat scala.collection.IndexedSeqOptimized.foreach(IndexedSeqOptimized.scala:36)\n",
      "\tat scala.collection.IndexedSeqOptimized.foreach$(IndexedSeqOptimized.scala:33)\n",
      "\tat scala.collection.mutable.ArrayOps$ofRef.foreach(ArrayOps.scala:198)\n",
      "\tat org.apache.spark.util.io.ChunkedByteBuffer.writeExternal(ChunkedByteBuffer.scala:103)\n",
      "\tat org.apache.spark.scheduler.DirectTaskResult.$anonfun$writeExternal$1(TaskResult.scala:60)\n",
      "\tat org.apache.spark.scheduler.DirectTaskResult$$Lambda$1652/1112443679.apply$mcV$sp(Unknown Source)\n",
      "\tat scala.runtime.java8.JFunction0$mcV$sp.apply(JFunction0$mcV$sp.java:23)\n",
      "\tat org.apache.spark.util.Utils$.tryOrIOException(Utils.scala:1495)\n",
      "\tat org.apache.spark.scheduler.DirectTaskResult.writeExternal(TaskResult.scala:59)\n",
      "\tat java.io.ObjectOutputStream.writeExternalData(ObjectOutputStream.java:1459)\n",
      "\tat java.io.ObjectOutputStream.writeOrdinaryObject(ObjectOutputStream.java:1430)\n",
      "\tat java.io.ObjectOutputStream.writeObject0(ObjectOutputStream.java:1178)\n",
      "\tat java.io.ObjectOutputStream.writeObject(ObjectOutputStream.java:348)\n",
      "\tat org.apache.spark.serializer.JavaSerializationStream.writeObject(JavaSerializer.scala:46)\n",
      "\tat org.apache.spark.serializer.SerializerHelper$.serializeToChunkedBuffer(SerializerHelper.scala:42)\n",
      "23/05/24 12:00:34 WARN TaskSetManager: Lost task 3.0 in stage 64.0 (TID 160) (10.30.204.148 executor driver): java.lang.OutOfMemoryError: Java heap space\n",
      "\tat java.nio.HeapByteBuffer.<init>(HeapByteBuffer.java:57)\n",
      "\tat java.nio.ByteBuffer.allocate(ByteBuffer.java:335)\n",
      "\tat org.apache.spark.serializer.SerializerHelper$.$anonfun$serializeToChunkedBuffer$1(SerializerHelper.scala:40)\n",
      "\tat org.apache.spark.serializer.SerializerHelper$.$anonfun$serializeToChunkedBuffer$1$adapted(SerializerHelper.scala:40)\n",
      "\tat org.apache.spark.serializer.SerializerHelper$$$Lambda$1648/1604891457.apply(Unknown Source)\n",
      "\tat org.apache.spark.util.io.ChunkedByteBufferOutputStream.allocateNewChunkIfNeeded(ChunkedByteBufferOutputStream.scala:87)\n",
      "\tat org.apache.spark.util.io.ChunkedByteBufferOutputStream.write(ChunkedByteBufferOutputStream.scala:75)\n",
      "\tat java.io.ObjectOutputStream$BlockDataOutputStream.write(ObjectOutputStream.java:1853)\n",
      "\tat java.io.ObjectOutputStream.write(ObjectOutputStream.java:709)\n",
      "\tat org.apache.spark.util.Utils$.$anonfun$writeByteBuffer$1(Utils.scala:271)\n",
      "\tat org.apache.spark.util.Utils$.$anonfun$writeByteBuffer$1$adapted(Utils.scala:271)\n",
      "\tat org.apache.spark.util.Utils$$$Lambda$1655/158017886.apply(Unknown Source)\n",
      "\tat org.apache.spark.util.Utils$.writeByteBufferImpl(Utils.scala:249)\n",
      "\tat org.apache.spark.util.Utils$.writeByteBuffer(Utils.scala:271)\n",
      "\tat org.apache.spark.util.io.ChunkedByteBuffer.$anonfun$writeExternal$2(ChunkedByteBuffer.scala:103)\n",
      "\tat org.apache.spark.util.io.ChunkedByteBuffer.$anonfun$writeExternal$2$adapted(ChunkedByteBuffer.scala:103)\n",
      "\tat org.apache.spark.util.io.ChunkedByteBuffer$$Lambda$1654/67977397.apply(Unknown Source)\n",
      "\tat scala.collection.IndexedSeqOptimized.foreach(IndexedSeqOptimized.scala:36)\n",
      "\tat scala.collection.IndexedSeqOptimized.foreach$(IndexedSeqOptimized.scala:33)\n",
      "\tat scala.collection.mutable.ArrayOps$ofRef.foreach(ArrayOps.scala:198)\n",
      "\tat org.apache.spark.util.io.ChunkedByteBuffer.writeExternal(ChunkedByteBuffer.scala:103)\n",
      "\tat org.apache.spark.scheduler.DirectTaskResult.$anonfun$writeExternal$1(TaskResult.scala:60)\n",
      "\tat org.apache.spark.scheduler.DirectTaskResult$$Lambda$1652/1112443679.apply$mcV$sp(Unknown Source)\n",
      "\tat scala.runtime.java8.JFunction0$mcV$sp.apply(JFunction0$mcV$sp.java:23)\n",
      "\tat org.apache.spark.util.Utils$.tryOrIOException(Utils.scala:1495)\n",
      "\tat org.apache.spark.scheduler.DirectTaskResult.writeExternal(TaskResult.scala:59)\n",
      "\tat java.io.ObjectOutputStream.writeExternalData(ObjectOutputStream.java:1459)\n",
      "\tat java.io.ObjectOutputStream.writeOrdinaryObject(ObjectOutputStream.java:1430)\n",
      "\tat java.io.ObjectOutputStream.writeObject0(ObjectOutputStream.java:1178)\n",
      "\tat java.io.ObjectOutputStream.writeObject(ObjectOutputStream.java:348)\n",
      "\tat org.apache.spark.serializer.JavaSerializationStream.writeObject(JavaSerializer.scala:46)\n",
      "\tat org.apache.spark.serializer.SerializerHelper$.serializeToChunkedBuffer(SerializerHelper.scala:42)\n",
      "\n",
      "23/05/24 12:00:34 ERROR TaskSetManager: Task 3 in stage 64.0 failed 1 times; aborting job\n"
     ]
    },
    {
     "name": "stderr",
     "output_type": "stream",
     "text": [
      "ERROR:root:Exception while sending command.\n",
      "Traceback (most recent call last):\n",
      "  File \"/home/edouard/.local/lib/python3.10/site-packages/pyspark/errors/exceptions/captured.py\", line 169, in deco\n",
      "    return f(*a, **kw)\n",
      "  File \"/home/edouard/.local/lib/python3.10/site-packages/py4j/protocol.py\", line 326, in get_return_value\n",
      "    raise Py4JJavaError(\n",
      "py4j.protocol.Py4JJavaError: <unprintable Py4JJavaError object>\n",
      "\n",
      "During handling of the above exception, another exception occurred:\n",
      "\n",
      "Traceback (most recent call last):\n",
      "  File \"/home/edouard/.local/lib/python3.10/site-packages/py4j/clientserver.py\", line 516, in send_command\n",
      "    raise Py4JNetworkError(\"Answer from Java side is empty\")\n",
      "py4j.protocol.Py4JNetworkError: Answer from Java side is empty\n",
      "\n",
      "During handling of the above exception, another exception occurred:\n",
      "\n",
      "Traceback (most recent call last):\n",
      "  File \"/home/edouard/.local/lib/python3.10/site-packages/py4j/java_gateway.py\", line 1038, in send_command\n",
      "    response = connection.send_command(command)\n",
      "  File \"/home/edouard/.local/lib/python3.10/site-packages/py4j/clientserver.py\", line 539, in send_command\n",
      "    raise Py4JNetworkError(\n",
      "py4j.protocol.Py4JNetworkError: Error while sending or receiving\n"
     ]
    },
    {
     "ename": "ConnectionRefusedError",
     "evalue": "[Errno 111] Connection refused",
     "output_type": "error",
     "traceback": [
      "\u001b[0;31m---------------------------------------------------------------------------\u001b[0m",
      "\u001b[0;31mPy4JJavaError\u001b[0m                             Traceback (most recent call last)",
      "\u001b[0;32m~/.local/lib/python3.10/site-packages/pyspark/errors/exceptions/captured.py\u001b[0m in \u001b[0;36mdeco\u001b[0;34m(*a, **kw)\u001b[0m\n\u001b[1;32m    168\u001b[0m         \u001b[0;32mtry\u001b[0m\u001b[0;34m:\u001b[0m\u001b[0;34m\u001b[0m\u001b[0;34m\u001b[0m\u001b[0m\n\u001b[0;32m--> 169\u001b[0;31m             \u001b[0;32mreturn\u001b[0m \u001b[0mf\u001b[0m\u001b[0;34m(\u001b[0m\u001b[0;34m*\u001b[0m\u001b[0ma\u001b[0m\u001b[0;34m,\u001b[0m \u001b[0;34m**\u001b[0m\u001b[0mkw\u001b[0m\u001b[0;34m)\u001b[0m\u001b[0;34m\u001b[0m\u001b[0;34m\u001b[0m\u001b[0m\n\u001b[0m\u001b[1;32m    170\u001b[0m         \u001b[0;32mexcept\u001b[0m \u001b[0mPy4JJavaError\u001b[0m \u001b[0;32mas\u001b[0m \u001b[0me\u001b[0m\u001b[0;34m:\u001b[0m\u001b[0;34m\u001b[0m\u001b[0;34m\u001b[0m\u001b[0m\n",
      "\u001b[0;32m~/.local/lib/python3.10/site-packages/py4j/protocol.py\u001b[0m in \u001b[0;36mget_return_value\u001b[0;34m(answer, gateway_client, target_id, name)\u001b[0m\n\u001b[1;32m    325\u001b[0m             \u001b[0;32mif\u001b[0m \u001b[0manswer\u001b[0m\u001b[0;34m[\u001b[0m\u001b[0;36m1\u001b[0m\u001b[0;34m]\u001b[0m \u001b[0;34m==\u001b[0m \u001b[0mREFERENCE_TYPE\u001b[0m\u001b[0;34m:\u001b[0m\u001b[0;34m\u001b[0m\u001b[0;34m\u001b[0m\u001b[0m\n\u001b[0;32m--> 326\u001b[0;31m                 raise Py4JJavaError(\n\u001b[0m\u001b[1;32m    327\u001b[0m                     \u001b[0;34m\"An error occurred while calling {0}{1}{2}.\\n\"\u001b[0m\u001b[0;34m.\u001b[0m\u001b[0;34m\u001b[0m\u001b[0;34m\u001b[0m\u001b[0m\n",
      "\u001b[0;31m<class 'str'>\u001b[0m: (<class 'ConnectionRefusedError'>, ConnectionRefusedError(111, 'Connection refused'))",
      "\nDuring handling of the above exception, another exception occurred:\n",
      "\u001b[0;31mPy4JError\u001b[0m                                 Traceback (most recent call last)",
      "\u001b[0;32m~/.local/lib/python3.10/site-packages/pyspark/sql/dataframe.py\u001b[0m in \u001b[0;36mcollect\u001b[0;34m(self)\u001b[0m\n\u001b[1;32m   1215\u001b[0m         \u001b[0;32mwith\u001b[0m \u001b[0mSCCallSiteSync\u001b[0m\u001b[0;34m(\u001b[0m\u001b[0mself\u001b[0m\u001b[0;34m.\u001b[0m\u001b[0m_sc\u001b[0m\u001b[0;34m)\u001b[0m\u001b[0;34m:\u001b[0m\u001b[0;34m\u001b[0m\u001b[0;34m\u001b[0m\u001b[0m\n\u001b[0;32m-> 1216\u001b[0;31m             \u001b[0msock_info\u001b[0m \u001b[0;34m=\u001b[0m \u001b[0mself\u001b[0m\u001b[0;34m.\u001b[0m\u001b[0m_jdf\u001b[0m\u001b[0;34m.\u001b[0m\u001b[0mcollectToPython\u001b[0m\u001b[0;34m(\u001b[0m\u001b[0;34m)\u001b[0m\u001b[0;34m\u001b[0m\u001b[0;34m\u001b[0m\u001b[0m\n\u001b[0m\u001b[1;32m   1217\u001b[0m         \u001b[0;32mreturn\u001b[0m \u001b[0mlist\u001b[0m\u001b[0;34m(\u001b[0m\u001b[0m_load_from_socket\u001b[0m\u001b[0;34m(\u001b[0m\u001b[0msock_info\u001b[0m\u001b[0;34m,\u001b[0m \u001b[0mBatchedSerializer\u001b[0m\u001b[0;34m(\u001b[0m\u001b[0mCPickleSerializer\u001b[0m\u001b[0;34m(\u001b[0m\u001b[0;34m)\u001b[0m\u001b[0;34m)\u001b[0m\u001b[0;34m)\u001b[0m\u001b[0;34m)\u001b[0m\u001b[0;34m\u001b[0m\u001b[0;34m\u001b[0m\u001b[0m\n",
      "\u001b[0;32m~/.local/lib/python3.10/site-packages/py4j/java_gateway.py\u001b[0m in \u001b[0;36m__call__\u001b[0;34m(self, *args)\u001b[0m\n\u001b[1;32m   1321\u001b[0m         \u001b[0manswer\u001b[0m \u001b[0;34m=\u001b[0m \u001b[0mself\u001b[0m\u001b[0;34m.\u001b[0m\u001b[0mgateway_client\u001b[0m\u001b[0;34m.\u001b[0m\u001b[0msend_command\u001b[0m\u001b[0;34m(\u001b[0m\u001b[0mcommand\u001b[0m\u001b[0;34m)\u001b[0m\u001b[0;34m\u001b[0m\u001b[0;34m\u001b[0m\u001b[0m\n\u001b[0;32m-> 1322\u001b[0;31m         return_value = get_return_value(\n\u001b[0m\u001b[1;32m   1323\u001b[0m             answer, self.gateway_client, self.target_id, self.name)\n",
      "\u001b[0;32m~/.local/lib/python3.10/site-packages/pyspark/errors/exceptions/captured.py\u001b[0m in \u001b[0;36mdeco\u001b[0;34m(*a, **kw)\u001b[0m\n\u001b[1;32m    170\u001b[0m         \u001b[0;32mexcept\u001b[0m \u001b[0mPy4JJavaError\u001b[0m \u001b[0;32mas\u001b[0m \u001b[0me\u001b[0m\u001b[0;34m:\u001b[0m\u001b[0;34m\u001b[0m\u001b[0;34m\u001b[0m\u001b[0m\n\u001b[0;32m--> 171\u001b[0;31m             \u001b[0mconverted\u001b[0m \u001b[0;34m=\u001b[0m \u001b[0mconvert_exception\u001b[0m\u001b[0;34m(\u001b[0m\u001b[0me\u001b[0m\u001b[0;34m.\u001b[0m\u001b[0mjava_exception\u001b[0m\u001b[0;34m)\u001b[0m\u001b[0;34m\u001b[0m\u001b[0;34m\u001b[0m\u001b[0m\n\u001b[0m\u001b[1;32m    172\u001b[0m             \u001b[0;32mif\u001b[0m \u001b[0;32mnot\u001b[0m \u001b[0misinstance\u001b[0m\u001b[0;34m(\u001b[0m\u001b[0mconverted\u001b[0m\u001b[0;34m,\u001b[0m \u001b[0mUnknownException\u001b[0m\u001b[0;34m)\u001b[0m\u001b[0;34m:\u001b[0m\u001b[0;34m\u001b[0m\u001b[0;34m\u001b[0m\u001b[0m\n",
      "\u001b[0;32m~/.local/lib/python3.10/site-packages/pyspark/errors/exceptions/captured.py\u001b[0m in \u001b[0;36mconvert_exception\u001b[0;34m(e)\u001b[0m\n\u001b[1;32m    162\u001b[0m \u001b[0;34m\u001b[0m\u001b[0m\n\u001b[0;32m--> 163\u001b[0;31m     \u001b[0;32mreturn\u001b[0m \u001b[0mUnknownException\u001b[0m\u001b[0;34m(\u001b[0m\u001b[0mdesc\u001b[0m\u001b[0;34m=\u001b[0m\u001b[0me\u001b[0m\u001b[0;34m.\u001b[0m\u001b[0mtoString\u001b[0m\u001b[0;34m(\u001b[0m\u001b[0;34m)\u001b[0m\u001b[0;34m,\u001b[0m \u001b[0mstackTrace\u001b[0m\u001b[0;34m=\u001b[0m\u001b[0mstacktrace\u001b[0m\u001b[0;34m,\u001b[0m \u001b[0mcause\u001b[0m\u001b[0;34m=\u001b[0m\u001b[0mc\u001b[0m\u001b[0;34m)\u001b[0m\u001b[0;34m\u001b[0m\u001b[0;34m\u001b[0m\u001b[0m\n\u001b[0m\u001b[1;32m    164\u001b[0m \u001b[0;34m\u001b[0m\u001b[0m\n",
      "\u001b[0;32m~/.local/lib/python3.10/site-packages/pyspark/errors/exceptions/captured.py\u001b[0m in \u001b[0;36m__init__\u001b[0;34m(self, desc, stackTrace, cause, origin)\u001b[0m\n\u001b[1;32m     63\u001b[0m         )\n\u001b[0;32m---> 64\u001b[0;31m         \u001b[0mself\u001b[0m\u001b[0;34m.\u001b[0m\u001b[0mcause\u001b[0m \u001b[0;34m=\u001b[0m \u001b[0mconvert_exception\u001b[0m\u001b[0;34m(\u001b[0m\u001b[0mcause\u001b[0m\u001b[0;34m)\u001b[0m \u001b[0;32mif\u001b[0m \u001b[0mcause\u001b[0m \u001b[0;32mis\u001b[0m \u001b[0;32mnot\u001b[0m \u001b[0;32mNone\u001b[0m \u001b[0;32melse\u001b[0m \u001b[0;32mNone\u001b[0m\u001b[0;34m\u001b[0m\u001b[0;34m\u001b[0m\u001b[0m\n\u001b[0m\u001b[1;32m     65\u001b[0m         \u001b[0;32mif\u001b[0m \u001b[0mself\u001b[0m\u001b[0;34m.\u001b[0m\u001b[0mcause\u001b[0m \u001b[0;32mis\u001b[0m \u001b[0;32mNone\u001b[0m \u001b[0;32mand\u001b[0m \u001b[0morigin\u001b[0m \u001b[0;32mis\u001b[0m \u001b[0;32mnot\u001b[0m \u001b[0;32mNone\u001b[0m \u001b[0;32mand\u001b[0m \u001b[0morigin\u001b[0m\u001b[0;34m.\u001b[0m\u001b[0mgetCause\u001b[0m\u001b[0;34m(\u001b[0m\u001b[0;34m)\u001b[0m \u001b[0;32mis\u001b[0m \u001b[0;32mnot\u001b[0m \u001b[0;32mNone\u001b[0m\u001b[0;34m:\u001b[0m\u001b[0;34m\u001b[0m\u001b[0;34m\u001b[0m\u001b[0m\n",
      "\u001b[0;32m~/.local/lib/python3.10/site-packages/pyspark/errors/exceptions/captured.py\u001b[0m in \u001b[0;36mconvert_exception\u001b[0;34m(e)\u001b[0m\n\u001b[1;32m    125\u001b[0m         \u001b[0;32mreturn\u001b[0m \u001b[0mAnalysisException\u001b[0m\u001b[0;34m(\u001b[0m\u001b[0morigin\u001b[0m\u001b[0;34m=\u001b[0m\u001b[0me\u001b[0m\u001b[0;34m)\u001b[0m\u001b[0;34m\u001b[0m\u001b[0;34m\u001b[0m\u001b[0m\n\u001b[0;32m--> 126\u001b[0;31m     \u001b[0;32melif\u001b[0m \u001b[0mis_instance_of\u001b[0m\u001b[0;34m(\u001b[0m\u001b[0mgw\u001b[0m\u001b[0;34m,\u001b[0m \u001b[0me\u001b[0m\u001b[0;34m,\u001b[0m \u001b[0;34m\"org.apache.spark.sql.streaming.StreamingQueryException\"\u001b[0m\u001b[0;34m)\u001b[0m\u001b[0;34m:\u001b[0m\u001b[0;34m\u001b[0m\u001b[0;34m\u001b[0m\u001b[0m\n\u001b[0m\u001b[1;32m    127\u001b[0m         \u001b[0;32mreturn\u001b[0m \u001b[0mStreamingQueryException\u001b[0m\u001b[0;34m(\u001b[0m\u001b[0morigin\u001b[0m\u001b[0;34m=\u001b[0m\u001b[0me\u001b[0m\u001b[0;34m)\u001b[0m\u001b[0;34m\u001b[0m\u001b[0;34m\u001b[0m\u001b[0m\n",
      "\u001b[0;32m~/.local/lib/python3.10/site-packages/py4j/java_gateway.py\u001b[0m in \u001b[0;36mis_instance_of\u001b[0;34m(gateway, java_object, java_class)\u001b[0m\n\u001b[1;32m    463\u001b[0m \u001b[0;34m\u001b[0m\u001b[0m\n\u001b[0;32m--> 464\u001b[0;31m     return gateway.jvm.py4j.reflection.TypeUtil.isInstanceOf(\n\u001b[0m\u001b[1;32m    465\u001b[0m         param, java_object)\n",
      "\u001b[0;32m~/.local/lib/python3.10/site-packages/py4j/java_gateway.py\u001b[0m in \u001b[0;36m__getattr__\u001b[0;34m(self, name)\u001b[0m\n\u001b[1;32m   1724\u001b[0m                 \"{0} does not exist in the JVM\".format(name), error_message)\n\u001b[0;32m-> 1725\u001b[0;31m             \u001b[0;32mraise\u001b[0m \u001b[0mPy4JError\u001b[0m\u001b[0;34m(\u001b[0m\u001b[0mmessage\u001b[0m\u001b[0;34m)\u001b[0m\u001b[0;34m\u001b[0m\u001b[0;34m\u001b[0m\u001b[0m\n\u001b[0m\u001b[1;32m   1726\u001b[0m \u001b[0;34m\u001b[0m\u001b[0m\n",
      "\u001b[0;31mPy4JError\u001b[0m: py4j does not exist in the JVM",
      "\nDuring handling of the above exception, another exception occurred:\n",
      "\u001b[0;31mConnectionRefusedError\u001b[0m                    Traceback (most recent call last)",
      "\u001b[0;32m/tmp/ipykernel_59477/3047846701.py\u001b[0m in \u001b[0;36m<module>\u001b[0;34m\u001b[0m\n\u001b[0;32m----> 1\u001b[0;31m \u001b[0mdf\u001b[0m \u001b[0;34m=\u001b[0m \u001b[0mdf_may_2019\u001b[0m\u001b[0;34m.\u001b[0m\u001b[0mtoPandas\u001b[0m\u001b[0;34m(\u001b[0m\u001b[0;34m)\u001b[0m\u001b[0;34m\u001b[0m\u001b[0;34m\u001b[0m\u001b[0m\n\u001b[0m\u001b[1;32m      2\u001b[0m \u001b[0;34m\u001b[0m\u001b[0m\n\u001b[1;32m      3\u001b[0m \u001b[0;31m# Plot the breakdown of trip distance\u001b[0m\u001b[0;34m\u001b[0m\u001b[0;34m\u001b[0m\u001b[0m\n\u001b[1;32m      4\u001b[0m \u001b[0mplt\u001b[0m\u001b[0;34m.\u001b[0m\u001b[0mfigure\u001b[0m\u001b[0;34m(\u001b[0m\u001b[0mfigsize\u001b[0m\u001b[0;34m=\u001b[0m\u001b[0;34m(\u001b[0m\u001b[0;36m8\u001b[0m\u001b[0;34m,\u001b[0m \u001b[0;36m6\u001b[0m\u001b[0;34m)\u001b[0m\u001b[0;34m)\u001b[0m\u001b[0;34m\u001b[0m\u001b[0;34m\u001b[0m\u001b[0m\n\u001b[1;32m      5\u001b[0m \u001b[0msns\u001b[0m\u001b[0;34m.\u001b[0m\u001b[0mbarplot\u001b[0m\u001b[0;34m(\u001b[0m\u001b[0mx\u001b[0m\u001b[0;34m=\u001b[0m\u001b[0;34m'pickup_day_of_week'\u001b[0m\u001b[0;34m,\u001b[0m \u001b[0my\u001b[0m\u001b[0;34m=\u001b[0m\u001b[0;34m'avg_distance'\u001b[0m\u001b[0;34m,\u001b[0m \u001b[0mdata\u001b[0m\u001b[0;34m=\u001b[0m\u001b[0mdf\u001b[0m\u001b[0;34m)\u001b[0m\u001b[0;34m\u001b[0m\u001b[0;34m\u001b[0m\u001b[0m\n",
      "\u001b[0;32m~/.local/lib/python3.10/site-packages/pyspark/sql/pandas/conversion.py\u001b[0m in \u001b[0;36mtoPandas\u001b[0;34m(self)\u001b[0m\n\u001b[1;32m    206\u001b[0m \u001b[0;34m\u001b[0m\u001b[0m\n\u001b[1;32m    207\u001b[0m         \u001b[0;31m# Below is toPandas without Arrow optimization.\u001b[0m\u001b[0;34m\u001b[0m\u001b[0;34m\u001b[0m\u001b[0m\n\u001b[0;32m--> 208\u001b[0;31m         \u001b[0mpdf\u001b[0m \u001b[0;34m=\u001b[0m \u001b[0mpd\u001b[0m\u001b[0;34m.\u001b[0m\u001b[0mDataFrame\u001b[0m\u001b[0;34m.\u001b[0m\u001b[0mfrom_records\u001b[0m\u001b[0;34m(\u001b[0m\u001b[0mself\u001b[0m\u001b[0;34m.\u001b[0m\u001b[0mcollect\u001b[0m\u001b[0;34m(\u001b[0m\u001b[0;34m)\u001b[0m\u001b[0;34m,\u001b[0m \u001b[0mcolumns\u001b[0m\u001b[0;34m=\u001b[0m\u001b[0mself\u001b[0m\u001b[0;34m.\u001b[0m\u001b[0mcolumns\u001b[0m\u001b[0;34m)\u001b[0m\u001b[0;34m\u001b[0m\u001b[0;34m\u001b[0m\u001b[0m\n\u001b[0m\u001b[1;32m    209\u001b[0m         \u001b[0mcolumn_counter\u001b[0m \u001b[0;34m=\u001b[0m \u001b[0mCounter\u001b[0m\u001b[0;34m(\u001b[0m\u001b[0mself\u001b[0m\u001b[0;34m.\u001b[0m\u001b[0mcolumns\u001b[0m\u001b[0;34m)\u001b[0m\u001b[0;34m\u001b[0m\u001b[0;34m\u001b[0m\u001b[0m\n\u001b[1;32m    210\u001b[0m \u001b[0;34m\u001b[0m\u001b[0m\n",
      "\u001b[0;32m~/.local/lib/python3.10/site-packages/pyspark/sql/dataframe.py\u001b[0m in \u001b[0;36mcollect\u001b[0;34m(self)\u001b[0m\n\u001b[1;32m   1213\u001b[0m         \u001b[0;34m[\u001b[0m\u001b[0mRow\u001b[0m\u001b[0;34m(\u001b[0m\u001b[0mage\u001b[0m\u001b[0;34m=\u001b[0m\u001b[0;36m14\u001b[0m\u001b[0;34m,\u001b[0m \u001b[0mname\u001b[0m\u001b[0;34m=\u001b[0m\u001b[0;34m'Tom'\u001b[0m\u001b[0;34m)\u001b[0m\u001b[0;34m,\u001b[0m \u001b[0mRow\u001b[0m\u001b[0;34m(\u001b[0m\u001b[0mage\u001b[0m\u001b[0;34m=\u001b[0m\u001b[0;36m23\u001b[0m\u001b[0;34m,\u001b[0m \u001b[0mname\u001b[0m\u001b[0;34m=\u001b[0m\u001b[0;34m'Alice'\u001b[0m\u001b[0;34m)\u001b[0m\u001b[0;34m,\u001b[0m \u001b[0mRow\u001b[0m\u001b[0;34m(\u001b[0m\u001b[0mage\u001b[0m\u001b[0;34m=\u001b[0m\u001b[0;36m16\u001b[0m\u001b[0;34m,\u001b[0m \u001b[0mname\u001b[0m\u001b[0;34m=\u001b[0m\u001b[0;34m'Bob'\u001b[0m\u001b[0;34m)\u001b[0m\u001b[0;34m]\u001b[0m\u001b[0;34m\u001b[0m\u001b[0;34m\u001b[0m\u001b[0m\n\u001b[1;32m   1214\u001b[0m         \"\"\"\n\u001b[0;32m-> 1215\u001b[0;31m         \u001b[0;32mwith\u001b[0m \u001b[0mSCCallSiteSync\u001b[0m\u001b[0;34m(\u001b[0m\u001b[0mself\u001b[0m\u001b[0;34m.\u001b[0m\u001b[0m_sc\u001b[0m\u001b[0;34m)\u001b[0m\u001b[0;34m:\u001b[0m\u001b[0;34m\u001b[0m\u001b[0;34m\u001b[0m\u001b[0m\n\u001b[0m\u001b[1;32m   1216\u001b[0m             \u001b[0msock_info\u001b[0m \u001b[0;34m=\u001b[0m \u001b[0mself\u001b[0m\u001b[0;34m.\u001b[0m\u001b[0m_jdf\u001b[0m\u001b[0;34m.\u001b[0m\u001b[0mcollectToPython\u001b[0m\u001b[0;34m(\u001b[0m\u001b[0;34m)\u001b[0m\u001b[0;34m\u001b[0m\u001b[0;34m\u001b[0m\u001b[0m\n\u001b[1;32m   1217\u001b[0m         \u001b[0;32mreturn\u001b[0m \u001b[0mlist\u001b[0m\u001b[0;34m(\u001b[0m\u001b[0m_load_from_socket\u001b[0m\u001b[0;34m(\u001b[0m\u001b[0msock_info\u001b[0m\u001b[0;34m,\u001b[0m \u001b[0mBatchedSerializer\u001b[0m\u001b[0;34m(\u001b[0m\u001b[0mCPickleSerializer\u001b[0m\u001b[0;34m(\u001b[0m\u001b[0;34m)\u001b[0m\u001b[0;34m)\u001b[0m\u001b[0;34m)\u001b[0m\u001b[0;34m)\u001b[0m\u001b[0;34m\u001b[0m\u001b[0;34m\u001b[0m\u001b[0m\n",
      "\u001b[0;32m~/.local/lib/python3.10/site-packages/pyspark/traceback_utils.py\u001b[0m in \u001b[0;36m__exit__\u001b[0;34m(self, type, value, tb)\u001b[0m\n\u001b[1;32m     79\u001b[0m         \u001b[0mSCCallSiteSync\u001b[0m\u001b[0;34m.\u001b[0m\u001b[0m_spark_stack_depth\u001b[0m \u001b[0;34m-=\u001b[0m \u001b[0;36m1\u001b[0m\u001b[0;34m\u001b[0m\u001b[0;34m\u001b[0m\u001b[0m\n\u001b[1;32m     80\u001b[0m         \u001b[0;32mif\u001b[0m \u001b[0mSCCallSiteSync\u001b[0m\u001b[0;34m.\u001b[0m\u001b[0m_spark_stack_depth\u001b[0m \u001b[0;34m==\u001b[0m \u001b[0;36m0\u001b[0m\u001b[0;34m:\u001b[0m\u001b[0;34m\u001b[0m\u001b[0;34m\u001b[0m\u001b[0m\n\u001b[0;32m---> 81\u001b[0;31m             \u001b[0mself\u001b[0m\u001b[0;34m.\u001b[0m\u001b[0m_context\u001b[0m\u001b[0;34m.\u001b[0m\u001b[0m_jsc\u001b[0m\u001b[0;34m.\u001b[0m\u001b[0msetCallSite\u001b[0m\u001b[0;34m(\u001b[0m\u001b[0;32mNone\u001b[0m\u001b[0;34m)\u001b[0m\u001b[0;34m\u001b[0m\u001b[0;34m\u001b[0m\u001b[0m\n\u001b[0m",
      "\u001b[0;32m~/.local/lib/python3.10/site-packages/py4j/java_gateway.py\u001b[0m in \u001b[0;36m__call__\u001b[0;34m(self, *args)\u001b[0m\n\u001b[1;32m   1319\u001b[0m             \u001b[0mproto\u001b[0m\u001b[0;34m.\u001b[0m\u001b[0mEND_COMMAND_PART\u001b[0m\u001b[0;34m\u001b[0m\u001b[0;34m\u001b[0m\u001b[0m\n\u001b[1;32m   1320\u001b[0m \u001b[0;34m\u001b[0m\u001b[0m\n\u001b[0;32m-> 1321\u001b[0;31m         \u001b[0manswer\u001b[0m \u001b[0;34m=\u001b[0m \u001b[0mself\u001b[0m\u001b[0;34m.\u001b[0m\u001b[0mgateway_client\u001b[0m\u001b[0;34m.\u001b[0m\u001b[0msend_command\u001b[0m\u001b[0;34m(\u001b[0m\u001b[0mcommand\u001b[0m\u001b[0;34m)\u001b[0m\u001b[0;34m\u001b[0m\u001b[0;34m\u001b[0m\u001b[0m\n\u001b[0m\u001b[1;32m   1322\u001b[0m         return_value = get_return_value(\n\u001b[1;32m   1323\u001b[0m             answer, self.gateway_client, self.target_id, self.name)\n",
      "\u001b[0;32m~/.local/lib/python3.10/site-packages/py4j/java_gateway.py\u001b[0m in \u001b[0;36msend_command\u001b[0;34m(self, command, retry, binary)\u001b[0m\n\u001b[1;32m   1034\u001b[0m          \u001b[0;32mif\u001b[0m\u001b[0;31m \u001b[0m\u001b[0;31m`\u001b[0m\u001b[0mbinary\u001b[0m\u001b[0;31m`\u001b[0m \u001b[0;32mis\u001b[0m\u001b[0;31m \u001b[0m\u001b[0;31m`\u001b[0m\u001b[0;32mTrue\u001b[0m\u001b[0;31m`\u001b[0m\u001b[0;34m.\u001b[0m\u001b[0;34m\u001b[0m\u001b[0;34m\u001b[0m\u001b[0m\n\u001b[1;32m   1035\u001b[0m         \"\"\"\n\u001b[0;32m-> 1036\u001b[0;31m         \u001b[0mconnection\u001b[0m \u001b[0;34m=\u001b[0m \u001b[0mself\u001b[0m\u001b[0;34m.\u001b[0m\u001b[0m_get_connection\u001b[0m\u001b[0;34m(\u001b[0m\u001b[0;34m)\u001b[0m\u001b[0;34m\u001b[0m\u001b[0;34m\u001b[0m\u001b[0m\n\u001b[0m\u001b[1;32m   1037\u001b[0m         \u001b[0;32mtry\u001b[0m\u001b[0;34m:\u001b[0m\u001b[0;34m\u001b[0m\u001b[0;34m\u001b[0m\u001b[0m\n\u001b[1;32m   1038\u001b[0m             \u001b[0mresponse\u001b[0m \u001b[0;34m=\u001b[0m \u001b[0mconnection\u001b[0m\u001b[0;34m.\u001b[0m\u001b[0msend_command\u001b[0m\u001b[0;34m(\u001b[0m\u001b[0mcommand\u001b[0m\u001b[0;34m)\u001b[0m\u001b[0;34m\u001b[0m\u001b[0;34m\u001b[0m\u001b[0m\n",
      "\u001b[0;32m~/.local/lib/python3.10/site-packages/py4j/clientserver.py\u001b[0m in \u001b[0;36m_get_connection\u001b[0;34m(self)\u001b[0m\n\u001b[1;32m    282\u001b[0m \u001b[0;34m\u001b[0m\u001b[0m\n\u001b[1;32m    283\u001b[0m         \u001b[0;32mif\u001b[0m \u001b[0mconnection\u001b[0m \u001b[0;32mis\u001b[0m \u001b[0;32mNone\u001b[0m \u001b[0;32mor\u001b[0m \u001b[0mconnection\u001b[0m\u001b[0;34m.\u001b[0m\u001b[0msocket\u001b[0m \u001b[0;32mis\u001b[0m \u001b[0;32mNone\u001b[0m\u001b[0;34m:\u001b[0m\u001b[0;34m\u001b[0m\u001b[0;34m\u001b[0m\u001b[0m\n\u001b[0;32m--> 284\u001b[0;31m             \u001b[0mconnection\u001b[0m \u001b[0;34m=\u001b[0m \u001b[0mself\u001b[0m\u001b[0;34m.\u001b[0m\u001b[0m_create_new_connection\u001b[0m\u001b[0;34m(\u001b[0m\u001b[0;34m)\u001b[0m\u001b[0;34m\u001b[0m\u001b[0;34m\u001b[0m\u001b[0m\n\u001b[0m\u001b[1;32m    285\u001b[0m         \u001b[0;32mreturn\u001b[0m \u001b[0mconnection\u001b[0m\u001b[0;34m\u001b[0m\u001b[0;34m\u001b[0m\u001b[0m\n\u001b[1;32m    286\u001b[0m \u001b[0;34m\u001b[0m\u001b[0m\n",
      "\u001b[0;32m~/.local/lib/python3.10/site-packages/py4j/clientserver.py\u001b[0m in \u001b[0;36m_create_new_connection\u001b[0;34m(self)\u001b[0m\n\u001b[1;32m    289\u001b[0m             \u001b[0mself\u001b[0m\u001b[0;34m.\u001b[0m\u001b[0mjava_parameters\u001b[0m\u001b[0;34m,\u001b[0m \u001b[0mself\u001b[0m\u001b[0;34m.\u001b[0m\u001b[0mpython_parameters\u001b[0m\u001b[0;34m,\u001b[0m\u001b[0;34m\u001b[0m\u001b[0;34m\u001b[0m\u001b[0m\n\u001b[1;32m    290\u001b[0m             self.gateway_property, self)\n\u001b[0;32m--> 291\u001b[0;31m         \u001b[0mconnection\u001b[0m\u001b[0;34m.\u001b[0m\u001b[0mconnect_to_java_server\u001b[0m\u001b[0;34m(\u001b[0m\u001b[0;34m)\u001b[0m\u001b[0;34m\u001b[0m\u001b[0;34m\u001b[0m\u001b[0m\n\u001b[0m\u001b[1;32m    292\u001b[0m         \u001b[0mself\u001b[0m\u001b[0;34m.\u001b[0m\u001b[0mset_thread_connection\u001b[0m\u001b[0;34m(\u001b[0m\u001b[0mconnection\u001b[0m\u001b[0;34m)\u001b[0m\u001b[0;34m\u001b[0m\u001b[0;34m\u001b[0m\u001b[0m\n\u001b[1;32m    293\u001b[0m         \u001b[0;32mreturn\u001b[0m \u001b[0mconnection\u001b[0m\u001b[0;34m\u001b[0m\u001b[0;34m\u001b[0m\u001b[0m\n",
      "\u001b[0;32m~/.local/lib/python3.10/site-packages/py4j/clientserver.py\u001b[0m in \u001b[0;36mconnect_to_java_server\u001b[0;34m(self)\u001b[0m\n\u001b[1;32m    436\u001b[0m                 self.socket = self.ssl_context.wrap_socket(\n\u001b[1;32m    437\u001b[0m                     self.socket, server_hostname=self.java_address)\n\u001b[0;32m--> 438\u001b[0;31m             \u001b[0mself\u001b[0m\u001b[0;34m.\u001b[0m\u001b[0msocket\u001b[0m\u001b[0;34m.\u001b[0m\u001b[0mconnect\u001b[0m\u001b[0;34m(\u001b[0m\u001b[0;34m(\u001b[0m\u001b[0mself\u001b[0m\u001b[0;34m.\u001b[0m\u001b[0mjava_address\u001b[0m\u001b[0;34m,\u001b[0m \u001b[0mself\u001b[0m\u001b[0;34m.\u001b[0m\u001b[0mjava_port\u001b[0m\u001b[0;34m)\u001b[0m\u001b[0;34m)\u001b[0m\u001b[0;34m\u001b[0m\u001b[0;34m\u001b[0m\u001b[0m\n\u001b[0m\u001b[1;32m    439\u001b[0m             \u001b[0mself\u001b[0m\u001b[0;34m.\u001b[0m\u001b[0mstream\u001b[0m \u001b[0;34m=\u001b[0m \u001b[0mself\u001b[0m\u001b[0;34m.\u001b[0m\u001b[0msocket\u001b[0m\u001b[0;34m.\u001b[0m\u001b[0mmakefile\u001b[0m\u001b[0;34m(\u001b[0m\u001b[0;34m\"rb\"\u001b[0m\u001b[0;34m)\u001b[0m\u001b[0;34m\u001b[0m\u001b[0;34m\u001b[0m\u001b[0m\n\u001b[1;32m    440\u001b[0m             \u001b[0mself\u001b[0m\u001b[0;34m.\u001b[0m\u001b[0mis_connected\u001b[0m \u001b[0;34m=\u001b[0m \u001b[0;32mTrue\u001b[0m\u001b[0;34m\u001b[0m\u001b[0;34m\u001b[0m\u001b[0m\n",
      "\u001b[0;31mConnectionRefusedError\u001b[0m: [Errno 111] Connection refused"
     ]
    }
   ],
   "source": [
    "df = df_may_2019.toPandas()\n",
    "\n",
    "# Plot the breakdown of trip distance\n",
    "plt.figure(figsize=(8, 6))\n",
    "sns.barplot(x='pickup_day_of_week', y='avg_distance', data=df)\n",
    "plt.xlabel('Day of Week')\n",
    "plt.ylabel('Average Trip Distance')\n",
    "plt.title('Breakdown of Trip Distance by Day of Week')\n",
    "plt.show()"
   ]
  },
  {
   "cell_type": "markdown",
   "id": "7455cabb",
   "metadata": {},
   "source": [
    "Filter and cache/persist the result: **July of 2020**"
   ]
  },
  {
   "cell_type": "code",
   "execution_count": null,
   "id": "537bf36f",
   "metadata": {},
   "outputs": [],
   "source": []
  },
  {
   "cell_type": "markdown",
   "id": "796bb8b9",
   "metadata": {},
   "source": [
    "Filter and cache/persist the result: **Septembre of 2021**"
   ]
  },
  {
   "cell_type": "code",
   "execution_count": null,
   "id": "2f0b8f5d",
   "metadata": {},
   "outputs": [],
   "source": []
  },
  {
   "cell_type": "markdown",
   "id": "5a72ec64",
   "metadata": {},
   "source": [
    "Filter and cache/persist the result: **February of 2022**"
   ]
  },
  {
   "cell_type": "code",
   "execution_count": null,
   "id": "cbf4b355",
   "metadata": {},
   "outputs": [],
   "source": []
  },
  {
   "cell_type": "markdown",
   "id": "d105249c",
   "metadata": {},
   "source": [
    "1. The number of pickups"
   ]
  },
  {
   "cell_type": "code",
   "execution_count": 20,
   "id": "f6124e55",
   "metadata": {},
   "outputs": [],
   "source": [
    "counts_pickup = df_yel_filtered.groupby(dayofweek('tpep_pickup_datetime').alias('pickup_day'),\n",
    "                             hour('tpep_pickup_datetime').alias('pickup_hour')).count()"
   ]
  },
  {
   "cell_type": "markdown",
   "id": "b377b6e4",
   "metadata": {},
   "source": [
    "2. The average fare"
   ]
  },
  {
   "cell_type": "code",
   "execution_count": 21,
   "id": "ff45a60a",
   "metadata": {},
   "outputs": [],
   "source": [
    "avg_fare = df_yel_filtered.groupby(dayofweek('tpep_pickup_datetime').alias('pickup_day'),\n",
    "                        hour('tpep_pickup_datetime').alias('pickup_hour')).avg('fare_amount')\n"
   ]
  },
  {
   "cell_type": "markdown",
   "id": "dba92812",
   "metadata": {},
   "source": [
    "3. The average trip duration"
   ]
  },
  {
   "cell_type": "code",
   "execution_count": 22,
   "id": "463cebfe",
   "metadata": {},
   "outputs": [],
   "source": [
    "avg_trip_duration = df_yel_filtered.groupby(dayofweek('tpep_pickup_datetime').alias('pickup_day'), \n",
    "                            hour('tpep_pickup_datetime').alias('pickup_hour')).avg('trip_distance')"
   ]
  },
  {
   "cell_type": "markdown",
   "id": "cf861feb",
   "metadata": {},
   "source": [
    "4. Plot the average of ongoing trips"
   ]
  },
  {
   "cell_type": "code",
   "execution_count": 37,
   "id": "bb92ef4d",
   "metadata": {},
   "outputs": [
    {
     "data": {
      "image/png": "[encoded data removed]",
      "text/plain": [
       "<Figure size 1000x600 with 1 Axes>"
      ]
     },
     "metadata": {},
     "output_type": "display_data"
    }
   ],
   "source": [
    "# convert into pandas dataframe\n",
    "df_yel_filtered = df_yel_filtered\n",
    "\n",
    "# Calculate the duration of each trip by subtracting the pickup datetime \n",
    "# from the dropoff datetime to get the trip duration in seconds.\n",
    "\n",
    "df_yel_filtered['trip_duration'] = (df_yel_filtered['tpep_dropoff_datetime'] - \n",
    "                                    df_yel_filtered['tpep_pickup_datetime']).dt.total_seconds()\n",
    "\n",
    "# Group the data by the desired time interval and calculate the average trip duration for each interval.\n",
    "\n",
    "average_trip_duration = df_yel_filtered.groupby(df_yel_filtered['tpep_pickup_datetime'].dt.hour)['trip_duration'].mean()\n",
    "\n",
    "# the plot\n",
    "plt.figure(figsize=(10, 6)) \n",
    "plt.bar(average_trip_duration.index, average_trip_duration.values)\n",
    "plt.xlabel('Hour')\n",
    "plt.ylabel('Average Trip Duration (seconds)')\n",
    "plt.title('Average Trip Duration by Hour')\n",
    "plt.xticks(average_trip_duration.index)\n",
    "plt.grid(True) \n",
    "plt.show()\n"
   ]
  },
  {
   "cell_type": "code",
   "execution_count": null,
   "id": "4ed677a4",
   "metadata": {},
   "outputs": [],
   "source": []
  }
 ],
 "metadata": {
  "kernelspec": {
   "display_name": "Python 3 (ipykernel)",
   "language": "python",
   "name": "python3"
  },
  "language_info": {
   "codemirror_mode": {
    "name": "ipython",
    "version": 3
   },
   "file_extension": ".py",
   "mimetype": "text/x-python",
   "name": "python",
   "nbconvert_exporter": "python",
   "pygments_lexer": "ipython3",
   "version": "3.10.6"
  }
 },
 "nbformat": 4,
 "nbformat_minor": 5
}
