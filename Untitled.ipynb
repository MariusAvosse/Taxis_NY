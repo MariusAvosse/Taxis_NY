{
 "cells": [
  {
   "cell_type": "code",
   "execution_count": null,
   "id": "65361999",
   "metadata": {},
   "outputs": [],
   "source": [
    "import os\n",
    "import sys\n",
    "from pyspark.sql import SparkSession\n",
    "import pyspark.sql\n",
    "\n",
    "spark = (SparkSession\n",
    "        .builder\n",
    "        .appName(\"BIG DATA PROJECT\")\n",
    "        .getOrCreate()\n",
    "        )"
   ]
  },
  {
   "cell_type": "code",
   "execution_count": null,
   "id": "a221b490",
   "metadata": {},
   "outputs": [],
   "source": [
    "#!pip install geojson geopandas plotly"
   ]
  },
  {
   "cell_type": "code",
   "execution_count": null,
   "id": "9a479fa9",
   "metadata": {},
   "outputs": [],
   "source": [
    "#!pip install ipyleaflet\n"
   ]
  },
  {
   "cell_type": "markdown",
   "id": "6eb14146",
   "metadata": {},
   "source": [
    "## New York taxis trips"
   ]
  },
  {
   "cell_type": "code",
   "execution_count": null,
   "id": "44717bc9",
   "metadata": {},
   "outputs": [],
   "source": [
    "# import all the packages we need\n",
    "import geopandas as gpd\n",
    "import plotly.graph_objects as go\n",
    "import pandas as pd\n",
    "from plotly.subplots import make_subplots\n",
    "import plotly.express as px\n",
    "from pyspark.sql.functions import *\n",
    "import seaborn as sns\n",
    "import matplotlib.pyplot as plt\n",
    "\n",
    "# read the parquet file\n",
    "df_yel= spark.read.parquet(\"/home/marius/Téléchargements/yellow_tripdata_2019-03.parquet\")\n",
    "df_fhv= spark.read.parquet(\"/home/marius/Téléchargements/fhv_tripdata_2019-03.parquet\")\n",
    "\n",
    "df_zones = gpd.read_file(\"/home/marius/Téléchargements/taxi_zones/taxi_zones.shp\")\n",
    "\n",
    "\n",
    "df_yel.columns\n",
    "#df_fhv.columns\n",
    "#df_yel.show()\n",
    "#df_fhv.show()\n",
    "\n",
    "df_zones\n"
   ]
  },
  {
   "cell_type": "markdown",
   "id": "293f42e2",
   "metadata": {},
   "source": [
    "## Using data as parquet files"
   ]
  },
  {
   "cell_type": "markdown",
   "id": "fed25f70",
   "metadata": {},
   "source": [
    "1. What is the number of partitions of the dataframe?"
   ]
  },
  {
   "cell_type": "code",
   "execution_count": null,
   "id": "1eae547d",
   "metadata": {},
   "outputs": [],
   "source": [
    "# for yellow taxis\n",
    "num_partitions_yel = df_yel.rdd.getNumPartitions()\n",
    "num_partitions_yel"
   ]
  },
  {
   "cell_type": "code",
   "execution_count": null,
   "id": "680e9240",
   "metadata": {},
   "outputs": [],
   "source": [
    "# for fhv taxis\n",
    "num_partitions_fhv = df_fhv.rdd.getNumPartitions()\n",
    "num_partitions_fhv"
   ]
  },
  {
   "cell_type": "code",
   "execution_count": null,
   "id": "98b31d57",
   "metadata": {},
   "outputs": [],
   "source": [
    "# Dropping na values \n",
    "df_yel.na.drop()\n",
    "df_fhv.na.drop()"
   ]
  },
  {
   "cell_type": "code",
   "execution_count": null,
   "id": "92bc9d9f",
   "metadata": {},
   "outputs": [],
   "source": [
    "# for yellow taxis\n",
    "df_yel.show()\n"
   ]
  },
  {
   "cell_type": "code",
   "execution_count": null,
   "id": "de3503e9",
   "metadata": {},
   "outputs": [],
   "source": [
    "# for fhv taxis\n",
    "df_fhv.show()"
   ]
  },
  {
   "cell_type": "markdown",
   "id": "9205b892",
   "metadata": {},
   "source": [
    "## Investigate (at least) one month of data in 2019"
   ]
  },
  {
   "cell_type": "markdown",
   "id": "bf871092",
   "metadata": {},
   "source": [
    "1. Using these boundaries, filter the 2019 data (using pickup and dropoff longitude and\n",
    "latitude) and count the number of trips for each value of passenger_count and make a\n",
    "plot of that."
   ]
  },
  {
   "cell_type": "code",
   "execution_count": null,
   "id": "ec479a99",
   "metadata": {},
   "outputs": [],
   "source": [
    "  \n",
    "# Return Centroid as crs code of 3310 for calcuating distance in meters.\n",
    "     \n",
    "df_zones[\"centroid\"] = df_zones.geometry.centroid.to_crs(epsg=3310)\n",
    "    \n",
    "# Convert cordinates to the WSG84 lat/long CRS has a EPSG code of 4326.\n",
    "df_zones[\"latitude\"] = df_zones.centroid.to_crs(epsg=4326).y\n",
    "df_zones[\"longitude\"] = df_zones.centroid.to_crs(epsg=4326).x\n",
    "df_zones =df_zones[['LocationID','latitude','longitude','zone','borough']]\n",
    "\n",
    "#convert dataframe zones to spark dataframe \n",
    "df_zones=spark.createDataFrame(df_zones)\n",
    "\n",
    "\n",
    "df_zones.show()"
   ]
  },
  {
   "cell_type": "code",
   "execution_count": null,
   "id": "4245dd1d",
   "metadata": {},
   "outputs": [],
   "source": [
    "# rename columns\n",
    "def renameColumns(df, old_columns, new_columns):\n",
    "    \n",
    "    for old_col, new_col in zip(old_columns,new_columns):\n",
    "        df = df.withColumnRenamed(old_col,new_col)\n",
    "    return df\n",
    "\n",
    "def renameFullColumns(df):\n",
    "    old_columns = ['LocationID','latitude','longitude','zone','borough']\n",
    "    new_columns_pickup = ['DOLocationID', 'pickup_latitude','pickup_longitude',\n",
    "                          'zones_pickup_location','borough_pickup_location']\n",
    "    new_columns_dropoff = ['PULocationID', 'dropoff_latitude','dropoff_longitude',\n",
    "                           'zones_dropoff_location','borough_dropoff_location']\n",
    "    zones_pickup = renameColumns(df, old_columns, new_columns_pickup)\n",
    "    zones_dropoff = renameColumns(df, old_columns, new_columns_dropoff)\n",
    "    return zones_pickup, zones_dropoff\n",
    "\n",
    "# Join trips data with df_zones in order to have longitudes and latitudes\n",
    "def joinDataframes(df,zones_pickup, zones_dropoff):\n",
    "    df=df.join(zones_pickup,['DOLocationID'])\n",
    "    df=df.join(zones_dropoff,['PULocationID'])\n",
    "    return df\n",
    "\n",
    "df_zones.show\n",
    "\n",
    "zones_pickup , zones_dropoff = renameFullColumns(df_zones)"
   ]
  },
  {
   "cell_type": "code",
   "execution_count": null,
   "id": "256eac0e",
   "metadata": {},
   "outputs": [],
   "source": [
    "# for yellow taxis\n",
    "full_data_yel = joinDataframes(df_yel, zones_pickup, zones_dropoff)\n",
    "full_data_yel.show()"
   ]
  },
  {
   "cell_type": "code",
   "execution_count": null,
   "id": "d9149dfd",
   "metadata": {},
   "outputs": [],
   "source": [
    "# for fhv taxis\n",
    "full_data_fhv = joinDataframes(df_fhv, zones_pickup, zones_dropoff)\n",
    "full_data_fhv.show()"
   ]
  },
  {
   "cell_type": "code",
   "execution_count": null,
   "id": "2a306a6e",
   "metadata": {},
   "outputs": [],
   "source": [
    "\n",
    "def filterData(df):\n",
    "    return df[(df['pickup_latitude'] >= 40.58) & \n",
    "                  (df['pickup_latitude'] <= 40.90) & \n",
    "                  (df['dropoff_latitude'] >= 40.58) & \n",
    "                  (df['dropoff_latitude'] <= 40.90) & \n",
    "                  (df['pickup_longitude'] >= -74.10) & \n",
    "                  (df['pickup_longitude'] <= -73.70) & \n",
    "                  (df['dropoff_longitude'] >= -74.10) & \n",
    "                  (df['dropoff_longitude'] <= -73.70)]\n"
   ]
  },
  {
   "cell_type": "code",
   "execution_count": null,
   "id": "f2c42c53",
   "metadata": {},
   "outputs": [],
   "source": [
    "# for yellow taxis\n",
    "df_yel_filtered = filterData(full_data_yel)\n",
    "df_yel_filtered.show()"
   ]
  },
  {
   "cell_type": "code",
   "execution_count": null,
   "id": "876d211c",
   "metadata": {},
   "outputs": [],
   "source": [
    "# for fhv taxis\n",
    "df_fhv_filtered = filterData(full_data_fhv)\n",
    "df_fhv_filtered.show()"
   ]
  },
  {
   "cell_type": "markdown",
   "id": "5cd3eace",
   "metadata": {},
   "source": [
    "count the number of trips for each value of passenger_count"
   ]
  },
  {
   "cell_type": "code",
   "execution_count": null,
   "id": "43ad8363",
   "metadata": {},
   "outputs": [],
   "source": [
    "#  Count the number of trips for each value of passenger_count\n",
    "# for yellow taxis\n",
    "df_passenger=df_yel_filtered.groupby('passenger_count').count()"
   ]
  },
  {
   "cell_type": "markdown",
   "id": "2ab004fc",
   "metadata": {},
   "source": [
    "Plot the trip counts"
   ]
  },
  {
   "cell_type": "code",
   "execution_count": null,
   "id": "70b7479d",
   "metadata": {},
   "outputs": [],
   "source": [
    "\n",
    "# Plot the trip counts\n",
    "df_passenger_pd = df_passenger.toPandas() #transform to pandas dataframe for plot\n",
    "plt.bar(df_passenger_pd[\"passenger_count\"], df_passenger_pd[\"count\"])\n",
    "plt.xlabel(\"Passenger Count\")\n",
    "plt.ylabel(\"Number of Trips\")\n",
    "plt.title(\"Number of Trips by Passenger Count\")\n",
    "plt.show()"
   ]
  },
  {
   "cell_type": "markdown",
   "id": "b70a4554",
   "metadata": {},
   "source": [
    "1. What’s special with trips with zero passengers?"
   ]
  },
  {
   "cell_type": "code",
   "execution_count": null,
   "id": "df75f6be",
   "metadata": {},
   "outputs": [],
   "source": [
    "# Filter the data for trips with zero passengers\n",
    "zero_passenger_data = df_yel_filtered.filter(col(\"passenger_count\") == 0)"
   ]
  },
  {
   "cell_type": "markdown",
   "id": "0bf23bd2",
   "metadata": {},
   "source": [
    "2. What’s special with trips with more than 6 passengers?\n"
   ]
  },
  {
   "cell_type": "code",
   "execution_count": null,
   "id": "151a9042",
   "metadata": {},
   "outputs": [],
   "source": [
    "more_passenger_data = df_yel_filtered.filter(col(\"passenger_count\") > 6)"
   ]
  },
  {
   "cell_type": "markdown",
   "id": "6cc9852d",
   "metadata": {},
   "source": [
    "3. What is the largest distance travelled during this month? Is it the first taxi on the moon?"
   ]
  },
  {
   "cell_type": "code",
   "execution_count": null,
   "id": "9f6a2ed2",
   "metadata": {},
   "outputs": [],
   "source": [
    "max_distance = df_yel_filtered.selectExpr(\"MAX(trip_distance) AS max_distance\").collect()[0][\"max_distance\"]\n",
    "print(\"The largest distance travelled during this month is: \" ,max_distance, \"milles\")"
   ]
  },
  {
   "cell_type": "markdown",
   "id": "acadbbb3",
   "metadata": {},
   "source": [
    "4. Plot the distribution of the trip_distance (using an histogram for instance) during year 2019. Focus on trips with non-zero trip distance and trip distance less than 30 miles."
   ]
  },
  {
   "cell_type": "code",
   "execution_count": null,
   "id": "2b20ee8d",
   "metadata": {},
   "outputs": [],
   "source": [
    "# Filter the data for non-zero trip distances less than 30 miles\n",
    "yel_filtered_data = df_yel_filtered.filter((col(\"trip_distance\") > 0) & (col(\"trip_distance\") < 30))\n",
    "\n",
    "# Convert the filtered data to a Pandas DataFrame for plotting\n",
    "yel_filtered_data = yel_filtered_data.select(\"trip_distance\").toPandas()\n",
    "\n",
    "# Plot the distribution of trip distances\n",
    "plt.hist(yel_filtered_data[\"trip_distance\"], bins=30, edgecolor=\"black\")\n",
    "plt.xlabel(\"Trip Distance (miles)\")\n",
    "plt.ylabel(\"Frequency\")\n",
    "plt.title(\"Distribution of Trip Distances (2019)\")\n",
    "plt.show()"
   ]
  },
  {
   "cell_type": "markdown",
   "id": "05c1c732",
   "metadata": {},
   "source": [
    "1. Use the explain method or have a look at the Spark UI to analyze the job."
   ]
  },
  {
   "cell_type": "code",
   "execution_count": null,
   "id": "c3b810f0",
   "metadata": {},
   "outputs": [],
   "source": [
    "df_yel_filtered.explain(True)"
   ]
  },
  {
   "cell_type": "markdown",
   "id": "ebdcb500",
   "metadata": {},
   "source": [
    "2. Compare the Analyzed Logical Plan and Optimized Logical Plan: \n",
    "Analyzed Logical Plan: This plan represents the logical operations after the analysis phase, where Spark resolves references, applies type checking, and performs other logical optimizations. Optimized Logical Plan: This plan represents the logical operations after further optimization, such as predicate pushdown, column pruning, or constant folding.\n"
   ]
  },
  {
   "cell_type": "markdown",
   "id": "9541da4e",
   "metadata": {},
   "source": [
    "3. Compare the Physical Plan with the Optimized Logical Plan: Physical Plan: This plan describes the actual execution strategy that Spark will use to process the query. It includes details about how the data will be read, transformed, and distributed across the worker nodes. 3-2. Keywords and concepts in the Physical Plan that you would not expect in an RDBMS include: Shuffle: This keyword indicates data shuffling, which involves redistributing data across partitions or nodes, often required for operations like joins or aggregations. Exchange: This keyword represents the exchange of data between partitions or nodes. Sort: This keyword indicates sorting operations performed during the query execution. Broadcast: This keyword represents the broadcasting of small data to all worker nodes, typically used in join operations. Code generation: This indicates that Spark generates code dynamically for specific operations to improve performance. In an RDBMS, the physical plan might involve index scans, table scans, join algorithms, and disk-based operations. The specific keywords and concepts may vary depending on the RDBMS implementation."
   ]
  },
  {
   "cell_type": "markdown",
   "id": "5ec1116b",
   "metadata": {},
   "source": [
    "4. Tasks in Spark refer to the individual units of work performed on the data. Each task processes a subset of the data and is executed on a single partition of a stage. The number of tasks within each stage may vary depending on the size of the data and the available resources. You can find the number of tasks for each stage in the Spark UI under the \"Stages\" tab."
   ]
  },
  {
   "cell_type": "markdown",
   "id": "13f4d24e",
   "metadata": {},
   "source": [
    "1. Break down the trip distance distribution for each day of week"
   ]
  },
  {
   "cell_type": "code",
   "execution_count": null,
   "id": "4f9613ad",
   "metadata": {},
   "outputs": [],
   "source": [
    "# Extract the day of the week from the pickup datetime\n",
    "df_with_day_of_week = df_yel_filtered.withColumn('pickup_day_of_week', dayofweek('tpep_pickup_datetime'))\n",
    "\n",
    "# Group by day of the week and calculate the distribution of trip distances\n",
    "distance_breakdown = df_with_day_of_week.groupBy('pickup_day_of_week').agg(mean('trip_distance').alias('avg_distance'))\n",
    "\n",
    "# Convert the result to a Pandas DataFrame for plotting\n",
    "distance_breakdown_pd = distance_breakdown.toPandas()\n",
    "\n",
    "# Plot the breakdown of trip distance\n",
    "plt.figure(figsize=(8, 6))\n",
    "sns.barplot(x='pickup_day_of_week', y='avg_distance', data=distance_breakdown_pd)\n",
    "plt.xlabel('Day of Week')\n",
    "plt.ylabel('Average Trip Distance')\n",
    "plt.title('Breakdown of Trip Distance by Day of Week')\n",
    "plt.show()"
   ]
  },
  {
   "cell_type": "markdown",
   "id": "d77979f7",
   "metadata": {},
   "source": [
    "2. Count the number of distinct pickup location"
   ]
  },
  {
   "cell_type": "code",
   "execution_count": null,
   "id": "a6f1e6ec",
   "metadata": {},
   "outputs": [],
   "source": [
    "distinct_pickup_locations = df_yel_filtered.select('PUlocationID').distinct().count()\n",
    "print(\"Number of distinct pickup locations:\", distinct_pickup_locations)"
   ]
  },
  {
   "cell_type": "markdown",
   "id": "976c03cd",
   "metadata": {},
   "source": [
    "3. Compute and display tips and profits as a function of the pickup location"
   ]
  },
  {
   "cell_type": "code",
   "execution_count": null,
   "id": "6bc8ec16",
   "metadata": {},
   "outputs": [],
   "source": [
    "tips_profits_by_location = df_yel_filtered.groupBy('PUlocationID').agg(sum('tip_amount').alias('total_tips'),\n",
    "                                                          sum('extra').alias('total_profits'))\n",
    "\n",
    "# Display the results\n",
    "tips_profits_by_location.show()"
   ]
  },
  {
   "cell_type": "markdown",
   "id": "a13ab013",
   "metadata": {},
   "source": [
    "## Investigate one month of trips data in 2019, 2020, 2021, 2022"
   ]
  },
  {
   "cell_type": "markdown",
   "id": "66354ce0",
   "metadata": {},
   "source": [
    "## For year 2020"
   ]
  },
  {
   "cell_type": "code",
   "execution_count": null,
   "id": "c25db197",
   "metadata": {},
   "outputs": [],
   "source": [
    "# Read the data\n",
    "df_yel_2020 = spark.read.parquet(\"/home/marius/Téléchargements/yellow_tripdata_2020-08.parquet\")\n",
    "df_fhv_2020 = spark.read.parquet(\"/home/marius/Téléchargements/fhv_tripdata_2020-08.parquet\")"
   ]
  },
  {
   "cell_type": "code",
   "execution_count": null,
   "id": "8d5afe6a",
   "metadata": {},
   "outputs": [],
   "source": [
    "# Dropping na values \n",
    "df_yel_2020.na.drop()\n",
    "df_fhv_2020.na.drop()"
   ]
  },
  {
   "cell_type": "code",
   "execution_count": null,
   "id": "e6c94f38",
   "metadata": {},
   "outputs": [],
   "source": [
    "# for yellow taxis\n",
    "full_data_yel_2020 = joinDataframes(df_yel_2020, zones_pickup, zones_dropoff)\n",
    "full_data_yel_2020.show()"
   ]
  },
  {
   "cell_type": "code",
   "execution_count": null,
   "id": "376b226f",
   "metadata": {},
   "outputs": [],
   "source": [
    "# for fhv taxis\n",
    "full_data_fhv_2020 = joinDataframes(df_fhv_2020, zones_pickup, zones_dropoff)\n",
    "full_data_fhv_2020.show()"
   ]
  },
  {
   "cell_type": "code",
   "execution_count": null,
   "id": "7e4c01b8",
   "metadata": {},
   "outputs": [],
   "source": [
    "# for yellow taxis\n",
    "df_yel_filtered_2020 = filterData(full_data_yel_2020)\n",
    "df_yel_filtered_2020.show()"
   ]
  },
  {
   "cell_type": "code",
   "execution_count": null,
   "id": "a3540bfa",
   "metadata": {},
   "outputs": [],
   "source": [
    "# for fhv taxis\n",
    "df_fhv_filtered_2020 = filterData(full_data_fhv_2020)\n",
    "df_fhv_filtered_2020.show()"
   ]
  },
  {
   "cell_type": "code",
   "execution_count": null,
   "id": "b0689dad",
   "metadata": {},
   "outputs": [],
   "source": [
    "# for yellow taxis\n",
    "df_yel_filtered_2020.show()"
   ]
  },
  {
   "cell_type": "code",
   "execution_count": null,
   "id": "1ad6509a",
   "metadata": {},
   "outputs": [],
   "source": [
    "# for fhv taxis\n",
    "df_fhv_filtered_2020.show()"
   ]
  },
  {
   "cell_type": "markdown",
   "id": "61e6d373",
   "metadata": {},
   "source": [
    "1. Filter and cache/persist the result"
   ]
  },
  {
   "cell_type": "code",
   "execution_count": null,
   "id": "ddd46ad6",
   "metadata": {},
   "outputs": [],
   "source": [
    "# for yellow taxis\n",
    "df_yel_filtered_2020 = df_yel_2020.cache()\n",
    "\n",
    "# for fhv taxis\n",
    "df_fhv_filtered_2020 = df_fhv_2020.cache()"
   ]
  },
  {
   "cell_type": "markdown",
   "id": "8bed59a2",
   "metadata": {},
   "source": [
    "## Assessing seasonalities and looking at time series"
   ]
  },
  {
   "cell_type": "markdown",
   "id": "97db9fc3",
   "metadata": {},
   "source": [
    "1. The number of pickups"
   ]
  },
  {
   "cell_type": "code",
   "execution_count": null,
   "id": "88561b97",
   "metadata": {},
   "outputs": [],
   "source": [
    "# for yellow taxis\n",
    "counts_pickup_yel_2020 = df_yel_filtered_2020.groupby(dayofweek('tpep_pickup_datetime').alias('pickup_day'),\n",
    "                             hour('tpep_pickup_datetime').alias('pickup_hour')).count()\n",
    "#display the result\n"
   ]
  },
  {
   "cell_type": "code",
   "execution_count": null,
   "id": "a93c598e",
   "metadata": {},
   "outputs": [],
   "source": [
    "# for fhv taxis\n",
    "counts_pickup_fhv_2020 = df_fhv_filtered_2020.groupby(dayofweek('pickup_datetime').alias('pickup_day'),\n",
    "                             hour('pickup_datetime').alias('pickup_hour')).count()\n",
    "#display the result"
   ]
  },
  {
   "cell_type": "markdown",
   "id": "355c23fd",
   "metadata": {},
   "source": [
    "2. The average fare"
   ]
  },
  {
   "cell_type": "code",
   "execution_count": null,
   "id": "b3e41035",
   "metadata": {},
   "outputs": [],
   "source": [
    "#for yellow taxis\n",
    "avg_fare_yel_2020 = df_yel_filtered_2020.groupby(dayofweek('tpep_pickup_datetime').alias('pickup_day'),\n",
    "                        hour('tpep_pickup_datetime').alias('pickup_hour')).avg('fare_amount')\n",
    "#display the result\n",
    "#print(\"The average fare is: \" ,avg_fare)\n",
    "avg_fare_yel_2020 = avg_fare_yel_2020.toPandas()\n",
    "avg_fare_yel_2020 = avg_fare_yel_2020.sort_values(by=['pickup_hour'])\n",
    "avg_fare_yel_2020\n"
   ]
  },
  {
   "cell_type": "markdown",
   "id": "d3bc8e1b",
   "metadata": {},
   "source": [
    "3. The average trip duration"
   ]
  },
  {
   "cell_type": "code",
   "execution_count": null,
   "id": "d6db28bd",
   "metadata": {},
   "outputs": [],
   "source": [
    "# for yellow taxis\n",
    "avg_trip_duration_yel_2020 = df_yel_filtered_2020.groupby(dayofweek('tpep_pickup_datetime').alias('pickup_day'), \n",
    "                            hour('tpep_pickup_datetime').alias('pickup_hour')).avg('trip_distance')\n",
    "#display the result\n"
   ]
  },
  {
   "cell_type": "code",
   "execution_count": null,
   "id": "e568a802",
   "metadata": {},
   "outputs": [],
   "source": [
    "# for fhv taxis\n",
    "avg_trip_duration_fhv_2020 = df_fhv_filtered_2020.groupby(dayofweek('pickup_datetime').alias('pickup_day'), \n",
    "                            hour('pickup_datetime').alias('pickup_hour'))\n",
    "#display the result"
   ]
  },
  {
   "cell_type": "markdown",
   "id": "bf5b41cc",
   "metadata": {},
   "source": [
    "4. Plot the average of ongoing trips"
   ]
  },
  {
   "cell_type": "code",
   "execution_count": null,
   "id": "4022f33e",
   "metadata": {},
   "outputs": [],
   "source": [
    "\n",
    "# convert into pandas dataframe\n",
    "df_yel_filtered_2020 = df_yel_filtered_2020.toPandas()\n",
    "\n",
    "# Convert the 'tpep_dropoff_datetime' and 'tpep_pickup_datetime' columns to datetime format\n",
    "df_yel_filtered_2020['tpep_dropoff_datetime'] = pd.to_datetime(df_yel_filtered_2020['tpep_dropoff_datetime'])\n",
    "df_yel_filtered_2020['tpep_pickup_datetime'] = pd.to_datetime(df_yel_filtered_2020['tpep_pickup_datetime'])\n",
    "\n",
    "# Calculate the duration of each trip by subtracting the pickup datetime \n",
    "# from the dropoff datetime to get the trip duration in seconds.\n",
    "\n",
    "df_yel_filtered_2020['trip_duration'] = (df_yel_filtered_2020['tpep_dropoff_datetime'] - \n",
    "                                    df_yel_filtered_2020['tpep_pickup_datetime']).dt.total_seconds()\n",
    "\n",
    "# Group the data by the desired time interval and calculate the average trip duration for each interval.\n",
    "\n",
    "average_trip_duration = df_yel_filtered_2020.groupby(df_yel_filtered_2020['tpep_pickup_datetime'].dt.hour)['trip_duration'].mean()\n",
    "\n",
    "# the plot\n",
    "plt.figure(figsize=(10, 6)) \n",
    "plt.bar(average_trip_duration.index, average_trip_duration.values)\n",
    "plt.xlabel('Hour')\n",
    "plt.ylabel('Average Trip Duration (seconds)')\n",
    "plt.title('Average Trip Duration by Hour')\n",
    "plt.xticks(average_trip_duration.index)\n",
    "plt.grid(True) \n",
    "plt.show()\n"
   ]
  },
  {
   "cell_type": "code",
   "execution_count": null,
   "id": "a3d02a11",
   "metadata": {},
   "outputs": [],
   "source": [
    "# for fhv taxis\n",
    "# convert into pandas dataframe\n",
    "df_fhv_filtered_2020 = df_fhv_filtered_2020.toPandas()\n",
    "\n",
    "# Convert the 'tpep_dropoff_datetime' and 'tpep_pickup_datetime' columns to datetime format\n",
    "df_fhv_filtered_2020['dropOff_datetime'] = pd.to_datetime(df_fhv_filtered_2020['dropOff_datetime'])\n",
    "df_fhv_filtered_2020['pickup_datetime'] = pd.to_datetime(df_fhv_filtered_2020['pickup_datetime'])\n",
    "\n",
    "# Calculate the duration of each trip by subtracting the pickup datetime \n",
    "# from the dropoff datetime to get the trip duration in seconds.\n",
    "\n",
    "df_fhv_filtered_2020['trip_duration'] = (df_fhv_filtered_2020['dropOff_datetime'] - \n",
    "                                    df_fhv_filtered_2020['pickup_datetime']).dt.total_seconds()\n",
    "\n",
    "# Group the data by the desired time interval and calculate the average trip duration for each interval.\n",
    "\n",
    "average_trip_duration = df_fhv_filtered_2020.groupby(df_fhv_filtered_2020['pickup_datetime'].dt.hour)['trip_duration'].mean()\n",
    "\n",
    "# the plot\n",
    "plt.figure(figsize=(10, 6)) \n",
    "plt.bar(average_trip_duration.index, average_trip_duration.values)\n",
    "plt.xlabel('Hour')\n",
    "plt.ylabel('Average Trip Duration (seconds)')\n",
    "plt.title('Average Trip Duration by Hour')\n",
    "plt.xticks(average_trip_duration.index)\n",
    "plt.grid(True) \n",
    "plt.show()\n"
   ]
  },
  {
   "cell_type": "markdown",
   "id": "130f0576",
   "metadata": {},
   "source": [
    "## Rides to the airports"
   ]
  },
  {
   "cell_type": "markdown",
   "id": "ea137dd2",
   "metadata": {},
   "source": [
    "1. Median duration of taxi trip leaving Midtown (Southern Manhattan) headed for JFK Airport"
   ]
  },
  {
   "cell_type": "code",
   "execution_count": null,
   "id": "8168633c",
   "metadata": {},
   "outputs": [],
   "source": [
    "# convert into pandas dataframe\n",
    "#df_yel_filtered_2020 = df_yel_filtered_2020.toPandas()\n",
    "\n",
    "# Convert the 'tpep_dropoff_datetime' and 'tpep_pickup_datetime' columns to datetime format\n",
    "#df_yel_filtered['tpep_dropoff_datetime'] = pd.to_datetime(df_yel_filtered['tpep_dropoff_datetime'])\n",
    "#df_yel_filtered['tpep_pickup_datetime'] = pd.to_datetime(df_yel_filtered['tpep_pickup_datetime'])\n",
    "\n",
    "# Calculate the duration of each trip by subtracting the pickup datetime \n",
    "# from the dropoff datetime to get the trip duration in seconds.\n",
    "\n",
    "#df_yel_filtered['trip_duration'] = (df_yel_filtered['tpep_dropoff_datetime'] - \n",
    " #                                   df_yel_filtered['tpep_pickup_datetime']).dt.total_seconds()"
   ]
  },
  {
   "cell_type": "code",
   "execution_count": null,
   "id": "9012a9a3",
   "metadata": {},
   "outputs": [],
   "source": [
    "midtown = {'longitude': -73.97, 'latitude': 40.75}\n",
    "jfk = {'longitude': -73.78, 'latitude': 40.64}\n",
    "newark = {'longitude': -74.18, 'latitude': 40.73}\n",
    " \n",
    "#temp = df_yel_filtered_2020.filter((col(\"pickup_longitude\") == midtown['longitude']) &\n",
    " #                     (col(\"pickup_latitude\") == midtown['latitude']) &\n",
    "  #                    (col(\"dropoff_longitude\") == jfk['longitude']) &\n",
    "   #                   (col(\"dropoff_latitude\") == jfk['latitude'])).persist()\n",
    "\n",
    "#median_trip_duration = temp.approxQuantile(\"trip_duration\", [0.5], 0.01)[0]"
   ]
  },
  {
   "cell_type": "markdown",
   "id": "f03e0271",
   "metadata": {},
   "source": [
    "## Geographic information"
   ]
  },
  {
   "cell_type": "code",
   "execution_count": null,
   "id": "b2645429",
   "metadata": {},
   "outputs": [],
   "source": [
    "# Load GeoJSON file\n",
    "data_geojson = gpd.read_file(\"/home/marius/Téléchargements/map.geojson\")         # Load the GeoJSON file as a GeoDataFrame\n",
    "\n",
    "print(data_geojson)"
   ]
  },
  {
   "cell_type": "code",
   "execution_count": null,
   "id": "72dac153",
   "metadata": {},
   "outputs": [],
   "source": [
    "#Register DataFrame as a temporary view for Spark SQL operations\n",
    "#df_yel_filtered.createOrReplaceTempView(\"trips\")\n",
    "\n",
    "# Build a heatmap of number of pickups, number of dropoffs, and number of pickups with dropoff at airports\n",
    "heatmap_pickups = df_yel_filtered.groupBy(\"zones_pickup_location\").count()\n",
    "heatmap_dropoffs = df_yel_filtered.groupBy(\"zones_dropoff_location\").count()\n",
    "heatmap_airport_pickups = df_yel_filtered.filter(col(\"zones_dropoff_location\").isin(['JFK', \n",
    "                                        'LaGuardia', 'Newark'])).groupBy(\"zones_pickup_location\").count()\n",
    "\n"
   ]
  },
  {
   "cell_type": "code",
   "execution_count": null,
   "id": "947e0223",
   "metadata": {},
   "outputs": [],
   "source": [
    "# Build a choropleth map of number of pickups in the area, ratio of card payments to cash payments, and ratio of total fare to trip duration\n",
    "choropleth_pickups = df_yel_filtered.groupBy(\"zones_pickup_location\").count()\n",
    "choropleth_payment_ratio = df_yel_filtered.groupBy(\"zones_pickup_location\").agg(\n",
    "    (sum(when(col(\"payment_type\") == 1, 1).otherwise(0)) /\n",
    "     sum(when(col(\"payment_type\") == 2, 1).otherwise(0))).alias(\"payment_ratio\")\n",
    ")\n",
    "choropleth_fare_duration_ratio = df_yel_filtered.groupBy(\"zones_dropoff_location\").agg(\n",
    "    (sum(\"total_amount\") / sum(\"trip_distance\")).alias(\"fare_duration_ratio\")\n",
    ")"
   ]
  },
  {
   "cell_type": "markdown",
   "id": "34908ed3",
   "metadata": {},
   "source": [
    "## For year 2021"
   ]
  },
  {
   "cell_type": "code",
   "execution_count": null,
   "id": "4ed98971",
   "metadata": {},
   "outputs": [],
   "source": [
    "# Read the data\n",
    "df_yel_2021 = spark.read.parquet(\"/home/marius/Téléchargements/yellow_tripdata_2021-01.parquet\")\n",
    "df_fhv_2021 = spark.read.parquet(\"/home/marius/Téléchargements/fhv_tripdata_2021-01.parquet\")"
   ]
  },
  {
   "cell_type": "code",
   "execution_count": null,
   "id": "964c1fe0",
   "metadata": {},
   "outputs": [],
   "source": [
    "# Dropping na values \n",
    "df_yel_2021.na.drop()\n",
    "df_fhv_2021.na.drop()"
   ]
  },
  {
   "cell_type": "code",
   "execution_count": null,
   "id": "2337e925",
   "metadata": {},
   "outputs": [],
   "source": [
    "# for yellow taxis\n",
    "full_data_yel_2021 = joinDataframes(df_yel_2021, zones_pickup, zones_dropoff)\n",
    "full_data_yel_2021.show()"
   ]
  },
  {
   "cell_type": "code",
   "execution_count": null,
   "id": "6a1eb51c",
   "metadata": {},
   "outputs": [],
   "source": [
    "# for fhv taxis\n",
    "full_data_fhv_2021 = joinDataframes(df_fhv_2021, zones_pickup, zones_dropoff)\n",
    "full_data_fhv_2021.show()"
   ]
  },
  {
   "cell_type": "code",
   "execution_count": null,
   "id": "f85e6ab1",
   "metadata": {},
   "outputs": [],
   "source": [
    "# for yellow taxis\n",
    "df_yel_filtered_2021 = filterData(full_data_yel_2021)\n",
    "df_yel_filtered_2021.show()"
   ]
  },
  {
   "cell_type": "code",
   "execution_count": null,
   "id": "a4e21832",
   "metadata": {},
   "outputs": [],
   "source": [
    "# for fhv taxis\n",
    "df_fhv_filtered_2021 = filterData(full_data_yel_2021)\n",
    "df_fhv_filtered_2021.show()"
   ]
  },
  {
   "cell_type": "code",
   "execution_count": null,
   "id": "7f4a498d",
   "metadata": {},
   "outputs": [],
   "source": [
    "# for yellow taxis\n",
    "df_yel_filtered_2021.show()"
   ]
  },
  {
   "cell_type": "code",
   "execution_count": null,
   "id": "c46365e4",
   "metadata": {},
   "outputs": [],
   "source": [
    "# for fhv taxis\n",
    "df_fhv_filtered_2021.show()"
   ]
  },
  {
   "cell_type": "markdown",
   "id": "d37749ad",
   "metadata": {},
   "source": [
    "1. Filter and cache/persist the result"
   ]
  },
  {
   "cell_type": "code",
   "execution_count": null,
   "id": "7bab71f6",
   "metadata": {},
   "outputs": [],
   "source": [
    "df_yel_filtered_2021.cache()\n",
    "df_fhv_filtered_2021.cache()"
   ]
  },
  {
   "cell_type": "code",
   "execution_count": null,
   "id": "7a92e005",
   "metadata": {},
   "outputs": [],
   "source": [
    "# for yellow taxis\n",
    "counts_pickup_yel_2021 = df_yel_filtered_2021.groupby(dayofweek('tpep_pickup_datetime').alias('pickup_day'),\n",
    "                             hour('tpep_pickup_datetime').alias('pickup_hour')).count()\n",
    "#display the result"
   ]
  },
  {
   "cell_type": "code",
   "execution_count": null,
   "id": "ba04aec9",
   "metadata": {},
   "outputs": [],
   "source": [
    "# for fhv taxis\n",
    "counts_pickup_fhv_2021 = df_fhv_filtered_2021.groupby(dayofweek('tpep_pickup_datetime').alias('pickup_day'),\n",
    "                             hour('tpep_pickup_datetime').alias('pickup_hour')).count()\n",
    "#display the result"
   ]
  },
  {
   "cell_type": "markdown",
   "id": "6870affe",
   "metadata": {},
   "source": [
    "2. The average fare"
   ]
  },
  {
   "cell_type": "code",
   "execution_count": null,
   "id": "6fe6ffc3",
   "metadata": {},
   "outputs": [],
   "source": [
    "#for yellow taxis\n",
    "avg_fare_yel_2021 = df_yel_filtered_2021.groupby(dayofweek('tpep_pickup_datetime').alias('pickup_day'),\n",
    "                        hour('tpep_pickup_datetime').alias('pickup_hour')).avg('fare_amount')\n",
    "#display the result\n",
    "#print(\"The average fare is: \" ,avg_fare)\n",
    "avg_fare_yel_2021 = avg_fare_yel_2021.toPandas()\n",
    "avg_fare_yel_2021 = avg_fare_yel_2021.sort_values(by=['pickup_hour'])\n",
    "avg_fare_yel_2021"
   ]
  },
  {
   "cell_type": "markdown",
   "id": "cce76ef7",
   "metadata": {},
   "source": [
    "3. The average trip duration"
   ]
  },
  {
   "cell_type": "code",
   "execution_count": null,
   "id": "dba4ca76",
   "metadata": {},
   "outputs": [],
   "source": [
    "# for yellow taxis\n",
    "avg_trip_duration_yel_2021 = df_yel_filtered_2021.groupby(dayofweek('tpep_pickup_datetime').alias('pickup_day'), \n",
    "                            hour('tpep_pickup_datetime').alias('pickup_hour')).avg('trip_distance')\n",
    "#display the result"
   ]
  },
  {
   "cell_type": "code",
   "execution_count": null,
   "id": "c7ee1c3d",
   "metadata": {},
   "outputs": [],
   "source": [
    "# for fhv taxis\n",
    "avg_trip_duration_fhv_2021 = df_fhv_filtered_2021.groupby(dayofweek('pickup_datetime').alias('pickup_day'), \n",
    "                            hour('pickup_datetime').alias('pickup_hour'))\n",
    "#display the result"
   ]
  },
  {
   "cell_type": "markdown",
   "id": "1c89836e",
   "metadata": {},
   "source": [
    "4. Plot the average of ongoing trips"
   ]
  },
  {
   "cell_type": "code",
   "execution_count": null,
   "id": "f444563f",
   "metadata": {},
   "outputs": [],
   "source": [
    "# convert into pandas dataframe\n",
    "#df_yel_filtered_2021 = df_yel_filtered_2021.toPandas()\n",
    "\n",
    "# Convert the 'tpep_dropoff_datetime' and 'tpep_pickup_datetime' columns to datetime format\n",
    "#df_yel_filtered_2021['tpep_dropoff_datetime'] = pd.to_datetime(df_yel_filtered_2021['tpep_dropoff_datetime'])\n",
    "#df_yel_filtered_2021['tpep_pickup_datetime'] = pd.to_datetime(df_yel_filtered_2021['tpep_pickup_datetime'])\n",
    "\n",
    "# Calculate the duration of each trip by subtracting the pickup datetime \n",
    "# from the dropoff datetime to get the trip duration in seconds.\n",
    "\n",
    "#df_yel_filtered_2021['trip_duration'] = (df_yel_filtered_2021['tpep_dropoff_datetime'] - \n",
    "                             #       df_yel_filtered_2021['tpep_pickup_datetime']).dt.total_seconds()\n",
    "\n",
    "# Group the data by the desired time interval and calculate the average trip duration for each interval.\n",
    "\n",
    "#average_trip_duration = df_yel_filtered_2021.groupby(df_yel_filtered_2021['tpep_pickup_datetime'].dt.hour)['trip_duration'].mean()"
   ]
  },
  {
   "cell_type": "code",
   "execution_count": null,
   "id": "6518b492",
   "metadata": {},
   "outputs": [],
   "source": [
    "# for fhv taxis\n",
    "# convert into pandas dataframe\n",
    "#df_fhv_filtered_2021 = df_fhv_filtered_2021.toPandas()\n",
    "\n",
    "# Convert the 'tpep_dropoff_datetime' and 'tpep_pickup_datetime' columns to datetime format\n",
    "#df_fhv_filtered_2021['tpep_dropoff_datetime'] = pd.to_datetime(df_fhv_filtered_2021['tpep_dropoff_datetime'])\n",
    "#df_fhv_filtered_2021['tpep_pickup_datetime'] = pd.to_datetime(df_fhv_filtered_2021['tpep_pickup_datetime'])\n",
    "\n",
    "# Calculate the duration of each trip by subtracting the pickup datetime \n",
    "# from the dropoff datetime to get the trip duration in seconds.\n",
    "\n",
    "#df_fhv_filtered_2021['trip_duration'] = (df_fhv_filtered_2021['tpep_dropoff_datetime'] - \n",
    "                                    #df_fhv_filtered_2021['tpep_pickup_datetime']).dt.total_seconds()\n",
    "\n",
    "# Group the data by the desired time interval and calculate the average trip duration for each interval.\n",
    "\n",
    "#average_trip_duration = df_fhv_filtered_2021.groupby(df_fhv_filtered_2021['tpep_dropoff_datetime'].dt.hour)['trip_duration'].mean()"
   ]
  },
  {
   "cell_type": "markdown",
   "id": "cfc25372",
   "metadata": {},
   "source": [
    "## Rides to the airports"
   ]
  },
  {
   "cell_type": "markdown",
   "id": "208aec77",
   "metadata": {},
   "source": [
    "1. Median duration of taxi trip leaving Midtown (Southern Manhattan) headed for JFK Airport"
   ]
  },
  {
   "cell_type": "code",
   "execution_count": null,
   "id": "ae46f2f1",
   "metadata": {},
   "outputs": [],
   "source": [
    "midtown = {'longitude': -73.97, 'latitude': 40.75}\n",
    "jfk = {'longitude': -73.78, 'latitude': 40.64}\n",
    "newark = {'longitude': -74.18, 'latitude': 40.73}\n",
    " \n",
    "#temp = df_yel_filtered_2021.filter((col(\"pickup_longitude\") == midtown['longitude']) &\n",
    " #                     (col(\"pickup_latitude\") == midtown['latitude']) &\n",
    "  #                    (col(\"dropoff_longitude\") == jfk['longitude']) &\n",
    "   #                   (col(\"dropoff_latitude\") == jfk['latitude'])).persist()\n",
    "\n",
    "#median_trip_duration = temp.approxQuantile(\"trip_duration\", [0.5], 0.01)[0]"
   ]
  },
  {
   "cell_type": "markdown",
   "id": "d3ef7071",
   "metadata": {},
   "source": [
    "## Geographic information"
   ]
  },
  {
   "cell_type": "code",
   "execution_count": null,
   "id": "4bc060b9",
   "metadata": {},
   "outputs": [],
   "source": [
    "#Register DataFrame as a temporary view for Spark SQL operations\n",
    "#df_yel_filtered.createOrReplaceTempView(\"trips\")\n",
    "\n",
    "# Build a heatmap of number of pickups, number of dropoffs, and number of pickups with dropoff at airports\n",
    "heatmap_pickups = df_yel_filtered.groupBy(\"zones_pickup_location\").count()\n",
    "heatmap_dropoffs = df_yel_filtered.groupBy(\"zones_dropoff_location\").count()\n",
    "heatmap_airport_pickups = df_yel_filtered.filter(col(\"zones_dropoff_location\").isin(['JFK', \n",
    "                                        'LaGuardia', 'Newark'])).groupBy(\"zones_pickup_location\").count()"
   ]
  },
  {
   "cell_type": "code",
   "execution_count": null,
   "id": "0da69351",
   "metadata": {},
   "outputs": [],
   "source": [
    "# Build a choropleth map of number of pickups in the area, ratio of card payments to cash payments, and ratio of total fare to trip duration\n",
    "choropleth_pickups = df_yel_filtered.groupBy(\"zones_pickup_location\").count()\n",
    "choropleth_payment_ratio = df_yel_filtered.groupBy(\"zones_pickup_location\").agg(\n",
    "    (sum(when(col(\"payment_type\") == 1, 1).otherwise(0)) /\n",
    "     sum(when(col(\"payment_type\") == 2, 1).otherwise(0))).alias(\"payment_ratio\")\n",
    ")\n",
    "choropleth_fare_duration_ratio = df_yel_filtered.groupBy(\"zones_dropoff_location\").agg(\n",
    "    (sum(\"total_amount\") / sum(\"trip_distance\")).alias(\"fare_duration_ratio\")\n",
    ")"
   ]
  },
  {
   "cell_type": "markdown",
   "id": "0bc48680",
   "metadata": {},
   "source": [
    "## For year 2022"
   ]
  },
  {
   "cell_type": "code",
   "execution_count": null,
   "id": "e2adfc8f",
   "metadata": {},
   "outputs": [],
   "source": [
    "df_yel_2022 = spark.read.parquet(\"/home/marius/Téléchargements/yellow_tripdata_2022-08.parquet\")\n",
    "df_fhv_2022 = spark.read.parquet(\"/home/marius/Téléchargements/fhv_tripdata_2022-08.parquet\")"
   ]
  },
  {
   "cell_type": "code",
   "execution_count": null,
   "id": "bd08d28e",
   "metadata": {},
   "outputs": [],
   "source": [
    "# Dropping na values \n",
    "df_yel_2022.na.drop()\n",
    "df_fhv_2022.na.drop()"
   ]
  },
  {
   "cell_type": "code",
   "execution_count": null,
   "id": "48c48c39",
   "metadata": {},
   "outputs": [],
   "source": [
    "# for yellow taxis\n",
    "full_data_yel_2022 = joinDataframes(df_yel_2022, zones_pickup, zones_dropoff)\n",
    "full_data_yel_2022.show()"
   ]
  },
  {
   "cell_type": "code",
   "execution_count": null,
   "id": "6a90f3a0",
   "metadata": {},
   "outputs": [],
   "source": [
    "# for fhv taxis\n",
    "full_data_fhv_2022 = joinDataframes(df_fhv_2022, zones_pickup, zones_dropoff)\n",
    "full_data_fhv_2022.show()"
   ]
  },
  {
   "cell_type": "code",
   "execution_count": null,
   "id": "ed18dcb1",
   "metadata": {},
   "outputs": [],
   "source": [
    "# for yellow taxis\n",
    "df_yel_filtered_2022 = filterData(full_data_yel_2022)\n",
    "df_yel_filtered_2022.show()"
   ]
  },
  {
   "cell_type": "code",
   "execution_count": null,
   "id": "6d31d70e",
   "metadata": {},
   "outputs": [],
   "source": [
    "# for fhv taxis\n",
    "df_fhv_filtered_2022 = filterData(full_data_yel_2022)\n",
    "df_fhv_filtered_2022.show()"
   ]
  },
  {
   "cell_type": "code",
   "execution_count": null,
   "id": "5c62e708",
   "metadata": {},
   "outputs": [],
   "source": [
    "# for yellow taxis\n",
    "df_yel_filtered_2022.show()"
   ]
  },
  {
   "cell_type": "code",
   "execution_count": null,
   "id": "16ffd65c",
   "metadata": {},
   "outputs": [],
   "source": [
    "# for fhv taxis\n",
    "df_fhv_filtered_2022.show()"
   ]
  },
  {
   "cell_type": "markdown",
   "id": "8e1a05f0",
   "metadata": {},
   "source": [
    "1. Filter and cache/persist the result"
   ]
  },
  {
   "cell_type": "code",
   "execution_count": null,
   "id": "6cbf20e3",
   "metadata": {},
   "outputs": [],
   "source": [
    "df_yel_filtered_2022.cache()\n",
    "df_fhv_filtered_2022.cache()"
   ]
  },
  {
   "cell_type": "code",
   "execution_count": null,
   "id": "309008b4",
   "metadata": {},
   "outputs": [],
   "source": [
    "# for yellow taxis\n",
    "counts_pickup_yel_2022 = df_yel_filtered_2022.groupby(dayofweek('tpep_pickup_datetime').alias('pickup_day'),\n",
    "                             hour('tpep_pickup_datetime').alias('pickup_hour')).count()\n",
    "#display the result"
   ]
  },
  {
   "cell_type": "code",
   "execution_count": null,
   "id": "d9ed74fe",
   "metadata": {},
   "outputs": [],
   "source": [
    "# for fhv taxis\n",
    "counts_pickup_fhv_2022 = df_fhv_filtered_2022.groupby(dayofweek('tpep_pickup_datetime').alias('pickup_day'),\n",
    "                             hour('tpep_pickup_datetime').alias('pickup_hour')).count()\n",
    "#display the result"
   ]
  },
  {
   "cell_type": "markdown",
   "id": "f537ca17",
   "metadata": {},
   "source": [
    "2. The average fare"
   ]
  },
  {
   "cell_type": "code",
   "execution_count": null,
   "id": "4d08ea41",
   "metadata": {},
   "outputs": [],
   "source": [
    "#for yellow taxis\n",
    "avg_fare_yel_2022 = df_yel_filtered_2022.groupby(dayofweek('tpep_pickup_datetime').alias('pickup_day'),\n",
    "                        hour('tpep_pickup_datetime').alias('pickup_hour')).avg('fare_amount')\n",
    "#display the result\n",
    "#print(\"The average fare is: \" ,avg_fare)\n",
    "avg_fare_yel_2022 = avg_fare_yel_2022.toPandas()\n",
    "avg_fare_yel_2022 = avg_fare_yel_2022.sort_values(by=['pickup_hour'])\n",
    "avg_fare_yel_2022"
   ]
  },
  {
   "cell_type": "markdown",
   "id": "556ce221",
   "metadata": {},
   "source": [
    "3. The average trip duration"
   ]
  },
  {
   "cell_type": "code",
   "execution_count": null,
   "id": "0f3a46d5",
   "metadata": {},
   "outputs": [],
   "source": [
    "# for yellow taxis\n",
    "avg_trip_duration_yel_2022 = df_yel_filtered_2022.groupby(dayofweek('tpep_pickup_datetime').alias('pickup_day'), \n",
    "                            hour('tpep_pickup_datetime').alias('pickup_hour')).avg('trip_distance')\n",
    "#display the result"
   ]
  },
  {
   "cell_type": "code",
   "execution_count": null,
   "id": "ff74dc91",
   "metadata": {},
   "outputs": [],
   "source": [
    "# for fhv taxis\n",
    "avg_trip_duration_fhv_2022 = df_fhv_filtered_2022.groupby(dayofweek('pickup_datetime').alias('pickup_day'), \n",
    "                            hour('pickup_datetime').alias('pickup_hour'))\n",
    "#display the result"
   ]
  },
  {
   "cell_type": "markdown",
   "id": "087ea9b3",
   "metadata": {},
   "source": [
    "4. Plot the average of ongoing trips"
   ]
  },
  {
   "cell_type": "code",
   "execution_count": null,
   "id": "7244e7a6",
   "metadata": {},
   "outputs": [],
   "source": [
    "# convert into pandas dataframe\n",
    "#df_yel_filtered_2022 = df_yel_filtered_2022.toPandas()\n",
    "\n",
    "# Convert the 'tpep_dropoff_datetime' and 'tpep_pickup_datetime' columns to datetime format\n",
    "#df_yel_filtered_2022['tpep_dropoff_datetime'] = pd.to_datetime(df_yel_filtered_2022['tpep_dropoff_datetime'])\n",
    "#df_yel_filtered_2022['tpep_pickup_datetime'] = pd.to_datetime(df_yel_filtered_2022['tpep_pickup_datetime'])\n",
    "\n",
    "# Calculate the duration of each trip by subtracting the pickup datetime \n",
    "# from the dropoff datetime to get the trip duration in seconds.\n",
    "\n",
    "#df_yel_filtered_2022['trip_duration'] = (df_yel_filtered_2022['tpep_dropoff_datetime'] - \n",
    " #                                   df_yel_filtered_2022['tpep_pickup_datetime']).dt.total_seconds()\n",
    "\n",
    "# Group the data by the desired time interval and calculate the average trip duration for each interval.\n",
    "\n",
    "#average_trip_duration = df_yel_filtered_2022.groupby(df_yel_filtered_2022['tpep_pickup_datetime'].dt.hour)['trip_duration'].mean()"
   ]
  },
  {
   "cell_type": "code",
   "execution_count": null,
   "id": "4e289794",
   "metadata": {},
   "outputs": [],
   "source": [
    "# for fhv taxis\n",
    "# convert into pandas dataframe\n",
    "#df_fhv_filtered_2022 = df_fhv_filtered_2022.toPandas()\n",
    "\n",
    "# Convert the 'tpep_dropoff_datetime' and 'tpep_pickup_datetime' columns to datetime format\n",
    "#df_fhv_filtered_2022['tpep_dropoff_datetime'] = pd.to_datetime(df_fhv_filtered_2022['tpep_dropoff_datetime'])\n",
    "#df_fhv_filtered_2022['tpep_pickup_datetime'] = pd.to_datetime(df_fhv_filtered_2022['tpep_pickup_datetime'])\n",
    "\n",
    "# Calculate the duration of each trip by subtracting the pickup datetime \n",
    "# from the dropoff datetime to get the trip duration in seconds.\n",
    "\n",
    "#df_fhv_filtered_2022['trip_duration'] = (df_fhv_filtered_2022['tpep_dropoff_datetime'] - \n",
    " #                                   df_fhv_filtered_2022['tpep_pickup_datetime']).dt.total_seconds()\n",
    "\n",
    "# Group the data by the desired time interval and calculate the average trip duration for each interval.\n",
    "\n",
    "#average_trip_duration = df_fhv_filtered_2022.groupby(df_fhv_filtered_2022['tpep_dropoff_datetime'].dt.hour)['trip_duration'].mean()"
   ]
  },
  {
   "cell_type": "markdown",
   "id": "6da5e2f1",
   "metadata": {},
   "source": [
    "## Rides to the airports"
   ]
  },
  {
   "cell_type": "markdown",
   "id": "e47c351d",
   "metadata": {},
   "source": [
    "1. Median duration of taxi trip leaving Midtown (Southern Manhattan) headed for JFK Airport"
   ]
  },
  {
   "cell_type": "code",
   "execution_count": null,
   "id": "8efeaa6e",
   "metadata": {},
   "outputs": [],
   "source": [
    "midtown = {'longitude': -73.97, 'latitude': 40.75}\n",
    "jfk = {'longitude': -73.78, 'latitude': 40.64}\n",
    "newark = {'longitude': -74.18, 'latitude': 40.73}\n",
    " \n",
    "#temp = df_yel_filtered_2021.filter((col(\"pickup_longitude\") == midtown['longitude']) &\n",
    " #                     (col(\"pickup_latitude\") == midtown['latitude']) &\n",
    "  #                    (col(\"dropoff_longitude\") == jfk['longitude']) &\n",
    "   #                   (col(\"dropoff_latitude\") == jfk['latitude'])).persist()\n",
    "\n",
    "#median_trip_duration = temp.approxQuantile(\"trip_duration\", [0.5], 0.01)[0]"
   ]
  },
  {
   "cell_type": "markdown",
   "id": "507b4785",
   "metadata": {},
   "source": [
    "## Geographic information"
   ]
  },
  {
   "cell_type": "code",
   "execution_count": null,
   "id": "cb066c68",
   "metadata": {},
   "outputs": [],
   "source": [
    "#Register DataFrame as a temporary view for Spark SQL operations\n",
    "#df_yel_filtered.createOrReplaceTempView(\"trips\")\n",
    "\n",
    "# Build a heatmap of number of pickups, number of dropoffs, and number of pickups with dropoff at airports\n",
    "heatmap_pickups = df_yel_filtered.groupBy(\"zones_pickup_location\").count()\n",
    "heatmap_dropoffs = df_yel_filtered.groupBy(\"zones_dropoff_location\").count()\n",
    "heatmap_airport_pickups = df_yel_filtered.filter(col(\"zones_dropoff_location\").isin(['JFK', \n",
    "                                        'LaGuardia', 'Newark'])).groupBy(\"zones_pickup_location\").count()"
   ]
  },
  {
   "cell_type": "code",
   "execution_count": null,
   "id": "6f3df47a",
   "metadata": {},
   "outputs": [],
   "source": [
    "# Build a choropleth map of number of pickups in the area, ratio of card payments to cash payments, and ratio of total fare to trip duration\n",
    "choropleth_pickups = df_yel_filtered.groupBy(\"zones_pickup_location\").count()\n",
    "choropleth_payment_ratio = df_yel_filtered.groupBy(\"zones_pickup_location\").agg(\n",
    "    (sum(when(col(\"payment_type\") == 1, 1).otherwise(0)) /\n",
    "     sum(when(col(\"payment_type\") == 2, 1).otherwise(0))).alias(\"payment_ratio\")\n",
    ")\n",
    "choropleth_fare_duration_ratio = df_yel_filtered.groupBy(\"zones_dropoff_location\").agg(\n",
    "    (sum(\"total_amount\") / sum(\"trip_distance\")).alias(\"fare_duration_ratio\")\n",
    ")"
   ]
  },
  {
   "cell_type": "markdown",
   "id": "9096279a",
   "metadata": {},
   "source": [
    "## Covid impact"
   ]
  },
  {
   "cell_type": "code",
   "execution_count": null,
   "id": "36529769",
   "metadata": {},
   "outputs": [],
   "source": [
    "'''\n",
    "fig, ax = plt.subplots(figsize=(8, 4))  # Create a figure and axes\n",
    "table = plt.table(cellText=df_yel_filtered['tpep_pickup_time'], colLabels=df_yel_filtered.columns, loc='center')  # Plot the table\n",
    "table.auto_set_font_size(False)  # Set font size manually\n",
    "table.set_fontsize(10)  # Set font size for the table\n",
    "ax.axis('off')  # Hide axes\n",
    "plt.show()  # Display the table\n",
    "\n",
    "'''"
   ]
  },
  {
   "cell_type": "markdown",
   "id": "368d0ade",
   "metadata": {},
   "source": [
    "Based on our study, we have seen that the covid pandemic has had a major impact on trips of taxis in New York , especially in the years 2020 (August) and 2021 (January).\n",
    "On the other hand, in 2019 (March) and 2022 (August), traffic remained normal."
   ]
  },
  {
   "cell_type": "code",
   "execution_count": null,
   "id": "9b43ff13",
   "metadata": {},
   "outputs": [],
   "source": []
  }
 ],
 "metadata": {
  "kernelspec": {
   "display_name": "Python 3 (ipykernel)",
   "language": "python",
   "name": "python3"
  },
  "language_info": {
   "codemirror_mode": {
    "name": "ipython",
    "version": 3
   },
   "file_extension": ".py",
   "mimetype": "text/x-python",
   "name": "python",
   "nbconvert_exporter": "python",
   "pygments_lexer": "ipython3",
   "version": "3.9.13"
  }
 },
 "nbformat": 4,
 "nbformat_minor": 5
}
