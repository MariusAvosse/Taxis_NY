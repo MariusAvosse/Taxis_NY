{
 "cells": [
  {
   "cell_type": "code",
   "execution_count": 1,
   "id": "65361999",
   "metadata": {},
   "outputs": [
    {
     "name": "stderr",
     "output_type": "stream",
     "text": [
      "23/05/30 00:59:23 WARN Utils: Your hostname, marius-Latitude-3410 resolves to a loopback address: 127.0.1.1; using 10.30.204.156 instead (on interface wlp0s20f3)\n",
      "23/05/30 00:59:23 WARN Utils: Set SPARK_LOCAL_IP if you need to bind to another address\n",
      "Setting default log level to \"WARN\".\n",
      "To adjust logging level use sc.setLogLevel(newLevel). For SparkR, use setLogLevel(newLevel).\n",
      "23/05/30 00:59:24 WARN NativeCodeLoader: Unable to load native-hadoop library for your platform... using builtin-java classes where applicable\n",
      "23/05/30 00:59:25 WARN Utils: Service 'SparkUI' could not bind on port 4040. Attempting port 4041.\n"
     ]
    }
   ],
   "source": [
    "import os\n",
    "import sys\n",
    "from pyspark.sql import SparkSession\n",
    "import pyspark.sql\n",
    "\n",
    "spark = (SparkSession\n",
    "        .builder\n",
    "        .appName(\"BIG DATA PROJECT\")\n",
    "        .getOrCreate()\n",
    "        )"
   ]
  },
  {
   "cell_type": "code",
   "execution_count": 2,
   "id": "a221b490",
   "metadata": {},
   "outputs": [],
   "source": [
    "#!pip install geojson geopandas plotly"
   ]
  },
  {
   "cell_type": "code",
   "execution_count": 3,
   "id": "9a479fa9",
   "metadata": {},
   "outputs": [],
   "source": [
    "#!pip install ipyleaflet\n"
   ]
  },
  {
   "cell_type": "markdown",
   "id": "6eb14146",
   "metadata": {},
   "source": [
    "## New York taxis trips"
   ]
  },
  {
   "cell_type": "code",
   "execution_count": 4,
   "id": "44717bc9",
   "metadata": {},
   "outputs": [
    {
     "data": {
      "text/html": [
       "<div>\n",
       "<style scoped>\n",
       "    .dataframe tbody tr th:only-of-type {\n",
       "        vertical-align: middle;\n",
       "    }\n",
       "\n",
       "    .dataframe tbody tr th {\n",
       "        vertical-align: top;\n",
       "    }\n",
       "\n",
       "    .dataframe thead th {\n",
       "        text-align: right;\n",
       "    }\n",
       "</style>\n",
       "<table border=\"1\" class=\"dataframe\">\n",
       "  <thead>\n",
       "    <tr style=\"text-align: right;\">\n",
       "      <th></th>\n",
       "      <th>OBJECTID</th>\n",
       "      <th>Shape_Leng</th>\n",
       "      <th>Shape_Area</th>\n",
       "      <th>zone</th>\n",
       "      <th>LocationID</th>\n",
       "      <th>borough</th>\n",
       "      <th>geometry</th>\n",
       "    </tr>\n",
       "  </thead>\n",
       "  <tbody>\n",
       "    <tr>\n",
       "      <th>0</th>\n",
       "      <td>1</td>\n",
       "      <td>0.116357</td>\n",
       "      <td>0.000782</td>\n",
       "      <td>Newark Airport</td>\n",
       "      <td>1</td>\n",
       "      <td>EWR</td>\n",
       "      <td>POLYGON ((933100.918 192536.086, 933091.011 19...</td>\n",
       "    </tr>\n",
       "    <tr>\n",
       "      <th>1</th>\n",
       "      <td>2</td>\n",
       "      <td>0.433470</td>\n",
       "      <td>0.004866</td>\n",
       "      <td>Jamaica Bay</td>\n",
       "      <td>2</td>\n",
       "      <td>Queens</td>\n",
       "      <td>MULTIPOLYGON (((1033269.244 172126.008, 103343...</td>\n",
       "    </tr>\n",
       "    <tr>\n",
       "      <th>2</th>\n",
       "      <td>3</td>\n",
       "      <td>0.084341</td>\n",
       "      <td>0.000314</td>\n",
       "      <td>Allerton/Pelham Gardens</td>\n",
       "      <td>3</td>\n",
       "      <td>Bronx</td>\n",
       "      <td>POLYGON ((1026308.770 256767.698, 1026495.593 ...</td>\n",
       "    </tr>\n",
       "    <tr>\n",
       "      <th>3</th>\n",
       "      <td>4</td>\n",
       "      <td>0.043567</td>\n",
       "      <td>0.000112</td>\n",
       "      <td>Alphabet City</td>\n",
       "      <td>4</td>\n",
       "      <td>Manhattan</td>\n",
       "      <td>POLYGON ((992073.467 203714.076, 992068.667 20...</td>\n",
       "    </tr>\n",
       "    <tr>\n",
       "      <th>4</th>\n",
       "      <td>5</td>\n",
       "      <td>0.092146</td>\n",
       "      <td>0.000498</td>\n",
       "      <td>Arden Heights</td>\n",
       "      <td>5</td>\n",
       "      <td>Staten Island</td>\n",
       "      <td>POLYGON ((935843.310 144283.336, 936046.565 14...</td>\n",
       "    </tr>\n",
       "    <tr>\n",
       "      <th>...</th>\n",
       "      <td>...</td>\n",
       "      <td>...</td>\n",
       "      <td>...</td>\n",
       "      <td>...</td>\n",
       "      <td>...</td>\n",
       "      <td>...</td>\n",
       "      <td>...</td>\n",
       "    </tr>\n",
       "    <tr>\n",
       "      <th>258</th>\n",
       "      <td>259</td>\n",
       "      <td>0.126750</td>\n",
       "      <td>0.000395</td>\n",
       "      <td>Woodlawn/Wakefield</td>\n",
       "      <td>259</td>\n",
       "      <td>Bronx</td>\n",
       "      <td>POLYGON ((1025414.782 270986.139, 1025138.624 ...</td>\n",
       "    </tr>\n",
       "    <tr>\n",
       "      <th>259</th>\n",
       "      <td>260</td>\n",
       "      <td>0.133514</td>\n",
       "      <td>0.000422</td>\n",
       "      <td>Woodside</td>\n",
       "      <td>260</td>\n",
       "      <td>Queens</td>\n",
       "      <td>POLYGON ((1011466.966 216463.005, 1011545.889 ...</td>\n",
       "    </tr>\n",
       "    <tr>\n",
       "      <th>260</th>\n",
       "      <td>261</td>\n",
       "      <td>0.027120</td>\n",
       "      <td>0.000034</td>\n",
       "      <td>World Trade Center</td>\n",
       "      <td>261</td>\n",
       "      <td>Manhattan</td>\n",
       "      <td>POLYGON ((980555.204 196138.486, 980570.792 19...</td>\n",
       "    </tr>\n",
       "    <tr>\n",
       "      <th>261</th>\n",
       "      <td>262</td>\n",
       "      <td>0.049064</td>\n",
       "      <td>0.000122</td>\n",
       "      <td>Yorkville East</td>\n",
       "      <td>262</td>\n",
       "      <td>Manhattan</td>\n",
       "      <td>MULTIPOLYGON (((999804.795 224498.527, 999824....</td>\n",
       "    </tr>\n",
       "    <tr>\n",
       "      <th>262</th>\n",
       "      <td>263</td>\n",
       "      <td>0.037017</td>\n",
       "      <td>0.000066</td>\n",
       "      <td>Yorkville West</td>\n",
       "      <td>263</td>\n",
       "      <td>Manhattan</td>\n",
       "      <td>POLYGON ((997493.323 220912.386, 997355.264 22...</td>\n",
       "    </tr>\n",
       "  </tbody>\n",
       "</table>\n",
       "<p>263 rows × 7 columns</p>\n",
       "</div>"
      ],
      "text/plain": [
       "     OBJECTID  Shape_Leng  Shape_Area                     zone  LocationID  \\\n",
       "0           1    0.116357    0.000782           Newark Airport           1   \n",
       "1           2    0.433470    0.004866              Jamaica Bay           2   \n",
       "2           3    0.084341    0.000314  Allerton/Pelham Gardens           3   \n",
       "3           4    0.043567    0.000112            Alphabet City           4   \n",
       "4           5    0.092146    0.000498            Arden Heights           5   \n",
       "..        ...         ...         ...                      ...         ...   \n",
       "258       259    0.126750    0.000395       Woodlawn/Wakefield         259   \n",
       "259       260    0.133514    0.000422                 Woodside         260   \n",
       "260       261    0.027120    0.000034       World Trade Center         261   \n",
       "261       262    0.049064    0.000122           Yorkville East         262   \n",
       "262       263    0.037017    0.000066           Yorkville West         263   \n",
       "\n",
       "           borough                                           geometry  \n",
       "0              EWR  POLYGON ((933100.918 192536.086, 933091.011 19...  \n",
       "1           Queens  MULTIPOLYGON (((1033269.244 172126.008, 103343...  \n",
       "2            Bronx  POLYGON ((1026308.770 256767.698, 1026495.593 ...  \n",
       "3        Manhattan  POLYGON ((992073.467 203714.076, 992068.667 20...  \n",
       "4    Staten Island  POLYGON ((935843.310 144283.336, 936046.565 14...  \n",
       "..             ...                                                ...  \n",
       "258          Bronx  POLYGON ((1025414.782 270986.139, 1025138.624 ...  \n",
       "259         Queens  POLYGON ((1011466.966 216463.005, 1011545.889 ...  \n",
       "260      Manhattan  POLYGON ((980555.204 196138.486, 980570.792 19...  \n",
       "261      Manhattan  MULTIPOLYGON (((999804.795 224498.527, 999824....  \n",
       "262      Manhattan  POLYGON ((997493.323 220912.386, 997355.264 22...  \n",
       "\n",
       "[263 rows x 7 columns]"
      ]
     },
     "execution_count": 4,
     "metadata": {},
     "output_type": "execute_result"
    }
   ],
   "source": [
    "# read the parquet file\n",
    "import geopandas as gpd\n",
    "import plotly.graph_objects as go\n",
    "from plotly.subplots import make_subplots\n",
    "import plotly.express as px\n",
    "\n",
    "\n",
    "df_yel= spark.read.parquet(\"/home/marius/Téléchargements/yellow_tripdata_2019-03.parquet\")\n",
    "df_fhv= spark.read.parquet(\"/home/marius/Téléchargements/fhv_tripdata_2019-03.parquet\")\n",
    "\n",
    "df_zones = gpd.read_file(\"/home/marius/Téléchargements/taxi_zones/taxi_zones.shp\")\n",
    "\n",
    "\n",
    "df_yel.columns\n",
    "#df_fhv.columns\n",
    "#df_yel.show()\n",
    "#df_fhv.show()\n",
    "\n",
    "df_zones\n"
   ]
  },
  {
   "cell_type": "markdown",
   "id": "293f42e2",
   "metadata": {},
   "source": [
    "## Using data as parquet files"
   ]
  },
  {
   "cell_type": "markdown",
   "id": "fed25f70",
   "metadata": {},
   "source": [
    "1. What is the number of partitions of the dataframe?"
   ]
  },
  {
   "cell_type": "code",
   "execution_count": 5,
   "id": "1eae547d",
   "metadata": {},
   "outputs": [
    {
     "data": {
      "text/plain": [
       "8"
      ]
     },
     "execution_count": 5,
     "metadata": {},
     "output_type": "execute_result"
    }
   ],
   "source": [
    "# for yellow taxis\n",
    "num_partitions_yel = df_yel.rdd.getNumPartitions()\n",
    "num_partitions_yel"
   ]
  },
  {
   "cell_type": "code",
   "execution_count": 6,
   "id": "680e9240",
   "metadata": {},
   "outputs": [
    {
     "data": {
      "text/plain": [
       "4"
      ]
     },
     "execution_count": 6,
     "metadata": {},
     "output_type": "execute_result"
    }
   ],
   "source": [
    "# for fhv taxis\n",
    "num_partitions_fhv = df_fhv.rdd.getNumPartitions()\n",
    "num_partitions_fhv"
   ]
  },
  {
   "cell_type": "code",
   "execution_count": 7,
   "id": "98b31d57",
   "metadata": {},
   "outputs": [
    {
     "data": {
      "text/plain": [
       "DataFrame[dispatching_base_num: string, pickup_datetime: timestamp_ntz, dropOff_datetime: timestamp_ntz, PUlocationID: double, DOlocationID: double, SR_Flag: int, Affiliated_base_number: string]"
      ]
     },
     "execution_count": 7,
     "metadata": {},
     "output_type": "execute_result"
    }
   ],
   "source": [
    "# Dropping na values \n",
    "df_yel.na.drop()\n",
    "df_fhv.na.drop()"
   ]
  },
  {
   "cell_type": "code",
   "execution_count": null,
   "id": "16a34b5d",
   "metadata": {},
   "outputs": [],
   "source": []
  },
  {
   "cell_type": "code",
   "execution_count": 8,
   "id": "92bc9d9f",
   "metadata": {},
   "outputs": [
    {
     "name": "stderr",
     "output_type": "stream",
     "text": [
      "\r",
      "[Stage 3:============================================>              (3 + 1) / 4]\r"
     ]
    },
    {
     "name": "stdout",
     "output_type": "stream",
     "text": [
      "+--------+--------------------+---------------------+---------------+-------------+----------+------------------+------------+------------+------------+-----------+-----+-------+----------+------------+---------------------+------------+--------------------+-----------+\n",
      "|VendorID|tpep_pickup_datetime|tpep_dropoff_datetime|passenger_count|trip_distance|RatecodeID|store_and_fwd_flag|PULocationID|DOLocationID|payment_type|fare_amount|extra|mta_tax|tip_amount|tolls_amount|improvement_surcharge|total_amount|congestion_surcharge|airport_fee|\n",
      "+--------+--------------------+---------------------+---------------+-------------+----------+------------------+------------+------------+------------+-----------+-----+-------+----------+------------+---------------------+------------+--------------------+-----------+\n",
      "|       1| 2019-03-01 00:24:41|  2019-03-01 00:25:31|            1.0|          0.0|       1.0|                 N|         145|         145|           2|        2.5|  0.5|    0.5|       0.0|         0.0|                  0.3|         3.8|                 0.0|       null|\n",
      "|       1| 2019-03-01 00:25:27|  2019-03-01 00:36:37|            2.0|          3.7|       1.0|                 N|          95|         130|           1|       13.0|  0.5|    0.5|       0.7|         0.0|                  0.3|        15.0|                 0.0|       null|\n",
      "|       1| 2019-03-01 00:05:21|  2019-03-01 00:38:23|            1.0|         14.1|       1.0|                 N|         249|          28|           1|       41.0|  3.0|    0.5|      10.1|        5.76|                  0.3|       60.66|                 2.5|       null|\n",
      "|       1| 2019-03-01 00:48:55|  2019-03-01 01:06:03|            1.0|          9.6|       1.0|                 N|         138|          98|           2|       27.0|  0.5|    0.5|       0.0|         0.0|                  0.3|        28.3|                 0.0|       null|\n",
      "|       1| 2019-03-01 00:11:42|  2019-03-01 00:16:40|            1.0|          0.8|       1.0|                 N|          48|          48|           1|        5.5|  3.0|    0.5|       3.0|         0.0|                  0.3|        12.3|                 2.5|       null|\n",
      "|       1| 2019-03-01 00:45:03|  2019-03-01 00:49:38|            1.0|          1.2|       1.0|                 N|         246|          48|           2|        6.0|  3.0|    0.5|       0.0|         0.0|                  0.3|         9.8|                 2.5|       null|\n",
      "|       1| 2019-03-01 00:02:37|  2019-03-01 00:07:30|            1.0|          0.6|       1.0|                 Y|         239|         238|           2|        5.5|  3.0|    0.5|       0.0|         0.0|                  0.3|         9.3|                 2.5|       null|\n",
      "|       2| 2019-02-28 19:52:45|  2019-02-28 20:01:54|            1.0|         5.65|       1.0|                 N|         132|         197|           2|       17.0|  0.5|    0.5|       0.0|         0.0|                  0.3|        18.3|                 0.0|       null|\n",
      "|       2| 2019-03-01 00:14:23|  2019-03-01 00:19:17|            1.0|         1.16|       1.0|                 N|         229|         170|           1|        6.0|  0.5|    0.5|      2.45|         0.0|                  0.3|       12.25|                 2.5|       null|\n",
      "|       2| 2019-03-01 00:19:09|  2019-03-01 00:23:30|            1.0|         0.71|       1.0|                 N|         137|         234|           1|        5.0|  0.5|    0.5|       1.0|         0.0|                  0.3|         9.8|                 2.5|       null|\n",
      "|       2| 2019-03-01 00:06:46|  2019-03-01 00:17:09|            5.0|         2.63|       1.0|                 N|         231|         246|           1|       10.5|  0.5|    0.5|      2.86|         0.0|                  0.3|       17.16|                 2.5|       null|\n",
      "|       1| 2019-03-01 00:00:46|  2019-03-01 00:26:41|            1.0|          5.0|       1.0|                 N|         230|           7|           3|       20.5|  3.0|    0.5|       0.0|         0.0|                  0.3|        24.3|                 2.5|       null|\n",
      "|       2| 2019-03-01 00:00:40|  2019-03-01 00:49:26|            2.0|        14.04|       1.0|                 N|         170|         123|           1|       45.5|  0.5|    0.5|     14.79|         0.0|                  0.3|       64.09|                 2.5|       null|\n",
      "|       1| 2019-03-01 00:21:46|  2019-03-01 00:30:25|            1.0|          2.0|       1.0|                 N|         143|         263|           1|        9.0|  3.0|    0.5|      2.55|         0.0|                  0.3|       15.35|                 2.5|       null|\n",
      "|       2| 2019-03-01 00:25:16|  2019-03-01 00:31:39|            5.0|         2.11|       1.0|                 N|         229|         236|           1|        8.0|  0.5|    0.5|       2.0|         0.0|                  0.3|        13.8|                 2.5|       null|\n",
      "|       1| 2019-03-01 00:03:09|  2019-03-01 00:49:16|            1.0|          6.8|       1.0|                 N|         162|          49|           2|       31.5|  3.0|    0.5|       0.0|         0.0|                  0.3|        35.3|                 2.5|       null|\n",
      "|       2| 2019-03-01 00:55:49|  2019-03-01 01:11:06|            1.0|         5.97|       1.0|                 N|         152|         153|           2|       19.0|  0.5|    0.5|       0.0|         0.0|                  0.3|        20.3|                 0.0|       null|\n",
      "|       1| 2019-03-01 00:35:42|  2019-03-01 00:47:06|            1.0|          3.4|       1.0|                 N|         162|          74|           1|       12.0|  3.0|    0.5|       1.5|         0.0|                  0.3|        17.3|                 2.5|       null|\n",
      "|       2| 2019-03-01 00:45:03|  2019-03-01 01:14:25|            1.0|        16.89|       2.0|                 N|         132|         229|           1|       52.0|  0.0|    0.5|     11.06|         0.0|                  0.3|       66.36|                 2.5|       null|\n",
      "|       1| 2019-03-01 00:42:38|  2019-03-01 01:02:58|            1.0|          5.4|       1.0|                 N|          25|         246|           1|       19.5|  3.0|    0.5|       3.5|         0.0|                  0.3|        26.8|                 2.5|       null|\n",
      "+--------+--------------------+---------------------+---------------+-------------+----------+------------------+------------+------------+------------+-----------+-----+-------+----------+------------+---------------------+------------+--------------------+-----------+\n",
      "only showing top 20 rows\n",
      "\n"
     ]
    },
    {
     "name": "stderr",
     "output_type": "stream",
     "text": [
      "\r",
      "                                                                                \r"
     ]
    }
   ],
   "source": [
    "# for yellow taxis\n",
    "df_yel.show()\n"
   ]
  },
  {
   "cell_type": "code",
   "execution_count": 9,
   "id": "de3503e9",
   "metadata": {},
   "outputs": [
    {
     "name": "stdout",
     "output_type": "stream",
     "text": [
      "+--------------------+-------------------+-------------------+------------+------------+-------+----------------------+\n",
      "|dispatching_base_num|    pickup_datetime|   dropOff_datetime|PUlocationID|DOlocationID|SR_Flag|Affiliated_base_number|\n",
      "+--------------------+-------------------+-------------------+------------+------------+-------+----------------------+\n",
      "|              B00013|2019-03-01 00:09:15|2019-03-01 00:26:20|       264.0|       264.0|   null|                B00013|\n",
      "|              B00013|2019-03-01 00:00:08|2019-03-02 00:30:33|       264.0|       264.0|   null|                B00013|\n",
      "|              B00013|2019-03-01 00:55:38|2019-03-01 01:03:13|       264.0|       264.0|   null|                B00013|\n",
      "|              B00013|2019-03-01 00:56:30|2019-03-01 01:00:43|       264.0|       264.0|   null|                B00013|\n",
      "|              B00014|2019-03-01 00:53:03|2019-03-01 00:59:46|       264.0|       264.0|   null|                B00014|\n",
      "|              B00014|2019-03-01 00:14:07|2019-03-01 00:21:40|       264.0|       264.0|   null|                B00014|\n",
      "|              B00014|2019-03-01 00:33:34|2019-03-01 01:00:09|       264.0|       264.0|   null|                B00014|\n",
      "|              B00014|2019-03-01 00:58:43|2019-03-01 01:26:38|       264.0|       264.0|   null|                B00014|\n",
      "|              B00014|2019-03-01 00:07:27|2019-03-02 00:09:05|       264.0|       264.0|   null|                B00014|\n",
      "|              B00014|2019-03-01 00:51:38|2019-03-01 01:35:07|       264.0|       264.0|   null|                B00014|\n",
      "|              B00014|2019-03-01 00:44:42|2019-03-02 01:19:05|       264.0|       264.0|   null|                B00014|\n",
      "|              B00014|2019-03-01 00:32:27|2019-03-01 00:59:10|       264.0|       264.0|   null|                B00014|\n",
      "|              B00037|2019-03-01 00:36:51|2019-03-01 00:49:45|       264.0|       265.0|   null|                B02617|\n",
      "|              B00053|2019-03-01 00:18:30|2019-03-02 01:47:14|       264.0|       264.0|   null|                B00053|\n",
      "|              B00053|2019-03-01 00:11:34|2019-03-02 00:50:35|       264.0|       264.0|   null|                B00053|\n",
      "|              B00112|2019-03-01 00:20:49|2019-03-01 01:00:19|       264.0|       265.0|   null|                B00112|\n",
      "|              B00160|2019-03-01 00:06:00|2019-03-01 00:17:00|       264.0|       264.0|   null|                B00160|\n",
      "|              B00160|2019-03-01 00:54:00|2019-03-01 00:57:00|       264.0|       264.0|   null|                B00160|\n",
      "|              B00160|2019-03-01 00:14:00|2019-03-01 00:22:00|       264.0|       264.0|   null|                B00160|\n",
      "|              B00221|2019-03-01 00:04:07|2019-03-01 00:04:11|       264.0|       265.0|   null|                B00221|\n",
      "+--------------------+-------------------+-------------------+------------+------------+-------+----------------------+\n",
      "only showing top 20 rows\n",
      "\n"
     ]
    }
   ],
   "source": [
    "# for fhv taxis\n",
    "df_fhv.show()"
   ]
  },
  {
   "cell_type": "code",
   "execution_count": null,
   "id": "04d90811",
   "metadata": {},
   "outputs": [],
   "source": []
  },
  {
   "cell_type": "markdown",
   "id": "9205b892",
   "metadata": {},
   "source": [
    "## Investigate (at least) one month of data in 2019"
   ]
  },
  {
   "cell_type": "markdown",
   "id": "bf871092",
   "metadata": {},
   "source": [
    "1. Using these boundaries, filter the 2019 data (using pickup and dropoff longitude and\n",
    "latitude) and count the number of trips for each value of passenger_count and make a\n",
    "plot of that."
   ]
  },
  {
   "cell_type": "code",
   "execution_count": 10,
   "id": "ec479a99",
   "metadata": {},
   "outputs": [
    {
     "name": "stdout",
     "output_type": "stream",
     "text": [
      "+----------+------------------+------------------+--------------------+-------------+\n",
      "|LocationID|          latitude|         longitude|                zone|      borough|\n",
      "+----------+------------------+------------------+--------------------+-------------+\n",
      "|         1| 40.69183016020958|-74.17400156582248|      Newark Airport|          EWR|\n",
      "|         2|40.616746199373786|-73.83129979354713|         Jamaica Bay|       Queens|\n",
      "|         3| 40.86447372906585| -73.8474217852696|Allerton/Pelham G...|        Bronx|\n",
      "|         4| 40.72375208451233|-73.97696827424141|       Alphabet City|    Manhattan|\n",
      "|         5| 40.55265878064343|-74.18848459794721|       Arden Heights|Staten Island|\n",
      "|         6|40.600324409468406|-74.07177024696533|Arrochar/Fort Wad...|Staten Island|\n",
      "|         7| 40.76149261704312|-73.91969433569462|             Astoria|       Queens|\n",
      "|         8| 40.77855862576789|-73.92308626324494|        Astoria Park|       Queens|\n",
      "|         9| 40.75103435668663|-73.78794875477833|          Auburndale|       Queens|\n",
      "|        10| 40.67895308442328|-73.79098676199028|        Baisley Park|       Queens|\n",
      "|        11| 40.60427268170343|-74.00748784386448|          Bath Beach|     Brooklyn|\n",
      "|        12| 40.70294582144012|-74.01556349991374|        Battery Park|    Manhattan|\n",
      "|        13| 40.71203792466726|-74.01607927269924|   Battery Park City|    Manhattan|\n",
      "|        14| 40.62483367229869|    -74.0298925099|           Bay Ridge|     Brooklyn|\n",
      "|        15| 40.78333300468791|-73.78597285841018|Bay Terrace/Fort ...|       Queens|\n",
      "|        16|40.762737532164934|-73.77342112932584|             Bayside|       Queens|\n",
      "|        17|40.691507021611976|-73.94990480444068|             Bedford|     Brooklyn|\n",
      "|        18| 40.86768222238495|-73.89018381164814|        Bedford Park|        Bronx|\n",
      "|        19| 40.73548651046705|-73.72665540152784|           Bellerose|       Queens|\n",
      "|        20|40.857779440562844|-73.88586744911127|             Belmont|        Bronx|\n",
      "+----------+------------------+------------------+--------------------+-------------+\n",
      "only showing top 20 rows\n",
      "\n"
     ]
    },
    {
     "name": "stderr",
     "output_type": "stream",
     "text": [
      "\r",
      "[Stage 6:>                                                          (0 + 1) / 1]\r",
      "\r",
      "                                                                                \r"
     ]
    }
   ],
   "source": [
    "from pyspark.sql.functions import *\n",
    "  \n",
    "# Return Centroid as crs code of 3310 for calcuating distance in meters.\n",
    "     \n",
    "df_zones[\"centroid\"] = df_zones.geometry.centroid.to_crs(epsg=3310)\n",
    "    \n",
    "# Convert cordinates to the WSG84 lat/long CRS has a EPSG code of 4326.\n",
    "df_zones[\"latitude\"] = df_zones.centroid.to_crs(epsg=4326).y\n",
    "df_zones[\"longitude\"] = df_zones.centroid.to_crs(epsg=4326).x\n",
    "df_zones =df_zones[['LocationID','latitude','longitude','zone','borough']]\n",
    "\n",
    "#convert dataframe zones to spark dataframe \n",
    "df_zones=spark.createDataFrame(df_zones)\n",
    "\n",
    "\n",
    "df_zones.show()"
   ]
  },
  {
   "cell_type": "code",
   "execution_count": 11,
   "id": "4245dd1d",
   "metadata": {},
   "outputs": [],
   "source": [
    "# rename columns\n",
    "def renameColumns(df, old_columns, new_columns):\n",
    "    \n",
    "    for old_col, new_col in zip(old_columns,new_columns):\n",
    "        df = df.withColumnRenamed(old_col,new_col)\n",
    "    return df\n",
    "\n",
    "def renameFullColumns(df):\n",
    "    old_columns = ['LocationID','latitude','longitude','zone','borough']\n",
    "    new_columns_pickup = ['DOLocationID', 'pickup_latitude','pickup_longitude',\n",
    "                          'zones_pickup_location','borough_pickup_location']\n",
    "    new_columns_dropoff = ['PULocationID', 'dropoff_latitude','dropoff_longitude',\n",
    "                           'zones_dropoff_location','borough_dropoff_location']\n",
    "    zones_pickup = renameColumns(df, old_columns, new_columns_pickup)\n",
    "    zones_dropoff = renameColumns(df, old_columns, new_columns_dropoff)\n",
    "    return zones_pickup, zones_dropoff\n",
    "\n",
    "# Join trips data with df_zones in order to have longitudes and latitudes\n",
    "def joinDataframes(df,zones_pickup, zones_dropoff):\n",
    "    df=df.join(zones_pickup,['DOLocationID'])\n",
    "    df=df.join(zones_dropoff,['PULocationID'])\n",
    "    return df\n",
    "df_zones.show\n",
    "\n",
    "zones_pickup , zones_dropoff = renameFullColumns(df_zones)"
   ]
  },
  {
   "cell_type": "code",
   "execution_count": 12,
   "id": "256eac0e",
   "metadata": {},
   "outputs": [
    {
     "name": "stderr",
     "output_type": "stream",
     "text": [
      "23/05/30 00:59:35 WARN package: Truncated the string representation of a plan since it was too large. This behavior can be adjusted by setting 'spark.sql.debug.maxToStringFields'.\n",
      "[Stage 7:===================================================>       (7 + 1) / 8]\r"
     ]
    },
    {
     "name": "stdout",
     "output_type": "stream",
     "text": [
      "+------------+------------+--------+--------------------+---------------------+---------------+-------------+----------+------------------+------------+-----------+-----+-------+----------+------------+---------------------+------------+--------------------+-----------+-----------------+------------------+---------------------+-----------------------+------------------+------------------+----------------------+------------------------+\n",
      "|PULocationID|DOLocationID|VendorID|tpep_pickup_datetime|tpep_dropoff_datetime|passenger_count|trip_distance|RatecodeID|store_and_fwd_flag|payment_type|fare_amount|extra|mta_tax|tip_amount|tolls_amount|improvement_surcharge|total_amount|congestion_surcharge|airport_fee|  pickup_latitude|  pickup_longitude|zones_pickup_location|borough_pickup_location|  dropoff_latitude| dropoff_longitude|zones_dropoff_location|borough_dropoff_location|\n",
      "+------------+------------+--------+--------------------+---------------------+---------------+-------------+----------+------------------+------------+-----------+-----+-------+----------+------------+---------------------+------------+--------------------+-----------+-----------------+------------------+---------------------+-----------------------+------------------+------------------+----------------------+------------------------+\n",
      "|          26|          26|       2| 2019-03-01 00:23:46|  2019-03-01 00:36:34|            1.0|         0.99|       1.0|                 N|           1|        9.0|  0.5|    0.5|       0.0|         0.0|                  0.3|        10.3|                 0.0|       null|40.63094925326426|-73.98866057160336|         Borough Park|               Brooklyn| 40.63094925326426|-73.98866057160336|          Borough Park|                Brooklyn|\n",
      "|         132|          26|       2| 2019-03-01 00:12:02|  2019-03-01 00:47:04|            1.0|        19.43|       1.0|                 N|           2|       53.5|  0.5|    0.5|       0.0|         0.0|                  0.3|        54.8|                 0.0|       null|40.63094925326426|-73.98866057160336|         Borough Park|               Brooklyn|  40.6469851002482|-73.78652986349012|           JFK Airport|                  Queens|\n",
      "|         230|          26|       2| 2019-03-01 00:09:55|  2019-03-01 00:42:51|            3.0|        10.74|       1.0|                 N|           2|       33.0|  0.5|    0.5|       0.0|         0.0|                  0.3|        36.8|                 2.5|       null|40.63094925326426|-73.98866057160336|         Borough Park|               Brooklyn|40.759817566309465|-73.98419655675737|  Times Sq/Theatre ...|               Manhattan|\n",
      "|          90|          26|       1| 2019-03-01 00:27:15|  2019-03-01 00:49:30|            1.0|          9.0|       1.0|                 N|           1|       26.5|  3.0|    0.5|       5.0|        5.76|                  0.3|       41.06|                 2.5|       null|40.63094925326426|-73.98866057160336|         Borough Park|               Brooklyn| 40.74227858331221|-73.99697147759031|              Flatiron|               Manhattan|\n",
      "|          87|          26|       1| 2019-03-01 01:15:13|  2019-03-01 01:35:53|            1.0|         10.0|       1.0|                 N|           1|       29.5|  3.0|    0.5|       4.0|         0.0|                  0.3|        37.3|                 2.5|       null|40.63094925326426|-73.98866057160336|         Borough Park|               Brooklyn|   40.706808425516|-74.00749595416085|  Financial Distric...|               Manhattan|\n",
      "|         100|          26|       1| 2019-03-01 01:35:31|  2019-03-01 02:02:18|            1.0|         11.8|       1.0|                 N|           1|       33.5|  3.0|    0.5|     11.15|         0.0|                  0.3|       48.45|                 2.5|       null|40.63094925326426|-73.98866057160336|         Borough Park|               Brooklyn| 40.75351274051303|-73.98878660966813|      Garment District|               Manhattan|\n",
      "|         164|          26|       2| 2019-03-01 01:26:22|  2019-03-01 02:18:40|            5.0|        12.01|       1.0|                 N|           1|       45.5|  0.5|    0.5|      9.86|         0.0|                  0.3|       59.16|                 2.5|       null|40.63094925326426|-73.98866057160336|         Borough Park|               Brooklyn| 40.74857453693653|-73.98515644835915|         Midtown South|               Manhattan|\n",
      "|         148|          26|       2| 2019-03-01 00:59:58|  2019-03-01 01:29:30|            1.0|         9.15|       1.0|                 N|           1|       30.0|  0.5|    0.5|      8.45|         0.0|                  0.3|       42.25|                 2.5|       null|40.63094925326426|-73.98866057160336|         Borough Park|               Brooklyn|40.718938301131104|-73.99089636602756|       Lower East Side|               Manhattan|\n",
      "|          22|          26|       2| 2019-03-01 02:11:02|  2019-03-01 02:16:04|            1.0|         1.12|       1.0|                 N|           2|        6.0|  0.5|    0.5|       0.0|         0.0|                  0.3|         7.3|                 0.0|       null|40.63094925326426|-73.98866057160336|         Borough Park|               Brooklyn| 40.61221766982796|-73.99525864587314|      Bensonhurst West|                Brooklyn|\n",
      "|          26|          26|       2| 2019-03-01 02:17:18|  2019-03-01 02:21:55|            1.0|         0.51|       1.0|                 N|           2|        5.0|  0.5|    0.5|       0.0|         0.0|                  0.3|         6.3|                 0.0|       null|40.63094925326426|-73.98866057160336|         Borough Park|               Brooklyn| 40.63094925326426|-73.98866057160336|          Borough Park|                Brooklyn|\n",
      "|          26|          26|       2| 2019-03-01 02:26:20|  2019-03-01 02:33:52|            1.0|         0.25|       1.0|                 N|           2|        6.0|  0.5|    0.5|       0.0|         0.0|                  0.3|         7.3|                 0.0|       null|40.63094925326426|-73.98866057160336|         Borough Park|               Brooklyn| 40.63094925326426|-73.98866057160336|          Borough Park|                Brooklyn|\n",
      "|          48|          29|       2| 2019-03-01 01:59:35|  2019-03-01 02:38:41|            1.0|        15.86|       1.0|                 N|           2|       44.0|  0.5|    0.5|       0.0|         0.0|                  0.3|        47.8|                 2.5|       null|40.58092175157135|-73.96121662082737|       Brighton Beach|               Brooklyn| 40.76225259858686|-73.98984489812494|          Clinton East|               Manhattan|\n",
      "|          48|          26|       1| 2019-03-01 03:39:15|  2019-03-01 04:08:05|            1.0|         13.4|       1.0|                 N|           3|       38.0|  3.0|    0.5|       0.0|         0.0|                  0.3|        41.8|                 2.5|       null|40.63094925326426|-73.98866057160336|         Borough Park|               Brooklyn| 40.76225259858686|-73.98984489812494|          Clinton East|               Manhattan|\n",
      "|          85|          26|       1| 2019-03-01 03:57:07|  2019-03-01 04:10:47|            2.0|          3.1|       1.0|                 N|           1|       12.5|  0.5|    0.5|       0.0|         0.0|                  0.3|        13.8|                 0.0|       null|40.63094925326426|-73.98866057160336|         Borough Park|               Brooklyn|  40.6461161546567|-73.95162326816249|               Erasmus|                Brooklyn|\n",
      "|         132|          26|       2| 2019-03-01 04:52:01|  2019-03-01 05:22:00|            5.0|        19.28|       1.0|                 N|           2|       51.5|  0.5|    0.5|       0.0|         0.0|                  0.3|        52.8|                 0.0|       null|40.63094925326426|-73.98866057160336|         Borough Park|               Brooklyn|  40.6469851002482|-73.78652986349012|           JFK Airport|                  Queens|\n",
      "|          14|          26|       2| 2019-03-01 04:42:46|  2019-03-01 04:55:26|            1.0|         2.68|       1.0|                 N|           1|       12.0|  0.5|    0.5|       0.0|         0.0|                  0.3|        13.3|                 0.0|       null|40.63094925326426|-73.98866057160336|         Borough Park|               Brooklyn| 40.62483367229869|    -74.0298925099|             Bay Ridge|                Brooklyn|\n",
      "|          61|          29|       2| 2019-03-01 05:05:37|  2019-03-01 05:31:49|            1.0|         7.14|       5.0|                 N|           1|      21.59|  0.0|    0.5|       0.0|         0.0|                  0.3|       22.39|                 0.0|       null|40.58092175157135|-73.96121662082737|       Brighton Beach|               Brooklyn|40.674469714192334|-73.93928693565553|   Crown Heights North|                Brooklyn|\n",
      "|          29|          29|       2| 2019-03-01 06:16:08|  2019-03-01 06:16:13|            1.0|          0.0|       1.0|                 N|           3|       -2.5|  0.0|   -0.5|       0.0|         0.0|                 -0.3|        -3.3|                 0.0|       null|40.58092175157135|-73.96121662082737|       Brighton Beach|               Brooklyn| 40.58092175157135|-73.96121662082737|        Brighton Beach|                Brooklyn|\n",
      "|          29|          29|       2| 2019-03-01 06:16:08|  2019-03-01 06:16:13|            1.0|          0.0|       1.0|                 N|           2|        2.5|  0.0|    0.5|       0.0|         0.0|                  0.3|         3.3|                 0.0|       null|40.58092175157135|-73.96121662082737|       Brighton Beach|               Brooklyn| 40.58092175157135|-73.96121662082737|        Brighton Beach|                Brooklyn|\n",
      "|         132|          26|       2| 2019-03-01 06:40:03|  2019-03-01 07:56:06|            2.0|        22.06|       1.0|                 N|           2|       70.0|  0.0|    0.5|       0.0|         0.0|                  0.3|        70.8|                 0.0|       null|40.63094925326426|-73.98866057160336|         Borough Park|               Brooklyn|  40.6469851002482|-73.78652986349012|           JFK Airport|                  Queens|\n",
      "+------------+------------+--------+--------------------+---------------------+---------------+-------------+----------+------------------+------------+-----------+-----+-------+----------+------------+---------------------+------------+--------------------+-----------+-----------------+------------------+---------------------+-----------------------+------------------+------------------+----------------------+------------------------+\n",
      "only showing top 20 rows\n",
      "\n"
     ]
    },
    {
     "name": "stderr",
     "output_type": "stream",
     "text": [
      "\r",
      "                                                                                \r"
     ]
    }
   ],
   "source": [
    "# for yellow taxis\n",
    "full_data_yel = joinDataframes(df_yel, zones_pickup, zones_dropoff)\n",
    "full_data_yel.show()"
   ]
  },
  {
   "cell_type": "code",
   "execution_count": 13,
   "id": "d9149dfd",
   "metadata": {},
   "outputs": [
    {
     "name": "stderr",
     "output_type": "stream",
     "text": [
      "\r",
      "[Stage 15:===========================================>              (3 + 1) / 4]\r"
     ]
    },
    {
     "name": "stdout",
     "output_type": "stream",
     "text": [
      "+------------+------------+--------------------+-------------------+-------------------+-------+----------------------+------------------+------------------+---------------------+-----------------------+------------------+------------------+----------------------+------------------------+\n",
      "|PUlocationID|DOlocationID|dispatching_base_num|    pickup_datetime|   dropOff_datetime|SR_Flag|Affiliated_base_number|   pickup_latitude|  pickup_longitude|zones_pickup_location|borough_pickup_location|  dropoff_latitude| dropoff_longitude|zones_dropoff_location|borough_dropoff_location|\n",
      "+------------+------------+--------------------+-------------------+-------------------+-------+----------------------+------------------+------------------+---------------------+-----------------------+------------------+------------------+----------------------+------------------------+\n",
      "|       184.0|       184.0|              B00419|2019-03-01 01:30:10|2019-03-01 01:30:21|   null|                B00419|40.868275112649606|-73.80785826289252|      Pelham Bay Park|                  Bronx|40.868275112649606|-73.80785826289252|       Pelham Bay Park|                   Bronx|\n",
      "|       184.0|       184.0|              B00419|2019-03-01 01:50:23|2019-03-01 01:50:29|   null|                B00419|40.868275112649606|-73.80785826289252|      Pelham Bay Park|                  Bronx|40.868275112649606|-73.80785826289252|       Pelham Bay Park|                   Bronx|\n",
      "|       184.0|       184.0|              B00419|2019-03-01 02:47:56|2019-03-01 02:48:16|   null|                B00419|40.868275112649606|-73.80785826289252|      Pelham Bay Park|                  Bronx|40.868275112649606|-73.80785826289252|       Pelham Bay Park|                   Bronx|\n",
      "|       184.0|       184.0|              B00419|2019-03-01 02:59:17|2019-03-01 02:59:24|   null|                B00419|40.868275112649606|-73.80785826289252|      Pelham Bay Park|                  Bronx|40.868275112649606|-73.80785826289252|       Pelham Bay Park|                   Bronx|\n",
      "|       184.0|       184.0|              B00419|2019-03-01 03:28:58|2019-03-01 03:29:04|   null|                B00419|40.868275112649606|-73.80785826289252|      Pelham Bay Park|                  Bronx|40.868275112649606|-73.80785826289252|       Pelham Bay Park|                   Bronx|\n",
      "|       184.0|       184.0|              B00419|2019-03-01 03:43:10|2019-03-01 03:43:16|   null|                B00419|40.868275112649606|-73.80785826289252|      Pelham Bay Park|                  Bronx|40.868275112649606|-73.80785826289252|       Pelham Bay Park|                   Bronx|\n",
      "|        56.0|       147.0|     B01066         |2019-03-01 03:54:10|2019-03-01 04:24:33|   null|       B01066         | 40.81967568059163|-73.89895654395085|             Longwood|                  Bronx| 40.75181933958824| -73.8535815482027|                Corona|                  Queens|\n",
      "|        56.0|       147.0|     B01066         |2019-03-01 03:54:10|2019-03-01 04:24:33|   null|       B01066         | 40.81967568059163|-73.89895654395085|             Longwood|                  Bronx| 40.74140671948818|-73.85884527575628|                Corona|                  Queens|\n",
      "|       147.0|       147.0|              B00419|2019-03-01 04:32:09|2019-03-01 04:32:17|   null|                B00419| 40.81967568059163|-73.89895654395085|             Longwood|                  Bronx| 40.81967568059163|-73.89895654395085|              Longwood|                   Bronx|\n",
      "|       184.0|       184.0|              B00419|2019-03-01 04:56:34|2019-03-01 04:56:40|   null|                B00419|40.868275112649606|-73.80785826289252|      Pelham Bay Park|                  Bronx|40.868275112649606|-73.80785826289252|       Pelham Bay Park|                   Bronx|\n",
      "|       132.0|       170.0|              B01087|2019-03-01 05:12:49|2019-03-01 06:08:37|   null|                B01087| 40.74774573203896|-73.97849158432054|          Murray Hill|              Manhattan|  40.6469851002482|-73.78652986349012|           JFK Airport|                  Queens|\n",
      "|       242.0|       170.0|     B03084         |2019-03-01 05:14:09|2019-03-01 07:50:29|   null|                B02671| 40.74774573203896|-73.97849158432054|          Murray Hill|              Manhattan| 40.84678316501388|-73.85067120117776|  Van Nest/Morris Park|                   Bronx|\n",
      "|       132.0|       170.0|              B02715|2019-03-01 06:54:02|2019-03-01 08:13:45|   null|                  null| 40.74774573203896|-73.97849158432054|          Murray Hill|              Manhattan|  40.6469851002482|-73.78652986349012|           JFK Airport|                  Queens|\n",
      "|       198.0|       170.0|              B00987|2019-03-01 07:41:00|2019-03-01 09:02:00|   null|                B00987| 40.74774573203896|-73.97849158432054|          Murray Hill|              Manhattan| 40.70652682085338| -73.9017091770337|             Ridgewood|                  Queens|\n",
      "|       162.0|       170.0|              B01087|2019-03-01 07:58:10|2019-03-01 12:07:30|   null|                B01087| 40.74774573203896|-73.97849158432054|          Murray Hill|              Manhattan| 40.75668753761734|-73.97235615813489|          Midtown East|               Manhattan|\n",
      "|       167.0|       147.0|              B03017|2019-03-01 07:06:38|2019-03-01 07:17:11|   null|                B03017| 40.81967568059163|-73.89895654395085|             Longwood|                  Bronx| 40.82751259617853|-73.90235207986518|    Morrisania/Melrose|                   Bronx|\n",
      "|       168.0|       147.0|              B03017|2019-03-01 07:30:47|2019-03-01 07:41:19|   null|                B03017| 40.81967568059163|-73.89895654395085|             Longwood|                  Bronx|40.807347116380264|-73.91682152685682|  Mott Haven/Port M...|                   Bronx|\n",
      "|       168.0|       147.0|              B03017|2019-03-01 07:36:04|2019-03-01 07:41:35|   null|                B03017| 40.81967568059163|-73.89895654395085|             Longwood|                  Bronx|40.807347116380264|-73.91682152685682|  Mott Haven/Port M...|                   Bronx|\n",
      "|       119.0|       170.0|     B03084         |2019-03-01 07:59:11|2019-03-01 09:37:06|   null|                B02844| 40.74774573203896|-73.97849158432054|          Murray Hill|              Manhattan|40.837826783716714|-73.92615757846964|            Highbridge|                   Bronx|\n",
      "|       142.0|       170.0|              B02060|2019-03-01 08:34:49|2019-03-01 09:08:12|   null|                B02060| 40.74774573203896|-73.97849158432054|          Murray Hill|              Manhattan|  40.7736331961289|-73.98153235360773|   Lincoln Square East|               Manhattan|\n",
      "+------------+------------+--------------------+-------------------+-------------------+-------+----------------------+------------------+------------------+---------------------+-----------------------+------------------+------------------+----------------------+------------------------+\n",
      "only showing top 20 rows\n",
      "\n"
     ]
    },
    {
     "name": "stderr",
     "output_type": "stream",
     "text": [
      "\r",
      "                                                                                \r"
     ]
    }
   ],
   "source": [
    "# for fhv taxis\n",
    "full_data_fhv = joinDataframes(df_fhv, zones_pickup, zones_dropoff)\n",
    "full_data_fhv.show()"
   ]
  },
  {
   "cell_type": "code",
   "execution_count": 14,
   "id": "2a306a6e",
   "metadata": {},
   "outputs": [],
   "source": [
    "\n",
    "def filterData(df):\n",
    "    return df[(df['pickup_latitude'] >= 40.58) & \n",
    "                  (df['pickup_latitude'] <= 40.90) & \n",
    "                  (df['dropoff_latitude'] >= 40.58) & \n",
    "                  (df['dropoff_latitude'] <= 40.90) & \n",
    "                  (df['pickup_longitude'] >= -74.10) & \n",
    "                  (df['pickup_longitude'] <= -73.70) & \n",
    "                  (df['dropoff_longitude'] >= -74.10) & \n",
    "                  (df['dropoff_longitude'] <= -73.70)]\n"
   ]
  },
  {
   "cell_type": "code",
   "execution_count": 15,
   "id": "f2c42c53",
   "metadata": {},
   "outputs": [
    {
     "name": "stderr",
     "output_type": "stream",
     "text": [
      "\r",
      "[Stage 23:==================================================>       (7 + 1) / 8]\r"
     ]
    },
    {
     "name": "stdout",
     "output_type": "stream",
     "text": [
      "+------------+------------+--------+--------------------+---------------------+---------------+-------------+----------+------------------+------------+-----------+-----+-------+----------+------------+---------------------+------------+--------------------+-----------+-----------------+------------------+---------------------+-----------------------+------------------+------------------+----------------------+------------------------+\n",
      "|PULocationID|DOLocationID|VendorID|tpep_pickup_datetime|tpep_dropoff_datetime|passenger_count|trip_distance|RatecodeID|store_and_fwd_flag|payment_type|fare_amount|extra|mta_tax|tip_amount|tolls_amount|improvement_surcharge|total_amount|congestion_surcharge|airport_fee|  pickup_latitude|  pickup_longitude|zones_pickup_location|borough_pickup_location|  dropoff_latitude| dropoff_longitude|zones_dropoff_location|borough_dropoff_location|\n",
      "+------------+------------+--------+--------------------+---------------------+---------------+-------------+----------+------------------+------------+-----------+-----+-------+----------+------------+---------------------+------------+--------------------+-----------+-----------------+------------------+---------------------+-----------------------+------------------+------------------+----------------------+------------------------+\n",
      "|          26|          26|       2| 2019-03-01 00:23:46|  2019-03-01 00:36:34|            1.0|         0.99|       1.0|                 N|           1|        9.0|  0.5|    0.5|       0.0|         0.0|                  0.3|        10.3|                 0.0|       null|40.63094925326426|-73.98866057160336|         Borough Park|               Brooklyn| 40.63094925326426|-73.98866057160336|          Borough Park|                Brooklyn|\n",
      "|         132|          26|       2| 2019-03-01 00:12:02|  2019-03-01 00:47:04|            1.0|        19.43|       1.0|                 N|           2|       53.5|  0.5|    0.5|       0.0|         0.0|                  0.3|        54.8|                 0.0|       null|40.63094925326426|-73.98866057160336|         Borough Park|               Brooklyn|  40.6469851002482|-73.78652986349012|           JFK Airport|                  Queens|\n",
      "|         230|          26|       2| 2019-03-01 00:09:55|  2019-03-01 00:42:51|            3.0|        10.74|       1.0|                 N|           2|       33.0|  0.5|    0.5|       0.0|         0.0|                  0.3|        36.8|                 2.5|       null|40.63094925326426|-73.98866057160336|         Borough Park|               Brooklyn|40.759817566309465|-73.98419655675737|  Times Sq/Theatre ...|               Manhattan|\n",
      "|          90|          26|       1| 2019-03-01 00:27:15|  2019-03-01 00:49:30|            1.0|          9.0|       1.0|                 N|           1|       26.5|  3.0|    0.5|       5.0|        5.76|                  0.3|       41.06|                 2.5|       null|40.63094925326426|-73.98866057160336|         Borough Park|               Brooklyn| 40.74227858331221|-73.99697147759031|              Flatiron|               Manhattan|\n",
      "|          87|          26|       1| 2019-03-01 01:15:13|  2019-03-01 01:35:53|            1.0|         10.0|       1.0|                 N|           1|       29.5|  3.0|    0.5|       4.0|         0.0|                  0.3|        37.3|                 2.5|       null|40.63094925326426|-73.98866057160336|         Borough Park|               Brooklyn|   40.706808425516|-74.00749595416085|  Financial Distric...|               Manhattan|\n",
      "|         100|          26|       1| 2019-03-01 01:35:31|  2019-03-01 02:02:18|            1.0|         11.8|       1.0|                 N|           1|       33.5|  3.0|    0.5|     11.15|         0.0|                  0.3|       48.45|                 2.5|       null|40.63094925326426|-73.98866057160336|         Borough Park|               Brooklyn| 40.75351274051303|-73.98878660966813|      Garment District|               Manhattan|\n",
      "|         164|          26|       2| 2019-03-01 01:26:22|  2019-03-01 02:18:40|            5.0|        12.01|       1.0|                 N|           1|       45.5|  0.5|    0.5|      9.86|         0.0|                  0.3|       59.16|                 2.5|       null|40.63094925326426|-73.98866057160336|         Borough Park|               Brooklyn| 40.74857453693653|-73.98515644835915|         Midtown South|               Manhattan|\n",
      "|         148|          26|       2| 2019-03-01 00:59:58|  2019-03-01 01:29:30|            1.0|         9.15|       1.0|                 N|           1|       30.0|  0.5|    0.5|      8.45|         0.0|                  0.3|       42.25|                 2.5|       null|40.63094925326426|-73.98866057160336|         Borough Park|               Brooklyn|40.718938301131104|-73.99089636602756|       Lower East Side|               Manhattan|\n",
      "|          22|          26|       2| 2019-03-01 02:11:02|  2019-03-01 02:16:04|            1.0|         1.12|       1.0|                 N|           2|        6.0|  0.5|    0.5|       0.0|         0.0|                  0.3|         7.3|                 0.0|       null|40.63094925326426|-73.98866057160336|         Borough Park|               Brooklyn| 40.61221766982796|-73.99525864587314|      Bensonhurst West|                Brooklyn|\n",
      "|          26|          26|       2| 2019-03-01 02:17:18|  2019-03-01 02:21:55|            1.0|         0.51|       1.0|                 N|           2|        5.0|  0.5|    0.5|       0.0|         0.0|                  0.3|         6.3|                 0.0|       null|40.63094925326426|-73.98866057160336|         Borough Park|               Brooklyn| 40.63094925326426|-73.98866057160336|          Borough Park|                Brooklyn|\n",
      "|          26|          26|       2| 2019-03-01 02:26:20|  2019-03-01 02:33:52|            1.0|         0.25|       1.0|                 N|           2|        6.0|  0.5|    0.5|       0.0|         0.0|                  0.3|         7.3|                 0.0|       null|40.63094925326426|-73.98866057160336|         Borough Park|               Brooklyn| 40.63094925326426|-73.98866057160336|          Borough Park|                Brooklyn|\n",
      "|          48|          29|       2| 2019-03-01 01:59:35|  2019-03-01 02:38:41|            1.0|        15.86|       1.0|                 N|           2|       44.0|  0.5|    0.5|       0.0|         0.0|                  0.3|        47.8|                 2.5|       null|40.58092175157135|-73.96121662082737|       Brighton Beach|               Brooklyn| 40.76225259858686|-73.98984489812494|          Clinton East|               Manhattan|\n",
      "|          48|          26|       1| 2019-03-01 03:39:15|  2019-03-01 04:08:05|            1.0|         13.4|       1.0|                 N|           3|       38.0|  3.0|    0.5|       0.0|         0.0|                  0.3|        41.8|                 2.5|       null|40.63094925326426|-73.98866057160336|         Borough Park|               Brooklyn| 40.76225259858686|-73.98984489812494|          Clinton East|               Manhattan|\n",
      "|          85|          26|       1| 2019-03-01 03:57:07|  2019-03-01 04:10:47|            2.0|          3.1|       1.0|                 N|           1|       12.5|  0.5|    0.5|       0.0|         0.0|                  0.3|        13.8|                 0.0|       null|40.63094925326426|-73.98866057160336|         Borough Park|               Brooklyn|  40.6461161546567|-73.95162326816249|               Erasmus|                Brooklyn|\n",
      "|         132|          26|       2| 2019-03-01 04:52:01|  2019-03-01 05:22:00|            5.0|        19.28|       1.0|                 N|           2|       51.5|  0.5|    0.5|       0.0|         0.0|                  0.3|        52.8|                 0.0|       null|40.63094925326426|-73.98866057160336|         Borough Park|               Brooklyn|  40.6469851002482|-73.78652986349012|           JFK Airport|                  Queens|\n",
      "|          14|          26|       2| 2019-03-01 04:42:46|  2019-03-01 04:55:26|            1.0|         2.68|       1.0|                 N|           1|       12.0|  0.5|    0.5|       0.0|         0.0|                  0.3|        13.3|                 0.0|       null|40.63094925326426|-73.98866057160336|         Borough Park|               Brooklyn| 40.62483367229869|    -74.0298925099|             Bay Ridge|                Brooklyn|\n",
      "|          61|          29|       2| 2019-03-01 05:05:37|  2019-03-01 05:31:49|            1.0|         7.14|       5.0|                 N|           1|      21.59|  0.0|    0.5|       0.0|         0.0|                  0.3|       22.39|                 0.0|       null|40.58092175157135|-73.96121662082737|       Brighton Beach|               Brooklyn|40.674469714192334|-73.93928693565553|   Crown Heights North|                Brooklyn|\n",
      "|          29|          29|       2| 2019-03-01 06:16:08|  2019-03-01 06:16:13|            1.0|          0.0|       1.0|                 N|           3|       -2.5|  0.0|   -0.5|       0.0|         0.0|                 -0.3|        -3.3|                 0.0|       null|40.58092175157135|-73.96121662082737|       Brighton Beach|               Brooklyn| 40.58092175157135|-73.96121662082737|        Brighton Beach|                Brooklyn|\n",
      "|          29|          29|       2| 2019-03-01 06:16:08|  2019-03-01 06:16:13|            1.0|          0.0|       1.0|                 N|           2|        2.5|  0.0|    0.5|       0.0|         0.0|                  0.3|         3.3|                 0.0|       null|40.58092175157135|-73.96121662082737|       Brighton Beach|               Brooklyn| 40.58092175157135|-73.96121662082737|        Brighton Beach|                Brooklyn|\n",
      "|         132|          26|       2| 2019-03-01 06:40:03|  2019-03-01 07:56:06|            2.0|        22.06|       1.0|                 N|           2|       70.0|  0.0|    0.5|       0.0|         0.0|                  0.3|        70.8|                 0.0|       null|40.63094925326426|-73.98866057160336|         Borough Park|               Brooklyn|  40.6469851002482|-73.78652986349012|           JFK Airport|                  Queens|\n",
      "+------------+------------+--------+--------------------+---------------------+---------------+-------------+----------+------------------+------------+-----------+-----+-------+----------+------------+---------------------+------------+--------------------+-----------+-----------------+------------------+---------------------+-----------------------+------------------+------------------+----------------------+------------------------+\n",
      "only showing top 20 rows\n",
      "\n"
     ]
    },
    {
     "name": "stderr",
     "output_type": "stream",
     "text": [
      "\r",
      "                                                                                \r"
     ]
    }
   ],
   "source": [
    "# for yellow taxis\n",
    "df_yel_filtered = filterData(full_data_yel)\n",
    "df_yel_filtered.show()"
   ]
  },
  {
   "cell_type": "code",
   "execution_count": 16,
   "id": "876d211c",
   "metadata": {},
   "outputs": [
    {
     "name": "stdout",
     "output_type": "stream",
     "text": [
      "+------------+------------+--------------------+-------------------+-------------------+-------+----------------------+------------------+------------------+---------------------+-----------------------+------------------+------------------+----------------------+------------------------+\n",
      "|PUlocationID|DOlocationID|dispatching_base_num|    pickup_datetime|   dropOff_datetime|SR_Flag|Affiliated_base_number|   pickup_latitude|  pickup_longitude|zones_pickup_location|borough_pickup_location|  dropoff_latitude| dropoff_longitude|zones_dropoff_location|borough_dropoff_location|\n",
      "+------------+------------+--------------------+-------------------+-------------------+-------+----------------------+------------------+------------------+---------------------+-----------------------+------------------+------------------+----------------------+------------------------+\n",
      "|       184.0|       184.0|              B00419|2019-03-01 01:30:10|2019-03-01 01:30:21|   null|                B00419|40.868275112649606|-73.80785826289252|      Pelham Bay Park|                  Bronx|40.868275112649606|-73.80785826289252|       Pelham Bay Park|                   Bronx|\n",
      "|       184.0|       184.0|              B00419|2019-03-01 01:50:23|2019-03-01 01:50:29|   null|                B00419|40.868275112649606|-73.80785826289252|      Pelham Bay Park|                  Bronx|40.868275112649606|-73.80785826289252|       Pelham Bay Park|                   Bronx|\n",
      "|       184.0|       184.0|              B00419|2019-03-01 02:47:56|2019-03-01 02:48:16|   null|                B00419|40.868275112649606|-73.80785826289252|      Pelham Bay Park|                  Bronx|40.868275112649606|-73.80785826289252|       Pelham Bay Park|                   Bronx|\n",
      "|       184.0|       184.0|              B00419|2019-03-01 02:59:17|2019-03-01 02:59:24|   null|                B00419|40.868275112649606|-73.80785826289252|      Pelham Bay Park|                  Bronx|40.868275112649606|-73.80785826289252|       Pelham Bay Park|                   Bronx|\n",
      "|       184.0|       184.0|              B00419|2019-03-01 03:28:58|2019-03-01 03:29:04|   null|                B00419|40.868275112649606|-73.80785826289252|      Pelham Bay Park|                  Bronx|40.868275112649606|-73.80785826289252|       Pelham Bay Park|                   Bronx|\n",
      "|       184.0|       184.0|              B00419|2019-03-01 03:43:10|2019-03-01 03:43:16|   null|                B00419|40.868275112649606|-73.80785826289252|      Pelham Bay Park|                  Bronx|40.868275112649606|-73.80785826289252|       Pelham Bay Park|                   Bronx|\n",
      "|        56.0|       147.0|     B01066         |2019-03-01 03:54:10|2019-03-01 04:24:33|   null|       B01066         | 40.81967568059163|-73.89895654395085|             Longwood|                  Bronx| 40.75181933958824| -73.8535815482027|                Corona|                  Queens|\n",
      "|        56.0|       147.0|     B01066         |2019-03-01 03:54:10|2019-03-01 04:24:33|   null|       B01066         | 40.81967568059163|-73.89895654395085|             Longwood|                  Bronx| 40.74140671948818|-73.85884527575628|                Corona|                  Queens|\n",
      "|       147.0|       147.0|              B00419|2019-03-01 04:32:09|2019-03-01 04:32:17|   null|                B00419| 40.81967568059163|-73.89895654395085|             Longwood|                  Bronx| 40.81967568059163|-73.89895654395085|              Longwood|                   Bronx|\n",
      "|       184.0|       184.0|              B00419|2019-03-01 04:56:34|2019-03-01 04:56:40|   null|                B00419|40.868275112649606|-73.80785826289252|      Pelham Bay Park|                  Bronx|40.868275112649606|-73.80785826289252|       Pelham Bay Park|                   Bronx|\n",
      "|       132.0|       170.0|              B01087|2019-03-01 05:12:49|2019-03-01 06:08:37|   null|                B01087| 40.74774573203896|-73.97849158432054|          Murray Hill|              Manhattan|  40.6469851002482|-73.78652986349012|           JFK Airport|                  Queens|\n",
      "|       242.0|       170.0|     B03084         |2019-03-01 05:14:09|2019-03-01 07:50:29|   null|                B02671| 40.74774573203896|-73.97849158432054|          Murray Hill|              Manhattan| 40.84678316501388|-73.85067120117776|  Van Nest/Morris Park|                   Bronx|\n",
      "|       132.0|       170.0|              B02715|2019-03-01 06:54:02|2019-03-01 08:13:45|   null|                  null| 40.74774573203896|-73.97849158432054|          Murray Hill|              Manhattan|  40.6469851002482|-73.78652986349012|           JFK Airport|                  Queens|\n",
      "|       198.0|       170.0|              B00987|2019-03-01 07:41:00|2019-03-01 09:02:00|   null|                B00987| 40.74774573203896|-73.97849158432054|          Murray Hill|              Manhattan| 40.70652682085338| -73.9017091770337|             Ridgewood|                  Queens|\n",
      "|       162.0|       170.0|              B01087|2019-03-01 07:58:10|2019-03-01 12:07:30|   null|                B01087| 40.74774573203896|-73.97849158432054|          Murray Hill|              Manhattan| 40.75668753761734|-73.97235615813489|          Midtown East|               Manhattan|\n",
      "|       167.0|       147.0|              B03017|2019-03-01 07:06:38|2019-03-01 07:17:11|   null|                B03017| 40.81967568059163|-73.89895654395085|             Longwood|                  Bronx| 40.82751259617853|-73.90235207986518|    Morrisania/Melrose|                   Bronx|\n",
      "|       168.0|       147.0|              B03017|2019-03-01 07:30:47|2019-03-01 07:41:19|   null|                B03017| 40.81967568059163|-73.89895654395085|             Longwood|                  Bronx|40.807347116380264|-73.91682152685682|  Mott Haven/Port M...|                   Bronx|\n",
      "|       168.0|       147.0|              B03017|2019-03-01 07:36:04|2019-03-01 07:41:35|   null|                B03017| 40.81967568059163|-73.89895654395085|             Longwood|                  Bronx|40.807347116380264|-73.91682152685682|  Mott Haven/Port M...|                   Bronx|\n",
      "|       119.0|       170.0|     B03084         |2019-03-01 07:59:11|2019-03-01 09:37:06|   null|                B02844| 40.74774573203896|-73.97849158432054|          Murray Hill|              Manhattan|40.837826783716714|-73.92615757846964|            Highbridge|                   Bronx|\n",
      "|       142.0|       170.0|              B02060|2019-03-01 08:34:49|2019-03-01 09:08:12|   null|                B02060| 40.74774573203896|-73.97849158432054|          Murray Hill|              Manhattan|  40.7736331961289|-73.98153235360773|   Lincoln Square East|               Manhattan|\n",
      "+------------+------------+--------------------+-------------------+-------------------+-------+----------------------+------------------+------------------+---------------------+-----------------------+------------------+------------------+----------------------+------------------------+\n",
      "only showing top 20 rows\n",
      "\n"
     ]
    },
    {
     "name": "stderr",
     "output_type": "stream",
     "text": [
      "\r",
      "[Stage 31:===========================================>              (3 + 1) / 4]\r",
      "\r",
      "                                                                                \r"
     ]
    }
   ],
   "source": [
    "# for fhv taxis\n",
    "df_fhv_filtered = filterData(full_data_fhv)\n",
    "df_fhv_filtered.show()"
   ]
  },
  {
   "cell_type": "markdown",
   "id": "5cd3eace",
   "metadata": {},
   "source": [
    "count the number of trips for each value of passenger_count"
   ]
  },
  {
   "cell_type": "code",
   "execution_count": 17,
   "id": "43ad8363",
   "metadata": {},
   "outputs": [],
   "source": [
    "#  Count the number of trips for each value of passenger_count\n",
    "# for yellow taxis\n",
    "df_passenger=df_yel_filtered.groupby('passenger_count').count()"
   ]
  },
  {
   "cell_type": "markdown",
   "id": "2ab004fc",
   "metadata": {},
   "source": [
    "Plot the trip counts"
   ]
  },
  {
   "cell_type": "code",
   "execution_count": 18,
   "id": "70b7479d",
   "metadata": {},
   "outputs": [
    {
     "name": "stderr",
     "output_type": "stream",
     "text": [
      "                                                                                \r"
     ]
    },
    {
     "data": {
      "image/png": "[encoded data removed]",
      "text/plain": [
       "<Figure size 640x480 with 1 Axes>"
      ]
     },
     "metadata": {},
     "output_type": "display_data"
    }
   ],
   "source": [
    "# Create a bar plot\n",
    "import seaborn as sns\n",
    "import matplotlib.pyplot as plt\n",
    "\n",
    "# Plot the trip counts\n",
    "df_passenger_pd = df_passenger.toPandas() #transform to pandas dataframe for plot\n",
    "plt.bar(df_passenger_pd[\"passenger_count\"], df_passenger_pd[\"count\"])\n",
    "plt.xlabel(\"Passenger Count\")\n",
    "plt.ylabel(\"Number of Trips\")\n",
    "plt.title(\"Number of Trips by Passenger Count\")\n",
    "plt.show()"
   ]
  },
  {
   "cell_type": "markdown",
   "id": "b70a4554",
   "metadata": {},
   "source": [
    "1. What’s special with trips with zero passengers?"
   ]
  },
  {
   "cell_type": "code",
   "execution_count": 19,
   "id": "df75f6be",
   "metadata": {},
   "outputs": [],
   "source": [
    "# Filter the data for trips with zero passengers\n",
    "zero_passenger_data = df_yel_filtered.filter(col(\"passenger_count\") == 0)"
   ]
  },
  {
   "cell_type": "markdown",
   "id": "0bf23bd2",
   "metadata": {},
   "source": [
    "2. What’s special with trips with more than 6 passengers?\n"
   ]
  },
  {
   "cell_type": "code",
   "execution_count": 20,
   "id": "151a9042",
   "metadata": {},
   "outputs": [],
   "source": [
    "more_passenger_data = df_yel_filtered.filter(col(\"passenger_count\") > 6)"
   ]
  },
  {
   "cell_type": "markdown",
   "id": "6cc9852d",
   "metadata": {},
   "source": [
    "3. What is the largest distance travelled during this month? Is it the first taxi on the moon?"
   ]
  },
  {
   "cell_type": "code",
   "execution_count": 21,
   "id": "9f6a2ed2",
   "metadata": {},
   "outputs": [
    {
     "name": "stderr",
     "output_type": "stream",
     "text": [
      "[Stage 53:==================================================>       (7 + 1) / 8]\r"
     ]
    },
    {
     "name": "stdout",
     "output_type": "stream",
     "text": [
      "The largest distance travelled during this month is:  126.95 milles\n"
     ]
    },
    {
     "name": "stderr",
     "output_type": "stream",
     "text": [
      "\r",
      "                                                                                \r"
     ]
    }
   ],
   "source": [
    "max_distance = df_yel_filtered.selectExpr(\"MAX(trip_distance) AS max_distance\").collect()[0][\"max_distance\"]\n",
    "print(\"The largest distance travelled during this month is: \" ,max_distance, \"milles\")"
   ]
  },
  {
   "cell_type": "markdown",
   "id": "acadbbb3",
   "metadata": {},
   "source": [
    "4. Plot the distribution of the trip_distance (using an histogram for instance) during year 2019. Focus on trips with non-zero trip distance and trip distance less than 30 miles."
   ]
  },
  {
   "cell_type": "code",
   "execution_count": 22,
   "id": "2b20ee8d",
   "metadata": {},
   "outputs": [
    {
     "name": "stderr",
     "output_type": "stream",
     "text": [
      "                                                                                \r"
     ]
    },
    {
     "data": {
      "image/png": "[encoded data removed]",
      "text/plain": [
       "<Figure size 640x480 with 1 Axes>"
      ]
     },
     "metadata": {},
     "output_type": "display_data"
    }
   ],
   "source": [
    "# Filter the data for non-zero trip distances less than 30 miles\n",
    "yel_filtered_data = df_yel_filtered.filter((col(\"trip_distance\") > 0) & (col(\"trip_distance\") < 30))\n",
    "\n",
    "# Convert the filtered data to a Pandas DataFrame for plotting\n",
    "yel_filtered_data = yel_filtered_data.select(\"trip_distance\").toPandas()\n",
    "\n",
    "# Plot the distribution of trip distances\n",
    "plt.hist(yel_filtered_data[\"trip_distance\"], bins=30, edgecolor=\"black\")\n",
    "plt.xlabel(\"Trip Distance (miles)\")\n",
    "plt.ylabel(\"Frequency\")\n",
    "plt.title(\"Distribution of Trip Distances (2019)\")\n",
    "plt.show()"
   ]
  },
  {
   "cell_type": "markdown",
   "id": "05c1c732",
   "metadata": {},
   "source": [
    "1. Use the explain method or have a look at the Spark UI to analyze the job."
   ]
  },
  {
   "cell_type": "code",
   "execution_count": 23,
   "id": "c3b810f0",
   "metadata": {},
   "outputs": [
    {
     "name": "stdout",
     "output_type": "stream",
     "text": [
      "== Parsed Logical Plan ==\n",
      "Filter ((((((((pickup_latitude#223 >= 40.58) AND (pickup_latitude#223 <= 40.9)) AND (dropoff_latitude#253 >= 40.58)) AND (dropoff_latitude#253 <= 40.9)) AND (pickup_longitude#229 >= -74.1)) AND (pickup_longitude#229 <= -73.7)) AND (dropoff_longitude#259 >= -74.1)) AND (dropoff_longitude#259 <= -73.7))\n",
      "+- Project [PULocationID#7L, DOLocationID#8L, VendorID#0L, tpep_pickup_datetime#1, tpep_dropoff_datetime#2, passenger_count#3, trip_distance#4, RatecodeID#5, store_and_fwd_flag#6, payment_type#9L, fare_amount#10, extra#11, mta_tax#12, tip_amount#13, tolls_amount#14, improvement_surcharge#15, total_amount#16, congestion_surcharge#17, airport_fee#18, pickup_latitude#223, pickup_longitude#229, zones_pickup_location#235, borough_pickup_location#241, dropoff_latitude#253, ... 3 more fields]\n",
      "   +- Join Inner, (PULocationID#7L = PULocationID#247L)\n",
      "      :- Project [DOLocationID#8L, VendorID#0L, tpep_pickup_datetime#1, tpep_dropoff_datetime#2, passenger_count#3, trip_distance#4, RatecodeID#5, store_and_fwd_flag#6, PULocationID#7L, payment_type#9L, fare_amount#10, extra#11, mta_tax#12, tip_amount#13, tolls_amount#14, improvement_surcharge#15, total_amount#16, congestion_surcharge#17, airport_fee#18, pickup_latitude#223, pickup_longitude#229, zones_pickup_location#235, borough_pickup_location#241]\n",
      "      :  +- Join Inner, (DOLocationID#8L = DOLocationID#217L)\n",
      "      :     :- Relation [VendorID#0L,tpep_pickup_datetime#1,tpep_dropoff_datetime#2,passenger_count#3,trip_distance#4,RatecodeID#5,store_and_fwd_flag#6,PULocationID#7L,DOLocationID#8L,payment_type#9L,fare_amount#10,extra#11,mta_tax#12,tip_amount#13,tolls_amount#14,improvement_surcharge#15,total_amount#16,congestion_surcharge#17,airport_fee#18] parquet\n",
      "      :     +- Project [DOLocationID#217L, pickup_latitude#223, pickup_longitude#229, zones_pickup_location#235, borough#190 AS borough_pickup_location#241]\n",
      "      :        +- Project [DOLocationID#217L, pickup_latitude#223, pickup_longitude#229, zone#189 AS zones_pickup_location#235, borough#190]\n",
      "      :           +- Project [DOLocationID#217L, pickup_latitude#223, longitude#188 AS pickup_longitude#229, zone#189, borough#190]\n",
      "      :              +- Project [DOLocationID#217L, latitude#187 AS pickup_latitude#223, longitude#188, zone#189, borough#190]\n",
      "      :                 +- Project [LocationID#186L AS DOLocationID#217L, latitude#187, longitude#188, zone#189, borough#190]\n",
      "      :                    +- LogicalRDD [LocationID#186L, latitude#187, longitude#188, zone#189, borough#190], false\n",
      "      +- Project [PULocationID#247L, dropoff_latitude#253, dropoff_longitude#259, zones_dropoff_location#265, borough#304 AS borough_dropoff_location#271]\n",
      "         +- Project [PULocationID#247L, dropoff_latitude#253, dropoff_longitude#259, zone#303 AS zones_dropoff_location#265, borough#304]\n",
      "            +- Project [PULocationID#247L, dropoff_latitude#253, longitude#302 AS dropoff_longitude#259, zone#303, borough#304]\n",
      "               +- Project [PULocationID#247L, latitude#301 AS dropoff_latitude#253, longitude#302, zone#303, borough#304]\n",
      "                  +- Project [LocationID#300L AS PULocationID#247L, latitude#301, longitude#302, zone#303, borough#304]\n",
      "                     +- LogicalRDD [LocationID#300L, latitude#301, longitude#302, zone#303, borough#304], false\n",
      "\n",
      "== Analyzed Logical Plan ==\n",
      "PULocationID: bigint, DOLocationID: bigint, VendorID: bigint, tpep_pickup_datetime: timestamp_ntz, tpep_dropoff_datetime: timestamp_ntz, passenger_count: double, trip_distance: double, RatecodeID: double, store_and_fwd_flag: string, payment_type: bigint, fare_amount: double, extra: double, mta_tax: double, tip_amount: double, tolls_amount: double, improvement_surcharge: double, total_amount: double, congestion_surcharge: double, airport_fee: int, pickup_latitude: double, pickup_longitude: double, zones_pickup_location: string, borough_pickup_location: string, dropoff_latitude: double, ... 3 more fields\n",
      "Filter ((((((((pickup_latitude#223 >= 40.58) AND (pickup_latitude#223 <= 40.9)) AND (dropoff_latitude#253 >= 40.58)) AND (dropoff_latitude#253 <= 40.9)) AND (pickup_longitude#229 >= -74.1)) AND (pickup_longitude#229 <= -73.7)) AND (dropoff_longitude#259 >= -74.1)) AND (dropoff_longitude#259 <= -73.7))\n",
      "+- Project [PULocationID#7L, DOLocationID#8L, VendorID#0L, tpep_pickup_datetime#1, tpep_dropoff_datetime#2, passenger_count#3, trip_distance#4, RatecodeID#5, store_and_fwd_flag#6, payment_type#9L, fare_amount#10, extra#11, mta_tax#12, tip_amount#13, tolls_amount#14, improvement_surcharge#15, total_amount#16, congestion_surcharge#17, airport_fee#18, pickup_latitude#223, pickup_longitude#229, zones_pickup_location#235, borough_pickup_location#241, dropoff_latitude#253, ... 3 more fields]\n",
      "   +- Join Inner, (PULocationID#7L = PULocationID#247L)\n",
      "      :- Project [DOLocationID#8L, VendorID#0L, tpep_pickup_datetime#1, tpep_dropoff_datetime#2, passenger_count#3, trip_distance#4, RatecodeID#5, store_and_fwd_flag#6, PULocationID#7L, payment_type#9L, fare_amount#10, extra#11, mta_tax#12, tip_amount#13, tolls_amount#14, improvement_surcharge#15, total_amount#16, congestion_surcharge#17, airport_fee#18, pickup_latitude#223, pickup_longitude#229, zones_pickup_location#235, borough_pickup_location#241]\n",
      "      :  +- Join Inner, (DOLocationID#8L = DOLocationID#217L)\n",
      "      :     :- Relation [VendorID#0L,tpep_pickup_datetime#1,tpep_dropoff_datetime#2,passenger_count#3,trip_distance#4,RatecodeID#5,store_and_fwd_flag#6,PULocationID#7L,DOLocationID#8L,payment_type#9L,fare_amount#10,extra#11,mta_tax#12,tip_amount#13,tolls_amount#14,improvement_surcharge#15,total_amount#16,congestion_surcharge#17,airport_fee#18] parquet\n",
      "      :     +- Project [DOLocationID#217L, pickup_latitude#223, pickup_longitude#229, zones_pickup_location#235, borough#190 AS borough_pickup_location#241]\n",
      "      :        +- Project [DOLocationID#217L, pickup_latitude#223, pickup_longitude#229, zone#189 AS zones_pickup_location#235, borough#190]\n",
      "      :           +- Project [DOLocationID#217L, pickup_latitude#223, longitude#188 AS pickup_longitude#229, zone#189, borough#190]\n",
      "      :              +- Project [DOLocationID#217L, latitude#187 AS pickup_latitude#223, longitude#188, zone#189, borough#190]\n",
      "      :                 +- Project [LocationID#186L AS DOLocationID#217L, latitude#187, longitude#188, zone#189, borough#190]\n",
      "      :                    +- LogicalRDD [LocationID#186L, latitude#187, longitude#188, zone#189, borough#190], false\n",
      "      +- Project [PULocationID#247L, dropoff_latitude#253, dropoff_longitude#259, zones_dropoff_location#265, borough#304 AS borough_dropoff_location#271]\n",
      "         +- Project [PULocationID#247L, dropoff_latitude#253, dropoff_longitude#259, zone#303 AS zones_dropoff_location#265, borough#304]\n",
      "            +- Project [PULocationID#247L, dropoff_latitude#253, longitude#302 AS dropoff_longitude#259, zone#303, borough#304]\n",
      "               +- Project [PULocationID#247L, latitude#301 AS dropoff_latitude#253, longitude#302, zone#303, borough#304]\n",
      "                  +- Project [LocationID#300L AS PULocationID#247L, latitude#301, longitude#302, zone#303, borough#304]\n",
      "                     +- LogicalRDD [LocationID#300L, latitude#301, longitude#302, zone#303, borough#304], false\n",
      "\n",
      "== Optimized Logical Plan ==\n",
      "Project [PULocationID#7L, DOLocationID#8L, VendorID#0L, tpep_pickup_datetime#1, tpep_dropoff_datetime#2, passenger_count#3, trip_distance#4, RatecodeID#5, store_and_fwd_flag#6, payment_type#9L, fare_amount#10, extra#11, mta_tax#12, tip_amount#13, tolls_amount#14, improvement_surcharge#15, total_amount#16, congestion_surcharge#17, airport_fee#18, pickup_latitude#223, pickup_longitude#229, zones_pickup_location#235, borough_pickup_location#241, dropoff_latitude#253, ... 3 more fields]\n",
      "+- Join Inner, (PULocationID#7L = PULocationID#247L)\n",
      "   :- Project [DOLocationID#8L, VendorID#0L, tpep_pickup_datetime#1, tpep_dropoff_datetime#2, passenger_count#3, trip_distance#4, RatecodeID#5, store_and_fwd_flag#6, PULocationID#7L, payment_type#9L, fare_amount#10, extra#11, mta_tax#12, tip_amount#13, tolls_amount#14, improvement_surcharge#15, total_amount#16, congestion_surcharge#17, airport_fee#18, pickup_latitude#223, pickup_longitude#229, zones_pickup_location#235, borough_pickup_location#241]\n",
      "   :  +- Join Inner, (DOLocationID#8L = DOLocationID#217L)\n",
      "   :     :- Filter (isnotnull(DOLocationID#8L) AND isnotnull(PULocationID#7L))\n",
      "   :     :  +- Relation [VendorID#0L,tpep_pickup_datetime#1,tpep_dropoff_datetime#2,passenger_count#3,trip_distance#4,RatecodeID#5,store_and_fwd_flag#6,PULocationID#7L,DOLocationID#8L,payment_type#9L,fare_amount#10,extra#11,mta_tax#12,tip_amount#13,tolls_amount#14,improvement_surcharge#15,total_amount#16,congestion_surcharge#17,airport_fee#18] parquet\n",
      "   :     +- Project [LocationID#186L AS DOLocationID#217L, latitude#187 AS pickup_latitude#223, longitude#188 AS pickup_longitude#229, zone#189 AS zones_pickup_location#235, borough#190 AS borough_pickup_location#241]\n",
      "   :        +- Filter (((isnotnull(latitude#187) AND isnotnull(longitude#188)) AND ((((latitude#187 >= 40.58) AND (latitude#187 <= 40.9)) AND (longitude#188 >= -74.1)) AND (longitude#188 <= -73.7))) AND isnotnull(LocationID#186L))\n",
      "   :           +- LogicalRDD [LocationID#186L, latitude#187, longitude#188, zone#189, borough#190], false\n",
      "   +- Project [LocationID#300L AS PULocationID#247L, latitude#301 AS dropoff_latitude#253, longitude#302 AS dropoff_longitude#259, zone#303 AS zones_dropoff_location#265, borough#304 AS borough_dropoff_location#271]\n",
      "      +- Filter (((isnotnull(latitude#301) AND isnotnull(longitude#302)) AND ((((latitude#301 >= 40.58) AND (latitude#301 <= 40.9)) AND (longitude#302 >= -74.1)) AND (longitude#302 <= -73.7))) AND isnotnull(LocationID#300L))\n",
      "         +- LogicalRDD [LocationID#300L, latitude#301, longitude#302, zone#303, borough#304], false\n",
      "\n",
      "== Physical Plan ==\n",
      "AdaptiveSparkPlan isFinalPlan=false\n",
      "+- Project [PULocationID#7L, DOLocationID#8L, VendorID#0L, tpep_pickup_datetime#1, tpep_dropoff_datetime#2, passenger_count#3, trip_distance#4, RatecodeID#5, store_and_fwd_flag#6, payment_type#9L, fare_amount#10, extra#11, mta_tax#12, tip_amount#13, tolls_amount#14, improvement_surcharge#15, total_amount#16, congestion_surcharge#17, airport_fee#18, pickup_latitude#223, pickup_longitude#229, zones_pickup_location#235, borough_pickup_location#241, dropoff_latitude#253, ... 3 more fields]\n",
      "   +- SortMergeJoin [PULocationID#7L], [PULocationID#247L], Inner\n",
      "      :- Sort [PULocationID#7L ASC NULLS FIRST], false, 0\n",
      "      :  +- Exchange hashpartitioning(PULocationID#7L, 200), ENSURE_REQUIREMENTS, [plan_id=2195]\n",
      "      :     +- Project [DOLocationID#8L, VendorID#0L, tpep_pickup_datetime#1, tpep_dropoff_datetime#2, passenger_count#3, trip_distance#4, RatecodeID#5, store_and_fwd_flag#6, PULocationID#7L, payment_type#9L, fare_amount#10, extra#11, mta_tax#12, tip_amount#13, tolls_amount#14, improvement_surcharge#15, total_amount#16, congestion_surcharge#17, airport_fee#18, pickup_latitude#223, pickup_longitude#229, zones_pickup_location#235, borough_pickup_location#241]\n",
      "      :        +- SortMergeJoin [DOLocationID#8L], [DOLocationID#217L], Inner\n",
      "      :           :- Sort [DOLocationID#8L ASC NULLS FIRST], false, 0\n",
      "      :           :  +- Exchange hashpartitioning(DOLocationID#8L, 200), ENSURE_REQUIREMENTS, [plan_id=2187]\n",
      "      :           :     +- Filter (isnotnull(DOLocationID#8L) AND isnotnull(PULocationID#7L))\n",
      "      :           :        +- FileScan parquet [VendorID#0L,tpep_pickup_datetime#1,tpep_dropoff_datetime#2,passenger_count#3,trip_distance#4,RatecodeID#5,store_and_fwd_flag#6,PULocationID#7L,DOLocationID#8L,payment_type#9L,fare_amount#10,extra#11,mta_tax#12,tip_amount#13,tolls_amount#14,improvement_surcharge#15,total_amount#16,congestion_surcharge#17,airport_fee#18] Batched: true, DataFilters: [isnotnull(DOLocationID#8L), isnotnull(PULocationID#7L)], Format: Parquet, Location: InMemoryFileIndex(1 paths)[file:/home/marius/Téléchargements/yellow_tripdata_2019-03.parquet], PartitionFilters: [], PushedFilters: [IsNotNull(DOLocationID), IsNotNull(PULocationID)], ReadSchema: struct<VendorID:bigint,tpep_pickup_datetime:timestamp_ntz,tpep_dropoff_datetime:timestamp_ntz,pas...\n",
      "      :           +- Sort [DOLocationID#217L ASC NULLS FIRST], false, 0\n",
      "      :              +- Exchange hashpartitioning(DOLocationID#217L, 200), ENSURE_REQUIREMENTS, [plan_id=2188]\n",
      "      :                 +- Project [LocationID#186L AS DOLocationID#217L, latitude#187 AS pickup_latitude#223, longitude#188 AS pickup_longitude#229, zone#189 AS zones_pickup_location#235, borough#190 AS borough_pickup_location#241]\n",
      "      :                    +- Filter (((isnotnull(latitude#187) AND isnotnull(longitude#188)) AND ((((latitude#187 >= 40.58) AND (latitude#187 <= 40.9)) AND (longitude#188 >= -74.1)) AND (longitude#188 <= -73.7))) AND isnotnull(LocationID#186L))\n",
      "      :                       +- Scan ExistingRDD[LocationID#186L,latitude#187,longitude#188,zone#189,borough#190]\n",
      "      +- Sort [PULocationID#247L ASC NULLS FIRST], false, 0\n",
      "         +- Exchange hashpartitioning(PULocationID#247L, 200), ENSURE_REQUIREMENTS, [plan_id=2196]\n",
      "            +- Project [LocationID#300L AS PULocationID#247L, latitude#301 AS dropoff_latitude#253, longitude#302 AS dropoff_longitude#259, zone#303 AS zones_dropoff_location#265, borough#304 AS borough_dropoff_location#271]\n",
      "               +- Filter (((isnotnull(latitude#301) AND isnotnull(longitude#302)) AND ((((latitude#301 >= 40.58) AND (latitude#301 <= 40.9)) AND (longitude#302 >= -74.1)) AND (longitude#302 <= -73.7))) AND isnotnull(LocationID#300L))\n",
      "                  +- Scan ExistingRDD[LocationID#300L,latitude#301,longitude#302,zone#303,borough#304]\n",
      "\n"
     ]
    }
   ],
   "source": [
    "df_yel_filtered.explain(True)"
   ]
  },
  {
   "cell_type": "markdown",
   "id": "ebdcb500",
   "metadata": {},
   "source": [
    "2. Compare the Analyzed Logical Plan and Optimized Logical Plan: \n",
    "Analyzed Logical Plan: This plan represents the logical operations after the analysis phase, where Spark resolves references, applies type checking, and performs other logical optimizations. Optimized Logical Plan: This plan represents the logical operations after further optimization, such as predicate pushdown, column pruning, or constant folding.\n"
   ]
  },
  {
   "cell_type": "markdown",
   "id": "9541da4e",
   "metadata": {},
   "source": [
    "3. Compare the Physical Plan with the Optimized Logical Plan: Physical Plan: This plan describes the actual execution strategy that Spark will use to process the query. It includes details about how the data will be read, transformed, and distributed across the worker nodes. 3-2. Keywords and concepts in the Physical Plan that you would not expect in an RDBMS include: Shuffle: This keyword indicates data shuffling, which involves redistributing data across partitions or nodes, often required for operations like joins or aggregations. Exchange: This keyword represents the exchange of data between partitions or nodes. Sort: This keyword indicates sorting operations performed during the query execution. Broadcast: This keyword represents the broadcasting of small data to all worker nodes, typically used in join operations. Code generation: This indicates that Spark generates code dynamically for specific operations to improve performance. In an RDBMS, the physical plan might involve index scans, table scans, join algorithms, and disk-based operations. The specific keywords and concepts may vary depending on the RDBMS implementation."
   ]
  },
  {
   "cell_type": "markdown",
   "id": "5ec1116b",
   "metadata": {},
   "source": [
    "4. Tasks in Spark refer to the individual units of work performed on the data. Each task processes a subset of the data and is executed on a single partition of a stage. The number of tasks within each stage may vary depending on the size of the data and the available resources. You can find the number of tasks for each stage in the Spark UI under the \"Stages\" tab."
   ]
  },
  {
   "cell_type": "markdown",
   "id": "13f4d24e",
   "metadata": {},
   "source": [
    "1. Break down the trip distance distribution for each day of week"
   ]
  },
  {
   "cell_type": "code",
   "execution_count": 24,
   "id": "4f9613ad",
   "metadata": {},
   "outputs": [
    {
     "name": "stderr",
     "output_type": "stream",
     "text": [
      "                                                                                \r"
     ]
    },
    {
     "data": {
      "image/png": "[encoded data removed]",
      "text/plain": [
       "<Figure size 800x600 with 1 Axes>"
      ]
     },
     "metadata": {},
     "output_type": "display_data"
    }
   ],
   "source": [
    "# Extract the day of the week from the pickup datetime\n",
    "df_with_day_of_week = df_yel_filtered.withColumn('pickup_day_of_week', dayofweek('tpep_pickup_datetime'))\n",
    "\n",
    "# Group by day of the week and calculate the distribution of trip distances\n",
    "distance_breakdown = df_with_day_of_week.groupBy('pickup_day_of_week').agg(mean('trip_distance').alias('avg_distance'))\n",
    "\n",
    "# Convert the result to a Pandas DataFrame for plotting\n",
    "distance_breakdown_pd = distance_breakdown.toPandas()\n",
    "\n",
    "# Plot the breakdown of trip distance\n",
    "plt.figure(figsize=(8, 6))\n",
    "sns.barplot(x='pickup_day_of_week', y='avg_distance', data=distance_breakdown_pd)\n",
    "plt.xlabel('Day of Week')\n",
    "plt.ylabel('Average Trip Distance')\n",
    "plt.title('Breakdown of Trip Distance by Day of Week')\n",
    "plt.show()"
   ]
  },
  {
   "cell_type": "markdown",
   "id": "d77979f7",
   "metadata": {},
   "source": [
    "2. Count the number of distinct pickup location"
   ]
  },
  {
   "cell_type": "code",
   "execution_count": 25,
   "id": "a6f1e6ec",
   "metadata": {},
   "outputs": [
    {
     "name": "stderr",
     "output_type": "stream",
     "text": [
      "[Stage 77:==================================================>       (7 + 1) / 8]\r"
     ]
    },
    {
     "name": "stdout",
     "output_type": "stream",
     "text": [
      "Number of distinct pickup locations: 239\n"
     ]
    },
    {
     "name": "stderr",
     "output_type": "stream",
     "text": [
      "\r",
      "                                                                                \r"
     ]
    }
   ],
   "source": [
    "distinct_pickup_locations = df_yel_filtered.select('PUlocationID').distinct().count()\n",
    "print(\"Number of distinct pickup locations:\", distinct_pickup_locations)"
   ]
  },
  {
   "cell_type": "markdown",
   "id": "976c03cd",
   "metadata": {},
   "source": [
    "3. Compute and display tips and profits as a function of the pickup location"
   ]
  },
  {
   "cell_type": "code",
   "execution_count": 26,
   "id": "6bc8ec16",
   "metadata": {},
   "outputs": [
    {
     "name": "stderr",
     "output_type": "stream",
     "text": [
      "[Stage 90:==================================================>       (7 + 1) / 8]\r"
     ]
    },
    {
     "name": "stdout",
     "output_type": "stream",
     "text": [
      "+------------+------------------+------------------+\n",
      "|PUlocationID|        total_tips|     total_profits|\n",
      "+------------+------------------+------------------+\n",
      "|          26|            164.24|            381.25|\n",
      "|          29|              44.4|            137.75|\n",
      "|          65|20056.860000000062| 8122.400000000001|\n",
      "|         191|             36.09|             423.0|\n",
      "|         222|              34.9|             400.0|\n",
      "|         243| 2053.209999999999|             870.0|\n",
      "|          54| 553.8300000000002|            147.25|\n",
      "|          19|             76.66|             150.5|\n",
      "|         113|241058.92999999292|          157304.0|\n",
      "|         155|46.629999999999995|            300.25|\n",
      "|         112|           4565.37|           1671.05|\n",
      "|         167| 90.00999999999999|             256.0|\n",
      "|         237| 526629.2900000287|397398.29999999993|\n",
      "|         241|            128.49|            159.25|\n",
      "|          22|236.54000000000002|            246.75|\n",
      "|         198|327.59999999999997|            229.25|\n",
      "|         130| 4852.450000000007|           1341.25|\n",
      "|         196|1481.2700000000004|             572.5|\n",
      "|          77|55.650000000000006|             273.0|\n",
      "|           7|10682.280000000006|            5510.1|\n",
      "+------------+------------------+------------------+\n",
      "only showing top 20 rows\n",
      "\n"
     ]
    },
    {
     "name": "stderr",
     "output_type": "stream",
     "text": [
      "\r",
      "                                                                                \r"
     ]
    }
   ],
   "source": [
    "tips_profits_by_location = df_yel_filtered.groupBy('PUlocationID').agg(sum('tip_amount').alias('total_tips'),\n",
    "                                                          sum('extra').alias('total_profits'))\n",
    "\n",
    "# Display the results\n",
    "tips_profits_by_location.show()"
   ]
  },
  {
   "cell_type": "markdown",
   "id": "a13ab013",
   "metadata": {},
   "source": [
    "## Investigate one month of trips data in 2019, 2020, 2021, 2022"
   ]
  },
  {
   "cell_type": "markdown",
   "id": "66354ce0",
   "metadata": {},
   "source": [
    "## For year 2020"
   ]
  },
  {
   "cell_type": "code",
   "execution_count": 27,
   "id": "c25db197",
   "metadata": {},
   "outputs": [],
   "source": [
    "# Read the data\n",
    "df_yel_2020 = spark.read.parquet(\"/home/marius/Téléchargements/yellow_tripdata_2020-08.parquet\")\n",
    "df_fhv_2020 = spark.read.parquet(\"/home/marius/Téléchargements/fhv_tripdata_2020-08.parquet\")"
   ]
  },
  {
   "cell_type": "code",
   "execution_count": 28,
   "id": "8d5afe6a",
   "metadata": {},
   "outputs": [
    {
     "data": {
      "text/plain": [
       "DataFrame[dispatching_base_num: string, pickup_datetime: timestamp_ntz, dropOff_datetime: timestamp_ntz, PUlocationID: double, DOlocationID: double, SR_Flag: int, Affiliated_base_number: string]"
      ]
     },
     "execution_count": 28,
     "metadata": {},
     "output_type": "execute_result"
    }
   ],
   "source": [
    "# Dropping na values \n",
    "df_yel_2020.na.drop()\n",
    "df_fhv_2020.na.drop()"
   ]
  },
  {
   "cell_type": "code",
   "execution_count": 29,
   "id": "e6c94f38",
   "metadata": {},
   "outputs": [
    {
     "name": "stderr",
     "output_type": "stream",
     "text": [
      "\r",
      "[Stage 96:===========================================>              (3 + 1) / 4]\r"
     ]
    },
    {
     "name": "stdout",
     "output_type": "stream",
     "text": [
      "+------------+------------+--------+--------------------+---------------------+---------------+-------------+----------+------------------+------------+-----------+-----+-------+----------+------------+---------------------+------------+--------------------+-----------+-----------------+------------------+---------------------+-----------------------+------------------+------------------+----------------------+------------------------+\n",
      "|PULocationID|DOLocationID|VendorID|tpep_pickup_datetime|tpep_dropoff_datetime|passenger_count|trip_distance|RatecodeID|store_and_fwd_flag|payment_type|fare_amount|extra|mta_tax|tip_amount|tolls_amount|improvement_surcharge|total_amount|congestion_surcharge|airport_fee|  pickup_latitude|  pickup_longitude|zones_pickup_location|borough_pickup_location|  dropoff_latitude| dropoff_longitude|zones_dropoff_location|borough_dropoff_location|\n",
      "+------------+------------+--------+--------------------+---------------------+---------------+-------------+----------+------------------+------------+-----------+-----+-------+----------+------------+---------------------+------------+--------------------+-----------+-----------------+------------------+---------------------+-----------------------+------------------+------------------+----------------------+------------------------+\n",
      "|         140|          26|       2| 2020-08-01 00:37:11|  2020-08-01 01:11:36|            1.0|        12.27|       1.0|                 N|           2|       38.0|  0.5|    0.5|       0.0|         0.0|                  0.3|        41.8|                 2.5|       null|40.63094925326426|-73.98866057160336|         Borough Park|               Brooklyn| 40.76548395144242| -73.9547390603464|       Lenox Hill East|               Manhattan|\n",
      "|          69|          26|       1| 2020-08-01 04:22:23|  2020-08-01 04:59:07|            1.0|          0.0|       1.0|                 N|           1|       49.2|  0.0|    0.5|       0.0|        6.12|                  0.3|       56.12|                 0.0|       null|40.63094925326426|-73.98866057160336|         Borough Park|               Brooklyn| 40.83141625187567|-73.91503006977001|  East Concourse/Co...|                   Bronx|\n",
      "|         143|          29|       1| 2020-08-01 11:55:08|  2020-08-01 12:40:21|            1.0|         19.9|       1.0|                 N|           1|       56.5|  2.5|    0.5|      17.9|         0.0|                  0.3|        77.7|                 2.5|       null|40.58092175157135|-73.96121662082737|       Brighton Beach|               Brooklyn| 40.77596514731965| -73.9876456908124|   Lincoln Square West|               Manhattan|\n",
      "|          22|          26|       1| 2020-08-01 12:02:48|  2020-08-01 12:13:02|            1.0|          0.0|       1.0|                 N|           1|       11.2|  0.0|    0.5|       0.0|         0.0|                  0.3|        12.0|                 0.0|       null|40.63094925326426|-73.98866057160336|         Borough Park|               Brooklyn| 40.61221766982796|-73.99525864587314|      Bensonhurst West|                Brooklyn|\n",
      "|         100|          26|       2| 2020-08-01 12:14:33|  2020-08-01 12:46:31|            1.0|         12.7|       1.0|                 N|           2|       38.0|  0.0|    0.5|       0.0|         0.0|                  0.3|        41.3|                 2.5|       null|40.63094925326426|-73.98866057160336|         Borough Park|               Brooklyn| 40.75351274051303|-73.98878660966813|      Garment District|               Manhattan|\n",
      "|         262|          26|       1| 2020-08-01 12:36:10|  2020-08-01 13:04:28|            1.0|         13.3|       1.0|                 N|           1|       38.5|  2.5|    0.5|       0.0|         0.0|                  0.3|        41.8|                 2.5|       null|40.63094925326426|-73.98866057160336|         Borough Park|               Brooklyn|40.775932302217605|-73.94651047848446|        Yorkville East|               Manhattan|\n",
      "|          11|          29|       1| 2020-08-01 14:46:43|  2020-08-01 14:58:14|            1.0|          0.0|       1.0|                 N|           1|       17.2|  0.0|    0.5|       0.0|         0.0|                  0.3|        18.0|                 0.0|       null|40.58092175157135|-73.96121662082737|       Brighton Beach|               Brooklyn| 40.60427268170343|-74.00748784386448|            Bath Beach|                Brooklyn|\n",
      "|         138|          26|       2| 2020-08-01 16:46:10|  2020-08-01 17:26:32|            6.0|        16.51|       1.0|                 N|           2|       47.0|  0.0|    0.5|       0.0|         0.0|                  0.3|        47.8|                 0.0|       null|40.63094925326426|-73.98866057160336|         Borough Park|               Brooklyn| 40.77437581673263|  -73.873628438902|     LaGuardia Airport|                  Queens|\n",
      "|         132|          29|       2| 2020-08-01 16:12:33|  2020-08-01 16:41:30|            1.0|        15.42|       1.0|                 N|           2|       42.5|  0.0|    0.5|       0.0|         0.0|                  0.3|        43.3|                 0.0|       null|40.58092175157135|-73.96121662082737|       Brighton Beach|               Brooklyn|  40.6469851002482|-73.78652986349012|           JFK Airport|                  Queens|\n",
      "|          79|          26|       1| 2020-08-01 17:18:24|  2020-08-01 17:54:19|            1.0|          9.7|       1.0|                 N|           2|       32.5|  2.5|    0.5|       0.0|         0.0|                  0.3|        35.8|                 2.5|       null|40.63094925326426|-73.98866057160336|         Borough Park|               Brooklyn|40.727620122038296|-73.98593745737395|          East Village|               Manhattan|\n",
      "|         107|          26|       2| 2020-08-01 18:02:57|  2020-08-01 18:25:44|            1.0|        11.07|       1.0|                 N|           1|       32.5|  0.0|    0.5|      8.38|        6.12|                  0.3|        50.3|                 2.5|       null|40.63094925326426|-73.98866057160336|         Borough Park|               Brooklyn| 40.73682398302769|-73.98405214924436|              Gramercy|               Manhattan|\n",
      "|         246|          26|       2| 2020-08-01 18:48:39|  2020-08-01 19:16:01|            2.0|        10.14|       1.0|                 N|           1|       30.5|  0.0|    0.5|      7.98|        6.12|                  0.3|        47.9|                 2.5|       null|40.63094925326426|-73.98866057160336|         Borough Park|               Brooklyn| 40.75330875946255|-74.00401551098165|  West Chelsea/Huds...|               Manhattan|\n",
      "|          48|          29|       2| 2020-08-01 21:55:43|  2020-08-01 22:31:06|            1.0|        18.88|       1.0|                 N|           2|       51.5|  0.5|    0.5|       0.0|        6.12|                  0.3|       61.42|                 2.5|       null|40.58092175157135|-73.96121662082737|       Brighton Beach|               Brooklyn| 40.76225259858686|-73.98984489812494|          Clinton East|               Manhattan|\n",
      "|         138|          26|       2| 2020-08-01 22:58:55|  2020-08-01 23:39:56|            1.0|        16.11|       1.0|                 N|           2|       50.0|  0.5|    0.5|       0.0|         0.0|                  0.3|        51.3|                 0.0|       null|40.63094925326426|-73.98866057160336|         Borough Park|               Brooklyn| 40.77437581673263|  -73.873628438902|     LaGuardia Airport|                  Queens|\n",
      "|          26|          26|       2| 2020-08-02 12:13:31|  2020-08-02 12:19:41|            1.0|         0.66|       1.0|                 N|           2|        5.5|  0.0|    0.5|       0.0|         0.0|                  0.3|         6.3|                 0.0|       null|40.63094925326426|-73.98866057160336|         Borough Park|               Brooklyn| 40.63094925326426|-73.98866057160336|          Borough Park|                Brooklyn|\n",
      "|         132|          29|       1| 2020-08-02 14:28:47|  2020-08-02 14:54:19|            1.0|         14.9|       1.0|                 N|           1|       41.5|  0.0|    0.5|      8.45|         0.0|                  0.3|       50.75|                 0.0|       null|40.58092175157135|-73.96121662082737|       Brighton Beach|               Brooklyn|  40.6469851002482|-73.78652986349012|           JFK Airport|                  Queens|\n",
      "|          26|          26|       1| 2020-08-02 15:03:40|  2020-08-02 15:07:45|            2.0|          0.5|       1.0|                 N|           2|        4.5|  0.0|    0.5|       0.0|         0.0|                  0.3|         5.3|                 0.0|       null|40.63094925326426|-73.98866057160336|         Borough Park|               Brooklyn| 40.63094925326426|-73.98866057160336|          Borough Park|                Brooklyn|\n",
      "|          55|          26|       1| 2020-08-02 16:36:31|  2020-08-02 17:25:00|            1.0|          0.0|       1.0|                 N|           1|       30.2|  0.0|    0.5|       0.0|         0.0|                  0.3|        31.0|                 0.0|       null|40.63094925326426|-73.98866057160336|         Borough Park|               Brooklyn| 40.57696131070534|-73.98794360684474|          Coney Island|                Brooklyn|\n",
      "|         161|          26|       2| 2020-08-02 18:56:43|  2020-08-02 19:29:24|            2.0|        11.64|       1.0|                 N|           2|      -36.0|  0.0|   -0.5|       0.0|         0.0|                 -0.3|       -39.3|                -2.5|       null|40.63094925326426|-73.98866057160336|         Borough Park|               Brooklyn|40.758027981780664|-73.97769803041939|        Midtown Center|               Manhattan|\n",
      "|         133|          26|       1| 2020-08-02 18:58:51|  2020-08-02 19:05:17|            1.0|          0.0|       1.0|                 N|           1|       11.2|  0.0|    0.5|       0.0|         0.0|                  0.3|        12.0|                 0.0|       null|40.63094925326426|-73.98866057160336|         Borough Park|               Brooklyn|40.640589941044496|-73.97619875860275|            Kensington|                Brooklyn|\n",
      "+------------+------------+--------+--------------------+---------------------+---------------+-------------+----------+------------------+------------+-----------+-----+-------+----------+------------+---------------------+------------+--------------------+-----------+-----------------+------------------+---------------------+-----------------------+------------------+------------------+----------------------+------------------------+\n",
      "only showing top 20 rows\n",
      "\n"
     ]
    },
    {
     "name": "stderr",
     "output_type": "stream",
     "text": [
      "\r",
      "                                                                                \r"
     ]
    }
   ],
   "source": [
    "# for yellow taxis\n",
    "full_data_yel_2020 = joinDataframes(df_yel_2020, zones_pickup, zones_dropoff)\n",
    "full_data_yel_2020.show()"
   ]
  },
  {
   "cell_type": "code",
   "execution_count": 30,
   "id": "376b226f",
   "metadata": {},
   "outputs": [
    {
     "name": "stdout",
     "output_type": "stream",
     "text": [
      "+------------+------------+--------------------+-------------------+-------------------+-------+----------------------+------------------+------------------+---------------------+-----------------------+------------------+------------------+----------------------+------------------------+\n",
      "|PUlocationID|DOlocationID|dispatching_base_num|    pickup_datetime|   dropOff_datetime|SR_Flag|Affiliated_base_number|   pickup_latitude|  pickup_longitude|zones_pickup_location|borough_pickup_location|  dropoff_latitude| dropoff_longitude|zones_dropoff_location|borough_dropoff_location|\n",
      "+------------+------------+--------------------+-------------------+-------------------+-------+----------------------+------------------+------------------+---------------------+-----------------------+------------------+------------------+----------------------+------------------------+\n",
      "|        55.0|       170.0|              B03160|2020-08-01 04:36:00|2020-08-01 05:08:00|   null|                B02836| 40.74774573203896|-73.97849158432054|          Murray Hill|              Manhattan| 40.57696131070534|-73.98794360684474|          Coney Island|                Brooklyn|\n",
      "|       184.0|       184.0|              B00419|2020-08-01 05:51:40|2020-08-01 05:51:45|   null|                B00419|40.868275112649606|-73.80785826289252|      Pelham Bay Park|                  Bronx|40.868275112649606|-73.80785826289252|       Pelham Bay Park|                   Bronx|\n",
      "|       184.0|       184.0|              B00419|2020-08-01 05:52:33|2020-08-01 05:52:51|   null|                B00419|40.868275112649606|-73.80785826289252|      Pelham Bay Park|                  Bronx|40.868275112649606|-73.80785826289252|       Pelham Bay Park|                   Bronx|\n",
      "|       184.0|       184.0|              B00419|2020-08-01 05:52:59|2020-08-01 05:53:33|   null|                B00419|40.868275112649606|-73.80785826289252|      Pelham Bay Park|                  Bronx|40.868275112649606|-73.80785826289252|       Pelham Bay Park|                   Bronx|\n",
      "|        10.0|       170.0|              B01087|2020-08-01 05:51:05|2020-08-01 06:08:52|   null|                B01087| 40.74774573203896|-73.97849158432054|          Murray Hill|              Manhattan| 40.67895308442328|-73.79098676199028|          Baisley Park|                  Queens|\n",
      "|        81.0|       170.0|              B02293|2020-08-01 06:17:29|2020-08-01 06:43:48|   null|                B02293| 40.74774573203896|-73.97849158432054|          Murray Hill|              Manhattan| 40.88093511497006|-73.83664438963196|           Eastchester|                   Bronx|\n",
      "|       241.0|       170.0|              B02293|2020-08-01 07:41:58|2020-08-01 08:27:35|   null|                B02293| 40.74774573203896|-73.97849158432054|          Murray Hill|              Manhattan|40.876512149833516|-73.89562019423215|  Van Cortlandt Vil...|                   Bronx|\n",
      "|        33.0|       147.0|              B02947|2020-08-01 07:00:00|2020-08-01 07:20:32|   null|                B02947| 40.81967568059163|-73.89895654395085|             Longwood|                  Bronx| 40.69579808472252|-73.99525009947318|      Brooklyn Heights|                Brooklyn|\n",
      "|       213.0|       170.0|              B01087|2020-08-01 08:25:03|2020-08-01 08:43:05|   null|                B01087| 40.74774573203896|-73.97849158432054|          Murray Hill|              Manhattan|40.817858732890684| -73.8581349352209|  Soundview/Castle ...|                   Bronx|\n",
      "|        75.0|       147.0|              B02947|2020-08-01 08:30:00|2020-08-01 08:41:29|   null|                B02947| 40.81967568059163|-73.89895654395085|             Longwood|                  Bronx|   40.790010676294|-73.94575022751276|     East Harlem South|               Manhattan|\n",
      "|       184.0|       184.0|              B00419|2020-08-01 11:21:29|2020-08-01 11:21:35|   null|                B00419|40.868275112649606|-73.80785826289252|      Pelham Bay Park|                  Bronx|40.868275112649606|-73.80785826289252|       Pelham Bay Park|                   Bronx|\n",
      "|       242.0|       147.0|              B02293|2020-08-01 11:38:15|2020-08-01 11:59:06|   null|                B02293| 40.81967568059163|-73.89895654395085|             Longwood|                  Bronx| 40.84678316501388|-73.85067120117776|  Van Nest/Morris Park|                   Bronx|\n",
      "|        69.0|       147.0|              B03160|2020-08-01 11:39:00|2020-08-01 11:53:00|   null|                B02872| 40.81967568059163|-73.89895654395085|             Longwood|                  Bronx| 40.83141625187567|-73.91503006977001|  East Concourse/Co...|                   Bronx|\n",
      "|        89.0|       170.0|              B00823|2020-08-01 12:30:00|2020-08-01 12:45:09|   null|                B02207| 40.74774573203896|-73.97849158432054|          Murray Hill|              Manhattan| 40.63789963509721|-73.96096805763649|  Flatbush/Ditmas Park|                Brooklyn|\n",
      "|       135.0|       170.0|              B02795|2020-08-01 12:00:00|2020-08-01 12:31:30|   null|                B02795| 40.74774573203896|-73.97849158432054|          Murray Hill|              Manhattan| 40.72837725250497|-73.82119497835454|     Kew Gardens Hills|                  Queens|\n",
      "|        44.0|       147.0|              B02947|2020-08-01 12:00:00|2020-08-01 12:48:58|   null|                B02947| 40.81967568059163|-73.89895654395085|             Longwood|                  Bronx| 40.52549110546785|-74.23353546082052|  Charleston/Totten...|           Staten Island|\n",
      "|       184.0|       184.0|              B00419|2020-08-01 13:28:34|2020-08-01 13:28:41|   null|                B00419|40.868275112649606|-73.80785826289252|      Pelham Bay Park|                  Bronx|40.868275112649606|-73.80785826289252|       Pelham Bay Park|                   Bronx|\n",
      "|       184.0|       184.0|              B00419|2020-08-01 13:48:32|2020-08-01 13:48:49|   null|                B00419|40.868275112649606|-73.80785826289252|      Pelham Bay Park|                  Bronx|40.868275112649606|-73.80785826289252|       Pelham Bay Park|                   Bronx|\n",
      "|       184.0|       184.0|              B00419|2020-08-01 14:22:19|2020-08-01 14:23:43|   null|                B00419|40.868275112649606|-73.80785826289252|      Pelham Bay Park|                  Bronx|40.868275112649606|-73.80785826289252|       Pelham Bay Park|                   Bronx|\n",
      "|         4.0|       170.0|              B03072|2020-08-01 14:00:00|2020-08-01 15:00:00|   null|                      | 40.74774573203896|-73.97849158432054|          Murray Hill|              Manhattan| 40.72375208451233|-73.97696827424141|         Alphabet City|               Manhattan|\n",
      "+------------+------------+--------------------+-------------------+-------------------+-------+----------------------+------------------+------------------+---------------------+-----------------------+------------------+------------------+----------------------+------------------------+\n",
      "only showing top 20 rows\n",
      "\n"
     ]
    },
    {
     "name": "stderr",
     "output_type": "stream",
     "text": [
      "\r",
      "[Stage 104:======================================>                  (2 + 1) / 3]\r",
      "\r",
      "                                                                                \r"
     ]
    }
   ],
   "source": [
    "# for fhv taxis\n",
    "full_data_fhv_2020 = joinDataframes(df_fhv_2020, zones_pickup, zones_dropoff)\n",
    "full_data_fhv_2020.show()"
   ]
  },
  {
   "cell_type": "code",
   "execution_count": 31,
   "id": "7e4c01b8",
   "metadata": {},
   "outputs": [
    {
     "name": "stderr",
     "output_type": "stream",
     "text": [
      "\r",
      "[Stage 112:==========================================>              (3 + 1) / 4]\r"
     ]
    },
    {
     "name": "stdout",
     "output_type": "stream",
     "text": [
      "+------------+------------+--------+--------------------+---------------------+---------------+-------------+----------+------------------+------------+-----------+-----+-------+----------+------------+---------------------+------------+--------------------+-----------+-----------------+------------------+---------------------+-----------------------+------------------+------------------+----------------------+------------------------+\n",
      "|PULocationID|DOLocationID|VendorID|tpep_pickup_datetime|tpep_dropoff_datetime|passenger_count|trip_distance|RatecodeID|store_and_fwd_flag|payment_type|fare_amount|extra|mta_tax|tip_amount|tolls_amount|improvement_surcharge|total_amount|congestion_surcharge|airport_fee|  pickup_latitude|  pickup_longitude|zones_pickup_location|borough_pickup_location|  dropoff_latitude| dropoff_longitude|zones_dropoff_location|borough_dropoff_location|\n",
      "+------------+------------+--------+--------------------+---------------------+---------------+-------------+----------+------------------+------------+-----------+-----+-------+----------+------------+---------------------+------------+--------------------+-----------+-----------------+------------------+---------------------+-----------------------+------------------+------------------+----------------------+------------------------+\n",
      "|         140|          26|       2| 2020-08-01 00:37:11|  2020-08-01 01:11:36|            1.0|        12.27|       1.0|                 N|           2|       38.0|  0.5|    0.5|       0.0|         0.0|                  0.3|        41.8|                 2.5|       null|40.63094925326426|-73.98866057160336|         Borough Park|               Brooklyn| 40.76548395144242| -73.9547390603464|       Lenox Hill East|               Manhattan|\n",
      "|          69|          26|       1| 2020-08-01 04:22:23|  2020-08-01 04:59:07|            1.0|          0.0|       1.0|                 N|           1|       49.2|  0.0|    0.5|       0.0|        6.12|                  0.3|       56.12|                 0.0|       null|40.63094925326426|-73.98866057160336|         Borough Park|               Brooklyn| 40.83141625187567|-73.91503006977001|  East Concourse/Co...|                   Bronx|\n",
      "|         143|          29|       1| 2020-08-01 11:55:08|  2020-08-01 12:40:21|            1.0|         19.9|       1.0|                 N|           1|       56.5|  2.5|    0.5|      17.9|         0.0|                  0.3|        77.7|                 2.5|       null|40.58092175157135|-73.96121662082737|       Brighton Beach|               Brooklyn| 40.77596514731965| -73.9876456908124|   Lincoln Square West|               Manhattan|\n",
      "|          22|          26|       1| 2020-08-01 12:02:48|  2020-08-01 12:13:02|            1.0|          0.0|       1.0|                 N|           1|       11.2|  0.0|    0.5|       0.0|         0.0|                  0.3|        12.0|                 0.0|       null|40.63094925326426|-73.98866057160336|         Borough Park|               Brooklyn| 40.61221766982796|-73.99525864587314|      Bensonhurst West|                Brooklyn|\n",
      "|         100|          26|       2| 2020-08-01 12:14:33|  2020-08-01 12:46:31|            1.0|         12.7|       1.0|                 N|           2|       38.0|  0.0|    0.5|       0.0|         0.0|                  0.3|        41.3|                 2.5|       null|40.63094925326426|-73.98866057160336|         Borough Park|               Brooklyn| 40.75351274051303|-73.98878660966813|      Garment District|               Manhattan|\n",
      "|         262|          26|       1| 2020-08-01 12:36:10|  2020-08-01 13:04:28|            1.0|         13.3|       1.0|                 N|           1|       38.5|  2.5|    0.5|       0.0|         0.0|                  0.3|        41.8|                 2.5|       null|40.63094925326426|-73.98866057160336|         Borough Park|               Brooklyn|40.775932302217605|-73.94651047848446|        Yorkville East|               Manhattan|\n",
      "|          11|          29|       1| 2020-08-01 14:46:43|  2020-08-01 14:58:14|            1.0|          0.0|       1.0|                 N|           1|       17.2|  0.0|    0.5|       0.0|         0.0|                  0.3|        18.0|                 0.0|       null|40.58092175157135|-73.96121662082737|       Brighton Beach|               Brooklyn| 40.60427268170343|-74.00748784386448|            Bath Beach|                Brooklyn|\n",
      "|         138|          26|       2| 2020-08-01 16:46:10|  2020-08-01 17:26:32|            6.0|        16.51|       1.0|                 N|           2|       47.0|  0.0|    0.5|       0.0|         0.0|                  0.3|        47.8|                 0.0|       null|40.63094925326426|-73.98866057160336|         Borough Park|               Brooklyn| 40.77437581673263|  -73.873628438902|     LaGuardia Airport|                  Queens|\n",
      "|         132|          29|       2| 2020-08-01 16:12:33|  2020-08-01 16:41:30|            1.0|        15.42|       1.0|                 N|           2|       42.5|  0.0|    0.5|       0.0|         0.0|                  0.3|        43.3|                 0.0|       null|40.58092175157135|-73.96121662082737|       Brighton Beach|               Brooklyn|  40.6469851002482|-73.78652986349012|           JFK Airport|                  Queens|\n",
      "|          79|          26|       1| 2020-08-01 17:18:24|  2020-08-01 17:54:19|            1.0|          9.7|       1.0|                 N|           2|       32.5|  2.5|    0.5|       0.0|         0.0|                  0.3|        35.8|                 2.5|       null|40.63094925326426|-73.98866057160336|         Borough Park|               Brooklyn|40.727620122038296|-73.98593745737395|          East Village|               Manhattan|\n",
      "|         107|          26|       2| 2020-08-01 18:02:57|  2020-08-01 18:25:44|            1.0|        11.07|       1.0|                 N|           1|       32.5|  0.0|    0.5|      8.38|        6.12|                  0.3|        50.3|                 2.5|       null|40.63094925326426|-73.98866057160336|         Borough Park|               Brooklyn| 40.73682398302769|-73.98405214924436|              Gramercy|               Manhattan|\n",
      "|         246|          26|       2| 2020-08-01 18:48:39|  2020-08-01 19:16:01|            2.0|        10.14|       1.0|                 N|           1|       30.5|  0.0|    0.5|      7.98|        6.12|                  0.3|        47.9|                 2.5|       null|40.63094925326426|-73.98866057160336|         Borough Park|               Brooklyn| 40.75330875946255|-74.00401551098165|  West Chelsea/Huds...|               Manhattan|\n",
      "|          48|          29|       2| 2020-08-01 21:55:43|  2020-08-01 22:31:06|            1.0|        18.88|       1.0|                 N|           2|       51.5|  0.5|    0.5|       0.0|        6.12|                  0.3|       61.42|                 2.5|       null|40.58092175157135|-73.96121662082737|       Brighton Beach|               Brooklyn| 40.76225259858686|-73.98984489812494|          Clinton East|               Manhattan|\n",
      "|         138|          26|       2| 2020-08-01 22:58:55|  2020-08-01 23:39:56|            1.0|        16.11|       1.0|                 N|           2|       50.0|  0.5|    0.5|       0.0|         0.0|                  0.3|        51.3|                 0.0|       null|40.63094925326426|-73.98866057160336|         Borough Park|               Brooklyn| 40.77437581673263|  -73.873628438902|     LaGuardia Airport|                  Queens|\n",
      "|          26|          26|       2| 2020-08-02 12:13:31|  2020-08-02 12:19:41|            1.0|         0.66|       1.0|                 N|           2|        5.5|  0.0|    0.5|       0.0|         0.0|                  0.3|         6.3|                 0.0|       null|40.63094925326426|-73.98866057160336|         Borough Park|               Brooklyn| 40.63094925326426|-73.98866057160336|          Borough Park|                Brooklyn|\n",
      "|         132|          29|       1| 2020-08-02 14:28:47|  2020-08-02 14:54:19|            1.0|         14.9|       1.0|                 N|           1|       41.5|  0.0|    0.5|      8.45|         0.0|                  0.3|       50.75|                 0.0|       null|40.58092175157135|-73.96121662082737|       Brighton Beach|               Brooklyn|  40.6469851002482|-73.78652986349012|           JFK Airport|                  Queens|\n",
      "|          26|          26|       1| 2020-08-02 15:03:40|  2020-08-02 15:07:45|            2.0|          0.5|       1.0|                 N|           2|        4.5|  0.0|    0.5|       0.0|         0.0|                  0.3|         5.3|                 0.0|       null|40.63094925326426|-73.98866057160336|         Borough Park|               Brooklyn| 40.63094925326426|-73.98866057160336|          Borough Park|                Brooklyn|\n",
      "|         161|          26|       2| 2020-08-02 18:56:43|  2020-08-02 19:29:24|            2.0|        11.64|       1.0|                 N|           2|      -36.0|  0.0|   -0.5|       0.0|         0.0|                 -0.3|       -39.3|                -2.5|       null|40.63094925326426|-73.98866057160336|         Borough Park|               Brooklyn|40.758027981780664|-73.97769803041939|        Midtown Center|               Manhattan|\n",
      "|         133|          26|       1| 2020-08-02 18:58:51|  2020-08-02 19:05:17|            1.0|          0.0|       1.0|                 N|           1|       11.2|  0.0|    0.5|       0.0|         0.0|                  0.3|        12.0|                 0.0|       null|40.63094925326426|-73.98866057160336|         Borough Park|               Brooklyn|40.640589941044496|-73.97619875860275|            Kensington|                Brooklyn|\n",
      "|         133|          26|       2| 2020-08-02 19:37:29|  2020-08-02 19:39:41|            4.0|          0.0|       5.0|                 N|           2|      39.18|  0.0|    0.0|       0.0|         0.0|                  0.3|       39.48|                 0.0|       null|40.63094925326426|-73.98866057160336|         Borough Park|               Brooklyn|40.640589941044496|-73.97619875860275|            Kensington|                Brooklyn|\n",
      "+------------+------------+--------+--------------------+---------------------+---------------+-------------+----------+------------------+------------+-----------+-----+-------+----------+------------+---------------------+------------+--------------------+-----------+-----------------+------------------+---------------------+-----------------------+------------------+------------------+----------------------+------------------------+\n",
      "only showing top 20 rows\n",
      "\n"
     ]
    },
    {
     "name": "stderr",
     "output_type": "stream",
     "text": [
      "\r",
      "                                                                                \r"
     ]
    }
   ],
   "source": [
    "# for yellow taxis\n",
    "df_yel_filtered_2020 = filterData(full_data_yel_2020)\n",
    "df_yel_filtered_2020.show()"
   ]
  },
  {
   "cell_type": "code",
   "execution_count": 32,
   "id": "a3540bfa",
   "metadata": {},
   "outputs": [
    {
     "name": "stdout",
     "output_type": "stream",
     "text": [
      "+------------+------------+--------------------+-------------------+-------------------+-------+----------------------+------------------+------------------+---------------------+-----------------------+------------------+------------------+----------------------+------------------------+\n",
      "|PUlocationID|DOlocationID|dispatching_base_num|    pickup_datetime|   dropOff_datetime|SR_Flag|Affiliated_base_number|   pickup_latitude|  pickup_longitude|zones_pickup_location|borough_pickup_location|  dropoff_latitude| dropoff_longitude|zones_dropoff_location|borough_dropoff_location|\n",
      "+------------+------------+--------------------+-------------------+-------------------+-------+----------------------+------------------+------------------+---------------------+-----------------------+------------------+------------------+----------------------+------------------------+\n",
      "|       184.0|       184.0|              B00419|2020-08-01 05:51:40|2020-08-01 05:51:45|   null|                B00419|40.868275112649606|-73.80785826289252|      Pelham Bay Park|                  Bronx|40.868275112649606|-73.80785826289252|       Pelham Bay Park|                   Bronx|\n",
      "|       184.0|       184.0|              B00419|2020-08-01 05:52:33|2020-08-01 05:52:51|   null|                B00419|40.868275112649606|-73.80785826289252|      Pelham Bay Park|                  Bronx|40.868275112649606|-73.80785826289252|       Pelham Bay Park|                   Bronx|\n",
      "|       184.0|       184.0|              B00419|2020-08-01 05:52:59|2020-08-01 05:53:33|   null|                B00419|40.868275112649606|-73.80785826289252|      Pelham Bay Park|                  Bronx|40.868275112649606|-73.80785826289252|       Pelham Bay Park|                   Bronx|\n",
      "|        10.0|       170.0|              B01087|2020-08-01 05:51:05|2020-08-01 06:08:52|   null|                B01087| 40.74774573203896|-73.97849158432054|          Murray Hill|              Manhattan| 40.67895308442328|-73.79098676199028|          Baisley Park|                  Queens|\n",
      "|        81.0|       170.0|              B02293|2020-08-01 06:17:29|2020-08-01 06:43:48|   null|                B02293| 40.74774573203896|-73.97849158432054|          Murray Hill|              Manhattan| 40.88093511497006|-73.83664438963196|           Eastchester|                   Bronx|\n",
      "|       241.0|       170.0|              B02293|2020-08-01 07:41:58|2020-08-01 08:27:35|   null|                B02293| 40.74774573203896|-73.97849158432054|          Murray Hill|              Manhattan|40.876512149833516|-73.89562019423215|  Van Cortlandt Vil...|                   Bronx|\n",
      "|        33.0|       147.0|              B02947|2020-08-01 07:00:00|2020-08-01 07:20:32|   null|                B02947| 40.81967568059163|-73.89895654395085|             Longwood|                  Bronx| 40.69579808472252|-73.99525009947318|      Brooklyn Heights|                Brooklyn|\n",
      "|       213.0|       170.0|              B01087|2020-08-01 08:25:03|2020-08-01 08:43:05|   null|                B01087| 40.74774573203896|-73.97849158432054|          Murray Hill|              Manhattan|40.817858732890684| -73.8581349352209|  Soundview/Castle ...|                   Bronx|\n",
      "|        75.0|       147.0|              B02947|2020-08-01 08:30:00|2020-08-01 08:41:29|   null|                B02947| 40.81967568059163|-73.89895654395085|             Longwood|                  Bronx|   40.790010676294|-73.94575022751276|     East Harlem South|               Manhattan|\n",
      "|       184.0|       184.0|              B00419|2020-08-01 11:21:29|2020-08-01 11:21:35|   null|                B00419|40.868275112649606|-73.80785826289252|      Pelham Bay Park|                  Bronx|40.868275112649606|-73.80785826289252|       Pelham Bay Park|                   Bronx|\n",
      "|       242.0|       147.0|              B02293|2020-08-01 11:38:15|2020-08-01 11:59:06|   null|                B02293| 40.81967568059163|-73.89895654395085|             Longwood|                  Bronx| 40.84678316501388|-73.85067120117776|  Van Nest/Morris Park|                   Bronx|\n",
      "|        69.0|       147.0|              B03160|2020-08-01 11:39:00|2020-08-01 11:53:00|   null|                B02872| 40.81967568059163|-73.89895654395085|             Longwood|                  Bronx| 40.83141625187567|-73.91503006977001|  East Concourse/Co...|                   Bronx|\n",
      "|        89.0|       170.0|              B00823|2020-08-01 12:30:00|2020-08-01 12:45:09|   null|                B02207| 40.74774573203896|-73.97849158432054|          Murray Hill|              Manhattan| 40.63789963509721|-73.96096805763649|  Flatbush/Ditmas Park|                Brooklyn|\n",
      "|       135.0|       170.0|              B02795|2020-08-01 12:00:00|2020-08-01 12:31:30|   null|                B02795| 40.74774573203896|-73.97849158432054|          Murray Hill|              Manhattan| 40.72837725250497|-73.82119497835454|     Kew Gardens Hills|                  Queens|\n",
      "|       184.0|       184.0|              B00419|2020-08-01 13:28:34|2020-08-01 13:28:41|   null|                B00419|40.868275112649606|-73.80785826289252|      Pelham Bay Park|                  Bronx|40.868275112649606|-73.80785826289252|       Pelham Bay Park|                   Bronx|\n",
      "|       184.0|       184.0|              B00419|2020-08-01 13:48:32|2020-08-01 13:48:49|   null|                B00419|40.868275112649606|-73.80785826289252|      Pelham Bay Park|                  Bronx|40.868275112649606|-73.80785826289252|       Pelham Bay Park|                   Bronx|\n",
      "|       184.0|       184.0|              B00419|2020-08-01 14:22:19|2020-08-01 14:23:43|   null|                B00419|40.868275112649606|-73.80785826289252|      Pelham Bay Park|                  Bronx|40.868275112649606|-73.80785826289252|       Pelham Bay Park|                   Bronx|\n",
      "|         4.0|       170.0|              B03072|2020-08-01 14:00:00|2020-08-01 15:00:00|   null|                      | 40.74774573203896|-73.97849158432054|          Murray Hill|              Manhattan| 40.72375208451233|-73.97696827424141|         Alphabet City|               Manhattan|\n",
      "|        42.0|       170.0|              B00254|2020-08-01 15:23:19|2020-08-01 15:45:39|   null|                B00254| 40.74774573203896|-73.97849158432054|          Murray Hill|              Manhattan| 40.81825725007343|-73.94077208625764|  Central Harlem North|               Manhattan|\n",
      "|       147.0|       147.0|              B00419|2020-08-01 16:12:30|2020-08-01 16:13:00|   null|                B00419| 40.81967568059163|-73.89895654395085|             Longwood|                  Bronx| 40.81967568059163|-73.89895654395085|              Longwood|                   Bronx|\n",
      "+------------+------------+--------------------+-------------------+-------------------+-------+----------------------+------------------+------------------+---------------------+-----------------------+------------------+------------------+----------------------+------------------------+\n",
      "only showing top 20 rows\n",
      "\n"
     ]
    },
    {
     "name": "stderr",
     "output_type": "stream",
     "text": [
      "\r",
      "[Stage 120:======================================>                  (2 + 1) / 3]\r",
      "\r",
      "                                                                                \r"
     ]
    }
   ],
   "source": [
    "# for fhv taxis\n",
    "df_fhv_filtered_2020 = filterData(full_data_fhv_2020)\n",
    "df_fhv_filtered_2020.show()"
   ]
  },
  {
   "cell_type": "code",
   "execution_count": 33,
   "id": "b0689dad",
   "metadata": {},
   "outputs": [
    {
     "name": "stderr",
     "output_type": "stream",
     "text": [
      "\r",
      "[Stage 128:==========================================>              (3 + 1) / 4]\r"
     ]
    },
    {
     "name": "stdout",
     "output_type": "stream",
     "text": [
      "+------------+------------+--------+--------------------+---------------------+---------------+-------------+----------+------------------+------------+-----------+-----+-------+----------+------------+---------------------+------------+--------------------+-----------+-----------------+------------------+---------------------+-----------------------+------------------+------------------+----------------------+------------------------+\n",
      "|PULocationID|DOLocationID|VendorID|tpep_pickup_datetime|tpep_dropoff_datetime|passenger_count|trip_distance|RatecodeID|store_and_fwd_flag|payment_type|fare_amount|extra|mta_tax|tip_amount|tolls_amount|improvement_surcharge|total_amount|congestion_surcharge|airport_fee|  pickup_latitude|  pickup_longitude|zones_pickup_location|borough_pickup_location|  dropoff_latitude| dropoff_longitude|zones_dropoff_location|borough_dropoff_location|\n",
      "+------------+------------+--------+--------------------+---------------------+---------------+-------------+----------+------------------+------------+-----------+-----+-------+----------+------------+---------------------+------------+--------------------+-----------+-----------------+------------------+---------------------+-----------------------+------------------+------------------+----------------------+------------------------+\n",
      "|         140|          26|       2| 2020-08-01 00:37:11|  2020-08-01 01:11:36|            1.0|        12.27|       1.0|                 N|           2|       38.0|  0.5|    0.5|       0.0|         0.0|                  0.3|        41.8|                 2.5|       null|40.63094925326426|-73.98866057160336|         Borough Park|               Brooklyn| 40.76548395144242| -73.9547390603464|       Lenox Hill East|               Manhattan|\n",
      "|          69|          26|       1| 2020-08-01 04:22:23|  2020-08-01 04:59:07|            1.0|          0.0|       1.0|                 N|           1|       49.2|  0.0|    0.5|       0.0|        6.12|                  0.3|       56.12|                 0.0|       null|40.63094925326426|-73.98866057160336|         Borough Park|               Brooklyn| 40.83141625187567|-73.91503006977001|  East Concourse/Co...|                   Bronx|\n",
      "|         143|          29|       1| 2020-08-01 11:55:08|  2020-08-01 12:40:21|            1.0|         19.9|       1.0|                 N|           1|       56.5|  2.5|    0.5|      17.9|         0.0|                  0.3|        77.7|                 2.5|       null|40.58092175157135|-73.96121662082737|       Brighton Beach|               Brooklyn| 40.77596514731965| -73.9876456908124|   Lincoln Square West|               Manhattan|\n",
      "|          22|          26|       1| 2020-08-01 12:02:48|  2020-08-01 12:13:02|            1.0|          0.0|       1.0|                 N|           1|       11.2|  0.0|    0.5|       0.0|         0.0|                  0.3|        12.0|                 0.0|       null|40.63094925326426|-73.98866057160336|         Borough Park|               Brooklyn| 40.61221766982796|-73.99525864587314|      Bensonhurst West|                Brooklyn|\n",
      "|         100|          26|       2| 2020-08-01 12:14:33|  2020-08-01 12:46:31|            1.0|         12.7|       1.0|                 N|           2|       38.0|  0.0|    0.5|       0.0|         0.0|                  0.3|        41.3|                 2.5|       null|40.63094925326426|-73.98866057160336|         Borough Park|               Brooklyn| 40.75351274051303|-73.98878660966813|      Garment District|               Manhattan|\n",
      "|         262|          26|       1| 2020-08-01 12:36:10|  2020-08-01 13:04:28|            1.0|         13.3|       1.0|                 N|           1|       38.5|  2.5|    0.5|       0.0|         0.0|                  0.3|        41.8|                 2.5|       null|40.63094925326426|-73.98866057160336|         Borough Park|               Brooklyn|40.775932302217605|-73.94651047848446|        Yorkville East|               Manhattan|\n",
      "|          11|          29|       1| 2020-08-01 14:46:43|  2020-08-01 14:58:14|            1.0|          0.0|       1.0|                 N|           1|       17.2|  0.0|    0.5|       0.0|         0.0|                  0.3|        18.0|                 0.0|       null|40.58092175157135|-73.96121662082737|       Brighton Beach|               Brooklyn| 40.60427268170343|-74.00748784386448|            Bath Beach|                Brooklyn|\n",
      "|         138|          26|       2| 2020-08-01 16:46:10|  2020-08-01 17:26:32|            6.0|        16.51|       1.0|                 N|           2|       47.0|  0.0|    0.5|       0.0|         0.0|                  0.3|        47.8|                 0.0|       null|40.63094925326426|-73.98866057160336|         Borough Park|               Brooklyn| 40.77437581673263|  -73.873628438902|     LaGuardia Airport|                  Queens|\n",
      "|         132|          29|       2| 2020-08-01 16:12:33|  2020-08-01 16:41:30|            1.0|        15.42|       1.0|                 N|           2|       42.5|  0.0|    0.5|       0.0|         0.0|                  0.3|        43.3|                 0.0|       null|40.58092175157135|-73.96121662082737|       Brighton Beach|               Brooklyn|  40.6469851002482|-73.78652986349012|           JFK Airport|                  Queens|\n",
      "|          79|          26|       1| 2020-08-01 17:18:24|  2020-08-01 17:54:19|            1.0|          9.7|       1.0|                 N|           2|       32.5|  2.5|    0.5|       0.0|         0.0|                  0.3|        35.8|                 2.5|       null|40.63094925326426|-73.98866057160336|         Borough Park|               Brooklyn|40.727620122038296|-73.98593745737395|          East Village|               Manhattan|\n",
      "|         107|          26|       2| 2020-08-01 18:02:57|  2020-08-01 18:25:44|            1.0|        11.07|       1.0|                 N|           1|       32.5|  0.0|    0.5|      8.38|        6.12|                  0.3|        50.3|                 2.5|       null|40.63094925326426|-73.98866057160336|         Borough Park|               Brooklyn| 40.73682398302769|-73.98405214924436|              Gramercy|               Manhattan|\n",
      "|         246|          26|       2| 2020-08-01 18:48:39|  2020-08-01 19:16:01|            2.0|        10.14|       1.0|                 N|           1|       30.5|  0.0|    0.5|      7.98|        6.12|                  0.3|        47.9|                 2.5|       null|40.63094925326426|-73.98866057160336|         Borough Park|               Brooklyn| 40.75330875946255|-74.00401551098165|  West Chelsea/Huds...|               Manhattan|\n",
      "|          48|          29|       2| 2020-08-01 21:55:43|  2020-08-01 22:31:06|            1.0|        18.88|       1.0|                 N|           2|       51.5|  0.5|    0.5|       0.0|        6.12|                  0.3|       61.42|                 2.5|       null|40.58092175157135|-73.96121662082737|       Brighton Beach|               Brooklyn| 40.76225259858686|-73.98984489812494|          Clinton East|               Manhattan|\n",
      "|         138|          26|       2| 2020-08-01 22:58:55|  2020-08-01 23:39:56|            1.0|        16.11|       1.0|                 N|           2|       50.0|  0.5|    0.5|       0.0|         0.0|                  0.3|        51.3|                 0.0|       null|40.63094925326426|-73.98866057160336|         Borough Park|               Brooklyn| 40.77437581673263|  -73.873628438902|     LaGuardia Airport|                  Queens|\n",
      "|          26|          26|       2| 2020-08-02 12:13:31|  2020-08-02 12:19:41|            1.0|         0.66|       1.0|                 N|           2|        5.5|  0.0|    0.5|       0.0|         0.0|                  0.3|         6.3|                 0.0|       null|40.63094925326426|-73.98866057160336|         Borough Park|               Brooklyn| 40.63094925326426|-73.98866057160336|          Borough Park|                Brooklyn|\n",
      "|         132|          29|       1| 2020-08-02 14:28:47|  2020-08-02 14:54:19|            1.0|         14.9|       1.0|                 N|           1|       41.5|  0.0|    0.5|      8.45|         0.0|                  0.3|       50.75|                 0.0|       null|40.58092175157135|-73.96121662082737|       Brighton Beach|               Brooklyn|  40.6469851002482|-73.78652986349012|           JFK Airport|                  Queens|\n",
      "|          26|          26|       1| 2020-08-02 15:03:40|  2020-08-02 15:07:45|            2.0|          0.5|       1.0|                 N|           2|        4.5|  0.0|    0.5|       0.0|         0.0|                  0.3|         5.3|                 0.0|       null|40.63094925326426|-73.98866057160336|         Borough Park|               Brooklyn| 40.63094925326426|-73.98866057160336|          Borough Park|                Brooklyn|\n",
      "|         161|          26|       2| 2020-08-02 18:56:43|  2020-08-02 19:29:24|            2.0|        11.64|       1.0|                 N|           2|      -36.0|  0.0|   -0.5|       0.0|         0.0|                 -0.3|       -39.3|                -2.5|       null|40.63094925326426|-73.98866057160336|         Borough Park|               Brooklyn|40.758027981780664|-73.97769803041939|        Midtown Center|               Manhattan|\n",
      "|         133|          26|       1| 2020-08-02 18:58:51|  2020-08-02 19:05:17|            1.0|          0.0|       1.0|                 N|           1|       11.2|  0.0|    0.5|       0.0|         0.0|                  0.3|        12.0|                 0.0|       null|40.63094925326426|-73.98866057160336|         Borough Park|               Brooklyn|40.640589941044496|-73.97619875860275|            Kensington|                Brooklyn|\n",
      "|         133|          26|       2| 2020-08-02 19:37:29|  2020-08-02 19:39:41|            4.0|          0.0|       5.0|                 N|           2|      39.18|  0.0|    0.0|       0.0|         0.0|                  0.3|       39.48|                 0.0|       null|40.63094925326426|-73.98866057160336|         Borough Park|               Brooklyn|40.640589941044496|-73.97619875860275|            Kensington|                Brooklyn|\n",
      "+------------+------------+--------+--------------------+---------------------+---------------+-------------+----------+------------------+------------+-----------+-----+-------+----------+------------+---------------------+------------+--------------------+-----------+-----------------+------------------+---------------------+-----------------------+------------------+------------------+----------------------+------------------------+\n",
      "only showing top 20 rows\n",
      "\n"
     ]
    },
    {
     "name": "stderr",
     "output_type": "stream",
     "text": [
      "\r",
      "                                                                                \r"
     ]
    }
   ],
   "source": [
    "# for yellow taxis\n",
    "df_yel_filtered_2020.show()"
   ]
  },
  {
   "cell_type": "code",
   "execution_count": 34,
   "id": "1ad6509a",
   "metadata": {},
   "outputs": [
    {
     "name": "stdout",
     "output_type": "stream",
     "text": [
      "+------------+------------+--------------------+-------------------+-------------------+-------+----------------------+------------------+------------------+---------------------+-----------------------+------------------+------------------+----------------------+------------------------+\n",
      "|PUlocationID|DOlocationID|dispatching_base_num|    pickup_datetime|   dropOff_datetime|SR_Flag|Affiliated_base_number|   pickup_latitude|  pickup_longitude|zones_pickup_location|borough_pickup_location|  dropoff_latitude| dropoff_longitude|zones_dropoff_location|borough_dropoff_location|\n",
      "+------------+------------+--------------------+-------------------+-------------------+-------+----------------------+------------------+------------------+---------------------+-----------------------+------------------+------------------+----------------------+------------------------+\n",
      "|       184.0|       184.0|              B00419|2020-08-01 05:51:40|2020-08-01 05:51:45|   null|                B00419|40.868275112649606|-73.80785826289252|      Pelham Bay Park|                  Bronx|40.868275112649606|-73.80785826289252|       Pelham Bay Park|                   Bronx|\n",
      "|       184.0|       184.0|              B00419|2020-08-01 05:52:33|2020-08-01 05:52:51|   null|                B00419|40.868275112649606|-73.80785826289252|      Pelham Bay Park|                  Bronx|40.868275112649606|-73.80785826289252|       Pelham Bay Park|                   Bronx|\n",
      "|       184.0|       184.0|              B00419|2020-08-01 05:52:59|2020-08-01 05:53:33|   null|                B00419|40.868275112649606|-73.80785826289252|      Pelham Bay Park|                  Bronx|40.868275112649606|-73.80785826289252|       Pelham Bay Park|                   Bronx|\n",
      "|        10.0|       170.0|              B01087|2020-08-01 05:51:05|2020-08-01 06:08:52|   null|                B01087| 40.74774573203896|-73.97849158432054|          Murray Hill|              Manhattan| 40.67895308442328|-73.79098676199028|          Baisley Park|                  Queens|\n",
      "|        81.0|       170.0|              B02293|2020-08-01 06:17:29|2020-08-01 06:43:48|   null|                B02293| 40.74774573203896|-73.97849158432054|          Murray Hill|              Manhattan| 40.88093511497006|-73.83664438963196|           Eastchester|                   Bronx|\n",
      "|       241.0|       170.0|              B02293|2020-08-01 07:41:58|2020-08-01 08:27:35|   null|                B02293| 40.74774573203896|-73.97849158432054|          Murray Hill|              Manhattan|40.876512149833516|-73.89562019423215|  Van Cortlandt Vil...|                   Bronx|\n",
      "|        33.0|       147.0|              B02947|2020-08-01 07:00:00|2020-08-01 07:20:32|   null|                B02947| 40.81967568059163|-73.89895654395085|             Longwood|                  Bronx| 40.69579808472252|-73.99525009947318|      Brooklyn Heights|                Brooklyn|\n",
      "|       213.0|       170.0|              B01087|2020-08-01 08:25:03|2020-08-01 08:43:05|   null|                B01087| 40.74774573203896|-73.97849158432054|          Murray Hill|              Manhattan|40.817858732890684| -73.8581349352209|  Soundview/Castle ...|                   Bronx|\n",
      "|        75.0|       147.0|              B02947|2020-08-01 08:30:00|2020-08-01 08:41:29|   null|                B02947| 40.81967568059163|-73.89895654395085|             Longwood|                  Bronx|   40.790010676294|-73.94575022751276|     East Harlem South|               Manhattan|\n",
      "|       184.0|       184.0|              B00419|2020-08-01 11:21:29|2020-08-01 11:21:35|   null|                B00419|40.868275112649606|-73.80785826289252|      Pelham Bay Park|                  Bronx|40.868275112649606|-73.80785826289252|       Pelham Bay Park|                   Bronx|\n",
      "|       242.0|       147.0|              B02293|2020-08-01 11:38:15|2020-08-01 11:59:06|   null|                B02293| 40.81967568059163|-73.89895654395085|             Longwood|                  Bronx| 40.84678316501388|-73.85067120117776|  Van Nest/Morris Park|                   Bronx|\n",
      "|        69.0|       147.0|              B03160|2020-08-01 11:39:00|2020-08-01 11:53:00|   null|                B02872| 40.81967568059163|-73.89895654395085|             Longwood|                  Bronx| 40.83141625187567|-73.91503006977001|  East Concourse/Co...|                   Bronx|\n",
      "|        89.0|       170.0|              B00823|2020-08-01 12:30:00|2020-08-01 12:45:09|   null|                B02207| 40.74774573203896|-73.97849158432054|          Murray Hill|              Manhattan| 40.63789963509721|-73.96096805763649|  Flatbush/Ditmas Park|                Brooklyn|\n",
      "|       135.0|       170.0|              B02795|2020-08-01 12:00:00|2020-08-01 12:31:30|   null|                B02795| 40.74774573203896|-73.97849158432054|          Murray Hill|              Manhattan| 40.72837725250497|-73.82119497835454|     Kew Gardens Hills|                  Queens|\n",
      "|       184.0|       184.0|              B00419|2020-08-01 13:28:34|2020-08-01 13:28:41|   null|                B00419|40.868275112649606|-73.80785826289252|      Pelham Bay Park|                  Bronx|40.868275112649606|-73.80785826289252|       Pelham Bay Park|                   Bronx|\n",
      "|       184.0|       184.0|              B00419|2020-08-01 13:48:32|2020-08-01 13:48:49|   null|                B00419|40.868275112649606|-73.80785826289252|      Pelham Bay Park|                  Bronx|40.868275112649606|-73.80785826289252|       Pelham Bay Park|                   Bronx|\n",
      "|       184.0|       184.0|              B00419|2020-08-01 14:22:19|2020-08-01 14:23:43|   null|                B00419|40.868275112649606|-73.80785826289252|      Pelham Bay Park|                  Bronx|40.868275112649606|-73.80785826289252|       Pelham Bay Park|                   Bronx|\n",
      "|         4.0|       170.0|              B03072|2020-08-01 14:00:00|2020-08-01 15:00:00|   null|                      | 40.74774573203896|-73.97849158432054|          Murray Hill|              Manhattan| 40.72375208451233|-73.97696827424141|         Alphabet City|               Manhattan|\n",
      "|        42.0|       170.0|              B00254|2020-08-01 15:23:19|2020-08-01 15:45:39|   null|                B00254| 40.74774573203896|-73.97849158432054|          Murray Hill|              Manhattan| 40.81825725007343|-73.94077208625764|  Central Harlem North|               Manhattan|\n",
      "|       147.0|       147.0|              B00419|2020-08-01 16:12:30|2020-08-01 16:13:00|   null|                B00419| 40.81967568059163|-73.89895654395085|             Longwood|                  Bronx| 40.81967568059163|-73.89895654395085|              Longwood|                   Bronx|\n",
      "+------------+------------+--------------------+-------------------+-------------------+-------+----------------------+------------------+------------------+---------------------+-----------------------+------------------+------------------+----------------------+------------------------+\n",
      "only showing top 20 rows\n",
      "\n"
     ]
    },
    {
     "name": "stderr",
     "output_type": "stream",
     "text": [
      "\r",
      "[Stage 136:======================================>                  (2 + 1) / 3]\r",
      "\r",
      "                                                                                \r"
     ]
    }
   ],
   "source": [
    "# for fhv taxis\n",
    "df_fhv_filtered_2020.show()"
   ]
  },
  {
   "cell_type": "markdown",
   "id": "61e6d373",
   "metadata": {},
   "source": [
    "1. Filter and cache/persist the result"
   ]
  },
  {
   "cell_type": "code",
   "execution_count": 35,
   "id": "ddd46ad6",
   "metadata": {},
   "outputs": [],
   "source": [
    "# for yellow taxis\n",
    "df_yel_filtered_2020 = df_yel_2020.cache()\n",
    "\n",
    "# for fhv taxis\n",
    "df_fhv_filtered_2020 = df_fhv_2020.cache()"
   ]
  },
  {
   "cell_type": "markdown",
   "id": "8bed59a2",
   "metadata": {},
   "source": [
    "## Assessing seasonalities and looking at time series"
   ]
  },
  {
   "cell_type": "markdown",
   "id": "97db9fc3",
   "metadata": {},
   "source": [
    "1. The number of pickups"
   ]
  },
  {
   "cell_type": "code",
   "execution_count": 36,
   "id": "88561b97",
   "metadata": {},
   "outputs": [],
   "source": [
    "# for yellow taxis\n",
    "counts_pickup_yel_2020 = df_yel_filtered_2020.groupby(dayofweek('tpep_pickup_datetime').alias('pickup_day'),\n",
    "                             hour('tpep_pickup_datetime').alias('pickup_hour')).count()\n",
    "#display the result\n"
   ]
  },
  {
   "cell_type": "code",
   "execution_count": 37,
   "id": "a93c598e",
   "metadata": {},
   "outputs": [],
   "source": [
    "# for fhv taxis\n",
    "counts_pickup_fhv_2020 = df_fhv_filtered_2020.groupby(dayofweek('pickup_datetime').alias('pickup_day'),\n",
    "                             hour('pickup_datetime').alias('pickup_hour')).count()\n",
    "#display the result"
   ]
  },
  {
   "cell_type": "markdown",
   "id": "355c23fd",
   "metadata": {},
   "source": [
    "2. The average fare"
   ]
  },
  {
   "cell_type": "code",
   "execution_count": 38,
   "id": "b3e41035",
   "metadata": {},
   "outputs": [
    {
     "name": "stderr",
     "output_type": "stream",
     "text": [
      "                                                                                \r"
     ]
    },
    {
     "data": {
      "text/html": [
       "<div>\n",
       "<style scoped>\n",
       "    .dataframe tbody tr th:only-of-type {\n",
       "        vertical-align: middle;\n",
       "    }\n",
       "\n",
       "    .dataframe tbody tr th {\n",
       "        vertical-align: top;\n",
       "    }\n",
       "\n",
       "    .dataframe thead th {\n",
       "        text-align: right;\n",
       "    }\n",
       "</style>\n",
       "<table border=\"1\" class=\"dataframe\">\n",
       "  <thead>\n",
       "    <tr style=\"text-align: right;\">\n",
       "      <th></th>\n",
       "      <th>pickup_day</th>\n",
       "      <th>pickup_hour</th>\n",
       "      <th>avg(fare_amount)</th>\n",
       "    </tr>\n",
       "  </thead>\n",
       "  <tbody>\n",
       "    <tr>\n",
       "      <th>24</th>\n",
       "      <td>6</td>\n",
       "      <td>0</td>\n",
       "      <td>16.641735</td>\n",
       "    </tr>\n",
       "    <tr>\n",
       "      <th>161</th>\n",
       "      <td>7</td>\n",
       "      <td>0</td>\n",
       "      <td>15.296953</td>\n",
       "    </tr>\n",
       "    <tr>\n",
       "      <th>3</th>\n",
       "      <td>1</td>\n",
       "      <td>0</td>\n",
       "      <td>15.216068</td>\n",
       "    </tr>\n",
       "    <tr>\n",
       "      <th>145</th>\n",
       "      <td>3</td>\n",
       "      <td>0</td>\n",
       "      <td>19.843985</td>\n",
       "    </tr>\n",
       "    <tr>\n",
       "      <th>26</th>\n",
       "      <td>4</td>\n",
       "      <td>0</td>\n",
       "      <td>18.034538</td>\n",
       "    </tr>\n",
       "    <tr>\n",
       "      <th>...</th>\n",
       "      <td>...</td>\n",
       "      <td>...</td>\n",
       "      <td>...</td>\n",
       "    </tr>\n",
       "    <tr>\n",
       "      <th>79</th>\n",
       "      <td>6</td>\n",
       "      <td>23</td>\n",
       "      <td>13.413411</td>\n",
       "    </tr>\n",
       "    <tr>\n",
       "      <th>76</th>\n",
       "      <td>1</td>\n",
       "      <td>23</td>\n",
       "      <td>16.088481</td>\n",
       "    </tr>\n",
       "    <tr>\n",
       "      <th>71</th>\n",
       "      <td>4</td>\n",
       "      <td>23</td>\n",
       "      <td>14.756213</td>\n",
       "    </tr>\n",
       "    <tr>\n",
       "      <th>61</th>\n",
       "      <td>5</td>\n",
       "      <td>23</td>\n",
       "      <td>14.083719</td>\n",
       "    </tr>\n",
       "    <tr>\n",
       "      <th>49</th>\n",
       "      <td>7</td>\n",
       "      <td>23</td>\n",
       "      <td>13.538087</td>\n",
       "    </tr>\n",
       "  </tbody>\n",
       "</table>\n",
       "<p>168 rows × 3 columns</p>\n",
       "</div>"
      ],
      "text/plain": [
       "     pickup_day  pickup_hour  avg(fare_amount)\n",
       "24            6            0         16.641735\n",
       "161           7            0         15.296953\n",
       "3             1            0         15.216068\n",
       "145           3            0         19.843985\n",
       "26            4            0         18.034538\n",
       "..          ...          ...               ...\n",
       "79            6           23         13.413411\n",
       "76            1           23         16.088481\n",
       "71            4           23         14.756213\n",
       "61            5           23         14.083719\n",
       "49            7           23         13.538087\n",
       "\n",
       "[168 rows x 3 columns]"
      ]
     },
     "execution_count": 38,
     "metadata": {},
     "output_type": "execute_result"
    }
   ],
   "source": [
    "#for yellow taxis\n",
    "avg_fare_yel_2020 = df_yel_filtered_2020.groupby(dayofweek('tpep_pickup_datetime').alias('pickup_day'),\n",
    "                        hour('tpep_pickup_datetime').alias('pickup_hour')).avg('fare_amount')\n",
    "#display the result\n",
    "#print(\"The average fare is: \" ,avg_fare)\n",
    "avg_fare_yel_2020 = avg_fare_yel_2020.toPandas()\n",
    "avg_fare_yel_2020 = avg_fare_yel_2020.sort_values(by=['pickup_hour'])\n",
    "avg_fare_yel_2020\n"
   ]
  },
  {
   "cell_type": "code",
   "execution_count": 39,
   "id": "8218a6c6",
   "metadata": {},
   "outputs": [
    {
     "data": {
      "text/plain": [
       "'\\n# for fhv taxis\\navg_fare_fhv_2020 = df_fhv_filtered_2020.groupby(dayofweek(\\'pickup_datetime\\').alias(\\'pickup_day\\'),\\n                        hour(\\'pickup_datetime\\').alias(\\'pickup_hour\\'))\\n#display the result\\n#print(\"The average fare is: \" ,avg_fare)\\navg_fare_fhv_2020 = avg_fare_fhv_2020.toPandas()\\navg_fare_fhv_2020 = avg_fare_fhv_2020.sort_values(by=[\\'pickup_hour\\'])\\navg_fare_fhv_2020\\n\\n'"
      ]
     },
     "execution_count": 39,
     "metadata": {},
     "output_type": "execute_result"
    }
   ],
   "source": [
    "'''\n",
    "# for fhv taxis\n",
    "avg_fare_fhv_2020 = df_fhv_filtered_2020.groupby(dayofweek('pickup_datetime').alias('pickup_day'),\n",
    "                        hour('pickup_datetime').alias('pickup_hour'))\n",
    "#display the result\n",
    "#print(\"The average fare is: \" ,avg_fare)\n",
    "avg_fare_fhv_2020 = avg_fare_fhv_2020.toPandas()\n",
    "avg_fare_fhv_2020 = avg_fare_fhv_2020.sort_values(by=['pickup_hour'])\n",
    "avg_fare_fhv_2020\n",
    "\n",
    "'''"
   ]
  },
  {
   "cell_type": "markdown",
   "id": "d3bc8e1b",
   "metadata": {},
   "source": [
    "3. The average trip duration"
   ]
  },
  {
   "cell_type": "code",
   "execution_count": 40,
   "id": "d6db28bd",
   "metadata": {},
   "outputs": [],
   "source": [
    "# for yellow taxis\n",
    "avg_trip_duration_yel_2020 = df_yel_filtered_2020.groupby(dayofweek('tpep_pickup_datetime').alias('pickup_day'), \n",
    "                            hour('tpep_pickup_datetime').alias('pickup_hour')).avg('trip_distance')\n",
    "#display the result\n"
   ]
  },
  {
   "cell_type": "code",
   "execution_count": 41,
   "id": "e568a802",
   "metadata": {},
   "outputs": [],
   "source": [
    "# for fhv taxis\n",
    "avg_trip_duration_fhv_2020 = df_fhv_filtered_2020.groupby(dayofweek('pickup_datetime').alias('pickup_day'), \n",
    "                            hour('pickup_datetime').alias('pickup_hour'))\n",
    "#display the result"
   ]
  },
  {
   "cell_type": "markdown",
   "id": "bf5b41cc",
   "metadata": {},
   "source": [
    "4. Plot the average of ongoing trips"
   ]
  },
  {
   "cell_type": "code",
   "execution_count": 44,
   "id": "4022f33e",
   "metadata": {},
   "outputs": [
    {
     "name": "stderr",
     "output_type": "stream",
     "text": [
      "                                                                                \r"
     ]
    },
    {
     "data": {
      "image/png": "[encoded data removed]",
      "text/plain": [
       "<Figure size 1000x600 with 1 Axes>"
      ]
     },
     "metadata": {},
     "output_type": "display_data"
    }
   ],
   "source": [
    "import pandas as pd\n",
    "# convert into pandas dataframe\n",
    "df_yel_filtered_2020 = df_yel_filtered_2020.toPandas()\n",
    "\n",
    "# Convert the 'tpep_dropoff_datetime' and 'tpep_pickup_datetime' columns to datetime format\n",
    "df_yel_filtered_2020['tpep_dropoff_datetime'] = pd.to_datetime(df_yel_filtered_2020['tpep_dropoff_datetime'])\n",
    "df_yel_filtered_2020['tpep_pickup_datetime'] = pd.to_datetime(df_yel_filtered_2020['tpep_pickup_datetime'])\n",
    "\n",
    "# Calculate the duration of each trip by subtracting the pickup datetime \n",
    "# from the dropoff datetime to get the trip duration in seconds.\n",
    "\n",
    "df_yel_filtered_2020['trip_duration'] = (df_yel_filtered_2020['tpep_dropoff_datetime'] - \n",
    "                                    df_yel_filtered_2020['tpep_pickup_datetime']).dt.total_seconds()\n",
    "\n",
    "# Group the data by the desired time interval and calculate the average trip duration for each interval.\n",
    "\n",
    "average_trip_duration = df_yel_filtered_2020.groupby(df_yel_filtered_2020['tpep_pickup_datetime'].dt.hour)['trip_duration'].mean()\n",
    "\n",
    "# the plot\n",
    "plt.figure(figsize=(10, 6)) \n",
    "plt.bar(average_trip_duration.index, average_trip_duration.values)\n",
    "plt.xlabel('Hour')\n",
    "plt.ylabel('Average Trip Duration (seconds)')\n",
    "plt.title('Average Trip Duration by Hour')\n",
    "plt.xticks(average_trip_duration.index)\n",
    "plt.grid(True) \n",
    "plt.show()\n"
   ]
  },
  {
   "cell_type": "code",
   "execution_count": 45,
   "id": "a3d02a11",
   "metadata": {},
   "outputs": [
    {
     "name": "stderr",
     "output_type": "stream",
     "text": [
      "                                                                                \r"
     ]
    },
    {
     "data": {
      "image/png": "[encoded data removed]",
      "text/plain": [
       "<Figure size 1000x600 with 1 Axes>"
      ]
     },
     "metadata": {},
     "output_type": "display_data"
    }
   ],
   "source": [
    "# for fhv taxis\n",
    "# convert into pandas dataframe\n",
    "df_fhv_filtered_2020 = df_fhv_filtered_2020.toPandas()\n",
    "\n",
    "# Convert the 'tpep_dropoff_datetime' and 'tpep_pickup_datetime' columns to datetime format\n",
    "df_fhv_filtered_2020['dropOff_datetime'] = pd.to_datetime(df_fhv_filtered_2020['dropOff_datetime'])\n",
    "df_fhv_filtered_2020['pickup_datetime'] = pd.to_datetime(df_fhv_filtered_2020['pickup_datetime'])\n",
    "\n",
    "# Calculate the duration of each trip by subtracting the pickup datetime \n",
    "# from the dropoff datetime to get the trip duration in seconds.\n",
    "\n",
    "df_fhv_filtered_2020['trip_duration'] = (df_fhv_filtered_2020['dropOff_datetime'] - \n",
    "                                    df_fhv_filtered_2020['pickup_datetime']).dt.total_seconds()\n",
    "\n",
    "# Group the data by the desired time interval and calculate the average trip duration for each interval.\n",
    "\n",
    "average_trip_duration = df_fhv_filtered_2020.groupby(df_fhv_filtered_2020['pickup_datetime'].dt.hour)['trip_duration'].mean()\n",
    "\n",
    "# the plot\n",
    "plt.figure(figsize=(10, 6)) \n",
    "plt.bar(average_trip_duration.index, average_trip_duration.values)\n",
    "plt.xlabel('Hour')\n",
    "plt.ylabel('Average Trip Duration (seconds)')\n",
    "plt.title('Average Trip Duration by Hour')\n",
    "plt.xticks(average_trip_duration.index)\n",
    "plt.grid(True) \n",
    "plt.show()\n"
   ]
  },
  {
   "cell_type": "markdown",
   "id": "130f0576",
   "metadata": {},
   "source": [
    "## Rides to the airports"
   ]
  },
  {
   "cell_type": "markdown",
   "id": "ea137dd2",
   "metadata": {},
   "source": [
    "1. Median duration of taxi trip leaving Midtown (Southern Manhattan) headed for JFK Airport"
   ]
  },
  {
   "cell_type": "code",
   "execution_count": null,
   "id": "9012a9a3",
   "metadata": {},
   "outputs": [],
   "source": [
    "midtown = {'longitude_min': -74.01, 'longitude_max': -73.96, 'latitude_min': 40.73, 'latitude_max': 40.78}\n",
    "jfk = {'longitude_min': -73.85, 'longitude_max': -73.74, 'latitude_min': 40.62, 'latitude_max': 40.66}\n",
    "newark = {'longitude_min': -74.20, 'longitude_max': -74.14, 'latitude_min': 40.65, 'latitude_max': 40.73}\n",
    "laguardia = {'longitude_min': -73.89, 'longitude_max': -73.85, 'latitude_min': 40.77, 'latitude_max': 40.80}\n",
    " \n",
    "\n",
    "median_trip_duration = df_yel_filtered(col(\"pickup_longitude\") >= )"
   ]
  },
  {
   "cell_type": "markdown",
   "id": "f03e0271",
   "metadata": {},
   "source": [
    "## Geographic information"
   ]
  },
  {
   "cell_type": "code",
   "execution_count": null,
   "id": "b2645429",
   "metadata": {},
   "outputs": [],
   "source": [
    "# Load GeoJSON file\n",
    "data_geojson = gpd.read_file(\"/home/marius/Téléchargements/map.geojson\")         # Load the GeoJSON file as a GeoDataFrame\n",
    "\n",
    "print(data_geojson)"
   ]
  },
  {
   "cell_type": "code",
   "execution_count": null,
   "id": "72dac153",
   "metadata": {},
   "outputs": [],
   "source": [
    "#Register DataFrame as a temporary view for Spark SQL operations\n",
    "#df_yel_filtered.createOrReplaceTempView(\"trips\")\n",
    "\n",
    "# Build a heatmap of number of pickups, number of dropoffs, and number of pickups with dropoff at airports\n",
    "heatmap_pickups = df_yel_filtered.groupBy(\"zones_pickup_location\").count()\n",
    "heatmap_dropoffs = df_yel_filtered.groupBy(\"zones_dropoff_location\").count()\n",
    "heatmap_airport_pickups = df_yel_filtered.filter(col(\"zones_dropoff_location\").isin(['JFK', \n",
    "                                        'LaGuardia', 'Newark'])).groupBy(\"zones_pickup_location\").count()\n",
    "\n"
   ]
  },
  {
   "cell_type": "code",
   "execution_count": null,
   "id": "947e0223",
   "metadata": {},
   "outputs": [],
   "source": [
    "# Build a choropleth map of number of pickups in the area, ratio of card payments to cash payments, and ratio of total fare to trip duration\n",
    "choropleth_pickups = df_yel_filtered.groupBy(\"zones_pickup_location\").count()\n",
    "choropleth_payment_ratio = df_yel_filtered.groupBy(\"zones_pickup_location\").agg(\n",
    "    (sum(when(col(\"payment_type\") == 1, 1).otherwise(0)) /\n",
    "     sum(when(col(\"payment_type\") == 2, 1).otherwise(0))).alias(\"payment_ratio\")\n",
    ")\n",
    "choropleth_fare_duration_ratio = df_yel_filtered.groupBy(\"zones_dropoff_location\").agg(\n",
    "    (sum(\"total_amount\") / sum(\"trip_distance\")).alias(\"fare_duration_ratio\")\n",
    ")"
   ]
  },
  {
   "cell_type": "code",
   "execution_count": null,
   "id": "4ed98971",
   "metadata": {},
   "outputs": [],
   "source": []
  },
  {
   "cell_type": "markdown",
   "id": "9096279a",
   "metadata": {},
   "source": [
    "## Covid impact"
   ]
  },
  {
   "cell_type": "code",
   "execution_count": null,
   "id": "36529769",
   "metadata": {},
   "outputs": [],
   "source": []
  }
 ],
 "metadata": {
  "kernelspec": {
   "display_name": "Python 3 (ipykernel)",
   "language": "python",
   "name": "python3"
  },
  "language_info": {
   "codemirror_mode": {
    "name": "ipython",
    "version": 3
   },
   "file_extension": ".py",
   "mimetype": "text/x-python",
   "name": "python",
   "nbconvert_exporter": "python",
   "pygments_lexer": "ipython3",
   "version": "3.9.13"
  }
 },
 "nbformat": 4,
 "nbformat_minor": 5
}
