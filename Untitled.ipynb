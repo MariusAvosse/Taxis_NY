{
 "cells": [
  {
   "cell_type": "code",
   "execution_count": 1,
   "id": "65361999",
   "metadata": {},
   "outputs": [
    {
     "name": "stderr",
     "output_type": "stream",
     "text": [
<<<<<<< HEAD
      "23/05/24 15:31:30 WARN Utils: Your hostname, marius-Latitude-3410 resolves to a loopback address: 127.0.1.1; using 10.30.204.156 instead (on interface wlp0s20f3)\n",
      "23/05/24 15:31:30 WARN Utils: Set SPARK_LOCAL_IP if you need to bind to another address\n",
      "Setting default log level to \"WARN\".\n",
      "To adjust logging level use sc.setLogLevel(newLevel). For SparkR, use setLogLevel(newLevel).\n",
      "23/05/24 15:31:31 WARN NativeCodeLoader: Unable to load native-hadoop library for your platform... using builtin-java classes where applicable\n",
      "23/05/24 15:31:32 WARN Utils: Service 'SparkUI' could not bind on port 4040. Attempting port 4041.\n"
=======
      "23/05/24 12:05:27 WARN Utils: Your hostname, patrick resolves to a loopback address: 127.0.1.1; using 192.168.43.137 instead (on interface wlp2s0)\n",
      "23/05/24 12:05:27 WARN Utils: Set SPARK_LOCAL_IP if you need to bind to another address\n",
      "Setting default log level to \"WARN\".\n",
      "To adjust logging level use sc.setLogLevel(newLevel). For SparkR, use setLogLevel(newLevel).\n",
      "23/05/24 12:05:28 WARN NativeCodeLoader: Unable to load native-hadoop library for your platform... using builtin-java classes where applicable\n"
>>>>>>> 40a8c522268f7a6410f41176699d255c1909bfde
     ]
    }
   ],
   "source": [
    "import os\n",
    "import sys\n",
    "from pyspark.sql import SparkSession\n",
    "from pyspark import SparkContext as sc\n",
    "\n",
    "spark = (SparkSession\n",
    "        .builder\n",
    "        .appName(\"BIG DATA\")\n",
    "        .getOrCreate()\n",
    "        )"
   ]
  },
  {
   "cell_type": "code",
<<<<<<< HEAD
   "execution_count": 64,
   "id": "a221b490",
   "metadata": {},
   "outputs": [
    {
     "name": "stdout",
     "output_type": "stream",
     "text": [
      "Requirement already satisfied: geojson in /home/marius/anaconda3/lib/python3.9/site-packages (3.0.1)\n",
      "Requirement already satisfied: geopandas in /home/marius/anaconda3/lib/python3.9/site-packages (0.13.0)\n",
      "Requirement already satisfied: plotly in /home/marius/anaconda3/lib/python3.9/site-packages (5.9.0)\n",
      "Requirement already satisfied: fiona>=1.8.19 in /home/marius/anaconda3/lib/python3.9/site-packages (from geopandas) (1.9.4)\n",
      "Requirement already satisfied: packaging in /home/marius/anaconda3/lib/python3.9/site-packages (from geopandas) (21.3)\n",
      "Requirement already satisfied: pyproj>=3.0.1 in /home/marius/anaconda3/lib/python3.9/site-packages (from geopandas) (3.5.0)\n",
      "Requirement already satisfied: shapely>=1.7.1 in /home/marius/anaconda3/lib/python3.9/site-packages (from geopandas) (2.0.1)\n",
      "Requirement already satisfied: pandas>=1.1.0 in /home/marius/anaconda3/lib/python3.9/site-packages (from geopandas) (1.4.4)\n",
      "Requirement already satisfied: tenacity>=6.2.0 in /home/marius/anaconda3/lib/python3.9/site-packages (from plotly) (8.0.1)\n",
      "Requirement already satisfied: certifi in /home/marius/anaconda3/lib/python3.9/site-packages (from fiona>=1.8.19->geopandas) (2022.9.14)\n",
      "Requirement already satisfied: click~=8.0 in /home/marius/anaconda3/lib/python3.9/site-packages (from fiona>=1.8.19->geopandas) (8.0.4)\n",
      "Requirement already satisfied: cligj>=0.5 in /home/marius/anaconda3/lib/python3.9/site-packages (from fiona>=1.8.19->geopandas) (0.7.2)\n",
      "Requirement already satisfied: six in /home/marius/anaconda3/lib/python3.9/site-packages (from fiona>=1.8.19->geopandas) (1.16.0)\n",
      "Requirement already satisfied: attrs>=19.2.0 in /home/marius/anaconda3/lib/python3.9/site-packages (from fiona>=1.8.19->geopandas) (21.4.0)\n",
      "Requirement already satisfied: click-plugins>=1.0 in /home/marius/anaconda3/lib/python3.9/site-packages (from fiona>=1.8.19->geopandas) (1.1.1)\n",
      "Requirement already satisfied: importlib-metadata in /home/marius/anaconda3/lib/python3.9/site-packages (from fiona>=1.8.19->geopandas) (4.11.3)\n",
      "Requirement already satisfied: python-dateutil>=2.8.1 in /home/marius/anaconda3/lib/python3.9/site-packages (from pandas>=1.1.0->geopandas) (2.8.2)\n",
      "Requirement already satisfied: pytz>=2020.1 in /home/marius/anaconda3/lib/python3.9/site-packages (from pandas>=1.1.0->geopandas) (2022.1)\n",
      "Requirement already satisfied: numpy>=1.18.5 in /home/marius/anaconda3/lib/python3.9/site-packages (from pandas>=1.1.0->geopandas) (1.21.5)\n",
      "Requirement already satisfied: pyparsing!=3.0.5,>=2.0.2 in /home/marius/anaconda3/lib/python3.9/site-packages (from packaging->geopandas) (3.0.9)\n",
      "Requirement already satisfied: zipp>=0.5 in /home/marius/anaconda3/lib/python3.9/site-packages (from importlib-metadata->fiona>=1.8.19->geopandas) (3.8.0)\n"
     ]
    }
   ],
   "source": [
    "!pip install geojson geopandas plotly"
   ]
  },
  {
   "cell_type": "code",
   "execution_count": 65,
   "id": "9a479fa9",
   "metadata": {},
   "outputs": [
    {
     "name": "stdout",
     "output_type": "stream",
     "text": [
      "Requirement already satisfied: ipyleaflet in /home/marius/anaconda3/lib/python3.9/site-packages (0.17.2)\n",
      "Requirement already satisfied: branca>=0.5.0 in /home/marius/anaconda3/lib/python3.9/site-packages (from ipyleaflet) (0.6.0)\n",
      "Requirement already satisfied: traittypes<3,>=0.2.1 in /home/marius/anaconda3/lib/python3.9/site-packages (from ipyleaflet) (0.2.1)\n",
      "Requirement already satisfied: xyzservices>=2021.8.1 in /home/marius/anaconda3/lib/python3.9/site-packages (from ipyleaflet) (2023.5.0)\n",
      "Requirement already satisfied: ipywidgets<9,>=7.6.0 in /home/marius/anaconda3/lib/python3.9/site-packages (from ipyleaflet) (7.6.5)\n",
      "Requirement already satisfied: jinja2 in /home/marius/anaconda3/lib/python3.9/site-packages (from branca>=0.5.0->ipyleaflet) (2.11.3)\n",
      "Requirement already satisfied: widgetsnbextension~=3.5.0 in /home/marius/anaconda3/lib/python3.9/site-packages (from ipywidgets<9,>=7.6.0->ipyleaflet) (3.5.2)\n",
      "Requirement already satisfied: ipython>=4.0.0 in /home/marius/anaconda3/lib/python3.9/site-packages (from ipywidgets<9,>=7.6.0->ipyleaflet) (7.31.1)\n",
      "Requirement already satisfied: ipykernel>=4.5.1 in /home/marius/anaconda3/lib/python3.9/site-packages (from ipywidgets<9,>=7.6.0->ipyleaflet) (6.15.2)\n",
      "Requirement already satisfied: jupyterlab-widgets>=1.0.0 in /home/marius/anaconda3/lib/python3.9/site-packages (from ipywidgets<9,>=7.6.0->ipyleaflet) (1.0.0)\n",
      "Requirement already satisfied: traitlets>=4.3.1 in /home/marius/anaconda3/lib/python3.9/site-packages (from ipywidgets<9,>=7.6.0->ipyleaflet) (5.1.1)\n",
      "Requirement already satisfied: nbformat>=4.2.0 in /home/marius/anaconda3/lib/python3.9/site-packages (from ipywidgets<9,>=7.6.0->ipyleaflet) (5.5.0)\n",
      "Requirement already satisfied: ipython-genutils~=0.2.0 in /home/marius/anaconda3/lib/python3.9/site-packages (from ipywidgets<9,>=7.6.0->ipyleaflet) (0.2.0)\n",
      "Requirement already satisfied: jupyter-client>=6.1.12 in /home/marius/anaconda3/lib/python3.9/site-packages (from ipykernel>=4.5.1->ipywidgets<9,>=7.6.0->ipyleaflet) (7.3.4)\n",
      "Requirement already satisfied: nest-asyncio in /home/marius/anaconda3/lib/python3.9/site-packages (from ipykernel>=4.5.1->ipywidgets<9,>=7.6.0->ipyleaflet) (1.5.5)\n",
      "Requirement already satisfied: debugpy>=1.0 in /home/marius/anaconda3/lib/python3.9/site-packages (from ipykernel>=4.5.1->ipywidgets<9,>=7.6.0->ipyleaflet) (1.5.1)\n",
      "Requirement already satisfied: tornado>=6.1 in /home/marius/anaconda3/lib/python3.9/site-packages (from ipykernel>=4.5.1->ipywidgets<9,>=7.6.0->ipyleaflet) (6.1)\n",
      "Requirement already satisfied: packaging in /home/marius/anaconda3/lib/python3.9/site-packages (from ipykernel>=4.5.1->ipywidgets<9,>=7.6.0->ipyleaflet) (21.3)\n",
      "Requirement already satisfied: matplotlib-inline>=0.1 in /home/marius/anaconda3/lib/python3.9/site-packages (from ipykernel>=4.5.1->ipywidgets<9,>=7.6.0->ipyleaflet) (0.1.6)\n",
      "Requirement already satisfied: pyzmq>=17 in /home/marius/anaconda3/lib/python3.9/site-packages (from ipykernel>=4.5.1->ipywidgets<9,>=7.6.0->ipyleaflet) (23.2.0)\n",
      "Requirement already satisfied: psutil in /home/marius/anaconda3/lib/python3.9/site-packages (from ipykernel>=4.5.1->ipywidgets<9,>=7.6.0->ipyleaflet) (5.9.0)\n",
      "Requirement already satisfied: decorator in /home/marius/anaconda3/lib/python3.9/site-packages (from ipython>=4.0.0->ipywidgets<9,>=7.6.0->ipyleaflet) (5.1.1)\n",
      "Requirement already satisfied: pickleshare in /home/marius/anaconda3/lib/python3.9/site-packages (from ipython>=4.0.0->ipywidgets<9,>=7.6.0->ipyleaflet) (0.7.5)\n",
      "Requirement already satisfied: backcall in /home/marius/anaconda3/lib/python3.9/site-packages (from ipython>=4.0.0->ipywidgets<9,>=7.6.0->ipyleaflet) (0.2.0)\n",
      "Requirement already satisfied: jedi>=0.16 in /home/marius/anaconda3/lib/python3.9/site-packages (from ipython>=4.0.0->ipywidgets<9,>=7.6.0->ipyleaflet) (0.18.1)\n",
      "Requirement already satisfied: pexpect>4.3 in /home/marius/anaconda3/lib/python3.9/site-packages (from ipython>=4.0.0->ipywidgets<9,>=7.6.0->ipyleaflet) (4.8.0)\n",
      "Requirement already satisfied: setuptools>=18.5 in /home/marius/anaconda3/lib/python3.9/site-packages (from ipython>=4.0.0->ipywidgets<9,>=7.6.0->ipyleaflet) (63.4.1)\n",
      "Requirement already satisfied: prompt-toolkit!=3.0.0,!=3.0.1,<3.1.0,>=2.0.0 in /home/marius/anaconda3/lib/python3.9/site-packages (from ipython>=4.0.0->ipywidgets<9,>=7.6.0->ipyleaflet) (3.0.20)\n",
      "Requirement already satisfied: pygments in /home/marius/anaconda3/lib/python3.9/site-packages (from ipython>=4.0.0->ipywidgets<9,>=7.6.0->ipyleaflet) (2.11.2)\n",
      "Requirement already satisfied: jsonschema>=2.6 in /home/marius/anaconda3/lib/python3.9/site-packages (from nbformat>=4.2.0->ipywidgets<9,>=7.6.0->ipyleaflet) (4.16.0)\n",
      "Requirement already satisfied: jupyter_core in /home/marius/anaconda3/lib/python3.9/site-packages (from nbformat>=4.2.0->ipywidgets<9,>=7.6.0->ipyleaflet) (4.11.1)\n",
      "Requirement already satisfied: fastjsonschema in /home/marius/anaconda3/lib/python3.9/site-packages (from nbformat>=4.2.0->ipywidgets<9,>=7.6.0->ipyleaflet) (2.16.2)\n",
      "Requirement already satisfied: notebook>=4.4.1 in /home/marius/anaconda3/lib/python3.9/site-packages (from widgetsnbextension~=3.5.0->ipywidgets<9,>=7.6.0->ipyleaflet) (6.4.12)\n",
      "Requirement already satisfied: MarkupSafe>=0.23 in /home/marius/anaconda3/lib/python3.9/site-packages (from jinja2->branca>=0.5.0->ipyleaflet) (2.0.1)\n",
      "Requirement already satisfied: parso<0.9.0,>=0.8.0 in /home/marius/anaconda3/lib/python3.9/site-packages (from jedi>=0.16->ipython>=4.0.0->ipywidgets<9,>=7.6.0->ipyleaflet) (0.8.3)\n",
      "Requirement already satisfied: attrs>=17.4.0 in /home/marius/anaconda3/lib/python3.9/site-packages (from jsonschema>=2.6->nbformat>=4.2.0->ipywidgets<9,>=7.6.0->ipyleaflet) (21.4.0)\n",
      "Requirement already satisfied: pyrsistent!=0.17.0,!=0.17.1,!=0.17.2,>=0.14.0 in /home/marius/anaconda3/lib/python3.9/site-packages (from jsonschema>=2.6->nbformat>=4.2.0->ipywidgets<9,>=7.6.0->ipyleaflet) (0.18.0)\n",
      "Requirement already satisfied: entrypoints in /home/marius/anaconda3/lib/python3.9/site-packages (from jupyter-client>=6.1.12->ipykernel>=4.5.1->ipywidgets<9,>=7.6.0->ipyleaflet) (0.4)\n",
      "Requirement already satisfied: python-dateutil>=2.8.2 in /home/marius/anaconda3/lib/python3.9/site-packages (from jupyter-client>=6.1.12->ipykernel>=4.5.1->ipywidgets<9,>=7.6.0->ipyleaflet) (2.8.2)\n",
      "Requirement already satisfied: prometheus-client in /home/marius/anaconda3/lib/python3.9/site-packages (from notebook>=4.4.1->widgetsnbextension~=3.5.0->ipywidgets<9,>=7.6.0->ipyleaflet) (0.14.1)\n",
      "Requirement already satisfied: Send2Trash>=1.8.0 in /home/marius/anaconda3/lib/python3.9/site-packages (from notebook>=4.4.1->widgetsnbextension~=3.5.0->ipywidgets<9,>=7.6.0->ipyleaflet) (1.8.0)\n",
      "Requirement already satisfied: terminado>=0.8.3 in /home/marius/anaconda3/lib/python3.9/site-packages (from notebook>=4.4.1->widgetsnbextension~=3.5.0->ipywidgets<9,>=7.6.0->ipyleaflet) (0.13.1)\n",
      "Requirement already satisfied: nbconvert>=5 in /home/marius/anaconda3/lib/python3.9/site-packages (from notebook>=4.4.1->widgetsnbextension~=3.5.0->ipywidgets<9,>=7.6.0->ipyleaflet) (6.4.4)\n",
      "Requirement already satisfied: argon2-cffi in /home/marius/anaconda3/lib/python3.9/site-packages (from notebook>=4.4.1->widgetsnbextension~=3.5.0->ipywidgets<9,>=7.6.0->ipyleaflet) (21.3.0)\n",
      "Requirement already satisfied: ptyprocess>=0.5 in /home/marius/anaconda3/lib/python3.9/site-packages (from pexpect>4.3->ipython>=4.0.0->ipywidgets<9,>=7.6.0->ipyleaflet) (0.7.0)\n",
      "Requirement already satisfied: wcwidth in /home/marius/anaconda3/lib/python3.9/site-packages (from prompt-toolkit!=3.0.0,!=3.0.1,<3.1.0,>=2.0.0->ipython>=4.0.0->ipywidgets<9,>=7.6.0->ipyleaflet) (0.2.5)\n",
      "Requirement already satisfied: pyparsing!=3.0.5,>=2.0.2 in /home/marius/anaconda3/lib/python3.9/site-packages (from packaging->ipykernel>=4.5.1->ipywidgets<9,>=7.6.0->ipyleaflet) (3.0.9)\n",
      "Requirement already satisfied: bleach in /home/marius/anaconda3/lib/python3.9/site-packages (from nbconvert>=5->notebook>=4.4.1->widgetsnbextension~=3.5.0->ipywidgets<9,>=7.6.0->ipyleaflet) (4.1.0)\n",
      "Requirement already satisfied: defusedxml in /home/marius/anaconda3/lib/python3.9/site-packages (from nbconvert>=5->notebook>=4.4.1->widgetsnbextension~=3.5.0->ipywidgets<9,>=7.6.0->ipyleaflet) (0.7.1)\n",
      "Requirement already satisfied: mistune<2,>=0.8.1 in /home/marius/anaconda3/lib/python3.9/site-packages (from nbconvert>=5->notebook>=4.4.1->widgetsnbextension~=3.5.0->ipywidgets<9,>=7.6.0->ipyleaflet) (0.8.4)\n",
      "Requirement already satisfied: testpath in /home/marius/anaconda3/lib/python3.9/site-packages (from nbconvert>=5->notebook>=4.4.1->widgetsnbextension~=3.5.0->ipywidgets<9,>=7.6.0->ipyleaflet) (0.6.0)\n",
      "Requirement already satisfied: pandocfilters>=1.4.1 in /home/marius/anaconda3/lib/python3.9/site-packages (from nbconvert>=5->notebook>=4.4.1->widgetsnbextension~=3.5.0->ipywidgets<9,>=7.6.0->ipyleaflet) (1.5.0)\n",
      "Requirement already satisfied: jupyterlab-pygments in /home/marius/anaconda3/lib/python3.9/site-packages (from nbconvert>=5->notebook>=4.4.1->widgetsnbextension~=3.5.0->ipywidgets<9,>=7.6.0->ipyleaflet) (0.1.2)\n",
      "Requirement already satisfied: beautifulsoup4 in /home/marius/anaconda3/lib/python3.9/site-packages (from nbconvert>=5->notebook>=4.4.1->widgetsnbextension~=3.5.0->ipywidgets<9,>=7.6.0->ipyleaflet) (4.11.1)\n",
      "Requirement already satisfied: nbclient<0.6.0,>=0.5.0 in /home/marius/anaconda3/lib/python3.9/site-packages (from nbconvert>=5->notebook>=4.4.1->widgetsnbextension~=3.5.0->ipywidgets<9,>=7.6.0->ipyleaflet) (0.5.13)\n",
      "Requirement already satisfied: six>=1.5 in /home/marius/anaconda3/lib/python3.9/site-packages (from python-dateutil>=2.8.2->jupyter-client>=6.1.12->ipykernel>=4.5.1->ipywidgets<9,>=7.6.0->ipyleaflet) (1.16.0)\n"
     ]
    },
    {
     "name": "stdout",
     "output_type": "stream",
     "text": [
      "Requirement already satisfied: argon2-cffi-bindings in /home/marius/anaconda3/lib/python3.9/site-packages (from argon2-cffi->notebook>=4.4.1->widgetsnbextension~=3.5.0->ipywidgets<9,>=7.6.0->ipyleaflet) (21.2.0)\n",
      "Requirement already satisfied: cffi>=1.0.1 in /home/marius/anaconda3/lib/python3.9/site-packages (from argon2-cffi-bindings->argon2-cffi->notebook>=4.4.1->widgetsnbextension~=3.5.0->ipywidgets<9,>=7.6.0->ipyleaflet) (1.15.1)\n",
      "Requirement already satisfied: soupsieve>1.2 in /home/marius/anaconda3/lib/python3.9/site-packages (from beautifulsoup4->nbconvert>=5->notebook>=4.4.1->widgetsnbextension~=3.5.0->ipywidgets<9,>=7.6.0->ipyleaflet) (2.3.1)\n",
      "Requirement already satisfied: webencodings in /home/marius/anaconda3/lib/python3.9/site-packages (from bleach->nbconvert>=5->notebook>=4.4.1->widgetsnbextension~=3.5.0->ipywidgets<9,>=7.6.0->ipyleaflet) (0.5.1)\n",
      "Requirement already satisfied: pycparser in /home/marius/anaconda3/lib/python3.9/site-packages (from cffi>=1.0.1->argon2-cffi-bindings->argon2-cffi->notebook>=4.4.1->widgetsnbextension~=3.5.0->ipywidgets<9,>=7.6.0->ipyleaflet) (2.21)\n"
     ]
    }
   ],
   "source": [
    "!pip install ipyleaflet"
   ]
  },
  {
   "cell_type": "code",
   "execution_count": 2,
=======
   "execution_count": 3,
>>>>>>> 40a8c522268f7a6410f41176699d255c1909bfde
   "id": "44717bc9",
   "metadata": {},
   "outputs": [
    {
     "data": {
      "text/html": [
       "<div>\n",
       "<style scoped>\n",
       "    .dataframe tbody tr th:only-of-type {\n",
       "        vertical-align: middle;\n",
       "    }\n",
       "\n",
       "    .dataframe tbody tr th {\n",
       "        vertical-align: top;\n",
       "    }\n",
       "\n",
       "    .dataframe thead th {\n",
       "        text-align: right;\n",
       "    }\n",
       "</style>\n",
       "<table border=\"1\" class=\"dataframe\">\n",
       "  <thead>\n",
       "    <tr style=\"text-align: right;\">\n",
       "      <th></th>\n",
       "      <th>OBJECTID</th>\n",
       "      <th>Shape_Leng</th>\n",
       "      <th>Shape_Area</th>\n",
       "      <th>zone</th>\n",
       "      <th>LocationID</th>\n",
       "      <th>borough</th>\n",
       "      <th>geometry</th>\n",
       "    </tr>\n",
       "  </thead>\n",
       "  <tbody>\n",
       "    <tr>\n",
       "      <th>0</th>\n",
       "      <td>1</td>\n",
       "      <td>0.116357</td>\n",
       "      <td>0.000782</td>\n",
       "      <td>Newark Airport</td>\n",
       "      <td>1</td>\n",
       "      <td>EWR</td>\n",
       "      <td>POLYGON ((933100.918 192536.086, 933091.011 19...</td>\n",
       "    </tr>\n",
       "    <tr>\n",
       "      <th>1</th>\n",
       "      <td>2</td>\n",
       "      <td>0.433470</td>\n",
       "      <td>0.004866</td>\n",
       "      <td>Jamaica Bay</td>\n",
       "      <td>2</td>\n",
       "      <td>Queens</td>\n",
       "      <td>MULTIPOLYGON (((1033269.244 172126.008, 103343...</td>\n",
       "    </tr>\n",
       "    <tr>\n",
       "      <th>2</th>\n",
       "      <td>3</td>\n",
       "      <td>0.084341</td>\n",
       "      <td>0.000314</td>\n",
       "      <td>Allerton/Pelham Gardens</td>\n",
       "      <td>3</td>\n",
       "      <td>Bronx</td>\n",
       "      <td>POLYGON ((1026308.770 256767.698, 1026495.593 ...</td>\n",
       "    </tr>\n",
       "    <tr>\n",
       "      <th>3</th>\n",
       "      <td>4</td>\n",
       "      <td>0.043567</td>\n",
       "      <td>0.000112</td>\n",
       "      <td>Alphabet City</td>\n",
       "      <td>4</td>\n",
       "      <td>Manhattan</td>\n",
       "      <td>POLYGON ((992073.467 203714.076, 992068.667 20...</td>\n",
       "    </tr>\n",
       "    <tr>\n",
       "      <th>4</th>\n",
       "      <td>5</td>\n",
       "      <td>0.092146</td>\n",
       "      <td>0.000498</td>\n",
       "      <td>Arden Heights</td>\n",
       "      <td>5</td>\n",
       "      <td>Staten Island</td>\n",
       "      <td>POLYGON ((935843.310 144283.336, 936046.565 14...</td>\n",
       "    </tr>\n",
       "    <tr>\n",
       "      <th>...</th>\n",
       "      <td>...</td>\n",
       "      <td>...</td>\n",
       "      <td>...</td>\n",
       "      <td>...</td>\n",
       "      <td>...</td>\n",
       "      <td>...</td>\n",
       "      <td>...</td>\n",
       "    </tr>\n",
       "    <tr>\n",
       "      <th>258</th>\n",
       "      <td>259</td>\n",
       "      <td>0.126750</td>\n",
       "      <td>0.000395</td>\n",
       "      <td>Woodlawn/Wakefield</td>\n",
       "      <td>259</td>\n",
       "      <td>Bronx</td>\n",
       "      <td>POLYGON ((1025414.782 270986.139, 1025138.624 ...</td>\n",
       "    </tr>\n",
       "    <tr>\n",
       "      <th>259</th>\n",
       "      <td>260</td>\n",
       "      <td>0.133514</td>\n",
       "      <td>0.000422</td>\n",
       "      <td>Woodside</td>\n",
       "      <td>260</td>\n",
       "      <td>Queens</td>\n",
       "      <td>POLYGON ((1011466.966 216463.005, 1011545.889 ...</td>\n",
       "    </tr>\n",
       "    <tr>\n",
       "      <th>260</th>\n",
       "      <td>261</td>\n",
       "      <td>0.027120</td>\n",
       "      <td>0.000034</td>\n",
       "      <td>World Trade Center</td>\n",
       "      <td>261</td>\n",
       "      <td>Manhattan</td>\n",
       "      <td>POLYGON ((980555.204 196138.486, 980570.792 19...</td>\n",
       "    </tr>\n",
       "    <tr>\n",
       "      <th>261</th>\n",
       "      <td>262</td>\n",
       "      <td>0.049064</td>\n",
       "      <td>0.000122</td>\n",
       "      <td>Yorkville East</td>\n",
       "      <td>262</td>\n",
       "      <td>Manhattan</td>\n",
       "      <td>MULTIPOLYGON (((999804.795 224498.527, 999824....</td>\n",
       "    </tr>\n",
       "    <tr>\n",
       "      <th>262</th>\n",
       "      <td>263</td>\n",
       "      <td>0.037017</td>\n",
       "      <td>0.000066</td>\n",
       "      <td>Yorkville West</td>\n",
       "      <td>263</td>\n",
       "      <td>Manhattan</td>\n",
       "      <td>POLYGON ((997493.323 220912.386, 997355.264 22...</td>\n",
       "    </tr>\n",
       "  </tbody>\n",
       "</table>\n",
       "<p>263 rows × 7 columns</p>\n",
       "</div>"
      ],
      "text/plain": [
       "     OBJECTID  Shape_Leng  Shape_Area                     zone  LocationID  \\\n",
       "0           1    0.116357    0.000782           Newark Airport           1   \n",
       "1           2    0.433470    0.004866              Jamaica Bay           2   \n",
       "2           3    0.084341    0.000314  Allerton/Pelham Gardens           3   \n",
       "3           4    0.043567    0.000112            Alphabet City           4   \n",
       "4           5    0.092146    0.000498            Arden Heights           5   \n",
       "..        ...         ...         ...                      ...         ...   \n",
       "258       259    0.126750    0.000395       Woodlawn/Wakefield         259   \n",
       "259       260    0.133514    0.000422                 Woodside         260   \n",
       "260       261    0.027120    0.000034       World Trade Center         261   \n",
       "261       262    0.049064    0.000122           Yorkville East         262   \n",
       "262       263    0.037017    0.000066           Yorkville West         263   \n",
       "\n",
       "           borough                                           geometry  \n",
       "0              EWR  POLYGON ((933100.918 192536.086, 933091.011 19...  \n",
       "1           Queens  MULTIPOLYGON (((1033269.244 172126.008, 103343...  \n",
       "2            Bronx  POLYGON ((1026308.770 256767.698, 1026495.593 ...  \n",
       "3        Manhattan  POLYGON ((992073.467 203714.076, 992068.667 20...  \n",
       "4    Staten Island  POLYGON ((935843.310 144283.336, 936046.565 14...  \n",
       "..             ...                                                ...  \n",
       "258          Bronx  POLYGON ((1025414.782 270986.139, 1025138.624 ...  \n",
       "259         Queens  POLYGON ((1011466.966 216463.005, 1011545.889 ...  \n",
       "260      Manhattan  POLYGON ((980555.204 196138.486, 980570.792 19...  \n",
       "261      Manhattan  MULTIPOLYGON (((999804.795 224498.527, 999824....  \n",
       "262      Manhattan  POLYGON ((997493.323 220912.386, 997355.264 22...  \n",
       "\n",
       "[263 rows x 7 columns]"
      ]
     },
<<<<<<< HEAD
     "execution_count": 2,
=======
     "execution_count": 3,
>>>>>>> 40a8c522268f7a6410f41176699d255c1909bfde
     "metadata": {},
     "output_type": "execute_result"
    }
   ],
   "source": [
    "# read the parquet file\n",
<<<<<<< HEAD
    "import geopandas as gpd\n",
    "\n",
    "df_yel= spark.read.parquet(\"/home/marius/Téléchargements/yellow_tripdata_2019-03.parquet\")\n",
    "df_fhv= spark.read.parquet(\"/home/marius/Téléchargements/fhv_tripdata_2019-03.parquet\")\n",
=======
    "df_yel= spark.read.parquet(\"/home/edouard/Documents/Big Data/yellow_tripdata_2019-03.parquet\")\n",
    "df_fhv= spark.read.parquet(\"/home/edouard/Documents/Big Data/fhv_tripdata_2019-03.parquet\")\n",
>>>>>>> 40a8c522268f7a6410f41176699d255c1909bfde
    "\n",
    "df_zones = gpd.read_file(\"/home/marius/Téléchargements/taxi_zones/taxi_zones.shp\")\n",
    "\n",
    "\n",
    "df_yel.columns\n",
    "#df_fhv.columns\n",
    "#df_yel.show()\n",
    "#df_fhv.show()\n",
    "\n",
    "df_zones"
   ]
  },
  {
   "cell_type": "markdown",
   "id": "fed25f70",
   "metadata": {},
   "source": [
    "1. What is the number of partitions of the dataframe?"
   ]
  },
  {
   "cell_type": "code",
<<<<<<< HEAD
   "execution_count": 3,
   "id": "1eae547d",
=======
   "execution_count": 4,
   "id": "5a341da4",
>>>>>>> 40a8c522268f7a6410f41176699d255c1909bfde
   "metadata": {},
   "outputs": [
    {
     "data": {
      "text/plain": [
       "8"
      ]
     },
<<<<<<< HEAD
     "execution_count": 3,
=======
     "execution_count": 4,
>>>>>>> 40a8c522268f7a6410f41176699d255c1909bfde
     "metadata": {},
     "output_type": "execute_result"
    }
   ],
   "source": [
    "num_partitions = df_yel.rdd.getNumPartitions()\n",
    "num_partitions\n",
    "#d = sc.parallelize(df_yel, 4)"
   ]
  },
  {
   "cell_type": "code",
<<<<<<< HEAD
   "execution_count": 4,
=======
   "execution_count": 5,
>>>>>>> 40a8c522268f7a6410f41176699d255c1909bfde
   "id": "98b31d57",
   "metadata": {},
   "outputs": [
    {
     "data": {
      "text/plain": [
       "DataFrame[VendorID: bigint, tpep_pickup_datetime: timestamp_ntz, tpep_dropoff_datetime: timestamp_ntz, passenger_count: double, trip_distance: double, RatecodeID: double, store_and_fwd_flag: string, PULocationID: bigint, DOLocationID: bigint, payment_type: bigint, fare_amount: double, extra: double, mta_tax: double, tip_amount: double, tolls_amount: double, improvement_surcharge: double, total_amount: double, congestion_surcharge: double, airport_fee: int]"
      ]
     },
<<<<<<< HEAD
     "execution_count": 4,
=======
     "execution_count": 5,
>>>>>>> 40a8c522268f7a6410f41176699d255c1909bfde
     "metadata": {},
     "output_type": "execute_result"
    }
   ],
   "source": [
    "# Dropping na values \n",
    "df_yel.na.drop()"
   ]
  },
  {
   "cell_type": "code",
   "execution_count": 6,
   "id": "16a34b5d",
   "metadata": {},
   "outputs": [
    {
     "name": "stdout",
     "output_type": "stream",
     "text": [
      "OrderedDict([('OBJECTID', 1), ('Shape_Leng', 0.116357453189), ('Shape_Area', 0.0007823067885), ('zone', 'Newark Airport'), ('LocationID', 1), ('borough', 'EWR')])\n",
      "OrderedDict([('OBJECTID', 2), ('Shape_Leng', 0.43346966679), ('Shape_Area', 0.00486634037837), ('zone', 'Jamaica Bay'), ('LocationID', 2), ('borough', 'Queens')])\n",
      "OrderedDict([('OBJECTID', 3), ('Shape_Leng', 0.0843411059012), ('Shape_Area', 0.000314414156821), ('zone', 'Allerton/Pelham Gardens'), ('LocationID', 3), ('borough', 'Bronx')])\n",
      "OrderedDict([('OBJECTID', 4), ('Shape_Leng', 0.0435665270921), ('Shape_Area', 0.000111871946192), ('zone', 'Alphabet City'), ('LocationID', 4), ('borough', 'Manhattan')])\n",
      "OrderedDict([('OBJECTID', 5), ('Shape_Leng', 0.0921464898574), ('Shape_Area', 0.000497957489363), ('zone', 'Arden Heights'), ('LocationID', 5), ('borough', 'Staten Island')])\n",
      "OrderedDict([('OBJECTID', 6), ('Shape_Leng', 0.150490542523), ('Shape_Area', 0.000606460984581), ('zone', 'Arrochar/Fort Wadsworth'), ('LocationID', 6), ('borough', 'Staten Island')])\n",
      "OrderedDict([('OBJECTID', 7), ('Shape_Leng', 0.107417171123), ('Shape_Area', 0.000389787989274), ('zone', 'Astoria'), ('LocationID', 7), ('borough', 'Queens')])\n",
      "OrderedDict([('OBJECTID', 8), ('Shape_Leng', 0.0275906911574), ('Shape_Area', 2.6587716279e-05), ('zone', 'Astoria Park'), ('LocationID', 8), ('borough', 'Queens')])\n",
      "OrderedDict([('OBJECTID', 9), ('Shape_Leng', 0.0997840924705), ('Shape_Area', 0.000338443803197), ('zone', 'Auburndale'), ('LocationID', 9), ('borough', 'Queens')])\n",
      "OrderedDict([('OBJECTID', 10), ('Shape_Leng', 0.0998394794152), ('Shape_Area', 0.000435823818081), ('zone', 'Baisley Park'), ('LocationID', 10), ('borough', 'Queens')])\n",
      "OrderedDict([('OBJECTID', 11), ('Shape_Leng', 0.0792110389596), ('Shape_Area', 0.00026452053504), ('zone', 'Bath Beach'), ('LocationID', 11), ('borough', 'Brooklyn')])\n",
      "OrderedDict([('OBJECTID', 12), ('Shape_Leng', 0.0366613013579), ('Shape_Area', 4.15116236727e-05), ('zone', 'Battery Park'), ('LocationID', 12), ('borough', 'Manhattan')])\n",
      "OrderedDict([('OBJECTID', 13), ('Shape_Leng', 0.0502813228631), ('Shape_Area', 0.000149358592917), ('zone', 'Battery Park City'), ('LocationID', 13), ('borough', 'Manhattan')])\n",
      "OrderedDict([('OBJECTID', 14), ('Shape_Leng', 0.175213698053), ('Shape_Area', 0.00138177826442), ('zone', 'Bay Ridge'), ('LocationID', 14), ('borough', 'Brooklyn')])\n",
      "OrderedDict([('OBJECTID', 15), ('Shape_Leng', 0.14433622262), ('Shape_Area', 0.000925219395547), ('zone', 'Bay Terrace/Fort Totten'), ('LocationID', 15), ('borough', 'Queens')])\n",
      "OrderedDict([('OBJECTID', 16), ('Shape_Leng', 0.141291873771), ('Shape_Area', 0.000871889446182), ('zone', 'Bayside'), ('LocationID', 16), ('borough', 'Queens')])\n",
      "OrderedDict([('OBJECTID', 17), ('Shape_Leng', 0.093522632948), ('Shape_Area', 0.000322957654799), ('zone', 'Bedford'), ('LocationID', 17), ('borough', 'Brooklyn')])\n",
      "OrderedDict([('OBJECTID', 18), ('Shape_Leng', 0.0697995498569), ('Shape_Area', 0.000148850163948), ('zone', 'Bedford Park'), ('LocationID', 18), ('borough', 'Bronx')])\n",
      "OrderedDict([('OBJECTID', 19), ('Shape_Leng', 0.101824875452), ('Shape_Area', 0.000546661094782), ('zone', 'Bellerose'), ('LocationID', 19), ('borough', 'Queens')])\n",
      "OrderedDict([('OBJECTID', 20), ('Shape_Leng', 0.0514401924362), ('Shape_Area', 0.000134512633032), ('zone', 'Belmont'), ('LocationID', 20), ('borough', 'Bronx')])\n",
      "OrderedDict([('OBJECTID', 21), ('Shape_Leng', 0.115973569062), ('Shape_Area', 0.000380251345507), ('zone', 'Bensonhurst East'), ('LocationID', 21), ('borough', 'Brooklyn')])\n",
      "OrderedDict([('OBJECTID', 22), ('Shape_Leng', 0.126170229196), ('Shape_Area', 0.000472062684608), ('zone', 'Bensonhurst West'), ('LocationID', 22), ('borough', 'Brooklyn')])\n",
      "OrderedDict([('OBJECTID', 23), ('Shape_Leng', 0.290556028962), ('Shape_Area', 0.00219556576201), ('zone', 'Bloomfield/Emerson Hill'), ('LocationID', 23), ('borough', 'Staten Island')])\n",
      "OrderedDict([('OBJECTID', 24), ('Shape_Leng', 0.0469999619287), ('Shape_Area', 6.07235737749e-05), ('zone', 'Bloomingdale'), ('LocationID', 24), ('borough', 'Manhattan')])\n",
      "OrderedDict([('OBJECTID', 25), ('Shape_Leng', 0.0471458199319), ('Shape_Area', 0.000124168267356), ('zone', 'Boerum Hill'), ('LocationID', 25), ('borough', 'Brooklyn')])\n",
      "OrderedDict([('OBJECTID', 26), ('Shape_Leng', 0.12354780707), ('Shape_Area', 0.000534039927626), ('zone', 'Borough Park'), ('LocationID', 26), ('borough', 'Brooklyn')])\n",
      "OrderedDict([('OBJECTID', 27), ('Shape_Leng', 0.202508808518), ('Shape_Area', 0.00134088762746), ('zone', 'Breezy Point/Fort Tilden/Riis Beach'), ('LocationID', 27), ('borough', 'Queens')])\n",
      "OrderedDict([('OBJECTID', 28), ('Shape_Leng', 0.097960782214), ('Shape_Area', 0.000291203927662), ('zone', 'Briarwood/Jamaica Hills'), ('LocationID', 28), ('borough', 'Queens')])\n",
      "OrderedDict([('OBJECTID', 29), ('Shape_Leng', 0.0714083127733), ('Shape_Area', 0.000201673837402), ('zone', 'Brighton Beach'), ('LocationID', 29), ('borough', 'Brooklyn')])\n",
      "OrderedDict([('OBJECTID', 30), ('Shape_Leng', 0.0945097669793), ('Shape_Area', 0.000145862107626), ('zone', 'Broad Channel'), ('LocationID', 30), ('borough', 'Queens')])\n",
      "OrderedDict([('OBJECTID', 31), ('Shape_Leng', 0.0964245666516), ('Shape_Area', 0.000333975927329), ('zone', 'Bronx Park'), ('LocationID', 31), ('borough', 'Bronx')])\n",
      "OrderedDict([('OBJECTID', 32), ('Shape_Leng', 0.05426721601), ('Shape_Area', 0.000150879171971), ('zone', 'Bronxdale'), ('LocationID', 32), ('borough', 'Bronx')])\n",
      "OrderedDict([('OBJECTID', 33), ('Shape_Leng', 0.0532702931967), ('Shape_Area', 0.000147416802448), ('zone', 'Brooklyn Heights'), ('LocationID', 33), ('borough', 'Brooklyn')])\n",
      "OrderedDict([('OBJECTID', 34), ('Shape_Leng', 0.0657059323545), ('Shape_Area', 0.000173946146651), ('zone', 'Brooklyn Navy Yard'), ('LocationID', 34), ('borough', 'Brooklyn')])\n",
      "OrderedDict([('OBJECTID', 35), ('Shape_Leng', 0.085787918592), ('Shape_Area', 0.000323825195932), ('zone', 'Brownsville'), ('LocationID', 35), ('borough', 'Brooklyn')])\n",
      "OrderedDict([('OBJECTID', 36), ('Shape_Leng', 0.0870507867063), ('Shape_Area', 0.000247666139269), ('zone', 'Bushwick North'), ('LocationID', 36), ('borough', 'Brooklyn')])\n",
      "OrderedDict([('OBJECTID', 37), ('Shape_Leng', 0.142810040466), ('Shape_Area', 0.000452062644782), ('zone', 'Bushwick South'), ('LocationID', 37), ('borough', 'Brooklyn')])\n",
      "OrderedDict([('OBJECTID', 38), ('Shape_Leng', 0.0832175685234), ('Shape_Area', 0.000327392684821), ('zone', 'Cambria Heights'), ('LocationID', 38), ('borough', 'Queens')])\n",
      "OrderedDict([('OBJECTID', 39), ('Shape_Leng', 0.132369620757), ('Shape_Area', 0.00090028293862), ('zone', 'Canarsie'), ('LocationID', 39), ('borough', 'Brooklyn')])\n",
      "OrderedDict([('OBJECTID', 40), ('Shape_Leng', 0.0518506648762), ('Shape_Area', 0.000108949211644), ('zone', 'Carroll Gardens'), ('LocationID', 40), ('borough', 'Brooklyn')])\n",
      "OrderedDict([('OBJECTID', 41), ('Shape_Leng', 0.052793109453), ('Shape_Area', 0.000143093037737), ('zone', 'Central Harlem'), ('LocationID', 41), ('borough', 'Manhattan')])\n",
      "OrderedDict([('OBJECTID', 42), ('Shape_Leng', 0.0927092274616), ('Shape_Area', 0.000263896952605), ('zone', 'Central Harlem North'), ('LocationID', 42), ('borough', 'Manhattan')])\n",
      "OrderedDict([('OBJECTID', 43), ('Shape_Leng', 0.0997386183576), ('Shape_Area', 0.000379662912054), ('zone', 'Central Park'), ('LocationID', 43), ('borough', 'Manhattan')])\n",
      "OrderedDict([('OBJECTID', 44), ('Shape_Leng', 0.235688967594), ('Shape_Area', 0.00194465649192), ('zone', 'Charleston/Tottenville'), ('LocationID', 44), ('borough', 'Staten Island')])\n",
      "OrderedDict([('OBJECTID', 45), ('Shape_Leng', 0.0459068626235), ('Shape_Area', 9.13594688556e-05), ('zone', 'Chinatown'), ('LocationID', 45), ('borough', 'Manhattan')])\n",
      "OrderedDict([('OBJECTID', 46), ('Shape_Leng', 0.134475429879), ('Shape_Area', 0.000926391677672), ('zone', 'City Island'), ('LocationID', 46), ('borough', 'Bronx')])\n",
      "OrderedDict([('OBJECTID', 47), ('Shape_Leng', 0.0898275563294), ('Shape_Area', 0.000163198117339), ('zone', 'Claremont/Bathgate'), ('LocationID', 47), ('borough', 'Bronx')])\n",
      "OrderedDict([('OBJECTID', 48), ('Shape_Leng', 0.0437467441431), ('Shape_Area', 9.42538425377e-05), ('zone', 'Clinton East'), ('LocationID', 48), ('borough', 'Manhattan')])\n",
      "OrderedDict([('OBJECTID', 49), ('Shape_Leng', 0.0752900183427), ('Shape_Area', 0.000203185525471), ('zone', 'Clinton Hill'), ('LocationID', 49), ('borough', 'Brooklyn')])\n",
      "OrderedDict([('OBJECTID', 50), ('Shape_Leng', 0.0557479867536), ('Shape_Area', 0.000173249283326), ('zone', 'Clinton West'), ('LocationID', 50), ('borough', 'Manhattan')])\n",
      "OrderedDict([('OBJECTID', 51), ('Shape_Leng', 0.0953613442277), ('Shape_Area', 0.000395756553505), ('zone', 'Co-Op City'), ('LocationID', 51), ('borough', 'Bronx')])\n",
      "OrderedDict([('OBJECTID', 52), ('Shape_Leng', 0.0289076710093), ('Shape_Area', 4.52027509603e-05), ('zone', 'Cobble Hill'), ('LocationID', 52), ('borough', 'Brooklyn')])\n",
      "OrderedDict([('OBJECTID', 53), ('Shape_Leng', 0.161500913385), ('Shape_Area', 0.000947530980821), ('zone', 'College Point'), ('LocationID', 53), ('borough', 'Queens')])\n",
      "OrderedDict([('OBJECTID', 54), ('Shape_Leng', 0.0762192448554), ('Shape_Area', 0.000132452130536), ('zone', 'Columbia Street'), ('LocationID', 54), ('borough', 'Brooklyn')])\n",
      "OrderedDict([('OBJECTID', 55), ('Shape_Leng', 0.149956807524), ('Shape_Area', 0.000736274713586), ('zone', 'Coney Island'), ('LocationID', 55), ('borough', 'Brooklyn')])\n",
      "OrderedDict([('OBJECTID', 56), ('Shape_Leng', 0.0568478126677), ('Shape_Area', 0.000180907844436), ('zone', 'Corona'), ('LocationID', 56), ('borough', 'Queens')])\n",
      "OrderedDict([('OBJECTID', 57), ('Shape_Leng', 0.0192705048557), ('Shape_Area', 1.80259807917e-05), ('zone', 'Corona'), ('LocationID', 56), ('borough', 'Queens')])\n",
      "OrderedDict([('OBJECTID', 58), ('Shape_Leng', 0.0598554094851), ('Shape_Area', 0.000204980931361), ('zone', 'Country Club'), ('LocationID', 58), ('borough', 'Bronx')])\n",
      "OrderedDict([('OBJECTID', 59), ('Shape_Leng', 0.0377948070893), ('Shape_Area', 6.28765230648e-05), ('zone', 'Crotona Park'), ('LocationID', 59), ('borough', 'Bronx')])\n",
      "OrderedDict([('OBJECTID', 60), ('Shape_Leng', 0.0786482878226), ('Shape_Area', 0.000161833284912), ('zone', 'Crotona Park East'), ('LocationID', 60), ('borough', 'Bronx')])\n",
      "OrderedDict([('OBJECTID', 61), ('Shape_Leng', 0.117310808097), ('Shape_Area', 0.000510772092295), ('zone', 'Crown Heights North'), ('LocationID', 61), ('borough', 'Brooklyn')])\n",
      "OrderedDict([('OBJECTID', 62), ('Shape_Leng', 0.0822593359838), ('Shape_Area', 0.000158238169004), ('zone', 'Crown Heights South'), ('LocationID', 62), ('borough', 'Brooklyn')])\n",
      "OrderedDict([('OBJECTID', 63), ('Shape_Leng', 0.119100721883), ('Shape_Area', 0.000353190910142), ('zone', 'Cypress Hills'), ('LocationID', 63), ('borough', 'Brooklyn')])\n",
      "OrderedDict([('OBJECTID', 64), ('Shape_Leng', 0.18445188474), ('Shape_Area', 0.00105790284614), ('zone', 'Douglaston'), ('LocationID', 64), ('borough', 'Queens')])\n",
      "OrderedDict([('OBJECTID', 65), ('Shape_Leng', 0.0446070683658), ('Shape_Area', 8.1803882541e-05), ('zone', 'Downtown Brooklyn/MetroTech'), ('LocationID', 65), ('borough', 'Brooklyn')])\n",
      "OrderedDict([('OBJECTID', 66), ('Shape_Leng', 0.0546334593634), ('Shape_Area', 0.000108378855948), ('zone', 'DUMBO/Vinegar Hill'), ('LocationID', 66), ('borough', 'Brooklyn')])\n",
      "OrderedDict([('OBJECTID', 67), ('Shape_Leng', 0.0997470781551), ('Shape_Area', 0.000394282272487), ('zone', 'Dyker Heights'), ('LocationID', 67), ('borough', 'Brooklyn')])\n",
      "OrderedDict([('OBJECTID', 68), ('Shape_Leng', 0.0493373795569), ('Shape_Area', 0.000111073378655), ('zone', 'East Chelsea'), ('LocationID', 68), ('borough', 'Manhattan')])\n",
      "OrderedDict([('OBJECTID', 69), ('Shape_Leng', 0.0789896450483), ('Shape_Area', 0.00019905160381), ('zone', 'East Concourse/Concourse Village'), ('LocationID', 69), ('borough', 'Bronx')])\n",
      "OrderedDict([('OBJECTID', 70), ('Shape_Leng', 0.0638403183367), ('Shape_Area', 0.000195458476728), ('zone', 'East Elmhurst'), ('LocationID', 70), ('borough', 'Queens')])\n",
      "OrderedDict([('OBJECTID', 71), ('Shape_Leng', 0.0931694551828), ('Shape_Area', 0.000382572587364), ('zone', 'East Flatbush/Farragut'), ('LocationID', 71), ('borough', 'Brooklyn')])\n",
      "OrderedDict([('OBJECTID', 72), ('Shape_Leng', 0.0952020695166), ('Shape_Area', 0.000323532461947), ('zone', 'East Flatbush/Remsen Village'), ('LocationID', 72), ('borough', 'Brooklyn')])\n",
      "OrderedDict([('OBJECTID', 73), ('Shape_Leng', 0.0853020209129), ('Shape_Area', 0.000291799754395), ('zone', 'East Flushing'), ('LocationID', 73), ('borough', 'Queens')])\n",
      "OrderedDict([('OBJECTID', 74), ('Shape_Leng', 0.11029093625), ('Shape_Area', 0.000295038418204), ('zone', 'East Harlem North'), ('LocationID', 74), ('borough', 'Manhattan')])\n",
      "OrderedDict([('OBJECTID', 75), ('Shape_Leng', 0.0876638997685), ('Shape_Area', 0.00024056392715), ('zone', 'East Harlem South'), ('LocationID', 75), ('borough', 'Manhattan')])\n",
      "OrderedDict([('OBJECTID', 76), ('Shape_Leng', 0.241203016269), ('Shape_Area', 0.00126660143241), ('zone', 'East New York'), ('LocationID', 76), ('borough', 'Brooklyn')])\n",
      "OrderedDict([('OBJECTID', 77), ('Shape_Leng', 0.075461081444), ('Shape_Area', 0.000191917981315), ('zone', 'East New York/Pennsylvania Avenue'), ('LocationID', 77), ('borough', 'Brooklyn')])\n",
      "OrderedDict([('OBJECTID', 78), ('Shape_Leng', 0.0935944495806), ('Shape_Area', 0.000191114419551), ('zone', 'East Tremont'), ('LocationID', 78), ('borough', 'Bronx')])\n",
      "OrderedDict([('OBJECTID', 79), ('Shape_Leng', 0.0426249113144), ('Shape_Area', 0.000107893068218), ('zone', 'East Village'), ('LocationID', 79), ('borough', 'Manhattan')])\n",
      "OrderedDict([('OBJECTID', 80), ('Shape_Leng', 0.117212621448), ('Shape_Area', 0.00040732245622), ('zone', 'East Williamsburg'), ('LocationID', 80), ('borough', 'Brooklyn')])\n",
      "OrderedDict([('OBJECTID', 81), ('Shape_Leng', 0.197592771731), ('Shape_Area', 0.00039956655019), ('zone', 'Eastchester'), ('LocationID', 81), ('borough', 'Bronx')])\n",
      "OrderedDict([('OBJECTID', 82), ('Shape_Leng', 0.119875649697), ('Shape_Area', 0.000323601079994), ('zone', 'Elmhurst'), ('LocationID', 82), ('borough', 'Queens')])\n",
      "OrderedDict([('OBJECTID', 83), ('Shape_Leng', 0.105984933269), ('Shape_Area', 0.000217463718718), ('zone', 'Elmhurst/Maspeth'), ('LocationID', 83), ('borough', 'Queens')])\n",
      "OrderedDict([('OBJECTID', 84), ('Shape_Leng', 0.233623987032), ('Shape_Area', 0.00207375572052), ('zone', \"Eltingville/Annadale/Prince's Bay\"), ('LocationID', 84), ('borough', 'Staten Island')])\n",
      "OrderedDict([('OBJECTID', 85), ('Shape_Leng', 0.0574751473562), ('Shape_Area', 0.000143637804933), ('zone', 'Erasmus'), ('LocationID', 85), ('borough', 'Brooklyn')])\n",
      "OrderedDict([('OBJECTID', 86), ('Shape_Leng', 0.134245282582), ('Shape_Area', 0.000623278815249), ('zone', 'Far Rockaway'), ('LocationID', 86), ('borough', 'Queens')])\n",
      "OrderedDict([('OBJECTID', 87), ('Shape_Leng', 0.0369015496117), ('Shape_Area', 6.72050210692e-05), ('zone', 'Financial District North'), ('LocationID', 87), ('borough', 'Manhattan')])\n",
      "OrderedDict([('OBJECTID', 88), ('Shape_Leng', 0.0352046035327), ('Shape_Area', 5.72999455414e-05), ('zone', 'Financial District South'), ('LocationID', 88), ('borough', 'Manhattan')])\n",
      "OrderedDict([('OBJECTID', 89), ('Shape_Leng', 0.122794569553), ('Shape_Area', 0.000447548142373), ('zone', 'Flatbush/Ditmas Park'), ('LocationID', 89), ('borough', 'Brooklyn')])\n",
      "OrderedDict([('OBJECTID', 90), ('Shape_Leng', 0.0307591620819), ('Shape_Area', 5.53132476305e-05), ('zone', 'Flatiron'), ('LocationID', 90), ('borough', 'Manhattan')])\n",
      "OrderedDict([('OBJECTID', 91), ('Shape_Leng', 0.124996624585), ('Shape_Area', 0.000537330013243), ('zone', 'Flatlands'), ('LocationID', 91), ('borough', 'Brooklyn')])\n",
      "OrderedDict([('OBJECTID', 92), ('Shape_Leng', 0.117830066799), ('Shape_Area', 0.000374946617289), ('zone', 'Flushing'), ('LocationID', 92), ('borough', 'Queens')])\n",
      "OrderedDict([('OBJECTID', 93), ('Shape_Leng', 0.170998027597), ('Shape_Area', 0.000594278183978), ('zone', 'Flushing Meadows-Corona Park'), ('LocationID', 93), ('borough', 'Queens')])\n",
      "OrderedDict([('OBJECTID', 94), ('Shape_Leng', 0.0498326083147), ('Shape_Area', 6.25819407393e-05), ('zone', 'Fordham South'), ('LocationID', 94), ('borough', 'Bronx')])\n",
      "OrderedDict([('OBJECTID', 95), ('Shape_Leng', 0.113629605476), ('Shape_Area', 0.00057277033803), ('zone', 'Forest Hills'), ('LocationID', 95), ('borough', 'Queens')])\n",
      "OrderedDict([('OBJECTID', 96), ('Shape_Leng', 0.185180248095), ('Shape_Area', 0.000547566253402), ('zone', 'Forest Park/Highland Park'), ('LocationID', 96), ('borough', 'Queens')])\n",
      "OrderedDict([('OBJECTID', 97), ('Shape_Leng', 0.0624760147423), ('Shape_Area', 0.000163303970435), ('zone', 'Fort Greene'), ('LocationID', 97), ('borough', 'Brooklyn')])\n",
      "OrderedDict([('OBJECTID', 98), ('Shape_Leng', 0.121661018278), ('Shape_Area', 0.000485773020954), ('zone', 'Fresh Meadows'), ('LocationID', 98), ('borough', 'Queens')])\n",
      "OrderedDict([('OBJECTID', 99), ('Shape_Leng', 0.1833714893), ('Shape_Area', 0.00121016463877), ('zone', 'Freshkills Park'), ('LocationID', 99), ('borough', 'Staten Island')])\n",
      "OrderedDict([('OBJECTID', 100), ('Shape_Leng', 0.0248131090342), ('Shape_Area', 3.74700210291e-05), ('zone', 'Garment District'), ('LocationID', 100), ('borough', 'Manhattan')])\n",
      "OrderedDict([('OBJECTID', 101), ('Shape_Leng', 0.101709836277), ('Shape_Area', 0.000452342528877), ('zone', 'Glen Oaks'), ('LocationID', 101), ('borough', 'Queens')])\n",
      "OrderedDict([('OBJECTID', 102), ('Shape_Leng', 0.136900484646), ('Shape_Area', 0.000296595466345), ('zone', 'Glendale'), ('LocationID', 102), ('borough', 'Queens')])\n",
      "OrderedDict([('OBJECTID', 103), ('Shape_Leng', 0.0143055167343), ('Shape_Area', 6.33056361314e-06), ('zone', \"Governor's Island/Ellis Island/Liberty Island\"), ('LocationID', 103), ('borough', 'Manhattan')])\n",
      "OrderedDict([('OBJECTID', 104), ('Shape_Leng', 0.0212208330928), ('Shape_Area', 1.19205339715e-05), ('zone', \"Governor's Island/Ellis Island/Liberty Island\"), ('LocationID', 103), ('borough', 'Manhattan')])\n",
      "OrderedDict([('OBJECTID', 105), ('Shape_Leng', 0.0774253398314), ('Shape_Area', 0.000368636392805), ('zone', \"Governor's Island/Ellis Island/Liberty Island\"), ('LocationID', 103), ('borough', 'Manhattan')])\n",
      "OrderedDict([('OBJECTID', 106), ('Shape_Leng', 0.0492110119798), ('Shape_Area', 0.000113616826567), ('zone', 'Gowanus'), ('LocationID', 106), ('borough', 'Brooklyn')])\n",
      "OrderedDict([('OBJECTID', 107), ('Shape_Leng', 0.0380413645908), ('Shape_Area', 7.46112192675e-05), ('zone', 'Gramercy'), ('LocationID', 107), ('borough', 'Manhattan')])\n",
      "OrderedDict([('OBJECTID', 108), ('Shape_Leng', 0.11117141227), ('Shape_Area', 0.000352866009465), ('zone', 'Gravesend'), ('LocationID', 108), ('borough', 'Brooklyn')])\n",
      "OrderedDict([('OBJECTID', 109), ('Shape_Leng', 0.178267819599), ('Shape_Area', 0.00116960076185), ('zone', 'Great Kills'), ('LocationID', 109), ('borough', 'Staten Island')])\n",
      "OrderedDict([('OBJECTID', 110), ('Shape_Leng', 0.103946292913), ('Shape_Area', 0.000525745098785), ('zone', 'Great Kills Park'), ('LocationID', 110), ('borough', 'Staten Island')])\n",
      "OrderedDict([('OBJECTID', 111), ('Shape_Leng', 0.0599308800658), ('Shape_Area', 0.000208683276503), ('zone', 'Green-Wood Cemetery'), ('LocationID', 111), ('borough', 'Brooklyn')])\n",
      "OrderedDict([('OBJECTID', 112), ('Shape_Leng', 0.107267875765), ('Shape_Area', 0.000462068671429), ('zone', 'Greenpoint'), ('LocationID', 112), ('borough', 'Brooklyn')])\n",
      "OrderedDict([('OBJECTID', 113), ('Shape_Leng', 0.032745350566), ('Shape_Area', 5.79634566998e-05), ('zone', 'Greenwich Village North'), ('LocationID', 113), ('borough', 'Manhattan')])\n",
      "OrderedDict([('OBJECTID', 114), ('Shape_Leng', 0.0317270347711), ('Shape_Area', 4.70207704945e-05), ('zone', 'Greenwich Village South'), ('LocationID', 114), ('borough', 'Manhattan')])\n",
      "OrderedDict([('OBJECTID', 115), ('Shape_Leng', 0.116169413964), ('Shape_Area', 0.000373168991958), ('zone', 'Grymes Hill/Clifton'), ('LocationID', 115), ('borough', 'Staten Island')])\n",
      "OrderedDict([('OBJECTID', 116), ('Shape_Leng', 0.0681164844265), ('Shape_Area', 0.000260415337217), ('zone', 'Hamilton Heights'), ('LocationID', 116), ('borough', 'Manhattan')])\n",
      "OrderedDict([('OBJECTID', 117), ('Shape_Leng', 0.169885857987), ('Shape_Area', 0.00090429427072), ('zone', 'Hammels/Arverne'), ('LocationID', 117), ('borough', 'Queens')])\n",
      "OrderedDict([('OBJECTID', 118), ('Shape_Leng', 0.243966217692), ('Shape_Area', 0.00182693922711), ('zone', 'Heartland Village/Todt Hill'), ('LocationID', 118), ('borough', 'Staten Island')])\n",
      "OrderedDict([('OBJECTID', 119), ('Shape_Leng', 0.0835070355744), ('Shape_Area', 0.000185779447534), ('zone', 'Highbridge'), ('LocationID', 119), ('borough', 'Bronx')])\n",
      "OrderedDict([('OBJECTID', 120), ('Shape_Leng', 0.0832612702158), ('Shape_Area', 9.31462821313e-05), ('zone', 'Highbridge Park'), ('LocationID', 120), ('borough', 'Manhattan')])\n",
      "OrderedDict([('OBJECTID', 121), ('Shape_Leng', 0.0969153373445), ('Shape_Area', 0.000384563286473), ('zone', 'Hillcrest/Pomonok'), ('LocationID', 121), ('borough', 'Queens')])\n",
      "OrderedDict([('OBJECTID', 122), ('Shape_Leng', 0.0665318439446), ('Shape_Area', 0.000226597104976), ('zone', 'Hollis'), ('LocationID', 122), ('borough', 'Queens')])\n",
      "OrderedDict([('OBJECTID', 123), ('Shape_Leng', 0.0834211389387), ('Shape_Area', 0.000296445173366), ('zone', 'Homecrest'), ('LocationID', 123), ('borough', 'Brooklyn')])\n",
      "OrderedDict([('OBJECTID', 124), ('Shape_Leng', 0.127724410062), ('Shape_Area', 0.000754837821479), ('zone', 'Howard Beach'), ('LocationID', 124), ('borough', 'Queens')])\n",
      "OrderedDict([('OBJECTID', 125), ('Shape_Leng', 0.0497322121757), ('Shape_Area', 7.64293209892e-05), ('zone', 'Hudson Sq'), ('LocationID', 125), ('borough', 'Manhattan')])\n",
      "OrderedDict([('OBJECTID', 126), ('Shape_Leng', 0.12994872606), ('Shape_Area', 0.0007032738273), ('zone', 'Hunts Point'), ('LocationID', 126), ('borough', 'Bronx')])\n",
      "OrderedDict([('OBJECTID', 127), ('Shape_Leng', 0.0600188855815), ('Shape_Area', 0.000163195647796), ('zone', 'Inwood'), ('LocationID', 127), ('borough', 'Manhattan')])\n",
      "OrderedDict([('OBJECTID', 128), ('Shape_Leng', 0.0702090290681), ('Shape_Area', 0.000207405982869), ('zone', 'Inwood Hill Park'), ('LocationID', 128), ('borough', 'Manhattan')])\n",
      "OrderedDict([('OBJECTID', 129), ('Shape_Leng', 0.0932727273403), ('Shape_Area', 0.00047398833179), ('zone', 'Jackson Heights'), ('LocationID', 129), ('borough', 'Queens')])\n",
      "OrderedDict([('OBJECTID', 130), ('Shape_Leng', 0.142028320665), ('Shape_Area', 0.000468322514327), ('zone', 'Jamaica'), ('LocationID', 130), ('borough', 'Queens')])\n",
      "OrderedDict([('OBJECTID', 131), ('Shape_Leng', 0.116547120922), ('Shape_Area', 0.000423696152789), ('zone', 'Jamaica Estates'), ('LocationID', 131), ('borough', 'Queens')])\n",
      "OrderedDict([('OBJECTID', 132), ('Shape_Leng', 0.24547851707), ('Shape_Area', 0.00203830095472), ('zone', 'JFK Airport'), ('LocationID', 132), ('borough', 'Queens')])\n",
      "OrderedDict([('OBJECTID', 133), ('Shape_Leng', 0.065134863162), ('Shape_Area', 0.000157188987507), ('zone', 'Kensington'), ('LocationID', 133), ('borough', 'Brooklyn')])\n",
      "OrderedDict([('OBJECTID', 134), ('Shape_Leng', 0.0695878223284), ('Shape_Area', 0.000202375182143), ('zone', 'Kew Gardens'), ('LocationID', 134), ('borough', 'Queens')])\n",
      "OrderedDict([('OBJECTID', 135), ('Shape_Leng', 0.121793045659), ('Shape_Area', 0.000467912240542), ('zone', 'Kew Gardens Hills'), ('LocationID', 135), ('borough', 'Queens')])\n",
      "OrderedDict([('OBJECTID', 136), ('Shape_Leng', 0.0906287154122), ('Shape_Area', 0.000148524994129), ('zone', 'Kingsbridge Heights'), ('LocationID', 136), ('borough', 'Bronx')])\n",
      "OrderedDict([('OBJECTID', 137), ('Shape_Leng', 0.0461076242707), ('Shape_Area', 0.000116455098947), ('zone', 'Kips Bay'), ('LocationID', 137), ('borough', 'Manhattan')])\n",
      "OrderedDict([('OBJECTID', 138), ('Shape_Leng', 0.107466933508), ('Shape_Area', 0.000536797294367), ('zone', 'LaGuardia Airport'), ('LocationID', 138), ('borough', 'Queens')])\n",
      "OrderedDict([('OBJECTID', 139), ('Shape_Leng', 0.0932997884483), ('Shape_Area', 0.000446669880154), ('zone', 'Laurelton'), ('LocationID', 139), ('borough', 'Queens')])\n",
      "OrderedDict([('OBJECTID', 140), ('Shape_Leng', 0.0475842911325), ('Shape_Area', 0.000114203907779), ('zone', 'Lenox Hill East'), ('LocationID', 140), ('borough', 'Manhattan')])\n",
      "OrderedDict([('OBJECTID', 141), ('Shape_Leng', 0.0415144638712), ('Shape_Area', 7.66545579019e-05), ('zone', 'Lenox Hill West'), ('LocationID', 141), ('borough', 'Manhattan')])\n",
      "OrderedDict([('OBJECTID', 142), ('Shape_Leng', 0.0381758942321), ('Shape_Area', 7.56537920738e-05), ('zone', 'Lincoln Square East'), ('LocationID', 142), ('borough', 'Manhattan')])\n",
      "OrderedDict([('OBJECTID', 143), ('Shape_Leng', 0.0541798538849), ('Shape_Area', 0.00015109426901), ('zone', 'Lincoln Square West'), ('LocationID', 143), ('borough', 'Manhattan')])\n",
      "OrderedDict([('OBJECTID', 144), ('Shape_Leng', 0.0276201668505), ('Shape_Area', 4.74789670369e-05), ('zone', 'Little Italy/NoLiTa'), ('LocationID', 144), ('borough', 'Manhattan')])\n",
      "OrderedDict([('OBJECTID', 145), ('Shape_Leng', 0.114313844981), ('Shape_Area', 0.000346641733797), ('zone', 'Long Island City/Hunters Point'), ('LocationID', 145), ('borough', 'Queens')])\n",
      "OrderedDict([('OBJECTID', 146), ('Shape_Leng', 0.0471405215717), ('Shape_Area', 0.000104638923425), ('zone', 'Long Island City/Queens Plaza'), ('LocationID', 146), ('borough', 'Queens')])\n",
      "OrderedDict([('OBJECTID', 147), ('Shape_Leng', 0.0587654949268), ('Shape_Area', 0.000106418172757), ('zone', 'Longwood'), ('LocationID', 147), ('borough', 'Bronx')])\n",
      "OrderedDict([('OBJECTID', 148), ('Shape_Leng', 0.0391305015633), ('Shape_Area', 6.97489921327e-05), ('zone', 'Lower East Side'), ('LocationID', 148), ('borough', 'Manhattan')])\n",
      "OrderedDict([('OBJECTID', 149), ('Shape_Leng', 0.0836805821837), ('Shape_Area', 0.000270639618955), ('zone', 'Madison'), ('LocationID', 149), ('borough', 'Brooklyn')])\n",
      "OrderedDict([('OBJECTID', 150), ('Shape_Leng', 0.089331491183), ('Shape_Area', 0.000332568036088), ('zone', 'Manhattan Beach'), ('LocationID', 150), ('borough', 'Brooklyn')])\n",
      "OrderedDict([('OBJECTID', 151), ('Shape_Leng', 0.0548899410999), ('Shape_Area', 0.000128848901918), ('zone', 'Manhattan Valley'), ('LocationID', 151), ('borough', 'Manhattan')])\n",
      "OrderedDict([('OBJECTID', 152), ('Shape_Leng', 0.0579094768782), ('Shape_Area', 0.000146637644064), ('zone', 'Manhattanville'), ('LocationID', 152), ('borough', 'Manhattan')])\n",
      "OrderedDict([('OBJECTID', 153), ('Shape_Leng', 0.024737239022), ('Shape_Area', 3.24684964817e-05), ('zone', 'Marble Hill'), ('LocationID', 153), ('borough', 'Manhattan')])\n",
      "OrderedDict([('OBJECTID', 154), ('Shape_Leng', 0.22733157076), ('Shape_Area', 0.00178968692433), ('zone', 'Marine Park/Floyd Bennett Field'), ('LocationID', 154), ('borough', 'Brooklyn')])\n",
      "OrderedDict([('OBJECTID', 155), ('Shape_Leng', 0.169808473032), ('Shape_Area', 0.000868261018498), ('zone', 'Marine Park/Mill Basin'), ('LocationID', 155), ('borough', 'Brooklyn')])\n",
      "OrderedDict([('OBJECTID', 156), ('Shape_Leng', 0.144476890476), ('Shape_Area', 0.0010521217443), ('zone', 'Mariners Harbor'), ('LocationID', 156), ('borough', 'Staten Island')])\n",
      "OrderedDict([('OBJECTID', 157), ('Shape_Leng', 0.131300217777), ('Shape_Area', 0.000354370128323), ('zone', 'Maspeth'), ('LocationID', 157), ('borough', 'Queens')])\n",
      "OrderedDict([('OBJECTID', 158), ('Shape_Leng', 0.0548099905515), ('Shape_Area', 0.000185568253002), ('zone', 'Meatpacking/West Village West'), ('LocationID', 158), ('borough', 'Manhattan')])\n",
      "OrderedDict([('OBJECTID', 159), ('Shape_Leng', 0.064363233206), ('Shape_Area', 0.00017124910387), ('zone', 'Melrose South'), ('LocationID', 159), ('borough', 'Bronx')])\n",
      "OrderedDict([('OBJECTID', 160), ('Shape_Leng', 0.14151914297), ('Shape_Area', 0.000571234977994), ('zone', 'Middle Village'), ('LocationID', 160), ('borough', 'Queens')])\n",
      "OrderedDict([('OBJECTID', 161), ('Shape_Leng', 0.0358039100611), ('Shape_Area', 7.19130682992e-05), ('zone', 'Midtown Center'), ('LocationID', 161), ('borough', 'Manhattan')])\n",
      "OrderedDict([('OBJECTID', 162), ('Shape_Leng', 0.0352698146219), ('Shape_Area', 4.78936962112e-05), ('zone', 'Midtown East'), ('LocationID', 162), ('borough', 'Manhattan')])\n",
      "OrderedDict([('OBJECTID', 163), ('Shape_Leng', 0.0341768669752), ('Shape_Area', 4.08567804196e-05), ('zone', 'Midtown North'), ('LocationID', 163), ('borough', 'Manhattan')])\n",
      "OrderedDict([('OBJECTID', 164), ('Shape_Leng', 0.0357716119908), ('Shape_Area', 5.56318237441e-05), ('zone', 'Midtown South'), ('LocationID', 164), ('borough', 'Manhattan')])\n",
      "OrderedDict([('OBJECTID', 165), ('Shape_Leng', 0.088608036213), ('Shape_Area', 0.000353959317019), ('zone', 'Midwood'), ('LocationID', 165), ('borough', 'Brooklyn')])\n",
      "OrderedDict([('OBJECTID', 166), ('Shape_Leng', 0.0688237542871), ('Shape_Area', 0.000255276270405), ('zone', 'Morningside Heights'), ('LocationID', 166), ('borough', 'Manhattan')])\n",
      "OrderedDict([('OBJECTID', 167), ('Shape_Leng', 0.0908159737292), ('Shape_Area', 0.000167529391193), ('zone', 'Morrisania/Melrose'), ('LocationID', 167), ('borough', 'Bronx')])\n",
      "OrderedDict([('OBJECTID', 168), ('Shape_Leng', 0.114517434155), ('Shape_Area', 0.000547058100444), ('zone', 'Mott Haven/Port Morris'), ('LocationID', 168), ('borough', 'Bronx')])\n",
      "OrderedDict([('OBJECTID', 169), ('Shape_Leng', 0.0601046580332), ('Shape_Area', 0.000146027537733), ('zone', 'Mount Hope'), ('LocationID', 169), ('borough', 'Bronx')])\n",
      "OrderedDict([('OBJECTID', 170), ('Shape_Leng', 0.0457690091051), ('Shape_Area', 7.43150675972e-05), ('zone', 'Murray Hill'), ('LocationID', 170), ('borough', 'Manhattan')])\n",
      "OrderedDict([('OBJECTID', 171), ('Shape_Leng', 0.107353876244), ('Shape_Area', 0.000520099538161), ('zone', 'Murray Hill-Queens'), ('LocationID', 171), ('borough', 'Queens')])\n",
      "OrderedDict([('OBJECTID', 172), ('Shape_Leng', 0.118476116148), ('Shape_Area', 0.000658402501406), ('zone', 'New Dorp/Midland Beach'), ('LocationID', 172), ('borough', 'Staten Island')])\n",
      "OrderedDict([('OBJECTID', 173), ('Shape_Leng', 0.0600639661414), ('Shape_Area', 0.000178329851357), ('zone', 'North Corona'), ('LocationID', 173), ('borough', 'Queens')])\n",
      "OrderedDict([('OBJECTID', 174), ('Shape_Leng', 0.0678177559602), ('Shape_Area', 0.000155928664422), ('zone', 'Norwood'), ('LocationID', 174), ('borough', 'Bronx')])\n",
      "OrderedDict([('OBJECTID', 175), ('Shape_Leng', 0.134897665102), ('Shape_Area', 0.000504920726134), ('zone', 'Oakland Gardens'), ('LocationID', 175), ('borough', 'Queens')])\n",
      "OrderedDict([('OBJECTID', 176), ('Shape_Leng', 0.151995190703), ('Shape_Area', 0.000657782126267), ('zone', 'Oakwood'), ('LocationID', 176), ('borough', 'Staten Island')])\n",
      "OrderedDict([('OBJECTID', 177), ('Shape_Leng', 0.0715805407056), ('Shape_Area', 0.000198894762248), ('zone', 'Ocean Hill'), ('LocationID', 177), ('borough', 'Brooklyn')])\n",
      "OrderedDict([('OBJECTID', 178), ('Shape_Leng', 0.0682528770739), ('Shape_Area', 0.000175805409143), ('zone', 'Ocean Parkway South'), ('LocationID', 178), ('borough', 'Brooklyn')])\n",
      "OrderedDict([('OBJECTID', 179), ('Shape_Leng', 0.0713808644377), ('Shape_Area', 0.000183893478476), ('zone', 'Old Astoria'), ('LocationID', 179), ('borough', 'Queens')])\n",
      "OrderedDict([('OBJECTID', 180), ('Shape_Leng', 0.0805277671523), ('Shape_Area', 0.000247682193353), ('zone', 'Ozone Park'), ('LocationID', 180), ('borough', 'Queens')])\n",
      "OrderedDict([('OBJECTID', 181), ('Shape_Leng', 0.0895372399547), ('Shape_Area', 0.000306890292807), ('zone', 'Park Slope'), ('LocationID', 181), ('borough', 'Brooklyn')])\n",
      "OrderedDict([('OBJECTID', 182), ('Shape_Leng', 0.0393606369479), ('Shape_Area', 9.10644156732e-05), ('zone', 'Parkchester'), ('LocationID', 182), ('borough', 'Bronx')])\n",
      "OrderedDict([('OBJECTID', 183), ('Shape_Leng', 0.0398262960348), ('Shape_Area', 9.51929451066e-05), ('zone', 'Pelham Bay'), ('LocationID', 183), ('borough', 'Bronx')])\n",
      "OrderedDict([('OBJECTID', 184), ('Shape_Leng', 0.260815683043), ('Shape_Area', 0.00198883363103), ('zone', 'Pelham Bay Park'), ('LocationID', 184), ('borough', 'Bronx')])\n",
      "OrderedDict([('OBJECTID', 185), ('Shape_Leng', 0.0861619681636), ('Shape_Area', 0.000228537100218), ('zone', 'Pelham Parkway'), ('LocationID', 185), ('borough', 'Bronx')])\n",
      "OrderedDict([('OBJECTID', 186), ('Shape_Leng', 0.0246963902234), ('Shape_Area', 3.70729416953e-05), ('zone', 'Penn Station/Madison Sq West'), ('LocationID', 186), ('borough', 'Manhattan')])\n",
      "OrderedDict([('OBJECTID', 187), ('Shape_Leng', 0.126868431324), ('Shape_Area', 0.000421195755741), ('zone', 'Port Richmond'), ('LocationID', 187), ('borough', 'Staten Island')])\n",
      "OrderedDict([('OBJECTID', 188), ('Shape_Leng', 0.0977983968367), ('Shape_Area', 0.000313003032771), ('zone', 'Prospect-Lefferts Gardens'), ('LocationID', 188), ('borough', 'Brooklyn')])\n",
      "OrderedDict([('OBJECTID', 189), ('Shape_Leng', 0.0486743306502), ('Shape_Area', 0.000101427594033), ('zone', 'Prospect Heights'), ('LocationID', 189), ('borough', 'Brooklyn')])\n",
      "OrderedDict([('OBJECTID', 190), ('Shape_Leng', 0.0743294660829), ('Shape_Area', 0.000270873666522), ('zone', 'Prospect Park'), ('LocationID', 190), ('borough', 'Brooklyn')])\n",
      "OrderedDict([('OBJECTID', 191), ('Shape_Leng', 0.130932637664), ('Shape_Area', 0.000688460603185), ('zone', 'Queens Village'), ('LocationID', 191), ('borough', 'Queens')])\n",
      "OrderedDict([('OBJECTID', 192), ('Shape_Leng', 0.11196461971), ('Shape_Area', 0.000373808019026), ('zone', 'Queensboro Hill'), ('LocationID', 192), ('borough', 'Queens')])\n",
      "OrderedDict([('OBJECTID', 193), ('Shape_Leng', 0.0655299584801), ('Shape_Area', 0.000145591657944), ('zone', 'Queensbridge/Ravenswood'), ('LocationID', 193), ('borough', 'Queens')])\n",
      "OrderedDict([('OBJECTID', 194), ('Shape_Leng', 0.0817938353532), ('Shape_Area', 0.000273481702719), ('zone', 'Randalls Island'), ('LocationID', 194), ('borough', 'Manhattan')])\n",
      "OrderedDict([('OBJECTID', 195), ('Shape_Leng', 0.131308244067), ('Shape_Area', 0.000801651953985), ('zone', 'Red Hook'), ('LocationID', 195), ('borough', 'Brooklyn')])\n",
      "OrderedDict([('OBJECTID', 196), ('Shape_Leng', 0.0832421106332), ('Shape_Area', 0.0001974713336), ('zone', 'Rego Park'), ('LocationID', 196), ('borough', 'Queens')])\n",
      "OrderedDict([('OBJECTID', 197), ('Shape_Leng', 0.108568532229), ('Shape_Area', 0.000504689160432), ('zone', 'Richmond Hill'), ('LocationID', 197), ('borough', 'Queens')])\n",
      "OrderedDict([('OBJECTID', 198), ('Shape_Leng', 0.134094242763), ('Shape_Area', 0.000499809882564), ('zone', 'Ridgewood'), ('LocationID', 198), ('borough', 'Queens')])\n",
      "OrderedDict([('OBJECTID', 199), ('Shape_Leng', 0.0778085005169), ('Shape_Area', 0.000288747549303), ('zone', 'Rikers Island'), ('LocationID', 199), ('borough', 'Bronx')])\n",
      "OrderedDict([('OBJECTID', 200), ('Shape_Leng', 0.112661735435), ('Shape_Area', 0.000744643168558), ('zone', 'Riverdale/North Riverdale/Fieldston'), ('LocationID', 200), ('borough', 'Bronx')])\n",
      "OrderedDict([('OBJECTID', 201), ('Shape_Leng', 0.130404117686), ('Shape_Area', 0.000619350747819), ('zone', 'Rockaway Park'), ('LocationID', 201), ('borough', 'Queens')])\n",
      "OrderedDict([('OBJECTID', 202), ('Shape_Leng', 0.0699215712618), ('Shape_Area', 0.000106175396322), ('zone', 'Roosevelt Island'), ('LocationID', 202), ('borough', 'Manhattan')])\n",
      "OrderedDict([('OBJECTID', 203), ('Shape_Leng', 0.189937815868), ('Shape_Area', 0.000615129861659), ('zone', 'Rosedale'), ('LocationID', 203), ('borough', 'Queens')])\n",
      "OrderedDict([('OBJECTID', 204), ('Shape_Leng', 0.101912418311), ('Shape_Area', 0.000641384265972), ('zone', 'Rossville/Woodrow'), ('LocationID', 204), ('borough', 'Staten Island')])\n",
      "OrderedDict([('OBJECTID', 205), ('Shape_Leng', 0.141953388327), ('Shape_Area', 0.000766216513505), ('zone', 'Saint Albans'), ('LocationID', 205), ('borough', 'Queens')])\n",
      "OrderedDict([('OBJECTID', 206), ('Shape_Leng', 0.212756793386), ('Shape_Area', 0.000944392507762), ('zone', 'Saint George/New Brighton'), ('LocationID', 206), ('borough', 'Staten Island')])\n",
      "OrderedDict([('OBJECTID', 207), ('Shape_Leng', 0.0283756831492), ('Shape_Area', 4.47230848441e-05), ('zone', 'Saint Michaels Cemetery/Woodside'), ('LocationID', 207), ('borough', 'Queens')])\n",
      "OrderedDict([('OBJECTID', 208), ('Shape_Leng', 0.214721009581), ('Shape_Area', 0.00202032598969), ('zone', 'Schuylerville/Edgewater Park'), ('LocationID', 208), ('borough', 'Bronx')])\n",
      "OrderedDict([('OBJECTID', 209), ('Shape_Leng', 0.0306953113473), ('Shape_Area', 3.88703351209e-05), ('zone', 'Seaport'), ('LocationID', 209), ('borough', 'Manhattan')])\n",
      "OrderedDict([('OBJECTID', 210), ('Shape_Leng', 0.114851983372), ('Shape_Area', 0.000453155131253), ('zone', 'Sheepshead Bay'), ('LocationID', 210), ('borough', 'Brooklyn')])\n",
      "OrderedDict([('OBJECTID', 211), ('Shape_Leng', 0.0252345082132), ('Shape_Area', 3.97291966087e-05), ('zone', 'SoHo'), ('LocationID', 211), ('borough', 'Manhattan')])\n",
      "OrderedDict([('OBJECTID', 212), ('Shape_Leng', 0.0671290653429), ('Shape_Area', 0.000161276191858), ('zone', 'Soundview/Bruckner'), ('LocationID', 212), ('borough', 'Bronx')])\n",
      "OrderedDict([('OBJECTID', 213), ('Shape_Leng', 0.159958783822), ('Shape_Area', 0.000904077906339), ('zone', 'Soundview/Castle Hill'), ('LocationID', 213), ('borough', 'Bronx')])\n",
      "OrderedDict([('OBJECTID', 214), ('Shape_Leng', 0.135300314246), ('Shape_Area', 0.000811976523012), ('zone', 'South Beach/Dongan Hills'), ('LocationID', 214), ('borough', 'Staten Island')])\n",
      "OrderedDict([('OBJECTID', 215), ('Shape_Leng', 0.103556453625), ('Shape_Area', 0.000395647022725), ('zone', 'South Jamaica'), ('LocationID', 215), ('borough', 'Queens')])\n",
      "OrderedDict([('OBJECTID', 216), ('Shape_Leng', 0.116797554681), ('Shape_Area', 0.000816076647781), ('zone', 'South Ozone Park'), ('LocationID', 216), ('borough', 'Queens')])\n",
      "OrderedDict([('OBJECTID', 217), ('Shape_Leng', 0.0553905251285), ('Shape_Area', 0.000114733270758), ('zone', 'South Williamsburg'), ('LocationID', 217), ('borough', 'Brooklyn')])\n",
      "OrderedDict([('OBJECTID', 218), ('Shape_Leng', 0.0837008281049), ('Shape_Area', 0.000281293736407), ('zone', 'Springfield Gardens North'), ('LocationID', 218), ('borough', 'Queens')])\n",
      "OrderedDict([('OBJECTID', 219), ('Shape_Leng', 0.155126669675), ('Shape_Area', 0.000428176336771), ('zone', 'Springfield Gardens South'), ('LocationID', 219), ('borough', 'Queens')])\n",
      "OrderedDict([('OBJECTID', 220), ('Shape_Leng', 0.106015943267), ('Shape_Area', 0.000313035744467), ('zone', 'Spuyten Duyvil/Kingsbridge'), ('LocationID', 220), ('borough', 'Bronx')])\n",
      "OrderedDict([('OBJECTID', 221), ('Shape_Leng', 0.166218220846), ('Shape_Area', 0.000890111567051), ('zone', 'Stapleton'), ('LocationID', 221), ('borough', 'Staten Island')])\n",
      "OrderedDict([('OBJECTID', 222), ('Shape_Leng', 0.0483893527976), ('Shape_Area', 0.000130268343918), ('zone', 'Starrett City'), ('LocationID', 222), ('borough', 'Brooklyn')])\n",
      "OrderedDict([('OBJECTID', 223), ('Shape_Leng', 0.166021925275), ('Shape_Area', 0.00076436070058), ('zone', 'Steinway'), ('LocationID', 223), ('borough', 'Queens')])\n",
      "OrderedDict([('OBJECTID', 224), ('Shape_Leng', 0.0440204462769), ('Shape_Area', 9.84786989135e-05), ('zone', 'Stuy Town/Peter Cooper Village'), ('LocationID', 224), ('borough', 'Manhattan')])\n",
      "OrderedDict([('OBJECTID', 225), ('Shape_Leng', 0.0887992073281), ('Shape_Area', 0.000310835395162), ('zone', 'Stuyvesant Heights'), ('LocationID', 225), ('borough', 'Brooklyn')])\n",
      "OrderedDict([('OBJECTID', 226), ('Shape_Leng', 0.168957762041), ('Shape_Area', 0.00076194414504), ('zone', 'Sunnyside'), ('LocationID', 226), ('borough', 'Queens')])\n",
      "OrderedDict([('OBJECTID', 227), ('Shape_Leng', 0.0828301570789), ('Shape_Area', 0.000268316529534), ('zone', 'Sunset Park East'), ('LocationID', 227), ('borough', 'Brooklyn')])\n",
      "OrderedDict([('OBJECTID', 228), ('Shape_Leng', 0.177685177706), ('Shape_Area', 0.000993414783816), ('zone', 'Sunset Park West'), ('LocationID', 228), ('borough', 'Brooklyn')])\n",
      "OrderedDict([('OBJECTID', 229), ('Shape_Leng', 0.0425252900116), ('Shape_Area', 9.47058230931e-05), ('zone', 'Sutton Place/Turtle Bay North'), ('LocationID', 229), ('borough', 'Manhattan')])\n",
      "OrderedDict([('OBJECTID', 230), ('Shape_Leng', 0.0310283096779), ('Shape_Area', 5.60914463266e-05), ('zone', 'Times Sq/Theatre District'), ('LocationID', 230), ('borough', 'Manhattan')])\n",
      "OrderedDict([('OBJECTID', 231), ('Shape_Leng', 0.0634201165587), ('Shape_Area', 0.000166929752992), ('zone', 'TriBeCa/Civic Center'), ('LocationID', 231), ('borough', 'Manhattan')])\n",
      "OrderedDict([('OBJECTID', 232), ('Shape_Leng', 0.0614709085331), ('Shape_Area', 0.000216049973456), ('zone', 'Two Bridges/Seward Park'), ('LocationID', 232), ('borough', 'Manhattan')])\n",
      "OrderedDict([('OBJECTID', 233), ('Shape_Leng', 0.048035918294), ('Shape_Area', 0.000116188094682), ('zone', 'UN/Turtle Bay South'), ('LocationID', 233), ('borough', 'Manhattan')])\n",
      "OrderedDict([('OBJECTID', 234), ('Shape_Leng', 0.0360721994984), ('Shape_Area', 7.31054382894e-05), ('zone', 'Union Sq'), ('LocationID', 234), ('borough', 'Manhattan')])\n",
      "OrderedDict([('OBJECTID', 235), ('Shape_Leng', 0.0761668426519), ('Shape_Area', 0.000212844547337), ('zone', 'University Heights/Morris Heights'), ('LocationID', 235), ('borough', 'Bronx')])\n",
      "OrderedDict([('OBJECTID', 236), ('Shape_Leng', 0.0442519223099), ('Shape_Area', 0.000102864345211), ('zone', 'Upper East Side North'), ('LocationID', 236), ('borough', 'Manhattan')])\n",
      "OrderedDict([('OBJECTID', 237), ('Shape_Leng', 0.0422126003388), ('Shape_Area', 9.59873206621e-05), ('zone', 'Upper East Side South'), ('LocationID', 237), ('borough', 'Manhattan')])\n",
      "OrderedDict([('OBJECTID', 238), ('Shape_Leng', 0.0601093114033), ('Shape_Area', 0.000184763693765), ('zone', 'Upper West Side North'), ('LocationID', 238), ('borough', 'Manhattan')])\n",
      "OrderedDict([('OBJECTID', 239), ('Shape_Leng', 0.0636261152958), ('Shape_Area', 0.000204715440774), ('zone', 'Upper West Side South'), ('LocationID', 239), ('borough', 'Manhattan')])\n",
      "OrderedDict([('OBJECTID', 240), ('Shape_Leng', 0.146069764379), ('Shape_Area', 0.000722130920707), ('zone', 'Van Cortlandt Park'), ('LocationID', 240), ('borough', 'Bronx')])\n",
      "OrderedDict([('OBJECTID', 241), ('Shape_Leng', 0.0687645777649), ('Shape_Area', 0.00025467697592), ('zone', 'Van Cortlandt Village'), ('LocationID', 241), ('borough', 'Bronx')])\n",
      "OrderedDict([('OBJECTID', 242), ('Shape_Leng', 0.138136446433), ('Shape_Area', 0.000360072450014), ('zone', 'Van Nest/Morris Park'), ('LocationID', 242), ('borough', 'Bronx')])\n",
      "OrderedDict([('OBJECTID', 243), ('Shape_Leng', 0.0943314999364), ('Shape_Area', 0.000438377341503), ('zone', 'Washington Heights North'), ('LocationID', 243), ('borough', 'Manhattan')])\n",
      "OrderedDict([('OBJECTID', 244), ('Shape_Leng', 0.0805686044599), ('Shape_Area', 0.000359702747951), ('zone', 'Washington Heights South'), ('LocationID', 244), ('borough', 'Manhattan')])\n",
      "OrderedDict([('OBJECTID', 245), ('Shape_Leng', 0.0959830596604), ('Shape_Area', 0.000466175414294), ('zone', 'West Brighton'), ('LocationID', 245), ('borough', 'Staten Island')])\n",
      "OrderedDict([('OBJECTID', 246), ('Shape_Leng', 0.0694671937437), ('Shape_Area', 0.000281298327076), ('zone', 'West Chelsea/Hudson Yards'), ('LocationID', 246), ('borough', 'Manhattan')])\n",
      "OrderedDict([('OBJECTID', 247), ('Shape_Leng', 0.0929678582271), ('Shape_Area', 0.000205617157843), ('zone', 'West Concourse'), ('LocationID', 247), ('borough', 'Bronx')])\n",
      "OrderedDict([('OBJECTID', 248), ('Shape_Leng', 0.0569191167671), ('Shape_Area', 0.000149592769799), ('zone', 'West Farms/Bronx River'), ('LocationID', 248), ('borough', 'Bronx')])\n",
      "OrderedDict([('OBJECTID', 249), ('Shape_Leng', 0.03638434365), ('Shape_Area', 7.22155957729e-05), ('zone', 'West Village'), ('LocationID', 249), ('borough', 'Manhattan')])\n",
      "OrderedDict([('OBJECTID', 250), ('Shape_Leng', 0.0796263465454), ('Shape_Area', 0.000240975845956), ('zone', 'Westchester Village/Unionport'), ('LocationID', 250), ('borough', 'Bronx')])\n",
      "OrderedDict([('OBJECTID', 251), ('Shape_Leng', 0.1377111611), ('Shape_Area', 0.000625754983157), ('zone', 'Westerleigh'), ('LocationID', 251), ('borough', 'Staten Island')])\n",
      "OrderedDict([('OBJECTID', 252), ('Shape_Leng', 0.158004373564), ('Shape_Area', 0.00102526406057), ('zone', 'Whitestone'), ('LocationID', 252), ('borough', 'Queens')])\n",
      "OrderedDict([('OBJECTID', 253), ('Shape_Leng', 0.0360514998192), ('Shape_Area', 7.83395761191e-05), ('zone', 'Willets Point'), ('LocationID', 253), ('borough', 'Queens')])\n",
      "OrderedDict([('OBJECTID', 254), ('Shape_Leng', 0.0858863754861), ('Shape_Area', 0.000360040216032), ('zone', 'Williamsbridge/Olinville'), ('LocationID', 254), ('borough', 'Bronx')])\n",
      "OrderedDict([('OBJECTID', 255), ('Shape_Leng', 0.0623841997664), ('Shape_Area', 0.000172309184842), ('zone', 'Williamsburg (North Side)'), ('LocationID', 255), ('borough', 'Brooklyn')])\n",
      "OrderedDict([('OBJECTID', 256), ('Shape_Leng', 0.0679149669603), ('Shape_Area', 0.000168611097013), ('zone', 'Williamsburg (South Side)'), ('LocationID', 256), ('borough', 'Brooklyn')])\n",
      "OrderedDict([('OBJECTID', 257), ('Shape_Leng', 0.0586690259793), ('Shape_Area', 0.00013890947321), ('zone', 'Windsor Terrace'), ('LocationID', 257), ('borough', 'Brooklyn')])\n",
      "OrderedDict([('OBJECTID', 258), ('Shape_Leng', 0.0890133787693), ('Shape_Area', 0.000366209617143), ('zone', 'Woodhaven'), ('LocationID', 258), ('borough', 'Queens')])\n",
      "OrderedDict([('OBJECTID', 259), ('Shape_Leng', 0.126750305191), ('Shape_Area', 0.000394552487366), ('zone', 'Woodlawn/Wakefield'), ('LocationID', 259), ('borough', 'Bronx')])\n",
      "OrderedDict([('OBJECTID', 260), ('Shape_Leng', 0.133514154636), ('Shape_Area', 0.000422345326907), ('zone', 'Woodside'), ('LocationID', 260), ('borough', 'Queens')])\n",
      "OrderedDict([('OBJECTID', 261), ('Shape_Leng', 0.0271204563616), ('Shape_Area', 3.43423231652e-05), ('zone', 'World Trade Center'), ('LocationID', 261), ('borough', 'Manhattan')])\n",
      "OrderedDict([('OBJECTID', 262), ('Shape_Leng', 0.0490636231541), ('Shape_Area', 0.000122330270966), ('zone', 'Yorkville East'), ('LocationID', 262), ('borough', 'Manhattan')])\n",
      "OrderedDict([('OBJECTID', 263), ('Shape_Leng', 0.0370166252994), ('Shape_Area', 6.57697664169e-05), ('zone', 'Yorkville West'), ('LocationID', 263), ('borough', 'Manhattan')])\n"
     ]
    }
   ],
   "source": [
    "from dbfread import DBF\n",
    "for f in DBF(\"/home/edouard/Documents/Big Data/taxi_zones/taxi_zones.dbf\"):\n",
    "    print(f)\n",
    "   # for i, j in enumerate(f):\n",
    "     #   print( j)"
   ]
  },
  {
   "cell_type": "code",
<<<<<<< HEAD
   "execution_count": 5,
=======
   "execution_count": 7,
>>>>>>> 40a8c522268f7a6410f41176699d255c1909bfde
   "id": "92bc9d9f",
   "metadata": {},
   "outputs": [
    {
     "name": "stderr",
     "output_type": "stream",
     "text": [
      "\r",
      "[Stage 3:============================================>              (3 + 1) / 4]\r",
      "\r",
      "                                                                                \r"
     ]
    },
    {
     "name": "stdout",
     "output_type": "stream",
     "text": [
      "+--------+--------------------+---------------------+---------------+-------------+----------+------------------+------------+------------+------------+-----------+-----+-------+----------+------------+---------------------+------------+--------------------+-----------+\n",
      "|VendorID|tpep_pickup_datetime|tpep_dropoff_datetime|passenger_count|trip_distance|RatecodeID|store_and_fwd_flag|PULocationID|DOLocationID|payment_type|fare_amount|extra|mta_tax|tip_amount|tolls_amount|improvement_surcharge|total_amount|congestion_surcharge|airport_fee|\n",
      "+--------+--------------------+---------------------+---------------+-------------+----------+------------------+------------+------------+------------+-----------+-----+-------+----------+------------+---------------------+------------+--------------------+-----------+\n",
      "|       1| 2019-03-01 00:24:41|  2019-03-01 00:25:31|            1.0|          0.0|       1.0|                 N|         145|         145|           2|        2.5|  0.5|    0.5|       0.0|         0.0|                  0.3|         3.8|                 0.0|       null|\n",
      "|       1| 2019-03-01 00:25:27|  2019-03-01 00:36:37|            2.0|          3.7|       1.0|                 N|          95|         130|           1|       13.0|  0.5|    0.5|       0.7|         0.0|                  0.3|        15.0|                 0.0|       null|\n",
      "|       1| 2019-03-01 00:05:21|  2019-03-01 00:38:23|            1.0|         14.1|       1.0|                 N|         249|          28|           1|       41.0|  3.0|    0.5|      10.1|        5.76|                  0.3|       60.66|                 2.5|       null|\n",
      "|       1| 2019-03-01 00:48:55|  2019-03-01 01:06:03|            1.0|          9.6|       1.0|                 N|         138|          98|           2|       27.0|  0.5|    0.5|       0.0|         0.0|                  0.3|        28.3|                 0.0|       null|\n",
      "|       1| 2019-03-01 00:11:42|  2019-03-01 00:16:40|            1.0|          0.8|       1.0|                 N|          48|          48|           1|        5.5|  3.0|    0.5|       3.0|         0.0|                  0.3|        12.3|                 2.5|       null|\n",
      "|       1| 2019-03-01 00:45:03|  2019-03-01 00:49:38|            1.0|          1.2|       1.0|                 N|         246|          48|           2|        6.0|  3.0|    0.5|       0.0|         0.0|                  0.3|         9.8|                 2.5|       null|\n",
      "|       1| 2019-03-01 00:02:37|  2019-03-01 00:07:30|            1.0|          0.6|       1.0|                 Y|         239|         238|           2|        5.5|  3.0|    0.5|       0.0|         0.0|                  0.3|         9.3|                 2.5|       null|\n",
      "|       2| 2019-02-28 19:52:45|  2019-02-28 20:01:54|            1.0|         5.65|       1.0|                 N|         132|         197|           2|       17.0|  0.5|    0.5|       0.0|         0.0|                  0.3|        18.3|                 0.0|       null|\n",
      "|       2| 2019-03-01 00:14:23|  2019-03-01 00:19:17|            1.0|         1.16|       1.0|                 N|         229|         170|           1|        6.0|  0.5|    0.5|      2.45|         0.0|                  0.3|       12.25|                 2.5|       null|\n",
      "|       2| 2019-03-01 00:19:09|  2019-03-01 00:23:30|            1.0|         0.71|       1.0|                 N|         137|         234|           1|        5.0|  0.5|    0.5|       1.0|         0.0|                  0.3|         9.8|                 2.5|       null|\n",
      "|       2| 2019-03-01 00:06:46|  2019-03-01 00:17:09|            5.0|         2.63|       1.0|                 N|         231|         246|           1|       10.5|  0.5|    0.5|      2.86|         0.0|                  0.3|       17.16|                 2.5|       null|\n",
      "|       1| 2019-03-01 00:00:46|  2019-03-01 00:26:41|            1.0|          5.0|       1.0|                 N|         230|           7|           3|       20.5|  3.0|    0.5|       0.0|         0.0|                  0.3|        24.3|                 2.5|       null|\n",
      "|       2| 2019-03-01 00:00:40|  2019-03-01 00:49:26|            2.0|        14.04|       1.0|                 N|         170|         123|           1|       45.5|  0.5|    0.5|     14.79|         0.0|                  0.3|       64.09|                 2.5|       null|\n",
      "|       1| 2019-03-01 00:21:46|  2019-03-01 00:30:25|            1.0|          2.0|       1.0|                 N|         143|         263|           1|        9.0|  3.0|    0.5|      2.55|         0.0|                  0.3|       15.35|                 2.5|       null|\n",
      "|       2| 2019-03-01 00:25:16|  2019-03-01 00:31:39|            5.0|         2.11|       1.0|                 N|         229|         236|           1|        8.0|  0.5|    0.5|       2.0|         0.0|                  0.3|        13.8|                 2.5|       null|\n",
      "|       1| 2019-03-01 00:03:09|  2019-03-01 00:49:16|            1.0|          6.8|       1.0|                 N|         162|          49|           2|       31.5|  3.0|    0.5|       0.0|         0.0|                  0.3|        35.3|                 2.5|       null|\n",
      "|       2| 2019-03-01 00:55:49|  2019-03-01 01:11:06|            1.0|         5.97|       1.0|                 N|         152|         153|           2|       19.0|  0.5|    0.5|       0.0|         0.0|                  0.3|        20.3|                 0.0|       null|\n",
      "|       1| 2019-03-01 00:35:42|  2019-03-01 00:47:06|            1.0|          3.4|       1.0|                 N|         162|          74|           1|       12.0|  3.0|    0.5|       1.5|         0.0|                  0.3|        17.3|                 2.5|       null|\n",
      "|       2| 2019-03-01 00:45:03|  2019-03-01 01:14:25|            1.0|        16.89|       2.0|                 N|         132|         229|           1|       52.0|  0.0|    0.5|     11.06|         0.0|                  0.3|       66.36|                 2.5|       null|\n",
      "|       1| 2019-03-01 00:42:38|  2019-03-01 01:02:58|            1.0|          5.4|       1.0|                 N|          25|         246|           1|       19.5|  3.0|    0.5|       3.5|         0.0|                  0.3|        26.8|                 2.5|       null|\n",
      "+--------+--------------------+---------------------+---------------+-------------+----------+------------------+------------+------------+------------+-----------+-----+-------+----------+------------+---------------------+------------+--------------------+-----------+\n",
      "only showing top 20 rows\n",
      "\n"
     ]
    },
    {
     "name": "stderr",
     "output_type": "stream",
     "text": [
      "\r",
      "[Stage 5:============================================>              (3 + 1) / 4]\r",
      "\r",
      "                                                                                \r"
     ]
    }
   ],
   "source": [
    "df_yel.show()"
   ]
  },
  {
   "cell_type": "markdown",
   "id": "bf871092",
   "metadata": {},
   "source": [
    "1. Using these boundaries, filter the 2019 data (using pickup and dropoff longitude and\n",
    "latitude) and count the number of trips for each value of passenger_count and make a\n",
    "plot of that."
   ]
  },
  {
   "cell_type": "code",
<<<<<<< HEAD
   "execution_count": 3,
=======
   "execution_count": 8,
>>>>>>> 40a8c522268f7a6410f41176699d255c1909bfde
   "id": "ec479a99",
   "metadata": {},
   "outputs": [
    {
     "name": "stdout",
     "output_type": "stream",
     "text": [
      "+----------+------------------+------------------+--------------------+-------------+\n",
      "|LocationID|          latitude|         longitude|                zone|      borough|\n",
      "+----------+------------------+------------------+--------------------+-------------+\n",
      "|         1|-74.17400156582248| 40.69183016020958|      Newark Airport|          EWR|\n",
      "|         2|-73.83129979354713|40.616746199373786|         Jamaica Bay|       Queens|\n",
      "|         3| -73.8474217852696| 40.86447372906585|Allerton/Pelham G...|        Bronx|\n",
      "|         4|-73.97696827424141| 40.72375208451233|       Alphabet City|    Manhattan|\n",
      "|         5|-74.18848459794721| 40.55265878064343|       Arden Heights|Staten Island|\n",
      "|         6|-74.07177024696533|40.600324409468406|Arrochar/Fort Wad...|Staten Island|\n",
      "|         7|-73.91969433569462| 40.76149261704312|             Astoria|       Queens|\n",
      "|         8|-73.92308626324494| 40.77855862576789|        Astoria Park|       Queens|\n",
      "|         9|-73.78794875477833| 40.75103435668663|          Auburndale|       Queens|\n",
      "|        10|-73.79098676199028| 40.67895308442328|        Baisley Park|       Queens|\n",
      "|        11|-74.00748784386448| 40.60427268170343|          Bath Beach|     Brooklyn|\n",
      "|        12|-74.01556349991374| 40.70294582144012|        Battery Park|    Manhattan|\n",
      "|        13|-74.01607927269924| 40.71203792466726|   Battery Park City|    Manhattan|\n",
      "|        14|    -74.0298925099| 40.62483367229869|           Bay Ridge|     Brooklyn|\n",
      "|        15|-73.78597285841018| 40.78333300468791|Bay Terrace/Fort ...|       Queens|\n",
      "|        16|-73.77342112932584|40.762737532164934|             Bayside|       Queens|\n",
      "|        17|-73.94990480444068|40.691507021611976|             Bedford|     Brooklyn|\n",
      "|        18|-73.89018381164814| 40.86768222238495|        Bedford Park|        Bronx|\n",
      "|        19|-73.72665540152784| 40.73548651046705|           Bellerose|       Queens|\n",
      "|        20|-73.88586744911127|40.857779440562844|             Belmont|        Bronx|\n",
      "+----------+------------------+------------------+--------------------+-------------+\n",
      "only showing top 20 rows\n",
      "\n"
     ]
    }
   ],
   "source": [
    "from pyspark.sql.functions import *\n",
    "\n",
    "# definition of the boundaries for filtering\n",
    "long_min = -74.10\n",
    "long_max = -73.70\n",
    "lat_min = 40.58\n",
    "lat_max = 40.90\n",
    "\n",
    "#using the id in the zone_id file\n",
    "'''newark_id = [1]\n",
    "jfk_id = [132]\n",
    "north_manhattan_id = [42,74, 87, 113, 163, 229, 236, 238, 243]\n",
    "zone_ID = newark_id + jfk_id + north_manhattan_id #location id of Newark and JFK airports and North manhattan\n",
    "\n",
    "df_yel_filtered = df_yel.filter(\n",
    "    (col(\"PULocationID\").isin(zone_ID)) &\n",
    "    (col(\"DOLocationID\").isin(zone_ID))\n",
    "    )\n",
    "'''\n",
    "\n",
    "  \n",
    "# Return Centroid as CRS code of 3310 for calcuating distance in meters.\n",
    "     \n",
    "df_zones[\"centroid\"] = df_zones.geometry.centroid.to_crs(epsg=3310)\n",
    "    \n",
    "# Convert cordinates to the WSG84 lat/long CRS has a EPSG code of 4326.\n",
    "df_zones[\"latitude\"] = df_zones.centroid.to_crs(epsg=4326).x\n",
    "df_zones[\"longitude\"] = df_zones.centroid.to_crs(epsg=4326).y\n",
    "df_zones =df_zones[['LocationID','latitude','longitude','zone','borough']]\n",
    "\n",
    "#convert dataframe zones to spark dataframe \n",
    "df_zones=spark.createDataFrame(df_zones)\n",
    "\n",
    "\n",
    "df_zones.show()"
   ]
  },
  {
   "cell_type": "code",
   "execution_count": null,
   "id": "4245dd1d",
   "metadata": {},
   "outputs": [
    {
     "name": "stderr",
     "output_type": "stream",
     "text": [
      "23/05/24 15:33:26 WARN package: Truncated the string representation of a plan since it was too large. This behavior can be adjusted by setting 'spark.sql.debug.maxToStringFields'.\n",
      "[Stage 8:>                                                         (0 + 8) / 15]\r"
     ]
    }
   ],
   "source": [
    "# rename cols\n",
    "def renameCols(df, old_columns, new_columns):\n",
    "    \n",
    "    for old_col,new_col in zip(old_columns,new_columns):\n",
    "        df = df.withColumnRenamed(old_col,new_col)\n",
    "    return df\n",
    "\n",
    "def renameData(df):\n",
    "    old_columns = ['LocationID','latitude','longitude','zone','borough']\n",
    "    new_columns_pickup = ['DOLocationID', 'pickup_latitude','pickup_longitude',\n",
    "                          'zones_pickup_location','borough_pickup_location']\n",
    "    new_columns_dropoff = ['PULocationID', 'dropoff_latitude','dropoff_longitude',\n",
    "                           'zones_dropoff_location','borough_dropoff_location']\n",
    "    zones_pickup = renameCols(df, old_columns, new_columns_pickup)\n",
    "    zones_dropoff = renameCols(df, old_columns, new_columns_dropoff)\n",
    "    return zones_pickup, zones_dropoff\n",
    "\n",
    "# Join trips data with df_zones in order to have longitudes and latitudes\n",
    "def JoinData(df,zones_pickup, zones_dropoff):\n",
    "    df=df.join(zones_pickup,[\"DOLocationID\"])\n",
    "    df=df.join(zones_dropoff,[\"PULocationID\"])\n",
    "    return df\n",
    "\n",
    "zones_pickup , zones_dropoff = renameData(df_yel)\n",
    "data_tot = JoinData(df_yel, zones_pickup, zones_dropoff)\n",
    "data_tot.show()"
   ]
  },
  {
   "cell_type": "code",
   "execution_count": 17,
   "id": "2a306a6e",
   "metadata": {},
   "outputs": [
    {
     "ename": "AnalysisException",
     "evalue": "[UNRESOLVED_COLUMN.WITH_SUGGESTION] A column or function parameter with name `pickup_latitude` cannot be resolved. Did you mean one of the following? [`VendorID`, `tpep_pickup_datetime`, `tpep_dropoff_datetime`, `passenger_count`, `trip_distance`, `RatecodeID`, `store_and_fwd_flag`, `PULocationID`, `DOLocationID`, `payment_type`, `fare_amount`, `extra`, `mta_tax`, `tip_amount`, `tolls_amount`, `improvement_surcharge`, `total_amount`, `congestion_surcharge`, `airport_fee`].",
     "output_type": "error",
     "traceback": [
      "\u001b[0;31m---------------------------------------------------------------------------\u001b[0m",
      "\u001b[0;31mAnalysisException\u001b[0m                         Traceback (most recent call last)",
      "\u001b[0;32m/tmp/ipykernel_37088/3184664268.py\u001b[0m in \u001b[0;36m<module>\u001b[0;34m\u001b[0m\n\u001b[1;32m     11\u001b[0m                   (df_yel['dropoff_longitude'] <= 40.90)]\n\u001b[1;32m     12\u001b[0m \u001b[0;34m\u001b[0m\u001b[0m\n\u001b[0;32m---> 13\u001b[0;31m \u001b[0mdf_yel_filtered\u001b[0m \u001b[0;34m=\u001b[0m \u001b[0mfilterData\u001b[0m\u001b[0;34m(\u001b[0m\u001b[0mdf_yel\u001b[0m\u001b[0;34m)\u001b[0m\u001b[0;34m\u001b[0m\u001b[0;34m\u001b[0m\u001b[0m\n\u001b[0m",
      "\u001b[0;32m/tmp/ipykernel_37088/3184664268.py\u001b[0m in \u001b[0;36mfilterData\u001b[0;34m(df_yel)\u001b[0m\n\u001b[1;32m      2\u001b[0m \u001b[0;32mdef\u001b[0m \u001b[0mfilterData\u001b[0m\u001b[0;34m(\u001b[0m\u001b[0mdf_yel\u001b[0m\u001b[0;34m)\u001b[0m\u001b[0;34m:\u001b[0m\u001b[0;34m\u001b[0m\u001b[0;34m\u001b[0m\u001b[0m\n\u001b[1;32m      3\u001b[0m \u001b[0;34m\u001b[0m\u001b[0m\n\u001b[0;32m----> 4\u001b[0;31m     return df_yel[(df_yel['pickup_latitude'] >= -74.10) & \n\u001b[0m\u001b[1;32m      5\u001b[0m                   \u001b[0;34m(\u001b[0m\u001b[0mdf_yel\u001b[0m\u001b[0;34m[\u001b[0m\u001b[0;34m'pickup_latitude'\u001b[0m\u001b[0;34m]\u001b[0m \u001b[0;34m<=\u001b[0m \u001b[0;34m-\u001b[0m\u001b[0;36m73.70\u001b[0m\u001b[0;34m)\u001b[0m \u001b[0;34m&\u001b[0m\u001b[0;34m\u001b[0m\u001b[0;34m\u001b[0m\u001b[0m\n\u001b[1;32m      6\u001b[0m                   \u001b[0;34m(\u001b[0m\u001b[0mdf_yel\u001b[0m\u001b[0;34m[\u001b[0m\u001b[0;34m'dropoff_latitude'\u001b[0m\u001b[0;34m]\u001b[0m \u001b[0;34m>=\u001b[0m \u001b[0;34m-\u001b[0m\u001b[0;36m74.10\u001b[0m\u001b[0;34m)\u001b[0m \u001b[0;34m&\u001b[0m\u001b[0;34m\u001b[0m\u001b[0;34m\u001b[0m\u001b[0m\n",
      "\u001b[0;32m~/anaconda3/lib/python3.9/site-packages/pyspark/sql/dataframe.py\u001b[0m in \u001b[0;36m__getitem__\u001b[0;34m(self, item)\u001b[0m\n\u001b[1;32m   2926\u001b[0m         \"\"\"\n\u001b[1;32m   2927\u001b[0m         \u001b[0;32mif\u001b[0m \u001b[0misinstance\u001b[0m\u001b[0;34m(\u001b[0m\u001b[0mitem\u001b[0m\u001b[0;34m,\u001b[0m \u001b[0mstr\u001b[0m\u001b[0;34m)\u001b[0m\u001b[0;34m:\u001b[0m\u001b[0;34m\u001b[0m\u001b[0;34m\u001b[0m\u001b[0m\n\u001b[0;32m-> 2928\u001b[0;31m             \u001b[0mjc\u001b[0m \u001b[0;34m=\u001b[0m \u001b[0mself\u001b[0m\u001b[0;34m.\u001b[0m\u001b[0m_jdf\u001b[0m\u001b[0;34m.\u001b[0m\u001b[0mapply\u001b[0m\u001b[0;34m(\u001b[0m\u001b[0mitem\u001b[0m\u001b[0;34m)\u001b[0m\u001b[0;34m\u001b[0m\u001b[0;34m\u001b[0m\u001b[0m\n\u001b[0m\u001b[1;32m   2929\u001b[0m             \u001b[0;32mreturn\u001b[0m \u001b[0mColumn\u001b[0m\u001b[0;34m(\u001b[0m\u001b[0mjc\u001b[0m\u001b[0;34m)\u001b[0m\u001b[0;34m\u001b[0m\u001b[0;34m\u001b[0m\u001b[0m\n\u001b[1;32m   2930\u001b[0m         \u001b[0;32melif\u001b[0m \u001b[0misinstance\u001b[0m\u001b[0;34m(\u001b[0m\u001b[0mitem\u001b[0m\u001b[0;34m,\u001b[0m \u001b[0mColumn\u001b[0m\u001b[0;34m)\u001b[0m\u001b[0;34m:\u001b[0m\u001b[0;34m\u001b[0m\u001b[0;34m\u001b[0m\u001b[0m\n",
      "\u001b[0;32m~/anaconda3/lib/python3.9/site-packages/py4j/java_gateway.py\u001b[0m in \u001b[0;36m__call__\u001b[0;34m(self, *args)\u001b[0m\n\u001b[1;32m   1320\u001b[0m \u001b[0;34m\u001b[0m\u001b[0m\n\u001b[1;32m   1321\u001b[0m         \u001b[0manswer\u001b[0m \u001b[0;34m=\u001b[0m \u001b[0mself\u001b[0m\u001b[0;34m.\u001b[0m\u001b[0mgateway_client\u001b[0m\u001b[0;34m.\u001b[0m\u001b[0msend_command\u001b[0m\u001b[0;34m(\u001b[0m\u001b[0mcommand\u001b[0m\u001b[0;34m)\u001b[0m\u001b[0;34m\u001b[0m\u001b[0;34m\u001b[0m\u001b[0m\n\u001b[0;32m-> 1322\u001b[0;31m         return_value = get_return_value(\n\u001b[0m\u001b[1;32m   1323\u001b[0m             answer, self.gateway_client, self.target_id, self.name)\n\u001b[1;32m   1324\u001b[0m \u001b[0;34m\u001b[0m\u001b[0m\n",
      "\u001b[0;32m~/anaconda3/lib/python3.9/site-packages/pyspark/errors/exceptions/captured.py\u001b[0m in \u001b[0;36mdeco\u001b[0;34m(*a, **kw)\u001b[0m\n\u001b[1;32m    173\u001b[0m                 \u001b[0;31m# Hide where the exception came from that shows a non-Pythonic\u001b[0m\u001b[0;34m\u001b[0m\u001b[0;34m\u001b[0m\u001b[0m\n\u001b[1;32m    174\u001b[0m                 \u001b[0;31m# JVM exception message.\u001b[0m\u001b[0;34m\u001b[0m\u001b[0;34m\u001b[0m\u001b[0m\n\u001b[0;32m--> 175\u001b[0;31m                 \u001b[0;32mraise\u001b[0m \u001b[0mconverted\u001b[0m \u001b[0;32mfrom\u001b[0m \u001b[0;32mNone\u001b[0m\u001b[0;34m\u001b[0m\u001b[0;34m\u001b[0m\u001b[0m\n\u001b[0m\u001b[1;32m    176\u001b[0m             \u001b[0;32melse\u001b[0m\u001b[0;34m:\u001b[0m\u001b[0;34m\u001b[0m\u001b[0;34m\u001b[0m\u001b[0m\n\u001b[1;32m    177\u001b[0m                 \u001b[0;32mraise\u001b[0m\u001b[0;34m\u001b[0m\u001b[0;34m\u001b[0m\u001b[0m\n",
      "\u001b[0;31mAnalysisException\u001b[0m: [UNRESOLVED_COLUMN.WITH_SUGGESTION] A column or function parameter with name `pickup_latitude` cannot be resolved. Did you mean one of the following? [`VendorID`, `tpep_pickup_datetime`, `tpep_dropoff_datetime`, `passenger_count`, `trip_distance`, `RatecodeID`, `store_and_fwd_flag`, `PULocationID`, `DOLocationID`, `payment_type`, `fare_amount`, `extra`, `mta_tax`, `tip_amount`, `tolls_amount`, `improvement_surcharge`, `total_amount`, `congestion_surcharge`, `airport_fee`]."
     ]
    }
   ],
   "source": [
    "# filter data\n",
    "def filterData(df_yel):\n",
    "    \n",
    "    return df_yel[(df_yel['pickup_latitude'] >= -74.10) & \n",
    "                  (df_yel['pickup_latitude'] <= -73.70) & \n",
    "                  (df_yel['dropoff_latitude'] >= -74.10) & \n",
    "                  (df_yel['dropoff_latitude'] <= -73.70) & \n",
    "                  (df_yel['pickup_longitude'] >= 40.58) & \n",
    "                  (df_yel['pickup_longitude'] <= 40.90) & \n",
    "                  (df_yel['dropoff_longitude'] >=40.58) & \n",
    "                  (df_yel['dropoff_longitude'] <= 40.90)]\n",
    "\n",
    "df_yel_filtered = filterData(df_yel)"
   ]
  },
  {
   "cell_type": "code",
   "execution_count": 9,
   "id": "f2c42c53",
   "metadata": {},
   "outputs": [
    {
     "name": "stdout",
     "output_type": "stream",
     "text": [
      "+--------+--------------------+---------------------+---------------+-------------+----------+------------------+------------+------------+------------+-----------+-----+-------+----------+------------+---------------------+------------+--------------------+-----------+\n",
      "|VendorID|tpep_pickup_datetime|tpep_dropoff_datetime|passenger_count|trip_distance|RatecodeID|store_and_fwd_flag|PULocationID|DOLocationID|payment_type|fare_amount|extra|mta_tax|tip_amount|tolls_amount|improvement_surcharge|total_amount|congestion_surcharge|airport_fee|\n",
      "+--------+--------------------+---------------------+---------------+-------------+----------+------------------+------------+------------+------------+-----------+-----+-------+----------+------------+---------------------+------------+--------------------+-----------+\n",
      "|       2| 2019-03-01 00:25:16|  2019-03-01 00:31:39|            5.0|         2.11|       1.0|                 N|         229|         236|           1|        8.0|  0.5|    0.5|       2.0|         0.0|                  0.3|        13.8|                 2.5|       null|\n",
      "|       2| 2019-03-01 00:45:03|  2019-03-01 01:14:25|            1.0|        16.89|       2.0|                 N|         132|         229|           1|       52.0|  0.0|    0.5|     11.06|         0.0|                  0.3|       66.36|                 2.5|       null|\n",
      "|       1| 2019-03-01 00:56:40|  2019-03-01 01:08:23|            1.0|          5.4|       1.0|                 N|         238|         243|           1|       17.5|  3.0|    0.5|      4.25|         0.0|                  0.3|       25.55|                 2.5|       null|\n",
      "|       1| 2019-03-01 00:56:02|  2019-03-01 01:29:57|            1.0|         17.8|       2.0|                 N|         132|          42|           2|       52.0|  0.0|    0.5|       0.0|        5.76|                  0.3|       58.56|                 0.0|       null|\n",
      "|       1| 2019-03-01 00:39:01|  2019-03-01 00:50:43|            1.0|          2.5|       1.0|                 N|         229|         113|           1|       10.5|  3.0|    0.5|      2.85|         0.0|                  0.3|       17.15|                 2.5|       null|\n",
      "|       1| 2019-03-01 00:05:09|  2019-03-01 00:40:39|            1.0|         19.4|       2.0|                 N|         132|         238|           2|       52.0|  2.5|    0.5|       0.0|         0.0|                  0.3|        55.3|                 2.5|       null|\n",
      "|       1| 2019-03-01 00:27:03|  2019-03-01 00:30:18|            2.0|          0.6|       1.0|                 N|         163|         163|           2|        4.5|  3.0|    0.5|       0.0|         0.0|                  0.3|         8.3|                 2.5|       null|\n",
      "|       2| 2019-03-01 00:16:47|  2019-03-01 00:18:38|            1.0|         1.08|       2.0|                 N|         132|         132|           2|       52.0|  0.0|    0.5|       0.0|         0.0|                  0.3|        52.8|                 0.0|       null|\n",
      "|       1| 2019-03-01 00:15:56|  2019-03-01 00:37:44|            1.0|         18.0|       2.0|                 N|         132|          74|           1|       52.0|  0.0|    0.5|       8.0|        5.76|                  0.3|       66.56|                 0.0|       null|\n",
      "|       2| 2019-03-01 00:34:29|  2019-03-01 01:01:26|            2.0|        20.11|       2.0|                 N|         132|          87|           1|       52.0|  0.0|    0.5|     11.06|         0.0|                  0.3|       66.36|                 2.5|       null|\n",
      "|       2| 2019-03-01 00:45:36|  2019-03-01 01:10:45|            1.0|        18.36|       2.0|                 N|         132|         236|           1|       52.0|  0.0|    0.5|     12.21|        5.76|                  0.3|       73.27|                 2.5|       null|\n",
      "|       2| 2019-03-01 00:05:54|  2019-03-01 00:37:23|            1.0|        18.58|       2.0|                 N|         132|         236|           1|       52.0|  0.0|    0.5|       5.0|        5.76|                  0.3|       66.06|                 2.5|       null|\n",
      "|       2| 2019-03-01 00:39:47|  2019-03-01 00:45:43|            4.0|         0.92|       1.0|                 N|         163|         163|           1|        6.0|  0.5|    0.5|      1.96|         0.0|                  0.3|       11.76|                 2.5|       null|\n",
      "|       2| 2019-03-01 00:26:18|  2019-03-01 00:36:57|            1.0|         2.07|       1.0|                 N|         236|         229|           1|        9.5|  0.5|    0.5|      2.66|         0.0|                  0.3|       15.96|                 2.5|       null|\n",
      "|       1| 2019-03-01 00:01:00|  2019-03-01 00:01:05|            1.0|          0.0|       1.0|                 N|         132|         132|           3|        2.5|  0.5|    0.5|       0.0|         0.0|                  0.3|         3.8|                 0.0|       null|\n",
      "|       2| 2019-03-01 00:35:06|  2019-03-01 00:44:18|            1.0|         1.78|       1.0|                 N|         238|         236|           1|        8.5|  0.5|    0.5|      2.46|         0.0|                  0.3|       14.76|                 2.5|       null|\n",
      "|       1| 2019-03-01 00:40:29|  2019-03-01 00:47:35|            1.0|          2.0|       1.0|                 N|         238|         236|           1|        8.5|  3.0|    0.5|      2.45|         0.0|                  0.3|       14.75|                 2.5|       null|\n",
      "|       1| 2019-03-01 00:01:48|  2019-03-01 00:36:10|            1.0|         18.4|       2.0|                 N|         132|         163|           1|       52.0|  2.5|    0.5|     15.25|        5.76|                  0.3|       76.31|                 2.5|       null|\n",
      "|       2| 2019-03-01 00:24:12|  2019-03-01 00:25:08|            1.0|         0.45|       1.0|                 N|         238|         238|           1|        3.5|  0.5|    0.5|      1.46|         0.0|                  0.3|        8.76|                 2.5|       null|\n",
      "|       2| 2019-03-01 00:15:16|  2019-03-01 00:21:39|            3.0|         1.28|       1.0|                 N|         236|         238|           1|        7.0|  0.5|    0.5|      2.16|         0.0|                  0.3|       12.96|                 2.5|       null|\n",
      "+--------+--------------------+---------------------+---------------+-------------+----------+------------------+------------+------------+------------+-----------+-----+-------+----------+------------+---------------------+------------+--------------------+-----------+\n",
      "only showing top 20 rows\n",
      "\n"
     ]
    }
   ],
   "source": [
    "df_yel_filtered.show()"
   ]
  },
  {
   "cell_type": "code",
<<<<<<< HEAD
   "execution_count": 8,
=======
   "execution_count": 10,
>>>>>>> 40a8c522268f7a6410f41176699d255c1909bfde
   "id": "43ad8363",
   "metadata": {},
   "outputs": [
    {
     "name": "stderr",
     "output_type": "stream",
     "text": [
      "\r",
      "[Stage 8:===================================================>       (7 + 1) / 8]\r"
     ]
    },
    {
     "name": "stdout",
     "output_type": "stream",
     "text": [
      "+---------------+------+\n",
      "|passenger_count| count|\n",
      "+---------------+------+\n",
      "|            8.0|     2|\n",
      "|            0.0|  4424|\n",
      "|            7.0|     3|\n",
      "|           null|   240|\n",
      "|            1.0|169541|\n",
      "|            4.0|  3983|\n",
      "|            3.0|  9298|\n",
      "|            2.0| 34983|\n",
      "|            6.0|  6151|\n",
      "|            5.0| 10155|\n",
      "|            9.0|     3|\n",
      "+---------------+------+\n",
      "\n"
     ]
    },
    {
     "name": "stderr",
     "output_type": "stream",
     "text": [
      "\r",
      "                                                                                \r"
     ]
    },
    {
     "data": {
      "text/plain": [
       "pyspark.sql.dataframe.DataFrame"
      ]
     },
     "execution_count": 10,
     "metadata": {},
     "output_type": "execute_result"
    }
   ],
   "source": [
    "#  Count the number of trips for each value of passenger_count\n",
    "df_passenger=df_yel_filtered.groupby('passenger_count').count()\n",
    "df_passenger.show()\n",
    "type(df_passenger)"
   ]
  },
  {
   "cell_type": "code",
   "execution_count": null,
   "id": "fa449e96",
   "metadata": {},
   "outputs": [],
   "source": []
  },
  {
   "cell_type": "markdown",
   "id": "2ab004fc",
   "metadata": {},
   "source": []
  },
  {
   "cell_type": "code",
<<<<<<< HEAD
   "execution_count": 17,
=======
   "execution_count": 11,
>>>>>>> 40a8c522268f7a6410f41176699d255c1909bfde
   "id": "70b7479d",
   "metadata": {},
   "outputs": [
    {
<<<<<<< HEAD
     "data": {
      "image/png": "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\n",
=======
     "name": "stderr",
     "output_type": "stream",
     "text": [
      "\r",
      "[Stage 11:==================================================>       (7 + 1) / 8]\r",
      "\r",
      "                                                                                \r"
     ]
    },
    {
     "data": {
      "image/png": "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\n",
>>>>>>> 40a8c522268f7a6410f41176699d255c1909bfde
      "text/plain": [
       "<Figure size 432x288 with 1 Axes>"
      ]
     },
     "metadata": {
      "needs_background": "light"
     },
     "output_type": "display_data"
    }
   ],
   "source": [
    "# Create a bar plot\n",
    "import seaborn as sns\n",
    "import matplotlib.pyplot as plt\n",
    "\n",
    "# Plot the trip counts\n",
    "df_passenger_pd = df_passenger.toPandas()\n",
    "plt.bar(df_passenger_pd[\"passenger_count\"], df_passenger_pd[\"count\"])\n",
    "plt.xlabel(\"Passenger Count\")\n",
    "plt.ylabel(\"Number of Trips\")\n",
    "plt.title(\"Number of Trips by Passenger Count\")\n",
    "plt.show()"
   ]
  },
  {
   "cell_type": "markdown",
   "id": "b70a4554",
   "metadata": {},
   "source": [
    "1. What’s special with trips with zero passengers?"
   ]
  },
  {
   "cell_type": "code",
<<<<<<< HEAD
   "execution_count": 18,
=======
   "execution_count": 12,
>>>>>>> 40a8c522268f7a6410f41176699d255c1909bfde
   "id": "df75f6be",
   "metadata": {},
   "outputs": [
    {
     "data": {
      "text/plain": [
       "DataFrame[VendorID: bigint, tpep_pickup_datetime: timestamp_ntz, tpep_dropoff_datetime: timestamp_ntz, passenger_count: double, trip_distance: double, RatecodeID: double, store_and_fwd_flag: string, PULocationID: bigint, DOLocationID: bigint, payment_type: bigint, fare_amount: double, extra: double, mta_tax: double, tip_amount: double, tolls_amount: double, improvement_surcharge: double, total_amount: double, congestion_surcharge: double, airport_fee: int]"
      ]
     },
     "execution_count": 12,
     "metadata": {},
     "output_type": "execute_result"
    }
   ],
   "source": [
    "# Filter the data for trips with zero passengers\n",
    "zero_passenger_data = df_yel_filtered.filter(col(\"passenger_count\") == 0)\n",
    "zero_passenger_data\n",
    "\n"
   ]
  },
  {
   "cell_type": "markdown",
   "id": "0bf23bd2",
   "metadata": {},
   "source": [
    "2. What’s special with trips with more than 6 passengers?\n"
   ]
  },
  {
   "cell_type": "code",
<<<<<<< HEAD
   "execution_count": 19,
=======
   "execution_count": 13,
>>>>>>> 40a8c522268f7a6410f41176699d255c1909bfde
   "id": "151a9042",
   "metadata": {
    "scrolled": true
   },
   "outputs": [
    {
     "name": "stdout",
     "output_type": "stream",
     "text": [
      "+--------+--------------------+---------------------+---------------+-------------+----------+------------------+------------+------------+------------+-----------+-----+-------+----------+------------+---------------------+------------+--------------------+-----------+\n",
      "|VendorID|tpep_pickup_datetime|tpep_dropoff_datetime|passenger_count|trip_distance|RatecodeID|store_and_fwd_flag|PULocationID|DOLocationID|payment_type|fare_amount|extra|mta_tax|tip_amount|tolls_amount|improvement_surcharge|total_amount|congestion_surcharge|airport_fee|\n",
      "+--------+--------------------+---------------------+---------------+-------------+----------+------------------+------------+------------+------------+-----------+-----+-------+----------+------------+---------------------+------------+--------------------+-----------+\n",
      "|       2| 2019-03-01 00:25:16|  2019-03-01 00:31:39|            5.0|         2.11|       1.0|                 N|         229|         236|           1|        8.0|  0.5|    0.5|       2.0|         0.0|                  0.3|        13.8|                 2.5|       null|\n",
      "|       2| 2019-03-01 00:45:03|  2019-03-01 01:14:25|            1.0|        16.89|       2.0|                 N|         132|         229|           1|       52.0|  0.0|    0.5|     11.06|         0.0|                  0.3|       66.36|                 2.5|       null|\n",
      "|       1| 2019-03-01 00:56:40|  2019-03-01 01:08:23|            1.0|          5.4|       1.0|                 N|         238|         243|           1|       17.5|  3.0|    0.5|      4.25|         0.0|                  0.3|       25.55|                 2.5|       null|\n",
      "|       1| 2019-03-01 00:56:02|  2019-03-01 01:29:57|            1.0|         17.8|       2.0|                 N|         132|          42|           2|       52.0|  0.0|    0.5|       0.0|        5.76|                  0.3|       58.56|                 0.0|       null|\n",
      "|       2| 2019-03-01 00:18:31|  2019-03-01 00:28:04|            1.0|          2.3|       1.0|                 N|         238|          75|           2|        9.5|  0.5|    0.5|       0.0|         0.0|                  0.3|        13.3|                 2.5|       null|\n",
      "|       1| 2019-03-01 00:39:01|  2019-03-01 00:50:43|            1.0|          2.5|       1.0|                 N|         229|         113|           1|       10.5|  3.0|    0.5|      2.85|         0.0|                  0.3|       17.15|                 2.5|       null|\n",
      "|       1| 2019-03-01 00:05:09|  2019-03-01 00:40:39|            1.0|         19.4|       2.0|                 N|         132|         238|           2|       52.0|  2.5|    0.5|       0.0|         0.0|                  0.3|        55.3|                 2.5|       null|\n",
      "|       1| 2019-03-01 00:27:03|  2019-03-01 00:30:18|            2.0|          0.6|       1.0|                 N|         163|         163|           2|        4.5|  3.0|    0.5|       0.0|         0.0|                  0.3|         8.3|                 2.5|       null|\n",
      "|       2| 2019-03-01 00:16:47|  2019-03-01 00:18:38|            1.0|         1.08|       2.0|                 N|         132|         132|           2|       52.0|  0.0|    0.5|       0.0|         0.0|                  0.3|        52.8|                 0.0|       null|\n",
      "|       1| 2019-03-01 00:38:51|  2019-03-01 00:40:12|            1.0|          0.6|       1.0|                 N|          75|          75|           2|        3.5|  0.5|    0.5|       0.0|         0.0|                  0.3|         4.8|                 0.0|       null|\n",
      "|       1| 2019-03-01 00:05:05|  2019-03-01 00:08:42|            1.0|          1.0|       1.0|                 N|         236|          75|           1|        5.0|  3.0|    0.5|      1.75|         0.0|                  0.3|       10.55|                 2.5|       null|\n",
      "|       2| 2019-03-01 00:34:29|  2019-03-01 01:01:26|            2.0|        20.11|       2.0|                 N|         132|          87|           1|       52.0|  0.0|    0.5|     11.06|         0.0|                  0.3|       66.36|                 2.5|       null|\n",
      "|       2| 2019-03-01 00:45:36|  2019-03-01 01:10:45|            1.0|        18.36|       2.0|                 N|         132|         236|           1|       52.0|  0.0|    0.5|     12.21|        5.76|                  0.3|       73.27|                 2.5|       null|\n",
      "|       2| 2019-03-01 00:05:54|  2019-03-01 00:37:23|            1.0|        18.58|       2.0|                 N|         132|         236|           1|       52.0|  0.0|    0.5|       5.0|        5.76|                  0.3|       66.06|                 2.5|       null|\n",
      "|       2| 2019-03-01 00:39:47|  2019-03-01 00:45:43|            4.0|         0.92|       1.0|                 N|         163|         163|           1|        6.0|  0.5|    0.5|      1.96|         0.0|                  0.3|       11.76|                 2.5|       null|\n",
      "|       2| 2019-03-01 00:26:18|  2019-03-01 00:36:57|            1.0|         2.07|       1.0|                 N|         236|         229|           1|        9.5|  0.5|    0.5|      2.66|         0.0|                  0.3|       15.96|                 2.5|       null|\n",
      "|       2| 2019-03-01 00:46:48|  2019-03-01 00:56:34|            1.0|         2.39|       1.0|                 N|         163|          75|           2|        9.5|  0.5|    0.5|       0.0|         0.0|                  0.3|        13.3|                 2.5|       null|\n",
      "|       1| 2019-03-01 00:01:00|  2019-03-01 00:01:05|            1.0|          0.0|       1.0|                 N|         132|         132|           3|        2.5|  0.5|    0.5|       0.0|         0.0|                  0.3|         3.8|                 0.0|       null|\n",
      "|       2| 2019-03-01 00:35:06|  2019-03-01 00:44:18|            1.0|         1.78|       1.0|                 N|         238|         236|           1|        8.5|  0.5|    0.5|      2.46|         0.0|                  0.3|       14.76|                 2.5|       null|\n",
      "|       1| 2019-03-01 00:40:29|  2019-03-01 00:47:35|            1.0|          2.0|       1.0|                 N|         238|         236|           1|        8.5|  3.0|    0.5|      2.45|         0.0|                  0.3|       14.75|                 2.5|       null|\n",
      "+--------+--------------------+---------------------+---------------+-------------+----------+------------------+------------+------------+------------+-----------+-----+-------+----------+------------+---------------------+------------+--------------------+-----------+\n",
      "only showing top 20 rows\n",
      "\n"
     ]
    }
   ],
   "source": [
    "more_passenger_data = df_yel_filtered.filter(col(\"passenger_count\") > 6)\n",
    "df_yel_filtered.show()"
   ]
  },
  {
   "cell_type": "markdown",
   "id": "6cc9852d",
   "metadata": {},
   "source": [
    "3. What is the largest distance travelled during this month? Is it the first taxi on the moon?"
   ]
  },
  {
   "cell_type": "code",
<<<<<<< HEAD
   "execution_count": 20,
=======
   "execution_count": 14,
>>>>>>> 40a8c522268f7a6410f41176699d255c1909bfde
   "id": "9f6a2ed2",
   "metadata": {},
   "outputs": [
    {
     "name": "stderr",
     "output_type": "stream",
     "text": [
      "\r",
<<<<<<< HEAD
      "[Stage 15:==================================================>       (7 + 1) / 8]\r"
=======
      "[Stage 16:==================================================>       (7 + 1) / 8]\r",
      "\r",
      "                                                                                \r"
>>>>>>> 40a8c522268f7a6410f41176699d255c1909bfde
     ]
    },
    {
     "name": "stdout",
     "output_type": "stream",
     "text": [
      "The largest distance travelled during this month is:  106.9 milles\n"
     ]
    }
   ],
   "source": [
    "max_distance = df_yel_filtered.selectExpr(\"MAX(trip_distance) AS max_distance\").collect()[0][\"max_distance\"]\n",
    "print(\"The largest distance travelled during this month is: \" ,max_distance, \"milles\")"
   ]
  },
  {
   "cell_type": "markdown",
   "id": "acadbbb3",
   "metadata": {},
   "source": [
    "4. Plot the distribution of the trip_distance (using an histogram for instance) during year 2019. Focus on trips with non-zero trip distance and trip distance less than 30 miles."
   ]
  },
  {
   "cell_type": "code",
<<<<<<< HEAD
   "execution_count": 21,
=======
   "execution_count": 15,
>>>>>>> 40a8c522268f7a6410f41176699d255c1909bfde
   "id": "2b20ee8d",
   "metadata": {},
   "outputs": [
    {
     "name": "stderr",
     "output_type": "stream",
     "text": [
      "\r",
      "[Stage 18:==================================================>       (7 + 1) / 8]\r",
      "\r",
      "                                                                                \r"
     ]
    },
    {
     "data": {
<<<<<<< HEAD
      "image/png": "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\n",
=======
      "image/png": "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\n",
>>>>>>> 40a8c522268f7a6410f41176699d255c1909bfde
      "text/plain": [
       "<Figure size 432x288 with 1 Axes>"
      ]
     },
     "metadata": {
      "needs_background": "light"
     },
     "output_type": "display_data"
    }
   ],
   "source": [
    "# Filter the data for non-zero trip distances less than 30 miles\n",
    "yel_filtered_data = df_yel_filtered.filter((col(\"trip_distance\") > 0) & (col(\"trip_distance\") < 30))\n",
    "\n",
    "# Convert the filtered data to a Pandas DataFrame for plotting\n",
    "yel_filtered_data = yel_filtered_data.select(\"trip_distance\").toPandas()\n",
    "\n",
    "# Plot the distribution of trip distances\n",
    "plt.hist(yel_filtered_data[\"trip_distance\"], bins=30, edgecolor=\"black\")\n",
    "plt.xlabel(\"Trip Distance (miles)\")\n",
    "plt.ylabel(\"Frequency\")\n",
    "plt.title(\"Distribution of Trip Distances (2019)\")\n",
    "plt.show()"
   ]
  },
  {
   "cell_type": "markdown",
   "id": "05c1c732",
   "metadata": {},
   "source": [
    "1. Use the explain method or have a look at the Spark UI to analyze the job."
   ]
  },
  {
   "cell_type": "code",
<<<<<<< HEAD
   "execution_count": 14,
=======
   "execution_count": 16,
>>>>>>> 40a8c522268f7a6410f41176699d255c1909bfde
   "id": "c3b810f0",
   "metadata": {},
   "outputs": [
    {
     "name": "stdout",
     "output_type": "stream",
     "text": [
      "== Physical Plan ==\n",
<<<<<<< HEAD
      "*(1) Filter (PULocationID#7L INSET 1, 113, 132, 163, 229, 236, 238, 243, 42, 74, 87 AND DOLocationID#8L INSET 1, 113, 132, 163, 229, 236, 238, 243, 42, 74, 87)\n",
      "+- *(1) ColumnarToRow\n",
      "   +- FileScan parquet [VendorID#0L,tpep_pickup_datetime#1,tpep_dropoff_datetime#2,passenger_count#3,trip_distance#4,RatecodeID#5,store_and_fwd_flag#6,PULocationID#7L,DOLocationID#8L,payment_type#9L,fare_amount#10,extra#11,mta_tax#12,tip_amount#13,tolls_amount#14,improvement_surcharge#15,total_amount#16,congestion_surcharge#17,airport_fee#18] Batched: true, DataFilters: [PULocationID#7L INSET 1, 113, 132, 163, 229, 236, 238, 243, 42, 74, 87, DOLocationID#8L INSET 1,..., Format: Parquet, Location: InMemoryFileIndex(1 paths)[file:/home/marius/Téléchargements/yellow_tripdata_2019-03.parquet], PartitionFilters: [], PushedFilters: [In(PULocationID, [1,113,132,163,229,236,238,243,42,74,87]), In(DOLocationID, [1,113,132,163,229,..., ReadSchema: struct<VendorID:bigint,tpep_pickup_datetime:timestamp_ntz,tpep_dropoff_datetime:timestamp_ntz,pas...\n",
=======
      "*(1) Filter (PULocationID#59L INSET 1, 113, 132, 163, 229, 236, 238, 243, 42, 75, 87 AND DOLocationID#60L INSET 1, 113, 132, 163, 229, 236, 238, 243, 42, 75, 87)\n",
      "+- *(1) ColumnarToRow\n",
      "   +- FileScan parquet [VendorID#52L,tpep_pickup_datetime#53,tpep_dropoff_datetime#54,passenger_count#55,trip_distance#56,RatecodeID#57,store_and_fwd_flag#58,PULocationID#59L,DOLocationID#60L,payment_type#61L,fare_amount#62,extra#63,mta_tax#64,tip_amount#65,tolls_amount#66,improvement_surcharge#67,total_amount#68,congestion_surcharge#69,airport_fee#70] Batched: true, DataFilters: [PULocationID#59L INSET 1, 113, 132, 163, 229, 236, 238, 243, 42, 75, 87, DOLocationID#60L INSET ..., Format: Parquet, Location: InMemoryFileIndex(1 paths)[file:/home/edouard/Documents/Big Data/yellow_tripdata_2019-03.parquet], PartitionFilters: [], PushedFilters: [In(PULocationID, [1,113,132,163,229,236,238,243,42,75,87]), In(DOLocationID, [1,113,132,163,229,..., ReadSchema: struct<VendorID:bigint,tpep_pickup_datetime:timestamp_ntz,tpep_dropoff_datetime:timestamp_ntz,pas...\n",
>>>>>>> 40a8c522268f7a6410f41176699d255c1909bfde
      "\n",
      "\n"
     ]
    }
   ],
   "source": [
    "df_yel_filtered.explain()"
   ]
  },
  {
   "cell_type": "markdown",
   "id": "ebdcb500",
   "metadata": {},
   "source": [
    "2. *Compare the Analyzed Logical Plan and Optimized Logical Plan: \n",
    "Analyzed Logical Plan: This plan represents the logical operations after the analysis phase, where Spark resolves references, applies type checking, and performs other logical optimizations. Optimized Logical Plan: This plan represents the logical operations after further optimization, such as predicate pushdown, column pruning, or constant folding.*\n"
   ]
  },
  {
   "cell_type": "markdown",
   "id": "9541da4e",
   "metadata": {},
   "source": [
    "3. *Compare the Physical Plan with the Optimized Logical Plan: Physical Plan: \n",
    "This plan describes the actual execution strategy that Spark will use to process the query. It includes details about how the data will be read, transformed, and distributed across the worker nodes. 3-2. Keywords and concepts in the Physical Plan that you would not expect in an RDBMS include: Shuffle: This keyword indicates data shuffling, which involves redistributing data across partitions or nodes, often required for operations like joins or aggregations. Exchange: This keyword represents the exchange of data between partitions or nodes. Sort: This keyword indicates sorting operations performed during the query execution. Broadcast: This keyword represents the broadcasting of small data to all worker nodes, typically used in join operations. Code generation: This indicates that Spark generates code dynamically for specific operations to improve performance. In an RDBMS, the physical plan might involve index scans, table scans, join algorithms, and disk-based operations. The specific keywords and concepts may vary depending on the RDBMS implementation.*"
   ]
  },
  {
   "cell_type": "markdown",
   "id": "5ec1116b",
   "metadata": {},
   "source": [
    "4. Tasks in Spark refer to the individual units of work performed on the data. Each task processes a subset of the data and is executed on a single partition of a stage. The number of tasks within each stage may vary depending on the size of the data and the available resources. You can find the number of tasks for each stage in the Spark UI under the \"Stages\" tab."
   ]
  },
  {
   "cell_type": "markdown",
   "id": "13f4d24e",
   "metadata": {},
   "source": [
    "1. Break down the trip distance distribution for each day of week"
   ]
  },
  {
   "cell_type": "code",
<<<<<<< HEAD
   "execution_count": 22,
   "id": "4f9613ad",
   "metadata": {},
=======
   "execution_count": 21,
   "id": "ffa9ed23",
   "metadata": {
    "scrolled": true
   },
>>>>>>> 40a8c522268f7a6410f41176699d255c1909bfde
   "outputs": [
    {
     "ename": "PySparkTypeError",
     "evalue": "[NOT_COLUMN] Argument `col` should be a Column, got str.",
     "output_type": "error",
     "traceback": [
      "\u001b[0;31m---------------------------------------------------------------------------\u001b[0m",
      "\u001b[0;31mPySparkTypeError\u001b[0m                          Traceback (most recent call last)",
      "\u001b[0;32m/tmp/ipykernel_68771/3628530458.py\u001b[0m in \u001b[0;36m<module>\u001b[0;34m\u001b[0m\n\u001b[1;32m      1\u001b[0m \u001b[0;32mimport\u001b[0m \u001b[0mpandas\u001b[0m \u001b[0;32mas\u001b[0m \u001b[0mpd\u001b[0m\u001b[0;34m\u001b[0m\u001b[0;34m\u001b[0m\u001b[0m\n\u001b[1;32m      2\u001b[0m \u001b[0;31m# Extract the day of the week from the pickup datetime\u001b[0m\u001b[0;34m\u001b[0m\u001b[0;34m\u001b[0m\u001b[0m\n\u001b[0;32m----> 3\u001b[0;31m \u001b[0mdf_with_day_of_week\u001b[0m \u001b[0;34m=\u001b[0m \u001b[0mdf_yel_filtered\u001b[0m\u001b[0;34m.\u001b[0m\u001b[0mwithColumn\u001b[0m\u001b[0;34m(\u001b[0m\u001b[0;34m'pickup_day_of_week'\u001b[0m\u001b[0;34m,\u001b[0m \u001b[0;34m'tpep_pickup_datetime'\u001b[0m\u001b[0;34m)\u001b[0m\u001b[0;34m\u001b[0m\u001b[0;34m\u001b[0m\u001b[0m\n\u001b[0m\u001b[1;32m      4\u001b[0m \u001b[0;34m\u001b[0m\u001b[0m\n\u001b[1;32m      5\u001b[0m \u001b[0;31m# Group by day of the week and calculate the distribution of trip distances\u001b[0m\u001b[0;34m\u001b[0m\u001b[0;34m\u001b[0m\u001b[0m\n",
      "\u001b[0;32m~/.local/lib/python3.10/site-packages/pyspark/sql/dataframe.py\u001b[0m in \u001b[0;36mwithColumn\u001b[0;34m(self, colName, col)\u001b[0m\n\u001b[1;32m   4783\u001b[0m         \"\"\"\n\u001b[1;32m   4784\u001b[0m         \u001b[0;32mif\u001b[0m \u001b[0;32mnot\u001b[0m \u001b[0misinstance\u001b[0m\u001b[0;34m(\u001b[0m\u001b[0mcol\u001b[0m\u001b[0;34m,\u001b[0m \u001b[0mColumn\u001b[0m\u001b[0;34m)\u001b[0m\u001b[0;34m:\u001b[0m\u001b[0;34m\u001b[0m\u001b[0;34m\u001b[0m\u001b[0m\n\u001b[0;32m-> 4785\u001b[0;31m             raise PySparkTypeError(\n\u001b[0m\u001b[1;32m   4786\u001b[0m                 \u001b[0merror_class\u001b[0m\u001b[0;34m=\u001b[0m\u001b[0;34m\"NOT_COLUMN\"\u001b[0m\u001b[0;34m,\u001b[0m\u001b[0;34m\u001b[0m\u001b[0;34m\u001b[0m\u001b[0m\n\u001b[1;32m   4787\u001b[0m                 \u001b[0mmessage_parameters\u001b[0m\u001b[0;34m=\u001b[0m\u001b[0;34m{\u001b[0m\u001b[0;34m\"arg_name\"\u001b[0m\u001b[0;34m:\u001b[0m \u001b[0;34m\"col\"\u001b[0m\u001b[0;34m,\u001b[0m \u001b[0;34m\"arg_type\"\u001b[0m\u001b[0;34m:\u001b[0m \u001b[0mtype\u001b[0m\u001b[0;34m(\u001b[0m\u001b[0mcol\u001b[0m\u001b[0;34m)\u001b[0m\u001b[0;34m.\u001b[0m\u001b[0m__name__\u001b[0m\u001b[0;34m}\u001b[0m\u001b[0;34m,\u001b[0m\u001b[0;34m\u001b[0m\u001b[0;34m\u001b[0m\u001b[0m\n",
      "\u001b[0;31mPySparkTypeError\u001b[0m: [NOT_COLUMN] Argument `col` should be a Column, got str."
     ]
<<<<<<< HEAD
    },
    {
     "data": {
      "image/png": "iVBORw0KGgoAAAANSUhEUgAAAqYAAAIhCAYAAACcznj/AAAAOXRFWHRTb2Z0d2FyZQBNYXRwbG90bGliIHZlcnNpb24zLjUuMiwgaHR0cHM6Ly9tYXRwbG90bGliLm9yZy8qNh9FAAAACXBIWXMAAA9hAAAPYQGoP6dpAABHEUlEQVR4nO3dd3hUZeL28XvSC4TeCRDpvYoQQAihhSa4IApIENEVEFCKCLuKIoqwS1EUBFaDICKiNFHAgCQ0YenSFgsloUQRpCRAJMnz/uGb+TkkYAYnziHz/VzXXBdzzplz7jkhyZ3nlLEZY4wAAAAAN/NydwAAAABAopgCAADAIiimAAAAsASKKQAAACyBYgoAAABLoJgCAADAEiimAAAAsASKKQAAACyBYgoAAABLoJjirjd//nzZbDaHR7FixdSqVSutXr3abblOnDghm82mf//733f0+sz3deLECdcGs4C9e/eqZcuWKlCggGw2m2bMmJFlmf79+2f5umb36N+/f7bbyI3916pVK/t2vby8lD9/flWqVEk9e/bUJ598ooyMjCyvqVChwi0z3sq2bdv00ksv6eLFi64J7mYvvfSSbDabfv7551zdzs3/Z4KDg1WhQgV17dpVMTExSk1NzdXtu8KGDRvUqFEjBQcHy2azacWKFVmWOXfunLy8vDRo0KAs84YPHy6bzaaxY8dmmff444/L29tbv/zyi8tzx8XFyWaz6ZNPPnH5uuFZfNwdAHCVmJgYVatWTcYYJSUl6a233lKXLl20atUqdenSxd3x8DsDBgxQSkqKPvroIxUqVEgVKlTIsswLL7ygp556yv58z549GjJkiF577TVFRETYpxcrVizbbXTq1Elff/21SpUq5dLs99xzjxYtWiRJSklJ0fHjx7VixQr17NlTLVq00GeffaYCBQrYl1++fLlCQkKc2sa2bdv08ssvq3///ipYsKAr4+d5gYGB+uqrryRJ165dU2JiotasWaMnnnhCU6dO1dq1a1W2bFk3p8yeMUYPPfSQqlSpolWrVik4OFhVq1bNslyxYsVUs2ZNbdy4Mcu8uLg4BQcH33JevXr1VKhQoVzJD7gCxRR5Rq1atdSoUSP78w4dOqhQoUJavHjxbYtpenq60tLS5O/v/1fEhKSDBw/qiSeeUFRU1C2XqVixoipWrGh/fv36dUlS5cqV1aRJk1u+7tq1awoICFCxYsVuWVr/jMDAwCzbHzhwoGJiYjRgwAA9+eSTWrJkiX1e/fr1XZ4Bt+bl5ZXl69OvXz899thj6ty5s3r06KHt27e7Kd3tnTlzRhcuXFD37t0VGRl522UjIiI0c+ZMJSUlqWTJkpKkCxcu6MCBAxo5cqRmzJihK1euKH/+/JKkU6dO6dixYxo5cmSuvw/gz+BQPvKsgIAA+fn5ydfX1z4t8/D6lClTNHHiRIWFhcnf398+urBr1y517dpVhQsXVkBAgOrXr6+PP/7YYb3nzp3T4MGDVaNGDeXLl0/FixdX69attXnz5j/MdOPGDUVHRytfvnwOpxls375dzZo1U0BAgEqXLq2xY8fqxo0bWV6fkZGhKVOmqFq1avL391fx4sXVr18/nTp1yr7M22+/LS8vL/3000/2aVOnTpXNZtOQIUMc1lWoUCH7L6rfn3owbdo0hYWFKV++fGratGmOf5EfPHhQDzzwgAoVKqSAgADVq1dP77//vn1+5uH1tLQ0zZ49237I9U5lru/LL7/UgAEDVKxYMQUFBSk1NTXbQ/mtWrVSrVq1tHnzZjVp0kSBgYEqU6aMXnjhBaWnp99xDkl67LHH1LFjRy1dulQnT560T7/5UH5GRoYmTpyoqlWrKjAwUAULFlSdOnX0xhtvSPrtsPfo0aMlSWFhYfZ9FBcXJ0lasmSJ2rVrp1KlSikwMFDVq1fX888/r5SUFIc8/fv3V758+fT999+rY8eOypcvn0JDQzVy5Mgsh7RTU1M1YcIEVa9eXQEBASpSpIgiIiK0bds2+zLGGM2aNUv16tVTYGCgChUqpB49eujYsWM53keJiYl68MEHFRISogIFCqhv3746d+6cff7jjz+uwoUL6+rVq1le27p1a9WsWTPH27pZu3bt9MQTT2jHjh3atGmTfXpO9ufChQtls9n09ddfZ1nvhAkT5OvrqzNnztx2+1u2bFFkZKTy58+voKAghYeH6/PPP7fPf+mll+wjuWPGjJHNZsv2SEKmzKMGmf8vJCk+Pl4+Pj4aNWqUJDn8TMr8Gff7ow3r169XZGSkQkJCFBQUpGbNmmnDhg1ZtvXdd9+pd+/eKl68uPz9/VW9enW9/fbbt32/knT58mW1b99eJUqU0H//+98/XB6QKKbIQzJHPm/cuKFTp07pmWeeUUpKinr37p1l2TfffFNfffWV/v3vf2vNmjWqVq2aNm7cqGbNmunixYt65513tHLlStWrV0+9evXS/Pnz7a+9cOGCJGn8+PH6/PPPFRMTo3vuuUetWrVy+CVxs4sXL6p9+/b68ssvFR8fr86dO0uSDh8+rMjISF28eFHz58/XO++8o71792rixIlZ1jFo0CCNGTNGbdu21apVq/TKK69o7dq1Cg8Pt5+/16ZNGxljHH7BrF+/XoGBgYqNjbVP27Vrly5evKg2bdo4bOPtt99WbGysZsyYoUWLFiklJUUdO3bUpUuXbrv/jx49qvDwcB06dEhvvvmmli1bpho1aqh///6aMmWKpP87vC5JPXr00Ndff53tL3tnDRgwQL6+vlq4cKE++eQThz9GbpaUlKSHH35Yffr00cqVK9WjRw9NnDhRw4cP/9M5unbtKmPMbf9ImTJlil566SU98sgj+vzzz7VkyRI9/vjj9vNJBw4cqKFDh0qSli1bZt9HDRo0kPRbSejYsaPeffddrV27Vs8884w+/vjjbI8K3LhxQ127dlVkZKRWrlypAQMGaPr06Zo8ebJ9mbS0NEVFRemVV15R586dtXz5cs2fP1/h4eFKSEiwL/f3v/9dzzzzjNq0aaMVK1Zo1qxZOnTokMLDw/Xjjz/maP90795dlSpV0ieffKKXXnpJK1asUPv27e1/hA0fPly//PKLPvzwQ4fXHT58WBs3bnT4w+pOdO3aVZIcimlO9mevXr1UsmTJLGUsLS1Nc+bMUffu3VW6dOlbbjc+Pl6tW7fWpUuX9O6772rx4sXKnz+/unTpYh9dHzhwoJYtWyZJGjp0qL7++mstX778luts2bKlvLy8HA7Zb9y4UY0aNVKJEiXUsGFDh59HGzdulLe3t1q0aCFJ+uCDD9SuXTuFhITo/fff18cff6zChQurffv2Dj87Dh8+rHvvvVcHDx7U1KlTtXr1anXq1EnDhg3Tyy+/fMt8p06dUvPmzXXy5El9/fXXaty48S2XBRwY4C4XExNjJGV5+Pv7m1mzZjkse/z4cSPJVKxY0fz6668O86pVq2bq169vbty44TC9c+fOplSpUiY9PT3b7aelpZkbN26YyMhI07179yzb+te//mWOHz9uatSoYWrUqGFOnDjh8PpevXqZwMBAk5SU5LDOatWqGUnm+PHjxhhjjhw5YiSZwYMHO7x+x44dRpIZN26cfVrZsmXNgAEDjDHGpKammuDgYDNmzBgjyZw8edIYY8yrr75qfH19TXJyskPe2rVrm7S0NPu6/vvf/xpJZvHixdm+/0wPP/yw8ff3NwkJCQ7To6KiTFBQkLl48aJ9miQzZMiQ267vZhs3bjSSzNKlS+3TMr/2/fr1y7J85rzM/WeMMS1btjSSzMqVKx2WfeKJJ4yXl5d939xKy5YtTc2aNW85f82aNUaSmTx5sn1a+fLlTXR0tP15586dTb169W67nX/9619ZsmcnIyPD3Lhxw8THxxtJZv/+/fZ50dHRRpL5+OOPHV7TsWNHU7VqVfvzBQsWGElm3rx5t9zO119/bSSZqVOnOkxPTEw0gYGB5rnnnrttzvHjxxtJ5tlnn3WYvmjRIiPJfPDBB/ZpLVu2zLJ/Bg0aZEJCQsyVK1duu53o6GgTHBx8y/mZ30ODBg3Kdv7t9uf48eONn5+f+fHHH+3TlixZYiSZ+Pj42+Zq0qSJKV68uEP+tLQ0U6tWLVO2bFmTkZFhjHH8mZET9erVM1WqVLE/r127tnn++eeNMcY899xzplGjRvZ5YWFhpnHjxsYYY1JSUkzhwoVNly5dHNaXnp5u6tata1/OGGPat29vypYtay5duuSw7NNPP20CAgLMhQsXjDGO35979+41pUuXNi1atDDnz5/P0XsBMjFiijxjwYIF2rlzp3bu3Kk1a9YoOjpaQ4YM0VtvvZVl2a5duzqMqn3//ff63//+pz59+kj6bSQk89GxY0edPXtWR48etS//zjvvqEGDBgoICJCPj498fX21YcMGHTlyJMu29uzZoyZNmqhEiRLaunWrypcv7zB/48aNioyMVIkSJezTvL291atXryzLScpyhXfjxo1VvXp1h1GOyMhIrV+/XtJvF9JcvXpVI0aMUNGiRe2jpuvXr1fTpk0VHBzssL5OnTrJ29vb/rxOnTqS5HB4OjtfffWVIiMjFRoa6jC9f//+unr1qktGRm/lb3/7W46XzZ8/v33kLFPv3r2VkZHhMJJ2J4wxf7hM48aNtX//fg0ePFjr1q3T5cuXndrGsWPH1Lt3b5UsWVLe3t7y9fVVy5YtJSnL/z+bzZZlJLVOnToOX8s1a9YoICBAAwYMuOU2V69eLZvNpr59+zp8b5QsWVJ169a97ZGC38v8/sr00EMPycfHx2HUb/jw4dq3b5+2bt0q6bfDwQsXLrSfAvNnZPf1yen+zLwCft68efZpb731lmrXrq3777//lttMSUnRjh071KNHD4f83t7eevTRR3Xq1CmHny3OiIiI0LfffqszZ87o/PnzOnjwoFq1aiXptxHVvXv36tKlS0pISNDx48fth/G3bdumCxcuKDo62uHrmZGRoQ4dOmjnzp1KSUnR9evXtWHDBnXv3l1BQUFZfi5ev349y2k+69atU4sWLXT//fcrNjZWhQsXvqP3Bs9FMUWeUb16dTVq1EiNGjVShw4dNGfOHLVr107PPfdcltvu3HylduahyFGjRsnX19fhMXjwYEmyHyqfNm2aBg0apPvuu0+ffvqptm/frp07d6pDhw66du1allyxsbH68ccfNXDgwGyvsD5//rz94oXfu3na+fPns80uSaVLl7bPl347nJ+QkKDvvvtO69evV/369e3nwq5fv17Xrl3Ttm3bshzGl6QiRYo4PM+8KCy793Zzvltl+33+3ODMlfe//wMgU+a+/rMZMwvf7Q7rjh07Vv/+97+1fft2RUVFqUiRIoqMjNSuXbv+cP3Jyclq0aKFduzYoYkTJyouLk47d+60HwK++WsUFBSkgIAAh2n+/v72C8mk386ZLl26tLy8bv3r4Mcff5QxRiVKlMjy/bF9+/Yc3wbq5v/TPj4+KlKkiMN+f+CBB1ShQgX7YfP58+crJSXlTx/Gl7J+fZzZnyVKlFCvXr00Z84cpaen65tvvtHmzZv19NNP33abv/zyi4wxufK98fvzTOPi4uTt7a1mzZpJkpo3by7pt/NMbz6/NPPnXY8ePbJ8PSdPnixjjC5cuKDz588rLS1NM2fOzLJcx44dJSnL137FihW6du2aBg0axAWluCNclY88rU6dOlq3bp2+/fZbh3Ocbr7gpmjRopJ+Kw0PPvhgtuvKvG3LBx98oFatWmn27NkO869cuZLt60aPHq0ffvhB/fr1U1pamvr16+cwv0iRIkpKSsryupunZRbGs2fPZrndzZkzZ+zvQZL9it7169crNjZWbdu2tU//5z//qU2bNik1NTXbYnqnihQporNnz2aZnnlRyO/zuZozF1Bldz5k5r6+uZQ7a9WqVbLZbLcdQfPx8dGIESM0YsQIXbx4UevXr9e4cePUvn17JSYmKigo6Jav/eqrr3TmzBnFxcXZR/Uk/an7nRYrVkxbtmxRRkbGLctp0aJFZbPZtHnz5mzLRk4LSFJSksqUKWN/npaWpvPnzzvsdy8vLw0ZMkTjxo3T1KlTNWvWLEVGRmZ72yRnrVq1SpLso4rO7s/hw4dr4cKFWrlypdauXauCBQtmGQW+WaFCheTl5ZUr3xv333+/vL29FRcXJ39/fzVo0MA+KhsSEqJ69epp48aNunDhgnx8fOylNXN7M2fOvOUdLkqUKKG0tDT7yO6t/jAICwtzeD59+nQtWbJEUVFRWr58udq1a3dH7w2eixFT5Gn79u2TdOt7XWaqWrWqKleurP3799tHXW9+ZN52xWazZflF/M0339zyULWXl5fmzJmj4cOHq3///lkKbUREhDZs2OBQmNLT0x1uOST9dlWy9Fsx/r2dO3fqyJEjDreXKVWqlGrUqKFPP/1Uu3fvthfTtm3b6ty5c5o2bZpCQkJ077333na/OCMyMtL+i/73FixYoKCgoNve4umvdOXKFXtByfThhx/Ky8vrtoXyj8TExGjNmjV65JFHVK5cuRy9pmDBgurRo4eGDBmiCxcu2O8gcKtR6swCfvP/vzlz5txx7qioKF2/ft3hAr+bde7cWcYYnT59Otvvjdq1a+doW5n3f8308ccfKy0tzV4UMw0cOFB+fn7q06ePjh49+oejkjkRGxur//znPwoPD7ePJjq7Pxs2bKjw8HBNnjxZixYtUv/+/bOcCnOz4OBg3XfffVq2bJnD1zMjI0MffPCBypYtqypVqtzReypQoIDq169vHzG9eT+2bNlSGzduVFxcnBo3bmwvrc2aNVPBggV1+PDhW/688/PzU1BQkCIiIrR3717VqVMn2+Vu/mMuICBAy5YtU+fOndW1a1etXLnyjt4bPBcjpsgzDh48qLS0NEm/HRpbtmyZYmNj1b179yx/1Wdnzpw5ioqKUvv27dW/f3+VKVNGFy5c0JEjR7Rnzx4tXbpU0m+/pF955RWNHz9eLVu21NGjRzVhwgSFhYXZt5+dqVOnKn/+/Bo8eLCSk5PttwT65z//qVWrVql169Z68cUXFRQUpLfffjvL7X+qVq2qJ598UjNnzpSXl5eioqJ04sQJvfDCCwoNDdWzzz7rsHxkZKRmzpypwMBA+0hJWFiYwsLC9OWXX6pr167y8XHdj4Dx48dr9erVioiI0IsvvqjChQtr0aJF+vzzzzVlyhSHm867U5EiRTRo0CAlJCSoSpUq+uKLLzRv3jwNGjQoR4Xy2rVr9vPqrl27pmPHjmnFihVavXq1WrZsqXfeeee2r+/SpYv9nrvFihXTyZMnNWPGDJUvX16VK1eWJHvRe+ONNxQdHS1fX19VrVpV4eHhKlSokJ566imNHz9evr6+WrRokfbv33/H++ORRx5RTEyMnnrqKR09elQRERHKyMjQjh07VL16dT388MNq1qyZnnzyST322GPatWuX7r//fgUHB+vs2bPasmWLateune2nEN1s2bJl8vHxUdu2bXXo0CG98MILqlu3rh566CGH5QoWLKh+/fpp9uzZKl++vFMfkJGRkWH/+qSmpiohIUFr1qzRxx9/rOrVqzvc/u1O9ufw4cPVq1cv2Ww2+2k+f2TSpElq27atIiIiNGrUKPn5+WnWrFk6ePCgFi9e/KdumRYREaF//etfstlsDndbkH4rptOnT5cxxmFkN1++fJo5c6aio6N14cIF9ejRQ8WLF9e5c+e0f/9+nTt3zv4H9BtvvKHmzZurRYsWGjRokCpUqKArV67o+++/12effWb/MIPf8/X11eLFizVw4ED16NFDCxYs0COPPHLH7xEexo0XXgEukd1V+QUKFDD16tUz06ZNM9evX7cv+0dXve7fv9889NBDpnjx4sbX19eULFnStG7d2rzzzjv2ZVJTU82oUaNMmTJlTEBAgGnQoIFZsWKFiY6ONuXLl//DbWVecf3iiy/ap23dutU0adLE+Pv7m5IlS5rRo0ebuXPnZrkyOz093UyePNlUqVLF+Pr6mqJFi5q+ffuaxMTELO9l5cqVRpJp27atw/QnnnjCSDJvvvmmw/Tb7RtJZvz48dnus987cOCA6dKliylQoIDx8/MzdevWNTExMdmuz5VX5e/cuTPL8re6Kr9mzZomLi7ONGrUyPj7+5tSpUqZcePGZbkbQ3Yyr+rPfAQHB5t77rnH9OjRwyxdujTbOzfcfFX+1KlTTXh4uClatKjx8/Mz5cqVM48//niWuzWMHTvWlC5d2nh5eRlJZuPGjcYYY7Zt22aaNm1qgoKCTLFixczAgQPNnj17jCSHfX2rK9Qzr5D/vWvXrpkXX3zRVK5c2fj5+ZkiRYqY1q1bm23btjks995775n77rvPBAcHm8DAQFOxYkXTr18/s2vXrtvut8xt7t6923Tp0sXky5fP5M+f3zzyyCMOV7n/XlxcnJFkXn/99duu+/cy70SQ+QgMDDTlypUzXbp0Me+9955JTU3N8pqc7s9Mqampxt/f33To0CHHuYwxZvPmzaZ169b2fdekSRPz2WefOSzj7FX5xhjzxRdfGEnG29s7y5XzFy5csP//iY2NzfLa+Ph406lTJ1O4cGHj6+trypQpYzp16uTwPZaZa8CAAaZMmTLG19fXFCtWzISHh5uJEyfal8nu+zMjI8MMGzbMeHl53fauD8Dv2YzJwWWkAJAHtGrVSj///LMOHjzo7ij4AyNHjtTs2bOVmJj4p8/9daXPPvtMXbt21eeff26/AAiA63AoHwBgGdu3b9e3336rWbNm6e9//7tlSunhw4d18uRJjRw5UvXq1bvtx+kCuHMUUwCAZTRt2lRBQUHq3Llztp9+5i6DBw/W1q1b1aBBA73//vt/6rxQALfGoXwAAABYAreLAgAAgCVQTAEAAGAJFFMAAABYwl198VNGRobOnDmj/PnzcyI6AACABRljdOXKFZUuXfqWH32c6a4upmfOnFFoaKi7YwAAAOAPJCYmqmzZsrdd5q4uppmfXZ6YmKiQkBA3pwEAAMDNLl++rNDQUHtvu527uphmHr4PCQmhmAIAAFhYTk675OInAAAAWALFFAAAAJZAMQUAAIAlUEwBAABgCRRTAAAAWALFFAAAAJZAMQUAAIAlUEwBAABgCRRTAAAAWALFFAAAAJZAMQUAAIAlUEwBAABgCRRTAAAAWALFFAAAAJZAMQUAAIAlUEwBAABgCRRTAAAAWALFFAAAAJZAMQUAAIAl+Lg7wF+h4egF7o5gWbv/1c/dEQAAACQxYgoAAACLoJgCAADAEiimAAAAsASKKQAAACyBYgoAAABLoJgCAADAEiimAAAAsASKKQAAACyBYgoAAABLoJgCAADAEiimAAAAsASKKQAAACyBYgoAAABLoJgCAADAEiimAAAAsASKKQAAACyBYgoAAABLoJgCAADAEiimAAAAsASKKQAAACyBYgoAAABLoJgCAADAEiimAAAAsASKKQAAACyBYgoAAABLoJgCAADAEiimAAAAsASKKQAAACyBYgoAAABLoJgCAADAEiimAAAAsASKKQAAACyBYgoAAABLoJgCAADAEiimAAAAsASKKQAAACyBYgoAAABLoJgCAADAEiimAAAAsATLFNNJkybJZrPpmWeecXcUAAAAuIEliunOnTs1d+5c1alTx91RAAAA4CZuL6bJycnq06eP5s2bp0KFCrk7DgAAANzE7cV0yJAh6tSpk9q0afOHy6ampury5csODwAAAOQNPu7c+EcffaQ9e/Zo586dOVp+0qRJevnll3M5FQAAANzBbSOmiYmJGj58uD744AMFBATk6DVjx47VpUuX7I/ExMRcTgkAAIC/ittGTHfv3q2ffvpJDRs2tE9LT0/Xpk2b9NZbbyk1NVXe3t4Or/H395e/v/9fHRU5kDChtrsjWFK5Fw+4OwIAAHcNtxXTyMhIHTjg+Ev7scceU7Vq1TRmzJgspRQAAAB5m9uKaf78+VWrVi2HacHBwSpSpEiW6QAAAMj73H5VPgAAACC5+ar8m8XFxbk7AgAAANyEEVMAAABYAsUUAAAAlkAxBQAAgCVQTAEAAGAJFFMAAABYAsUUAAAAlkAxBQAAgCVQTAEAAGAJFFMAAABYAsUUAAAAlkAxBQAAgCX4uDsAAACA1R159St3R7Cs6v9o7bJ1MWIKAAAAS6CYAgAAwBIopgAAALAEiikAAAAsgWIKAAAAS6CYAgAAwBIopgAAALAEiikAAAAsgWIKAAAAS6CYAgAAwBIopgAAALAEiikAAAAsgWIKAAAAS6CYAgAAwBIopgAAALAEiikAAAAsgWIKAAAAS6CYAgAAwBIopgAAALAEiikAAAAsgWIKAAAAS6CYAgAAwBIopgAAALAEiikAAAAsgWIKAAAAS6CYAgAAwBIopgAAALAEiikAAAAswcfdAQAAwJ/3at8e7o5gWf/44BN3R0AOMWIKAAAAS6CYAgAAwBI4lA8AyHVvjfzM3REs6+mpXdwdAbAMRkwBAABgCRRTAAAAWAKH8gFAUvz9Ld0dwbJabop3dwQAHoIRUwAAAFgCxRQAAACWQDEFAACAJVBMAQAAYAlc/ATcBZrNbObuCJa1dehWd0cAALgII6YAAACwBIopAAAALIFiCgAAAEugmAIAAMASKKYAAACwBIopAAAALIFiCgAAAEugmAIAAMASKKYAAACwBIopAAAALIFiCgAAAEugmAIAAMASKKYAAACwBIopAAAALIFiCgAAAEugmAIAAMASKKYAAACwBIopAAAALIFiCgAAAEugmAIAAMASKKYAAACwBIopAAAALIFiCgAAAEugmAIAAMASKKYAAACwBIopAAAALIFiCgAAAEugmAIAAMASKKYAAACwBIopAAAALIFiCgAAAEv4U8X0+vXrrsoBAAAAD+d0Mc3IyNArr7yiMmXKKF++fDp27Jgk6YUXXtC7777r8oAAAADwDE4X04kTJ2r+/PmaMmWK/Pz87NNr166t//znPy4NBwAAAM/hdDFdsGCB5s6dqz59+sjb29s+vU6dOvrf//7n0nAAAADwHE4X09OnT6tSpUpZpmdkZOjGjRsuCQUAAADP43QxrVmzpjZv3pxl+tKlS1W/fn2n1jV79mzVqVNHISEhCgkJUdOmTbVmzRpnIwEAACAP8HH2BePHj9ejjz6q06dPKyMjQ8uWLdPRo0e1YMECrV692ql1lS1bVq+//rp9BPb999/XAw88oL1796pmzZrORgMAAMBdzOkR0y5dumjJkiX64osvZLPZ9OKLL+rIkSP67LPP1LZtW6fX1bFjR1WpUkVVqlTRq6++qnz58mn79u3OxgIAAMBdzukRU0lq37692rdv79Ig6enpWrp0qVJSUtS0adNsl0lNTVVqaqr9+eXLl12aAQAAAO7j9Ijpzp07tWPHjizTd+zYoV27djkd4MCBA8qXL5/8/f311FNPafny5apRo0a2y06aNEkFChSwP0JDQ53eHgAAAKzJ6WI6ZMgQJSYmZpl++vRpDRkyxOkAVatW1b59+7R9+3YNGjRI0dHROnz4cLbLjh07VpcuXbI/sssBAACAu5PTh/IPHz6sBg0aZJlev379WxbK2/Hz87Nf/NSoUSPt3LlTb7zxhubMmZNlWX9/f/n7+zu9DQAAAFif0yOm/v7++vHHH7NMP3v2rHx87uiUVQfGGIfzSAEAAOAZnC6mbdu2tR9Sz3Tx4kWNGzfO6avyx40bp82bN+vEiRM6cOCA/vGPfyguLk59+vRxNhYAAADuck4PcU6dOlX333+/ypcvb7+h/r59+1SiRAktXLjQqXX9+OOPevTRR3X27FkVKFBAderU0dq1a50uuAAAALj7OV1My5Qpo2+++UaLFi3S/v37FRgYqMcee0yPPPKIfH19nVrXu+++6+zmAQAAkEfd0UmhwcHBevLJJ12dBQAAAB7sjorpt99+q7i4OP3000/KyMhwmPfiiy+6JBgAAAA8i9PFdN68eRo0aJCKFi2qkiVLymaz2edlfkQpAAAA4Cyni+nEiRP16quvasyYMbmRBwAAAB7K6dtF/fLLL+rZs2duZAEAAIAHc7qY9uzZU19++WVuZAEAAIAHc/pQfqVKlfTCCy9o+/btql27dpZbRA0bNsxl4QAAAOA5nC6mc+fOVb58+RQfH6/4+HiHeTabjWIKAACAO+J0MT1+/Hhu5AAAAICHc/ocUwAAACA33NEN9k+dOqVVq1YpISFBv/76q8O8adOmuSQYAAAAPIvTxXTDhg3q2rWrwsLCdPToUdWqVUsnTpyQMUYNGjTIjYwAAADwAE4fyh87dqxGjhypgwcPKiAgQJ9++qkSExPVsmVL7m8KAACAO+Z0MT1y5Iiio6MlST4+Prp27Zry5cunCRMmaPLkyS4PCAAAAM/gdDENDg5WamqqJKl06dL64Ycf7PN+/vln1yUDAACAR3H6HNMmTZpo69atqlGjhjp16qSRI0fqwIEDWrZsmZo0aZIbGQEAAOABnC6m06ZNU3JysiTppZdeUnJyspYsWaJKlSpp+vTpLg8IAAAAz+B0Mb3nnnvs/w4KCtKsWbNcGggAAACeyelzTO+55x6dP38+y/SLFy86lFYAAADAGU4X0xMnTig9PT3L9NTUVJ0+fdoloQAAAOB5cnwof9WqVfZ/r1u3TgUKFLA/T09P14YNG1ShQgWXhgMAAIDnyHEx7datmyTJZrPZ72OaydfXVxUqVNDUqVNdGg4AAACeI8fFNCMjQ5IUFhamnTt3qmjRorkWCgAAAJ7H6avyjx8/nmXaxYsXVbBgQVfkAQAAgIdy+uKnyZMna8mSJfbnPXv2VOHChVWmTBnt37/fpeEAAADgOZwupnPmzFFoaKgkKTY2VuvXr9fatWsVFRWl0aNHuzwgAAAAPIPTh/LPnj1rL6arV6/WQw89pHbt2qlChQq67777XB4QAAAAnsHpEdNChQopMTFRkrR27Vq1adNGkmSMyfb+pgAAAEBOOD1i+uCDD6p3796qXLmyzp8/r6ioKEnSvn37VKlSJZcHBAAAgGdwuphOnz5dFSpUUGJioqZMmaJ8+fJJ+u0Q/+DBg10eEAAAAJ7B6WLq6+urUaNGZZn+zDPPuCIPAAAAPFSOiumqVasUFRUlX19fh48mzU7Xrl1dEgwAAACeJUfFtFu3bkpKSlLx4sXtH02aHZvNxgVQAAAAuCM5KqaZH0d6878BAAAAV3H6dlEAAABAbnDq4qeMjAzNnz9fy5Yt04kTJ2Sz2RQWFqYePXro0Ucflc1my62cAAAAyONyPGJqjFHXrl01cOBAnT59WrVr11bNmjV18uRJ9e/fX927d8/NnAAAAMjjcjxiOn/+fG3atEkbNmxQRESEw7yvvvpK3bp104IFC9SvXz+XhwQAAEDel+MR08WLF2vcuHFZSqkktW7dWs8//7wWLVrk0nAAAADwHDkupt988406dOhwy/lRUVHav3+/S0IBAADA8+S4mF64cEElSpS45fwSJUrol19+cUkoAAAAeJ4cF9P09HT5+Nz6lFRvb2+lpaW5JBQAAAA8T44vfjLGqH///vL39892fmpqqstCAQAAwPPkuJhGR0f/4TJckQ8AAIA7leNiGhMTk5s5AAAA4OH4SFIAAABYAsUUAAAAlkAxBQAAgCVQTAEAAGAJFFMAAABYQo6vyv+9o0ePaubMmTpy5IhsNpuqVaumoUOHqmrVqq7OBwAAAA/h9IjpJ598olq1amn37t2qW7eu6tSpoz179qhWrVpaunRpbmQEAACAB3B6xPS5557T2LFjNWHCBIfp48eP15gxY9SzZ0+XhQMAAIDncHrENCkpKdtPeOrbt6+SkpJcEgoAAACex+li2qpVK23evDnL9C1btqhFixYuCQUAAADP4/Sh/K5du2rMmDHavXu3mjRpIknavn27li5dqpdfflmrVq1yWBYAAADICaeL6eDBgyVJs2bN0qxZs7KdJ0k2m03p6el/Mh4AAAA8hdPFNCMjIzdyAAAAwMNxg30AAABYQo5GTN988009+eSTCggI0JtvvnnbZYcNG+aSYAAAAPAsOSqm06dPV58+fRQQEKDp06ffcjmbzUYxBQAAwB3JUTE9fvx4tv8GAAAAXMWpc0xv3Lihe+65R4cPH86tPAAAAPBQThVTX19fpaamymaz5VYeAAAAeCinr8ofOnSoJk+erLS0tNzIAwAAAA+V4/uYJiQkqGzZstqxY4c2bNigL7/8UrVr11ZwcLDDcsuWLXN5SAAAAOR9OS6mYWFhOnv2rAoWLKi//e1vuZkJAAAAHijHxdQYI0mKiYnJtTAAAADwXHzyEwAAACwhxyOmkvSf//xH+fLlu+0y3GAfAAAAd8KpYvrOO+/I29v7lvP55CcAAADcKaeK6a5du1S8ePHcygIAAAAPluNzTLmpPgAAAHJTjotp5lX5AAAAQG7IcTEdP378H174BAAAANypHJ9jOn78+NzMAQAAAA/HfUwBAABgCRRTAAAAWALFFAAAAJZwR8U0LS1N69ev15w5c3TlyhVJ0pkzZ5ScnOzScAAAAPAcTt1gX5JOnjypDh06KCEhQampqWrbtq3y58+vKVOm6Pr163rnnXdyIycAAADyOKdHTIcPH65GjRrpl19+UWBgoH169+7dtWHDBpeGAwAAgOdwesR0y5Yt2rp1q/z8/Bymly9fXqdPn3ZZMAAAAHgWp0dMMzIylJ6enmX6qVOnlD9/fpeEAgAAgOdxupi2bdtWM2bMsD+32WxKTk7W+PHj1bFjR1dmAwAAgAdx+lD+9OnTFRERoRo1auj69evq3bu3vvvuOxUtWlSLFy/OjYwAAADwAE4X09KlS2vfvn1avHix9uzZo4yMDD3++OPq06ePw8VQAAAAgDOcLqaSFBgYqAEDBmjAgAGuzgMAAAAP5XQxXbVqVbbTbTabAgICVKlSJYWFheVoXZMmTdKyZcv0v//9T4GBgQoPD9fkyZNVtWpVZ2MBAADgLud0Me3WrZtsNpuMMQ7TM6fZbDY1b95cK1asUKFChW67rvj4eA0ZMkT33nuv0tLS9I9//EPt2rXT4cOHFRwc7Gw0AAAA3MWcvio/NjZW9957r2JjY3Xp0iVdunRJsbGxaty4sVavXq1Nmzbp/PnzGjVq1B+ua+3aterfv79q1qypunXrKiYmRgkJCdq9e/cdvRkAAADcvZweMR0+fLjmzp2r8PBw+7TIyEgFBAToySef1KFDhzRjxow7Ov/00qVLkqTChQtnOz81NVWpqan255cvX3Z6GwAAALAmp0dMf/jhB4WEhGSZHhISomPHjkmSKleurJ9//tmp9RpjNGLECDVv3ly1atXKdplJkyapQIEC9kdoaKiz8QEAAGBRThfThg0bavTo0Tp37px92rlz5/Tcc8/p3nvvlSR99913Klu2rFPrffrpp/XNN9/c9l6oY8eOtZ8+cOnSJSUmJjobHwAAABbl9KH8d999Vw888IDKli2r0NBQ2Ww2JSQk6J577tHKlSslScnJyXrhhRdyvM6hQ4dq1apV2rRp020Lrb+/v/z9/Z2NDAAAgLuA08W0atWqOnLkiNatW6dvv/1WxhhVq1ZNbdu2lZfXbwOw3bp1y9G6jDEaOnSoli9frri4uBzfZgoAAAB5zx3dYN9ms6lDhw7q0KHDn9r4kCFD9OGHH2rlypXKnz+/kpKSJEkFChTgU6QAAAA8zB0V05SUFMXHxyshIUG//vqrw7xhw4bleD2zZ8+WJLVq1cphekxMjPr3738n0QAAAHCXcrqY7t27Vx07dtTVq1eVkpKiwoUL6+eff1ZQUJCKFy/uVDG9+Sb9AAAA8FxOX5X/7LPPqkuXLrpw4YICAwO1fft2nTx5Ug0bNtS///3v3MgIAAAAD+B0Md23b59Gjhwpb29veXt7KzU1VaGhoZoyZYrGjRuXGxkBAADgAZwupr6+vrLZbJKkEiVKKCEhQdJvFyxl/hsAAABwltPnmNavX1+7du1SlSpVFBERoRdffFE///yzFi5cqNq1a+dGRgAAAHgAp0dMX3vtNZUqVUqS9Morr6hIkSIaNGiQfvrpJ82dO9flAQEAAOAZnBoxNcaoWLFiqlmzpiSpWLFi+uKLL3IlGAAAADyLUyOmxhhVrlxZp06dyq08AAAA8FBOFVMvLy9VrlxZ58+fz608AAAA8FBOn2M6ZcoUjR49WgcPHsyNPAAAAPBQTl+V37dvX129elV169aVn59fls+0v3DhgsvCAQAAwHM4XUxnzJiRCzEAAADg6ZwuptHR0bmRAwAAAB7O6XNMJemHH37QP//5Tz3yyCP66aefJElr167VoUOHXBoOAAAAnsPpYhofH6/atWtrx44dWrZsmZKTkyVJ33zzjcaPH+/ygAAAAPAMThfT559/XhMnTlRsbKz8/Pzs0yMiIvT111+7NBwAAAA8h9PF9MCBA+revXuW6cWKFeP+pgAAALhjThfTggUL6uzZs1mm7927V2XKlHFJKAAAAHgep4tp7969NWbMGCUlJclmsykjI0Nbt27VqFGj1K9fv9zICAAAAA/gdDF99dVXVa5cOZUpU0bJycmqUaOG7r//foWHh+uf//xnbmQEAACAB3D6Pqa+vr5atGiRJkyYoL179yojI0P169dX5cqVcyMfAAAAPITTxTQ+Pl4tW7ZUxYoVVbFixdzIBAAAAA/k9KH8tm3bqly5cnr++ed18ODB3MgEAAAAD+R0MT1z5oyee+45bd68WXXq1FGdOnU0ZcoUnTp1KjfyAQAAwEM4XUyLFi2qp59+Wlu3btUPP/ygXr16acGCBapQoYJat26dGxkBAADgAZwupr8XFham559/Xq+//rpq166t+Ph4V+UCAACAh7njYrp161YNHjxYpUqVUu/evVWzZk2tXr3aldkAAADgQZy+Kn/cuHFavHixzpw5ozZt2mjGjBnq1q2bgoKCciMfAAAAPITTxTQuLk6jRo1Sr169VLRoUYd5+/btU7169VyVDQAAAB7E6WK6bds2h+eXLl3SokWL9J///Ef79+9Xenq6y8IBAADAc9zxOaZfffWV+vbtq1KlSmnmzJnq2LGjdu3a5cpsAAAA8CBOjZieOnVK8+fP13vvvaeUlBQ99NBDunHjhj799FPVqFEjtzICAADAA+R4xLRjx46qUaOGDh8+rJkzZ+rMmTOaOXNmbmYDAACAB8nxiOmXX36pYcOGadCgQapcuXJuZgIAAIAHyvGI6ebNm3XlyhU1atRI9913n9566y2dO3cuN7MBAADAg+S4mDZt2lTz5s3T2bNn9fe//10fffSRypQpo4yMDMXGxurKlSu5mRMAAAB5nNNX5QcFBWnAgAHasmWLDhw4oJEjR+r1119X8eLF1bVr19zICAAAAA9wx7eLkqSqVatqypQpOnXqlBYvXuyqTAAAAPBAf6qYZvL29la3bt20atUqV6wOAAAAHsglxRQAAAD4syimAAAAsASKKQAAACyBYgoAAABLoJgCAADAEiimAAAAsASKKQAAACyBYgoAAABLoJgCAADAEiimAAAAsASKKQAAACyBYgoAAABLoJgCAADAEiimAAAAsASKKQAAACyBYgoAAABLoJgCAADAEiimAAAAsASKKQAAACyBYgoAAABLoJgCAADAEiimAAAAsASKKQAAACyBYgoAAABLoJgCAADAEiimAAAAsASKKQAAACyBYgoAAABLoJgCAADAEiimAAAAsASKKQAAACyBYgoAAABLoJgCAADAEiimAAAAsASKKQAAACyBYgoAAABLoJgCAADAEiimAAAAsASKKQAAACyBYgoAAABLoJgCAADAEiimAAAAsASKKQAAACyBYgoAAABLoJgCAADAEiimAAAAsASKKQAAACyBYgoAAABLoJgCAADAEiimAAAAsAS3FtNNmzapS5cuKl26tGw2m1asWOHOOAAAAHAjtxbTlJQU1a1bV2+99ZY7YwAAAMACfNy58aioKEVFRbkzAgAAACzCrcXUWampqUpNTbU/v3z5shvTAAAAwJXuqoufJk2apAIFCtgfoaGh7o4EAAAAF7mriunYsWN16dIl+yMxMdHdkQAAAOAid9WhfH9/f/n7+7s7BgAAAHLBXTViCgAAgLzLrSOmycnJ+v777+3Pjx8/rn379qlw4cIqV66cG5MBAADgr+bWYrpr1y5FRETYn48YMUKSFB0drfnz57spFQAAANzBrcW0VatWMsa4MwIAAAAsgnNMAQAAYAkUUwAAAFgCxRQAAACWQDEFAACAJVBMAQAAYAkUUwAAAFgCxRQAAACWQDEFAACAJVBMAQAAYAkUUwAAAFgCxRQAAACWQDEFAACAJVBMAQAAYAkUUwAAAFgCxRQAAACWQDEFAACAJVBMAQAAYAkUUwAAAFgCxRQAAACWQDEFAACAJVBMAQAAYAkUUwAAAFgCxRQAAACWQDEFAACAJVBMAQAAYAkUUwAAAFgCxRQAAACWQDEFAACAJVBMAQAAYAkUUwAAAFgCxRQAAACWQDEFAACAJVBMAQAAYAkUUwAAAFgCxRQAAACWQDEFAACAJVBMAQAAYAkUUwAAAFgCxRQAAACWQDEFAACAJVBMAQAAYAkUUwAAAFgCxRQAAACWQDEFAACAJVBMAQAAYAkUUwAAAFgCxRQAAACWQDEFAACAJVBMAQAAYAkUUwAAAFgCxRQAAACWQDEFAACAJVBMAQAAYAkUUwAAAFgCxRQAAACWQDEFAACAJVBMAQAAYAkUUwAAAFgCxRQAAACWQDEFAACAJVBMAQAAYAkUUwAAAFgCxRQAAACWQDEFAACAJVBMAQAAYAkUUwAAAFgCxRQAAACWQDEFAACAJVBMAQAAYAkUUwAAAFgCxRQAAACWQDEFAACAJVBMAQAAYAkUUwAAAFgCxRQAAACWQDEFAACAJVBMAQAAYAkUUwAAAFgCxRQAAACWQDEFAACAJVBMAQAAYAkUUwAAAFgCxRQAAACWQDEFAACAJVBMAQAAYAkUUwAAAFgCxRQAAACWQDEFAACAJbi9mM6aNUthYWEKCAhQw4YNtXnzZndHAgAAgBu4tZguWbJEzzzzjP7xj39o7969atGihaKiopSQkODOWAAAAHADtxbTadOm6fHHH9fAgQNVvXp1zZgxQ6GhoZo9e7Y7YwEAAMANfNy14V9//VW7d+/W888/7zC9Xbt22rZtW7avSU1NVWpqqv35pUuXJEmXL1++7bbSU6/9ybR51x/tu5y6cj3dJevJa1y1f9OupblkPXmRq/ZxShr7+FZcsY+vpV51QZK8yVX/h6/fuOGS9eRFrtjHyddTXJAkb/qj/Zs53xjzxyszbnL69GkjyWzdutVh+quvvmqqVKmS7WvGjx9vJPHgwYMHDx48ePC4yx6JiYl/2A/dNmKayWazOTw3xmSZlmns2LEaMWKE/XlGRoYuXLigIkWK3PI1VnL58mWFhoYqMTFRISEh7o6TJ7GPcx/7OHexf3Mf+zh3sX9z3922j40xunLlikqXLv2Hy7qtmBYtWlTe3t5KSkpymP7TTz+pRIkS2b7G399f/v7+DtMKFiyYWxFzTUhIyF3xH+luxj7Ofezj3MX+zX3s49zF/s19d9M+LlCgQI6Wc9vFT35+fmrYsKFiY2MdpsfGxio8PNxNqQAAAOAubj2UP2LECD366KNq1KiRmjZtqrlz5yohIUFPPfWUO2MBAADADdxaTHv16qXz589rwoQJOnv2rGrVqqUvvvhC5cuXd2esXOPv76/x48dnOR0BrsM+zn3s49zF/s197OPcxf7NfXl5H9uMycm1+wAAAEDucvtHkgIAAAASxRQAAAAWQTEFAACAJVBMAQAAYAkU07/Ipk2b1KVLF5UuXVo2m00rVqxwd6Q8ZdKkSbr33nuVP39+FS9eXN26ddPRo0fdHSvPmD17turUqWO/mXPTpk21Zs0ad8fKsyZNmiSbzaZnnnnG3VHyjJdeekk2m83hUbJkSXfHynNOnz6tvn37qkiRIgoKClK9evW0e/dud8fKMypUqJDl/7HNZtOQIUPcHc1lKKZ/kZSUFNWtW1dvvfWWu6PkSfHx8RoyZIi2b9+u2NhYpaWlqV27dkpJSXF3tDyhbNmyev3117Vr1y7t2rVLrVu31gMPPKBDhw65O1qes3PnTs2dO1d16tRxd5Q8p2bNmjp79qz9ceDAAXdHylN++eUXNWvWTL6+vlqzZo0OHz6sqVOn3pWf0GhVO3fudPg/nPkhRT179nRzMtdx631MPUlUVJSioqLcHSPPWrt2rcPzmJgYFS9eXLt379b999/vplR5R5cuXRyev/rqq5o9e7a2b9+umjVruilV3pOcnKw+ffpo3rx5mjhxorvj5Dk+Pj6MkuaiyZMnKzQ0VDExMfZpFSpUcF+gPKhYsWIOz19//XVVrFhRLVu2dFMi12PEFHnSpUuXJEmFCxd2c5K8Jz09XR999JFSUlLUtGlTd8fJU4YMGaJOnTqpTZs27o6SJ3333XcqXbq0wsLC9PDDD+vYsWPujpSnrFq1So0aNVLPnj1VvHhx1a9fX/PmzXN3rDzr119/1QcffKABAwbIZrO5O47LUEyR5xhjNGLECDVv3ly1atVyd5w848CBA8qXL5/8/f311FNPafny5apRo4a7Y+UZH330kfbs2aNJkya5O0qedN9992nBggVat26d5s2bp6SkJIWHh+v8+fPujpZnHDt2TLNnz1blypW1bt06PfXUUxo2bJgWLFjg7mh50ooVK3Tx4kX179/f3VFcikP5yHOefvppffPNN9qyZYu7o+QpVatW1b59+3Tx4kV9+umnio6OVnx8POXUBRITEzV8+HB9+eWXCggIcHecPOn3p1LVrl1bTZs2VcWKFfX+++9rxIgRbkyWd2RkZKhRo0Z67bXXJEn169fXoUOHNHv2bPXr18/N6fKed999V1FRUSpdurS7o7gUI6bIU4YOHapVq1Zp48aNKlu2rLvj5Cl+fn6qVKmSGjVqpEmTJqlu3bp644033B0rT9i9e7d++uknNWzYUD4+PvLx8VF8fLzefPNN+fj4KD093d0R85zg4GDVrl1b3333nbuj5BmlSpXK8odq9erVlZCQ4KZEedfJkye1fv16DRw40N1RXI4RU+QJxhgNHTpUy5cvV1xcnMLCwtwdKc8zxig1NdXdMfKEyMjILFeIP/bYY6pWrZrGjBkjb29vNyXLu1JTU3XkyBG1aNHC3VHyjGbNmmW5Td+3336r8uXLuylR3pV5gW+nTp3cHcXlKKZ/keTkZH3//ff258ePH9e+fftUuHBhlStXzo3J8oYhQ4boww8/1MqVK5U/f34lJSVJkgoUKKDAwEA3p7v7jRs3TlFRUQoNDdWVK1f00UcfKS4uLsvdEHBn8ufPn+V86ODgYBUpUoTzpF1k1KhR6tKli8qVK6effvpJEydO1OXLlxUdHe3uaHnGs88+q/DwcL322mt66KGH9N///ldz587V3Llz3R0tT8nIyFBMTIyio6Pl45MHa5zBX2Ljxo1GUpZHdHS0u6PlCdntW0kmJibG3dHyhAEDBpjy5csbPz8/U6xYMRMZGWm+/PJLd8fK01q2bGmGDx/u7hh5Rq9evUypUqWMr6+vKV26tHnwwQfNoUOH3B0rz/nss89MrVq1jL+/v6lWrZqZO3euuyPlOevWrTOSzNGjR90dJVfYjDHGPZUYAAAA+D9c/AQAAABLoJgCAADAEiimAAAAsASKKQAAACyBYgoAAABLoJgCAADAEiimAAAAsASKKQAAACyBYgoAFrF161bVrl1bvr6+6tatm7vjOLDZbFqxYoW7YwDI4yimADxC//79ZbPZZLPZ5OvrqxIlSqht27Z67733lJGR4e54kqQRI0aoXr16On78uObPn59l/vPPP6/q1as7TDty5IhsNpseffRRh+kLFy6Ur6+vkpOTczMyALgUxRSAx+jQoYPOnj2rEydOaM2aNYqIiNDw4cPVuXNnpaWluTuefvjhB7Vu3Vply5ZVwYIFs8yPiIjQ//73PyUlJdmnxcXFKTQ0VBs3bnRYNi4uTo0bN1a+fPlyOzYAuAzFFIDH8Pf3V8mSJVWmTBk1aNBA48aN08qVK7VmzRqHEcpp06apdu3aCg4OVmhoqAYPHmwfeUxJSVFISIg++eQTh3V/9tlnCg4O1pUrV7LddmpqqoYNG6bixYsrICBAzZs3186dOyVJJ06ckM1m0/nz5zVgwADZbLZsR0ybN28uX19fxcXF2afFxcVpyJAhunLlir7//nuH6REREZKkS5cu6cknn1Tx4sUVEhKi1q1ba//+/VnyN2zYUAEBAbrnnnv08ssv37asT5gwQSVKlNC+fftuuQwAOItiCsCjtW7dWnXr1tWyZcvs07y8vPTmm2/q4MGDev/99/XVV1/pueeekyQFBwfr4YcfVkxMjMN6YmJi1KNHD+XPnz/b7Tz33HP69NNP9f7772vPnj2qVKmS2rdvrwsXLig0NFRnz55VSEiIZsyYobNnz6pXr15Z1hEcHKx7773XYXQ0Pj5ekZGRatasmX16YmKijh07poiICBlj1KlTJyUlJemLL77Q7t271aBBA0VGRurChQuSpHXr1qlv374aNmyYDh8+rDlz5mj+/Pl69dVXs2Qwxmj48OF69913tWXLFtWrV8+5HQ4At2MAwANER0ebBx54INt5vXr1MtWrV7/laz/++GNTpEgR+/MdO3YYb29vc/r0aWOMMefOnTO+vr4mLi4u29cnJycbX19fs2jRIvu0X3/91ZQuXdpMmTLFPq1AgQImJibmtu9j3LhxpkqVKsYYYw4dOmRCQkJMWlqaef31103v3r2NMca8//77xt/f31y9etVs2LDBhISEmOvXrzusp2LFimbOnDnGGGNatGhhXnvtNYf5CxcuNKVKlbI/l2SWLl1q+vbta6pVq2YSExNvmxMA7gQjpgA8njFGNpvN/nzjxo1q27atypQpo/z586tfv346f/68UlJSJEmNGzdWzZo1tWDBAkm/XWhUrlw53X///dmu/4cfftCNGzfUrFkz+zRfX181btxYR44ccSprRESEvv32W505c0ZxcXFq3ry5vL291bJlS/sh/ri4ODVp0kSBgYHavXu3kpOTVaRIEeXLl8/+OH78uH744QdJ0u7duzVhwgSH+U888YTOnj2rq1ev2rf97LPP6uuvv9bmzZtVtmxZp3IDQE5QTAF4vCNHjigsLEySdPLkSXXs2FG1atXSp59+qt27d+vtt9+WJN24ccP+moEDB9oP58fExOixxx5zKLe/Z4yRpCzzby7EOdGsWTP5+fkpLi5OGzduVMuWLSVJjRo10qVLl/Ttt99q48aN9vNLMzIyVKpUKe3bt8/hcfToUY0ePdq+zMsvv+ww/8CBA/ruu+8UEBBg33bbtm11+vRprVu3zqnMAJBTFFMAHu2rr77SgQMH9Le//U2StGvXLqWlpWnq1Klq0qSJqlSpojNnzmR5Xd++fZWQkKA333xThw4dUnR09C23UalSJfn5+WnLli32aTdu3NCuXbuy3P7pjwQGBuq+++5TXFycNm3apFatWkmSfHx8FB4ergULFujEiRP2YtqgQQMlJSXJx8dHlSpVcngULVrUvszRo0ezzK9UqZK8vP7v10TXrl314YcfauDAgfroo4+cyg0AOeHj7gAA8FdJTU1VUlKS0tPT9eOPP2rt2rWaNGmSOnfurH79+kmSKlasqLS0NM2cOVNdunTR1q1b9c4772RZV6FChfTggw9q9OjRateu3W0PbQcHB2vQoEEaPXq0ChcurHLlymnKlCm6evWqHn/8caffR0REhKZPny7pt1KZqWXLlpo8ebK9vEpSmzZt1LRpU3Xr1k2TJ09W1apVdebMGX3xxRfq1q2bGjVqpBdffFGdO3dWaGioevbsKS8vL33zzTc6cOCAJk6c6LDt7t27a+HChXr00Ufl4+OjHj16OJ0fAG7Jzee4AsBfIjo62kgykoyPj48pVqyYadOmjXnvvfdMenq6w7LTpk0zpUqVMoGBgaZ9+/ZmwYIFRpL55ZdfHJbbsGGDkWQ+/vjjP9z+tWvXzNChQ03RokWNv7+/adasmfnvf//rsExOLn4yxpiNGzcaSaZDhw4O0zdv3mwkmcjISIfply9fNkOHDjWlS5c2vr6+JjQ01PTp08ckJCTYl1m7dq0JDw83gYGBJiQkxDRu3NjMnTvXPl+SWb58uf35kiVLTEBAgPn000//MC8A5JTNmP9/8hMAwCmLFi3S8OHDdebMGfn5+bk7DgDc9TiUDwBOunr1qo4fP65Jkybp73//O6UUAFyEi58AwElTpkxRvXr1VKJECY0dO9bdcQAgz+BQPgAAACyBEVMAAABYAsUUAAAAlkAxBQAAgCVQTAEAAGAJFFMAAABYAsUUAAAAlkAxBQAAgCVQTAEAAGAJ/w8aWGLMkLhO5gAAAABJRU5ErkJggg==\n",
      "text/plain": [
       "<Figure size 800x600 with 1 Axes>"
      ]
     },
     "metadata": {},
     "output_type": "display_data"
=======
>>>>>>> 40a8c522268f7a6410f41176699d255c1909bfde
    }
   ],
   "source": [
    "import pandas as pd\n",
    "# Extract the day of the week from the pickup datetime\n",
    "df_with_day_of_week = df_yel_filtered.withColumn('pickup_day_of_week', dayofweek('tpep_pickup_datetime'))\n",
    "\n",
    "# Group by day of the week and calculate the distribution of trip distances\n",
    "distance_breakdown = df_with_day_of_week.groupBy('pickup_day_of_week').agg(mean('trip_distance').alias('avg_distance'))\n",
    "\n",
    "# Convert the result to a Pandas DataFrame for plotting\n",
    "distance_breakdown_pd = distance_breakdown.toPandas()\n",
    "\n",
    "# Plot the breakdown of trip distance\n",
    "plt.figure(figsize=(8, 6))\n",
    "sns.barplot(x='pickup_day_of_week', y='avg_distance', data=distance_breakdown_pd)\n",
    "plt.xlabel('Day of Week')\n",
    "plt.ylabel('Average Trip Distance')\n",
    "plt.title('Breakdown of Trip Distance by Day of Week')\n",
    "plt.show()"
   ]
  },
  {
   "cell_type": "markdown",
   "id": "d77979f7",
   "metadata": {},
   "source": [
    "2. Count the number of distinct pickup location"
   ]
  },
  {
   "cell_type": "code",
   "execution_count": 23,
   "id": "a6f1e6ec",
   "metadata": {},
   "outputs": [
    {
     "name": "stdout",
     "output_type": "stream",
     "text": [
      "Number of distinct pickup locations: 261\n"
     ]
    }
   ],
   "source": [
    "distinct_pickup_locations = df_yel.select('PUlocationID').distinct().count()\n",
    "print(\"Number of distinct pickup locations:\", distinct_pickup_locations)"
   ]
  },
  {
   "cell_type": "markdown",
   "id": "976c03cd",
   "metadata": {},
   "source": [
    "3. Compute and display tips and profits as a function of the pickup location"
   ]
  },
  {
   "cell_type": "code",
   "execution_count": 24,
   "id": "6bc8ec16",
   "metadata": {},
   "outputs": [
    {
     "name": "stderr",
     "output_type": "stream",
     "text": [
      "\r",
      "[Stage 28:==================================================>       (7 + 1) / 8]\r"
     ]
    },
    {
     "name": "stdout",
     "output_type": "stream",
     "text": [
      "+------------+------------------+------------------+\n",
      "|PUlocationID|        total_tips|     total_profits|\n",
      "+------------+------------------+------------------+\n",
      "|          26|            165.38|            395.75|\n",
      "|          29|             56.83|            141.25|\n",
      "|          65|20356.180000000073|           8173.65|\n",
      "|         191|36.089999999999996|             424.5|\n",
      "|         222|              34.9|             401.0|\n",
      "|         243|2214.0100000000007|             874.0|\n",
      "|          54| 558.3500000000001|            147.25|\n",
      "|          19| 97.63999999999999|             152.5|\n",
      "|         113|243919.94999999137|          157734.5|\n",
      "|         112|4622.1900000000005|           1677.05|\n",
      "|         167|             90.62|             256.0|\n",
      "|         155|              58.0|             315.0|\n",
      "|         237| 530634.1000000244|398240.79999999993|\n",
      "|         241|            128.49|            159.75|\n",
      "|         198|331.59999999999997|             233.5|\n",
      "|          22|237.54000000000002|             251.5|\n",
      "|         130|5124.3400000000065|           1349.75|\n",
      "|         196|1530.1200000000001|             565.5|\n",
      "|           7|10788.720000000021|            5527.6|\n",
      "|          77|             55.65|             274.0|\n",
      "+------------+------------------+------------------+\n",
      "only showing top 20 rows\n",
      "\n"
     ]
    },
    {
     "name": "stderr",
     "output_type": "stream",
     "text": [
      "\r",
      "                                                                                \r"
     ]
    }
   ],
   "source": [
    "tips_profits_by_location = df_yel.groupBy('PUlocationID').agg(sum('tip_amount').alias('total_tips'),\n",
    "                                                          sum('extra').alias('total_profits'))\n",
    "\n",
    "# Display the results\n",
    "tips_profits_by_location.show()"
   ]
  },
  {
   "cell_type": "markdown",
<<<<<<< HEAD
   "id": "97db9fc3",
=======
   "id": "9fb818a7",
   "metadata": {},
   "source": [
    "Filter and cache/persist the result: **May of 2019**"
   ]
  },
  {
   "cell_type": "code",
   "execution_count": 101,
   "id": "bca135a9",
   "metadata": {},
   "outputs": [],
   "source": [
    "df_may_2019 = spark.read.parquet(\"/home/edouard/Documents/Big Data/yellow_tripdata_2019-05.parquet\")\n",
    "df = df_may_2019.groupBy(\"passenger_count\").count()\n"
   ]
  },
  {
   "cell_type": "code",
   "execution_count": 102,
   "id": "a14ad38f",
   "metadata": {},
   "outputs": [
    {
     "name": "stderr",
     "output_type": "stream",
     "text": [
      "23/05/24 12:00:34 ERROR Executor: Exception in task 3.0 in stage 64.0 (TID 160)]\n",
      "java.lang.OutOfMemoryError: Java heap space\n",
      "\tat java.nio.HeapByteBuffer.<init>(HeapByteBuffer.java:57)\n",
      "\tat java.nio.ByteBuffer.allocate(ByteBuffer.java:335)\n",
      "\tat org.apache.spark.serializer.SerializerHelper$.$anonfun$serializeToChunkedBuffer$1(SerializerHelper.scala:40)\n",
      "\tat org.apache.spark.serializer.SerializerHelper$.$anonfun$serializeToChunkedBuffer$1$adapted(SerializerHelper.scala:40)\n",
      "\tat org.apache.spark.serializer.SerializerHelper$$$Lambda$1648/1604891457.apply(Unknown Source)\n",
      "\tat org.apache.spark.util.io.ChunkedByteBufferOutputStream.allocateNewChunkIfNeeded(ChunkedByteBufferOutputStream.scala:87)\n",
      "\tat org.apache.spark.util.io.ChunkedByteBufferOutputStream.write(ChunkedByteBufferOutputStream.scala:75)\n",
      "\tat java.io.ObjectOutputStream$BlockDataOutputStream.write(ObjectOutputStream.java:1853)\n",
      "\tat java.io.ObjectOutputStream.write(ObjectOutputStream.java:709)\n",
      "\tat org.apache.spark.util.Utils$.$anonfun$writeByteBuffer$1(Utils.scala:271)\n",
      "\tat org.apache.spark.util.Utils$.$anonfun$writeByteBuffer$1$adapted(Utils.scala:271)\n",
      "\tat org.apache.spark.util.Utils$$$Lambda$1655/158017886.apply(Unknown Source)\n",
      "\tat org.apache.spark.util.Utils$.writeByteBufferImpl(Utils.scala:249)\n",
      "\tat org.apache.spark.util.Utils$.writeByteBuffer(Utils.scala:271)\n",
      "\tat org.apache.spark.util.io.ChunkedByteBuffer.$anonfun$writeExternal$2(ChunkedByteBuffer.scala:103)\n",
      "\tat org.apache.spark.util.io.ChunkedByteBuffer.$anonfun$writeExternal$2$adapted(ChunkedByteBuffer.scala:103)\n",
      "\tat org.apache.spark.util.io.ChunkedByteBuffer$$Lambda$1654/67977397.apply(Unknown Source)\n",
      "\tat scala.collection.IndexedSeqOptimized.foreach(IndexedSeqOptimized.scala:36)\n",
      "\tat scala.collection.IndexedSeqOptimized.foreach$(IndexedSeqOptimized.scala:33)\n",
      "\tat scala.collection.mutable.ArrayOps$ofRef.foreach(ArrayOps.scala:198)\n",
      "\tat org.apache.spark.util.io.ChunkedByteBuffer.writeExternal(ChunkedByteBuffer.scala:103)\n",
      "\tat org.apache.spark.scheduler.DirectTaskResult.$anonfun$writeExternal$1(TaskResult.scala:60)\n",
      "\tat org.apache.spark.scheduler.DirectTaskResult$$Lambda$1652/1112443679.apply$mcV$sp(Unknown Source)\n",
      "\tat scala.runtime.java8.JFunction0$mcV$sp.apply(JFunction0$mcV$sp.java:23)\n",
      "\tat org.apache.spark.util.Utils$.tryOrIOException(Utils.scala:1495)\n",
      "\tat org.apache.spark.scheduler.DirectTaskResult.writeExternal(TaskResult.scala:59)\n",
      "\tat java.io.ObjectOutputStream.writeExternalData(ObjectOutputStream.java:1459)\n",
      "\tat java.io.ObjectOutputStream.writeOrdinaryObject(ObjectOutputStream.java:1430)\n",
      "\tat java.io.ObjectOutputStream.writeObject0(ObjectOutputStream.java:1178)\n",
      "\tat java.io.ObjectOutputStream.writeObject(ObjectOutputStream.java:348)\n",
      "\tat org.apache.spark.serializer.JavaSerializationStream.writeObject(JavaSerializer.scala:46)\n",
      "\tat org.apache.spark.serializer.SerializerHelper$.serializeToChunkedBuffer(SerializerHelper.scala:42)\n",
      "23/05/24 12:00:34 ERROR SparkUncaughtExceptionHandler: Uncaught exception in thread Thread[Executor task launch worker for task 3.0 in stage 64.0 (TID 160),5,main]\n",
      "java.lang.OutOfMemoryError: Java heap space\n",
      "\tat java.nio.HeapByteBuffer.<init>(HeapByteBuffer.java:57)\n",
      "\tat java.nio.ByteBuffer.allocate(ByteBuffer.java:335)\n",
      "\tat org.apache.spark.serializer.SerializerHelper$.$anonfun$serializeToChunkedBuffer$1(SerializerHelper.scala:40)\n",
      "\tat org.apache.spark.serializer.SerializerHelper$.$anonfun$serializeToChunkedBuffer$1$adapted(SerializerHelper.scala:40)\n",
      "\tat org.apache.spark.serializer.SerializerHelper$$$Lambda$1648/1604891457.apply(Unknown Source)\n",
      "\tat org.apache.spark.util.io.ChunkedByteBufferOutputStream.allocateNewChunkIfNeeded(ChunkedByteBufferOutputStream.scala:87)\n",
      "\tat org.apache.spark.util.io.ChunkedByteBufferOutputStream.write(ChunkedByteBufferOutputStream.scala:75)\n",
      "\tat java.io.ObjectOutputStream$BlockDataOutputStream.write(ObjectOutputStream.java:1853)\n",
      "\tat java.io.ObjectOutputStream.write(ObjectOutputStream.java:709)\n",
      "\tat org.apache.spark.util.Utils$.$anonfun$writeByteBuffer$1(Utils.scala:271)\n",
      "\tat org.apache.spark.util.Utils$.$anonfun$writeByteBuffer$1$adapted(Utils.scala:271)\n",
      "\tat org.apache.spark.util.Utils$$$Lambda$1655/158017886.apply(Unknown Source)\n",
      "\tat org.apache.spark.util.Utils$.writeByteBufferImpl(Utils.scala:249)\n",
      "\tat org.apache.spark.util.Utils$.writeByteBuffer(Utils.scala:271)\n",
      "\tat org.apache.spark.util.io.ChunkedByteBuffer.$anonfun$writeExternal$2(ChunkedByteBuffer.scala:103)\n",
      "\tat org.apache.spark.util.io.ChunkedByteBuffer.$anonfun$writeExternal$2$adapted(ChunkedByteBuffer.scala:103)\n",
      "\tat org.apache.spark.util.io.ChunkedByteBuffer$$Lambda$1654/67977397.apply(Unknown Source)\n",
      "\tat scala.collection.IndexedSeqOptimized.foreach(IndexedSeqOptimized.scala:36)\n",
      "\tat scala.collection.IndexedSeqOptimized.foreach$(IndexedSeqOptimized.scala:33)\n",
      "\tat scala.collection.mutable.ArrayOps$ofRef.foreach(ArrayOps.scala:198)\n",
      "\tat org.apache.spark.util.io.ChunkedByteBuffer.writeExternal(ChunkedByteBuffer.scala:103)\n",
      "\tat org.apache.spark.scheduler.DirectTaskResult.$anonfun$writeExternal$1(TaskResult.scala:60)\n",
      "\tat org.apache.spark.scheduler.DirectTaskResult$$Lambda$1652/1112443679.apply$mcV$sp(Unknown Source)\n",
      "\tat scala.runtime.java8.JFunction0$mcV$sp.apply(JFunction0$mcV$sp.java:23)\n",
      "\tat org.apache.spark.util.Utils$.tryOrIOException(Utils.scala:1495)\n",
      "\tat org.apache.spark.scheduler.DirectTaskResult.writeExternal(TaskResult.scala:59)\n",
      "\tat java.io.ObjectOutputStream.writeExternalData(ObjectOutputStream.java:1459)\n",
      "\tat java.io.ObjectOutputStream.writeOrdinaryObject(ObjectOutputStream.java:1430)\n",
      "\tat java.io.ObjectOutputStream.writeObject0(ObjectOutputStream.java:1178)\n",
      "\tat java.io.ObjectOutputStream.writeObject(ObjectOutputStream.java:348)\n",
      "\tat org.apache.spark.serializer.JavaSerializationStream.writeObject(JavaSerializer.scala:46)\n",
      "\tat org.apache.spark.serializer.SerializerHelper$.serializeToChunkedBuffer(SerializerHelper.scala:42)\n",
      "23/05/24 12:00:34 WARN TaskSetManager: Lost task 3.0 in stage 64.0 (TID 160) (10.30.204.148 executor driver): java.lang.OutOfMemoryError: Java heap space\n",
      "\tat java.nio.HeapByteBuffer.<init>(HeapByteBuffer.java:57)\n",
      "\tat java.nio.ByteBuffer.allocate(ByteBuffer.java:335)\n",
      "\tat org.apache.spark.serializer.SerializerHelper$.$anonfun$serializeToChunkedBuffer$1(SerializerHelper.scala:40)\n",
      "\tat org.apache.spark.serializer.SerializerHelper$.$anonfun$serializeToChunkedBuffer$1$adapted(SerializerHelper.scala:40)\n",
      "\tat org.apache.spark.serializer.SerializerHelper$$$Lambda$1648/1604891457.apply(Unknown Source)\n",
      "\tat org.apache.spark.util.io.ChunkedByteBufferOutputStream.allocateNewChunkIfNeeded(ChunkedByteBufferOutputStream.scala:87)\n",
      "\tat org.apache.spark.util.io.ChunkedByteBufferOutputStream.write(ChunkedByteBufferOutputStream.scala:75)\n",
      "\tat java.io.ObjectOutputStream$BlockDataOutputStream.write(ObjectOutputStream.java:1853)\n",
      "\tat java.io.ObjectOutputStream.write(ObjectOutputStream.java:709)\n",
      "\tat org.apache.spark.util.Utils$.$anonfun$writeByteBuffer$1(Utils.scala:271)\n",
      "\tat org.apache.spark.util.Utils$.$anonfun$writeByteBuffer$1$adapted(Utils.scala:271)\n",
      "\tat org.apache.spark.util.Utils$$$Lambda$1655/158017886.apply(Unknown Source)\n",
      "\tat org.apache.spark.util.Utils$.writeByteBufferImpl(Utils.scala:249)\n",
      "\tat org.apache.spark.util.Utils$.writeByteBuffer(Utils.scala:271)\n",
      "\tat org.apache.spark.util.io.ChunkedByteBuffer.$anonfun$writeExternal$2(ChunkedByteBuffer.scala:103)\n",
      "\tat org.apache.spark.util.io.ChunkedByteBuffer.$anonfun$writeExternal$2$adapted(ChunkedByteBuffer.scala:103)\n",
      "\tat org.apache.spark.util.io.ChunkedByteBuffer$$Lambda$1654/67977397.apply(Unknown Source)\n",
      "\tat scala.collection.IndexedSeqOptimized.foreach(IndexedSeqOptimized.scala:36)\n",
      "\tat scala.collection.IndexedSeqOptimized.foreach$(IndexedSeqOptimized.scala:33)\n",
      "\tat scala.collection.mutable.ArrayOps$ofRef.foreach(ArrayOps.scala:198)\n",
      "\tat org.apache.spark.util.io.ChunkedByteBuffer.writeExternal(ChunkedByteBuffer.scala:103)\n",
      "\tat org.apache.spark.scheduler.DirectTaskResult.$anonfun$writeExternal$1(TaskResult.scala:60)\n",
      "\tat org.apache.spark.scheduler.DirectTaskResult$$Lambda$1652/1112443679.apply$mcV$sp(Unknown Source)\n",
      "\tat scala.runtime.java8.JFunction0$mcV$sp.apply(JFunction0$mcV$sp.java:23)\n",
      "\tat org.apache.spark.util.Utils$.tryOrIOException(Utils.scala:1495)\n",
      "\tat org.apache.spark.scheduler.DirectTaskResult.writeExternal(TaskResult.scala:59)\n",
      "\tat java.io.ObjectOutputStream.writeExternalData(ObjectOutputStream.java:1459)\n",
      "\tat java.io.ObjectOutputStream.writeOrdinaryObject(ObjectOutputStream.java:1430)\n",
      "\tat java.io.ObjectOutputStream.writeObject0(ObjectOutputStream.java:1178)\n",
      "\tat java.io.ObjectOutputStream.writeObject(ObjectOutputStream.java:348)\n",
      "\tat org.apache.spark.serializer.JavaSerializationStream.writeObject(JavaSerializer.scala:46)\n",
      "\tat org.apache.spark.serializer.SerializerHelper$.serializeToChunkedBuffer(SerializerHelper.scala:42)\n",
      "\n",
      "23/05/24 12:00:34 ERROR TaskSetManager: Task 3 in stage 64.0 failed 1 times; aborting job\n"
     ]
    },
    {
     "name": "stderr",
     "output_type": "stream",
     "text": [
      "ERROR:root:Exception while sending command.\n",
      "Traceback (most recent call last):\n",
      "  File \"/home/edouard/.local/lib/python3.10/site-packages/pyspark/errors/exceptions/captured.py\", line 169, in deco\n",
      "    return f(*a, **kw)\n",
      "  File \"/home/edouard/.local/lib/python3.10/site-packages/py4j/protocol.py\", line 326, in get_return_value\n",
      "    raise Py4JJavaError(\n",
      "py4j.protocol.Py4JJavaError: <unprintable Py4JJavaError object>\n",
      "\n",
      "During handling of the above exception, another exception occurred:\n",
      "\n",
      "Traceback (most recent call last):\n",
      "  File \"/home/edouard/.local/lib/python3.10/site-packages/py4j/clientserver.py\", line 516, in send_command\n",
      "    raise Py4JNetworkError(\"Answer from Java side is empty\")\n",
      "py4j.protocol.Py4JNetworkError: Answer from Java side is empty\n",
      "\n",
      "During handling of the above exception, another exception occurred:\n",
      "\n",
      "Traceback (most recent call last):\n",
      "  File \"/home/edouard/.local/lib/python3.10/site-packages/py4j/java_gateway.py\", line 1038, in send_command\n",
      "    response = connection.send_command(command)\n",
      "  File \"/home/edouard/.local/lib/python3.10/site-packages/py4j/clientserver.py\", line 539, in send_command\n",
      "    raise Py4JNetworkError(\n",
      "py4j.protocol.Py4JNetworkError: Error while sending or receiving\n"
     ]
    },
    {
     "ename": "ConnectionRefusedError",
     "evalue": "[Errno 111] Connection refused",
     "output_type": "error",
     "traceback": [
      "\u001b[0;31m---------------------------------------------------------------------------\u001b[0m",
      "\u001b[0;31mPy4JJavaError\u001b[0m                             Traceback (most recent call last)",
      "\u001b[0;32m~/.local/lib/python3.10/site-packages/pyspark/errors/exceptions/captured.py\u001b[0m in \u001b[0;36mdeco\u001b[0;34m(*a, **kw)\u001b[0m\n\u001b[1;32m    168\u001b[0m         \u001b[0;32mtry\u001b[0m\u001b[0;34m:\u001b[0m\u001b[0;34m\u001b[0m\u001b[0;34m\u001b[0m\u001b[0m\n\u001b[0;32m--> 169\u001b[0;31m             \u001b[0;32mreturn\u001b[0m \u001b[0mf\u001b[0m\u001b[0;34m(\u001b[0m\u001b[0;34m*\u001b[0m\u001b[0ma\u001b[0m\u001b[0;34m,\u001b[0m \u001b[0;34m**\u001b[0m\u001b[0mkw\u001b[0m\u001b[0;34m)\u001b[0m\u001b[0;34m\u001b[0m\u001b[0;34m\u001b[0m\u001b[0m\n\u001b[0m\u001b[1;32m    170\u001b[0m         \u001b[0;32mexcept\u001b[0m \u001b[0mPy4JJavaError\u001b[0m \u001b[0;32mas\u001b[0m \u001b[0me\u001b[0m\u001b[0;34m:\u001b[0m\u001b[0;34m\u001b[0m\u001b[0;34m\u001b[0m\u001b[0m\n",
      "\u001b[0;32m~/.local/lib/python3.10/site-packages/py4j/protocol.py\u001b[0m in \u001b[0;36mget_return_value\u001b[0;34m(answer, gateway_client, target_id, name)\u001b[0m\n\u001b[1;32m    325\u001b[0m             \u001b[0;32mif\u001b[0m \u001b[0manswer\u001b[0m\u001b[0;34m[\u001b[0m\u001b[0;36m1\u001b[0m\u001b[0;34m]\u001b[0m \u001b[0;34m==\u001b[0m \u001b[0mREFERENCE_TYPE\u001b[0m\u001b[0;34m:\u001b[0m\u001b[0;34m\u001b[0m\u001b[0;34m\u001b[0m\u001b[0m\n\u001b[0;32m--> 326\u001b[0;31m                 raise Py4JJavaError(\n\u001b[0m\u001b[1;32m    327\u001b[0m                     \u001b[0;34m\"An error occurred while calling {0}{1}{2}.\\n\"\u001b[0m\u001b[0;34m.\u001b[0m\u001b[0;34m\u001b[0m\u001b[0;34m\u001b[0m\u001b[0m\n",
      "\u001b[0;31m<class 'str'>\u001b[0m: (<class 'ConnectionRefusedError'>, ConnectionRefusedError(111, 'Connection refused'))",
      "\nDuring handling of the above exception, another exception occurred:\n",
      "\u001b[0;31mPy4JError\u001b[0m                                 Traceback (most recent call last)",
      "\u001b[0;32m~/.local/lib/python3.10/site-packages/pyspark/sql/dataframe.py\u001b[0m in \u001b[0;36mcollect\u001b[0;34m(self)\u001b[0m\n\u001b[1;32m   1215\u001b[0m         \u001b[0;32mwith\u001b[0m \u001b[0mSCCallSiteSync\u001b[0m\u001b[0;34m(\u001b[0m\u001b[0mself\u001b[0m\u001b[0;34m.\u001b[0m\u001b[0m_sc\u001b[0m\u001b[0;34m)\u001b[0m\u001b[0;34m:\u001b[0m\u001b[0;34m\u001b[0m\u001b[0;34m\u001b[0m\u001b[0m\n\u001b[0;32m-> 1216\u001b[0;31m             \u001b[0msock_info\u001b[0m \u001b[0;34m=\u001b[0m \u001b[0mself\u001b[0m\u001b[0;34m.\u001b[0m\u001b[0m_jdf\u001b[0m\u001b[0;34m.\u001b[0m\u001b[0mcollectToPython\u001b[0m\u001b[0;34m(\u001b[0m\u001b[0;34m)\u001b[0m\u001b[0;34m\u001b[0m\u001b[0;34m\u001b[0m\u001b[0m\n\u001b[0m\u001b[1;32m   1217\u001b[0m         \u001b[0;32mreturn\u001b[0m \u001b[0mlist\u001b[0m\u001b[0;34m(\u001b[0m\u001b[0m_load_from_socket\u001b[0m\u001b[0;34m(\u001b[0m\u001b[0msock_info\u001b[0m\u001b[0;34m,\u001b[0m \u001b[0mBatchedSerializer\u001b[0m\u001b[0;34m(\u001b[0m\u001b[0mCPickleSerializer\u001b[0m\u001b[0;34m(\u001b[0m\u001b[0;34m)\u001b[0m\u001b[0;34m)\u001b[0m\u001b[0;34m)\u001b[0m\u001b[0;34m)\u001b[0m\u001b[0;34m\u001b[0m\u001b[0;34m\u001b[0m\u001b[0m\n",
      "\u001b[0;32m~/.local/lib/python3.10/site-packages/py4j/java_gateway.py\u001b[0m in \u001b[0;36m__call__\u001b[0;34m(self, *args)\u001b[0m\n\u001b[1;32m   1321\u001b[0m         \u001b[0manswer\u001b[0m \u001b[0;34m=\u001b[0m \u001b[0mself\u001b[0m\u001b[0;34m.\u001b[0m\u001b[0mgateway_client\u001b[0m\u001b[0;34m.\u001b[0m\u001b[0msend_command\u001b[0m\u001b[0;34m(\u001b[0m\u001b[0mcommand\u001b[0m\u001b[0;34m)\u001b[0m\u001b[0;34m\u001b[0m\u001b[0;34m\u001b[0m\u001b[0m\n\u001b[0;32m-> 1322\u001b[0;31m         return_value = get_return_value(\n\u001b[0m\u001b[1;32m   1323\u001b[0m             answer, self.gateway_client, self.target_id, self.name)\n",
      "\u001b[0;32m~/.local/lib/python3.10/site-packages/pyspark/errors/exceptions/captured.py\u001b[0m in \u001b[0;36mdeco\u001b[0;34m(*a, **kw)\u001b[0m\n\u001b[1;32m    170\u001b[0m         \u001b[0;32mexcept\u001b[0m \u001b[0mPy4JJavaError\u001b[0m \u001b[0;32mas\u001b[0m \u001b[0me\u001b[0m\u001b[0;34m:\u001b[0m\u001b[0;34m\u001b[0m\u001b[0;34m\u001b[0m\u001b[0m\n\u001b[0;32m--> 171\u001b[0;31m             \u001b[0mconverted\u001b[0m \u001b[0;34m=\u001b[0m \u001b[0mconvert_exception\u001b[0m\u001b[0;34m(\u001b[0m\u001b[0me\u001b[0m\u001b[0;34m.\u001b[0m\u001b[0mjava_exception\u001b[0m\u001b[0;34m)\u001b[0m\u001b[0;34m\u001b[0m\u001b[0;34m\u001b[0m\u001b[0m\n\u001b[0m\u001b[1;32m    172\u001b[0m             \u001b[0;32mif\u001b[0m \u001b[0;32mnot\u001b[0m \u001b[0misinstance\u001b[0m\u001b[0;34m(\u001b[0m\u001b[0mconverted\u001b[0m\u001b[0;34m,\u001b[0m \u001b[0mUnknownException\u001b[0m\u001b[0;34m)\u001b[0m\u001b[0;34m:\u001b[0m\u001b[0;34m\u001b[0m\u001b[0;34m\u001b[0m\u001b[0m\n",
      "\u001b[0;32m~/.local/lib/python3.10/site-packages/pyspark/errors/exceptions/captured.py\u001b[0m in \u001b[0;36mconvert_exception\u001b[0;34m(e)\u001b[0m\n\u001b[1;32m    162\u001b[0m \u001b[0;34m\u001b[0m\u001b[0m\n\u001b[0;32m--> 163\u001b[0;31m     \u001b[0;32mreturn\u001b[0m \u001b[0mUnknownException\u001b[0m\u001b[0;34m(\u001b[0m\u001b[0mdesc\u001b[0m\u001b[0;34m=\u001b[0m\u001b[0me\u001b[0m\u001b[0;34m.\u001b[0m\u001b[0mtoString\u001b[0m\u001b[0;34m(\u001b[0m\u001b[0;34m)\u001b[0m\u001b[0;34m,\u001b[0m \u001b[0mstackTrace\u001b[0m\u001b[0;34m=\u001b[0m\u001b[0mstacktrace\u001b[0m\u001b[0;34m,\u001b[0m \u001b[0mcause\u001b[0m\u001b[0;34m=\u001b[0m\u001b[0mc\u001b[0m\u001b[0;34m)\u001b[0m\u001b[0;34m\u001b[0m\u001b[0;34m\u001b[0m\u001b[0m\n\u001b[0m\u001b[1;32m    164\u001b[0m \u001b[0;34m\u001b[0m\u001b[0m\n",
      "\u001b[0;32m~/.local/lib/python3.10/site-packages/pyspark/errors/exceptions/captured.py\u001b[0m in \u001b[0;36m__init__\u001b[0;34m(self, desc, stackTrace, cause, origin)\u001b[0m\n\u001b[1;32m     63\u001b[0m         )\n\u001b[0;32m---> 64\u001b[0;31m         \u001b[0mself\u001b[0m\u001b[0;34m.\u001b[0m\u001b[0mcause\u001b[0m \u001b[0;34m=\u001b[0m \u001b[0mconvert_exception\u001b[0m\u001b[0;34m(\u001b[0m\u001b[0mcause\u001b[0m\u001b[0;34m)\u001b[0m \u001b[0;32mif\u001b[0m \u001b[0mcause\u001b[0m \u001b[0;32mis\u001b[0m \u001b[0;32mnot\u001b[0m \u001b[0;32mNone\u001b[0m \u001b[0;32melse\u001b[0m \u001b[0;32mNone\u001b[0m\u001b[0;34m\u001b[0m\u001b[0;34m\u001b[0m\u001b[0m\n\u001b[0m\u001b[1;32m     65\u001b[0m         \u001b[0;32mif\u001b[0m \u001b[0mself\u001b[0m\u001b[0;34m.\u001b[0m\u001b[0mcause\u001b[0m \u001b[0;32mis\u001b[0m \u001b[0;32mNone\u001b[0m \u001b[0;32mand\u001b[0m \u001b[0morigin\u001b[0m \u001b[0;32mis\u001b[0m \u001b[0;32mnot\u001b[0m \u001b[0;32mNone\u001b[0m \u001b[0;32mand\u001b[0m \u001b[0morigin\u001b[0m\u001b[0;34m.\u001b[0m\u001b[0mgetCause\u001b[0m\u001b[0;34m(\u001b[0m\u001b[0;34m)\u001b[0m \u001b[0;32mis\u001b[0m \u001b[0;32mnot\u001b[0m \u001b[0;32mNone\u001b[0m\u001b[0;34m:\u001b[0m\u001b[0;34m\u001b[0m\u001b[0;34m\u001b[0m\u001b[0m\n",
      "\u001b[0;32m~/.local/lib/python3.10/site-packages/pyspark/errors/exceptions/captured.py\u001b[0m in \u001b[0;36mconvert_exception\u001b[0;34m(e)\u001b[0m\n\u001b[1;32m    125\u001b[0m         \u001b[0;32mreturn\u001b[0m \u001b[0mAnalysisException\u001b[0m\u001b[0;34m(\u001b[0m\u001b[0morigin\u001b[0m\u001b[0;34m=\u001b[0m\u001b[0me\u001b[0m\u001b[0;34m)\u001b[0m\u001b[0;34m\u001b[0m\u001b[0;34m\u001b[0m\u001b[0m\n\u001b[0;32m--> 126\u001b[0;31m     \u001b[0;32melif\u001b[0m \u001b[0mis_instance_of\u001b[0m\u001b[0;34m(\u001b[0m\u001b[0mgw\u001b[0m\u001b[0;34m,\u001b[0m \u001b[0me\u001b[0m\u001b[0;34m,\u001b[0m \u001b[0;34m\"org.apache.spark.sql.streaming.StreamingQueryException\"\u001b[0m\u001b[0;34m)\u001b[0m\u001b[0;34m:\u001b[0m\u001b[0;34m\u001b[0m\u001b[0;34m\u001b[0m\u001b[0m\n\u001b[0m\u001b[1;32m    127\u001b[0m         \u001b[0;32mreturn\u001b[0m \u001b[0mStreamingQueryException\u001b[0m\u001b[0;34m(\u001b[0m\u001b[0morigin\u001b[0m\u001b[0;34m=\u001b[0m\u001b[0me\u001b[0m\u001b[0;34m)\u001b[0m\u001b[0;34m\u001b[0m\u001b[0;34m\u001b[0m\u001b[0m\n",
      "\u001b[0;32m~/.local/lib/python3.10/site-packages/py4j/java_gateway.py\u001b[0m in \u001b[0;36mis_instance_of\u001b[0;34m(gateway, java_object, java_class)\u001b[0m\n\u001b[1;32m    463\u001b[0m \u001b[0;34m\u001b[0m\u001b[0m\n\u001b[0;32m--> 464\u001b[0;31m     return gateway.jvm.py4j.reflection.TypeUtil.isInstanceOf(\n\u001b[0m\u001b[1;32m    465\u001b[0m         param, java_object)\n",
      "\u001b[0;32m~/.local/lib/python3.10/site-packages/py4j/java_gateway.py\u001b[0m in \u001b[0;36m__getattr__\u001b[0;34m(self, name)\u001b[0m\n\u001b[1;32m   1724\u001b[0m                 \"{0} does not exist in the JVM\".format(name), error_message)\n\u001b[0;32m-> 1725\u001b[0;31m             \u001b[0;32mraise\u001b[0m \u001b[0mPy4JError\u001b[0m\u001b[0;34m(\u001b[0m\u001b[0mmessage\u001b[0m\u001b[0;34m)\u001b[0m\u001b[0;34m\u001b[0m\u001b[0;34m\u001b[0m\u001b[0m\n\u001b[0m\u001b[1;32m   1726\u001b[0m \u001b[0;34m\u001b[0m\u001b[0m\n",
      "\u001b[0;31mPy4JError\u001b[0m: py4j does not exist in the JVM",
      "\nDuring handling of the above exception, another exception occurred:\n",
      "\u001b[0;31mConnectionRefusedError\u001b[0m                    Traceback (most recent call last)",
      "\u001b[0;32m/tmp/ipykernel_59477/3047846701.py\u001b[0m in \u001b[0;36m<module>\u001b[0;34m\u001b[0m\n\u001b[0;32m----> 1\u001b[0;31m \u001b[0mdf\u001b[0m \u001b[0;34m=\u001b[0m \u001b[0mdf_may_2019\u001b[0m\u001b[0;34m.\u001b[0m\u001b[0mtoPandas\u001b[0m\u001b[0;34m(\u001b[0m\u001b[0;34m)\u001b[0m\u001b[0;34m\u001b[0m\u001b[0;34m\u001b[0m\u001b[0m\n\u001b[0m\u001b[1;32m      2\u001b[0m \u001b[0;34m\u001b[0m\u001b[0m\n\u001b[1;32m      3\u001b[0m \u001b[0;31m# Plot the breakdown of trip distance\u001b[0m\u001b[0;34m\u001b[0m\u001b[0;34m\u001b[0m\u001b[0m\n\u001b[1;32m      4\u001b[0m \u001b[0mplt\u001b[0m\u001b[0;34m.\u001b[0m\u001b[0mfigure\u001b[0m\u001b[0;34m(\u001b[0m\u001b[0mfigsize\u001b[0m\u001b[0;34m=\u001b[0m\u001b[0;34m(\u001b[0m\u001b[0;36m8\u001b[0m\u001b[0;34m,\u001b[0m \u001b[0;36m6\u001b[0m\u001b[0;34m)\u001b[0m\u001b[0;34m)\u001b[0m\u001b[0;34m\u001b[0m\u001b[0;34m\u001b[0m\u001b[0m\n\u001b[1;32m      5\u001b[0m \u001b[0msns\u001b[0m\u001b[0;34m.\u001b[0m\u001b[0mbarplot\u001b[0m\u001b[0;34m(\u001b[0m\u001b[0mx\u001b[0m\u001b[0;34m=\u001b[0m\u001b[0;34m'pickup_day_of_week'\u001b[0m\u001b[0;34m,\u001b[0m \u001b[0my\u001b[0m\u001b[0;34m=\u001b[0m\u001b[0;34m'avg_distance'\u001b[0m\u001b[0;34m,\u001b[0m \u001b[0mdata\u001b[0m\u001b[0;34m=\u001b[0m\u001b[0mdf\u001b[0m\u001b[0;34m)\u001b[0m\u001b[0;34m\u001b[0m\u001b[0;34m\u001b[0m\u001b[0m\n",
      "\u001b[0;32m~/.local/lib/python3.10/site-packages/pyspark/sql/pandas/conversion.py\u001b[0m in \u001b[0;36mtoPandas\u001b[0;34m(self)\u001b[0m\n\u001b[1;32m    206\u001b[0m \u001b[0;34m\u001b[0m\u001b[0m\n\u001b[1;32m    207\u001b[0m         \u001b[0;31m# Below is toPandas without Arrow optimization.\u001b[0m\u001b[0;34m\u001b[0m\u001b[0;34m\u001b[0m\u001b[0m\n\u001b[0;32m--> 208\u001b[0;31m         \u001b[0mpdf\u001b[0m \u001b[0;34m=\u001b[0m \u001b[0mpd\u001b[0m\u001b[0;34m.\u001b[0m\u001b[0mDataFrame\u001b[0m\u001b[0;34m.\u001b[0m\u001b[0mfrom_records\u001b[0m\u001b[0;34m(\u001b[0m\u001b[0mself\u001b[0m\u001b[0;34m.\u001b[0m\u001b[0mcollect\u001b[0m\u001b[0;34m(\u001b[0m\u001b[0;34m)\u001b[0m\u001b[0;34m,\u001b[0m \u001b[0mcolumns\u001b[0m\u001b[0;34m=\u001b[0m\u001b[0mself\u001b[0m\u001b[0;34m.\u001b[0m\u001b[0mcolumns\u001b[0m\u001b[0;34m)\u001b[0m\u001b[0;34m\u001b[0m\u001b[0;34m\u001b[0m\u001b[0m\n\u001b[0m\u001b[1;32m    209\u001b[0m         \u001b[0mcolumn_counter\u001b[0m \u001b[0;34m=\u001b[0m \u001b[0mCounter\u001b[0m\u001b[0;34m(\u001b[0m\u001b[0mself\u001b[0m\u001b[0;34m.\u001b[0m\u001b[0mcolumns\u001b[0m\u001b[0;34m)\u001b[0m\u001b[0;34m\u001b[0m\u001b[0;34m\u001b[0m\u001b[0m\n\u001b[1;32m    210\u001b[0m \u001b[0;34m\u001b[0m\u001b[0m\n",
      "\u001b[0;32m~/.local/lib/python3.10/site-packages/pyspark/sql/dataframe.py\u001b[0m in \u001b[0;36mcollect\u001b[0;34m(self)\u001b[0m\n\u001b[1;32m   1213\u001b[0m         \u001b[0;34m[\u001b[0m\u001b[0mRow\u001b[0m\u001b[0;34m(\u001b[0m\u001b[0mage\u001b[0m\u001b[0;34m=\u001b[0m\u001b[0;36m14\u001b[0m\u001b[0;34m,\u001b[0m \u001b[0mname\u001b[0m\u001b[0;34m=\u001b[0m\u001b[0;34m'Tom'\u001b[0m\u001b[0;34m)\u001b[0m\u001b[0;34m,\u001b[0m \u001b[0mRow\u001b[0m\u001b[0;34m(\u001b[0m\u001b[0mage\u001b[0m\u001b[0;34m=\u001b[0m\u001b[0;36m23\u001b[0m\u001b[0;34m,\u001b[0m \u001b[0mname\u001b[0m\u001b[0;34m=\u001b[0m\u001b[0;34m'Alice'\u001b[0m\u001b[0;34m)\u001b[0m\u001b[0;34m,\u001b[0m \u001b[0mRow\u001b[0m\u001b[0;34m(\u001b[0m\u001b[0mage\u001b[0m\u001b[0;34m=\u001b[0m\u001b[0;36m16\u001b[0m\u001b[0;34m,\u001b[0m \u001b[0mname\u001b[0m\u001b[0;34m=\u001b[0m\u001b[0;34m'Bob'\u001b[0m\u001b[0;34m)\u001b[0m\u001b[0;34m]\u001b[0m\u001b[0;34m\u001b[0m\u001b[0;34m\u001b[0m\u001b[0m\n\u001b[1;32m   1214\u001b[0m         \"\"\"\n\u001b[0;32m-> 1215\u001b[0;31m         \u001b[0;32mwith\u001b[0m \u001b[0mSCCallSiteSync\u001b[0m\u001b[0;34m(\u001b[0m\u001b[0mself\u001b[0m\u001b[0;34m.\u001b[0m\u001b[0m_sc\u001b[0m\u001b[0;34m)\u001b[0m\u001b[0;34m:\u001b[0m\u001b[0;34m\u001b[0m\u001b[0;34m\u001b[0m\u001b[0m\n\u001b[0m\u001b[1;32m   1216\u001b[0m             \u001b[0msock_info\u001b[0m \u001b[0;34m=\u001b[0m \u001b[0mself\u001b[0m\u001b[0;34m.\u001b[0m\u001b[0m_jdf\u001b[0m\u001b[0;34m.\u001b[0m\u001b[0mcollectToPython\u001b[0m\u001b[0;34m(\u001b[0m\u001b[0;34m)\u001b[0m\u001b[0;34m\u001b[0m\u001b[0;34m\u001b[0m\u001b[0m\n\u001b[1;32m   1217\u001b[0m         \u001b[0;32mreturn\u001b[0m \u001b[0mlist\u001b[0m\u001b[0;34m(\u001b[0m\u001b[0m_load_from_socket\u001b[0m\u001b[0;34m(\u001b[0m\u001b[0msock_info\u001b[0m\u001b[0;34m,\u001b[0m \u001b[0mBatchedSerializer\u001b[0m\u001b[0;34m(\u001b[0m\u001b[0mCPickleSerializer\u001b[0m\u001b[0;34m(\u001b[0m\u001b[0;34m)\u001b[0m\u001b[0;34m)\u001b[0m\u001b[0;34m)\u001b[0m\u001b[0;34m)\u001b[0m\u001b[0;34m\u001b[0m\u001b[0;34m\u001b[0m\u001b[0m\n",
      "\u001b[0;32m~/.local/lib/python3.10/site-packages/pyspark/traceback_utils.py\u001b[0m in \u001b[0;36m__exit__\u001b[0;34m(self, type, value, tb)\u001b[0m\n\u001b[1;32m     79\u001b[0m         \u001b[0mSCCallSiteSync\u001b[0m\u001b[0;34m.\u001b[0m\u001b[0m_spark_stack_depth\u001b[0m \u001b[0;34m-=\u001b[0m \u001b[0;36m1\u001b[0m\u001b[0;34m\u001b[0m\u001b[0;34m\u001b[0m\u001b[0m\n\u001b[1;32m     80\u001b[0m         \u001b[0;32mif\u001b[0m \u001b[0mSCCallSiteSync\u001b[0m\u001b[0;34m.\u001b[0m\u001b[0m_spark_stack_depth\u001b[0m \u001b[0;34m==\u001b[0m \u001b[0;36m0\u001b[0m\u001b[0;34m:\u001b[0m\u001b[0;34m\u001b[0m\u001b[0;34m\u001b[0m\u001b[0m\n\u001b[0;32m---> 81\u001b[0;31m             \u001b[0mself\u001b[0m\u001b[0;34m.\u001b[0m\u001b[0m_context\u001b[0m\u001b[0;34m.\u001b[0m\u001b[0m_jsc\u001b[0m\u001b[0;34m.\u001b[0m\u001b[0msetCallSite\u001b[0m\u001b[0;34m(\u001b[0m\u001b[0;32mNone\u001b[0m\u001b[0;34m)\u001b[0m\u001b[0;34m\u001b[0m\u001b[0;34m\u001b[0m\u001b[0m\n\u001b[0m",
      "\u001b[0;32m~/.local/lib/python3.10/site-packages/py4j/java_gateway.py\u001b[0m in \u001b[0;36m__call__\u001b[0;34m(self, *args)\u001b[0m\n\u001b[1;32m   1319\u001b[0m             \u001b[0mproto\u001b[0m\u001b[0;34m.\u001b[0m\u001b[0mEND_COMMAND_PART\u001b[0m\u001b[0;34m\u001b[0m\u001b[0;34m\u001b[0m\u001b[0m\n\u001b[1;32m   1320\u001b[0m \u001b[0;34m\u001b[0m\u001b[0m\n\u001b[0;32m-> 1321\u001b[0;31m         \u001b[0manswer\u001b[0m \u001b[0;34m=\u001b[0m \u001b[0mself\u001b[0m\u001b[0;34m.\u001b[0m\u001b[0mgateway_client\u001b[0m\u001b[0;34m.\u001b[0m\u001b[0msend_command\u001b[0m\u001b[0;34m(\u001b[0m\u001b[0mcommand\u001b[0m\u001b[0;34m)\u001b[0m\u001b[0;34m\u001b[0m\u001b[0;34m\u001b[0m\u001b[0m\n\u001b[0m\u001b[1;32m   1322\u001b[0m         return_value = get_return_value(\n\u001b[1;32m   1323\u001b[0m             answer, self.gateway_client, self.target_id, self.name)\n",
      "\u001b[0;32m~/.local/lib/python3.10/site-packages/py4j/java_gateway.py\u001b[0m in \u001b[0;36msend_command\u001b[0;34m(self, command, retry, binary)\u001b[0m\n\u001b[1;32m   1034\u001b[0m          \u001b[0;32mif\u001b[0m\u001b[0;31m \u001b[0m\u001b[0;31m`\u001b[0m\u001b[0mbinary\u001b[0m\u001b[0;31m`\u001b[0m \u001b[0;32mis\u001b[0m\u001b[0;31m \u001b[0m\u001b[0;31m`\u001b[0m\u001b[0;32mTrue\u001b[0m\u001b[0;31m`\u001b[0m\u001b[0;34m.\u001b[0m\u001b[0;34m\u001b[0m\u001b[0;34m\u001b[0m\u001b[0m\n\u001b[1;32m   1035\u001b[0m         \"\"\"\n\u001b[0;32m-> 1036\u001b[0;31m         \u001b[0mconnection\u001b[0m \u001b[0;34m=\u001b[0m \u001b[0mself\u001b[0m\u001b[0;34m.\u001b[0m\u001b[0m_get_connection\u001b[0m\u001b[0;34m(\u001b[0m\u001b[0;34m)\u001b[0m\u001b[0;34m\u001b[0m\u001b[0;34m\u001b[0m\u001b[0m\n\u001b[0m\u001b[1;32m   1037\u001b[0m         \u001b[0;32mtry\u001b[0m\u001b[0;34m:\u001b[0m\u001b[0;34m\u001b[0m\u001b[0;34m\u001b[0m\u001b[0m\n\u001b[1;32m   1038\u001b[0m             \u001b[0mresponse\u001b[0m \u001b[0;34m=\u001b[0m \u001b[0mconnection\u001b[0m\u001b[0;34m.\u001b[0m\u001b[0msend_command\u001b[0m\u001b[0;34m(\u001b[0m\u001b[0mcommand\u001b[0m\u001b[0;34m)\u001b[0m\u001b[0;34m\u001b[0m\u001b[0;34m\u001b[0m\u001b[0m\n",
      "\u001b[0;32m~/.local/lib/python3.10/site-packages/py4j/clientserver.py\u001b[0m in \u001b[0;36m_get_connection\u001b[0;34m(self)\u001b[0m\n\u001b[1;32m    282\u001b[0m \u001b[0;34m\u001b[0m\u001b[0m\n\u001b[1;32m    283\u001b[0m         \u001b[0;32mif\u001b[0m \u001b[0mconnection\u001b[0m \u001b[0;32mis\u001b[0m \u001b[0;32mNone\u001b[0m \u001b[0;32mor\u001b[0m \u001b[0mconnection\u001b[0m\u001b[0;34m.\u001b[0m\u001b[0msocket\u001b[0m \u001b[0;32mis\u001b[0m \u001b[0;32mNone\u001b[0m\u001b[0;34m:\u001b[0m\u001b[0;34m\u001b[0m\u001b[0;34m\u001b[0m\u001b[0m\n\u001b[0;32m--> 284\u001b[0;31m             \u001b[0mconnection\u001b[0m \u001b[0;34m=\u001b[0m \u001b[0mself\u001b[0m\u001b[0;34m.\u001b[0m\u001b[0m_create_new_connection\u001b[0m\u001b[0;34m(\u001b[0m\u001b[0;34m)\u001b[0m\u001b[0;34m\u001b[0m\u001b[0;34m\u001b[0m\u001b[0m\n\u001b[0m\u001b[1;32m    285\u001b[0m         \u001b[0;32mreturn\u001b[0m \u001b[0mconnection\u001b[0m\u001b[0;34m\u001b[0m\u001b[0;34m\u001b[0m\u001b[0m\n\u001b[1;32m    286\u001b[0m \u001b[0;34m\u001b[0m\u001b[0m\n",
      "\u001b[0;32m~/.local/lib/python3.10/site-packages/py4j/clientserver.py\u001b[0m in \u001b[0;36m_create_new_connection\u001b[0;34m(self)\u001b[0m\n\u001b[1;32m    289\u001b[0m             \u001b[0mself\u001b[0m\u001b[0;34m.\u001b[0m\u001b[0mjava_parameters\u001b[0m\u001b[0;34m,\u001b[0m \u001b[0mself\u001b[0m\u001b[0;34m.\u001b[0m\u001b[0mpython_parameters\u001b[0m\u001b[0;34m,\u001b[0m\u001b[0;34m\u001b[0m\u001b[0;34m\u001b[0m\u001b[0m\n\u001b[1;32m    290\u001b[0m             self.gateway_property, self)\n\u001b[0;32m--> 291\u001b[0;31m         \u001b[0mconnection\u001b[0m\u001b[0;34m.\u001b[0m\u001b[0mconnect_to_java_server\u001b[0m\u001b[0;34m(\u001b[0m\u001b[0;34m)\u001b[0m\u001b[0;34m\u001b[0m\u001b[0;34m\u001b[0m\u001b[0m\n\u001b[0m\u001b[1;32m    292\u001b[0m         \u001b[0mself\u001b[0m\u001b[0;34m.\u001b[0m\u001b[0mset_thread_connection\u001b[0m\u001b[0;34m(\u001b[0m\u001b[0mconnection\u001b[0m\u001b[0;34m)\u001b[0m\u001b[0;34m\u001b[0m\u001b[0;34m\u001b[0m\u001b[0m\n\u001b[1;32m    293\u001b[0m         \u001b[0;32mreturn\u001b[0m \u001b[0mconnection\u001b[0m\u001b[0;34m\u001b[0m\u001b[0;34m\u001b[0m\u001b[0m\n",
      "\u001b[0;32m~/.local/lib/python3.10/site-packages/py4j/clientserver.py\u001b[0m in \u001b[0;36mconnect_to_java_server\u001b[0;34m(self)\u001b[0m\n\u001b[1;32m    436\u001b[0m                 self.socket = self.ssl_context.wrap_socket(\n\u001b[1;32m    437\u001b[0m                     self.socket, server_hostname=self.java_address)\n\u001b[0;32m--> 438\u001b[0;31m             \u001b[0mself\u001b[0m\u001b[0;34m.\u001b[0m\u001b[0msocket\u001b[0m\u001b[0;34m.\u001b[0m\u001b[0mconnect\u001b[0m\u001b[0;34m(\u001b[0m\u001b[0;34m(\u001b[0m\u001b[0mself\u001b[0m\u001b[0;34m.\u001b[0m\u001b[0mjava_address\u001b[0m\u001b[0;34m,\u001b[0m \u001b[0mself\u001b[0m\u001b[0;34m.\u001b[0m\u001b[0mjava_port\u001b[0m\u001b[0;34m)\u001b[0m\u001b[0;34m)\u001b[0m\u001b[0;34m\u001b[0m\u001b[0;34m\u001b[0m\u001b[0m\n\u001b[0m\u001b[1;32m    439\u001b[0m             \u001b[0mself\u001b[0m\u001b[0;34m.\u001b[0m\u001b[0mstream\u001b[0m \u001b[0;34m=\u001b[0m \u001b[0mself\u001b[0m\u001b[0;34m.\u001b[0m\u001b[0msocket\u001b[0m\u001b[0;34m.\u001b[0m\u001b[0mmakefile\u001b[0m\u001b[0;34m(\u001b[0m\u001b[0;34m\"rb\"\u001b[0m\u001b[0;34m)\u001b[0m\u001b[0;34m\u001b[0m\u001b[0;34m\u001b[0m\u001b[0m\n\u001b[1;32m    440\u001b[0m             \u001b[0mself\u001b[0m\u001b[0;34m.\u001b[0m\u001b[0mis_connected\u001b[0m \u001b[0;34m=\u001b[0m \u001b[0;32mTrue\u001b[0m\u001b[0;34m\u001b[0m\u001b[0;34m\u001b[0m\u001b[0m\n",
      "\u001b[0;31mConnectionRefusedError\u001b[0m: [Errno 111] Connection refused"
     ]
    }
   ],
   "source": [
    "df = df_may_2019.toPandas()\n",
    "\n",
    "# Plot the breakdown of trip distance\n",
    "plt.figure(figsize=(8, 6))\n",
    "sns.barplot(x='pickup_day_of_week', y='avg_distance', data=df)\n",
    "plt.xlabel('Day of Week')\n",
    "plt.ylabel('Average Trip Distance')\n",
    "plt.title('Breakdown of Trip Distance by Day of Week')\n",
    "plt.show()"
   ]
  },
  {
   "cell_type": "markdown",
   "id": "7455cabb",
   "metadata": {},
   "source": [
    "Filter and cache/persist the result: **July of 2020**"
   ]
  },
  {
   "cell_type": "code",
   "execution_count": null,
   "id": "537bf36f",
   "metadata": {},
   "outputs": [],
   "source": []
  },
  {
   "cell_type": "markdown",
   "id": "796bb8b9",
   "metadata": {},
   "source": [
    "Filter and cache/persist the result: **Septembre of 2021**"
   ]
  },
  {
   "cell_type": "code",
   "execution_count": null,
   "id": "2f0b8f5d",
   "metadata": {},
   "outputs": [],
   "source": []
  },
  {
   "cell_type": "markdown",
   "id": "5a72ec64",
   "metadata": {},
   "source": [
    "Filter and cache/persist the result: **February of 2022**"
   ]
  },
  {
   "cell_type": "code",
   "execution_count": null,
   "id": "cbf4b355",
   "metadata": {},
   "outputs": [],
   "source": []
  },
  {
   "cell_type": "markdown",
   "id": "d105249c",
>>>>>>> 40a8c522268f7a6410f41176699d255c1909bfde
   "metadata": {},
   "source": [
    "1. The number of pickups"
   ]
  },
  {
   "cell_type": "code",
   "execution_count": 34,
   "id": "88561b97",
   "metadata": {},
   "outputs": [],
   "source": [
    "counts_pickup = df_yel_filtered.groupby(dayofweek('tpep_pickup_datetime').alias('pickup_day'),\n",
    "                             hour('tpep_pickup_datetime').alias('pickup_hour')).count()\n",
    "#display the result\n",
    "#print(\"The number of pickups is: \", counts_pickup.count())"
   ]
  },
  {
   "cell_type": "markdown",
   "id": "355c23fd",
   "metadata": {},
   "source": [
    "2. The average fare"
   ]
  },
  {
   "cell_type": "code",
   "execution_count": 36,
   "id": "b3e41035",
   "metadata": {},
   "outputs": [
    {
     "name": "stderr",
     "output_type": "stream",
     "text": [
      "                                                                                \r"
     ]
    },
    {
     "data": {
      "text/html": [
       "<div>\n",
       "<style scoped>\n",
       "    .dataframe tbody tr th:only-of-type {\n",
       "        vertical-align: middle;\n",
       "    }\n",
       "\n",
       "    .dataframe tbody tr th {\n",
       "        vertical-align: top;\n",
       "    }\n",
       "\n",
       "    .dataframe thead th {\n",
       "        text-align: right;\n",
       "    }\n",
       "</style>\n",
       "<table border=\"1\" class=\"dataframe\">\n",
       "  <thead>\n",
       "    <tr style=\"text-align: right;\">\n",
       "      <th></th>\n",
       "      <th>pickup_day</th>\n",
       "      <th>pickup_hour</th>\n",
       "      <th>avg(fare_amount)</th>\n",
       "    </tr>\n",
       "  </thead>\n",
       "  <tbody>\n",
       "    <tr>\n",
       "      <th>24</th>\n",
       "      <td>6</td>\n",
       "      <td>0</td>\n",
       "      <td>18.936003</td>\n",
       "    </tr>\n",
       "    <tr>\n",
       "      <th>145</th>\n",
       "      <td>3</td>\n",
       "      <td>0</td>\n",
       "      <td>21.570778</td>\n",
       "    </tr>\n",
       "    <tr>\n",
       "      <th>161</th>\n",
       "      <td>7</td>\n",
       "      <td>0</td>\n",
       "      <td>15.510213</td>\n",
       "    </tr>\n",
       "    <tr>\n",
       "      <th>4</th>\n",
       "      <td>1</td>\n",
       "      <td>0</td>\n",
       "      <td>13.811086</td>\n",
       "    </tr>\n",
       "    <tr>\n",
       "      <th>26</th>\n",
       "      <td>4</td>\n",
       "      <td>0</td>\n",
       "      <td>21.233429</td>\n",
       "    </tr>\n",
       "    <tr>\n",
       "      <th>...</th>\n",
       "      <td>...</td>\n",
       "      <td>...</td>\n",
       "      <td>...</td>\n",
       "    </tr>\n",
       "    <tr>\n",
       "      <th>79</th>\n",
       "      <td>6</td>\n",
       "      <td>23</td>\n",
       "      <td>17.101817</td>\n",
       "    </tr>\n",
       "    <tr>\n",
       "      <th>76</th>\n",
       "      <td>1</td>\n",
       "      <td>23</td>\n",
       "      <td>26.152738</td>\n",
       "    </tr>\n",
       "    <tr>\n",
       "      <th>72</th>\n",
       "      <td>4</td>\n",
       "      <td>23</td>\n",
       "      <td>15.904403</td>\n",
       "    </tr>\n",
       "    <tr>\n",
       "      <th>60</th>\n",
       "      <td>5</td>\n",
       "      <td>23</td>\n",
       "      <td>16.632566</td>\n",
       "    </tr>\n",
       "    <tr>\n",
       "      <th>49</th>\n",
       "      <td>7</td>\n",
       "      <td>23</td>\n",
       "      <td>15.895743</td>\n",
       "    </tr>\n",
       "  </tbody>\n",
       "</table>\n",
       "<p>168 rows × 3 columns</p>\n",
       "</div>"
      ],
      "text/plain": [
       "     pickup_day  pickup_hour  avg(fare_amount)\n",
       "24            6            0         18.936003\n",
       "145           3            0         21.570778\n",
       "161           7            0         15.510213\n",
       "4             1            0         13.811086\n",
       "26            4            0         21.233429\n",
       "..          ...          ...               ...\n",
       "79            6           23         17.101817\n",
       "76            1           23         26.152738\n",
       "72            4           23         15.904403\n",
       "60            5           23         16.632566\n",
       "49            7           23         15.895743\n",
       "\n",
       "[168 rows x 3 columns]"
      ]
     },
     "execution_count": 36,
     "metadata": {},
     "output_type": "execute_result"
    }
   ],
   "source": [
    "avg_fare = df_yel_filtered.groupby(dayofweek('tpep_pickup_datetime').alias('pickup_day'),\n",
    "                        hour('tpep_pickup_datetime').alias('pickup_hour')).avg('fare_amount')\n",
    "#display the result\n",
    "#print(\"The average fare is: \" ,avg_fare)\n",
    "avg_fare=avg_fare.toPandas()\n",
    "avg_fare=avg_fare.sort_values(by=['pickup_hour'])\n",
    "avg_fare\n"
   ]
  },
  {
   "cell_type": "markdown",
   "id": "d3bc8e1b",
   "metadata": {},
   "source": [
    "3. The average trip duration"
   ]
  },
  {
   "cell_type": "code",
   "execution_count": 32,
   "id": "d6db28bd",
   "metadata": {},
   "outputs": [
    {
     "name": "stdout",
     "output_type": "stream",
     "text": [
      "The average trip duration is:  DataFrame[pickup_day: int, pickup_hour: int, avg(trip_distance): double]\n"
     ]
    }
   ],
   "source": [
    "avg_trip_duration = df_yel_filtered.groupby(dayofweek('tpep_pickup_datetime').alias('pickup_day'), \n",
    "                            hour('tpep_pickup_datetime').alias('pickup_hour')).avg('trip_distance')\n",
    "#display the result\n",
    "print(\"The average trip duration is: \", avg_trip_duration)"
   ]
  },
  {
   "cell_type": "markdown",
   "id": "bf5b41cc",
   "metadata": {},
   "source": [
    "4. Plot the average of ongoing trips"
   ]
  },
  {
   "cell_type": "code",
   "execution_count": 37,
   "id": "4022f33e",
   "metadata": {},
   "outputs": [
    {
     "data": {
      "image/png": "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\n",
      "text/plain": [
       "<Figure size 1000x600 with 1 Axes>"
      ]
     },
     "metadata": {},
     "output_type": "display_data"
    }
   ],
   "source": [
    "# convert into pandas dataframe\n",
    "df_yel_filtered = df_yel_filtered\n",
    "\n",
    "# Calculate the duration of each trip by subtracting the pickup datetime \n",
    "# from the dropoff datetime to get the trip duration in seconds.\n",
    "\n",
    "df_yel_filtered['trip_duration'] = (df_yel_filtered['tpep_dropoff_datetime'] - \n",
    "                                    df_yel_filtered['tpep_pickup_datetime']).dt.total_seconds()\n",
    "\n",
    "# Group the data by the desired time interval and calculate the average trip duration for each interval.\n",
    "\n",
    "average_trip_duration = df_yel_filtered.groupby(df_yel_filtered['tpep_pickup_datetime'].dt.hour)['trip_duration'].mean()\n",
    "\n",
    "# the plot\n",
    "plt.figure(figsize=(10, 6)) \n",
    "plt.bar(average_trip_duration.index, average_trip_duration.values)\n",
    "plt.xlabel('Hour')\n",
    "plt.ylabel('Average Trip Duration (seconds)')\n",
    "plt.title('Average Trip Duration by Hour')\n",
    "plt.xticks(average_trip_duration.index)\n",
    "plt.grid(True) \n",
    "plt.show()\n"
   ]
  },
  {
   "cell_type": "code",
   "execution_count": null,
   "id": "0fc8e756",
   "metadata": {},
   "outputs": [],
   "source": []
  }
 ],
 "metadata": {
  "kernelspec": {
   "display_name": "Python 3 (ipykernel)",
   "language": "python",
   "name": "python3"
  },
  "language_info": {
   "codemirror_mode": {
    "name": "ipython",
    "version": 3
   },
   "file_extension": ".py",
   "mimetype": "text/x-python",
   "name": "python",
   "nbconvert_exporter": "python",
   "pygments_lexer": "ipython3",
   "version": "3.10.6"
  }
 },
 "nbformat": 4,
 "nbformat_minor": 5
}
