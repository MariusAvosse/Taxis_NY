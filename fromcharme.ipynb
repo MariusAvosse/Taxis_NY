{
 "cells": [
  {
   "cell_type": "code",
   "execution_count": 1,
   "id": "e311d759",
   "metadata": {},
   "outputs": [
    {
     "name": "stdout",
     "output_type": "stream",
     "text": [
      "Defaulting to user installation because normal site-packages is not writeable\n",
      "Collecting geojson\n",
      "  Downloading geojson-3.0.1-py3-none-any.whl (15 kB)\n",
      "Collecting geopandas\n",
      "  Downloading geopandas-0.13.0-py3-none-any.whl (1.1 MB)\n",
      "\u001b[2K     \u001b[38;2;114;156;31m━━━━━━━━━━━━━━━━━━━━━━━━━━━━━━━━━━━━━━━━\u001b[0m \u001b[32m1.1/1.1 MB\u001b[0m \u001b[31m866.9 kB/s\u001b[0m eta \u001b[36m0:00:00\u001b[0mm eta \u001b[36m0:00:01\u001b[0m0:01\u001b[0m:01\u001b[0m\n",
      "\u001b[?25hCollecting plotly\n",
      "  Downloading plotly-5.14.1-py2.py3-none-any.whl (15.3 MB)\n",
      "\u001b[2K     \u001b[38;2;114;156;31m━━━━━━━━━━━━━━━━━━━━━━━━━━━━━━━━━━━━━━━\u001b[0m \u001b[32m15.3/15.3 MB\u001b[0m \u001b[31m578.3 kB/s\u001b[0m eta \u001b[36m0:00:00\u001b[0mm eta \u001b[36m0:00:01\u001b[0m[36m0:00:01\u001b[0m\n",
      "\u001b[?25hCollecting fiona>=1.8.19 (from geopandas)\n",
      "  Downloading Fiona-1.9.4-cp38-cp38-manylinux_2_17_x86_64.manylinux2014_x86_64.whl (16.5 MB)\n",
      "\u001b[2K     \u001b[38;2;114;156;31m━━━━━━━━━━━━━━━━━━━━━━━━━━━━━━━━━━━━━━━━\u001b[0m \u001b[32m16.5/16.5 MB\u001b[0m \u001b[31m1.2 MB/s\u001b[0m eta \u001b[36m0:00:00\u001b[0mm eta \u001b[36m0:00:01\u001b[0m[36m0:00:01\u001b[0mm\n",
      "\u001b[?25hRequirement already satisfied: packaging in /home/charme/.local/lib/python3.8/site-packages (from geopandas) (21.3)\n",
      "Requirement already satisfied: pandas>=1.1.0 in /home/charme/.local/lib/python3.8/site-packages (from geopandas) (1.3.5)\n",
      "Collecting pyproj>=3.0.1 (from geopandas)\n",
      "  Downloading pyproj-3.5.0-cp38-cp38-manylinux_2_17_x86_64.manylinux2014_x86_64.whl (7.8 MB)\n",
      "\u001b[2K     \u001b[38;2;114;156;31m━━━━━━━━━━━━━━━━━━━━━━━━━━━━━━━━━━━━━━━━\u001b[0m \u001b[32m7.8/7.8 MB\u001b[0m \u001b[31m1.2 MB/s\u001b[0m eta \u001b[36m0:00:00\u001b[0mm eta \u001b[36m0:00:01\u001b[0m[36m0:00:01\u001b[0m\n",
      "\u001b[?25hCollecting shapely>=1.7.1 (from geopandas)\n",
      "  Downloading shapely-2.0.1-cp38-cp38-manylinux_2_17_x86_64.manylinux2014_x86_64.whl (2.3 MB)\n",
      "\u001b[2K     \u001b[38;2;114;156;31m━━━━━━━━━━━━━━━━━━━━━━━━━━━━━━━━━━━━━━━━\u001b[0m \u001b[32m2.3/2.3 MB\u001b[0m \u001b[31m1.4 MB/s\u001b[0m eta \u001b[36m0:00:00\u001b[0m[31m1.3 MB/s\u001b[0m eta \u001b[36m0:00:01\u001b[0m\n",
      "\u001b[?25hCollecting tenacity>=6.2.0 (from plotly)\n",
      "  Downloading tenacity-8.2.2-py3-none-any.whl (24 kB)\n",
      "Requirement already satisfied: attrs>=19.2.0 in /home/charme/.local/lib/python3.8/site-packages (from fiona>=1.8.19->geopandas) (21.2.0)\n",
      "Requirement already satisfied: certifi in /usr/lib/python3/dist-packages (from fiona>=1.8.19->geopandas) (2019.11.28)\n",
      "Collecting click~=8.0 (from fiona>=1.8.19->geopandas)\n",
      "  Downloading click-8.1.3-py3-none-any.whl (96 kB)\n",
      "\u001b[2K     \u001b[38;2;114;156;31m━━━━━━━━━━━━━━━━━━━━━━━━━━━━━━━━━━━━━━━━\u001b[0m \u001b[32m96.6/96.6 kB\u001b[0m \u001b[31m1.4 MB/s\u001b[0m eta \u001b[36m0:00:00\u001b[0m[31m1.4 MB/s\u001b[0m eta \u001b[36m0:00:01\u001b[0m\n",
      "\u001b[?25hCollecting click-plugins>=1.0 (from fiona>=1.8.19->geopandas)\n",
      "  Downloading click_plugins-1.1.1-py2.py3-none-any.whl (7.5 kB)\n",
      "Collecting cligj>=0.5 (from fiona>=1.8.19->geopandas)\n",
      "  Downloading cligj-0.7.2-py3-none-any.whl (7.1 kB)\n",
      "Requirement already satisfied: six in /home/charme/.local/lib/python3.8/site-packages (from fiona>=1.8.19->geopandas) (1.16.0)\n",
      "Requirement already satisfied: importlib-metadata in /home/charme/.local/lib/python3.8/site-packages (from fiona>=1.8.19->geopandas) (4.10.1)\n",
      "Requirement already satisfied: python-dateutil>=2.7.3 in /home/charme/.local/lib/python3.8/site-packages (from pandas>=1.1.0->geopandas) (2.8.2)\n",
      "Requirement already satisfied: pytz>=2017.3 in /usr/lib/python3/dist-packages (from pandas>=1.1.0->geopandas) (2019.3)\n",
      "Requirement already satisfied: numpy>=1.17.3 in /home/charme/.local/lib/python3.8/site-packages (from pandas>=1.1.0->geopandas) (1.21.2)\n",
      "Requirement already satisfied: pyparsing!=3.0.5,>=2.0.2 in /home/charme/.local/lib/python3.8/site-packages (from packaging->geopandas) (3.0.6)\n",
      "Requirement already satisfied: zipp>=0.5 in /home/charme/.local/lib/python3.8/site-packages (from importlib-metadata->fiona>=1.8.19->geopandas) (3.6.0)\n",
      "Installing collected packages: tenacity, shapely, pyproj, geojson, click, plotly, cligj, click-plugins, fiona, geopandas\n",
      "Successfully installed click-8.1.3 click-plugins-1.1.1 cligj-0.7.2 fiona-1.9.4 geojson-3.0.1 geopandas-0.13.0 plotly-5.14.1 pyproj-3.5.0 shapely-2.0.1 tenacity-8.2.2\n"
     ]
    }
   ],
   "source": [
    "!pip install geojson geopandas plotly"
   ]
  },
  {
   "cell_type": "code",
   "execution_count": 2,
   "id": "e1620e2e",
   "metadata": {},
   "outputs": [
    {
     "name": "stdout",
     "output_type": "stream",
     "text": [
      "Defaulting to user installation because normal site-packages is not writeable\n",
      "Collecting ipyleaflet\n",
      "  Downloading ipyleaflet-0.17.2-py3-none-any.whl (3.7 MB)\n",
      "\u001b[2K     \u001b[38;2;114;156;31m━━━━━━━━━━━━━━━━━━━━━━━━━━━━━━━━━━━━━━━━\u001b[0m \u001b[32m3.7/3.7 MB\u001b[0m \u001b[31m692.5 kB/s\u001b[0m eta \u001b[36m0:00:00\u001b[0mm eta \u001b[36m0:00:01\u001b[0m[36m0:00:01\u001b[0m\n",
      "\u001b[?25hRequirement already satisfied: ipywidgets<9,>=7.6.0 in /home/charme/.local/lib/python3.8/site-packages (from ipyleaflet) (7.6.5)\n",
      "Collecting traittypes<3,>=0.2.1 (from ipyleaflet)\n",
      "  Downloading traittypes-0.2.1-py2.py3-none-any.whl (8.6 kB)\n",
      "Collecting xyzservices>=2021.8.1 (from ipyleaflet)\n",
      "  Downloading xyzservices-2023.5.0-py3-none-any.whl (56 kB)\n",
      "\u001b[2K     \u001b[38;2;114;156;31m━━━━━━━━━━━━━━━━━━━━━━━━━━━━━━━━━━━━━━━━\u001b[0m \u001b[32m56.5/56.5 kB\u001b[0m \u001b[31m1.7 MB/s\u001b[0m eta \u001b[36m0:00:00\u001b[0m\n",
      "\u001b[?25hCollecting branca>=0.5.0 (from ipyleaflet)\n",
      "  Downloading branca-0.6.0-py3-none-any.whl (24 kB)\n",
      "Requirement already satisfied: jinja2 in /home/charme/.local/lib/python3.8/site-packages (from branca>=0.5.0->ipyleaflet) (3.0.3)\n",
      "Requirement already satisfied: ipykernel>=4.5.1 in /home/charme/.local/lib/python3.8/site-packages (from ipywidgets<9,>=7.6.0->ipyleaflet) (6.6.0)\n",
      "Requirement already satisfied: ipython-genutils~=0.2.0 in /home/charme/.local/lib/python3.8/site-packages (from ipywidgets<9,>=7.6.0->ipyleaflet) (0.2.0)\n",
      "Requirement already satisfied: traitlets>=4.3.1 in /home/charme/.local/lib/python3.8/site-packages (from ipywidgets<9,>=7.6.0->ipyleaflet) (5.1.1)\n",
      "Requirement already satisfied: nbformat>=4.2.0 in /home/charme/.local/lib/python3.8/site-packages (from ipywidgets<9,>=7.6.0->ipyleaflet) (5.1.3)\n",
      "Requirement already satisfied: widgetsnbextension~=3.5.0 in /home/charme/.local/lib/python3.8/site-packages (from ipywidgets<9,>=7.6.0->ipyleaflet) (3.5.2)\n",
      "Requirement already satisfied: ipython>=4.0.0 in /home/charme/.local/lib/python3.8/site-packages (from ipywidgets<9,>=7.6.0->ipyleaflet) (7.30.1)\n",
      "Requirement already satisfied: jupyterlab-widgets>=1.0.0 in /home/charme/.local/lib/python3.8/site-packages (from ipywidgets<9,>=7.6.0->ipyleaflet) (1.0.2)\n",
      "Requirement already satisfied: debugpy<2.0,>=1.0.0 in /home/charme/.local/lib/python3.8/site-packages (from ipykernel>=4.5.1->ipywidgets<9,>=7.6.0->ipyleaflet) (1.5.1)\n",
      "Requirement already satisfied: jupyter-client<8.0 in /home/charme/.local/lib/python3.8/site-packages (from ipykernel>=4.5.1->ipywidgets<9,>=7.6.0->ipyleaflet) (7.1.0)\n",
      "Requirement already satisfied: tornado<7.0,>=4.2 in /home/charme/.local/lib/python3.8/site-packages (from ipykernel>=4.5.1->ipywidgets<9,>=7.6.0->ipyleaflet) (6.1)\n",
      "Requirement already satisfied: matplotlib-inline<0.2.0,>=0.1.0 in /home/charme/.local/lib/python3.8/site-packages (from ipykernel>=4.5.1->ipywidgets<9,>=7.6.0->ipyleaflet) (0.1.3)\n",
      "Requirement already satisfied: setuptools>=18.5 in /home/charme/.local/lib/python3.8/site-packages (from ipython>=4.0.0->ipywidgets<9,>=7.6.0->ipyleaflet) (59.5.0)\n",
      "Requirement already satisfied: jedi>=0.16 in /home/charme/.local/lib/python3.8/site-packages (from ipython>=4.0.0->ipywidgets<9,>=7.6.0->ipyleaflet) (0.18.1)\n",
      "Requirement already satisfied: decorator in /home/charme/.local/lib/python3.8/site-packages (from ipython>=4.0.0->ipywidgets<9,>=7.6.0->ipyleaflet) (5.1.0)\n",
      "Requirement already satisfied: pickleshare in /home/charme/.local/lib/python3.8/site-packages (from ipython>=4.0.0->ipywidgets<9,>=7.6.0->ipyleaflet) (0.7.5)\n",
      "Requirement already satisfied: prompt-toolkit!=3.0.0,!=3.0.1,<3.1.0,>=2.0.0 in /home/charme/.local/lib/python3.8/site-packages (from ipython>=4.0.0->ipywidgets<9,>=7.6.0->ipyleaflet) (3.0.23)\n",
      "Requirement already satisfied: pygments in /home/charme/.local/lib/python3.8/site-packages (from ipython>=4.0.0->ipywidgets<9,>=7.6.0->ipyleaflet) (2.10.0)\n",
      "Requirement already satisfied: backcall in /home/charme/.local/lib/python3.8/site-packages (from ipython>=4.0.0->ipywidgets<9,>=7.6.0->ipyleaflet) (0.2.0)\n",
      "Requirement already satisfied: pexpect>4.3 in /home/charme/.local/lib/python3.8/site-packages (from ipython>=4.0.0->ipywidgets<9,>=7.6.0->ipyleaflet) (4.8.0)\n",
      "Requirement already satisfied: jsonschema!=2.5.0,>=2.4 in /home/charme/.local/lib/python3.8/site-packages (from nbformat>=4.2.0->ipywidgets<9,>=7.6.0->ipyleaflet) (4.2.1)\n",
      "Requirement already satisfied: jupyter-core in /home/charme/.local/lib/python3.8/site-packages (from nbformat>=4.2.0->ipywidgets<9,>=7.6.0->ipyleaflet) (4.9.1)\n",
      "Requirement already satisfied: notebook>=4.4.1 in /home/charme/.local/lib/python3.8/site-packages (from widgetsnbextension~=3.5.0->ipywidgets<9,>=7.6.0->ipyleaflet) (6.4.6)\n",
      "Requirement already satisfied: MarkupSafe>=2.0 in /home/charme/.local/lib/python3.8/site-packages (from jinja2->branca>=0.5.0->ipyleaflet) (2.0.1)\n",
      "Requirement already satisfied: parso<0.9.0,>=0.8.0 in /home/charme/.local/lib/python3.8/site-packages (from jedi>=0.16->ipython>=4.0.0->ipywidgets<9,>=7.6.0->ipyleaflet) (0.8.3)\n",
      "Requirement already satisfied: attrs>=17.4.0 in /home/charme/.local/lib/python3.8/site-packages (from jsonschema!=2.5.0,>=2.4->nbformat>=4.2.0->ipywidgets<9,>=7.6.0->ipyleaflet) (21.2.0)\n",
      "Requirement already satisfied: pyrsistent!=0.17.0,!=0.17.1,!=0.17.2,>=0.14.0 in /home/charme/.local/lib/python3.8/site-packages (from jsonschema!=2.5.0,>=2.4->nbformat>=4.2.0->ipywidgets<9,>=7.6.0->ipyleaflet) (0.18.0)\n",
      "Requirement already satisfied: importlib-resources>=1.4.0 in /home/charme/.local/lib/python3.8/site-packages (from jsonschema!=2.5.0,>=2.4->nbformat>=4.2.0->ipywidgets<9,>=7.6.0->ipyleaflet) (5.4.0)\n",
      "Requirement already satisfied: entrypoints in /home/charme/.local/lib/python3.8/site-packages (from jupyter-client<8.0->ipykernel>=4.5.1->ipywidgets<9,>=7.6.0->ipyleaflet) (0.3)\n",
      "Requirement already satisfied: nest-asyncio>=1.5 in /home/charme/.local/lib/python3.8/site-packages (from jupyter-client<8.0->ipykernel>=4.5.1->ipywidgets<9,>=7.6.0->ipyleaflet) (1.5.4)\n",
      "Requirement already satisfied: python-dateutil>=2.1 in /home/charme/.local/lib/python3.8/site-packages (from jupyter-client<8.0->ipykernel>=4.5.1->ipywidgets<9,>=7.6.0->ipyleaflet) (2.8.2)\n",
      "Requirement already satisfied: pyzmq>=13 in /home/charme/.local/lib/python3.8/site-packages (from jupyter-client<8.0->ipykernel>=4.5.1->ipywidgets<9,>=7.6.0->ipyleaflet) (22.3.0)\n",
      "Requirement already satisfied: argon2-cffi in /home/charme/.local/lib/python3.8/site-packages (from notebook>=4.4.1->widgetsnbextension~=3.5.0->ipywidgets<9,>=7.6.0->ipyleaflet) (21.1.0)\n",
      "Requirement already satisfied: nbconvert in /home/charme/.local/lib/python3.8/site-packages (from notebook>=4.4.1->widgetsnbextension~=3.5.0->ipywidgets<9,>=7.6.0->ipyleaflet) (6.3.0)\n",
      "Requirement already satisfied: Send2Trash>=1.8.0 in /home/charme/.local/lib/python3.8/site-packages (from notebook>=4.4.1->widgetsnbextension~=3.5.0->ipywidgets<9,>=7.6.0->ipyleaflet) (1.8.0)\n",
      "Requirement already satisfied: terminado>=0.8.3 in /home/charme/.local/lib/python3.8/site-packages (from notebook>=4.4.1->widgetsnbextension~=3.5.0->ipywidgets<9,>=7.6.0->ipyleaflet) (0.12.1)\n",
      "Requirement already satisfied: prometheus-client in /home/charme/.local/lib/python3.8/site-packages (from notebook>=4.4.1->widgetsnbextension~=3.5.0->ipywidgets<9,>=7.6.0->ipyleaflet) (0.12.0)\n",
      "Requirement already satisfied: ptyprocess>=0.5 in /home/charme/.local/lib/python3.8/site-packages (from pexpect>4.3->ipython>=4.0.0->ipywidgets<9,>=7.6.0->ipyleaflet) (0.7.0)\n",
      "Requirement already satisfied: wcwidth in /home/charme/.local/lib/python3.8/site-packages (from prompt-toolkit!=3.0.0,!=3.0.1,<3.1.0,>=2.0.0->ipython>=4.0.0->ipywidgets<9,>=7.6.0->ipyleaflet) (0.2.5)\n",
      "Requirement already satisfied: zipp>=3.1.0 in /home/charme/.local/lib/python3.8/site-packages (from importlib-resources>=1.4.0->jsonschema!=2.5.0,>=2.4->nbformat>=4.2.0->ipywidgets<9,>=7.6.0->ipyleaflet) (3.6.0)\n",
      "Requirement already satisfied: six>=1.5 in /home/charme/.local/lib/python3.8/site-packages (from python-dateutil>=2.1->jupyter-client<8.0->ipykernel>=4.5.1->ipywidgets<9,>=7.6.0->ipyleaflet) (1.16.0)\n",
      "Requirement already satisfied: cffi>=1.0.0 in /home/charme/.local/lib/python3.8/site-packages (from argon2-cffi->notebook>=4.4.1->widgetsnbextension~=3.5.0->ipywidgets<9,>=7.6.0->ipyleaflet) (1.15.0)\n",
      "Requirement already satisfied: mistune<2,>=0.8.1 in /home/charme/.local/lib/python3.8/site-packages (from nbconvert->notebook>=4.4.1->widgetsnbextension~=3.5.0->ipywidgets<9,>=7.6.0->ipyleaflet) (0.8.4)\n",
      "Requirement already satisfied: jupyterlab-pygments in /home/charme/.local/lib/python3.8/site-packages (from nbconvert->notebook>=4.4.1->widgetsnbextension~=3.5.0->ipywidgets<9,>=7.6.0->ipyleaflet) (0.1.2)\n",
      "Requirement already satisfied: bleach in /home/charme/.local/lib/python3.8/site-packages (from nbconvert->notebook>=4.4.1->widgetsnbextension~=3.5.0->ipywidgets<9,>=7.6.0->ipyleaflet) (4.1.0)\n",
      "Requirement already satisfied: pandocfilters>=1.4.1 in /home/charme/.local/lib/python3.8/site-packages (from nbconvert->notebook>=4.4.1->widgetsnbextension~=3.5.0->ipywidgets<9,>=7.6.0->ipyleaflet) (1.5.0)\n",
      "Requirement already satisfied: testpath in /home/charme/.local/lib/python3.8/site-packages (from nbconvert->notebook>=4.4.1->widgetsnbextension~=3.5.0->ipywidgets<9,>=7.6.0->ipyleaflet) (0.5.0)\n",
      "Requirement already satisfied: defusedxml in /home/charme/.local/lib/python3.8/site-packages (from nbconvert->notebook>=4.4.1->widgetsnbextension~=3.5.0->ipywidgets<9,>=7.6.0->ipyleaflet) (0.7.1)\n",
      "Requirement already satisfied: nbclient<0.6.0,>=0.5.0 in /home/charme/.local/lib/python3.8/site-packages (from nbconvert->notebook>=4.4.1->widgetsnbextension~=3.5.0->ipywidgets<9,>=7.6.0->ipyleaflet) (0.5.9)\n",
      "Requirement already satisfied: pycparser in /home/charme/.local/lib/python3.8/site-packages (from cffi>=1.0.0->argon2-cffi->notebook>=4.4.1->widgetsnbextension~=3.5.0->ipywidgets<9,>=7.6.0->ipyleaflet) (2.21)\n"
     ]
    },
    {
     "name": "stdout",
     "output_type": "stream",
     "text": [
      "Requirement already satisfied: packaging in /home/charme/.local/lib/python3.8/site-packages (from bleach->nbconvert->notebook>=4.4.1->widgetsnbextension~=3.5.0->ipywidgets<9,>=7.6.0->ipyleaflet) (21.3)\n",
      "Requirement already satisfied: webencodings in /home/charme/.local/lib/python3.8/site-packages (from bleach->nbconvert->notebook>=4.4.1->widgetsnbextension~=3.5.0->ipywidgets<9,>=7.6.0->ipyleaflet) (0.5.1)\n",
      "Requirement already satisfied: pyparsing!=3.0.5,>=2.0.2 in /home/charme/.local/lib/python3.8/site-packages (from packaging->bleach->nbconvert->notebook>=4.4.1->widgetsnbextension~=3.5.0->ipywidgets<9,>=7.6.0->ipyleaflet) (3.0.6)\n",
      "Installing collected packages: xyzservices, traittypes, branca, ipyleaflet\n",
      "Successfully installed branca-0.6.0 ipyleaflet-0.17.2 traittypes-0.2.1 xyzservices-2023.5.0\n"
     ]
    }
   ],
   "source": [
    "!pip install ipyleaflet"
   ]
  },
  {
   "cell_type": "code",
   "execution_count": 19,
   "id": "b5b027b1",
   "metadata": {},
   "outputs": [],
   "source": [
    "import pandas as pd\n",
    "import numpy as np\n",
    "from pyspark.sql import SparkSession\n",
    "import seaborn as sns\n",
    "import pyspark.sql.functions as F\n",
    "import matplotlib.pyplot as plt\n"
   ]
  },
  {
   "cell_type": "code",
   "execution_count": 5,
   "id": "cc255317",
   "metadata": {},
   "outputs": [
    {
     "name": "stderr",
     "output_type": "stream",
     "text": [
      "23/05/23 14:59:57 WARN Utils: Your hostname, charme-VivoBook-ASUSLaptop-X512JA-X512JA resolves to a loopback address: 127.0.1.1; using 192.168.1.124 instead (on interface wlo1)\n",
      "23/05/23 14:59:57 WARN Utils: Set SPARK_LOCAL_IP if you need to bind to another address\n",
      "WARNING: An illegal reflective access operation has occurred\n",
      "WARNING: Illegal reflective access by org.apache.spark.unsafe.Platform (file:/usr/lib/spark/jars/spark-unsafe_2.12-3.2.0.jar) to constructor java.nio.DirectByteBuffer(long,int)\n",
      "WARNING: Please consider reporting this to the maintainers of org.apache.spark.unsafe.Platform\n",
      "WARNING: Use --illegal-access=warn to enable warnings of further illegal reflective access operations\n",
      "WARNING: All illegal access operations will be denied in a future release\n",
      "Using Spark's default log4j profile: org/apache/spark/log4j-defaults.properties\n",
      "Setting default log level to \"WARN\".\n",
      "To adjust logging level use sc.setLogLevel(newLevel). For SparkR, use setLogLevel(newLevel).\n",
      "23/05/23 15:00:08 WARN NativeCodeLoader: Unable to load native-hadoop library for your platform... using builtin-java classes where applicable\n"
     ]
    }
   ],
   "source": [
    "# Create a SparkSession\n",
    "spark = SparkSession.builder \\\n",
    "    .appName(\"DataTaxis\")\\\n",
    "    .getOrCreate()"
   ]
  },
  {
   "cell_type": "code",
   "execution_count": 17,
   "id": "638b3730",
   "metadata": {},
   "outputs": [
    {
     "name": "stdout",
     "output_type": "stream",
     "text": [
      "['VendorID', 'tpep_pickup_datetime', 'tpep_dropoff_datetime', 'passenger_count', 'trip_distance', 'RatecodeID', 'store_and_fwd_flag', 'PULocationID', 'DOLocationID', 'payment_type', 'fare_amount', 'extra', 'mta_tax', 'tip_amount', 'tolls_amount', 'improvement_surcharge', 'total_amount', 'congestion_surcharge', 'airport_fee']\n"
     ]
    },
    {
     "ename": "AnalysisException",
     "evalue": "cannot resolve 'column_name' given input columns: [DOLocationID, PULocationID, RatecodeID, VendorID, airport_fee, congestion_surcharge, extra, fare_amount, improvement_surcharge, mta_tax, passenger_count, payment_type, store_and_fwd_flag, tip_amount, tolls_amount, total_amount, tpep_dropoff_datetime, tpep_pickup_datetime, trip_distance];\n'RepartitionByExpression ['column_name], 10\n+- Relation [VendorID#222L,tpep_pickup_datetime#223,tpep_dropoff_datetime#224,passenger_count#225,trip_distance#226,RatecodeID#227,store_and_fwd_flag#228,PULocationID#229L,DOLocationID#230L,payment_type#231L,fare_amount#232,extra#233,mta_tax#234,tip_amount#235,tolls_amount#236,improvement_surcharge#237,total_amount#238,congestion_surcharge#239,airport_fee#240] parquet\n",
     "output_type": "error",
     "traceback": [
      "\u001b[0;31m---------------------------------------------------------------------------\u001b[0m",
      "\u001b[0;31mAnalysisException\u001b[0m                         Traceback (most recent call last)",
      "\u001b[0;32m/tmp/ipykernel_138574/1189683104.py\u001b[0m in \u001b[0;36m<module>\u001b[0;34m\u001b[0m\n\u001b[1;32m      6\u001b[0m \u001b[0;31m# Repartition the DataFrame by the specified column into 'num_partitions'\u001b[0m\u001b[0;34m\u001b[0m\u001b[0;34m\u001b[0m\u001b[0;34m\u001b[0m\u001b[0m\n\u001b[1;32m      7\u001b[0m \u001b[0mnum_partitions\u001b[0m \u001b[0;34m=\u001b[0m \u001b[0;36m10\u001b[0m\u001b[0;34m\u001b[0m\u001b[0;34m\u001b[0m\u001b[0m\n\u001b[0;32m----> 8\u001b[0;31m \u001b[0mrepartitioned_df\u001b[0m \u001b[0;34m=\u001b[0m \u001b[0mdf\u001b[0m\u001b[0;34m.\u001b[0m\u001b[0mrepartition\u001b[0m\u001b[0;34m(\u001b[0m\u001b[0mnum_partitions\u001b[0m\u001b[0;34m,\u001b[0m \u001b[0mpartition_column\u001b[0m\u001b[0;34m)\u001b[0m\u001b[0;34m\u001b[0m\u001b[0;34m\u001b[0m\u001b[0m\n\u001b[0m\u001b[1;32m      9\u001b[0m \u001b[0;34m\u001b[0m\u001b[0m\n\u001b[1;32m     10\u001b[0m \u001b[0;31m# Write the DataFrame as Parquet files\u001b[0m\u001b[0;34m\u001b[0m\u001b[0;34m\u001b[0m\u001b[0;34m\u001b[0m\u001b[0m\n",
      "\u001b[0;32m~/.local/lib/python3.8/site-packages/pyspark/sql/dataframe.py\u001b[0m in \u001b[0;36mrepartition\u001b[0;34m(self, numPartitions, *cols)\u001b[0m\n\u001b[1;32m    953\u001b[0m             \u001b[0;32melse\u001b[0m\u001b[0;34m:\u001b[0m\u001b[0;34m\u001b[0m\u001b[0;34m\u001b[0m\u001b[0m\n\u001b[1;32m    954\u001b[0m                 return DataFrame(\n\u001b[0;32m--> 955\u001b[0;31m                     self._jdf.repartition(numPartitions, self._jcols(*cols)), self.sql_ctx)\n\u001b[0m\u001b[1;32m    956\u001b[0m         \u001b[0;32melif\u001b[0m \u001b[0misinstance\u001b[0m\u001b[0;34m(\u001b[0m\u001b[0mnumPartitions\u001b[0m\u001b[0;34m,\u001b[0m \u001b[0;34m(\u001b[0m\u001b[0mstr\u001b[0m\u001b[0;34m,\u001b[0m \u001b[0mColumn\u001b[0m\u001b[0;34m)\u001b[0m\u001b[0;34m)\u001b[0m\u001b[0;34m:\u001b[0m\u001b[0;34m\u001b[0m\u001b[0;34m\u001b[0m\u001b[0m\n\u001b[1;32m    957\u001b[0m             \u001b[0mcols\u001b[0m \u001b[0;34m=\u001b[0m \u001b[0;34m(\u001b[0m\u001b[0mnumPartitions\u001b[0m\u001b[0;34m,\u001b[0m \u001b[0;34m)\u001b[0m \u001b[0;34m+\u001b[0m \u001b[0mcols\u001b[0m\u001b[0;34m\u001b[0m\u001b[0;34m\u001b[0m\u001b[0m\n",
      "\u001b[0;32m~/.local/lib/python3.8/site-packages/py4j/java_gateway.py\u001b[0m in \u001b[0;36m__call__\u001b[0;34m(self, *args)\u001b[0m\n\u001b[1;32m   1307\u001b[0m \u001b[0;34m\u001b[0m\u001b[0m\n\u001b[1;32m   1308\u001b[0m         \u001b[0manswer\u001b[0m \u001b[0;34m=\u001b[0m \u001b[0mself\u001b[0m\u001b[0;34m.\u001b[0m\u001b[0mgateway_client\u001b[0m\u001b[0;34m.\u001b[0m\u001b[0msend_command\u001b[0m\u001b[0;34m(\u001b[0m\u001b[0mcommand\u001b[0m\u001b[0;34m)\u001b[0m\u001b[0;34m\u001b[0m\u001b[0;34m\u001b[0m\u001b[0m\n\u001b[0;32m-> 1309\u001b[0;31m         return_value = get_return_value(\n\u001b[0m\u001b[1;32m   1310\u001b[0m             answer, self.gateway_client, self.target_id, self.name)\n\u001b[1;32m   1311\u001b[0m \u001b[0;34m\u001b[0m\u001b[0m\n",
      "\u001b[0;32m~/.local/lib/python3.8/site-packages/pyspark/sql/utils.py\u001b[0m in \u001b[0;36mdeco\u001b[0;34m(*a, **kw)\u001b[0m\n\u001b[1;32m    115\u001b[0m                 \u001b[0;31m# Hide where the exception came from that shows a non-Pythonic\u001b[0m\u001b[0;34m\u001b[0m\u001b[0;34m\u001b[0m\u001b[0;34m\u001b[0m\u001b[0m\n\u001b[1;32m    116\u001b[0m                 \u001b[0;31m# JVM exception message.\u001b[0m\u001b[0;34m\u001b[0m\u001b[0;34m\u001b[0m\u001b[0;34m\u001b[0m\u001b[0m\n\u001b[0;32m--> 117\u001b[0;31m                 \u001b[0;32mraise\u001b[0m \u001b[0mconverted\u001b[0m \u001b[0;32mfrom\u001b[0m \u001b[0;32mNone\u001b[0m\u001b[0;34m\u001b[0m\u001b[0;34m\u001b[0m\u001b[0m\n\u001b[0m\u001b[1;32m    118\u001b[0m             \u001b[0;32melse\u001b[0m\u001b[0;34m:\u001b[0m\u001b[0;34m\u001b[0m\u001b[0;34m\u001b[0m\u001b[0m\n\u001b[1;32m    119\u001b[0m                 \u001b[0;32mraise\u001b[0m\u001b[0;34m\u001b[0m\u001b[0;34m\u001b[0m\u001b[0m\n",
      "\u001b[0;31mAnalysisException\u001b[0m: cannot resolve 'column_name' given input columns: [DOLocationID, PULocationID, RatecodeID, VendorID, airport_fee, congestion_surcharge, extra, fare_amount, improvement_surcharge, mta_tax, passenger_count, payment_type, store_and_fwd_flag, tip_amount, tolls_amount, total_amount, tpep_dropoff_datetime, tpep_pickup_datetime, trip_distance];\n'RepartitionByExpression ['column_name], 10\n+- Relation [VendorID#222L,tpep_pickup_datetime#223,tpep_dropoff_datetime#224,passenger_count#225,trip_distance#226,RatecodeID#227,store_and_fwd_flag#228,PULocationID#229L,DOLocationID#230L,payment_type#231L,fare_amount#232,extra#233,mta_tax#234,tip_amount#235,tolls_amount#236,improvement_surcharge#237,total_amount#238,congestion_surcharge#239,airport_fee#240] parquet\n"
     ]
    }
   ],
   "source": [
    "#Creating Parquet files with specified partitioning\n",
    "df= spark.read.parquet(\"yellow_tripdata_2019-03.parquet\")\n",
    "print(df.columns)\n",
    "partition_column = \"column_name\"\n",
    "\n",
    "# Repartition the DataFrame by the specified column into 'num_partitions'\n",
    "num_partitions = 10\n",
    "repartitioned_df = df.repartition(num_partitions, partition_column)\n",
    "\n",
    "# Write the DataFrame as Parquet files\n",
    "repartitioned_df.write.partitionBy(partition_column).parquet(\"yellow_tripdata_2019-03.parquet\")\n"
   ]
  },
  {
   "cell_type": "code",
   "execution_count": 7,
   "id": "94a1416b",
   "metadata": {},
   "outputs": [
    {
     "ename": "AnalysisException",
     "evalue": "path file:/home/charme/Téléchargements/Taxis_NY-master (1)/Taxis_NY-master/yellow_tripdata_2019-03.parquet already exists.",
     "output_type": "error",
     "traceback": [
      "\u001b[0;31m---------------------------------------------------------------------------\u001b[0m",
      "\u001b[0;31mAnalysisException\u001b[0m                         Traceback (most recent call last)",
      "\u001b[0;32m/tmp/ipykernel_138574/1642706713.py\u001b[0m in \u001b[0;36m<module>\u001b[0;34m\u001b[0m\n\u001b[1;32m      5\u001b[0m \u001b[0;34m\u001b[0m\u001b[0m\n\u001b[1;32m      6\u001b[0m \u001b[0;31m# Write the DataFrame as Parquet files\u001b[0m\u001b[0;34m\u001b[0m\u001b[0;34m\u001b[0m\u001b[0;34m\u001b[0m\u001b[0m\n\u001b[0;32m----> 7\u001b[0;31m \u001b[0mrepartitioned_df\u001b[0m\u001b[0;34m.\u001b[0m\u001b[0mwrite\u001b[0m\u001b[0;34m.\u001b[0m\u001b[0mparquet\u001b[0m\u001b[0;34m(\u001b[0m\u001b[0;34m\"yellow_tripdata_2019-03.parquet\"\u001b[0m\u001b[0;34m)\u001b[0m\u001b[0;34m\u001b[0m\u001b[0;34m\u001b[0m\u001b[0m\n\u001b[0m",
      "\u001b[0;32m~/.local/lib/python3.8/site-packages/pyspark/sql/readwriter.py\u001b[0m in \u001b[0;36mparquet\u001b[0;34m(self, path, mode, partitionBy, compression)\u001b[0m\n\u001b[1;32m    883\u001b[0m             \u001b[0mself\u001b[0m\u001b[0;34m.\u001b[0m\u001b[0mpartitionBy\u001b[0m\u001b[0;34m(\u001b[0m\u001b[0mpartitionBy\u001b[0m\u001b[0;34m)\u001b[0m\u001b[0;34m\u001b[0m\u001b[0;34m\u001b[0m\u001b[0m\n\u001b[1;32m    884\u001b[0m         \u001b[0mself\u001b[0m\u001b[0;34m.\u001b[0m\u001b[0m_set_opts\u001b[0m\u001b[0;34m(\u001b[0m\u001b[0mcompression\u001b[0m\u001b[0;34m=\u001b[0m\u001b[0mcompression\u001b[0m\u001b[0;34m)\u001b[0m\u001b[0;34m\u001b[0m\u001b[0;34m\u001b[0m\u001b[0m\n\u001b[0;32m--> 885\u001b[0;31m         \u001b[0mself\u001b[0m\u001b[0;34m.\u001b[0m\u001b[0m_jwrite\u001b[0m\u001b[0;34m.\u001b[0m\u001b[0mparquet\u001b[0m\u001b[0;34m(\u001b[0m\u001b[0mpath\u001b[0m\u001b[0;34m)\u001b[0m\u001b[0;34m\u001b[0m\u001b[0;34m\u001b[0m\u001b[0m\n\u001b[0m\u001b[1;32m    886\u001b[0m \u001b[0;34m\u001b[0m\u001b[0m\n\u001b[1;32m    887\u001b[0m     \u001b[0;32mdef\u001b[0m \u001b[0mtext\u001b[0m\u001b[0;34m(\u001b[0m\u001b[0mself\u001b[0m\u001b[0;34m,\u001b[0m \u001b[0mpath\u001b[0m\u001b[0;34m,\u001b[0m \u001b[0mcompression\u001b[0m\u001b[0;34m=\u001b[0m\u001b[0;32mNone\u001b[0m\u001b[0;34m,\u001b[0m \u001b[0mlineSep\u001b[0m\u001b[0;34m=\u001b[0m\u001b[0;32mNone\u001b[0m\u001b[0;34m)\u001b[0m\u001b[0;34m:\u001b[0m\u001b[0;34m\u001b[0m\u001b[0;34m\u001b[0m\u001b[0m\n",
      "\u001b[0;32m~/.local/lib/python3.8/site-packages/py4j/java_gateway.py\u001b[0m in \u001b[0;36m__call__\u001b[0;34m(self, *args)\u001b[0m\n\u001b[1;32m   1307\u001b[0m \u001b[0;34m\u001b[0m\u001b[0m\n\u001b[1;32m   1308\u001b[0m         \u001b[0manswer\u001b[0m \u001b[0;34m=\u001b[0m \u001b[0mself\u001b[0m\u001b[0;34m.\u001b[0m\u001b[0mgateway_client\u001b[0m\u001b[0;34m.\u001b[0m\u001b[0msend_command\u001b[0m\u001b[0;34m(\u001b[0m\u001b[0mcommand\u001b[0m\u001b[0;34m)\u001b[0m\u001b[0;34m\u001b[0m\u001b[0;34m\u001b[0m\u001b[0m\n\u001b[0;32m-> 1309\u001b[0;31m         return_value = get_return_value(\n\u001b[0m\u001b[1;32m   1310\u001b[0m             answer, self.gateway_client, self.target_id, self.name)\n\u001b[1;32m   1311\u001b[0m \u001b[0;34m\u001b[0m\u001b[0m\n",
      "\u001b[0;32m~/.local/lib/python3.8/site-packages/pyspark/sql/utils.py\u001b[0m in \u001b[0;36mdeco\u001b[0;34m(*a, **kw)\u001b[0m\n\u001b[1;32m    115\u001b[0m                 \u001b[0;31m# Hide where the exception came from that shows a non-Pythonic\u001b[0m\u001b[0;34m\u001b[0m\u001b[0;34m\u001b[0m\u001b[0;34m\u001b[0m\u001b[0m\n\u001b[1;32m    116\u001b[0m                 \u001b[0;31m# JVM exception message.\u001b[0m\u001b[0;34m\u001b[0m\u001b[0;34m\u001b[0m\u001b[0;34m\u001b[0m\u001b[0m\n\u001b[0;32m--> 117\u001b[0;31m                 \u001b[0;32mraise\u001b[0m \u001b[0mconverted\u001b[0m \u001b[0;32mfrom\u001b[0m \u001b[0;32mNone\u001b[0m\u001b[0;34m\u001b[0m\u001b[0;34m\u001b[0m\u001b[0m\n\u001b[0m\u001b[1;32m    118\u001b[0m             \u001b[0;32melse\u001b[0m\u001b[0;34m:\u001b[0m\u001b[0;34m\u001b[0m\u001b[0;34m\u001b[0m\u001b[0m\n\u001b[1;32m    119\u001b[0m                 \u001b[0;32mraise\u001b[0m\u001b[0;34m\u001b[0m\u001b[0;34m\u001b[0m\u001b[0m\n",
      "\u001b[0;31mAnalysisException\u001b[0m: path file:/home/charme/Téléchargements/Taxis_NY-master (1)/Taxis_NY-master/yellow_tripdata_2019-03.parquet already exists."
     ]
    }
   ],
   "source": [
    "#Modifying the number of partitions when (re)-creating Parquet files\n",
    "\n",
    "num_partitions = 5\n",
    "repartitioned_df = df.repartition(num_partitions)\n",
    "\n",
    "# Write the DataFrame as Parquet files\n",
    "repartitioned_df.write.parquet(\"yellow_tripdata_2019-03.parquet\")\n"
   ]
  },
  {
   "cell_type": "code",
   "execution_count": 8,
   "id": "7a1aa734",
   "metadata": {},
   "outputs": [
    {
     "data": {
      "text/plain": [
       "8"
      ]
     },
     "execution_count": 8,
     "metadata": {},
     "output_type": "execute_result"
    }
   ],
   "source": [
    "#1. To find the number of partitions of a DataFrame, we can use the rdd.getNumPartitions() method.\n",
    "\n",
    "num_partitions = df.rdd.getNumPartitions()\n",
    "num_partitions"
   ]
  },
  {
   "cell_type": "code",
   "execution_count": 9,
   "id": "54e7d0b1",
   "metadata": {},
   "outputs": [
    {
     "data": {
      "text/plain": [
       "DataFrame[VendorID: bigint, tpep_pickup_datetime: timestamp, tpep_dropoff_datetime: timestamp, passenger_count: double, trip_distance: double, RatecodeID: double, store_and_fwd_flag: string, PULocationID: bigint, DOLocationID: bigint, payment_type: bigint, fare_amount: double, extra: double, mta_tax: double, tip_amount: double, tolls_amount: double, improvement_surcharge: double, total_amount: double, congestion_surcharge: double, airport_fee: int]"
      ]
     },
     "execution_count": 9,
     "metadata": {},
     "output_type": "execute_result"
    }
   ],
   "source": [
    "#2. Yes, it is possible to tune the number of partitions at loading time. When reading data from Parquet files, we can use the repartition() method to adjust the number of partitions.\n",
    "\n",
    "num_partitions = 5\n",
    "df = spark.read.parquet(\"yellow_tripdata_2019-03.parquet\").repartition(num_partitions)\n",
    "df"
   ]
  },
  {
   "cell_type": "code",
   "execution_count": null,
   "id": "5c2b5c7e",
   "metadata": {},
   "outputs": [],
   "source": [
    "#3. We  may want to modify the number of partitions when (re)-creating Parquet files for performance optimization.\n",
    "# By adjusting the number of partitions, we can control the data distribution and parallelism, potentially improving \n",
    "# query execution time and resource utilization. Additionally, it allows us to align the partitions with specific \n",
    "# partitioning columns, enabling efficient partition pruning during queries, which can significantly speed up data retrieval."
   ]
  },
  {
   "cell_type": "code",
   "execution_count": null,
   "id": "8bee53a8",
   "metadata": {},
   "outputs": [],
   "source": [
    "# Investigate (at least) one month of data in 2019\n",
    "long_min = -74.10\n",
    "long_max = -73.70\n",
    "lat_min = 40.58\n",
    "lat_max = 40.90\n",
    "\n",
    "\n",
    "#1.Filter the 2019 data within the specified boundaries and count the number of trips for each value of passenger_count\n",
    "\n",
    "df_2019=df[(df['pickup_longitude'] >= long_min) & (df['pickup_longitude'] <= long_max) &\n",
    "               (df['pickup_latitude'] >= lat_min) & (df['pickup_latitude'] <= lat_max) &\n",
    "               (df['dropoff_longitude'] >= long_min) & (df['dropoff_longitude'] <= long_max) &\n",
    "               (df['dropoff_latitude'] >= lat_min) & (df['dropoff_latitude'] <= lat_max)]\n",
    "\n",
    "\n",
    "df_2019.na.drop()\n",
    "\n",
    "# Count the number of trips for each value of passenger_count\n",
    "passenger_counts = df_2019['passenger_count'].value_counts()\n",
    "\n",
    "# Plot the counts\n",
    "plt.figure(figsize=(8, 6))\n",
    "sns.barplot(x=passenger_counts.index, y=passenger_counts.values)\n",
    "plt.xlabel('Passenger Count')\n",
    "plt.ylabel('Number of Trips')\n",
    "plt.title('Number of Trips by Passenger Count (2019)')\n",
    "plt.show()"
   ]
  },
  {
   "cell_type": "code",
   "execution_count": null,
   "id": "138913ba",
   "metadata": {},
   "outputs": [],
   "source": [
    "#2. Investigate trips with zero passengers:\n",
    "\n",
    "# ----Trips with zero passengers might indicate that \n",
    "# the taxi was dispatched but no passengers boarded.\n",
    "\n",
    "# ---- To explore further, we can analyze the other \n",
    "# attributes of these trips, such as the trip distance,\n",
    "# duration, pickup/dropoff locations, and timestamps.\n"
   ]
  },
  {
   "cell_type": "code",
   "execution_count": 12,
   "id": "553935cd",
   "metadata": {},
   "outputs": [],
   "source": [
    "#3. Investigate trips with more than six passengers\n",
    "\n",
    "# ---- Trips with more than six passengers are relatively rare and may indicate\n",
    "# instances where multiple people exceeded the usual passenger limit or groups \n",
    "# using shared rides.\n",
    "\n",
    "# ---- Similar to trips with zero passengers, we can analyze other attributes \n",
    "# of these trips to understand their characteristics and potential anomalies."
   ]
  },
  {
   "cell_type": "code",
   "execution_count": null,
   "id": "4182997a",
   "metadata": {},
   "outputs": [],
   "source": [
    "#4. Find the largest distance traveled during the month\n",
    "\n",
    "# To find the largest distance traveled, we can calculate \n",
    "# the trip distance for each trip in the filtered data and \n",
    "# find the maximum value\n",
    "\n",
    "#\n",
    "\n",
    "largest_distance = df_2019['trip_distance'].max()\n",
    "print(\"Largest distance traveled: {:.2f} miles\".format(largest_distance))\n"
   ]
  },
  {
   "cell_type": "code",
   "execution_count": null,
   "id": "99e9c408",
   "metadata": {},
   "outputs": [],
   "source": [
    "# 5.Plot the distribution of trip_distance for non-zero distances less than 30 miles\n",
    "\n",
    "# Filter non-zero trip distances and distances less than 30 miles\n",
    "filtered_distances = df_2019[(df_2019['trip_distance'] > 0) & (df_2019['trip_distance'] < 30)]['trip_distance']\n",
    "\n",
    "# Plot the distribution using a histogram\n",
    "plt.figure(figsize=(8, 6))\n",
    "sns.histplot(filtered_distances, bins=30, kde=True)\n",
    "plt.xlabel('Trip Distance (miles)')\n",
    "plt.ylabel('Count')\n",
    "plt.title('Distribution of Trip Distance (2019)')\n",
    "plt.show()\n"
   ]
  },
  {
   "cell_type": "code",
   "execution_count": 22,
   "id": "752a1563",
   "metadata": {},
   "outputs": [
    {
     "data": {
      "text/plain": [
       "['VendorID',\n",
       " 'tpep_pickup_datetime',\n",
       " 'tpep_dropoff_datetime',\n",
       " 'passenger_count',\n",
       " 'trip_distance',\n",
       " 'RatecodeID',\n",
       " 'store_and_fwd_flag',\n",
       " 'PULocationID',\n",
       " 'DOLocationID',\n",
       " 'payment_type',\n",
       " 'fare_amount',\n",
       " 'extra',\n",
       " 'mta_tax',\n",
       " 'tip_amount',\n",
       " 'tolls_amount',\n",
       " 'improvement_surcharge',\n",
       " 'total_amount',\n",
       " 'congestion_surcharge',\n",
       " 'airport_fee']"
      ]
     },
     "execution_count": 22,
     "metadata": {},
     "output_type": "execute_result"
    }
   ],
   "source": [
    "df.columns"
   ]
  },
  {
   "cell_type": "code",
   "execution_count": 25,
   "id": "dcb30b54",
   "metadata": {},
   "outputs": [
    {
     "name": "stdout",
     "output_type": "stream",
     "text": [
      "== Physical Plan ==\n",
      "*(1) ColumnarToRow\n",
      "+- FileScan parquet [VendorID#222L,tpep_pickup_datetime#223,tpep_dropoff_datetime#224,passenger_count#225,trip_distance#226,RatecodeID#227,store_and_fwd_flag#228,PULocationID#229L,DOLocationID#230L,payment_type#231L,fare_amount#232,extra#233,mta_tax#234,tip_amount#235,tolls_amount#236,improvement_surcharge#237,total_amount#238,congestion_surcharge#239,airport_fee#240] Batched: true, DataFilters: [], Format: Parquet, Location: InMemoryFileIndex(1 paths)[file:/home/charme/Téléchargements/Taxis_NY-master (1)/Taxis_NY-master/..., PartitionFilters: [], PushedFilters: [], ReadSchema: struct<VendorID:bigint,tpep_pickup_datetime:timestamp,tpep_dropoff_datetime:timestamp,passenger_c...\n",
      "\n",
      "\n"
     ]
    }
   ],
   "source": [
    "df.explain()"
   ]
  },
  {
   "cell_type": "markdown",
   "id": "8573ea0b",
   "metadata": {},
   "source": [
    "2. Compare the Analyzed Logical Plan and Optimized Logical Plan:\n",
    "    Analyzed Logical Plan: This plan represents the logical operations after the analysis phase, where Spark resolves references, applies type checking, and performs other logical optimizations.\n",
    "    Optimized Logical Plan: This plan represents the logical operations after further optimization, such as predicate pushdown, column pruning, or constant folding.\n",
    "\n",
    "3-1. Compare the Physical Plan with the Optimized Logical Plan:\n",
    "    Physical Plan: This plan describes the actual execution strategy that Spark will use to process the query. It includes details about how the data will be read, transformed, and distributed across the worker nodes.\n",
    "3-2. Keywords and concepts in the Physical Plan that you would not expect in an RDBMS include:\n",
    "    Shuffle: This keyword indicates data shuffling, which involves redistributing data across partitions or nodes, often required for operations like joins or aggregations.\n",
    "    Exchange: This keyword represents the exchange of data between partitions or nodes.\n",
    "    Sort: This keyword indicates sorting operations performed during the query execution.\n",
    "    Broadcast: This keyword represents the broadcasting of small data to all worker nodes, typically used in join operations.\n",
    "    Code generation: This indicates that Spark generates code dynamically for specific operations to improve performance.\n",
    "    In an RDBMS, the physical plan might involve index scans, table scans, join algorithms, and disk-based operations. The specific keywords and concepts may vary depending on the RDBMS implementation."
   ]
  },
  {
   "cell_type": "markdown",
   "id": "ee32b1c0",
   "metadata": {},
   "source": [
    "4. Tasks in Spark refer to the individual units of work performed on the data. Each task processes a subset of the data and is executed on a single partition of a stage. The number of tasks within each stage may vary depending on the size of the data and the available resources. You can find the number of tasks for each stage in the Spark UI under the \"Stages\" tab."
   ]
  },
  {
   "cell_type": "code",
   "execution_count": 20,
   "id": "9154e302",
   "metadata": {},
   "outputs": [
    {
     "name": "stderr",
     "output_type": "stream",
     "text": [
      "                                                                                \r"
     ]
    },
    {
     "data": {
      "image/png": "[encoded data removed]",
      "text/plain": [
       "<Figure size 576x432 with 1 Axes>"
      ]
     },
     "metadata": {
      "needs_background": "light"
     },
     "output_type": "display_data"
    }
   ],
   "source": [
    "#1.To break down the trip distance distribution for each day of the week\n",
    "\n",
    "# df may be replace by df_2019\n",
    "\n",
    "# Extract the day of the week from the pickup datetime\n",
    "df_with_day_of_week = df.withColumn('pickup_day_of_week', F.dayofweek('tpep_pickup_datetime'))\n",
    "\n",
    "# Group by day of the week and calculate the distribution of trip distances\n",
    "distance_breakdown = df_with_day_of_week.groupBy('pickup_day_of_week').agg(F.mean('trip_distance').alias('avg_distance'))\n",
    "\n",
    "# Convert the result to a Pandas DataFrame for plotting\n",
    "distance_breakdown_pd = distance_breakdown.toPandas()\n",
    "\n",
    "# Plot the breakdown of trip distance\n",
    "plt.figure(figsize=(8, 6))\n",
    "sns.barplot(x='pickup_day_of_week', y='avg_distance', data=distance_breakdown_pd)\n",
    "plt.xlabel('Day of Week')\n",
    "plt.ylabel('Average Trip Distance')\n",
    "plt.title('Breakdown of Trip Distance by Day of Week')\n",
    "plt.show()\n"
   ]
  },
  {
   "cell_type": "code",
   "execution_count": 23,
   "id": "a11ebe39",
   "metadata": {},
   "outputs": [
    {
     "name": "stdout",
     "output_type": "stream",
     "text": [
      "Number of distinct pickup locations: 261\n"
     ]
    }
   ],
   "source": [
    "#2. To count the number of distinct pickup locations, we can use the following code:\n",
    "\n",
    "distinct_pickup_locations = df.select('PUlocationID').distinct().count()\n",
    "print(\"Number of distinct pickup locations:\", distinct_pickup_locations)\n"
   ]
  },
  {
   "cell_type": "code",
   "execution_count": 24,
   "id": "51deb204",
   "metadata": {},
   "outputs": [
    {
     "name": "stderr",
     "output_type": "stream",
     "text": [
      "\r",
      "[Stage 18:==================================================>       (7 + 1) / 8]\r"
     ]
    },
    {
     "name": "stdout",
     "output_type": "stream",
     "text": [
      "+------------+------------------+------------------+\n",
      "|PUlocationID|        total_tips|     total_profits|\n",
      "+------------+------------------+------------------+\n",
      "|          26|            165.38|            395.75|\n",
      "|          29|             56.83|            141.25|\n",
      "|          65|20356.180000000073|           8173.65|\n",
      "|         191|36.089999999999996|             424.5|\n",
      "|         222|              34.9|             401.0|\n",
      "|         243|2214.0100000000007|             874.0|\n",
      "|          54| 558.3500000000001|            147.25|\n",
      "|          19| 97.63999999999999|             152.5|\n",
      "|         113|243919.94999999137|          157734.5|\n",
      "|         112|4622.1900000000005|           1677.05|\n",
      "|         167|             90.62|             256.0|\n",
      "|         155|              58.0|             315.0|\n",
      "|         237| 530634.1000000244|398240.79999999993|\n",
      "|         241|            128.49|            159.75|\n",
      "|         198|331.59999999999997|             233.5|\n",
      "|          22|237.54000000000002|             251.5|\n",
      "|         130|5124.3400000000065|           1349.75|\n",
      "|         196|1530.1200000000001|             565.5|\n",
      "|           7|10788.720000000021|            5527.6|\n",
      "|          77|             55.65|             274.0|\n",
      "+------------+------------------+------------------+\n",
      "only showing top 20 rows\n",
      "\n"
     ]
    },
    {
     "name": "stderr",
     "output_type": "stream",
     "text": [
      "\r",
      "                                                                                \r"
     ]
    }
   ],
   "source": [
    "#3. To compute and display tips and profits as a function of the pickup location, we can use the following code:\n",
    "\n",
    "tips_profits_by_location = df.groupBy('PUlocationID').agg(F.sum('tip_amount').alias('total_tips'), F.sum('extra').alias('total_profits'))\n",
    "\n",
    "# Display the results\n",
    "tips_profits_by_location.show()\n"
   ]
  },
  {
   "cell_type": "code",
   "execution_count": null,
   "id": "2e023e96",
   "metadata": {},
   "outputs": [],
   "source": []
  }
 ],
 "metadata": {
  "kernelspec": {
   "display_name": "Python 3 (ipykernel)",
   "language": "python",
   "name": "python3"
  },
  "language_info": {
   "codemirror_mode": {
    "name": "ipython",
    "version": 3
   },
   "file_extension": ".py",
   "mimetype": "text/x-python",
   "name": "python",
   "nbconvert_exporter": "python",
   "pygments_lexer": "ipython3",
   "version": "3.8.10"
  }
 },
 "nbformat": 4,
 "nbformat_minor": 5
}
